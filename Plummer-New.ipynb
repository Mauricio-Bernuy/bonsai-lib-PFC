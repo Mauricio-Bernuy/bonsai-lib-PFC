{
 "cells": [
  {
   "cell_type": "code",
   "execution_count": 1,
   "metadata": {},
   "outputs": [],
   "source": [
    "#set up python modules (be sure to do this first)\n",
    "import matplotlib\n",
    "matplotlib.use('Agg')\n",
    "from matplotlib import pyplot as plt\n",
    "import numpy as np\n",
    "from mpl_toolkits.mplot3d import axes3d\n",
    "from IPython.core.display import Image\n",
    "import io\n",
    "import base64\n",
    "\n",
    "from IPython.core.display import HTML\n",
    "\n",
    "import bonsai # my custom wrapper library\n",
    "import tipsy # my custom .tipsy file utility "
   ]
  },
  {
   "cell_type": "code",
   "execution_count": 2,
   "metadata": {},
   "outputs": [],
   "source": [
    "import shutil\n",
    "import os\n",
    "\n",
    "def clear_data():\n",
    "    if os.path.exists('./data'):\n",
    "        shutil.rmtree('./data')\n",
    "    os.mkdir('./data')\n",
    "\n",
    "    if os.path.exists('./fig'):\n",
    "        shutil.rmtree('./fig')\n",
    "    os.mkdir('./fig')"
   ]
  },
  {
   "cell_type": "code",
   "execution_count": 10,
   "metadata": {},
   "outputs": [
    {
     "name": "stdout",
     "output_type": "stream",
     "text": [
      "yippe\n",
      "{\n",
      "    \"name\": \"NVIDIA GeForce GTX 1060 6GB\",\n",
      "    \"poll_rate\": 1,\n",
      "    \"count\": 10,\n",
      "    \"utilization.gpu\": [\n",
      "        34,\n",
      "        37,\n",
      "        37,\n",
      "        37,\n",
      "        37,\n",
      "        37,\n",
      "        37,\n",
      "        38,\n",
      "        38,\n",
      "        38\n",
      "    ],\n",
      "    \"memory.used\": [\n",
      "        488,\n",
      "        488,\n",
      "        484,\n",
      "        482,\n",
      "        481,\n",
      "        475,\n",
      "        475,\n",
      "        472,\n",
      "        472,\n",
      "        472\n",
      "    ],\n",
      "    \"memory.total\": 6077,\n",
      "    \"bonsai2_slowdust_memory_usage\": [\n",
      "        0,\n",
      "        0,\n",
      "        0,\n",
      "        0,\n",
      "        0,\n",
      "        0,\n",
      "        0,\n",
      "        0,\n",
      "        0,\n",
      "        0\n",
      "    ]\n",
      "}\n",
      "output at bonsai_gpustat_bonsai2_slowdust_4\n",
      "yippeout\n"
     ]
    }
   ],
   "source": [
    "from time import sleep\n",
    "\n",
    "with bonsai.measure_GPU(program_name='bonsai2_slowdust',poll_rate=1):\n",
    "    print(\"yippe\")\n",
    "    sleep(10)\n",
    "    print(\"yippeout\")"
   ]
  },
  {
   "cell_type": "markdown",
   "metadata": {},
   "source": [
    "test"
   ]
  },
  {
   "cell_type": "code",
   "execution_count": 12,
   "metadata": {},
   "outputs": [
    {
     "name": "stdout",
     "output_type": "stream",
     "text": [
      "../Bonsai/build/bonsai2_slowdust  --direct --plummer 650000 --snapname data/plummer_snap_mpi --snapiter 0.0625 -T 5 -dt 0.0625 --eps 0.05\n"
     ]
    },
    {
     "name": "stderr",
     "output_type": "stream",
     "text": [
      " Unknown ENV_VARIABLE:   -- Falling to basic forking method after MPI_Init, unsafe!\n",
      "Proc id: 0 @ Default , total processes: 1 (mpiInit) \n",
      "[INIT]\tUsed settings: \n",
      "[INIT]\tInput  filename \n",
      "[INIT]\tBonsai filename \n",
      "[INIT]\tLog filename gpuLog.log\n",
      "[INIT]\tTheta: \t\t0.75\t\teps: \t\t0.05\n",
      "[INIT]\tTimestep: \t0.0625\t\ttEnd: \t\t5\n",
      "[INIT]\titerEnd: \t1073741824\n",
      "[INIT]\tUse MPI-IO: \tNO\n",
      "[INIT]\tsnapshotFile: \tdata/plummer_snap_mpi\tsnapshotIter: \t0.0625\n",
      "[INIT]\tInput file: \t\t\tdevID: \t\t0\n",
      "[INIT]\tRemove dist: \t-1\n",
      "[INIT]\tRebuild tree every 1 timestep\n",
      "[INIT]\tRuntime logging is DISABLED \n",
      "[INIT]\tDirect gravitation is ENABLED\n",
      "[INIT]\tCode is built WITHOUT MPI Support \n"
     ]
    },
    {
     "name": "stdout",
     "output_type": "stream",
     "text": [
      "Using Plummer model with n= 650000 per process \n",
      "................................................................."
     ]
    },
    {
     "name": "stderr",
     "output_type": "stream",
     "text": [
      "Proc: 0 Bootup times: Tree/MPI: 0.195214 Threads/log: 8.2016e-05 IC-model: 0 \n",
      " Start iterating\n",
      "iter=0 : time= 0  Etot= 0.2500878182  Ekin= 0.250088   Epot= 1.45472e-07 : de= 0 ( 0 ) d(de)= 0 ( 0 ) t_sim=  1.00136e-05 sec\n",
      "iter=1 : time= 0.0625  Etot= 0.2500878182  Ekin= 0.250088   Epot= 1.45472e-07 : de= 0 ( 0 ) d(de)= 0 ( 0 ) t_sim=  3.94235 sec\n",
      "iter=2 : time= 0.125  Etot= 0.2500878182  Ekin= 0.250088   Epot= 1.45472e-07 : de= 0 ( 0 ) d(de)= 0 ( 0 ) t_sim=  7.86624 sec\n",
      "iter=3 : time= 0.1875  Etot= 0.2500878182  Ekin= 0.250088   Epot= 1.45472e-07 : de= 0 ( 0 ) d(de)= 0 ( 0 ) t_sim=  11.7724 sec\n",
      "iter=4 : time= 0.25  Etot= 0.2500878182  Ekin= 0.250088   Epot= 1.45472e-07 : de= 0 ( 0 ) d(de)= 0 ( 0 ) t_sim=  15.6998 sec\n",
      "iter=5 : time= 0.3125  Etot= 0.2500878182  Ekin= 0.250088   Epot= 1.45472e-07 : de= 0 ( 0 ) d(de)= 0 ( 0 ) t_sim=  19.6308 sec\n",
      "iter=6 : time= 0.375  Etot= 0.2500878182  Ekin= 0.250088   Epot= 1.45472e-07 : de= 0 ( 0 ) d(de)= 0 ( 0 ) t_sim=  23.5966 sec\n",
      "iter=7 : time= 0.4375  Etot= 0.2500878182  Ekin= 0.250088   Epot= 1.45472e-07 : de= 0 ( 0 ) d(de)= 0 ( 0 ) t_sim=  27.5328 sec\n",
      "iter=8 : time= 0.5  Etot= 0.2500878182  Ekin= 0.250088   Epot= 1.45472e-07 : de= 0 ( 0 ) d(de)= 0 ( 0 ) t_sim=  31.4959 sec\n",
      "iter=9 : time= 0.5625  Etot= 0.2500878182  Ekin= 0.250088   Epot= 1.45472e-07 : de= 0 ( 0 ) d(de)= 0 ( 0 ) t_sim=  35.4997 sec\n",
      "iter=10 : time= 0.625  Etot= 0.2500878182  Ekin= 0.250088   Epot= 1.45472e-07 : de= 0 ( 0 ) d(de)= 0 ( 0 ) t_sim=  39.4758 sec\n",
      "iter=11 : time= 0.6875  Etot= 0.2500878182  Ekin= 0.250088   Epot= 1.45472e-07 : de= 0 ( 0 ) d(de)= 0 ( 0 ) t_sim=  43.4726 sec\n",
      "iter=12 : time= 0.75  Etot= 0.2500878182  Ekin= 0.250088   Epot= 1.45472e-07 : de= 0 ( 0 ) d(de)= 0 ( 0 ) t_sim=  47.4665 sec\n",
      "iter=13 : time= 0.8125  Etot= 0.2500878182  Ekin= 0.250088   Epot= 1.45472e-07 : de= 0 ( 0 ) d(de)= 0 ( 0 ) t_sim=  51.4315 sec\n",
      "iter=14 : time= 0.875  Etot= 0.2500878182  Ekin= 0.250088   Epot= 1.45472e-07 : de= 0 ( 0 ) d(de)= 0 ( 0 ) t_sim=  55.3861 sec\n",
      "iter=15 : time= 0.9375  Etot= 0.2500878182  Ekin= 0.250088   Epot= 1.45472e-07 : de= 0 ( 0 ) d(de)= 0 ( 0 ) t_sim=  59.3572 sec\n",
      "iter=16 : time= 1  Etot= 0.2500878182  Ekin= 0.250088   Epot= 1.45472e-07 : de= 0 ( 0 ) d(de)= 0 ( 0 ) t_sim=  63.3248 sec\n",
      "iter=17 : time= 1.0625  Etot= 0.2500878182  Ekin= 0.250088   Epot= 1.45472e-07 : de= 0 ( 0 ) d(de)= 0 ( 0 ) t_sim=  67.3094 sec\n",
      "iter=18 : time= 1.125  Etot= 0.2500878182  Ekin= 0.250088   Epot= 1.45472e-07 : de= 0 ( 0 ) d(de)= 0 ( 0 ) t_sim=  71.2409 sec\n",
      "iter=19 : time= 1.1875  Etot= 0.2500878182  Ekin= 0.250088   Epot= 1.45472e-07 : de= 0 ( 0 ) d(de)= 0 ( 0 ) t_sim=  75.231 sec\n",
      "iter=20 : time= 1.25  Etot= 0.2500878182  Ekin= 0.250088   Epot= 1.45472e-07 : de= 0 ( 0 ) d(de)= 0 ( 0 ) t_sim=  79.2415 sec\n",
      "iter=21 : time= 1.3125  Etot= 0.2500878182  Ekin= 0.250088   Epot= 1.45472e-07 : de= 0 ( 0 ) d(de)= 0 ( 0 ) t_sim=  83.2811 sec\n",
      "iter=22 : time= 1.375  Etot= 0.2500878182  Ekin= 0.250088   Epot= 1.45472e-07 : de= 0 ( 0 ) d(de)= 0 ( 0 ) t_sim=  87.2663 sec\n",
      "iter=23 : time= 1.4375  Etot= 0.2500878182  Ekin= 0.250088   Epot= 1.45472e-07 : de= 0 ( 0 ) d(de)= 0 ( 0 ) t_sim=  91.2716 sec\n",
      "iter=24 : time= 1.5  Etot= 0.2500878182  Ekin= 0.250088   Epot= 1.45472e-07 : de= 0 ( 0 ) d(de)= 0 ( 0 ) t_sim=  95.216 sec\n",
      "iter=25 : time= 1.5625  Etot= 0.2500878182  Ekin= 0.250088   Epot= 1.45472e-07 : de= 0 ( 0 ) d(de)= 0 ( 0 ) t_sim=  99.1747 sec\n",
      "iter=26 : time= 1.625  Etot= 0.2500878182  Ekin= 0.250088   Epot= 1.45472e-07 : de= 0 ( 0 ) d(de)= 0 ( 0 ) t_sim=  103.127 sec\n",
      "iter=27 : time= 1.6875  Etot= 0.2500878182  Ekin= 0.250088   Epot= 1.45472e-07 : de= 0 ( 0 ) d(de)= 0 ( 0 ) t_sim=  107.142 sec\n",
      "iter=28 : time= 1.75  Etot= 0.2500878182  Ekin= 0.250088   Epot= 1.45472e-07 : de= 0 ( 0 ) d(de)= 0 ( 0 ) t_sim=  111.167 sec\n",
      "iter=29 : time= 1.8125  Etot= 0.2500878182  Ekin= 0.250088   Epot= 1.45472e-07 : de= 0 ( 0 ) d(de)= 0 ( 0 ) t_sim=  115.173 sec\n",
      "iter=30 : time= 1.875  Etot= 0.2500878182  Ekin= 0.250088   Epot= 1.45472e-07 : de= 0 ( 0 ) d(de)= 0 ( 0 ) t_sim=  119.231 sec\n",
      "iter=31 : time= 1.9375  Etot= 0.2500878182  Ekin= 0.250088   Epot= 1.45472e-07 : de= 0 ( 0 ) d(de)= 0 ( 0 ) t_sim=  123.175 sec\n"
     ]
    },
    {
     "name": "stdout",
     "output_type": "stream",
     "text": [
      "\n",
      "iter=0 : time= 0  Etot= 0.2500878182  Ekin= 0.250088   Epot= 1.45472e-07 : de= 0 ( 0 ) d(de)= 0 ( 0 ) t_sim=  9.53674e-07 sec\n",
      "iter=1 : time= 0.0625  Etot= 0.2500878182  Ekin= 0.250088   Epot= 1.45472e-07 : de= 0 ( 0 ) d(de)= 0 ( 0 ) t_sim=  3.94234 sec\n",
      "iter=2 : time= 0.125  Etot= 0.2500878182  Ekin= 0.250088   Epot= 1.45472e-07 : de= 0 ( 0 ) d(de)= 0 ( 0 ) t_sim=  7.86623 sec\n",
      "iter=3 : time= 0.1875  Etot= 0.2500878182  Ekin= 0.250088   Epot= 1.45472e-07 : de= 0 ( 0 ) d(de)= 0 ( 0 ) t_sim=  11.7724 sec\n",
      "iter=4 : time= 0.25  Etot= 0.2500878182  Ekin= 0.250088   Epot= 1.45472e-07 : de= 0 ( 0 ) d(de)= 0 ( 0 ) t_sim=  15.6998 sec\n",
      "iter=5 : time= 0.3125  Etot= 0.2500878182  Ekin= 0.250088   Epot= 1.45472e-07 : de= 0 ( 0 ) d(de)= 0 ( 0 ) t_sim=  19.6308 sec\n",
      "iter=6 : time= 0.375  Etot= 0.2500878182  Ekin= 0.250088   Epot= 1.45472e-07 : de= 0 ( 0 ) d(de)= 0 ( 0 ) t_sim=  23.5966 sec\n",
      "iter=7 : time= 0.4375  Etot= 0.2500878182  Ekin= 0.250088   Epot= 1.45472e-07 : de= 0 ( 0 ) d(de)= 0 ( 0 ) t_sim=  27.5328 sec\n",
      "iter=8 : time= 0.5  Etot= 0.2500878182  Ekin= 0.250088   Epot= 1.45472e-07 : de= 0 ( 0 ) d(de)= 0 ( 0 ) t_sim=  31.4959 sec\n",
      "iter=9 : time= 0.5625  Etot= 0.2500878182  Ekin= 0.250088   Epot= 1.45472e-07 : de= 0 ( 0 ) d(de)= 0 ( 0 ) t_sim=  35.4997 sec\n",
      "iter=10 : time= 0.625  Etot= 0.2500878182  Ekin= 0.250088   Epot= 1.45472e-07 : de= 0 ( 0 ) d(de)= 0 ( 0 ) t_sim=  39.4758 sec\n",
      "iter=11 : time= 0.6875  Etot= 0.2500878182  Ekin= 0.250088   Epot= 1.45472e-07 : de= 0 ( 0 ) d(de)= 0 ( 0 ) t_sim=  43.4726 sec\n",
      "iter=12 : time= 0.75  Etot= 0.2500878182  Ekin= 0.250088   Epot= 1.45472e-07 : de= 0 ( 0 ) d(de)= 0 ( 0 ) t_sim=  47.4665 sec\n",
      "iter=13 : time= 0.8125  Etot= 0.2500878182  Ekin= 0.250088   Epot= 1.45472e-07 : de= 0 ( 0 ) d(de)= 0 ( 0 ) t_sim=  51.4315 sec\n",
      "iter=14 : time= 0.875  Etot= 0.2500878182  Ekin= 0.250088   Epot= 1.45472e-07 : de= 0 ( 0 ) d(de)= 0 ( 0 ) t_sim=  55.3861 sec\n",
      "iter=15 : time= 0.9375  Etot= 0.2500878182  Ekin= 0.250088   Epot= 1.45472e-07 : de= 0 ( 0 ) d(de)= 0 ( 0 ) t_sim=  59.3572 sec\n",
      "iter=16 : time= 1  Etot= 0.2500878182  Ekin= 0.250088   Epot= 1.45472e-07 : de= 0 ( 0 ) d(de)= 0 ( 0 ) t_sim=  63.3248 sec\n",
      "iter=17 : time= 1.0625  Etot= 0.2500878182  Ekin= 0.250088   Epot= 1.45472e-07 : de= 0 ( 0 ) d(de)= 0 ( 0 ) t_sim=  67.3094 sec\n",
      "iter=18 : time= 1.125  Etot= 0.2500878182  Ekin= 0.250088   Epot= 1.45472e-07 : de= 0 ( 0 ) d(de)= 0 ( 0 ) t_sim=  71.2409 sec\n",
      "iter=19 : time= 1.1875  Etot= 0.2500878182  Ekin= 0.250088   Epot= 1.45472e-07 : de= 0 ( 0 ) d(de)= 0 ( 0 ) t_sim=  75.231 sec\n",
      "iter=20 : time= 1.25  Etot= 0.2500878182  Ekin= 0.250088   Epot= 1.45472e-07 : de= 0 ( 0 ) d(de)= 0 ( 0 ) t_sim=  79.2414 sec\n",
      "iter=21 : time= 1.3125  Etot= 0.2500878182  Ekin= 0.250088   Epot= 1.45472e-07 : de= 0 ( 0 ) d(de)= 0 ( 0 ) t_sim=  83.2811 sec\n",
      "iter=22 : time= 1.375  Etot= 0.2500878182  Ekin= 0.250088   Epot= 1.45472e-07 : de= 0 ( 0 ) d(de)= 0 ( 0 ) t_sim=  87.2663 sec\n",
      "iter=23 : time= 1.4375  Etot= 0.2500878182  Ekin= 0.250088   Epot= 1.45472e-07 : de= 0 ( 0 ) d(de)= 0 ( 0 ) t_sim=  91.2716 sec\n",
      "iter=24 : time= 1.5  Etot= 0.2500878182  Ekin= 0.250088   Epot= 1.45472e-07 : de= 0 ( 0 ) d(de)= 0 ( 0 ) t_sim=  95.216 sec\n",
      "iter=25 : time= 1.5625  Etot= 0.2500878182  Ekin= 0.250088   Epot= 1.45472e-07 : de= 0 ( 0 ) d(de)= 0 ( 0 ) t_sim=  99.1747 sec\n",
      "iter=26 : time= 1.625  Etot= 0.2500878182  Ekin= 0.250088   Epot= 1.45472e-07 : de= 0 ( 0 ) d(de)= 0 ( 0 ) t_sim=  103.127 sec\n",
      "iter=27 : time= 1.6875  Etot= 0.2500878182  Ekin= 0.250088   Epot= 1.45472e-07 : de= 0 ( 0 ) d(de)= 0 ( 0 ) t_sim=  107.142 sec\n",
      "iter=28 : time= 1.75  Etot= 0.2500878182  Ekin= 0.250088   Epot= 1.45472e-07 : de= 0 ( 0 ) d(de)= 0 ( 0 ) t_sim=  111.167 sec\n",
      "iter=29 : time= 1.8125  Etot= 0.2500878182  Ekin= 0.250088   Epot= 1.45472e-07 : de= 0 ( 0 ) d(de)= 0 ( 0 ) t_sim=  115.173 sec\n",
      "iter=30 : time= 1.875  Etot= 0.2500878182  Ekin= 0.250088   Epot= 1.45472e-07 : de= 0 ( 0 ) d(de)= 0 ( 0 ) t_sim=  119.231 sec\n",
      "iter=31 : time= 1.9375  Etot= 0.2500878182  Ekin= 0.250088   Epot= 1.45472e-07 : de= 0 ( 0 ) d(de)= 0 ( 0 ) t_sim=  123.175 sec\n",
      "iter=32 : time= 2  Etot= 0.2500878182  "
     ]
    },
    {
     "name": "stderr",
     "output_type": "stream",
     "text": [
      "iter=32 : time= 2  Etot= 0.2500878182  Ekin= 0.250088   Epot= 1.45472e-07 : de= 0 ( 0 ) d(de)= 0 ( 0 ) t_sim=  127.181 sec\n",
      "iter=33 : time= 2.0625  Etot= 0.2500878182  Ekin= 0.250088   Epot= 1.45472e-07 : de= 0 ( 0 ) d(de)= 0 ( 0 ) t_sim=  131.252 sec\n",
      "iter=34 : time= 2.125  Etot= 0.2500878182  Ekin= 0.250088   Epot= 1.45472e-07 : de= 0 ( 0 ) d(de)= 0 ( 0 ) t_sim=  135.204 sec\n",
      "iter=35 : time= 2.1875  Etot= 0.2500878182  Ekin= 0.250088   Epot= 1.45472e-07 : de= 0 ( 0 ) d(de)= 0 ( 0 ) t_sim=  139.196 sec\n",
      "iter=36 : time= 2.25  Etot= 0.2500878182  Ekin= 0.250088   Epot= 1.45472e-07 : de= 0 ( 0 ) d(de)= 0 ( 0 ) t_sim=  143.17 sec\n",
      "iter=37 : time= 2.3125  Etot= 0.2500878182  Ekin= 0.250088   Epot= 1.45472e-07 : de= 0 ( 0 ) d(de)= 0 ( 0 ) t_sim=  147.121 sec\n",
      "iter=38 : time= 2.375  Etot= 0.2500878182  Ekin= 0.250088   Epot= 1.45472e-07 : de= 0 ( 0 ) d(de)= 0 ( 0 ) t_sim=  151.107 sec\n",
      "iter=39 : time= 2.4375  Etot= 0.2500878182  Ekin= 0.250088   Epot= 1.45472e-07 : de= 0 ( 0 ) d(de)= 0 ( 0 ) t_sim=  155.058 sec\n",
      "iter=40 : time= 2.5  Etot= 0.2500878182  Ekin= 0.250088   Epot= 1.45472e-07 : de= 0 ( 0 ) d(de)= 0 ( 0 ) t_sim=  158.988 sec\n",
      "iter=41 : time= 2.5625  Etot= 0.2500878182  Ekin= 0.250088   Epot= 1.45472e-07 : de= 0 ( 0 ) d(de)= 0 ( 0 ) t_sim=  162.952 sec\n",
      "iter=42 : time= 2.625  Etot= 0.2500878182  Ekin= 0.250088   Epot= 1.45472e-07 : de= 0 ( 0 ) d(de)= 0 ( 0 ) t_sim=  166.958 sec\n",
      "iter=43 : time= 2.6875  Etot= 0.2500878182  Ekin= 0.250088   Epot= 1.45472e-07 : de= 0 ( 0 ) d(de)= 0 ( 0 ) t_sim=  170.926 sec\n",
      "iter=44 : time= 2.75  Etot= 0.2500878182  Ekin= 0.250088   Epot= 1.45472e-07 : de= 0 ( 0 ) d(de)= 0 ( 0 ) t_sim=  174.879 sec\n",
      "iter=45 : time= 2.8125  Etot= 0.2500878182  Ekin= 0.250088   Epot= 1.45472e-07 : de= 0 ( 0 ) d(de)= 0 ( 0 ) t_sim=  178.836 sec\n",
      "iter=46 : time= 2.875  Etot= 0.2500878182  Ekin= 0.250088   Epot= 1.45472e-07 : de= 0 ( 0 ) d(de)= 0 ( 0 ) t_sim=  182.821 sec\n",
      "iter=47 : time= 2.9375  Etot= 0.2500878182  Ekin= 0.250088   Epot= 1.45472e-07 : de= 0 ( 0 ) d(de)= 0 ( 0 ) t_sim=  186.796 sec\n",
      "iter=48 : time= 3  Etot= 0.2500878182  Ekin= 0.250088   Epot= 1.45472e-07 : de= 0 ( 0 ) d(de)= 0 ( 0 ) t_sim=  190.763 sec\n",
      "iter=49 : time= 3.0625  Etot= 0.2500878182  Ekin= 0.250088   Epot= 1.45472e-07 : de= 0 ( 0 ) d(de)= 0 ( 0 ) t_sim=  194.749 sec\n",
      "iter=50 : time= 3.125  Etot= 0.2500878182  Ekin= 0.250088   Epot= 1.45472e-07 : de= 0 ( 0 ) d(de)= 0 ( 0 ) t_sim=  198.665 sec\n",
      "iter=51 : time= 3.1875  Etot= 0.2500878182  Ekin= 0.250088   Epot= 1.45472e-07 : de= 0 ( 0 ) d(de)= 0 ( 0 ) t_sim=  202.651 sec\n",
      "iter=52 : time= 3.25  Etot= 0.2500878182  Ekin= 0.250088   Epot= 1.45472e-07 : de= 0 ( 0 ) d(de)= 0 ( 0 ) t_sim=  206.617 sec\n",
      "iter=53 : time= 3.3125  Etot= 0.2500878182  Ekin= 0.250088   Epot= 1.45472e-07 : de= 0 ( 0 ) d(de)= 0 ( 0 ) t_sim=  210.546 sec\n",
      "iter=54 : time= 3.375  Etot= 0.2500878182  Ekin= 0.250088   Epot= 1.45472e-07 : de= 0 ( 0 ) d(de)= 0 ( 0 ) t_sim=  214.492 sec\n",
      "iter=55 : time= 3.4375  Etot= 0.2500878182  Ekin= 0.250088   Epot= 1.45472e-07 : de= 0 ( 0 ) d(de)= 0 ( 0 ) t_sim=  218.418 sec\n",
      "iter=56 : time= 3.5  Etot= 0.2500878182  Ekin= 0.250088   Epot= 1.45472e-07 : de= 0 ( 0 ) d(de)= 0 ( 0 ) t_sim=  222.367 sec\n",
      "iter=57 : time= 3.5625  Etot= 0.2500878182  Ekin= 0.250088   Epot= 1.45472e-07 : de= 0 ( 0 ) d(de)= 0 ( 0 ) t_sim=  226.333 sec\n",
      "iter=58 : time= 3.625  Etot= 0.2500878182  Ekin= 0.250088   Epot= 1.45472e-07 : de= 0 ( 0 ) d(de)= 0 ( 0 ) t_sim=  230.338 sec\n",
      "iter=59 : time= 3.6875  Etot= 0.2500878182  Ekin= 0.250088   Epot= 1.45472e-07 : de= 0 ( 0 ) d(de)= 0 ( 0 ) t_sim=  234.292 sec\n",
      "iter=60 : time= 3.75  Etot= 0.2500878182  Ekin= 0.250088   Epot= 1.45472e-07 : de= 0 ( 0 ) d(de)= 0 ( 0 ) t_sim=  238.235 sec\n",
      "iter=61 : time= 3.8125  Etot= 0.2500878182  Ekin= 0.250088   Epot= 1.45472e-07 : de= 0 ( 0 ) d(de)= 0 ( 0 ) t_sim=  242.224 sec\n",
      "iter=62 : time= 3.875  Etot= 0.2500878182  Ekin= 0.250088   Epot= 1.45472e-07 : de= 0 ( 0 ) d(de)= 0 ( 0 ) t_sim=  246.188 sec\n",
      "iter=63 : time= 3.9375  Etot= 0.2500878182  Ekin= 0.250088   Epot= 1.45472e-07 : de= 0 ( 0 ) d(de)= 0 ( 0 ) t_sim=  251.569 sec\n"
     ]
    },
    {
     "name": "stdout",
     "output_type": "stream",
     "text": [
      "Ekin= 0.250088   Epot= 1.45472e-07 : de= 0 ( 0 ) d(de)= 0 ( 0 ) t_sim=  127.181 sec\n",
      "iter=33 : time= 2.0625  Etot= 0.2500878182  Ekin= 0.250088   Epot= 1.45472e-07 : de= 0 ( 0 ) d(de)= 0 ( 0 ) t_sim=  131.252 sec\n",
      "iter=34 : time= 2.125  Etot= 0.2500878182  Ekin= 0.250088   Epot= 1.45472e-07 : de= 0 ( 0 ) d(de)= 0 ( 0 ) t_sim=  135.204 sec\n",
      "iter=35 : time= 2.1875  Etot= 0.2500878182  Ekin= 0.250088   Epot= 1.45472e-07 : de= 0 ( 0 ) d(de)= 0 ( 0 ) t_sim=  139.196 sec\n",
      "iter=36 : time= 2.25  Etot= 0.2500878182  Ekin= 0.250088   Epot= 1.45472e-07 : de= 0 ( 0 ) d(de)= 0 ( 0 ) t_sim=  143.17 sec\n",
      "iter=37 : time= 2.3125  Etot= 0.2500878182  Ekin= 0.250088   Epot= 1.45472e-07 : de= 0 ( 0 ) d(de)= 0 ( 0 ) t_sim=  147.121 sec\n",
      "iter=38 : time= 2.375  Etot= 0.2500878182  Ekin= 0.250088   Epot= 1.45472e-07 : de= 0 ( 0 ) d(de)= 0 ( 0 ) t_sim=  151.107 sec\n",
      "iter=39 : time= 2.4375  Etot= 0.2500878182  Ekin= 0.250088   Epot= 1.45472e-07 : de= 0 ( 0 ) d(de)= 0 ( 0 ) t_sim=  155.058 sec\n",
      "iter=40 : time= 2.5  Etot= 0.2500878182  Ekin= 0.250088   Epot= 1.45472e-07 : de= 0 ( 0 ) d(de)= 0 ( 0 ) t_sim=  158.988 sec\n",
      "iter=41 : time= 2.5625  Etot= 0.2500878182  Ekin= 0.250088   Epot= 1.45472e-07 : de= 0 ( 0 ) d(de)= 0 ( 0 ) t_sim=  162.952 sec\n",
      "iter=42 : time= 2.625  Etot= 0.2500878182  Ekin= 0.250088   Epot= 1.45472e-07 : de= 0 ( 0 ) d(de)= 0 ( 0 ) t_sim=  166.958 sec\n",
      "iter=43 : time= 2.6875  Etot= 0.2500878182  Ekin= 0.250088   Epot= 1.45472e-07 : de= 0 ( 0 ) d(de)= 0 ( 0 ) t_sim=  170.926 sec\n",
      "iter=44 : time= 2.75  Etot= 0.2500878182  Ekin= 0.250088   Epot= 1.45472e-07 : de= 0 ( 0 ) d(de)= 0 ( 0 ) t_sim=  174.879 sec\n",
      "iter=45 : time= 2.8125  Etot= 0.2500878182  Ekin= 0.250088   Epot= 1.45472e-07 : de= 0 ( 0 ) d(de)= 0 ( 0 ) t_sim=  178.836 sec\n",
      "iter=46 : time= 2.875  Etot= 0.2500878182  Ekin= 0.250088   Epot= 1.45472e-07 : de= 0 ( 0 ) d(de)= 0 ( 0 ) t_sim=  182.821 sec\n",
      "iter=47 : time= 2.9375  Etot= 0.2500878182  Ekin= 0.250088   Epot= 1.45472e-07 : de= 0 ( 0 ) d(de)= 0 ( 0 ) t_sim=  186.796 sec\n",
      "iter=48 : time= 3  Etot= 0.2500878182  Ekin= 0.250088   Epot= 1.45472e-07 : de= 0 ( 0 ) d(de)= 0 ( 0 ) t_sim=  190.763 sec\n",
      "iter=49 : time= 3.0625  Etot= 0.2500878182  Ekin= 0.250088   Epot= 1.45472e-07 : de= 0 ( 0 ) d(de)= 0 ( 0 ) t_sim=  194.749 sec\n",
      "iter=50 : time= 3.125  Etot= 0.2500878182  Ekin= 0.250088   Epot= 1.45472e-07 : de= 0 ( 0 ) d(de)= 0 ( 0 ) t_sim=  198.665 sec\n",
      "iter=51 : time= 3.1875  Etot= 0.2500878182  Ekin= 0.250088   Epot= 1.45472e-07 : de= 0 ( 0 ) d(de)= 0 ( 0 ) t_sim=  202.651 sec\n",
      "iter=52 : time= 3.25  Etot= 0.2500878182  Ekin= 0.250088   Epot= 1.45472e-07 : de= 0 ( 0 ) d(de)= 0 ( 0 ) t_sim=  206.617 sec\n",
      "iter=53 : time= 3.3125  Etot= 0.2500878182  Ekin= 0.250088   Epot= 1.45472e-07 : de= 0 ( 0 ) d(de)= 0 ( 0 ) t_sim=  210.546 sec\n",
      "iter=54 : time= 3.375  Etot= 0.2500878182  Ekin= 0.250088   Epot= 1.45472e-07 : de= 0 ( 0 ) d(de)= 0 ( 0 ) t_sim=  214.492 sec\n",
      "iter=55 : time= 3.4375  Etot= 0.2500878182  Ekin= 0.250088   Epot= 1.45472e-07 : de= 0 ( 0 ) d(de)= 0 ( 0 ) t_sim=  218.418 sec\n",
      "iter=56 : time= 3.5  Etot= 0.2500878182  Ekin= 0.250088   Epot= 1.45472e-07 : de= 0 ( 0 ) d(de)= 0 ( 0 ) t_sim=  222.367 sec\n",
      "iter=57 : time= 3.5625  Etot= 0.2500878182  Ekin= 0.250088   Epot= 1.45472e-07 : de= 0 ( 0 ) d(de)= 0 ( 0 ) t_sim=  226.333 sec\n",
      "iter=58 : time= 3.625  Etot= 0.2500878182  Ekin= 0.250088   Epot= 1.45472e-07 : de= 0 ( 0 ) d(de)= 0 ( 0 ) t_sim=  230.338 sec\n",
      "iter=59 : time= 3.6875  Etot= 0.2500878182  Ekin= 0.250088   Epot= 1.45472e-07 : de= 0 ( 0 ) d(de)= 0 ( 0 ) t_sim=  234.292 sec\n",
      "iter=60 : time= 3.75  Etot= 0.2500878182  Ekin= 0.250088   Epot= 1.45472e-07 : de= 0 ( 0 ) d(de)= 0 ( 0 ) t_sim=  238.235 sec\n",
      "iter=61 : time= 3.8125  Etot= 0.2500878182  Ekin= 0.250088   Epot= 1.45472e-07 : de= 0 ( 0 ) d(de)= 0 ( 0 ) t_sim=  242.224 sec\n",
      "iter=62 : time= 3.875  Etot= 0.2500878182  Ekin= 0.250088   Epot= 1.45472e-07 : de= 0 ( 0 ) d(de)= 0 ( 0 ) t_sim=  246.188 sec\n",
      "iter=63 : time= 3.9375  Etot= 0.2500878182  Ekin= 0.250088   Epot= 1.45472e-07 : de= 0 ( 0 ) d(de)= 0 ( 0 ) t_sim=  251.569 sec\n",
      "iter=64 : time= 4  Etot= 0.2500878182  Ekin= 0.250088   Epot= 1.45472e-0"
     ]
    },
    {
     "name": "stderr",
     "output_type": "stream",
     "text": [
      "iter=64 : time= 4  Etot= 0.2500878182  Ekin= 0.250088   Epot= 1.45472e-07 : de= 0 ( 0 ) d(de)= 0 ( 0 ) t_sim=  255.519 sec\n",
      "iter=65 : time= 4.0625  Etot= 0.2500878182  Ekin= 0.250088   Epot= 1.45472e-07 : de= 0 ( 0 ) d(de)= 0 ( 0 ) t_sim=  259.469 sec\n",
      "iter=66 : time= 4.125  Etot= 0.2500878182  Ekin= 0.250088   Epot= 1.45472e-07 : de= 0 ( 0 ) d(de)= 0 ( 0 ) t_sim=  265.406 sec\n",
      "iter=67 : time= 4.1875  Etot= 0.2500878182  Ekin= 0.250088   Epot= 1.45472e-07 : de= 0 ( 0 ) d(de)= 0 ( 0 ) t_sim=  269.383 sec\n",
      "iter=68 : time= 4.25  Etot= 0.2500878182  Ekin= 0.250088   Epot= 1.45472e-07 : de= 0 ( 0 ) d(de)= 0 ( 0 ) t_sim=  273.386 sec\n",
      "iter=69 : time= 4.3125  Etot= 0.2500878182  Ekin= 0.250088   Epot= 1.45472e-07 : de= 0 ( 0 ) d(de)= 0 ( 0 ) t_sim=  277.348 sec\n",
      "iter=70 : time= 4.375  Etot= 0.2500878182  Ekin= 0.250088   Epot= 1.45472e-07 : de= 0 ( 0 ) d(de)= 0 ( 0 ) t_sim=  281.291 sec\n",
      "iter=71 : time= 4.4375  Etot= 0.2500878182  Ekin= 0.250088   Epot= 1.45472e-07 : de= 0 ( 0 ) d(de)= 0 ( 0 ) t_sim=  285.265 sec\n",
      "iter=72 : time= 4.5  Etot= 0.2500878182  Ekin= 0.250088   Epot= 1.45472e-07 : de= 0 ( 0 ) d(de)= 0 ( 0 ) t_sim=  289.225 sec\n",
      "iter=73 : time= 4.5625  Etot= 0.2500878182  Ekin= 0.250088   Epot= 1.45472e-07 : de= 0 ( 0 ) d(de)= 0 ( 0 ) t_sim=  293.293 sec\n",
      "iter=74 : time= 4.625  Etot= 0.2500878182  Ekin= 0.250088   Epot= 1.45472e-07 : de= 0 ( 0 ) d(de)= 0 ( 0 ) t_sim=  297.269 sec\n",
      "iter=75 : time= 4.6875  Etot= 0.2500878182  Ekin= 0.250088   Epot= 1.45472e-07 : de= 0 ( 0 ) d(de)= 0 ( 0 ) t_sim=  301.204 sec\n",
      "iter=76 : time= 4.75  Etot= 0.2500878182  Ekin= 0.250088   Epot= 1.45472e-07 : de= 0 ( 0 ) d(de)= 0 ( 0 ) t_sim=  305.173 sec\n",
      "iter=77 : time= 4.8125  Etot= 0.2500878182  Ekin= 0.250088   Epot= 1.45472e-07 : de= 0 ( 0 ) d(de)= 0 ( 0 ) t_sim=  309.147 sec\n",
      "iter=78 : time= 4.875  Etot= 0.2500878182  Ekin= 0.250088   Epot= 1.45472e-07 : de= 0 ( 0 ) d(de)= 0 ( 0 ) t_sim=  313.108 sec\n",
      "iter=79 : time= 4.9375  Etot= 0.2500878182  Ekin= 0.250088   Epot= 1.45472e-07 : de= 0 ( 0 ) d(de)= 0 ( 0 ) t_sim=  317.06 sec\n",
      "iter=80 : time= 5  Etot= 0.2500878182  Ekin= 0.250088   Epot= 1.45472e-07 : de= 0 ( 0 ) d(de)= 0 ( 0 ) t_sim=  320.978 sec\n",
      "iter=80 : time= 5  Etot= 0.2500878182  Ekin= 0.250088   Epot= 1.45472e-07 : de= 0 ( 0 ) d(de)= 0 ( 0 ) t_sim=  321.1 sec\n"
     ]
    },
    {
     "name": "stdout",
     "output_type": "stream",
     "text": [
      "7 : de= 0 ( 0 ) d(de)= 0 ( 0 ) t_sim=  255.519 sec\n",
      "iter=65 : time= 4.0625  Etot= 0.2500878182  Ekin= 0.250088   Epot= 1.45472e-07 : de= 0 ( 0 ) d(de)= 0 ( 0 ) t_sim=  259.469 sec\n",
      "iter=66 : time= 4.125  Etot= 0.2500878182  Ekin= 0.250088   Epot= 1.45472e-07 : de= 0 ( 0 ) d(de)= 0 ( 0 ) t_sim=  265.406 sec\n",
      "iter=67 : time= 4.1875  Etot= 0.2500878182  Ekin= 0.250088   Epot= 1.45472e-07 : de= 0 ( 0 ) d(de)= 0 ( 0 ) t_sim=  269.383 sec\n",
      "iter=68 : time= 4.25  Etot= 0.2500878182  Ekin= 0.250088   Epot= 1.45472e-07 : de= 0 ( 0 ) d(de)= 0 ( 0 ) t_sim=  273.386 sec\n",
      "iter=69 : time= 4.3125  Etot= 0.2500878182  Ekin= 0.250088   Epot= 1.45472e-07 : de= 0 ( 0 ) d(de)= 0 ( 0 ) t_sim=  277.348 sec\n",
      "iter=70 : time= 4.375  Etot= 0.2500878182  Ekin= 0.250088   Epot= 1.45472e-07 : de= 0 ( 0 ) d(de)= 0 ( 0 ) t_sim=  281.291 sec\n",
      "iter=71 : time= 4.4375  Etot= 0.2500878182  Ekin= 0.250088   Epot= 1.45472e-07 : de= 0 ( 0 ) d(de)= 0 ( 0 ) t_sim=  285.265 sec\n",
      "iter=72 : time= 4.5  Etot= 0.2500878182  Ekin= 0.250088   Epot= 1.45472e-07 : de= 0 ( 0 ) d(de)= 0 ( 0 ) t_sim=  289.224 sec\n",
      "iter=73 : time= 4.5625  Etot= 0.2500878182  Ekin= 0.250088   Epot= 1.45472e-07 : de= 0 ( 0 ) d(de)= 0 ( 0 ) t_sim=  293.293 sec\n",
      "iter=74 : time= 4.625  Etot= 0.2500878182  Ekin= 0.250088   Epot= 1.45472e-07 : de= 0 ( 0 ) d(de)= 0 ( 0 ) t_sim=  297.269 sec\n",
      "iter=75 : time= 4.6875  Etot= 0.2500878182  Ekin= 0.250088   Epot= 1.45472e-07 : de= 0 ( 0 ) d(de)= 0 ( 0 ) t_sim=  301.204 sec\n",
      "iter=76 : time= 4.75  Etot= 0.2500878182  Ekin= 0.250088   Epot= 1.45472e-07 : de= 0 ( 0 ) d(de)= 0 ( 0 ) t_sim=  305.173 sec\n",
      "iter=77 : time= 4.8125  Etot= 0.2500878182  Ekin= 0.250088   Epot= 1.45472e-07 : de= 0 ( 0 ) d(de)= 0 ( 0 ) t_sim=  309.147 sec\n",
      "iter=78 : time= 4.875  Etot= 0.2500878182  Ekin= 0.250088   Epot= 1.45472e-07 : de= 0 ( 0 ) d(de)= 0 ( 0 ) t_sim=  313.108 sec\n",
      "iter=79 : time= 4.9375  Etot= 0.2500878182  Ekin= 0.250088   Epot= 1.45472e-07 : de= 0 ( 0 ) d(de)= 0 ( 0 ) t_sim=  317.06 sec\n",
      "iter=80 : time= 5  Etot= 0.2500878182  Ekin= 0.250088   Epot= 1.45472e-07 : de= 0 ( 0 ) d(de)= 0 ( 0 ) t_sim=  320.978 sec\n",
      "iter=80 : time= 5  Etot= 0.2500878182  Ekin= 0.250088   Epot= 1.45472e-07 : de= 0 ( 0 ) d(de)= 0 ( 0 ) t_sim=  321.1 sec\n",
      "{\n",
      "    \"name\": \"NVIDIA GeForce GTX 1060 6GB\",\n",
      "    \"poll_rate\": 1,\n",
      "    \"count\": 327,\n",
      "    \"utilization.gpu\": [\n",
      "        22,\n",
      "        16,\n",
      "        100,\n",
      "        100,\n",
      "        100,\n",
      "        65,\n",
      "        100,\n",
      "        100,\n",
      "        100,\n",
      "        100,\n",
      "        100,\n",
      "        99,\n",
      "        100,\n",
      "        100,\n",
      "        100,\n",
      "        100,\n",
      "        100,\n",
      "        100,\n",
      "        98,\n",
      "        100,\n",
      "        100,\n",
      "        100,\n",
      "        100,\n",
      "        100,\n",
      "        99,\n",
      "        100,\n",
      "        100,\n",
      "        100,\n",
      "        99,\n",
      "        100,\n",
      "        100,\n",
      "        100,\n",
      "        100,\n",
      "        100,\n",
      "        100,\n",
      "        100,\n",
      "        100,\n",
      "        100,\n",
      "        100,\n",
      "        100,\n",
      "        100,\n",
      "        99,\n",
      "        100,\n",
      "        100,\n",
      "        99,\n",
      "        100,\n",
      "        100,\n",
      "        97,\n",
      "        100,\n",
      "        98,\n",
      "        96,\n",
      "        99,\n",
      "        99,\n",
      "        95,\n",
      "        99,\n",
      "        97,\n",
      "        97,\n",
      "        100,\n",
      "        100,\n",
      "        100,\n",
      "        100,\n",
      "        100,\n",
      "        99,\n",
      "        99,\n",
      "        100,\n",
      "        100,\n",
      "        100,\n",
      "        97,\n",
      "        100,\n",
      "        100,\n",
      "        99,\n",
      "        99,\n",
      "        96,\n",
      "        99,\n",
      "        99,\n",
      "        100,\n",
      "        55,\n",
      "        100,\n",
      "        100,\n",
      "        100,\n",
      "        41,\n",
      "        100,\n",
      "        100,\n",
      "        99,\n",
      "        32,\n",
      "        100,\n",
      "        100,\n",
      "        100,\n",
      "        99,\n",
      "        99,\n",
      "        100,\n",
      "        100,\n",
      "        100,\n",
      "        100,\n",
      "        100,\n",
      "        100,\n",
      "        98,\n",
      "        100,\n",
      "        100,\n",
      "        98,\n",
      "        67,\n",
      "        100,\n",
      "        99,\n",
      "        99,\n",
      "        30,\n",
      "        100,\n",
      "        100,\n",
      "        100,\n",
      "        59,\n",
      "        100,\n",
      "        100,\n",
      "        99,\n",
      "        21,\n",
      "        100,\n",
      "        100,\n",
      "        99,\n",
      "        77,\n",
      "        100,\n",
      "        100,\n",
      "        100,\n",
      "        67,\n",
      "        100,\n",
      "        100,\n",
      "        100,\n",
      "        84,\n",
      "        100,\n",
      "        99,\n",
      "        100,\n",
      "        49,\n",
      "        97,\n",
      "        100,\n",
      "        100,\n",
      "        43,\n",
      "        100,\n",
      "        100,\n",
      "        100,\n",
      "        66,\n",
      "        100,\n",
      "        100,\n",
      "        100,\n",
      "        35,\n",
      "        97,\n",
      "        100,\n",
      "        100,\n",
      "        34,\n",
      "        100,\n",
      "        99,\n",
      "        99,\n",
      "        54,\n",
      "        100,\n",
      "        99,\n",
      "        100,\n",
      "        76,\n",
      "        100,\n",
      "        100,\n",
      "        100,\n",
      "        98,\n",
      "        100,\n",
      "        100,\n",
      "        100,\n",
      "        56,\n",
      "        100,\n",
      "        100,\n",
      "        100,\n",
      "        100,\n",
      "        100,\n",
      "        100,\n",
      "        100,\n",
      "        98,\n",
      "        97,\n",
      "        100,\n",
      "        99,\n",
      "        98,\n",
      "        100,\n",
      "        99,\n",
      "        100,\n",
      "        100,\n",
      "        100,\n",
      "        99,\n",
      "        100,\n",
      "        98,\n",
      "        100,\n",
      "        100,\n",
      "        100,\n",
      "        100,\n",
      "        100,\n",
      "        100,\n",
      "        100,\n",
      "        100,\n",
      "        100,\n",
      "        100,\n",
      "        99,\n",
      "        97,\n",
      "        100,\n",
      "        100,\n",
      "        100,\n",
      "        100,\n",
      "        100,\n",
      "        100,\n",
      "        100,\n",
      "        100,\n",
      "        100,\n",
      "        100,\n",
      "        100,\n",
      "        100,\n",
      "        100,\n",
      "        100,\n",
      "        100,\n",
      "        98,\n",
      "        100,\n",
      "        100,\n",
      "        100,\n",
      "        100,\n",
      "        100,\n",
      "        100,\n",
      "        100,\n",
      "        100,\n",
      "        98,\n",
      "        100,\n",
      "        100,\n",
      "        100,\n",
      "        100,\n",
      "        100,\n",
      "        100,\n",
      "        100,\n",
      "        100,\n",
      "        100,\n",
      "        73,\n",
      "        99,\n",
      "        100,\n",
      "        100,\n",
      "        49,\n",
      "        100,\n",
      "        100,\n",
      "        100,\n",
      "        100,\n",
      "        100,\n",
      "        100,\n",
      "        99,\n",
      "        93,\n",
      "        100,\n",
      "        100,\n",
      "        100,\n",
      "        54,\n",
      "        99,\n",
      "        99,\n",
      "        100,\n",
      "        38,\n",
      "        100,\n",
      "        100,\n",
      "        100,\n",
      "        14,\n",
      "        15,\n",
      "        99,\n",
      "        100,\n",
      "        100,\n",
      "        100,\n",
      "        100,\n",
      "        100,\n",
      "        100,\n",
      "        100,\n",
      "        100,\n",
      "        99,\n",
      "        100,\n",
      "        96,\n",
      "        15,\n",
      "        15,\n",
      "        100,\n",
      "        100,\n",
      "        100,\n",
      "        100,\n",
      "        100,\n",
      "        100,\n",
      "        100,\n",
      "        54,\n",
      "        100,\n",
      "        99,\n",
      "        100,\n",
      "        98,\n",
      "        100,\n",
      "        100,\n",
      "        100,\n",
      "        96,\n",
      "        100,\n",
      "        100,\n",
      "        100,\n",
      "        60,\n",
      "        98,\n",
      "        99,\n",
      "        100,\n",
      "        35,\n",
      "        100,\n",
      "        98,\n",
      "        100,\n",
      "        14,\n",
      "        100,\n",
      "        100,\n",
      "        98,\n",
      "        38,\n",
      "        100,\n",
      "        100,\n",
      "        98,\n",
      "        41,\n",
      "        100,\n",
      "        100,\n",
      "        100,\n",
      "        84,\n",
      "        100,\n",
      "        99,\n",
      "        99,\n",
      "        100,\n",
      "        100,\n",
      "        100,\n",
      "        100,\n",
      "        100,\n",
      "        100,\n",
      "        100,\n",
      "        99,\n",
      "        82,\n",
      "        100,\n",
      "        100,\n",
      "        100,\n",
      "        100,\n",
      "        99,\n",
      "        100,\n",
      "        99,\n",
      "        18\n",
      "    ],\n",
      "    \"memory.used\": [\n",
      "        548,\n",
      "        661,\n",
      "        1317,\n",
      "        1317,\n",
      "        1321,\n",
      "        1317,\n",
      "        1318,\n",
      "        1318,\n",
      "        1314,\n",
      "        1314,\n",
      "        1318,\n",
      "        1318,\n",
      "        1314,\n",
      "        1314,\n",
      "        1320,\n",
      "        1319,\n",
      "        1315,\n",
      "        1315,\n",
      "        1320,\n",
      "        1320,\n",
      "        1318,\n",
      "        1318,\n",
      "        1322,\n",
      "        1320,\n",
      "        1318,\n",
      "        1318,\n",
      "        1323,\n",
      "        1319,\n",
      "        1317,\n",
      "        1317,\n",
      "        1322,\n",
      "        1318,\n",
      "        1318,\n",
      "        1321,\n",
      "        1322,\n",
      "        1320,\n",
      "        1316,\n",
      "        1317,\n",
      "        1319,\n",
      "        1317,\n",
      "        1317,\n",
      "        1317,\n",
      "        1319,\n",
      "        1317,\n",
      "        1317,\n",
      "        1317,\n",
      "        1319,\n",
      "        1319,\n",
      "        1317,\n",
      "        1317,\n",
      "        1322,\n",
      "        1322,\n",
      "        1320,\n",
      "        1320,\n",
      "        1324,\n",
      "        1318,\n",
      "        1318,\n",
      "        1318,\n",
      "        1322,\n",
      "        1318,\n",
      "        1318,\n",
      "        1318,\n",
      "        1322,\n",
      "        1317,\n",
      "        1317,\n",
      "        1318,\n",
      "        1321,\n",
      "        1321,\n",
      "        1319,\n",
      "        1319,\n",
      "        1319,\n",
      "        1319,\n",
      "        1319,\n",
      "        1319,\n",
      "        1319,\n",
      "        1317,\n",
      "        1317,\n",
      "        1319,\n",
      "        1319,\n",
      "        1317,\n",
      "        1317,\n",
      "        1324,\n",
      "        1331,\n",
      "        1329,\n",
      "        1323,\n",
      "        1328,\n",
      "        1328,\n",
      "        1326,\n",
      "        1326,\n",
      "        1324,\n",
      "        1324,\n",
      "        1330,\n",
      "        1331,\n",
      "        1336,\n",
      "        1339,\n",
      "        1331,\n",
      "        1331,\n",
      "        1332,\n",
      "        1332,\n",
      "        1330,\n",
      "        1326,\n",
      "        1332,\n",
      "        1332,\n",
      "        1328,\n",
      "        1328,\n",
      "        1446,\n",
      "        1464,\n",
      "        1462,\n",
      "        1456,\n",
      "        1539,\n",
      "        1540,\n",
      "        1534,\n",
      "        1535,\n",
      "        1506,\n",
      "        1506,\n",
      "        1503,\n",
      "        1503,\n",
      "        1507,\n",
      "        1504,\n",
      "        1504,\n",
      "        1504,\n",
      "        1506,\n",
      "        1508,\n",
      "        1508,\n",
      "        1506,\n",
      "        1508,\n",
      "        1427,\n",
      "        1425,\n",
      "        1427,\n",
      "        1433,\n",
      "        1435,\n",
      "        1433,\n",
      "        1450,\n",
      "        1458,\n",
      "        1462,\n",
      "        1458,\n",
      "        1459,\n",
      "        1461,\n",
      "        1461,\n",
      "        1448,\n",
      "        1447,\n",
      "        1447,\n",
      "        1442,\n",
      "        1437,\n",
      "        1437,\n",
      "        1442,\n",
      "        1440,\n",
      "        1435,\n",
      "        1435,\n",
      "        1437,\n",
      "        1435,\n",
      "        1431,\n",
      "        1430,\n",
      "        1436,\n",
      "        1435,\n",
      "        1431,\n",
      "        1434,\n",
      "        1442,\n",
      "        1442,\n",
      "        1434,\n",
      "        1438,\n",
      "        1442,\n",
      "        1440,\n",
      "        1434,\n",
      "        1441,\n",
      "        1446,\n",
      "        1440,\n",
      "        1438,\n",
      "        1440,\n",
      "        1444,\n",
      "        1442,\n",
      "        1434,\n",
      "        1439,\n",
      "        1447,\n",
      "        1441,\n",
      "        1439,\n",
      "        1443,\n",
      "        1445,\n",
      "        1443,\n",
      "        1435,\n",
      "        1441,\n",
      "        1446,\n",
      "        1442,\n",
      "        1440,\n",
      "        1442,\n",
      "        1446,\n",
      "        1444,\n",
      "        1438,\n",
      "        1445,\n",
      "        1447,\n",
      "        1445,\n",
      "        1439,\n",
      "        1445,\n",
      "        1450,\n",
      "        1448,\n",
      "        1440,\n",
      "        1446,\n",
      "        1448,\n",
      "        1442,\n",
      "        1440,\n",
      "        1445,\n",
      "        1446,\n",
      "        1444,\n",
      "        1440,\n",
      "        1446,\n",
      "        1448,\n",
      "        1444,\n",
      "        1438,\n",
      "        1444,\n",
      "        1444,\n",
      "        1440,\n",
      "        1438,\n",
      "        1445,\n",
      "        1447,\n",
      "        1439,\n",
      "        1439,\n",
      "        1445,\n",
      "        1449,\n",
      "        1439,\n",
      "        1439,\n",
      "        1448,\n",
      "        1450,\n",
      "        1442,\n",
      "        1442,\n",
      "        1449,\n",
      "        1450,\n",
      "        1446,\n",
      "        1442,\n",
      "        1451,\n",
      "        1448,\n",
      "        1440,\n",
      "        1440,\n",
      "        1449,\n",
      "        1445,\n",
      "        1441,\n",
      "        1441,\n",
      "        1449,\n",
      "        1451,\n",
      "        1442,\n",
      "        1442,\n",
      "        1449,\n",
      "        1449,\n",
      "        1445,\n",
      "        1443,\n",
      "        1452,\n",
      "        1450,\n",
      "        1443,\n",
      "        1443,\n",
      "        1451,\n",
      "        1451,\n",
      "        1439,\n",
      "        1439,\n",
      "        1439,\n",
      "        1447,\n",
      "        1446,\n",
      "        1444,\n",
      "        1440,\n",
      "        1448,\n",
      "        1453,\n",
      "        1443,\n",
      "        1441,\n",
      "        1445,\n",
      "        1447,\n",
      "        1437,\n",
      "        1437,\n",
      "        1439,\n",
      "        1436,\n",
      "        1437,\n",
      "        1440,\n",
      "        1438,\n",
      "        1436,\n",
      "        1440,\n",
      "        1440,\n",
      "        1437,\n",
      "        1437,\n",
      "        1440,\n",
      "        1439,\n",
      "        1437,\n",
      "        1437,\n",
      "        1437,\n",
      "        1443,\n",
      "        1439,\n",
      "        1439,\n",
      "        1441,\n",
      "        1441,\n",
      "        1437,\n",
      "        1437,\n",
      "        1439,\n",
      "        1439,\n",
      "        1433,\n",
      "        1433,\n",
      "        1440,\n",
      "        1440,\n",
      "        1436,\n",
      "        1436,\n",
      "        1440,\n",
      "        1440,\n",
      "        1436,\n",
      "        1436,\n",
      "        1442,\n",
      "        1442,\n",
      "        1438,\n",
      "        1438,\n",
      "        1440,\n",
      "        1439,\n",
      "        1435,\n",
      "        1435,\n",
      "        1439,\n",
      "        1439,\n",
      "        1435,\n",
      "        1435,\n",
      "        1439,\n",
      "        1439,\n",
      "        1439,\n",
      "        1435,\n",
      "        1439,\n",
      "        1439,\n",
      "        1435,\n",
      "        1435,\n",
      "        1439,\n",
      "        1439,\n",
      "        1433,\n",
      "        1435,\n",
      "        1439,\n",
      "        1439,\n",
      "        1435,\n",
      "        596\n",
      "    ],\n",
      "    \"memory.total\": 6077,\n",
      "    \"bonsai2_slowdust_memory_usage\": [\n",
      "        67,\n",
      "        183,\n",
      "        839,\n",
      "        839,\n",
      "        839,\n",
      "        839,\n",
      "        839,\n",
      "        839,\n",
      "        839,\n",
      "        839,\n",
      "        839,\n",
      "        839,\n",
      "        839,\n",
      "        839,\n",
      "        839,\n",
      "        839,\n",
      "        839,\n",
      "        839,\n",
      "        839,\n",
      "        839,\n",
      "        839,\n",
      "        839,\n",
      "        839,\n",
      "        839,\n",
      "        839,\n",
      "        839,\n",
      "        839,\n",
      "        839,\n",
      "        839,\n",
      "        839,\n",
      "        839,\n",
      "        839,\n",
      "        839,\n",
      "        839,\n",
      "        839,\n",
      "        839,\n",
      "        839,\n",
      "        839,\n",
      "        839,\n",
      "        839,\n",
      "        839,\n",
      "        839,\n",
      "        839,\n",
      "        839,\n",
      "        839,\n",
      "        839,\n",
      "        839,\n",
      "        839,\n",
      "        839,\n",
      "        839,\n",
      "        839,\n",
      "        839,\n",
      "        839,\n",
      "        839,\n",
      "        839,\n",
      "        839,\n",
      "        839,\n",
      "        839,\n",
      "        839,\n",
      "        839,\n",
      "        839,\n",
      "        839,\n",
      "        839,\n",
      "        839,\n",
      "        839,\n",
      "        839,\n",
      "        839,\n",
      "        839,\n",
      "        839,\n",
      "        839,\n",
      "        839,\n",
      "        839,\n",
      "        839,\n",
      "        839,\n",
      "        839,\n",
      "        839,\n",
      "        839,\n",
      "        839,\n",
      "        839,\n",
      "        839,\n",
      "        839,\n",
      "        839,\n",
      "        839,\n",
      "        839,\n",
      "        839,\n",
      "        839,\n",
      "        839,\n",
      "        839,\n",
      "        839,\n",
      "        839,\n",
      "        839,\n",
      "        839,\n",
      "        839,\n",
      "        839,\n",
      "        839,\n",
      "        839,\n",
      "        839,\n",
      "        839,\n",
      "        839,\n",
      "        839,\n",
      "        839,\n",
      "        839,\n",
      "        839,\n",
      "        839,\n",
      "        839,\n",
      "        839,\n",
      "        839,\n",
      "        839,\n",
      "        839,\n",
      "        839,\n",
      "        839,\n",
      "        839,\n",
      "        839,\n",
      "        839,\n",
      "        839,\n",
      "        839,\n",
      "        839,\n",
      "        839,\n",
      "        839,\n",
      "        839,\n",
      "        839,\n",
      "        839,\n",
      "        839,\n",
      "        839,\n",
      "        839,\n",
      "        839,\n",
      "        839,\n",
      "        839,\n",
      "        839,\n",
      "        839,\n",
      "        839,\n",
      "        839,\n",
      "        839,\n",
      "        839,\n",
      "        839,\n",
      "        839,\n",
      "        839,\n",
      "        839,\n",
      "        839,\n",
      "        839,\n",
      "        839,\n",
      "        839,\n",
      "        839,\n",
      "        839,\n",
      "        839,\n",
      "        839,\n",
      "        839,\n",
      "        839,\n",
      "        839,\n",
      "        839,\n",
      "        839,\n",
      "        839,\n",
      "        839,\n",
      "        839,\n",
      "        839,\n",
      "        839,\n",
      "        839,\n",
      "        839,\n",
      "        839,\n",
      "        839,\n",
      "        839,\n",
      "        839,\n",
      "        839,\n",
      "        839,\n",
      "        839,\n",
      "        839,\n",
      "        839,\n",
      "        839,\n",
      "        839,\n",
      "        839,\n",
      "        839,\n",
      "        839,\n",
      "        839,\n",
      "        839,\n",
      "        839,\n",
      "        839,\n",
      "        839,\n",
      "        839,\n",
      "        839,\n",
      "        839,\n",
      "        839,\n",
      "        839,\n",
      "        839,\n",
      "        839,\n",
      "        839,\n",
      "        839,\n",
      "        839,\n",
      "        839,\n",
      "        839,\n",
      "        839,\n",
      "        839,\n",
      "        839,\n",
      "        839,\n",
      "        839,\n",
      "        839,\n",
      "        839,\n",
      "        839,\n",
      "        839,\n",
      "        839,\n",
      "        839,\n",
      "        839,\n",
      "        839,\n",
      "        839,\n",
      "        839,\n",
      "        839,\n",
      "        839,\n",
      "        839,\n",
      "        839,\n",
      "        839,\n",
      "        839,\n",
      "        839,\n",
      "        839,\n",
      "        839,\n",
      "        839,\n",
      "        839,\n",
      "        839,\n",
      "        839,\n",
      "        839,\n",
      "        839,\n",
      "        839,\n",
      "        839,\n",
      "        839,\n",
      "        839,\n",
      "        839,\n",
      "        839,\n",
      "        839,\n",
      "        839,\n",
      "        839,\n",
      "        839,\n",
      "        839,\n",
      "        839,\n",
      "        839,\n",
      "        839,\n",
      "        839,\n",
      "        839,\n",
      "        839,\n",
      "        839,\n",
      "        839,\n",
      "        839,\n",
      "        839,\n",
      "        839,\n",
      "        839,\n",
      "        839,\n",
      "        839,\n",
      "        839,\n",
      "        839,\n",
      "        839,\n",
      "        839,\n",
      "        839,\n",
      "        839,\n",
      "        839,\n",
      "        839,\n",
      "        839,\n",
      "        839,\n",
      "        839,\n",
      "        839,\n",
      "        839,\n",
      "        839,\n",
      "        839,\n",
      "        839,\n",
      "        839,\n",
      "        839,\n",
      "        839,\n",
      "        839,\n",
      "        839,\n",
      "        839,\n",
      "        839,\n",
      "        839,\n",
      "        839,\n",
      "        839,\n",
      "        839,\n",
      "        839,\n",
      "        839,\n",
      "        839,\n",
      "        839,\n",
      "        839,\n",
      "        839,\n",
      "        839,\n",
      "        839,\n",
      "        839,\n",
      "        839,\n",
      "        839,\n",
      "        839,\n",
      "        839,\n",
      "        839,\n",
      "        839,\n",
      "        839,\n",
      "        839,\n",
      "        839,\n",
      "        839,\n",
      "        839,\n",
      "        839,\n",
      "        839,\n",
      "        839,\n",
      "        839,\n",
      "        839,\n",
      "        839,\n",
      "        839,\n",
      "        839,\n",
      "        839,\n",
      "        839,\n",
      "        839,\n",
      "        839,\n",
      "        839,\n",
      "        839,\n",
      "        839,\n",
      "        839,\n",
      "        839,\n",
      "        839,\n",
      "        839,\n",
      "        839,\n",
      "        839,\n",
      "        839,\n",
      "        839,\n",
      "        839,\n",
      "        839,\n",
      "        839,\n",
      "        839,\n",
      "        839,\n",
      "        839,\n",
      "        839,\n",
      "        839,\n",
      "        839,\n",
      "        839,\n",
      "        839,\n",
      "        839,\n",
      "        0\n",
      "    ]\n",
      "}\n",
      "output at bonsai_gpustat_bonsai2_slowdust_6\n"
     ]
    }
   ],
   "source": [
    "''' \n",
    "settings\n",
    "'''\n",
    "\n",
    "# Directories\n",
    "sim_title =  \"RESULTS/65000_plummer_barnes_hut\"\n",
    "data_prefix='data/plummer_snap_mpi'\n",
    "figure_prefix='fig/plummer'\n",
    "bonsai_binary = \"../Bonsai/build/bonsai2_slowdust\" # after cmake tools build\n",
    "\n",
    "# Bonsai config\n",
    "step = 0.0625/1\n",
    "nStars = 650000 # when we run MPI this is number of stars per process\n",
    "T_ = 5\n",
    "\n",
    "# Plot\n",
    "dir_comp = True\n",
    "p_size = 1\n",
    "lim=5\n",
    "nRed=int(nStars/2)\n",
    "\n",
    "''' \n",
    "run and save\n",
    "'''\n",
    "\n",
    "clear_data()\n",
    "with bonsai.measure_GPU(program_name='bonsai2_slowdust',poll_rate=1):\n",
    "    bonsai.run_plummer(nStars,data_prefix,bonsai_bin=bonsai_binary,T=T_,dt=step,dSnap=step,direct=dir_comp)\n"
   ]
  },
  {
   "cell_type": "markdown",
   "metadata": {},
   "source": [
    "# GPU: GTX 1060"
   ]
  },
  {
   "cell_type": "markdown",
   "metadata": {},
   "source": [
    "# Plummer, Barnes Hut Bonsai"
   ]
  },
  {
   "cell_type": "markdown",
   "metadata": {},
   "source": [
    "## 65000 Stars"
   ]
  },
  {
   "cell_type": "code",
   "execution_count": 23,
   "metadata": {},
   "outputs": [
    {
     "name": "stdout",
     "output_type": "stream",
     "text": [
      "../Bonsai/build/bonsai2_slowdust   --plummer 65000 --snapname data/plummer_snap_mpi --snapiter 0.0625 -T 5 -dt 0.0625 --eps 0.05\n",
      "Using Plummer model with n= 65000 per process \n",
      "....................................................."
     ]
    },
    {
     "name": "stderr",
     "output_type": "stream",
     "text": [
      " Unknown ENV_VARIABLE:   -- Falling to basic forking method after MPI_Init, unsafe!\n",
      "Proc id: 0 @ Default , total processes: 1 (mpiInit) \n",
      "[INIT]\tUsed settings: \n",
      "[INIT]\tInput  filename \n",
      "[INIT]\tBonsai filename \n",
      "[INIT]\tLog filename gpuLog.log\n",
      "[INIT]\tTheta: \t\t0.75\t\teps: \t\t0.05\n",
      "[INIT]\tTimestep: \t0.0625\t\ttEnd: \t\t5\n",
      "[INIT]\titerEnd: \t1073741824\n",
      "[INIT]\tUse MPI-IO: \tNO\n",
      "[INIT]\tsnapshotFile: \tdata/plummer_snap_mpi\tsnapshotIter: \t0.0625\n",
      "[INIT]\tInput file: \t\t\tdevID: \t\t0\n",
      "[INIT]\tRemove dist: \t-1\n",
      "[INIT]\tRebuild tree every 1 timestep\n",
      "[INIT]\tRuntime logging is DISABLED \n",
      "[INIT]\tDirect gravitation is DISABLED\n",
      "[INIT]\tCode is built WITHOUT MPI Support \n"
     ]
    },
    {
     "name": "stdout",
     "output_type": "stream",
     "text": [
      "............"
     ]
    },
    {
     "name": "stderr",
     "output_type": "stream",
     "text": [
      "Proc: 0 Bootup times: Tree/MPI: 0.152937 Threads/log: 0.000236988 IC-model: 0 \n",
      " Start iterating\n",
      "iter=0 : time= 0  Etot= -0.2451867486  Ekin= 0.249976   Epot= -0.495163 : de= -0 ( 0 ) d(de)= -0 ( 0 ) t_sim=  4.05312e-06 sec\n"
     ]
    },
    {
     "name": "stdout",
     "output_type": "stream",
     "text": [
      "\n",
      "iter=0 : time= 0  Etot= -0.2451867486  Ekin= 0.249976   Epot= -0.495163 : de= -0 ( 0 ) d(de)= -0 ( 0 ) t_sim=  0 sec\n"
     ]
    },
    {
     "name": "stderr",
     "output_type": "stream",
     "text": [
      "iter=1 : time= 0.0625  Etot= -0.245188291  Ekin= 0.249958   Epot= -0.495146 : de= 6.29103e-06 ( 6.29103e-06 ) d(de)= 6.29103e-06 ( 6.29103e-06 ) t_sim=  1.01004 sec\n",
      "iter=2 : time= 0.125  Etot= -0.2451868743  Ekin= 0.249835   Epot= -0.495022 : de= 5.12943e-07 ( 6.29103e-06 ) d(de)= -5.77805e-06 ( 6.29103e-06 ) t_sim=  1.03237 sec\n",
      "iter=3 : time= 0.1875  Etot= -0.2451878734  Ekin= 0.249615   Epot= -0.494803 : de= 4.58777e-06 ( 6.29103e-06 ) d(de)= 4.07483e-06 ( 6.29103e-06 ) t_sim=  1.05439 sec\n",
      "iter=4 : time= 0.25  Etot= -0.2451847145  Ekin= 0.24931   Epot= -0.494495 : de= -8.29595e-06 ( 8.29595e-06 ) d(de)= -1.28837e-05 ( 1.28837e-05 ) t_sim=  1.07385 sec\n",
      "iter=5 : time= 0.3125  Etot= -0.2451845916  Ekin= 0.24893   Epot= -0.494115 : de= -8.79705e-06 ( 8.79705e-06 ) d(de)= -5.01112e-07 ( 1.28837e-05 ) t_sim=  1.0987 sec\n",
      "iter=6 : time= 0.375  Etot= -0.2451829342  Ekin= 0.248491   Epot= -0.493674 : de= -1.55568e-05 ( 1.55568e-05 ) d(de)= -6.75984e-06 ( 1.28837e-05 ) t_sim=  1.12156 sec\n",
      "iter=7 : time= 0.4375  Etot= -0.245179955  Ekin= 0.248008   Epot= -0.493188 : de= -2.77076e-05 ( 2.77076e-05 ) d(de)= -1.2151e-05 ( 1.28837e-05 ) t_sim=  1.14171 sec\n",
      "iter=8 : time= 0.5  Etot= -0.245179761  Ekin= 0.24749   Epot= -0.49267 : de= -2.84988e-05 ( 2.84988e-05 ) d(de)= -7.91211e-07 ( 1.28837e-05 ) t_sim=  1.16368 sec\n",
      "iter=9 : time= 0.5625  Etot= -0.2451790412  Ekin= 0.246944   Epot= -0.492123 : de= -3.14347e-05 ( 3.14347e-05 ) d(de)= -2.936e-06 ( 1.28837e-05 ) t_sim=  1.18747 sec\n"
     ]
    },
    {
     "name": "stdout",
     "output_type": "stream",
     "text": [
      "iter=1 : time= 0.0625  Etot= -0.245188291  Ekin= 0.249958   Epot= -0.495146 : de= 6.29103e-06 ( 6.29103e-06 ) d(de)= 6.29103e-06 ( 6.29103e-06 ) t_sim=  1.01003 sec\n",
      "iter=2 : time= 0.125  Etot= -0.2451868743  Ekin= 0.249835   Epot= -0.495022 : de= 5.12943e-07 ( 6.29103e-06 ) d(de)= -5.77805e-06 ( 6.29103e-06 ) t_sim=  1.03236 sec\n",
      "iter=3 : time= 0.1875  Etot= -0.2451878734  Ekin= 0.249615   Epot= -0.494803 : de= 4.58777e-06 ( 6.29103e-06 ) d(de)= 4.07483e-06 ( 6.29103e-06 ) t_sim=  1.05439 sec\n",
      "iter=4 : time= 0.25  Etot= -0.2451847145  Ekin= 0.24931   Epot= -0.494495 : de= -8.29595e-06 ( 8.29595e-06 ) d(de)= -1.28837e-05 ( 1.28837e-05 ) t_sim=  1.07384 sec\n",
      "iter=5 : time= 0.3125  Etot= -0.2451845916  Ekin= 0.24893   Epot= -0.494115 : de= -8.79705e-06 ( 8.79705e-06 ) d(de)= -5.01112e-07 ( 1.28837e-05 ) t_sim=  1.0987 sec\n",
      "iter=6 : time= 0.375  Etot= -0.2451829342  Ekin= 0.248491   Epot= -0.493674 : de= -1.55568e-05 ( 1.55568e-05 ) d(de)= -6.75984e-06 ( 1.28837e-05 ) t_sim=  1.12155 sec\n",
      "iter=7 : time= 0.4375  Etot= -0.245179955  Ekin= 0.248008   Epot= -0.493188 : de= -2.77076e-05 ( 2.77076e-05 ) d(de)= -1.2151e-05 ( 1.28837e-05 ) t_sim=  1.14171 sec\n",
      "iter=8 : time= 0.5  Etot= -0.245179761  Ekin= 0.24749   Epot= -0.49267 : de= -2.84988e-05 ( 2.84988e-05 ) d(de)= -7.91211e-07 ( 1.28837e-05 ) t_sim=  1.16367 sec\n",
      "iter=9 : time= 0.5625  Etot= -0.2451790412  Ekin= 0.246944   Epot= -0.492123 : de= -3.14347e-05 ( 3.14347e-05 ) d(de)= -2.936e-06 ( 1.28837e-05 ) t_sim=  1.18746 sec\n"
     ]
    },
    {
     "name": "stderr",
     "output_type": "stream",
     "text": [
      "iter=10 : time= 0.625  Etot= -0.245178638  Ekin= 0.246376   Epot= -0.491555 : de= -3.30793e-05 ( 3.30793e-05 ) d(de)= -1.6446e-06 ( 1.28837e-05 ) t_sim=  1.21468 sec\n",
      "iter=11 : time= 0.6875  Etot= -0.2451775936  Ekin= 0.245793   Epot= -0.490971 : de= -3.73388e-05 ( 3.73388e-05 ) d(de)= -4.25967e-06 ( 1.28837e-05 ) t_sim=  1.23459 sec\n",
      "iter=12 : time= 0.75  Etot= -0.2451773656  Ekin= 0.245197   Epot= -0.490374 : de= -3.82685e-05 ( 3.82685e-05 ) d(de)= -9.29681e-07 ( 1.28837e-05 ) t_sim=  1.25288 sec\n",
      "iter=13 : time= 0.8125  Etot= -0.2451782385  Ekin= 0.244588   Epot= -0.489766 : de= -3.47086e-05 ( 3.82685e-05 ) d(de)= 3.56003e-06 ( 1.28837e-05 ) t_sim=  1.27406 sec\n",
      "iter=14 : time= 0.875  Etot= -0.2451762988  Ekin= 0.243969   Epot= -0.489145 : de= -4.26198e-05 ( 4.26198e-05 ) d(de)= -7.91149e-06 ( 1.28837e-05 ) t_sim=  1.29573 sec\n",
      "iter=15 : time= 0.9375  Etot= -0.2451755629  Ekin= 0.243345   Epot= -0.488521 : de= -4.56208e-05 ( 4.56208e-05 ) d(de)= -3.00119e-06 ( 1.28837e-05 ) t_sim=  1.31718 sec\n",
      "iter=16 : time= 1  Etot= -0.2451753776  Ekin= 0.242718   Epot= -0.487893 : de= -4.63766e-05 ( 4.63766e-05 ) d(de)= -7.5584e-07 ( 1.28837e-05 ) t_sim=  1.33771 sec\n",
      "iter=17 : time= 1.0625  Etot= -0.2451744065  Ekin= 0.242085   Epot= -0.487259 : de= -5.03375e-05 ( 5.03375e-05 ) d(de)= -3.96108e-06 ( 1.28837e-05 ) t_sim=  1.36083 sec\n",
      "iter=18 : time= 1.125  Etot= -0.2451750227  Ekin= 0.241447   Epot= -0.486622 : de= -4.78242e-05 ( 5.03375e-05 ) d(de)= 2.51347e-06 ( 1.28837e-05 ) t_sim=  1.38362 sec\n",
      "iter=19 : time= 1.1875  Etot= -0.2451725532  Ekin= 0.240809   Epot= -0.485981 : de= -5.78962e-05 ( 5.78962e-05 ) d(de)= -1.00725e-05 ( 1.28837e-05 ) t_sim=  1.4071 sec\n"
     ]
    },
    {
     "name": "stdout",
     "output_type": "stream",
     "text": [
      "iter=10 : time= 0.625  Etot= -0.245178638  Ekin= 0.246376   Epot= -0.491555 : de= -3.30793e-05 ( 3.30793e-05 ) d(de)= -1.6446e-06 ( 1.28837e-05 ) t_sim=  1.21468 sec\n",
      "iter=11 : time= 0.6875  Etot= -0.2451775936  Ekin= 0.245793   Epot= -0.490971 : de= -3.73388e-05 ( 3.73388e-05 ) d(de)= -4.25967e-06 ( 1.28837e-05 ) t_sim=  1.23458 sec\n",
      "iter=12 : time= 0.75  Etot= -0.2451773656  Ekin= 0.245197   Epot= -0.490374 : de= -3.82685e-05 ( 3.82685e-05 ) d(de)= -9.29681e-07 ( 1.28837e-05 ) t_sim=  1.25288 sec\n",
      "iter=13 : time= 0.8125  Etot= -0.2451782385  Ekin= 0.244588   Epot= -0.489766 : de= -3.47086e-05 ( 3.82685e-05 ) d(de)= 3.56003e-06 ( 1.28837e-05 ) t_sim=  1.27405 sec\n",
      "iter=14 : time= 0.875  Etot= -0.2451762988  Ekin= 0.243969   Epot= -0.489145 : de= -4.26198e-05 ( 4.26198e-05 ) d(de)= -7.91149e-06 ( 1.28837e-05 ) t_sim=  1.29572 sec\n",
      "iter=15 : time= 0.9375  Etot= -0.2451755629  Ekin= 0.243345   Epot= -0.488521 : de= -4.56208e-05 ( 4.56208e-05 ) d(de)= -3.00119e-06 ( 1.28837e-05 ) t_sim=  1.31718 sec\n",
      "iter=16 : time= 1  Etot= -0.2451753776  Ekin= 0.242718   Epot= -0.487893 : de= -4.63766e-05 ( 4.63766e-05 ) d(de)= -7.5584e-07 ( 1.28837e-05 ) t_sim=  1.33771 sec\n",
      "iter=17 : time= 1.0625  Etot= -0.2451744065  Ekin= 0.242085   Epot= -0.487259 : de= -5.03375e-05 ( 5.03375e-05 ) d(de)= -3.96108e-06 ( 1.28837e-05 ) t_sim=  1.36083 sec\n",
      "iter=18 : time= 1.125  Etot= -0.2451750227  Ekin= 0.241447   Epot= -0.486622 : de= -4.78242e-05 ( 5.03375e-05 ) d(de)= 2.51347e-06 ( 1.28837e-05 ) t_sim=  1.38362 sec\n",
      "iter=19 : time= 1.1875  Etot= -0.2451725532  Ekin= 0.240809   Epot= -0.485981 : de= -5.78962e-05 ( 5.78962e-05 ) d(de)= -1.00725e-05 ( 1.28837e-05 ) t_sim=  1.4071 sec\n"
     ]
    },
    {
     "name": "stderr",
     "output_type": "stream",
     "text": [
      "iter=20 : time= 1.25  Etot= -0.2451719461  Ekin= 0.240178   Epot= -0.48535 : de= -6.03721e-05 ( 6.03721e-05 ) d(de)= -2.47608e-06 ( 1.28837e-05 ) t_sim=  1.42851 sec\n",
      "iter=21 : time= 1.3125  Etot= -0.2451720939  Ekin= 0.239562   Epot= -0.484734 : de= -5.97693e-05 ( 6.03721e-05 ) d(de)= 6.0291e-07 ( 1.28837e-05 ) t_sim=  1.453 sec\n",
      "iter=22 : time= 1.375  Etot= -0.2451687434  Ekin= 0.23897   Epot= -0.484139 : de= -7.34347e-05 ( 7.34347e-05 ) d(de)= -1.36662e-05 ( 1.36662e-05 ) t_sim=  1.48142 sec\n",
      "iter=23 : time= 1.4375  Etot= -0.24517038  Ekin= 0.238407   Epot= -0.483577 : de= -6.67594e-05 ( 7.34347e-05 ) d(de)= 6.67577e-06 ( 1.36662e-05 ) t_sim=  1.50255 sec\n",
      "iter=24 : time= 1.5  Etot= -0.2451686301  Ekin= 0.237874   Epot= -0.483043 : de= -7.38964e-05 ( 7.38964e-05 ) d(de)= -7.13752e-06 ( 1.36662e-05 ) t_sim=  1.5204 sec\n",
      "iter=25 : time= 1.5625  Etot= -0.2451679247  Ekin= 0.237375   Epot= -0.482543 : de= -7.67736e-05 ( 7.67736e-05 ) d(de)= -2.87742e-06 ( 1.36662e-05 ) t_sim=  1.54318 sec\n",
      "iter=26 : time= 1.625  Etot= -0.2451701578  Ekin= 0.236911   Epot= -0.482081 : de= -6.7666e-05 ( 7.67736e-05 ) d(de)= 9.10834e-06 ( 1.36662e-05 ) t_sim=  1.56588 sec\n",
      "iter=27 : time= 1.6875  Etot= -0.2451687103  Ekin= 0.236486   Epot= -0.481655 : de= -7.35696e-05 ( 7.67736e-05 ) d(de)= -5.90399e-06 ( 1.36662e-05 ) t_sim=  1.58641 sec\n",
      "iter=28 : time= 1.75  Etot= -0.2451679184  Ekin= 0.236098   Epot= -0.481266 : de= -7.67992e-05 ( 7.67992e-05 ) d(de)= -3.22987e-06 ( 1.36662e-05 ) t_sim=  1.60998 sec\n"
     ]
    },
    {
     "name": "stdout",
     "output_type": "stream",
     "text": [
      "iter=20 : time= 1.25  Etot= -0.2451719461  Ekin= 0.240178   Epot= -0.48535 : de= -6.03721e-05 ( 6.03721e-05 ) d(de)= -2.47608e-06 ( 1.28837e-05 ) t_sim=  1.4285 sec\n",
      "iter=21 : time= 1.3125  Etot= -0.2451720939  Ekin= 0.239562   Epot= -0.484734 : de= -5.97693e-05 ( 6.03721e-05 ) d(de)= 6.0291e-07 ( 1.28837e-05 ) t_sim=  1.453 sec\n",
      "iter=22 : time= 1.375  Etot= -0.2451687434  Ekin= 0.23897   Epot= -0.484139 : de= -7.34347e-05 ( 7.34347e-05 ) d(de)= -1.36662e-05 ( 1.36662e-05 ) t_sim=  1.48141 sec\n",
      "iter=23 : time= 1.4375  Etot= -0.24517038  Ekin= 0.238407   Epot= -0.483577 : de= -6.67594e-05 ( 7.34347e-05 ) d(de)= 6.67577e-06 ( 1.36662e-05 ) t_sim=  1.50255 sec\n",
      "iter=24 : time= 1.5  Etot= -0.2451686301  Ekin= 0.237874   Epot= -0.483043 : de= -7.38964e-05 ( 7.38964e-05 ) d(de)= -7.13752e-06 ( 1.36662e-05 ) t_sim=  1.52039 sec\n",
      "iter=25 : time= 1.5625  Etot= -0.2451679247  Ekin= 0.237375   Epot= -0.482543 : de= -7.67736e-05 ( 7.67736e-05 ) d(de)= -2.87742e-06 ( 1.36662e-05 ) t_sim=  1.54317 sec\n",
      "iter=26 : time= 1.625  Etot= -0.2451701578  Ekin= 0.236911   Epot= -0.482081 : de= -6.7666e-05 ( 7.67736e-05 ) d(de)= 9.10834e-06 ( 1.36662e-05 ) t_sim=  1.56587 sec\n",
      "iter=27 : time= 1.6875  Etot= -0.2451687103  Ekin= 0.236486   Epot= -0.481655 : de= -7.35696e-05 ( 7.67736e-05 ) d(de)= -5.90399e-06 ( 1.36662e-05 ) t_sim=  1.5864 sec\n",
      "iter=28 : time= 1.75  Etot= -0.2451679184  Ekin= 0.236098   Epot= -0.481266 : de= -7.67992e-05 ( 7.67992e-05 ) d(de)= -3.22987e-06 ( 1.36662e-05 ) t_sim=  1.60997 sec\n"
     ]
    },
    {
     "name": "stderr",
     "output_type": "stream",
     "text": [
      "iter=29 : time= 1.8125  Etot= -0.2451671525  Ekin= 0.235747   Epot= -0.480914 : de= -7.9923e-05 ( 7.9923e-05 ) d(de)= -3.12399e-06 ( 1.36662e-05 ) t_sim=  1.63442 sec\n",
      "iter=30 : time= 1.875  Etot= -0.2451659012  Ekin= 0.235435   Epot= -0.480601 : de= -8.50264e-05 ( 8.50264e-05 ) d(de)= -5.10381e-06 ( 1.36662e-05 ) t_sim=  1.65279 sec\n",
      "iter=31 : time= 1.9375  Etot= -0.2451670504  Ekin= 0.235161   Epot= -0.480328 : de= -8.03394e-05 ( 8.50264e-05 ) d(de)= 4.68735e-06 ( 1.36662e-05 ) t_sim=  1.67896 sec\n",
      "iter=32 : time= 2  Etot= -0.245166977  Ekin= 0.234926   Epot= -0.480093 : de= -8.06386e-05 ( 8.50264e-05 ) d(de)= -2.99206e-07 ( 1.36662e-05 ) t_sim=  1.70156 sec\n",
      "iter=33 : time= 2.0625  Etot= -0.2451656369  Ekin= 0.23473   Epot= -0.479895 : de= -8.61044e-05 ( 8.61044e-05 ) d(de)= -5.46621e-06 ( 1.36662e-05 ) t_sim=  1.72222 sec\n",
      "iter=34 : time= 2.125  Etot= -0.2451666735  Ekin= 0.234571   Epot= -0.479738 : de= -8.18765e-05 ( 8.61044e-05 ) d(de)= 4.22824e-06 ( 1.36662e-05 ) t_sim=  1.74707 sec\n",
      "iter=35 : time= 2.1875  Etot= -0.2451679314  Ekin= 0.234447   Epot= -0.479615 : de= -7.67462e-05 ( 8.61044e-05 ) d(de)= 5.13076e-06 ( 1.36662e-05 ) t_sim=  1.76929 sec\n",
      "iter=36 : time= 2.25  Etot= -0.2451690099  Ekin= 0.234353   Epot= -0.479522 : de= -7.23474e-05 ( 8.61044e-05 ) d(de)= 4.39913e-06 ( 1.36662e-05 ) t_sim=  1.78795 sec\n",
      "iter=37 : time= 2.3125  Etot= -0.2451681078  Ekin= 0.234286   Epot= -0.479454 : de= -7.60267e-05 ( 8.61044e-05 ) d(de)= -3.67955e-06 ( 1.36662e-05 ) t_sim=  1.80981 sec\n",
      "iter=38 : time= 2.375  Etot= -0.2451692866  Ekin= 0.234243   Epot= -0.479413 : de= -7.12192e-05 ( 8.61044e-05 ) d(de)= 4.80784e-06 ( 1.36662e-05 ) t_sim=  1.83241 sec\n"
     ]
    },
    {
     "name": "stdout",
     "output_type": "stream",
     "text": [
      "iter=29 : time= 1.8125  Etot= -0.2451671525  Ekin= 0.235747   Epot= -0.480914 : de= -7.9923e-05 ( 7.9923e-05 ) d(de)= -3.12399e-06 ( 1.36662e-05 ) t_sim=  1.63442 sec\n",
      "iter=30 : time= 1.875  Etot= -0.2451659012  Ekin= 0.235435   Epot= -0.480601 : de= -8.50264e-05 ( 8.50264e-05 ) d(de)= -5.10381e-06 ( 1.36662e-05 ) t_sim=  1.65278 sec\n",
      "iter=31 : time= 1.9375  Etot= -0.2451670504  Ekin= 0.235161   Epot= -0.480328 : de= -8.03394e-05 ( 8.50264e-05 ) d(de)= 4.68735e-06 ( 1.36662e-05 ) t_sim=  1.67895 sec\n",
      "iter=32 : time= 2  Etot= -0.245166977  Ekin= 0.234926   Epot= -0.480093 : de= -8.06386e-05 ( 8.50264e-05 ) d(de)= -2.99206e-07 ( 1.36662e-05 ) t_sim=  1.70156 sec\n",
      "iter=33 : time= 2.0625  Etot= -0.2451656369  Ekin= 0.23473   Epot= -0.479895 : de= -8.61044e-05 ( 8.61044e-05 ) d(de)= -5.46621e-06 ( 1.36662e-05 ) t_sim=  1.72222 sec\n",
      "iter=34 : time= 2.125  Etot= -0.2451666735  Ekin= 0.234571   Epot= -0.479738 : de= -8.18765e-05 ( 8.61044e-05 ) d(de)= 4.22824e-06 ( 1.36662e-05 ) t_sim=  1.74707 sec\n",
      "iter=35 : time= 2.1875  Etot= -0.2451679314  Ekin= 0.234447   Epot= -0.479615 : de= -7.67462e-05 ( 8.61044e-05 ) d(de)= 5.13076e-06 ( 1.36662e-05 ) t_sim=  1.76928 sec\n",
      "iter=36 : time= 2.25  Etot= -0.2451690099  Ekin= 0.234353   Epot= -0.479522 : de= -7.23474e-05 ( 8.61044e-05 ) d(de)= 4.39913e-06 ( 1.36662e-05 ) t_sim=  1.78795 sec\n",
      "iter=37 : time= 2.3125  Etot= -0.2451681078  Ekin= 0.234286   Epot= -0.479454 : de= -7.60267e-05 ( 8.61044e-05 ) d(de)= -3.67955e-06 ( 1.36662e-05 ) t_sim=  1.8098 sec\n",
      "iter=38 : time= 2.375  Etot= -0.2451692866  Ekin= 0.234243   Epot= -0.479413 : de= -7.12192e-05 ( 8.61044e-05 ) d(de)= 4.80784e-06 ( 1.36662e-05 ) t_sim=  1.83241 sec\n"
     ]
    },
    {
     "name": "stderr",
     "output_type": "stream",
     "text": [
      "iter=39 : time= 2.4375  Etot= -0.2451695632  Ekin= 0.23422   Epot= -0.47939 : de= -7.00909e-05 ( 8.61044e-05 ) d(de)= 1.12841e-06 ( 1.36662e-05 ) t_sim=  1.8522 sec\n",
      "iter=40 : time= 2.5  Etot= -0.2451687535  Ekin= 0.234213   Epot= -0.479382 : de= -7.33932e-05 ( 8.61044e-05 ) d(de)= -3.30257e-06 ( 1.36662e-05 ) t_sim=  1.87601 sec\n",
      "iter=41 : time= 2.5625  Etot= -0.2451705612  Ekin= 0.234224   Epot= -0.479394 : de= -6.60206e-05 ( 8.61044e-05 ) d(de)= 7.37319e-06 ( 1.36662e-05 ) t_sim=  1.89817 sec\n",
      "iter=42 : time= 2.625  Etot= -0.2451701058  Ekin= 0.234255   Epot= -0.479425 : de= -6.7878e-05 ( 8.61044e-05 ) d(de)= -1.85751e-06 ( 1.36662e-05 ) t_sim=  1.9194 sec\n",
      "iter=43 : time= 2.6875  Etot= -0.2451704367  Ekin= 0.234303   Epot= -0.479473 : de= -6.65281e-05 ( 8.61044e-05 ) d(de)= 1.34989e-06 ( 1.36662e-05 ) t_sim=  1.94341 sec\n",
      "iter=44 : time= 2.75  Etot= -0.2451688224  Ekin= 0.234365   Epot= -0.479534 : de= -7.31123e-05 ( 8.61044e-05 ) d(de)= -6.58462e-06 ( 1.36662e-05 ) t_sim=  1.96758 sec\n",
      "iter=45 : time= 2.8125  Etot= -0.2451679841  Ekin= 0.234442   Epot= -0.47961 : de= -7.65314e-05 ( 8.61044e-05 ) d(de)= -3.41935e-06 ( 1.36662e-05 ) t_sim=  1.98924 sec\n",
      "iter=46 : time= 2.875  Etot= -0.2451685558  Ekin= 0.234533   Epot= -0.479702 : de= -7.41994e-05 ( 8.61044e-05 ) d(de)= 2.3322e-06 ( 1.36662e-05 ) t_sim=  2.01365 sec\n",
      "iter=47 : time= 2.9375  Etot= -0.245168699  Ekin= 0.234637   Epot= -0.479806 : de= -7.36156e-05 ( 8.61044e-05 ) d(de)= 5.83807e-07 ( 1.36662e-05 ) t_sim=  2.03441 sec\n"
     ]
    },
    {
     "name": "stdout",
     "output_type": "stream",
     "text": [
      "iter=39 : time= 2.4375  Etot= -0.2451695632  Ekin= 0.23422   Epot= -0.47939 : de= -7.00909e-05 ( 8.61044e-05 ) d(de)= 1.12841e-06 ( 1.36662e-05 ) t_sim=  1.85219 sec\n",
      "iter=40 : time= 2.5  Etot= -0.2451687535  Ekin= 0.234213   Epot= -0.479382 : de= -7.33932e-05 ( 8.61044e-05 ) d(de)= -3.30257e-06 ( 1.36662e-05 ) t_sim=  1.87601 sec\n",
      "iter=41 : time= 2.5625  Etot= -0.2451705612  Ekin= 0.234224   Epot= -0.479394 : de= -6.60206e-05 ( 8.61044e-05 ) d(de)= 7.37319e-06 ( 1.36662e-05 ) t_sim=  1.89816 sec\n",
      "iter=42 : time= 2.625  Etot= -0.2451701058  Ekin= 0.234255   Epot= -0.479425 : de= -6.7878e-05 ( 8.61044e-05 ) d(de)= -1.85751e-06 ( 1.36662e-05 ) t_sim=  1.9194 sec\n",
      "iter=43 : time= 2.6875  Etot= -0.2451704367  Ekin= 0.234303   Epot= -0.479473 : de= -6.65281e-05 ( 8.61044e-05 ) d(de)= 1.34989e-06 ( 1.36662e-05 ) t_sim=  1.9434 sec\n",
      "iter=44 : time= 2.75  Etot= -0.2451688224  Ekin= 0.234365   Epot= -0.479534 : de= -7.31123e-05 ( 8.61044e-05 ) d(de)= -6.58462e-06 ( 1.36662e-05 ) t_sim=  1.96757 sec\n",
      "iter=45 : time= 2.8125  Etot= -0.2451679841  Ekin= 0.234442   Epot= -0.47961 : de= -7.65314e-05 ( 8.61044e-05 ) d(de)= -3.41935e-06 ( 1.36662e-05 ) t_sim=  1.98924 sec\n",
      "iter=46 : time= 2.875  Etot= -0.2451685558  Ekin= 0.234533   Epot= -0.479702 : de= -7.41994e-05 ( 8.61044e-05 ) d(de)= 2.3322e-06 ( 1.36662e-05 ) t_sim=  2.01365 sec\n",
      "iter=47 : time= 2.9375  Etot= -0.245168699  Ekin= 0.234637   Epot= -0.479806 : de= -7.36156e-05 ( 8.61044e-05 ) d(de)= 5.83807e-07 ( 1.36662e-05 ) t_sim=  2.0344 sec\n",
      "iter=48 : time= 3  Etot= -0.2451679699  Ekin= 0.234748   Epot= -0.479916 : de= -7.65892e-05 ( 8.61044e-05 ) d(de)= -2.9738e-06 ( 1.36662e-05 ) t_sim=  2.05352 sec\n"
     ]
    },
    {
     "name": "stderr",
     "output_type": "stream",
     "text": [
      "iter=48 : time= 3  Etot= -0.2451679699  Ekin= 0.234748   Epot= -0.479916 : de= -7.65892e-05 ( 8.61044e-05 ) d(de)= -2.9738e-06 ( 1.36662e-05 ) t_sim=  2.05353 sec\n",
      "iter=49 : time= 3.0625  Etot= -0.2451706097  Ekin= 0.234864   Epot= -0.480034 : de= -6.58226e-05 ( 8.61044e-05 ) d(de)= 1.07675e-05 ( 1.36662e-05 ) t_sim=  2.07802 sec\n",
      "iter=50 : time= 3.125  Etot= -0.2451701141  Ekin= 0.23498   Epot= -0.48015 : de= -6.78441e-05 ( 8.61044e-05 ) d(de)= -2.0216e-06 ( 1.36662e-05 ) t_sim=  2.09925 sec\n",
      "iter=51 : time= 3.1875  Etot= -0.2451723138  Ekin= 0.235093   Epot= -0.480266 : de= -5.88726e-05 ( 8.61044e-05 ) d(de)= 8.97208e-06 ( 1.36662e-05 ) t_sim=  2.12228 sec\n",
      "iter=52 : time= 3.25  Etot= -0.2451699755  Ekin= 0.235205   Epot= -0.480375 : de= -6.84095e-05 ( 8.61044e-05 ) d(de)= -9.53744e-06 ( 1.36662e-05 ) t_sim=  2.14381 sec\n",
      "iter=53 : time= 3.3125  Etot= -0.2451711906  Ekin= 0.235314   Epot= -0.480485 : de= -6.34535e-05 ( 8.61044e-05 ) d(de)= 4.95633e-06 ( 1.36662e-05 ) t_sim=  2.1624 sec\n",
      "iter=54 : time= 3.375  Etot= -0.2451723466  Ekin= 0.235421   Epot= -0.480593 : de= -5.87389e-05 ( 8.61044e-05 ) d(de)= 4.71486e-06 ( 1.36662e-05 ) t_sim=  2.18107 sec\n",
      "iter=55 : time= 3.4375  Etot= -0.2451715056  Ekin= 0.235525   Epot= -0.480696 : de= -6.21687e-05 ( 8.61044e-05 ) d(de)= -3.42998e-06 ( 1.36662e-05 ) t_sim=  2.23567 sec\n"
     ]
    },
    {
     "name": "stdout",
     "output_type": "stream",
     "text": [
      "iter=49 : time= 3.0625  Etot= -0.2451706097  Ekin= 0.234864   Epot= -0.480034 : de= -6.58226e-05 ( 8.61044e-05 ) d(de)= 1.07675e-05 ( 1.36662e-05 ) t_sim=  2.07801 sec\n",
      "iter=50 : time= 3.125  Etot= -0.2451701141  Ekin= 0.23498   Epot= -0.48015 : de= -6.78441e-05 ( 8.61044e-05 ) d(de)= -2.0216e-06 ( 1.36662e-05 ) t_sim=  2.09925 sec\n",
      "iter=51 : time= 3.1875  Etot= -0.2451723138  Ekin= 0.235093   Epot= -0.480266 : de= -5.88726e-05 ( 8.61044e-05 ) d(de)= 8.97208e-06 ( 1.36662e-05 ) t_sim=  2.12227 sec\n",
      "iter=52 : time= 3.25  Etot= -0.2451699755  Ekin= 0.235205   Epot= -0.480375 : de= -6.84095e-05 ( 8.61044e-05 ) d(de)= -9.53744e-06 ( 1.36662e-05 ) t_sim=  2.1438 sec\n",
      "iter=53 : time= 3.3125  Etot= -0.2451711906  Ekin= 0.235314   Epot= -0.480485 : de= -6.34535e-05 ( 8.61044e-05 ) d(de)= 4.95633e-06 ( 1.36662e-05 ) t_sim=  2.1624 sec\n",
      "iter=54 : time= 3.375  Etot= -0.2451723466  Ekin= 0.235421   Epot= -0.480593 : de= -5.87389e-05 ( 8.61044e-05 ) d(de)= 4.71486e-06 ( 1.36662e-05 ) t_sim=  2.18106 sec\n",
      "iter=55 : time= 3.4375  Etot= -0.2451715056  Ekin= 0.235525   Epot= -0.480696 : de= -6.21687e-05 ( 8.61044e-05 ) d(de)= -3.42998e-06 ( 1.36662e-05 ) t_sim=  2.23567 sec\n",
      "iter=56 : time= 3.5  Etot= -0.2451694712  Ekin= 0.235626   Epot= -0.480795 : de= -7.04662e-05 ( 8.61044e-05 ) d(de)= -8.29805e-06 ( 1.36662e-05 ) t_sim=  2.26011 sec\n"
     ]
    },
    {
     "name": "stderr",
     "output_type": "stream",
     "text": [
      "iter=56 : time= 3.5  Etot= -0.2451694712  Ekin= 0.235626   Epot= -0.480795 : de= -7.04662e-05 ( 8.61044e-05 ) d(de)= -8.29805e-06 ( 1.36662e-05 ) t_sim=  2.26012 sec\n",
      "iter=57 : time= 3.5625  Etot= -0.2451689431  Ekin= 0.235724   Epot= -0.480893 : de= -7.26199e-05 ( 8.61044e-05 ) d(de)= -2.15377e-06 ( 1.36662e-05 ) t_sim=  2.30231 sec\n",
      "iter=58 : time= 3.625  Etot= -0.2451694445  Ekin= 0.235818   Epot= -0.480987 : de= -7.05752e-05 ( 8.61044e-05 ) d(de)= 2.04478e-06 ( 1.36662e-05 ) t_sim=  2.32425 sec\n",
      "iter=59 : time= 3.6875  Etot= -0.2451696169  Ekin= 0.235906   Epot= -0.481075 : de= -6.98717e-05 ( 8.61044e-05 ) d(de)= 7.03555e-07 ( 1.36662e-05 ) t_sim=  2.34055 sec\n",
      "iter=60 : time= 3.75  Etot= -0.2451702118  Ekin= 0.235988   Epot= -0.481158 : de= -6.74455e-05 ( 8.61044e-05 ) d(de)= 2.42642e-06 ( 1.36662e-05 ) t_sim=  2.36141 sec\n",
      "iter=61 : time= 3.8125  Etot= -0.2451717863  Ekin= 0.236064   Epot= -0.481236 : de= -6.10239e-05 ( 8.61044e-05 ) d(de)= 6.42199e-06 ( 1.36662e-05 ) t_sim=  2.3789 sec\n",
      "iter=62 : time= 3.875  Etot= -0.24517269  Ekin= 0.236133   Epot= -0.481305 : de= -5.7338e-05 ( 8.61044e-05 ) d(de)= 3.68614e-06 ( 1.36662e-05 ) t_sim=  2.3973 sec\n",
      "iter=63 : time= 3.9375  Etot= -0.245172629  Ekin= 0.236197   Epot= -0.48137 : de= -5.7587e-05 ( 8.61044e-05 ) d(de)= -2.48995e-07 ( 1.36662e-05 ) t_sim=  2.41688 sec\n",
      "iter=64 : time= 4  Etot= -0.2451711011  Ekin= 0.236258   Epot= -0.481429 : de= -6.38184e-05 ( 8.61044e-05 ) d(de)= -6.23183e-06 ( 1.36662e-05 ) t_sim=  2.4386 sec\n",
      "iter=65 : time= 4.0625  Etot= -0.245170867  Ekin= 0.236317   Epot= -0.481488 : de= -6.47734e-05 ( 8.61044e-05 ) d(de)= -9.55067e-07 ( 1.36662e-05 ) t_sim=  2.4583 sec\n"
     ]
    },
    {
     "name": "stdout",
     "output_type": "stream",
     "text": [
      "iter=57 : time= 3.5625  Etot= -0.2451689431  Ekin= 0.235724   Epot= -0.480893 : de= -7.26199e-05 ( 8.61044e-05 ) d(de)= -2.15377e-06 ( 1.36662e-05 ) t_sim=  2.30231 sec\n",
      "iter=58 : time= 3.625  Etot= -0.2451694445  Ekin= 0.235818   Epot= -0.480987 : de= -7.05752e-05 ( 8.61044e-05 ) d(de)= 2.04478e-06 ( 1.36662e-05 ) t_sim=  2.32424 sec\n",
      "iter=59 : time= 3.6875  Etot= -0.2451696169  Ekin= 0.235906   Epot= -0.481075 : de= -6.98717e-05 ( 8.61044e-05 ) d(de)= 7.03555e-07 ( 1.36662e-05 ) t_sim=  2.34055 sec\n",
      "iter=60 : time= 3.75  Etot= -0.2451702118  Ekin= 0.235988   Epot= -0.481158 : de= -6.74455e-05 ( 8.61044e-05 ) d(de)= 2.42642e-06 ( 1.36662e-05 ) t_sim=  2.3614 sec\n",
      "iter=61 : time= 3.8125  Etot= -0.2451717863  Ekin= 0.236064   Epot= -0.481236 : de= -6.10239e-05 ( 8.61044e-05 ) d(de)= 6.42199e-06 ( 1.36662e-05 ) t_sim=  2.3789 sec\n",
      "iter=62 : time= 3.875  Etot= -0.24517269  Ekin= 0.236133   Epot= -0.481305 : de= -5.7338e-05 ( 8.61044e-05 ) d(de)= 3.68614e-06 ( 1.36662e-05 ) t_sim=  2.39729 sec\n",
      "iter=63 : time= 3.9375  Etot= -0.245172629  Ekin= 0.236197   Epot= -0.48137 : de= -5.7587e-05 ( 8.61044e-05 ) d(de)= -2.48995e-07 ( 1.36662e-05 ) t_sim=  2.41687 sec\n",
      "iter=64 : time= 4  Etot= -0.2451711011  Ekin= 0.236258   Epot= -0.481429 : de= -6.38184e-05 ( 8.61044e-05 ) d(de)= -6.23183e-06 ( 1.36662e-05 ) t_sim=  2.4386 sec\n",
      "iter=65 : time= 4.0625  Etot= -0.245170867  Ekin= 0.236317   Epot= -0.481488 : de= -6.47734e-05 ( 8.61044e-05 ) d(de)= -9.55067e-07 ( 1.36662e-05 ) t_sim=  2.45829 sec\n",
      "iter=66 : time= 4.125  Etot= -0.2451717848  Ekin= 0.236378   Epot= -0.48155 : de= -6.103e-05 ( 8.61044e-05 ) d(de)= 3.7437e-06 ( 1.36662e-05 ) t_sim=  2.47521 sec\n",
      "iter=67 : time= 4.1875  Etot= -0.2451708216  Ekin= 0.236442   Epot= -0.481613 : de= -6.49584e-05 ( 8.61044e-05 ) d(de)= -3.92864e-06 ( 1.36662e-05 ) t_sim=  2.49696 sec\n"
     ]
    },
    {
     "name": "stderr",
     "output_type": "stream",
     "text": [
      "iter=66 : time= 4.125  Etot= -0.2451717848  Ekin= 0.236378   Epot= -0.48155 : de= -6.103e-05 ( 8.61044e-05 ) d(de)= 3.7437e-06 ( 1.36662e-05 ) t_sim=  2.47521 sec\n",
      "iter=67 : time= 4.1875  Etot= -0.2451708216  Ekin= 0.236442   Epot= -0.481613 : de= -6.49584e-05 ( 8.61044e-05 ) d(de)= -3.92864e-06 ( 1.36662e-05 ) t_sim=  2.49697 sec\n",
      "iter=68 : time= 4.25  Etot= -0.2451688577  Ekin= 0.236515   Epot= -0.481683 : de= -7.29684e-05 ( 8.61044e-05 ) d(de)= -8.0105e-06 ( 1.36662e-05 ) t_sim=  2.51974 sec\n",
      "iter=69 : time= 4.3125  Etot= -0.2451702593  Ekin= 0.236595   Epot= -0.481766 : de= -6.72519e-05 ( 8.61044e-05 ) d(de)= 5.71684e-06 ( 1.36662e-05 ) t_sim=  2.53906 sec\n",
      "iter=70 : time= 4.375  Etot= -0.2451693917  Ekin= 0.236679   Epot= -0.481849 : de= -7.07904e-05 ( 8.61044e-05 ) d(de)= -3.5387e-06 ( 1.36662e-05 ) t_sim=  2.56234 sec\n",
      "iter=71 : time= 4.4375  Etot= -0.2451700062  Ekin= 0.23676   Epot= -0.48193 : de= -6.82839e-05 ( 8.61044e-05 ) d(de)= 2.50665e-06 ( 1.36662e-05 ) t_sim=  2.58133 sec\n",
      "iter=72 : time= 4.5  Etot= -0.2451702013  Ekin= 0.236834   Epot= -0.482004 : de= -6.74883e-05 ( 8.61044e-05 ) d(de)= 7.95705e-07 ( 1.36662e-05 ) t_sim=  2.60433 sec\n",
      "iter=73 : time= 4.5625  Etot= -0.2451699557  Ekin= 0.236899   Epot= -0.482069 : de= -6.84902e-05 ( 8.61044e-05 ) d(de)= -1.00195e-06 ( 1.36662e-05 ) t_sim=  2.62465 sec\n",
      "iter=74 : time= 4.625  Etot= -0.2451730038  Ekin= 0.236952   Epot= -0.482125 : de= -5.60582e-05 ( 8.61044e-05 ) d(de)= 1.24329e-05 ( 1.36662e-05 ) t_sim=  2.64321 sec\n",
      "iter=75 : time= 4.6875  Etot= -0.2451715449  Ekin= 0.23699   Epot= -0.482162 : de= -6.20086e-05 ( 8.61044e-05 ) d(de)= -5.95074e-06 ( 1.36662e-05 ) t_sim=  2.66645 sec\n"
     ]
    },
    {
     "name": "stdout",
     "output_type": "stream",
     "text": [
      "iter=68 : time= 4.25  Etot= -0.2451688577  Ekin= 0.236515   Epot= -0.481683 : de= -7.29684e-05 ( 8.61044e-05 ) d(de)= -8.0105e-06 ( 1.36662e-05 ) t_sim=  2.51974 sec\n",
      "iter=69 : time= 4.3125  Etot= -0.2451702593  Ekin= 0.236595   Epot= -0.481766 : de= -6.72519e-05 ( 8.61044e-05 ) d(de)= 5.71684e-06 ( 1.36662e-05 ) t_sim=  2.53906 sec\n",
      "iter=70 : time= 4.375  Etot= -0.2451693917  Ekin= 0.236679   Epot= -0.481849 : de= -7.07904e-05 ( 8.61044e-05 ) d(de)= -3.5387e-06 ( 1.36662e-05 ) t_sim=  2.56234 sec\n",
      "iter=71 : time= 4.4375  Etot= -0.2451700062  Ekin= 0.23676   Epot= -0.48193 : de= -6.82839e-05 ( 8.61044e-05 ) d(de)= 2.50665e-06 ( 1.36662e-05 ) t_sim=  2.58132 sec\n",
      "iter=72 : time= 4.5  Etot= -0.2451702013  Ekin= 0.236834   Epot= -0.482004 : de= -6.74883e-05 ( 8.61044e-05 ) d(de)= 7.95705e-07 ( 1.36662e-05 ) t_sim=  2.60432 sec\n",
      "iter=73 : time= 4.5625  Etot= -0.2451699557  Ekin= 0.236899   Epot= -0.482069 : de= -6.84902e-05 ( 8.61044e-05 ) d(de)= -1.00195e-06 ( 1.36662e-05 ) t_sim=  2.62464 sec\n",
      "iter=74 : time= 4.625  Etot= -0.2451730038  Ekin= 0.236952   Epot= -0.482125 : de= -5.60582e-05 ( 8.61044e-05 ) d(de)= 1.24329e-05 ( 1.36662e-05 ) t_sim=  2.6432 sec\n",
      "iter=75 : time= 4.6875  Etot= -0.2451715449  Ekin= 0.23699   Epot= -0.482162 : de= -6.20086e-05 ( 8.61044e-05 ) d(de)= -5.95074e-06 ( 1.36662e-05 ) t_sim=  2.66645 sec\n",
      "iter=76 : time= 4.75  Etot= -0.2451706721  Ekin= 0.237015   Epot= -0.482186 : de= -6.55681e-05 ( 8.61044e-05 ) d(de)= -3.55973e-06 ( 1.36662e-05 ) t_sim=  2.68819 sec\n",
      "iter=77 : time= 4.8125  Etot= -0.2451701408  Ekin= 0.237032   Epot= -0.482203 : de= -6.7735e-05 ( 8.61044e-05 ) d(de)= -2.16704e-06 ( 1.36662e-05 ) t_sim=  2.70983 sec\n"
     ]
    },
    {
     "name": "stderr",
     "output_type": "stream",
     "text": [
      "iter=76 : time= 4.75  Etot= -0.2451706721  Ekin= 0.237015   Epot= -0.482186 : de= -6.55681e-05 ( 8.61044e-05 ) d(de)= -3.55973e-06 ( 1.36662e-05 ) t_sim=  2.6882 sec\n",
      "iter=77 : time= 4.8125  Etot= -0.2451701408  Ekin= 0.237032   Epot= -0.482203 : de= -6.7735e-05 ( 8.61044e-05 ) d(de)= -2.16704e-06 ( 1.36662e-05 ) t_sim=  2.70983 sec\n",
      "iter=78 : time= 4.875  Etot= -0.2451693325  Ekin= 0.237045   Epot= -0.482215 : de= -7.10318e-05 ( 8.61044e-05 ) d(de)= -3.29703e-06 ( 1.36662e-05 ) t_sim=  2.73521 sec\n",
      "iter=79 : time= 4.9375  Etot= -0.2451714894  Ekin= 0.237058   Epot= -0.48223 : de= -6.22348e-05 ( 8.61044e-05 ) d(de)= 8.79759e-06 ( 1.36662e-05 ) t_sim=  2.75616 sec\n",
      "iter=80 : time= 5  Etot= -0.2451710804  Ekin= 0.237076   Epot= -0.482247 : de= -6.39031e-05 ( 8.61044e-05 ) d(de)= -1.66839e-06 ( 1.36662e-05 ) t_sim=  2.77485 sec\n",
      "iter=80 : time= 5  Etot= -0.2451710804  Ekin= 0.237076   Epot= -0.482247 : de= -6.39031e-05 ( 8.61044e-05 ) d(de)= -0 ( 1.36662e-05 ) t_sim=  2.78806 sec\n"
     ]
    },
    {
     "name": "stdout",
     "output_type": "stream",
     "text": [
      "iter=78 : time= 4.875  Etot= -0.2451693325  Ekin= 0.237045   Epot= -0.482215 : de= -7.10318e-05 ( 8.61044e-05 ) d(de)= -3.29703e-06 ( 1.36662e-05 ) t_sim=  2.73521 sec\n",
      "iter=79 : time= 4.9375  Etot= -0.2451714894  Ekin= 0.237058   Epot= -0.48223 : de= -6.22348e-05 ( 8.61044e-05 ) d(de)= 8.79759e-06 ( 1.36662e-05 ) t_sim=  2.75616 sec\n",
      "iter=80 : time= 5  Etot= -0.2451710804  Ekin= 0.237076   Epot= -0.482247 : de= -6.39031e-05 ( 8.61044e-05 ) d(de)= -1.66839e-06 ( 1.36662e-05 ) t_sim=  2.77483 sec\n",
      "iter=80 : time= 5  Etot= -0.2451710804  Ekin= 0.237076   Epot= -0.482247 : de= -6.39031e-05 ( 8.61044e-05 ) d(de)= -0 ( 1.36662e-05 ) t_sim=  2.78804 sec\n",
      "data/plummer_snap_mpi_00002.1875-0  and  data/plummer_snap_mpi_00000.2500-0\n",
      "data/plummer_snap_mpi_00003.9375-0  and  data/plummer_snap_mpi_00002.1875-0\n",
      "data/plummer_snap_mpi_00000.8750-0  and  data/plummer_snap_mpi_00003.9375-0\n",
      "data/plummer_snap_mpi_00000.8750-0  and  data/plummer_snap_mpi_00002.1875-0\n",
      "data/plummer_snap_mpi_00000.8750-0  and  data/plummer_snap_mpi_00000.2500-0\n",
      "data/plummer_snap_mpi_00002.3125-0  and  data/plummer_snap_mpi_00002.1875-0\n",
      "data/plummer_snap_mpi_00002.3125-0  and  data/plummer_snap_mpi_00003.9375-0\n",
      "data/plummer_snap_mpi_00000.3750-0  and  data/plummer_snap_mpi_00002.1875-0\n",
      "data/plummer_snap_mpi_00000.3750-0  and  data/plummer_snap_mpi_00000.8750-0\n",
      "data/plummer_snap_mpi_00000.3750-0  and  data/plummer_snap_mpi_00000.2500-0\n",
      "data/plummer_snap_mpi_00004.8125-0  and  data/plummer_snap_mpi_00002.1875-0\n",
      "data/plummer_snap_mpi_00004.8125-0  and  data/plummer_snap_mpi_00003.9375-0\n",
      "data/plummer_snap_mpi_00004.0625-0  and  data/plummer_snap_mpi_00002.1875-0\n",
      "data/plummer_snap_mpi_00004.0625-0  and  data/plummer_snap_mpi_00003.9375-0\n",
      "data/plummer_snap_mpi_00004.0625-0  and  data/plummer_snap_mpi_00004.8125-0\n",
      "data/plummer_snap_mpi_00004.6875-0  and  data/plummer_snap_mpi_00002.3125-0\n",
      "data/plummer_snap_mpi_00004.6875-0  and  data/plummer_snap_mpi_00004.0625-0\n",
      "data/plummer_snap_mpi_00004.6875-0  and  data/plummer_snap_mpi_00004.8125-0\n",
      "data/plummer_snap_mpi_00002.2500-0  and  data/plummer_snap_mpi_00002.3125-0\n",
      "data/plummer_snap_mpi_00002.2500-0  and  data/plummer_snap_mpi_00000.8750-0\n",
      "data/plummer_snap_mpi_00002.2500-0  and  data/plummer_snap_mpi_00002.1875-0\n",
      "data/plummer_snap_mpi_00000.8125-0  and  data/plummer_snap_mpi_00002.3125-0\n",
      "data/plummer_snap_mpi_00000.8125-0  and  data/plummer_snap_mpi_00000.8750-0\n",
      "data/plummer_snap_mpi_00000.8125-0  and  data/plummer_snap_mpi_00000.3750-0\n",
      "data/plummer_snap_mpi_00002.8125-0  and  data/plummer_snap_mpi_00002.2500-0\n",
      "data/plummer_snap_mpi_00002.8125-0  and  data/plummer_snap_mpi_00004.0625-0\n",
      "data/plummer_snap_mpi_00002.8125-0  and  data/plummer_snap_mpi_00003.9375-0\n",
      "data/plummer_snap_mpi_00002.8125-0  and  data/plummer_snap_mpi_00002.3125-0\n",
      "data/plummer_snap_mpi_00005.0000-0  and  data/plummer_snap_mpi_00002.3125-0\n",
      "data/plummer_snap_mpi_00005.0000-0  and  data/plummer_snap_mpi_00004.0625-0\n",
      "data/plummer_snap_mpi_00005.0000-0  and  data/plummer_snap_mpi_00004.8125-0\n",
      "data/plummer_snap_mpi_00002.0000-0  and  data/plummer_snap_mpi_00002.3125-0\n",
      "data/plummer_snap_mpi_00002.0000-0  and  data/plummer_snap_mpi_00000.8750-0\n",
      "data/plummer_snap_mpi_00002.0000-0  and  data/plummer_snap_mpi_00002.2500-0\n",
      "data/plummer_snap_mpi_00002.0000-0  and  data/plummer_snap_mpi_00002.1875-0\n",
      "data/plummer_snap_mpi_00003.1250-0  and  data/plummer_snap_mpi_00002.3125-0\n",
      "data/plummer_snap_mpi_00003.1250-0  and  data/plummer_snap_mpi_00004.6875-0\n",
      "data/plummer_snap_mpi_00003.1250-0  and  data/plummer_snap_mpi_00003.9375-0\n",
      "data/plummer_snap_mpi_00003.1250-0  and  data/plummer_snap_mpi_00002.8125-0\n",
      "data/plummer_snap_mpi_00004.2500-0  and  data/plummer_snap_mpi_00002.3125-0\n",
      "data/plummer_snap_mpi_00004.2500-0  and  data/plummer_snap_mpi_00004.0625-0\n",
      "data/plummer_snap_mpi_00004.2500-0  and  data/plummer_snap_mpi_00004.8125-0\n",
      "data/plummer_snap_mpi_00004.2500-0  and  data/plummer_snap_mpi_00004.6875-0\n",
      "data/plummer_snap_mpi_00002.1250-0  and  data/plummer_snap_mpi_00002.8125-0\n",
      "data/plummer_snap_mpi_00002.1250-0  and  data/plummer_snap_mpi_00002.0000-0\n",
      "data/plummer_snap_mpi_00002.1250-0  and  data/plummer_snap_mpi_00002.2500-0\n",
      "data/plummer_snap_mpi_00002.1250-0  and  data/plummer_snap_mpi_00002.1875-0\n",
      "data/plummer_snap_mpi_00000.4375-0  and  data/plummer_snap_mpi_00002.3125-0\n",
      "data/plummer_snap_mpi_00000.4375-0  and  data/plummer_snap_mpi_00002.0000-0\n",
      "data/plummer_snap_mpi_00000.4375-0  and  data/plummer_snap_mpi_00000.8125-0\n",
      "data/plummer_snap_mpi_00000.4375-0  and  data/plummer_snap_mpi_00000.3750-0\n",
      "data/plummer_snap_mpi_00003.3750-0  and  data/plummer_snap_mpi_00002.3125-0\n",
      "data/plummer_snap_mpi_00003.3750-0  and  data/plummer_snap_mpi_00004.2500-0\n",
      "data/plummer_snap_mpi_00003.3750-0  and  data/plummer_snap_mpi_00003.9375-0\n",
      "data/plummer_snap_mpi_00003.3750-0  and  data/plummer_snap_mpi_00003.1250-0\n",
      "data/plummer_snap_mpi_00004.6250-0  and  data/plummer_snap_mpi_00002.3125-0\n",
      "data/plummer_snap_mpi_00004.6250-0  and  data/plummer_snap_mpi_00004.0625-0\n",
      "data/plummer_snap_mpi_00004.6250-0  and  data/plummer_snap_mpi_00004.8125-0\n",
      "data/plummer_snap_mpi_00004.6250-0  and  data/plummer_snap_mpi_00004.6875-0\n",
      "data/plummer_snap_mpi_00004.6250-0  and  data/plummer_snap_mpi_00004.2500-0\n",
      "data/plummer_snap_mpi_00003.4375-0  and  data/plummer_snap_mpi_00002.8125-0\n",
      "data/plummer_snap_mpi_00003.4375-0  and  data/plummer_snap_mpi_00004.2500-0\n",
      "data/plummer_snap_mpi_00003.4375-0  and  data/plummer_snap_mpi_00003.9375-0\n",
      "data/plummer_snap_mpi_00003.4375-0  and  data/plummer_snap_mpi_00003.3750-0\n",
      "data/plummer_snap_mpi_00003.7500-0  and  data/plummer_snap_mpi_00002.8125-0\n",
      "data/plummer_snap_mpi_00003.7500-0  and  data/plummer_snap_mpi_00004.2500-0\n",
      "data/plummer_snap_mpi_00003.7500-0  and  data/plummer_snap_mpi_00003.4375-0\n",
      "data/plummer_snap_mpi_00003.7500-0  and  data/plummer_snap_mpi_00004.0625-0\n",
      "data/plummer_snap_mpi_00003.7500-0  and  data/plummer_snap_mpi_00003.9375-0\n",
      "data/plummer_snap_mpi_00001.0000-0  and  data/plummer_snap_mpi_00003.1250-0\n",
      "data/plummer_snap_mpi_00001.0000-0  and  data/plummer_snap_mpi_00002.0000-0\n",
      "data/plummer_snap_mpi_00001.0000-0  and  data/plummer_snap_mpi_00000.4375-0\n",
      "data/plummer_snap_mpi_00001.0000-0  and  data/plummer_snap_mpi_00000.8750-0\n",
      "data/plummer_snap_mpi_00004.3750-0  and  data/plummer_snap_mpi_00002.8125-0\n",
      "data/plummer_snap_mpi_00004.3750-0  and  data/plummer_snap_mpi_00004.0625-0\n",
      "data/plummer_snap_mpi_00004.3750-0  and  data/plummer_snap_mpi_00004.6875-0\n",
      "data/plummer_snap_mpi_00004.3750-0  and  data/plummer_snap_mpi_00004.6250-0\n",
      "data/plummer_snap_mpi_00004.3750-0  and  data/plummer_snap_mpi_00004.2500-0\n",
      "data/plummer_snap_mpi_00003.3125-0  and  data/plummer_snap_mpi_00003.1250-0\n",
      "data/plummer_snap_mpi_00003.3125-0  and  data/plummer_snap_mpi_00004.2500-0\n",
      "data/plummer_snap_mpi_00003.3125-0  and  data/plummer_snap_mpi_00003.7500-0\n",
      "data/plummer_snap_mpi_00003.3125-0  and  data/plummer_snap_mpi_00003.4375-0\n",
      "data/plummer_snap_mpi_00003.3125-0  and  data/plummer_snap_mpi_00003.3750-0\n",
      "data/plummer_snap_mpi_00003.6250-0  and  data/plummer_snap_mpi_00003.1250-0\n",
      "data/plummer_snap_mpi_00003.6250-0  and  data/plummer_snap_mpi_00004.2500-0\n",
      "data/plummer_snap_mpi_00003.6250-0  and  data/plummer_snap_mpi_00003.7500-0\n",
      "data/plummer_snap_mpi_00003.6250-0  and  data/plummer_snap_mpi_00003.3750-0\n",
      "data/plummer_snap_mpi_00003.6250-0  and  data/plummer_snap_mpi_00003.4375-0\n",
      "data/plummer_snap_mpi_00002.5000-0  and  data/plummer_snap_mpi_00003.3125-0\n",
      "data/plummer_snap_mpi_00002.5000-0  and  data/plummer_snap_mpi_00002.0000-0\n",
      "data/plummer_snap_mpi_00002.5000-0  and  data/plummer_snap_mpi_00002.3125-0\n",
      "data/plummer_snap_mpi_00002.5000-0  and  data/plummer_snap_mpi_00003.1250-0\n",
      "data/plummer_snap_mpi_00002.5000-0  and  data/plummer_snap_mpi_00002.8125-0\n",
      "data/plummer_snap_mpi_00001.4375-0  and  data/plummer_snap_mpi_00003.1250-0\n",
      "data/plummer_snap_mpi_00001.4375-0  and  data/plummer_snap_mpi_00002.0000-0\n",
      "data/plummer_snap_mpi_00001.4375-0  and  data/plummer_snap_mpi_00000.8125-0\n",
      "data/plummer_snap_mpi_00001.4375-0  and  data/plummer_snap_mpi_00001.0000-0\n",
      "data/plummer_snap_mpi_00004.9375-0  and  data/plummer_snap_mpi_00003.1250-0\n",
      "data/plummer_snap_mpi_00004.9375-0  and  data/plummer_snap_mpi_00004.0625-0\n",
      "data/plummer_snap_mpi_00004.9375-0  and  data/plummer_snap_mpi_00004.6875-0\n",
      "data/plummer_snap_mpi_00004.9375-0  and  data/plummer_snap_mpi_00005.0000-0\n",
      "data/plummer_snap_mpi_00004.9375-0  and  data/plummer_snap_mpi_00004.8125-0\n",
      "data/plummer_snap_mpi_00000.6250-0  and  data/plummer_snap_mpi_00003.1250-0\n",
      "data/plummer_snap_mpi_00000.6250-0  and  data/plummer_snap_mpi_00002.0000-0\n",
      "data/plummer_snap_mpi_00000.6250-0  and  data/plummer_snap_mpi_00000.8125-0\n",
      "data/plummer_snap_mpi_00000.6250-0  and  data/plummer_snap_mpi_00000.3750-0\n",
      "data/plummer_snap_mpi_00000.6250-0  and  data/plummer_snap_mpi_00000.4375-0\n",
      "data/plummer_snap_mpi_00003.8750-0  and  data/plummer_snap_mpi_00003.1250-0\n",
      "data/plummer_snap_mpi_00003.8750-0  and  data/plummer_snap_mpi_00004.2500-0\n",
      "data/plummer_snap_mpi_00003.8750-0  and  data/plummer_snap_mpi_00003.6250-0\n",
      "data/plummer_snap_mpi_00003.8750-0  and  data/plummer_snap_mpi_00003.9375-0\n",
      "data/plummer_snap_mpi_00003.8750-0  and  data/plummer_snap_mpi_00003.7500-0\n",
      "data/plummer_snap_mpi_00000.5625-0  and  data/plummer_snap_mpi_00003.1250-0\n",
      "data/plummer_snap_mpi_00000.5625-0  and  data/plummer_snap_mpi_00001.4375-0\n",
      "data/plummer_snap_mpi_00000.5625-0  and  data/plummer_snap_mpi_00000.6250-0\n",
      "data/plummer_snap_mpi_00000.5625-0  and  data/plummer_snap_mpi_00000.3750-0\n",
      "data/plummer_snap_mpi_00000.5625-0  and  data/plummer_snap_mpi_00000.4375-0\n",
      "data/plummer_snap_mpi_00000.1250-0  and  data/plummer_snap_mpi_00003.1250-0\n",
      "data/plummer_snap_mpi_00000.1250-0  and  data/plummer_snap_mpi_00001.4375-0\n",
      "data/plummer_snap_mpi_00000.1250-0  and  data/plummer_snap_mpi_00000.6250-0\n",
      "data/plummer_snap_mpi_00000.1250-0  and  data/plummer_snap_mpi_00000.4375-0\n",
      "data/plummer_snap_mpi_00000.1250-0  and  data/plummer_snap_mpi_00000.3750-0\n",
      "data/plummer_snap_mpi_00000.1250-0  and  data/plummer_snap_mpi_00000.2500-0\n",
      "data/plummer_snap_mpi_00004.1250-0  and  data/plummer_snap_mpi_00002.8125-0\n",
      "data/plummer_snap_mpi_00004.1250-0  and  data/plummer_snap_mpi_00004.0625-0\n",
      "data/plummer_snap_mpi_00004.1250-0  and  data/plummer_snap_mpi_00004.6875-0\n",
      "data/plummer_snap_mpi_00004.1250-0  and  data/plummer_snap_mpi_00004.3750-0\n",
      "data/plummer_snap_mpi_00004.1250-0  and  data/plummer_snap_mpi_00004.2500-0\n",
      "data/plummer_snap_mpi_00002.8750-0  and  data/plummer_snap_mpi_00003.1250-0\n",
      "data/plummer_snap_mpi_00002.8750-0  and  data/plummer_snap_mpi_00001.0000-0\n",
      "data/plummer_snap_mpi_00002.8750-0  and  data/plummer_snap_mpi_00002.2500-0\n",
      "data/plummer_snap_mpi_00002.8750-0  and  data/plummer_snap_mpi_00002.5000-0\n",
      "data/plummer_snap_mpi_00002.8750-0  and  data/plummer_snap_mpi_00002.8125-0\n",
      "data/plummer_snap_mpi_00000.3125-0  and  data/plummer_snap_mpi_00002.8750-0\n",
      "data/plummer_snap_mpi_00000.3125-0  and  data/plummer_snap_mpi_00001.0000-0\n",
      "data/plummer_snap_mpi_00000.3125-0  and  data/plummer_snap_mpi_00000.5625-0\n",
      "data/plummer_snap_mpi_00000.3125-0  and  data/plummer_snap_mpi_00000.3750-0\n",
      "data/plummer_snap_mpi_00000.3125-0  and  data/plummer_snap_mpi_00000.2500-0\n",
      "data/plummer_snap_mpi_00002.0625-0  and  data/plummer_snap_mpi_00002.8750-0\n",
      "data/plummer_snap_mpi_00002.0625-0  and  data/plummer_snap_mpi_00001.0000-0\n",
      "data/plummer_snap_mpi_00002.0625-0  and  data/plummer_snap_mpi_00002.2500-0\n",
      "data/plummer_snap_mpi_00002.0625-0  and  data/plummer_snap_mpi_00002.1250-0\n",
      "data/plummer_snap_mpi_00002.0625-0  and  data/plummer_snap_mpi_00002.0000-0\n",
      "data/plummer_snap_mpi_00001.9375-0  and  data/plummer_snap_mpi_00002.8125-0\n",
      "data/plummer_snap_mpi_00001.9375-0  and  data/plummer_snap_mpi_00001.0000-0\n",
      "data/plummer_snap_mpi_00001.9375-0  and  data/plummer_snap_mpi_00002.1875-0\n",
      "data/plummer_snap_mpi_00001.9375-0  and  data/plummer_snap_mpi_00002.0625-0\n",
      "data/plummer_snap_mpi_00001.9375-0  and  data/plummer_snap_mpi_00002.0000-0\n",
      "data/plummer_snap_mpi_00001.9375-0  and  data/plummer_snap_mpi_00001.4375-0\n",
      "data/plummer_snap_mpi_00000.6875-0  and  data/plummer_snap_mpi_00002.8125-0\n",
      "data/plummer_snap_mpi_00000.6875-0  and  data/plummer_snap_mpi_00001.0000-0\n",
      "data/plummer_snap_mpi_00000.6875-0  and  data/plummer_snap_mpi_00000.4375-0\n",
      "data/plummer_snap_mpi_00000.6875-0  and  data/plummer_snap_mpi_00000.8125-0\n",
      "data/plummer_snap_mpi_00000.6875-0  and  data/plummer_snap_mpi_00000.6250-0\n",
      "data/plummer_snap_mpi_00002.3750-0  and  data/plummer_snap_mpi_00002.5000-0\n",
      "data/plummer_snap_mpi_00002.3750-0  and  data/plummer_snap_mpi_00000.8750-0\n",
      "data/plummer_snap_mpi_00002.3750-0  and  data/plummer_snap_mpi_00002.0625-0\n",
      "data/plummer_snap_mpi_00002.3750-0  and  data/plummer_snap_mpi_00002.2500-0\n",
      "data/plummer_snap_mpi_00002.3750-0  and  data/plummer_snap_mpi_00002.3125-0\n",
      "data/plummer_snap_mpi_00001.7500-0  and  data/plummer_snap_mpi_00002.5000-0\n",
      "data/plummer_snap_mpi_00001.7500-0  and  data/plummer_snap_mpi_00001.0000-0\n",
      "data/plummer_snap_mpi_00001.7500-0  and  data/plummer_snap_mpi_00002.1250-0\n",
      "data/plummer_snap_mpi_00001.7500-0  and  data/plummer_snap_mpi_00002.0000-0\n",
      "data/plummer_snap_mpi_00001.7500-0  and  data/plummer_snap_mpi_00001.9375-0\n",
      "data/plummer_snap_mpi_00001.7500-0  and  data/plummer_snap_mpi_00001.4375-0\n",
      "data/plummer_snap_mpi_00000.0000-0  and  data/plummer_snap_mpi_00000.0625-0\n",
      "data/plummer_snap_mpi_00001.6875-0  and  data/plummer_snap_mpi_00000.0000-0\n",
      "data/plummer_snap_mpi_00001.6875-0  and  data/plummer_snap_mpi_00000.0625-0\n",
      "data/plummer_snap_mpi_00002.6875-0  and  data/plummer_snap_mpi_00000.0625-0\n",
      "data/plummer_snap_mpi_00002.6875-0  and  data/plummer_snap_mpi_00001.6875-0\n",
      "data/plummer_snap_mpi_00000.1875-0  and  data/plummer_snap_mpi_00001.6875-0\n",
      "data/plummer_snap_mpi_00000.1875-0  and  data/plummer_snap_mpi_00000.0625-0\n",
      "data/plummer_snap_mpi_00003.6875-0  and  data/plummer_snap_mpi_00000.1875-0\n",
      "data/plummer_snap_mpi_00003.6875-0  and  data/plummer_snap_mpi_00002.6875-0\n",
      "data/plummer_snap_mpi_00001.1875-0  and  data/plummer_snap_mpi_00001.6875-0\n",
      "data/plummer_snap_mpi_00001.1875-0  and  data/plummer_snap_mpi_00000.0625-0\n",
      "data/plummer_snap_mpi_00001.1875-0  and  data/plummer_snap_mpi_00000.1875-0\n",
      "data/plummer_snap_mpi_00001.8750-0  and  data/plummer_snap_mpi_00001.1875-0\n",
      "data/plummer_snap_mpi_00001.8750-0  and  data/plummer_snap_mpi_00002.6875-0\n",
      "data/plummer_snap_mpi_00001.8750-0  and  data/plummer_snap_mpi_00001.6875-0\n",
      "data/plummer_snap_mpi_00001.0625-0  and  data/plummer_snap_mpi_00001.6875-0\n",
      "data/plummer_snap_mpi_00001.0625-0  and  data/plummer_snap_mpi_00000.1875-0\n",
      "data/plummer_snap_mpi_00001.0625-0  and  data/plummer_snap_mpi_00001.1875-0\n",
      "data/plummer_snap_mpi_00002.4375-0  and  data/plummer_snap_mpi_00001.1875-0\n",
      "data/plummer_snap_mpi_00002.4375-0  and  data/plummer_snap_mpi_00002.6875-0\n",
      "data/plummer_snap_mpi_00002.4375-0  and  data/plummer_snap_mpi_00001.8750-0\n",
      "data/plummer_snap_mpi_00001.5000-0  and  data/plummer_snap_mpi_00001.6875-0\n",
      "data/plummer_snap_mpi_00001.5000-0  and  data/plummer_snap_mpi_00000.1875-0\n",
      "data/plummer_snap_mpi_00001.5000-0  and  data/plummer_snap_mpi_00001.1875-0\n",
      "data/plummer_snap_mpi_00004.7500-0  and  data/plummer_snap_mpi_00001.5000-0\n",
      "data/plummer_snap_mpi_00004.7500-0  and  data/plummer_snap_mpi_00002.4375-0\n",
      "data/plummer_snap_mpi_00004.7500-0  and  data/plummer_snap_mpi_00003.6875-0\n",
      "data/plummer_snap_mpi_00001.2500-0  and  data/plummer_snap_mpi_00001.6875-0\n",
      "data/plummer_snap_mpi_00001.2500-0  and  data/plummer_snap_mpi_00001.0625-0\n",
      "data/plummer_snap_mpi_00001.2500-0  and  data/plummer_snap_mpi_00001.5000-0\n",
      "data/plummer_snap_mpi_00001.2500-0  and  data/plummer_snap_mpi_00001.1875-0\n",
      "data/plummer_snap_mpi_00002.6250-0  and  data/plummer_snap_mpi_00001.5000-0\n",
      "data/plummer_snap_mpi_00002.6250-0  and  data/plummer_snap_mpi_00002.6875-0\n",
      "data/plummer_snap_mpi_00002.6250-0  and  data/plummer_snap_mpi_00001.8750-0\n",
      "data/plummer_snap_mpi_00002.6250-0  and  data/plummer_snap_mpi_00002.4375-0\n",
      "data/plummer_snap_mpi_00004.5000-0  and  data/plummer_snap_mpi_00001.6875-0\n",
      "data/plummer_snap_mpi_00004.5000-0  and  data/plummer_snap_mpi_00002.6875-0\n",
      "data/plummer_snap_mpi_00004.5000-0  and  data/plummer_snap_mpi_00004.7500-0\n",
      "data/plummer_snap_mpi_00004.5000-0  and  data/plummer_snap_mpi_00003.6875-0\n",
      "data/plummer_snap_mpi_00002.7500-0  and  data/plummer_snap_mpi_00001.6875-0\n",
      "data/plummer_snap_mpi_00002.7500-0  and  data/plummer_snap_mpi_00002.6875-0\n",
      "data/plummer_snap_mpi_00002.7500-0  and  data/plummer_snap_mpi_00004.5000-0\n",
      "data/plummer_snap_mpi_00002.7500-0  and  data/plummer_snap_mpi_00003.6875-0\n",
      "data/plummer_snap_mpi_00004.4375-0  and  data/plummer_snap_mpi_00001.8750-0\n",
      "data/plummer_snap_mpi_00004.4375-0  and  data/plummer_snap_mpi_00002.7500-0\n",
      "data/plummer_snap_mpi_00004.4375-0  and  data/plummer_snap_mpi_00004.5000-0\n",
      "data/plummer_snap_mpi_00004.4375-0  and  data/plummer_snap_mpi_00003.6875-0\n",
      "data/plummer_snap_mpi_00003.5000-0  and  data/plummer_snap_mpi_00001.8750-0\n",
      "data/plummer_snap_mpi_00003.5000-0  and  data/plummer_snap_mpi_00003.6875-0\n",
      "data/plummer_snap_mpi_00003.5000-0  and  data/plummer_snap_mpi_00002.6875-0\n",
      "data/plummer_snap_mpi_00003.5000-0  and  data/plummer_snap_mpi_00002.7500-0\n",
      "data/plummer_snap_mpi_00003.2500-0  and  data/plummer_snap_mpi_00002.4375-0\n",
      "data/plummer_snap_mpi_00003.2500-0  and  data/plummer_snap_mpi_00003.6875-0\n",
      "data/plummer_snap_mpi_00003.2500-0  and  data/plummer_snap_mpi_00002.7500-0\n",
      "data/plummer_snap_mpi_00003.2500-0  and  data/plummer_snap_mpi_00003.5000-0\n",
      "data/plummer_snap_mpi_00003.8125-0  and  data/plummer_snap_mpi_00002.4375-0\n",
      "data/plummer_snap_mpi_00003.8125-0  and  data/plummer_snap_mpi_00003.5000-0\n",
      "data/plummer_snap_mpi_00003.8125-0  and  data/plummer_snap_mpi_00004.5000-0\n",
      "data/plummer_snap_mpi_00003.8125-0  and  data/plummer_snap_mpi_00004.4375-0\n",
      "data/plummer_snap_mpi_00003.8125-0  and  data/plummer_snap_mpi_00003.6875-0\n",
      "data/plummer_snap_mpi_00004.0000-0  and  data/plummer_snap_mpi_00002.6250-0\n",
      "data/plummer_snap_mpi_00004.0000-0  and  data/plummer_snap_mpi_00003.6875-0\n",
      "data/plummer_snap_mpi_00004.0000-0  and  data/plummer_snap_mpi_00004.5000-0\n",
      "data/plummer_snap_mpi_00004.0000-0  and  data/plummer_snap_mpi_00004.4375-0\n",
      "data/plummer_snap_mpi_00004.0000-0  and  data/plummer_snap_mpi_00003.8125-0\n",
      "data/plummer_snap_mpi_00003.1875-0  and  data/plummer_snap_mpi_00002.6250-0\n",
      "data/plummer_snap_mpi_00003.1875-0  and  data/plummer_snap_mpi_00003.8125-0\n",
      "data/plummer_snap_mpi_00003.1875-0  and  data/plummer_snap_mpi_00003.2500-0\n",
      "data/plummer_snap_mpi_00003.1875-0  and  data/plummer_snap_mpi_00002.7500-0\n",
      "data/plummer_snap_mpi_00001.5625-0  and  data/plummer_snap_mpi_00002.6875-0\n",
      "data/plummer_snap_mpi_00001.5625-0  and  data/plummer_snap_mpi_00001.2500-0\n",
      "data/plummer_snap_mpi_00001.5625-0  and  data/plummer_snap_mpi_00001.8750-0\n",
      "data/plummer_snap_mpi_00001.5625-0  and  data/plummer_snap_mpi_00001.6875-0\n",
      "data/plummer_snap_mpi_00001.5625-0  and  data/plummer_snap_mpi_00001.5000-0\n",
      "data/plummer_snap_mpi_00004.1875-0  and  data/plummer_snap_mpi_00002.6250-0\n",
      "data/plummer_snap_mpi_00004.1875-0  and  data/plummer_snap_mpi_00003.6875-0\n",
      "data/plummer_snap_mpi_00004.1875-0  and  data/plummer_snap_mpi_00004.4375-0\n",
      "data/plummer_snap_mpi_00004.1875-0  and  data/plummer_snap_mpi_00004.0000-0\n",
      "data/plummer_snap_mpi_00000.9375-0  and  data/plummer_snap_mpi_00002.6875-0\n",
      "data/plummer_snap_mpi_00000.9375-0  and  data/plummer_snap_mpi_00001.5000-0\n",
      "data/plummer_snap_mpi_00000.9375-0  and  data/plummer_snap_mpi_00001.0625-0\n",
      "data/plummer_snap_mpi_00000.9375-0  and  data/plummer_snap_mpi_00000.0625-0\n",
      "data/plummer_snap_mpi_00000.9375-0  and  data/plummer_snap_mpi_00000.1875-0\n",
      "data/plummer_snap_mpi_00001.3750-0  and  data/plummer_snap_mpi_00002.6250-0\n",
      "data/plummer_snap_mpi_00001.3750-0  and  data/plummer_snap_mpi_00001.2500-0\n",
      "data/plummer_snap_mpi_00001.3750-0  and  data/plummer_snap_mpi_00001.6875-0\n",
      "data/plummer_snap_mpi_00001.3750-0  and  data/plummer_snap_mpi_00001.5625-0\n",
      "data/plummer_snap_mpi_00001.3750-0  and  data/plummer_snap_mpi_00001.5000-0\n",
      "data/plummer_snap_mpi_00004.5625-0  and  data/plummer_snap_mpi_00002.6250-0\n",
      "data/plummer_snap_mpi_00004.5625-0  and  data/plummer_snap_mpi_00003.8125-0\n",
      "data/plummer_snap_mpi_00004.5625-0  and  data/plummer_snap_mpi_00004.4375-0\n",
      "data/plummer_snap_mpi_00004.5625-0  and  data/plummer_snap_mpi_00004.7500-0\n",
      "data/plummer_snap_mpi_00004.5625-0  and  data/plummer_snap_mpi_00004.5000-0\n",
      "data/plummer_snap_mpi_00000.5000-0  and  data/plummer_snap_mpi_00002.6250-0\n",
      "data/plummer_snap_mpi_00000.5000-0  and  data/plummer_snap_mpi_00001.2500-0\n",
      "data/plummer_snap_mpi_00000.5000-0  and  data/plummer_snap_mpi_00000.9375-0\n",
      "data/plummer_snap_mpi_00000.5000-0  and  data/plummer_snap_mpi_00000.0625-0\n",
      "data/plummer_snap_mpi_00000.5000-0  and  data/plummer_snap_mpi_00000.1875-0\n",
      "data/plummer_snap_mpi_00002.5625-0  and  data/plummer_snap_mpi_00002.6250-0\n",
      "data/plummer_snap_mpi_00002.5625-0  and  data/plummer_snap_mpi_00001.2500-0\n",
      "data/plummer_snap_mpi_00002.5625-0  and  data/plummer_snap_mpi_00001.6875-0\n",
      "data/plummer_snap_mpi_00002.5625-0  and  data/plummer_snap_mpi_00002.4375-0\n",
      "data/plummer_snap_mpi_00004.3125-0  and  data/plummer_snap_mpi_00002.5625-0\n",
      "data/plummer_snap_mpi_00004.3125-0  and  data/plummer_snap_mpi_00003.8125-0\n",
      "data/plummer_snap_mpi_00004.3125-0  and  data/plummer_snap_mpi_00004.5000-0\n",
      "data/plummer_snap_mpi_00004.3125-0  and  data/plummer_snap_mpi_00004.1875-0\n",
      "data/plummer_snap_mpi_00004.3125-0  and  data/plummer_snap_mpi_00004.4375-0\n",
      "data/plummer_snap_mpi_00004.8750-0  and  data/plummer_snap_mpi_00002.6250-0\n",
      "data/plummer_snap_mpi_00004.8750-0  and  data/plummer_snap_mpi_00004.0000-0\n",
      "data/plummer_snap_mpi_00004.8750-0  and  data/plummer_snap_mpi_00004.5000-0\n",
      "data/plummer_snap_mpi_00004.8750-0  and  data/plummer_snap_mpi_00004.7500-0\n",
      "data/plummer_snap_mpi_00001.8125-0  and  data/plummer_snap_mpi_00002.6250-0\n",
      "data/plummer_snap_mpi_00001.8125-0  and  data/plummer_snap_mpi_00001.2500-0\n",
      "data/plummer_snap_mpi_00001.8125-0  and  data/plummer_snap_mpi_00001.6875-0\n",
      "data/plummer_snap_mpi_00001.8125-0  and  data/plummer_snap_mpi_00002.4375-0\n",
      "data/plummer_snap_mpi_00001.8125-0  and  data/plummer_snap_mpi_00001.8750-0\n",
      "data/plummer_snap_mpi_00003.0625-0  and  data/plummer_snap_mpi_00002.6250-0\n",
      "data/plummer_snap_mpi_00003.0625-0  and  data/plummer_snap_mpi_00004.0000-0\n",
      "data/plummer_snap_mpi_00003.0625-0  and  data/plummer_snap_mpi_00003.2500-0\n",
      "data/plummer_snap_mpi_00003.0625-0  and  data/plummer_snap_mpi_00002.7500-0\n",
      "data/plummer_snap_mpi_00003.0625-0  and  data/plummer_snap_mpi_00003.1875-0\n",
      "data/plummer_snap_mpi_00003.0000-0  and  data/plummer_snap_mpi_00002.6250-0\n",
      "data/plummer_snap_mpi_00003.0000-0  and  data/plummer_snap_mpi_00004.0000-0\n",
      "data/plummer_snap_mpi_00003.0000-0  and  data/plummer_snap_mpi_00003.2500-0\n",
      "data/plummer_snap_mpi_00003.0000-0  and  data/plummer_snap_mpi_00003.0625-0\n",
      "data/plummer_snap_mpi_00003.0000-0  and  data/plummer_snap_mpi_00002.7500-0\n",
      "data/plummer_snap_mpi_00001.6250-0  and  data/plummer_snap_mpi_00002.6875-0\n",
      "data/plummer_snap_mpi_00001.6250-0  and  data/plummer_snap_mpi_00001.3750-0\n",
      "data/plummer_snap_mpi_00001.6250-0  and  data/plummer_snap_mpi_00001.8750-0\n",
      "data/plummer_snap_mpi_00001.6250-0  and  data/plummer_snap_mpi_00001.6875-0\n",
      "data/plummer_snap_mpi_00001.6250-0  and  data/plummer_snap_mpi_00001.5625-0\n",
      "data/plummer_snap_mpi_00002.9375-0  and  data/plummer_snap_mpi_00002.6250-0\n",
      "data/plummer_snap_mpi_00002.9375-0  and  data/plummer_snap_mpi_00003.8125-0\n",
      "data/plummer_snap_mpi_00002.9375-0  and  data/plummer_snap_mpi_00003.1875-0\n",
      "data/plummer_snap_mpi_00002.9375-0  and  data/plummer_snap_mpi_00003.0000-0\n",
      "data/plummer_snap_mpi_00002.9375-0  and  data/plummer_snap_mpi_00002.7500-0\n",
      "data/plummer_snap_mpi_00003.5625-0  and  data/plummer_snap_mpi_00002.6875-0\n",
      "data/plummer_snap_mpi_00003.5625-0  and  data/plummer_snap_mpi_00003.8125-0\n",
      "data/plummer_snap_mpi_00003.5625-0  and  data/plummer_snap_mpi_00003.1875-0\n",
      "data/plummer_snap_mpi_00003.5625-0  and  data/plummer_snap_mpi_00003.5000-0\n",
      "data/plummer_snap_mpi_00003.5625-0  and  data/plummer_snap_mpi_00003.6875-0\n",
      "data/plummer_snap_mpi_00001.1250-0  and  data/plummer_snap_mpi_00002.6875-0\n",
      "data/plummer_snap_mpi_00001.1250-0  and  data/plummer_snap_mpi_00001.5000-0\n",
      "data/plummer_snap_mpi_00001.1250-0  and  data/plummer_snap_mpi_00000.9375-0\n",
      "data/plummer_snap_mpi_00001.1250-0  and  data/plummer_snap_mpi_00001.2500-0\n",
      "data/plummer_snap_mpi_00001.1250-0  and  data/plummer_snap_mpi_00001.1875-0\n",
      "data/plummer_snap_mpi_00001.1250-0  and  data/plummer_snap_mpi_00001.0625-0\n",
      "data/plummer_snap_mpi_00000.7500-0  and  data/plummer_snap_mpi_00002.6875-0\n",
      "data/plummer_snap_mpi_00000.7500-0  and  data/plummer_snap_mpi_00001.3750-0\n",
      "data/plummer_snap_mpi_00000.7500-0  and  data/plummer_snap_mpi_00000.9375-0\n",
      "data/plummer_snap_mpi_00000.7500-0  and  data/plummer_snap_mpi_00000.1875-0\n",
      "data/plummer_snap_mpi_00000.7500-0  and  data/plummer_snap_mpi_00000.5000-0\n",
      "data/plummer_snap_mpi_00001.3125-0  and  data/plummer_snap_mpi_00002.6250-0\n",
      "data/plummer_snap_mpi_00001.3125-0  and  data/plummer_snap_mpi_00001.2500-0\n",
      "data/plummer_snap_mpi_00001.3125-0  and  data/plummer_snap_mpi_00001.6875-0\n",
      "data/plummer_snap_mpi_00001.3125-0  and  data/plummer_snap_mpi_00001.5625-0\n",
      "data/plummer_snap_mpi_00001.3125-0  and  data/plummer_snap_mpi_00001.5000-0\n",
      "data/plummer_snap_mpi_00001.3125-0  and  data/plummer_snap_mpi_00001.3750-0\n",
      "data/plummer_snap_mpi_00000.0000-0  and  data/plummer_snap_mpi_00000.1250-0\n",
      "data/plummer_snap_mpi_00004.8750-0  and  data/plummer_snap_mpi_00005.0000-0\n",
      "data/plummer_snap_mpi_00004.8750-0  and  data/plummer_snap_mpi_00004.9375-0\n",
      "data/plummer_snap_mpi_00004.8750-0  and  data/plummer_snap_mpi_00004.8125-0\n",
      "data/plummer_snap_mpi_00004.7500-0  and  data/plummer_snap_mpi_00004.8125-0\n",
      "data/plummer_snap_mpi_00004.7500-0  and  data/plummer_snap_mpi_00004.6875-0\n",
      "data/plummer_snap_mpi_00004.5625-0  and  data/plummer_snap_mpi_00004.6875-0\n",
      "data/plummer_snap_mpi_00004.5625-0  and  data/plummer_snap_mpi_00004.6250-0\n",
      "data/plummer_snap_mpi_00004.5625-0  and  data/plummer_snap_mpi_00004.3750-0\n",
      "data/plummer_snap_mpi_00004.5000-0  and  data/plummer_snap_mpi_00004.3750-0\n",
      "data/plummer_snap_mpi_00004.4375-0  and  data/plummer_snap_mpi_00004.3750-0\n",
      "data/plummer_snap_mpi_00004.3125-0  and  data/plummer_snap_mpi_00004.3750-0\n",
      "data/plummer_snap_mpi_00004.3125-0  and  data/plummer_snap_mpi_00004.2500-0\n",
      "data/plummer_snap_mpi_00004.1875-0  and  data/plummer_snap_mpi_00004.2500-0\n",
      "data/plummer_snap_mpi_00004.1875-0  and  data/plummer_snap_mpi_00004.1250-0\n",
      "data/plummer_snap_mpi_00004.0000-0  and  data/plummer_snap_mpi_00004.1250-0\n",
      "data/plummer_snap_mpi_00004.0000-0  and  data/plummer_snap_mpi_00004.0625-0\n",
      "data/plummer_snap_mpi_00004.0000-0  and  data/plummer_snap_mpi_00003.9375-0\n",
      "data/plummer_snap_mpi_00003.8125-0  and  data/plummer_snap_mpi_00003.9375-0\n",
      "data/plummer_snap_mpi_00003.8125-0  and  data/plummer_snap_mpi_00003.8750-0\n",
      "data/plummer_snap_mpi_00003.8125-0  and  data/plummer_snap_mpi_00003.7500-0\n",
      "data/plummer_snap_mpi_00003.6875-0  and  data/plummer_snap_mpi_00003.7500-0\n",
      "data/plummer_snap_mpi_00003.6875-0  and  data/plummer_snap_mpi_00003.6250-0\n",
      "data/plummer_snap_mpi_00003.5625-0  and  data/plummer_snap_mpi_00003.6250-0\n",
      "data/plummer_snap_mpi_00003.5625-0  and  data/plummer_snap_mpi_00003.4375-0\n",
      "data/plummer_snap_mpi_00003.5000-0  and  data/plummer_snap_mpi_00003.4375-0\n",
      "data/plummer_snap_mpi_00003.2500-0  and  data/plummer_snap_mpi_00003.4375-0\n",
      "data/plummer_snap_mpi_00003.2500-0  and  data/plummer_snap_mpi_00003.3750-0\n",
      "data/plummer_snap_mpi_00003.2500-0  and  data/plummer_snap_mpi_00003.3125-0\n",
      "data/plummer_snap_mpi_00003.2500-0  and  data/plummer_snap_mpi_00003.1250-0\n",
      "data/plummer_snap_mpi_00003.1875-0  and  data/plummer_snap_mpi_00003.1250-0\n",
      "data/plummer_snap_mpi_00003.0625-0  and  data/plummer_snap_mpi_00003.1250-0\n",
      "data/plummer_snap_mpi_00003.0625-0  and  data/plummer_snap_mpi_00002.8750-0\n",
      "data/plummer_snap_mpi_00003.0000-0  and  data/plummer_snap_mpi_00002.8750-0\n",
      "data/plummer_snap_mpi_00002.9375-0  and  data/plummer_snap_mpi_00002.8750-0\n",
      "data/plummer_snap_mpi_00002.7500-0  and  data/plummer_snap_mpi_00002.8750-0\n",
      "data/plummer_snap_mpi_00002.7500-0  and  data/plummer_snap_mpi_00002.8125-0\n",
      "data/plummer_snap_mpi_00002.7500-0  and  data/plummer_snap_mpi_00002.5000-0\n",
      "data/plummer_snap_mpi_00002.6875-0  and  data/plummer_snap_mpi_00002.5000-0\n",
      "data/plummer_snap_mpi_00002.6250-0  and  data/plummer_snap_mpi_00002.5000-0\n",
      "data/plummer_snap_mpi_00002.5625-0  and  data/plummer_snap_mpi_00002.5000-0\n",
      "data/plummer_snap_mpi_00002.4375-0  and  data/plummer_snap_mpi_00002.5000-0\n",
      "data/plummer_snap_mpi_00002.4375-0  and  data/plummer_snap_mpi_00002.3750-0\n",
      "data/plummer_snap_mpi_00001.8750-0  and  data/plummer_snap_mpi_00002.3750-0\n",
      "data/plummer_snap_mpi_00001.8750-0  and  data/plummer_snap_mpi_00002.3125-0\n",
      "data/plummer_snap_mpi_00001.8750-0  and  data/plummer_snap_mpi_00002.2500-0\n",
      "data/plummer_snap_mpi_00001.8750-0  and  data/plummer_snap_mpi_00002.1875-0\n",
      "data/plummer_snap_mpi_00001.8750-0  and  data/plummer_snap_mpi_00002.1250-0\n",
      "data/plummer_snap_mpi_00001.8750-0  and  data/plummer_snap_mpi_00002.0625-0\n",
      "data/plummer_snap_mpi_00001.8750-0  and  data/plummer_snap_mpi_00002.0000-0\n",
      "data/plummer_snap_mpi_00001.8750-0  and  data/plummer_snap_mpi_00001.9375-0\n",
      "data/plummer_snap_mpi_00001.8750-0  and  data/plummer_snap_mpi_00001.7500-0\n",
      "data/plummer_snap_mpi_00001.8125-0  and  data/plummer_snap_mpi_00001.7500-0\n",
      "data/plummer_snap_mpi_00001.6875-0  and  data/plummer_snap_mpi_00001.7500-0\n",
      "data/plummer_snap_mpi_00001.6875-0  and  data/plummer_snap_mpi_00001.4375-0\n",
      "data/plummer_snap_mpi_00001.6250-0  and  data/plummer_snap_mpi_00001.4375-0\n",
      "data/plummer_snap_mpi_00001.5625-0  and  data/plummer_snap_mpi_00001.4375-0\n",
      "data/plummer_snap_mpi_00001.5000-0  and  data/plummer_snap_mpi_00001.4375-0\n",
      "data/plummer_snap_mpi_00001.3750-0  and  data/plummer_snap_mpi_00001.4375-0\n",
      "data/plummer_snap_mpi_00001.3750-0  and  data/plummer_snap_mpi_00001.0000-0\n",
      "data/plummer_snap_mpi_00001.3125-0  and  data/plummer_snap_mpi_00001.0000-0\n",
      "data/plummer_snap_mpi_00001.2500-0  and  data/plummer_snap_mpi_00001.0000-0\n",
      "data/plummer_snap_mpi_00001.1875-0  and  data/plummer_snap_mpi_00001.0000-0\n",
      "data/plummer_snap_mpi_00001.1250-0  and  data/plummer_snap_mpi_00001.0000-0\n",
      "data/plummer_snap_mpi_00001.0625-0  and  data/plummer_snap_mpi_00001.0000-0\n",
      "data/plummer_snap_mpi_00000.9375-0  and  data/plummer_snap_mpi_00001.0000-0\n",
      "data/plummer_snap_mpi_00000.9375-0  and  data/plummer_snap_mpi_00000.8750-0\n",
      "data/plummer_snap_mpi_00000.7500-0  and  data/plummer_snap_mpi_00000.8750-0\n",
      "data/plummer_snap_mpi_00000.7500-0  and  data/plummer_snap_mpi_00000.8125-0\n",
      "data/plummer_snap_mpi_00000.7500-0  and  data/plummer_snap_mpi_00000.6875-0\n",
      "data/plummer_snap_mpi_00000.5000-0  and  data/plummer_snap_mpi_00000.6875-0\n",
      "data/plummer_snap_mpi_00000.5000-0  and  data/plummer_snap_mpi_00000.6250-0\n",
      "data/plummer_snap_mpi_00000.5000-0  and  data/plummer_snap_mpi_00000.5625-0\n",
      "data/plummer_snap_mpi_00000.5000-0  and  data/plummer_snap_mpi_00000.4375-0\n",
      "data/plummer_snap_mpi_00000.1875-0  and  data/plummer_snap_mpi_00000.4375-0\n",
      "data/plummer_snap_mpi_00000.1875-0  and  data/plummer_snap_mpi_00000.3750-0\n",
      "data/plummer_snap_mpi_00000.1875-0  and  data/plummer_snap_mpi_00000.3125-0\n",
      "data/plummer_snap_mpi_00000.1875-0  and  data/plummer_snap_mpi_00000.2500-0\n",
      "data/plummer_snap_mpi_00000.1875-0  and  data/plummer_snap_mpi_00000.1250-0\n",
      "data/plummer_snap_mpi_00000.0625-0  and  data/plummer_snap_mpi_00000.1250-0\n",
      "All tasks created!\n",
      "\u001b[2m\u001b[36m(read_and_plot pid=4156747)\u001b[0m Loading Header (data/plummer_snap_mpi_00000.1875-0)... time:0.187500, nTot:65000, nStar:65000\n",
      "\u001b[2m\u001b[36m(read_and_plot pid=4156744)\u001b[0m PRINTING REDS 32500\n",
      "\u001b[2m\u001b[36m(read_and_plot pid=4156744)\u001b[0m Loading Header (data/plummer_snap_mpi_00000.5000-0)... time:0.500000, nTot:65000, nStar:65000\u001b[32m [repeated 8x across cluster] (Ray deduplicates logs by default. Set RAY_DEDUP_LOGS=0 to disable log deduplication, or see https://docs.ray.io/en/master/ray-observability/ray-logging.html#log-deduplication for more options.)\u001b[0m\n",
      "\u001b[2m\u001b[36m(read_and_plot pid=4156748)\u001b[0m PRINTING REDS 32500\u001b[32m [repeated 7x across cluster]\u001b[0m\n",
      "\u001b[2m\u001b[36m(read_and_plot pid=4156750)\u001b[0m Loading Header (data/plummer_snap_mpi_00001.0000-0)... time:1.000000, nTot:65000, nStar:65000\u001b[32m [repeated 8x across cluster]\u001b[0m\n",
      "\u001b[2m\u001b[36m(read_and_plot pid=4156746)\u001b[0m PRINTING REDS 32500\u001b[32m [repeated 8x across cluster]\u001b[0m\n",
      "\u001b[2m\u001b[36m(read_and_plot pid=4156749)\u001b[0m Loading Header (data/plummer_snap_mpi_00001.5000-0)... time:1.500000, nTot:65000, nStar:65000\u001b[32m [repeated 8x across cluster]\u001b[0m\n",
      "\u001b[2m\u001b[36m(read_and_plot pid=4156745)\u001b[0m PRINTING REDS 32500\u001b[32m [repeated 8x across cluster]\u001b[0m\n",
      "\u001b[2m\u001b[36m(read_and_plot pid=4156749)\u001b[0m Loading Header (data/plummer_snap_mpi_00002.0000-0)... time:2.000000, nTot:65000, nStar:65000\u001b[32m [repeated 8x across cluster]\u001b[0m\n",
      "\u001b[2m\u001b[36m(read_and_plot pid=4156747)\u001b[0m PRINTING REDS 32500\u001b[32m [repeated 8x across cluster]\u001b[0m\n"
     ]
    },
    {
     "ename": "KeyboardInterrupt",
     "evalue": "",
     "output_type": "error",
     "traceback": [
      "\u001b[0;31m---------------------------------------------------------------------------\u001b[0m",
      "\u001b[0;31mKeyboardInterrupt\u001b[0m                         Traceback (most recent call last)",
      "Cell \u001b[0;32mIn[23], line 29\u001b[0m\n\u001b[1;32m     27\u001b[0m bonsai\u001b[38;5;241m.\u001b[39mrun_plummer(nStars,data_prefix,bonsai_bin\u001b[38;5;241m=\u001b[39mbonsai_binary,T\u001b[38;5;241m=\u001b[39mT_,dt\u001b[38;5;241m=\u001b[39mstep,dSnap\u001b[38;5;241m=\u001b[39mstep,direct\u001b[38;5;241m=\u001b[39mdir_comp)\n\u001b[1;32m     28\u001b[0m bonsai\u001b[38;5;241m.\u001b[39mparse_save_log(outfile\u001b[38;5;241m=\u001b[39msim_title)\n\u001b[0;32m---> 29\u001b[0m \u001b[43mtipsy\u001b[49m\u001b[38;5;241;43m.\u001b[39;49m\u001b[43mread_tipsy\u001b[49m\u001b[43m(\u001b[49m\u001b[43mdata_prefix\u001b[49m\u001b[43m,\u001b[49m\u001b[43mfigure_prefix\u001b[49m\u001b[43m,\u001b[49m\u001b[43m \u001b[49m\u001b[43mpointsize\u001b[49m\u001b[43m \u001b[49m\u001b[38;5;241;43m=\u001b[39;49m\u001b[43m \u001b[49m\u001b[43mp_size\u001b[49m\u001b[43m,\u001b[49m\u001b[43mlim\u001b[49m\u001b[38;5;241;43m=\u001b[39;49m\u001b[43mlim\u001b[49m\u001b[43m,\u001b[49m\u001b[43mnRed\u001b[49m\u001b[38;5;241;43m=\u001b[39;49m\u001b[43mnRed\u001b[49m\u001b[43m)\u001b[49m\n\u001b[1;32m     30\u001b[0m tipsy\u001b[38;5;241m.\u001b[39mmake_mp4(figure_prefix, sim_title)\n",
      "File \u001b[0;32m~/repos/bonsai_phys241/tipsy.py:467\u001b[0m, in \u001b[0;36mread_tipsy\u001b[0;34m(tipsy_prefix, figures_prefix, lim, pointsize, nRed, elevAng, IDs)\u001b[0m\n\u001b[1;32m    <a href='file:///home/home-server/repos/bonsai_phys241/tipsy.py?line=460'>461</a>\u001b[0m \t\t\u001b[39m# if index % nThreads == 0:\u001b[39;00m\n\u001b[1;32m    <a href='file:///home/home-server/repos/bonsai_phys241/tipsy.py?line=461'>462</a>\u001b[0m \t\t\u001b[39m# \tfor i in range(nThreads):\u001b[39;00m\n\u001b[1;32m    <a href='file:///home/home-server/repos/bonsai_phys241/tipsy.py?line=462'>463</a>\u001b[0m \t\t\u001b[39m# \t\tprocs[i].join()\u001b[39;00m\n\u001b[1;32m    <a href='file:///home/home-server/repos/bonsai_phys241/tipsy.py?line=463'>464</a>\u001b[0m \t\t\u001b[39m# \t#wait for nThreads to finish\u001b[39;00m\n\u001b[1;32m    <a href='file:///home/home-server/repos/bonsai_phys241/tipsy.py?line=464'>465</a>\u001b[0m \t\t\u001b[39m# \tprocs = []\u001b[39;00m\n\u001b[1;32m    <a href='file:///home/home-server/repos/bonsai_phys241/tipsy.py?line=465'>466</a>\u001b[0m \t\u001b[39mprint\u001b[39m(\u001b[39m\"\u001b[39m\u001b[39mAll tasks created!\u001b[39m\u001b[39m\"\u001b[39m)\n\u001b[0;32m--> <a href='file:///home/home-server/repos/bonsai_phys241/tipsy.py?line=466'>467</a>\u001b[0m \tray\u001b[39m.\u001b[39;49mget(tasks)\n\u001b[1;32m    <a href='file:///home/home-server/repos/bonsai_phys241/tipsy.py?line=467'>468</a>\u001b[0m \t\u001b[39mprint\u001b[39m(\u001b[39m\"\u001b[39m\u001b[39mTasks finished!\u001b[39m\u001b[39m\"\u001b[39m)\n\u001b[1;32m    <a href='file:///home/home-server/repos/bonsai_phys241/tipsy.py?line=469'>470</a>\u001b[0m \t\u001b[39m# for i in range(int(self.dim.z)):\u001b[39;00m\n\u001b[1;32m    <a href='file:///home/home-server/repos/bonsai_phys241/tipsy.py?line=470'>471</a>\u001b[0m \t\u001b[39m# \tprocs[i].join()\u001b[39;00m\n\u001b[1;32m    <a href='file:///home/home-server/repos/bonsai_phys241/tipsy.py?line=471'>472</a>\u001b[0m \n\u001b[1;32m    <a href='file:///home/home-server/repos/bonsai_phys241/tipsy.py?line=472'>473</a>\u001b[0m \u001b[39melse\u001b[39;00m:\n",
      "File \u001b[0;32m~/.local/lib/python3.10/site-packages/ray/_private/auto_init_hook.py:18\u001b[0m, in \u001b[0;36mwrap_auto_init.<locals>.auto_init_wrapper\u001b[0;34m(*args, **kwargs)\u001b[0m\n\u001b[1;32m     <a href='file:///home/home-server/.local/lib/python3.10/site-packages/ray/_private/auto_init_hook.py?line=14'>15</a>\u001b[0m \u001b[39m@wraps\u001b[39m(fn)\n\u001b[1;32m     <a href='file:///home/home-server/.local/lib/python3.10/site-packages/ray/_private/auto_init_hook.py?line=15'>16</a>\u001b[0m \u001b[39mdef\u001b[39;00m \u001b[39mauto_init_wrapper\u001b[39m(\u001b[39m*\u001b[39margs, \u001b[39m*\u001b[39m\u001b[39m*\u001b[39mkwargs):\n\u001b[1;32m     <a href='file:///home/home-server/.local/lib/python3.10/site-packages/ray/_private/auto_init_hook.py?line=16'>17</a>\u001b[0m     auto_init_ray()\n\u001b[0;32m---> <a href='file:///home/home-server/.local/lib/python3.10/site-packages/ray/_private/auto_init_hook.py?line=17'>18</a>\u001b[0m     \u001b[39mreturn\u001b[39;00m fn(\u001b[39m*\u001b[39;49margs, \u001b[39m*\u001b[39;49m\u001b[39m*\u001b[39;49mkwargs)\n",
      "File \u001b[0;32m~/.local/lib/python3.10/site-packages/ray/_private/client_mode_hook.py:103\u001b[0m, in \u001b[0;36mclient_mode_hook.<locals>.wrapper\u001b[0;34m(*args, **kwargs)\u001b[0m\n\u001b[1;32m    <a href='file:///home/home-server/.local/lib/python3.10/site-packages/ray/_private/client_mode_hook.py?line=100'>101</a>\u001b[0m     \u001b[39mif\u001b[39;00m func\u001b[39m.\u001b[39m\u001b[39m__name__\u001b[39m \u001b[39m!=\u001b[39m \u001b[39m\"\u001b[39m\u001b[39minit\u001b[39m\u001b[39m\"\u001b[39m \u001b[39mor\u001b[39;00m is_client_mode_enabled_by_default:\n\u001b[1;32m    <a href='file:///home/home-server/.local/lib/python3.10/site-packages/ray/_private/client_mode_hook.py?line=101'>102</a>\u001b[0m         \u001b[39mreturn\u001b[39;00m \u001b[39mgetattr\u001b[39m(ray, func\u001b[39m.\u001b[39m\u001b[39m__name__\u001b[39m)(\u001b[39m*\u001b[39margs, \u001b[39m*\u001b[39m\u001b[39m*\u001b[39mkwargs)\n\u001b[0;32m--> <a href='file:///home/home-server/.local/lib/python3.10/site-packages/ray/_private/client_mode_hook.py?line=102'>103</a>\u001b[0m \u001b[39mreturn\u001b[39;00m func(\u001b[39m*\u001b[39;49margs, \u001b[39m*\u001b[39;49m\u001b[39m*\u001b[39;49mkwargs)\n",
      "File \u001b[0;32m~/.local/lib/python3.10/site-packages/ray/_private/worker.py:2534\u001b[0m, in \u001b[0;36mget\u001b[0;34m(object_refs, timeout)\u001b[0m\n\u001b[1;32m   <a href='file:///home/home-server/.local/lib/python3.10/site-packages/ray/_private/worker.py?line=2528'>2529</a>\u001b[0m     \u001b[39mraise\u001b[39;00m \u001b[39mValueError\u001b[39;00m(\n\u001b[1;32m   <a href='file:///home/home-server/.local/lib/python3.10/site-packages/ray/_private/worker.py?line=2529'>2530</a>\u001b[0m         \u001b[39m\"\u001b[39m\u001b[39m'\u001b[39m\u001b[39mobject_refs\u001b[39m\u001b[39m'\u001b[39m\u001b[39m must either be an ObjectRef or a list of ObjectRefs.\u001b[39m\u001b[39m\"\u001b[39m\n\u001b[1;32m   <a href='file:///home/home-server/.local/lib/python3.10/site-packages/ray/_private/worker.py?line=2530'>2531</a>\u001b[0m     )\n\u001b[1;32m   <a href='file:///home/home-server/.local/lib/python3.10/site-packages/ray/_private/worker.py?line=2532'>2533</a>\u001b[0m \u001b[39m# TODO(ujvl): Consider how to allow user to retrieve the ready objects.\u001b[39;00m\n\u001b[0;32m-> <a href='file:///home/home-server/.local/lib/python3.10/site-packages/ray/_private/worker.py?line=2533'>2534</a>\u001b[0m values, debugger_breakpoint \u001b[39m=\u001b[39m worker\u001b[39m.\u001b[39;49mget_objects(object_refs, timeout\u001b[39m=\u001b[39;49mtimeout)\n\u001b[1;32m   <a href='file:///home/home-server/.local/lib/python3.10/site-packages/ray/_private/worker.py?line=2534'>2535</a>\u001b[0m \u001b[39mfor\u001b[39;00m i, value \u001b[39min\u001b[39;00m \u001b[39menumerate\u001b[39m(values):\n\u001b[1;32m   <a href='file:///home/home-server/.local/lib/python3.10/site-packages/ray/_private/worker.py?line=2535'>2536</a>\u001b[0m     \u001b[39mif\u001b[39;00m \u001b[39misinstance\u001b[39m(value, RayError):\n",
      "File \u001b[0;32m~/.local/lib/python3.10/site-packages/ray/_private/worker.py:759\u001b[0m, in \u001b[0;36mWorker.get_objects\u001b[0;34m(self, object_refs, timeout)\u001b[0m\n\u001b[1;32m    <a href='file:///home/home-server/.local/lib/python3.10/site-packages/ray/_private/worker.py?line=752'>753</a>\u001b[0m         \u001b[39mraise\u001b[39;00m \u001b[39mTypeError\u001b[39;00m(\n\u001b[1;32m    <a href='file:///home/home-server/.local/lib/python3.10/site-packages/ray/_private/worker.py?line=753'>754</a>\u001b[0m             \u001b[39mf\u001b[39m\u001b[39m\"\u001b[39m\u001b[39mAttempting to call `get` on the value \u001b[39m\u001b[39m{\u001b[39;00mobject_ref\u001b[39m}\u001b[39;00m\u001b[39m, \u001b[39m\u001b[39m\"\u001b[39m\n\u001b[1;32m    <a href='file:///home/home-server/.local/lib/python3.10/site-packages/ray/_private/worker.py?line=754'>755</a>\u001b[0m             \u001b[39m\"\u001b[39m\u001b[39mwhich is not an ray.ObjectRef.\u001b[39m\u001b[39m\"\u001b[39m\n\u001b[1;32m    <a href='file:///home/home-server/.local/lib/python3.10/site-packages/ray/_private/worker.py?line=755'>756</a>\u001b[0m         )\n\u001b[1;32m    <a href='file:///home/home-server/.local/lib/python3.10/site-packages/ray/_private/worker.py?line=757'>758</a>\u001b[0m timeout_ms \u001b[39m=\u001b[39m \u001b[39mint\u001b[39m(timeout \u001b[39m*\u001b[39m \u001b[39m1000\u001b[39m) \u001b[39mif\u001b[39;00m timeout \u001b[39mis\u001b[39;00m \u001b[39mnot\u001b[39;00m \u001b[39mNone\u001b[39;00m \u001b[39melse\u001b[39;00m \u001b[39m-\u001b[39m\u001b[39m1\u001b[39m\n\u001b[0;32m--> <a href='file:///home/home-server/.local/lib/python3.10/site-packages/ray/_private/worker.py?line=758'>759</a>\u001b[0m data_metadata_pairs \u001b[39m=\u001b[39m \u001b[39mself\u001b[39;49m\u001b[39m.\u001b[39;49mcore_worker\u001b[39m.\u001b[39;49mget_objects(\n\u001b[1;32m    <a href='file:///home/home-server/.local/lib/python3.10/site-packages/ray/_private/worker.py?line=759'>760</a>\u001b[0m     object_refs, \u001b[39mself\u001b[39;49m\u001b[39m.\u001b[39;49mcurrent_task_id, timeout_ms\n\u001b[1;32m    <a href='file:///home/home-server/.local/lib/python3.10/site-packages/ray/_private/worker.py?line=760'>761</a>\u001b[0m )\n\u001b[1;32m    <a href='file:///home/home-server/.local/lib/python3.10/site-packages/ray/_private/worker.py?line=761'>762</a>\u001b[0m debugger_breakpoint \u001b[39m=\u001b[39m \u001b[39mb\u001b[39m\u001b[39m\"\u001b[39m\u001b[39m\"\u001b[39m\n\u001b[1;32m    <a href='file:///home/home-server/.local/lib/python3.10/site-packages/ray/_private/worker.py?line=762'>763</a>\u001b[0m \u001b[39mfor\u001b[39;00m data, metadata \u001b[39min\u001b[39;00m data_metadata_pairs:\n",
      "File \u001b[0;32mpython/ray/_raylet.pyx:2554\u001b[0m, in \u001b[0;36mray._raylet.CoreWorker.get_objects\u001b[0;34m()\u001b[0m\n",
      "File \u001b[0;32mpython/ray/_raylet.pyx:444\u001b[0m, in \u001b[0;36mray._raylet.check_status\u001b[0;34m()\u001b[0m\n",
      "\u001b[0;31mKeyboardInterrupt\u001b[0m: "
     ]
    },
    {
     "name": "stdout",
     "output_type": "stream",
     "text": [
      "\u001b[2m\u001b[36m(read_and_plot pid=4156748)\u001b[0m Loading Header (data/plummer_snap_mpi_00002.5000-0)... time:2.500000, nTot:65000, nStar:65000\u001b[32m [repeated 8x across cluster]\u001b[0m\n",
      "\u001b[2m\u001b[36m(read_and_plot pid=4156747)\u001b[0m PRINTING REDS 32500\u001b[32m [repeated 8x across cluster]\u001b[0m\n",
      "\u001b[2m\u001b[36m(read_and_plot pid=4156748)\u001b[0m Loading Header (data/plummer_snap_mpi_00003.0000-0)... time:3.000000, nTot:65000, nStar:65000\u001b[32m [repeated 8x across cluster]\u001b[0m\n",
      "\u001b[2m\u001b[36m(read_and_plot pid=4156747)\u001b[0m PRINTING REDS 32500\u001b[32m [repeated 8x across cluster]\u001b[0m\n",
      "\u001b[2m\u001b[36m(read_and_plot pid=4156749)\u001b[0m Loading Header (data/plummer_snap_mpi_00003.5000-0)... time:3.500000, nTot:65000, nStar:65000\u001b[32m [repeated 8x across cluster]\u001b[0m\n",
      "\u001b[2m\u001b[36m(read_and_plot pid=4156747)\u001b[0m PRINTING REDS 32500\u001b[32m [repeated 8x across cluster]\u001b[0m\n",
      "\u001b[2m\u001b[36m(read_and_plot pid=4156744)\u001b[0m Loading Header (data/plummer_snap_mpi_00004.0625-0)... time:4.062500, nTot:65000, nStar:65000\u001b[32m [repeated 8x across cluster]\u001b[0m\n",
      "\u001b[2m\u001b[36m(read_and_plot pid=4156747)\u001b[0m PRINTING REDS 32500\u001b[32m [repeated 8x across cluster]\u001b[0m\n",
      "\u001b[2m\u001b[36m(read_and_plot pid=4156749)\u001b[0m Loading Header (data/plummer_snap_mpi_00004.5000-0)... time:4.500000, nTot:65000, nStar:65000\u001b[32m [repeated 8x across cluster]\u001b[0m\n",
      "\u001b[2m\u001b[36m(read_and_plot pid=4156747)\u001b[0m PRINTING REDS 32500\u001b[32m [repeated 8x across cluster]\u001b[0m\n"
     ]
    }
   ],
   "source": [
    "''' \n",
    "settings\n",
    "'''\n",
    "\n",
    "# Directories\n",
    "sim_title =  \"RESULTS/65000_plummer_barnes_hut\"\n",
    "data_prefix='data/plummer_snap_mpi'\n",
    "figure_prefix='fig/plummer'\n",
    "bonsai_binary = \"../Bonsai/build/bonsai2_slowdust\" # after cmake tools build\n",
    "\n",
    "# Bonsai config\n",
    "step = 0.0625/1\n",
    "nStars = 65000 # when we run MPI this is number of stars per process\n",
    "T_ = 5\n",
    "\n",
    "# Plot\n",
    "dir_comp = False\n",
    "p_size = 1\n",
    "lim=5\n",
    "nRed=int(nStars/2)\n",
    "\n",
    "''' \n",
    "run and save\n",
    "'''\n",
    "\n",
    "clear_data()\n",
    "bonsai.run_plummer(nStars,data_prefix,bonsai_bin=bonsai_binary,T=T_,dt=step,dSnap=step,direct=dir_comp)\n",
    "bonsai.parse_save_log(outfile=sim_title)\n",
    "tipsy.read_tipsy(data_prefix,figure_prefix, pointsize = p_size,lim=lim,nRed=nRed)\n",
    "tipsy.make_mp4(figure_prefix, sim_title)"
   ]
  },
  {
   "cell_type": "markdown",
   "metadata": {},
   "source": [
    "## N stars vs Time"
   ]
  },
  {
   "cell_type": "code",
   "execution_count": 32,
   "metadata": {},
   "outputs": [
    {
     "name": "stdout",
     "output_type": "stream",
     "text": [
      "../Bonsai/build/bonsai2_slowdust   --plummer 100 --snapname data/plummer_snap_mpi --snapiter 0.0625 -T 5 -dt 0.0625 --eps 0.05\n",
      "Using Plummer model with n= 100 per process \n",
      "...................................................................................................."
     ]
    },
    {
     "name": "stderr",
     "output_type": "stream",
     "text": [
      " Unknown ENV_VARIABLE:   -- Falling to basic forking method after MPI_Init, unsafe!\n",
      "Proc id: 0 @ Default , total processes: 1 (mpiInit) \n",
      "[INIT]\tUsed settings: \n",
      "[INIT]\tInput  filename \n",
      "[INIT]\tBonsai filename \n",
      "[INIT]\tLog filename gpuLog.log\n",
      "[INIT]\tTheta: \t\t0.75\t\teps: \t\t0.05\n",
      "[INIT]\tTimestep: \t0.0625\t\ttEnd: \t\t5\n",
      "[INIT]\titerEnd: \t1073741824\n",
      "[INIT]\tUse MPI-IO: \tNO\n",
      "[INIT]\tsnapshotFile: \tdata/plummer_snap_mpi\tsnapshotIter: \t0.0625\n",
      "[INIT]\tInput file: \t\t\tdevID: \t\t0\n",
      "[INIT]\tRemove dist: \t-1\n",
      "[INIT]\tRebuild tree every 1 timestep\n",
      "[INIT]\tRuntime logging is DISABLED \n",
      "[INIT]\tDirect gravitation is DISABLED\n",
      "[INIT]\tCode is built WITHOUT MPI Support \n",
      "Proc: 0 Bootup times: Tree/MPI: 0.137754 Threads/log: 0.000158072 IC-model: 0 \n",
      " Start iterating\n",
      "STARTING UP!!!\n",
      "iter=0 : time= 0  Etot= -0.3629537319  Ekin= 0.241796   Epot= -0.604749 : de= -0 ( 0 ) d(de)= -0 ( 0 ) t_sim=  2.86102e-06 sec\n"
     ]
    },
    {
     "name": "stdout",
     "output_type": "stream",
     "text": [
      "\n",
      "iter=0 : time= 0  Etot= -0.3629537319  Ekin= 0.241796   Epot= -0.604749 : de= -0 ( 0 ) d(de)= -0 ( 0 ) t_sim=  0 sec\n",
      "iter=1 : time= 0.0625  Etot= -0.3621170314  Ekin= 0.249293   Epot= -0.61141 : de= -0.00230525 ( 0.00230525 ) d(de)= -0.00230525 ( 0.00230525 ) t_sim=  1.0001 sec\n",
      "iter=2 : time= 0.125  Etot= -0.3621217679  Ekin= 0.253127   Epot= -0.615249 : de= -0.0022922 ( 0.00230525 ) d(de)= 1.30801e-05 ( 0.00230525 ) t_sim=  1.00254 sec\n",
      "iter=3 : time= 0.1875  Etot= -0.3615919591  Ekin= 0.254243   Epot= -0.615835 : de= -0.00375192 ( 0.00375192 ) d(de)= -0.00146307 ( 0.00230525 ) t_sim=  1.00492 sec\n",
      "iter=4 : time= 0.25  Etot= -0.3615512186  Ekin= 0.256002   Epot= -0.617553 : de= -0.00386417 ( 0.00386417 ) d(de)= -0.00011267 ( 0.00230525 ) t_sim=  1.00941 sec\n",
      "iter=5 : time= 0.3125  Etot= -0.3618810132  Ekin= 0.258304   Epot= -0.620185 : de= -0.00295552 ( 0.00386417 ) d(de)= 0.000912166 ( 0.00230525 ) t_sim=  1.01386 sec\n",
      "iter=6 : time= 0.375  Etot= -0.3616744896  Ekin= 0.260918   Epot= -0.622592 : de= -0.00352453 ( 0.00386417 ) d(de)= -0.000570695 ( 0.00230525 ) t_sim=  1.01613 sec\n",
      "iter=7 : time= 0.4375  Etot= -0.3616971992  Ekin= 0.265054   Epot= -0.626751 : de= -0.00346196 ( 0.00386417 ) d(de)= 6.279e-05 ( 0.00230525 ) t_sim=  1.01854 sec\n",
      "iter=8 : time= 0.5  Etot= -0.3625812593  Ekin= 0.269294   Epot= -0.631875 : de= -0.00102623 ( 0.00386417 ) d(de)= 0.0024442 ( 0.0024442 ) t_sim=  1.02195 sec\n",
      "iter=9 : time= 0.5625  Etot= -0.3614960496  Ekin= 0.271598   Epot= -0.633094 : de= -0.00401617 ( 0.00401617 ) d(de)= -0.00299301 ( 0.00299301 ) t_sim=  1.02719 sec\n",
      "iter=10 : time= 0.625  Etot= -0.3613774166  Ekin= 0.272811   Epot= -0.634188 : de= -0.00434302 ( 0.00434302 ) d(de)= -0.000328173 ( 0.00299301 ) t_sim=  1.02981 sec\n",
      "iter=11 : time= 0.6875  Etot= -0.3608026351  Ekin= 0.275995   Epot= -0.636797 : de= -0.00592664 ( 0.00592664 ) d(de)= -0.00159053 ( 0.00299301 ) t_sim=  1.03213 sec\n",
      "iter=12 : time= 0.75  Etot= -0.3626625459  Ekin= 0.280936   Epot= -0.643598 : de= -0.000802268 ( 0.00592664 ) d(de)= 0.00515493 ( 0.00515493 ) t_sim=  1.03439 sec\n",
      "iter=13 : time= 0.8125  Etot= -0.3620997562  Ekin= 0.282658   Epot= -0.644758 : de= -0.00235285 ( 0.00592664 ) d(de)= -0.00155183 ( 0.00515493 ) t_sim=  1.0365 sec\n",
      "iter=14 : time= 0.875  Etot= -0.361182484  Ekin= 0.280734   Epot= -0.641916 : de= -0.00488009 ( 0.00592664 ) d(de)= -0.0025332 ( 0.00515493 ) t_sim=  1.03902 sec\n",
      "iter=15 : time= 0.9375  Etot= -0.3622483314  Ekin= 0.27853   Epot= -0.640779 : de= -0.0019435 ( 0.00592664 ) d(de)= 0.00295099 ( 0.00515493 ) t_sim=  1.04268 sec\n",
      "iter=16 : time= 1  Etot= -0.3607515072  Ekin= 0.274934   Epot= -0.635686 : de= -0.00606751 ( 0.00606751 ) d(de)= -0.00413204 ( 0.00515493 ) t_sim=  1.04751 sec\n",
      "iter=17 : time= 1.0625  Etot= -0.3601630724  Ekin= 0.27165   Epot= -0.631813 : de= -0.00768875 ( 0.00768875 ) d(de)= -0.00163114 ( 0.00515493 ) t_sim=  1.0499 sec\n",
      "iter=18 : time= 1.125  Etot= -0.3612420649  Ekin= 0.272774   Epot= -0.634016 : de= -0.00471594 ( 0.00768875 ) d(de)= 0.00299584 ( 0.00515493 ) t_sim=  1.05238 sec\n",
      "iter=19 : time= 1.1875  Etot= -0.3603256876  Ekin= 0.275443   Epot= -0.635769 : de= -0.00724071 ( 0.00768875 ) d(de)= -0.00253674 ( 0.00515493 ) t_sim=  1.05552 sec\n",
      "iter=20 : time= 1.25  Etot= -0.3605402709  Ekin= 0.277425   Epot= -0.637965 : de= -0.0066495 ( 0.00768875 ) d(de)= 0.000595526 ( 0.00515493 ) t_sim=  1.05993 sec\n",
      "iter=21 : time= 1.3125  Etot= -0.3609290735  Ekin= 0.277758   Epot= -0.638687 : de= -0.00557828 ( 0.00768875 ) d(de)= 0.00107839 ( 0.00515493 ) t_sim=  1.06271 sec\n",
      "iter=22 : time= 1.375  Etot= -0.3608206031  Ekin= 0.276959   Epot= -0.63778 : de= -0.00587714 ( 0.00768875 ) d(de)= -0.000300531 ( 0.00515493 ) t_sim=  1.0652 sec\n",
      "iter=23 : time= 1.4375  Etot= -0.3606078437  Ekin= 0.277101   Epot= -0.637709 : de= -0.00646333 ( 0.00768875 ) d(de)= -0.000589654 ( 0.00515493 ) t_sim=  1.06738 sec\n",
      "iter=24 : time= 1.5  Etot= -0.3612307802  Ekin= 0.27762   Epot= -0.63885 : de= -0.00474703 ( 0.00768875 ) d(de)= 0.00172746 ( 0.00515493 ) t_sim=  1.06949 sec\n",
      "iter=25 : time= 1.5625  Etot= -0.3589142411  Ekin= 0.277294   Epot= -0.636208 : de= -0.0111295 ( 0.0111295 ) d(de)= -0.00641291 ( 0.00641291 ) t_sim=  1.0717 sec\n",
      "iter=26 : time= 1.625  Etot= -0.3577231016  Ekin= 0.27658   Epot= -0.634303 : de= -0.0144113 ( 0.0144113 ) d(de)= -0.00331873 ( 0.00641291 ) t_sim=  1.07555 sec\n",
      "iter=27 : time= 1.6875  Etot= -0.3578734775  Ekin= 0.277948   Epot= -0.635822 : de= -0.013997 ( 0.0144113 ) d(de)= 0.00042037 ( 0.00641291 ) t_sim=  1.08035 sec\n",
      "iter=28 : time= 1.75  Etot= -0.3575732574  Ekin= 0.280105   Epot= -0.637678 : de= -0.0148241 ( 0.0148241 ) d(de)= -0.0008389 ( 0.00641291 ) t_sim=  1.08303 sec\n",
      "iter=29 : time= 1.8125  Etot= -0.3584304359  Ekin= 0.282175   Epot= -0.640605 : de= -0.0124625 ( 0.0148241 ) d(de)= 0.00239721 ( 0.00641291 ) t_sim=  1.08539 sec\n",
      "iter=30 : time= 1.875  Etot= -0.3561333377  Ekin= 0.283032   Epot= -0.639165 : de= -0.0187914 ( 0.0187914 ) d(de)= -0.00640877 ( 0.00641291 ) t_sim=  1.08753 sec\n",
      "iter=31 : time= 1.9375  Etot= -0.3565246632  Ekin= 0.281292   Epot= -0.637816 : de= -0.0177132 ( 0.0187914 ) d(de)= 0.00109882 ( 0.00641291 ) t_sim=  1.09177 sec\n",
      "iter=32 : time= 2  Etot= -0.3567143169  Ekin= 0.278039   Epot= -0.634754 : de= -0.0171907 ( 0.0187914 ) d(de)= 0.000531951 ( 0.00641291 ) t_sim=  1.09516 sec\n",
      "iter=33 : time= 2.0625  Etot= -0.3559704292  Ekin= 0.273036   Epot= -0.629007 : de= -0.0192402 ( 0.0192402 ) d(de)= -0.00208539 ( 0.00641291 ) t_sim=  1.09788 sec\n",
      "iter=34 : time= 2.125  Etot= -0.3569340976  Ekin= 0.267888   Epot= -0.624822 : de= -0.0165851 ( 0.0192402 ) d(de)= 0.00270716 ( 0.00641291 ) t_sim=  1.10053 sec\n",
      "iter=35 : time= 2.1875  Etot= -0.3558564689  Ekin= 0.263565   Epot= -0.619422 : de= -0.0195542 ( 0.0195542 ) d(de)= -0.00301913 ( 0.00641291 ) t_sim=  1.10302 sec\n",
      "iter=36 : time= 2.25  Etot= -0.3579676336  Ekin= 0.259299   Epot= -0.617267 : de= -0.0137376 ( 0.0195542 ) d(de)= 0.00593263 ( 0.00641291 ) t_sim=  1.10512 sec\n",
      "iter=37 : time= 2.3125  Etot= -0.3577579544  Ekin= 0.253842   Epot= -0.6116 : de= -0.0143153 ( 0.0195542 ) d(de)= -0.000585749 ( 0.00641291 ) t_sim=  1.10952 sec\n",
      "iter=38 : time= 2.375  Etot= -0.357649852  Ekin= 0.249189   Epot= -0.606839 : de= -0.0146131 ( 0.0195542 ) d(de)= -0.000302166 ( 0.00641291 ) t_sim=  1.11361 sec\n",
      "iter=39 : time= 2.4375  Etot= -0.3577670948  Ekin= 0.246847   Epot= -0.604614 : de= -0.0142901 ( 0.0195542 ) d(de)= 0.000327815 ( 0.00641291 ) t_sim=  1.11648 sec\n",
      "iter=40 : time= 2.5  Etot= -0.358369158  Ekin= 0.246464   Epot= -0.604833 : de= -0.0126313 ( 0.0195542 ) d(de)= 0.00168284 ( 0.00641291 ) t_sim=  1.11857 sec\n",
      "iter=41 : time= 2.5625  Etot= -0.3563494357  Ekin= 0.244713   Epot= -0.601062 : de= -0.018196 ( 0.0195542 ) d(de)= -0.00563587 ( 0.00641291 ) t_sim=  1.12181 sec\n",
      "iter=42 : time= 2.625  Etot= -0.356720831  Ekin= 0.241206   Epot= -0.597927 : de= -0.0171727 ( 0.0195542 ) d(de)= 0.00104222 ( 0.00641291 ) t_sim=  1.12689 sec\n",
      "iter=43 : time= 2.6875  Etot= -0.3564498237  Ekin= 0.240074   Epot= -0.596524 : de= -0.0179194 ( 0.0195542 ) d(de)= -0.000759718 ( 0.00641291 ) t_sim=  1.12936 sec\n",
      "iter=44 : time= 2.75  Etot= -0.356892725  Ekin= 0.24054   Epot= -0.597433 : de= -0.0166991 ( 0.0195542 ) d(de)= 0.00124253 ( 0.00641291 ) t_sim=  1.13132 sec\n",
      "iter=45 : time= 2.8125  Etot= -0.3567263309  Ekin= 0.24048   Epot= -0.597206 : de= -0.0171576 ( 0.0195542 ) d(de)= -0.00046623 ( 0.00641291 ) t_sim=  1.13323 sec\n",
      "iter=46 : time= 2.875  Etot= -0.3567747137  Ekin= 0.23987   Epot= -0.596645 : de= -0.0170243 ( 0.0195542 ) d(de)= 0.00013563 ( 0.00641291 ) t_sim=  1.13532 sec\n",
      "iter=47 : time= 2.9375  Etot= -0.3564856636  Ekin= 0.239457   Epot= -0.595943 : de= -0.0178206 ( 0.0195542 ) d(de)= -0.000810175 ( 0.00641291 ) t_sim=  1.13729 sec\n",
      "iter=48 : time= 3  Etot= -0.3565156699  Ekin= 0.239914   Epot= -0.59643 : de= -0.017738 ( 0.0195542 ) d(de)= 8.41726e-05 ( 0.00641291 ) t_sim=  1.14084 sec\n",
      "iter=49 : time= 3.0625  Etot= -0.3563719311  Ekin= 0.242288   Epot= -0.59866 : de= -0.018134 ( 0.0195542 ) d(de)= -0.000403177 ( 0.00641291 ) t_sim=  1.14537 sec\n",
      "iter=50 : time= 3.125  Etot= -0.3579110364  Ekin= 0.2439   Epot= -0.601811 : de= -0.0138935 ( 0.0195542 ) d(de)= 0.00431882 ( 0.00641291 ) t_sim=  1.14841 sec\n",
      "iter=51 : time= 3.1875  Etot= -0.3563588451  Ekin= 0.243449   Epot= -0.599808 : de= -0.01817 ( 0.0195542 ) d(de)= -0.00433681 ( 0.00641291 ) t_sim=  1.1509 sec\n",
      "iter=52 : time= 3.25  Etot= -0.35665743  Ekin= 0.242409   Epot= -0.599067 : de= -0.0173474 ( 0.0195542 ) d(de)= 0.000837877 ( 0.00641291 ) t_sim=  1.15389 sec\n",
      "iter=53 : time= 3.3125  Etot= -0.3564919254  Ekin= 0.242338   Epot= -0.59883 : de= -0.0178034 ( 0.0195542 ) d(de)= -0.000464044 ( 0.00641291 ) t_sim=  1.15782 sec\n",
      "iter=54 : time= 3.375  Etot= -0.356638827  Ekin= 0.244457   Epot= -0.601096 : de= -0.0173987 ( 0.0195542 ) d(de)= 0.000412075 ( 0.00641291 ) t_sim=  1.16131 sec\n",
      "iter=55 : time= 3.4375  Etot= -0.3564915937  Ekin= 0.247764   Epot= -0.604255 : de= -0.0178043 ( 0.0195542 ) d(de)= -0.000412836 ( 0.00641291 ) t_sim=  1.16328 sec\n",
      "iter=56 : time= 3.5  Etot= -0.3568163161  Ekin= 0.250874   Epot= -0.60769 : de= -0.0169096 ( 0.0195542 ) d(de)= 0.000910884 ( 0.00641291 ) t_sim=  1.16551 sec\n",
      "iter=57 : time= 3.5625  Etot= -0.3566314743  Ekin= 0.253032   Epot= -0.609664 : de= -0.0174189 ( 0.0195542 ) d(de)= -0.000518031 ( 0.00641291 ) t_sim=  1.16736 sec\n",
      "iter=58 : time= 3.625  Etot= -0.3565498589  Ekin= 0.255069   Epot= -0.611619 : de= -0.0176438 ( 0.0195542 ) d(de)= -0.000228851 ( 0.00641291 ) t_sim=  1.1691 sec\n",
      "iter=59 : time= 3.6875  Etot= -0.3569281081  Ekin= 0.257872   Epot= -0.6148 : de= -0.0166016 ( 0.0195542 ) d(de)= 0.00106086 ( 0.00641291 ) t_sim=  1.17085 sec\n",
      "iter=60 : time= 3.75  Etot= -0.3565033659  Ekin= 0.260915   Epot= -0.617418 : de= -0.0177719 ( 0.0195542 ) d(de)= -0.00118999 ( 0.00641291 ) t_sim=  1.17376 sec\n",
      "iter=61 : time= 3.8125  Etot= -0.3565728294  Ekin= 0.265404   Epot= -0.621977 : de= -0.0175805 ( 0.0195542 ) d(de)= 0.000194847 ( 0.00641291 ) t_sim=  1.17645 sec\n",
      "iter=62 : time= 3.875  Etot= -0.3571033743  Ekin= 0.270226   Epot= -0.62733 : de= -0.0161187 ( 0.0195542 ) d(de)= 0.0014879 ( 0.00641291 ) t_sim=  1.18101 sec\n",
      "iter=63 : time= 3.9375  Etot= -0.3567597521  Ekin= 0.272203   Epot= -0.628963 : de= -0.0170655 ( 0.0195542 ) d(de)= -0.000962249 ( 0.00641291 ) t_sim=  1.18325 sec\n",
      "iter=64 : time= 4  Etot= -0.357087714  Ekin= 0.274027   Epot= -0.631115 : de= -0.0161619 ( 0.0195542 ) d(de)= 0.00091928 ( 0.00641291 ) t_sim=  1.18538 sec\n",
      "iter=65 : time= 4.0625  Etot= -0.3559294549  Ekin= 0.27781   Epot= -0.633739 : de= -0.0193531 ( 0.0195542 ) d(de)= -0.00324363 ( 0.00641291 ) t_sim=  1.18847 sec\n",
      "iter=66 : time= 4.125  Etot= -0.3553212836  Ekin= 0.280857   Epot= -0.636179 : de= -0.0210287 ( 0.0210287 ) d(de)= -0.00170868 ( 0.00641291 ) t_sim=  1.19282 sec\n",
      "iter=67 : time= 4.1875  Etot= -0.3546425507  Ekin= 0.283361   Epot= -0.638004 : de= -0.0228987 ( 0.0228987 ) d(de)= -0.00191019 ( 0.00641291 ) t_sim=  1.19486 sec\n",
      "iter=68 : time= 4.25  Etot= -0.3549353497  Ekin= 0.286563   Epot= -0.641498 : de= -0.022092 ( 0.0228987 ) d(de)= 0.000825617 ( 0.00641291 ) t_sim=  1.19658 sec\n",
      "iter=69 : time= 4.3125  Etot= -0.3545464809  Ekin= 0.288449   Epot= -0.642996 : de= -0.0231634 ( 0.0231634 ) d(de)= -0.0010956 ( 0.00641291 ) t_sim=  1.19833 sec\n",
      "iter=70 : time= 4.375  Etot= -0.3537977591  Ekin= 0.288042   Epot= -0.64184 : de= -0.0252263 ( 0.0252263 ) d(de)= -0.00211177 ( 0.00641291 ) t_sim=  1.20009 sec\n"
     ]
    },
    {
     "name": "stderr",
     "output_type": "stream",
     "text": [
      "iter=1 : time= 0.0625  Etot= -0.3621170314  Ekin= 0.249293   Epot= -0.61141 : de= -0.00230525 ( 0.00230525 ) d(de)= -0.00230525 ( 0.00230525 ) t_sim=  1.0001 sec\n",
      "iter=2 : time= 0.125  Etot= -0.3621217679  Ekin= 0.253127   Epot= -0.615249 : de= -0.0022922 ( 0.00230525 ) d(de)= 1.30801e-05 ( 0.00230525 ) t_sim=  1.00255 sec\n",
      "iter=3 : time= 0.1875  Etot= -0.3615919591  Ekin= 0.254243   Epot= -0.615835 : de= -0.00375192 ( 0.00375192 ) d(de)= -0.00146307 ( 0.00230525 ) t_sim=  1.00493 sec\n",
      "iter=4 : time= 0.25  Etot= -0.3615512186  Ekin= 0.256002   Epot= -0.617553 : de= -0.00386417 ( 0.00386417 ) d(de)= -0.00011267 ( 0.00230525 ) t_sim=  1.00942 sec\n",
      "iter=5 : time= 0.3125  Etot= -0.3618810132  Ekin= 0.258304   Epot= -0.620185 : de= -0.00295552 ( 0.00386417 ) d(de)= 0.000912166 ( 0.00230525 ) t_sim=  1.01386 sec\n",
      "iter=6 : time= 0.375  Etot= -0.3616744896  Ekin= 0.260918   Epot= -0.622592 : de= -0.00352453 ( 0.00386417 ) d(de)= -0.000570695 ( 0.00230525 ) t_sim=  1.01613 sec\n",
      "iter=7 : time= 0.4375  Etot= -0.3616971992  Ekin= 0.265054   Epot= -0.626751 : de= -0.00346196 ( 0.00386417 ) d(de)= 6.279e-05 ( 0.00230525 ) t_sim=  1.01854 sec\n",
      "iter=8 : time= 0.5  Etot= -0.3625812593  Ekin= 0.269294   Epot= -0.631875 : de= -0.00102623 ( 0.00386417 ) d(de)= 0.0024442 ( 0.0024442 ) t_sim=  1.02195 sec\n",
      "iter=9 : time= 0.5625  Etot= -0.3614960496  Ekin= 0.271598   Epot= -0.633094 : de= -0.00401617 ( 0.00401617 ) d(de)= -0.00299301 ( 0.00299301 ) t_sim=  1.02719 sec\n",
      "iter=10 : time= 0.625  Etot= -0.3613774166  Ekin= 0.272811   Epot= -0.634188 : de= -0.00434302 ( 0.00434302 ) d(de)= -0.000328173 ( 0.00299301 ) t_sim=  1.02981 sec\n",
      "iter=11 : time= 0.6875  Etot= -0.3608026351  Ekin= 0.275995   Epot= -0.636797 : de= -0.00592664 ( 0.00592664 ) d(de)= -0.00159053 ( 0.00299301 ) t_sim=  1.03213 sec\n",
      "iter=12 : time= 0.75  Etot= -0.3626625459  Ekin= 0.280936   Epot= -0.643598 : de= -0.000802268 ( 0.00592664 ) d(de)= 0.00515493 ( 0.00515493 ) t_sim=  1.0344 sec\n",
      "iter=13 : time= 0.8125  Etot= -0.3620997562  Ekin= 0.282658   Epot= -0.644758 : de= -0.00235285 ( 0.00592664 ) d(de)= -0.00155183 ( 0.00515493 ) t_sim=  1.0365 sec\n",
      "iter=14 : time= 0.875  Etot= -0.361182484  Ekin= 0.280734   Epot= -0.641916 : de= -0.00488009 ( 0.00592664 ) d(de)= -0.0025332 ( 0.00515493 ) t_sim=  1.03903 sec\n",
      "iter=15 : time= 0.9375  Etot= -0.3622483314  Ekin= 0.27853   Epot= -0.640779 : de= -0.0019435 ( 0.00592664 ) d(de)= 0.00295099 ( 0.00515493 ) t_sim=  1.04269 sec\n",
      "iter=16 : time= 1  Etot= -0.3607515072  Ekin= 0.274934   Epot= -0.635686 : de= -0.00606751 ( 0.00606751 ) d(de)= -0.00413204 ( 0.00515493 ) t_sim=  1.04752 sec\n",
      "iter=17 : time= 1.0625  Etot= -0.3601630724  Ekin= 0.27165   Epot= -0.631813 : de= -0.00768875 ( 0.00768875 ) d(de)= -0.00163114 ( 0.00515493 ) t_sim=  1.04991 sec\n",
      "iter=18 : time= 1.125  Etot= -0.3612420649  Ekin= 0.272774   Epot= -0.634016 : de= -0.00471594 ( 0.00768875 ) d(de)= 0.00299584 ( 0.00515493 ) t_sim=  1.05238 sec\n",
      "iter=19 : time= 1.1875  Etot= -0.3603256876  Ekin= 0.275443   Epot= -0.635769 : de= -0.00724071 ( 0.00768875 ) d(de)= -0.00253674 ( 0.00515493 ) t_sim=  1.05552 sec\n",
      "iter=20 : time= 1.25  Etot= -0.3605402709  Ekin= 0.277425   Epot= -0.637965 : de= -0.0066495 ( 0.00768875 ) d(de)= 0.000595526 ( 0.00515493 ) t_sim=  1.05993 sec\n",
      "iter=21 : time= 1.3125  Etot= -0.3609290735  Ekin= 0.277758   Epot= -0.638687 : de= -0.00557828 ( 0.00768875 ) d(de)= 0.00107839 ( 0.00515493 ) t_sim=  1.06272 sec\n",
      "iter=22 : time= 1.375  Etot= -0.3608206031  Ekin= 0.276959   Epot= -0.63778 : de= -0.00587714 ( 0.00768875 ) d(de)= -0.000300531 ( 0.00515493 ) t_sim=  1.0652 sec\n",
      "iter=23 : time= 1.4375  Etot= -0.3606078437  Ekin= 0.277101   Epot= -0.637709 : de= -0.00646333 ( 0.00768875 ) d(de)= -0.000589654 ( 0.00515493 ) t_sim=  1.06738 sec\n",
      "iter=24 : time= 1.5  Etot= -0.3612307802  Ekin= 0.27762   Epot= -0.63885 : de= -0.00474703 ( 0.00768875 ) d(de)= 0.00172746 ( 0.00515493 ) t_sim=  1.06949 sec\n",
      "iter=25 : time= 1.5625  Etot= -0.3589142411  Ekin= 0.277294   Epot= -0.636208 : de= -0.0111295 ( 0.0111295 ) d(de)= -0.00641291 ( 0.00641291 ) t_sim=  1.0717 sec\n",
      "iter=26 : time= 1.625  Etot= -0.3577231016  Ekin= 0.27658   Epot= -0.634303 : de= -0.0144113 ( 0.0144113 ) d(de)= -0.00331873 ( 0.00641291 ) t_sim=  1.07555 sec\n",
      "iter=27 : time= 1.6875  Etot= -0.3578734775  Ekin= 0.277948   Epot= -0.635822 : de= -0.013997 ( 0.0144113 ) d(de)= 0.00042037 ( 0.00641291 ) t_sim=  1.08036 sec\n",
      "iter=28 : time= 1.75  Etot= -0.3575732574  Ekin= 0.280105   Epot= -0.637678 : de= -0.0148241 ( 0.0148241 ) d(de)= -0.0008389 ( 0.00641291 ) t_sim=  1.08304 sec\n",
      "iter=29 : time= 1.8125  Etot= -0.3584304359  Ekin= 0.282175   Epot= -0.640605 : de= -0.0124625 ( 0.0148241 ) d(de)= 0.00239721 ( 0.00641291 ) t_sim=  1.0854 sec\n",
      "iter=30 : time= 1.875  Etot= -0.3561333377  Ekin= 0.283032   Epot= -0.639165 : de= -0.0187914 ( 0.0187914 ) d(de)= -0.00640877 ( 0.00641291 ) t_sim=  1.08753 sec\n",
      "iter=31 : time= 1.9375  Etot= -0.3565246632  Ekin= 0.281292   Epot= -0.637816 : de= -0.0177132 ( 0.0187914 ) d(de)= 0.00109882 ( 0.00641291 ) t_sim=  1.09178 sec\n",
      "iter=32 : time= 2  Etot= -0.3567143169  Ekin= 0.278039   Epot= -0.634754 : de= -0.0171907 ( 0.0187914 ) d(de)= 0.000531951 ( 0.00641291 ) t_sim=  1.09517 sec\n",
      "iter=33 : time= 2.0625  Etot= -0.3559704292  Ekin= 0.273036   Epot= -0.629007 : de= -0.0192402 ( 0.0192402 ) d(de)= -0.00208539 ( 0.00641291 ) t_sim=  1.09789 sec\n",
      "iter=34 : time= 2.125  Etot= -0.3569340976  Ekin= 0.267888   Epot= -0.624822 : de= -0.0165851 ( 0.0192402 ) d(de)= 0.00270716 ( 0.00641291 ) t_sim=  1.10053 sec\n",
      "iter=35 : time= 2.1875  Etot= -0.3558564689  Ekin= 0.263565   Epot= -0.619422 : de= -0.0195542 ( 0.0195542 ) d(de)= -0.00301913 ( 0.00641291 ) t_sim=  1.10302 sec\n",
      "iter=36 : time= 2.25  Etot= -0.3579676336  Ekin= 0.259299   Epot= -0.617267 : de= -0.0137376 ( 0.0195542 ) d(de)= 0.00593263 ( 0.00641291 ) t_sim=  1.10513 sec\n",
      "iter=37 : time= 2.3125  Etot= -0.3577579544  Ekin= 0.253842   Epot= -0.6116 : de= -0.0143153 ( 0.0195542 ) d(de)= -0.000585749 ( 0.00641291 ) t_sim=  1.10953 sec\n",
      "iter=38 : time= 2.375  Etot= -0.357649852  Ekin= 0.249189   Epot= -0.606839 : de= -0.0146131 ( 0.0195542 ) d(de)= -0.000302166 ( 0.00641291 ) t_sim=  1.11362 sec\n",
      "iter=39 : time= 2.4375  Etot= -0.3577670948  Ekin= 0.246847   Epot= -0.604614 : de= -0.0142901 ( 0.0195542 ) d(de)= 0.000327815 ( 0.00641291 ) t_sim=  1.11649 sec\n",
      "iter=40 : time= 2.5  Etot= -0.358369158  Ekin= 0.246464   Epot= -0.604833 : de= -0.0126313 ( 0.0195542 ) d(de)= 0.00168284 ( 0.00641291 ) t_sim=  1.11857 sec\n",
      "iter=41 : time= 2.5625  Etot= -0.3563494357  Ekin= 0.244713   Epot= -0.601062 : de= -0.018196 ( 0.0195542 ) d(de)= -0.00563587 ( 0.00641291 ) t_sim=  1.12181 sec\n",
      "iter=42 : time= 2.625  Etot= -0.356720831  Ekin= 0.241206   Epot= -0.597927 : de= -0.0171727 ( 0.0195542 ) d(de)= 0.00104222 ( 0.00641291 ) t_sim=  1.1269 sec\n",
      "iter=43 : time= 2.6875  Etot= -0.3564498237  Ekin= 0.240074   Epot= -0.596524 : de= -0.0179194 ( 0.0195542 ) d(de)= -0.000759718 ( 0.00641291 ) t_sim=  1.12936 sec\n",
      "iter=44 : time= 2.75  Etot= -0.356892725  Ekin= 0.24054   Epot= -0.597433 : de= -0.0166991 ( 0.0195542 ) d(de)= 0.00124253 ( 0.00641291 ) t_sim=  1.13132 sec\n",
      "iter=45 : time= 2.8125  Etot= -0.3567263309  Ekin= 0.24048   Epot= -0.597206 : de= -0.0171576 ( 0.0195542 ) d(de)= -0.00046623 ( 0.00641291 ) t_sim=  1.13323 sec\n",
      "iter=46 : time= 2.875  Etot= -0.3567747137  Ekin= 0.23987   Epot= -0.596645 : de= -0.0170243 ( 0.0195542 ) d(de)= 0.00013563 ( 0.00641291 ) t_sim=  1.13533 sec\n",
      "iter=47 : time= 2.9375  Etot= -0.3564856636  Ekin= 0.239457   Epot= -0.595943 : de= -0.0178206 ( 0.0195542 ) d(de)= -0.000810175 ( 0.00641291 ) t_sim=  1.1373 sec\n",
      "iter=48 : time= 3  Etot= -0.3565156699  Ekin= 0.239914   Epot= -0.59643 : de= -0.017738 ( 0.0195542 ) d(de)= 8.41726e-05 ( 0.00641291 ) t_sim=  1.14084 sec\n",
      "iter=49 : time= 3.0625  Etot= -0.3563719311  Ekin= 0.242288   Epot= -0.59866 : de= -0.018134 ( 0.0195542 ) d(de)= -0.000403177 ( 0.00641291 ) t_sim=  1.14538 sec\n",
      "iter=50 : time= 3.125  Etot= -0.3579110364  Ekin= 0.2439   Epot= -0.601811 : de= -0.0138935 ( 0.0195542 ) d(de)= 0.00431882 ( 0.00641291 ) t_sim=  1.14842 sec\n",
      "iter=51 : time= 3.1875  Etot= -0.3563588451  Ekin= 0.243449   Epot= -0.599808 : de= -0.01817 ( 0.0195542 ) d(de)= -0.00433681 ( 0.00641291 ) t_sim=  1.15091 sec\n",
      "iter=52 : time= 3.25  Etot= -0.35665743  Ekin= 0.242409   Epot= -0.599067 : de= -0.0173474 ( 0.0195542 ) d(de)= 0.000837877 ( 0.00641291 ) t_sim=  1.1539 sec\n",
      "iter=53 : time= 3.3125  Etot= -0.3564919254  Ekin= 0.242338   Epot= -0.59883 : de= -0.0178034 ( 0.0195542 ) d(de)= -0.000464044 ( 0.00641291 ) t_sim=  1.15782 sec\n",
      "iter=54 : time= 3.375  Etot= -0.356638827  Ekin= 0.244457   Epot= -0.601096 : de= -0.0173987 ( 0.0195542 ) d(de)= 0.000412075 ( 0.00641291 ) t_sim=  1.16131 sec\n",
      "iter=55 : time= 3.4375  Etot= -0.3564915937  Ekin= 0.247764   Epot= -0.604255 : de= -0.0178043 ( 0.0195542 ) d(de)= -0.000412836 ( 0.00641291 ) t_sim=  1.16328 sec\n",
      "iter=56 : time= 3.5  Etot= -0.3568163161  Ekin= 0.250874   Epot= -0.60769 : de= -0.0169096 ( 0.0195542 ) d(de)= 0.000910884 ( 0.00641291 ) t_sim=  1.16551 sec\n",
      "iter=57 : time= 3.5625  Etot= -0.3566314743  Ekin= 0.253032   Epot= -0.609664 : de= -0.0174189 ( 0.0195542 ) d(de)= -0.000518031 ( 0.00641291 ) t_sim=  1.16736 sec\n",
      "iter=58 : time= 3.625  Etot= -0.3565498589  Ekin= 0.255069   Epot= -0.611619 : de= -0.0176438 ( 0.0195542 ) d(de)= -0.000228851 ( 0.00641291 ) t_sim=  1.1691 sec\n",
      "iter=59 : time= 3.6875  Etot= -0.3569281081  Ekin= 0.257872   Epot= -0.6148 : de= -0.0166016 ( 0.0195542 ) d(de)= 0.00106086 ( 0.00641291 ) t_sim=  1.17086 sec\n",
      "iter=60 : time= 3.75  Etot= -0.3565033659  Ekin= 0.260915   Epot= -0.617418 : de= -0.0177719 ( 0.0195542 ) d(de)= -0.00118999 ( 0.00641291 ) t_sim=  1.17377 sec\n",
      "iter=61 : time= 3.8125  Etot= -0.3565728294  Ekin= 0.265404   Epot= -0.621977 : de= -0.0175805 ( 0.0195542 ) d(de)= 0.000194847 ( 0.00641291 ) t_sim=  1.17645 sec\n",
      "iter=62 : time= 3.875  Etot= -0.3571033743  Ekin= 0.270226   Epot= -0.62733 : de= -0.0161187 ( 0.0195542 ) d(de)= 0.0014879 ( 0.00641291 ) t_sim=  1.18101 sec\n",
      "iter=63 : time= 3.9375  Etot= -0.3567597521  Ekin= 0.272203   Epot= -0.628963 : de= -0.0170655 ( 0.0195542 ) d(de)= -0.000962249 ( 0.00641291 ) t_sim=  1.18325 sec\n",
      "iter=64 : time= 4  Etot= -0.357087714  Ekin= 0.274027   Epot= -0.631115 : de= -0.0161619 ( 0.0195542 ) d(de)= 0.00091928 ( 0.00641291 ) t_sim=  1.18538 sec\n",
      "iter=65 : time= 4.0625  Etot= -0.3559294549  Ekin= 0.27781   Epot= -0.633739 : de= -0.0193531 ( 0.0195542 ) d(de)= -0.00324363 ( 0.00641291 ) t_sim=  1.18848 sec\n",
      "iter=66 : time= 4.125  Etot= -0.3553212836  Ekin= 0.280857   Epot= -0.636179 : de= -0.0210287 ( 0.0210287 ) d(de)= -0.00170868 ( 0.00641291 ) t_sim=  1.19282 sec\n",
      "iter=67 : time= 4.1875  Etot= -0.3546425507  Ekin= 0.283361   Epot= -0.638004 : de= -0.0228987 ( 0.0228987 ) d(de)= -0.00191019 ( 0.00641291 ) t_sim=  1.19486 sec\n",
      "iter=68 : time= 4.25  Etot= -0.3549353497  Ekin= 0.286563   Epot= -0.641498 : de= -0.022092 ( 0.0228987 ) d(de)= 0.000825617 ( 0.00641291 ) t_sim=  1.19658 sec\n",
      "iter=69 : time= 4.3125  Etot= -0.3545464809  Ekin= 0.288449   Epot= -0.642996 : de= -0.0231634 ( 0.0231634 ) d(de)= -0.0010956 ( 0.00641291 ) t_sim=  1.19834 sec\n",
      "iter=70 : time= 4.375  Etot= -0.3537977591  Ekin= 0.288042   Epot= -0.64184 : de= -0.0252263 ( 0.0252263 ) d(de)= -0.00211177 ( 0.00641291 ) t_sim=  1.2001 sec\n",
      "iter=71 : time= 4.4375  Etot= -0.3531636761  Ekin= 0.287144   Epot= -0.640308 : de= -0.0269733 ( 0.0269733 ) d(de)= -0.00179222 ( 0.00641291 ) t_sim=  1.20194 sec\n",
      "iter=72 : time= 4.5  Etot= -0.3518428029  Ekin= 0.287097   Epot= -0.63894 : de= -0.0306125 ( 0.0306125 ) d(de)= -0.00374012 ( 0.00641291 ) t_sim=  1.20375 sec\n",
      "iter=73 : time= 4.5625  Etot= -0.3518901731  Ekin= 0.288502   Epot= -0.640392 : de= -0.030482 ( 0.0306125 ) d(de)= 0.000134635 ( 0.00641291 ) t_sim=  1.20683 sec\n",
      "iter=74 : time= 4.625  Etot= -0.3521472047  Ekin= 0.288791   Epot= -0.640938 : de= -0.0297738 ( 0.0306125 ) d(de)= 0.000730431 ( 0.00641291 ) t_sim=  1.21242 sec\n",
      "iter=75 : time= 4.6875  Etot= -0.3524849657  Ekin= 0.288013   Epot= -0.640498 : de= -0.0288433 ( 0.0306125 ) d(de)= 0.000959147 ( 0.00641291 ) t_sim=  1.21913 sec\n",
      "iter=76 : time= 4.75  Etot= -0.3522018306  Ekin= 0.28755   Epot= -0.639752 : de= -0.0296233 ( 0.0306125 ) d(de)= -0.000803254 ( 0.00641291 ) t_sim=  1.22208 sec\n",
      "iter=77 : time= 4.8125  Etot= -0.3532666598  Ekin= 0.285257   Epot= -0.638524 : de= -0.0266896 ( 0.0306125 ) d(de)= 0.00302335 ( 0.00641291 ) t_sim=  1.22813 sec\n",
      "iter=78 : time= 4.875  Etot= -0.3532453292  Ekin= 0.28296   Epot= -0.636205 : de= -0.0267483 ( 0.0306125 ) d(de)= -6.03811e-05 ( 0.00641291 ) t_sim=  1.2302 sec\n",
      "iter=79 : time= 4.9375  Etot= -0.3531528073  Ekin= 0.282873   Epot= -0.636026 : de= -0.0270032 ( 0.0306125 ) d(de)= -0.00026192 ( 0.00641291 ) t_sim=  1.2322 sec\n",
      "iter=80 : time= 5  Etot= -0.353695331  Ekin= 0.281509   Epot= -0.635204 : de= -0.0255085 ( 0.0306125 ) d(de)= 0.00153623 ( 0.00641291 ) t_sim=  1.23442 sec\n",
      "iter=80 : time= 5  Etot= -0.353695331  Ekin= 0.281509   Epot= -0.635204 : de= -0.0255085 ( 0.0306125 ) d(de)= -0 ( 0.00641291 ) t_sim=  1.23481 sec\n"
     ]
    },
    {
     "name": "stdout",
     "output_type": "stream",
     "text": [
      "iter=71 : time= 4.4375  Etot= -0.3531636761  Ekin= 0.287144   Epot= -0.640308 : de= -0.0269733 ( 0.0269733 ) d(de)= -0.00179222 ( 0.00641291 ) t_sim=  1.20193 sec\n",
      "iter=72 : time= 4.5  Etot= -0.3518428029  Ekin= 0.287097   Epot= -0.63894 : de= -0.0306125 ( 0.0306125 ) d(de)= -0.00374012 ( 0.00641291 ) t_sim=  1.20375 sec\n",
      "iter=73 : time= 4.5625  Etot= -0.3518901731  Ekin= 0.288502   Epot= -0.640392 : de= -0.030482 ( 0.0306125 ) d(de)= 0.000134635 ( 0.00641291 ) t_sim=  1.20683 sec\n",
      "iter=74 : time= 4.625  Etot= -0.3521472047  Ekin= 0.288791   Epot= -0.640938 : de= -0.0297738 ( 0.0306125 ) d(de)= 0.000730431 ( 0.00641291 ) t_sim=  1.21241 sec\n",
      "iter=75 : time= 4.6875  Etot= -0.3524849657  Ekin= 0.288013   Epot= -0.640498 : de= -0.0288433 ( 0.0306125 ) d(de)= 0.000959147 ( 0.00641291 ) t_sim=  1.21912 sec\n",
      "iter=76 : time= 4.75  Etot= -0.3522018306  Ekin= 0.28755   Epot= -0.639752 : de= -0.0296233 ( 0.0306125 ) d(de)= -0.000803254 ( 0.00641291 ) t_sim=  1.22208 sec\n",
      "iter=77 : time= 4.8125  Etot= -0.3532666598  Ekin= 0.285257   Epot= -0.638524 : de= -0.0266896 ( 0.0306125 ) d(de)= 0.00302335 ( 0.00641291 ) t_sim=  1.22812 sec\n",
      "iter=78 : time= 4.875  Etot= -0.3532453292  Ekin= 0.28296   Epot= -0.636205 : de= -0.0267483 ( 0.0306125 ) d(de)= -6.03811e-05 ( 0.00641291 ) t_sim=  1.2302 sec\n",
      "iter=79 : time= 4.9375  Etot= -0.3531528073  Ekin= 0.282873   Epot= -0.636026 : de= -0.0270032 ( 0.0306125 ) d(de)= -0.00026192 ( 0.00641291 ) t_sim=  1.23219 sec\n",
      "iter=80 : time= 5  Etot= -0.353695331  Ekin= 0.281509   Epot= -0.635204 : de= -0.0255085 ( 0.0306125 ) d(de)= 0.00153623 ( 0.00641291 ) t_sim=  1.23442 sec\n",
      "iter=80 : time= 5  Etot= -0.353695331  Ekin= 0.281509   Epot= -0.635204 : de= -0.0255085 ( 0.0306125 ) d(de)= -0 ( 0.00641291 ) t_sim=  1.23481 sec\n",
      "../Bonsai/build/bonsai2_slowdust   --plummer 1000 --snapname data/plummer_snap_mpi --snapiter 0.0625 -T 5 -dt 0.0625 --eps 0.05\n",
      "Using Plummer model with n= 1000 per process \n",
      "..................................................................."
     ]
    },
    {
     "name": "stderr",
     "output_type": "stream",
     "text": [
      " Unknown ENV_VARIABLE:   -- Falling to basic forking method after MPI_Init, unsafe!\n",
      "Proc id: 0 @ Default , total processes: 1 (mpiInit) \n",
      "[INIT]\tUsed settings: \n",
      "[INIT]\tInput  filename \n",
      "[INIT]\tBonsai filename \n",
      "[INIT]\tLog filename gpuLog.log\n",
      "[INIT]\tTheta: \t\t0.75\t\teps: \t\t0.05\n",
      "[INIT]\tTimestep: \t0.0625\t\ttEnd: \t\t5\n",
      "[INIT]\titerEnd: \t1073741824\n",
      "[INIT]\tUse MPI-IO: \tNO\n",
      "[INIT]\tsnapshotFile: \tdata/plummer_snap_mpi\tsnapshotIter: \t0.0625\n",
      "[INIT]\tInput file: \t\t\tdevID: \t\t0\n",
      "[INIT]\tRemove dist: \t-1\n",
      "[INIT]\tRebuild tree every 1 timestep\n",
      "[INIT]\tRuntime logging is DISABLED \n",
      "[INIT]\tDirect gravitation is DISABLED\n",
      "[INIT]\tCode is built WITHOUT MPI Support \n",
      "Proc: 0 Bootup times: Tree/MPI: 0.140484 Threads/log: 0.0011251 IC-model: 0 \n",
      " Start iterating\n",
      "STARTING UP!!!\n",
      "iter=0 : time= 0  Etot= -0.2526758459  Ekin= 0.23497   Epot= -0.487646 : de= -0 ( 0 ) d(de)= -0 ( 0 ) t_sim=  5.96046e-06 sec\n"
     ]
    },
    {
     "name": "stdout",
     "output_type": "stream",
     "text": [
      "\n",
      "iter=0 : time= 0  Etot= -0.2526758459  Ekin= 0.23497   Epot= -0.487646 : de= -0 ( 0 ) d(de)= -0 ( 0 ) t_sim=  0 sec\n"
     ]
    },
    {
     "name": "stderr",
     "output_type": "stream",
     "text": [
      "iter=1 : time= 0.0625  Etot= -0.2526497369  Ekin= 0.234771   Epot= -0.487421 : de= -0.00010333 ( 0.00010333 ) d(de)= -0.00010333 ( 0.00010333 ) t_sim=  1.00035 sec\n",
      "iter=2 : time= 0.125  Etot= -0.2527488697  Ekin= 0.234655   Epot= -0.487404 : de= 0.000289002 ( 0.000289002 ) d(de)= 0.000392373 ( 0.000392373 ) t_sim=  1.00351 sec\n",
      "iter=3 : time= 0.1875  Etot= -0.252650157  Ekin= 0.234546   Epot= -0.487196 : de= -0.000101668 ( 0.000289002 ) d(de)= -0.000390556 ( 0.000392373 ) t_sim=  1.00676 sec\n",
      "iter=4 : time= 0.25  Etot= -0.2526867807  Ekin= 0.234511   Epot= -0.487198 : de= 4.32759e-05 ( 0.000289002 ) d(de)= 0.000144958 ( 0.000392373 ) t_sim=  1.00885 sec\n",
      "iter=5 : time= 0.3125  Etot= -0.2526471487  Ekin= 0.234453   Epot= -0.4871 : de= -0.000113573 ( 0.000289002 ) d(de)= -0.000156842 ( 0.000392373 ) t_sim=  1.0109 sec\n",
      "iter=6 : time= 0.375  Etot= -0.2526019797  Ekin= 0.234363   Epot= -0.486965 : de= -0.000292336 ( 0.000292336 ) d(de)= -0.000178783 ( 0.000392373 ) t_sim=  1.01564 sec\n",
      "iter=7 : time= 0.4375  Etot= -0.2526607771  Ekin= 0.234442   Epot= -0.487103 : de= -5.96369e-05 ( 0.000292336 ) d(de)= 0.000232767 ( 0.000392373 ) t_sim=  1.01797 sec\n",
      "iter=8 : time= 0.5  Etot= -0.2526636063  Ekin= 0.234648   Epot= -0.487312 : de= -4.844e-05 ( 0.000292336 ) d(de)= 1.11975e-05 ( 0.000392373 ) t_sim=  1.0202 sec\n",
      "iter=9 : time= 0.5625  Etot= -0.2526714197  Ekin= 0.234803   Epot= -0.487474 : de= -1.75172e-05 ( 0.000292336 ) d(de)= 3.09243e-05 ( 0.000392373 ) t_sim=  1.0237 sec\n",
      "iter=10 : time= 0.625  Etot= -0.252662882  Ekin= 0.234755   Epot= -0.487418 : de= -5.13064e-05 ( 0.000292336 ) d(de)= -3.37898e-05 ( 0.000392373 ) t_sim=  1.02691 sec\n",
      "iter=11 : time= 0.6875  Etot= -0.2526394782  Ekin= 0.234697   Epot= -0.487337 : de= -0.00014393 ( 0.000292336 ) d(de)= -9.26287e-05 ( 0.000392373 ) t_sim=  1.03189 sec\n",
      "iter=12 : time= 0.75  Etot= -0.2526198169  Ekin= 0.23494   Epot= -0.48756 : de= -0.000221743 ( 0.000292336 ) d(de)= -7.78235e-05 ( 0.000392373 ) t_sim=  1.03527 sec\n",
      "iter=13 : time= 0.8125  Etot= -0.2526336874  Ekin= 0.235419   Epot= -0.488053 : de= -0.000166848 ( 0.000292336 ) d(de)= 5.49068e-05 ( 0.000392373 ) t_sim=  1.03825 sec\n",
      "iter=14 : time= 0.875  Etot= -0.2526326427  Ekin= 0.235818   Epot= -0.488451 : de= -0.000170983 ( 0.000292336 ) d(de)= -4.13555e-06 ( 0.000392373 ) t_sim=  1.04093 sec\n",
      "iter=15 : time= 0.9375  Etot= -0.2526072179  Ekin= 0.236014   Epot= -0.488621 : de= -0.000271605 ( 0.000292336 ) d(de)= -0.000100639 ( 0.000392373 ) t_sim=  1.04377 sec\n",
      "iter=16 : time= 1  Etot= -0.2526035994  Ekin= 0.236137   Epot= -0.488741 : de= -0.000285926 ( 0.000292336 ) d(de)= -1.43247e-05 ( 0.000392373 ) t_sim=  1.04785 sec\n",
      "iter=17 : time= 1.0625  Etot= -0.2525435317  Ekin= 0.236303   Epot= -0.488846 : de= -0.000523652 ( 0.000523652 ) d(de)= -0.000237795 ( 0.000392373 ) t_sim=  1.05105 sec\n",
      "iter=18 : time= 1.125  Etot= -0.2525825899  Ekin= 0.236595   Epot= -0.489178 : de= -0.000369074 ( 0.000523652 ) d(de)= 0.00015466 ( 0.000392373 ) t_sim=  1.05519 sec\n",
      "iter=19 : time= 1.1875  Etot= -0.2525528826  Ekin= 0.236942   Epot= -0.489495 : de= -0.000486645 ( 0.000523652 ) d(de)= -0.000117614 ( 0.000392373 ) t_sim=  1.05817 sec\n",
      "iter=20 : time= 1.25  Etot= -0.2525277552  Ekin= 0.237313   Epot= -0.489841 : de= -0.00058609 ( 0.00058609 ) d(de)= -9.94935e-05 ( 0.000392373 ) t_sim=  1.06079 sec\n",
      "iter=21 : time= 1.3125  Etot= -0.2525730575  Ekin= 0.237818   Epot= -0.490391 : de= -0.0004068 ( 0.00058609 ) d(de)= 0.000179395 ( 0.000392373 ) t_sim=  1.06631 sec\n",
      "iter=22 : time= 1.375  Etot= -0.2525991351  Ekin= 0.238404   Epot= -0.491003 : de= -0.000303594 ( 0.00058609 ) d(de)= 0.000103248 ( 0.000392373 ) t_sim=  1.06991 sec\n",
      "iter=23 : time= 1.4375  Etot= -0.2526140707  Ekin= 0.239069   Epot= -0.491683 : de= -0.000244484 ( 0.00058609 ) d(de)= 5.91276e-05 ( 0.000392373 ) t_sim=  1.07342 sec\n",
      "iter=24 : time= 1.5  Etot= -0.2525725006  Ekin= 0.239835   Epot= -0.492408 : de= -0.000409004 ( 0.00058609 ) d(de)= -0.00016456 ( 0.000392373 ) t_sim=  1.077 sec\n",
      "iter=25 : time= 1.5625  Etot= -0.2526080408  Ekin= 0.240534   Epot= -0.493142 : de= -0.000268348 ( 0.00058609 ) d(de)= 0.000140713 ( 0.000392373 ) t_sim=  1.08222 sec\n",
      "iter=26 : time= 1.625  Etot= -0.2525385636  Ekin= 0.241186   Epot= -0.493725 : de= -0.000543314 ( 0.00058609 ) d(de)= -0.00027504 ( 0.000392373 ) t_sim=  1.08562 sec\n",
      "iter=27 : time= 1.6875  Etot= -0.2525769631  Ekin= 0.241934   Epot= -0.494511 : de= -0.000391343 ( 0.00058609 ) d(de)= 0.000152054 ( 0.000392373 ) t_sim=  1.08888 sec\n",
      "iter=28 : time= 1.75  Etot= -0.2527013427  Ekin= 0.24249   Epot= -0.495191 : de= 0.000100907 ( 0.00058609 ) d(de)= 0.000492442 ( 0.000492442 ) t_sim=  1.09182 sec\n",
      "iter=29 : time= 1.8125  Etot= -0.2525898976  Ekin= 0.242592   Epot= -0.495182 : de= -0.000340152 ( 0.00058609 ) d(de)= -0.000441015 ( 0.000492442 ) t_sim=  1.09451 sec\n",
      "iter=30 : time= 1.875  Etot= -0.2525656472  Ekin= 0.242515   Epot= -0.495081 : de= -0.000436127 ( 0.00058609 ) d(de)= -9.60071e-05 ( 0.000492442 ) t_sim=  1.09954 sec\n",
      "iter=31 : time= 1.9375  Etot= -0.2526133679  Ekin= 0.242657   Epot= -0.495271 : de= -0.000247266 ( 0.00058609 ) d(de)= 0.000188944 ( 0.000492442 ) t_sim=  1.10276 sec\n",
      "iter=32 : time= 2  Etot= -0.2525983723  Ekin= 0.24298   Epot= -0.495579 : de= -0.000306613 ( 0.00058609 ) d(de)= -5.93619e-05 ( 0.000492442 ) t_sim=  1.10519 sec\n",
      "iter=33 : time= 2.0625  Etot= -0.252579212  Ekin= 0.243151   Epot= -0.49573 : de= -0.000382442 ( 0.00058609 ) d(de)= -7.58525e-05 ( 0.000492442 ) t_sim=  1.10732 sec\n",
      "iter=34 : time= 2.125  Etot= -0.2525770823  Ekin= 0.243141   Epot= -0.495718 : de= -0.000390871 ( 0.00058609 ) d(de)= -8.43194e-06 ( 0.000492442 ) t_sim=  1.10931 sec\n",
      "iter=35 : time= 2.1875  Etot= -0.2525867483  Ekin= 0.243066   Epot= -0.495652 : de= -0.000352616 ( 0.00058609 ) d(de)= 3.82695e-05 ( 0.000492442 ) t_sim=  1.11275 sec\n",
      "iter=36 : time= 2.25  Etot= -0.2525521396  Ekin= 0.242912   Epot= -0.495464 : de= -0.000489585 ( 0.00058609 ) d(de)= -0.000137017 ( 0.000492442 ) t_sim=  1.11555 sec\n",
      "iter=37 : time= 2.3125  Etot= -0.2525533994  Ekin= 0.242708   Epot= -0.495262 : de= -0.000484599 ( 0.00058609 ) d(de)= 4.98857e-06 ( 0.000492442 ) t_sim=  1.11808 sec\n",
      "iter=38 : time= 2.375  Etot= -0.2525107772  Ekin= 0.242316   Epot= -0.494827 : de= -0.000653283 ( 0.000653283 ) d(de)= -0.000168765 ( 0.000492442 ) t_sim=  1.12134 sec\n",
      "iter=39 : time= 2.4375  Etot= -0.2525590712  Ekin= 0.24179   Epot= -0.494349 : de= -0.000462152 ( 0.000653283 ) d(de)= 0.000191255 ( 0.000492442 ) t_sim=  1.12414 sec\n",
      "iter=40 : time= 2.5  Etot= -0.2525072102  Ekin= 0.241514   Epot= -0.494021 : de= -0.000667399 ( 0.000667399 ) d(de)= -0.000205342 ( 0.000492442 ) t_sim=  1.12692 sec\n",
      "iter=41 : time= 2.5625  Etot= -0.2525621237  Ekin= 0.241468   Epot= -0.494031 : de= -0.000450072 ( 0.000667399 ) d(de)= 0.000217473 ( 0.000492442 ) t_sim=  1.13268 sec\n",
      "iter=42 : time= 2.625  Etot= -0.2524961856  Ekin= 0.241454   Epot= -0.493951 : de= -0.000711031 ( 0.000711031 ) d(de)= -0.000261077 ( 0.000492442 ) t_sim=  1.1362 sec\n",
      "iter=43 : time= 2.6875  Etot= -0.2525177042  Ekin= 0.241541   Epot= -0.494059 : de= -0.000625868 ( 0.000711031 ) d(de)= 8.52236e-05 ( 0.000492442 ) t_sim=  1.13935 sec\n",
      "iter=44 : time= 2.75  Etot= -0.2525060652  Ekin= 0.241745   Epot= -0.494251 : de= -0.000671931 ( 0.000711031 ) d(de)= -4.60921e-05 ( 0.000492442 ) t_sim=  1.14248 sec\n",
      "iter=45 : time= 2.8125  Etot= -0.2525232265  Ekin= 0.241982   Epot= -0.494505 : de= -0.000604013 ( 0.000711031 ) d(de)= 6.79642e-05 ( 0.000492442 ) t_sim=  1.14463 sec\n",
      "iter=46 : time= 2.875  Etot= -0.2524735323  Ekin= 0.242317   Epot= -0.494791 : de= -0.000800684 ( 0.000800684 ) d(de)= -0.000196791 ( 0.000492442 ) t_sim=  1.14829 sec\n",
      "iter=47 : time= 2.9375  Etot= -0.2525060748  Ekin= 0.242758   Epot= -0.495264 : de= -0.000671893 ( 0.000800684 ) d(de)= 0.000128895 ( 0.000492442 ) t_sim=  1.15069 sec\n",
      "iter=48 : time= 3  Etot= -0.2525222598  Ekin= 0.243283   Epot= -0.495805 : de= -0.000607839 ( 0.000800684 ) d(de)= 6.40974e-05 ( 0.000492442 ) t_sim=  1.15459 sec\n",
      "iter=49 : time= 3.0625  Etot= -0.2525103952  Ekin= 0.243805   Epot= -0.496316 : de= -0.000654794 ( 0.000800684 ) d(de)= -4.69843e-05 ( 0.000492442 ) t_sim=  1.15756 sec\n",
      "iter=50 : time= 3.125  Etot= -0.2525512594  Ekin= 0.244131   Epot= -0.496682 : de= -0.000493069 ( 0.000800684 ) d(de)= 0.000161832 ( 0.000492442 ) t_sim=  1.1602 sec\n",
      "iter=51 : time= 3.1875  Etot= -0.2524781938  Ekin= 0.244182   Epot= -0.496661 : de= -0.000782236 ( 0.000800684 ) d(de)= -0.00028931 ( 0.000492442 ) t_sim=  1.16454 sec\n",
      "iter=52 : time= 3.25  Etot= -0.2525476515  Ekin= 0.244245   Epot= -0.496793 : de= -0.000507347 ( 0.000800684 ) d(de)= 0.000275104 ( 0.000492442 ) t_sim=  1.16836 sec\n",
      "iter=53 : time= 3.3125  Etot= -0.2525389315  Ekin= 0.244304   Epot= -0.496843 : de= -0.000541858 ( 0.000800684 ) d(de)= -3.45284e-05 ( 0.000492442 ) t_sim=  1.17176 sec\n",
      "iter=54 : time= 3.375  Etot= -0.2524945937  Ekin= 0.244368   Epot= -0.496863 : de= -0.000717331 ( 0.000800684 ) d(de)= -0.000175568 ( 0.000492442 ) t_sim=  1.17436 sec\n",
      "iter=55 : time= 3.4375  Etot= -0.2525571183  Ekin= 0.244499   Epot= -0.497056 : de= -0.000469881 ( 0.000800684 ) d(de)= 0.000247627 ( 0.000492442 ) t_sim=  1.17661 sec\n",
      "iter=56 : time= 3.5  Etot= -0.2525286753  Ekin= 0.244409   Epot= -0.496938 : de= -0.000582448 ( 0.000800684 ) d(de)= -0.00011262 ( 0.000492442 ) t_sim=  1.18198 sec\n",
      "iter=57 : time= 3.5625  Etot= -0.2524612271  Ekin= 0.244263   Epot= -0.496724 : de= -0.000849384 ( 0.000849384 ) d(de)= -0.000267091 ( 0.000492442 ) t_sim=  1.18438 sec\n",
      "iter=58 : time= 3.625  Etot= -0.2525353718  Ekin= 0.2441   Epot= -0.496635 : de= -0.000555946 ( 0.000849384 ) d(de)= 0.000293688 ( 0.000492442 ) t_sim=  1.18866 sec\n",
      "iter=59 : time= 3.6875  Etot= -0.2525381457  Ekin= 0.24384   Epot= -0.496378 : de= -0.000544968 ( 0.000849384 ) d(de)= 1.09841e-05 ( 0.000492442 ) t_sim=  1.19212 sec\n",
      "iter=60 : time= 3.75  Etot= -0.2525131914  Ekin= 0.243573   Epot= -0.496086 : de= -0.000643728 ( 0.000849384 ) d(de)= -9.88136e-05 ( 0.000492442 ) t_sim=  1.19755 sec\n",
      "iter=61 : time= 3.8125  Etot= -0.2524807247  Ekin= 0.243315   Epot= -0.495796 : de= -0.000772219 ( 0.000849384 ) d(de)= -0.000128574 ( 0.000492442 ) t_sim=  1.20038 sec\n"
     ]
    },
    {
     "name": "stdout",
     "output_type": "stream",
     "text": [
      "iter=1 : time= 0.0625  Etot= -0.2526497369  Ekin= 0.234771   Epot= -0.487421 : de= -0.00010333 ( 0.00010333 ) d(de)= -0.00010333 ( 0.00010333 ) t_sim=  1.00034 sec\n",
      "iter=2 : time= 0.125  Etot= -0.2527488697  Ekin= 0.234655   Epot= -0.487404 : de= 0.000289002 ( 0.000289002 ) d(de)= 0.000392373 ( 0.000392373 ) t_sim=  1.0035 sec\n",
      "iter=3 : time= 0.1875  Etot= -0.252650157  Ekin= 0.234546   Epot= -0.487196 : de= -0.000101668 ( 0.000289002 ) d(de)= -0.000390556 ( 0.000392373 ) t_sim=  1.00676 sec\n",
      "iter=4 : time= 0.25  Etot= -0.2526867807  Ekin= 0.234511   Epot= -0.487198 : de= 4.32759e-05 ( 0.000289002 ) d(de)= 0.000144958 ( 0.000392373 ) t_sim=  1.00885 sec\n",
      "iter=5 : time= 0.3125  Etot= -0.2526471487  Ekin= 0.234453   Epot= -0.4871 : de= -0.000113573 ( 0.000289002 ) d(de)= -0.000156842 ( 0.000392373 ) t_sim=  1.0109 sec\n",
      "iter=6 : time= 0.375  Etot= -0.2526019797  Ekin= 0.234363   Epot= -0.486965 : de= -0.000292336 ( 0.000292336 ) d(de)= -0.000178783 ( 0.000392373 ) t_sim=  1.01564 sec\n",
      "iter=7 : time= 0.4375  Etot= -0.2526607771  Ekin= 0.234442   Epot= -0.487103 : de= -5.96369e-05 ( 0.000292336 ) d(de)= 0.000232767 ( 0.000392373 ) t_sim=  1.01796 sec\n",
      "iter=8 : time= 0.5  Etot= -0.2526636063  Ekin= 0.234648   Epot= -0.487312 : de= -4.844e-05 ( 0.000292336 ) d(de)= 1.11975e-05 ( 0.000392373 ) t_sim=  1.02019 sec\n",
      "iter=9 : time= 0.5625  Etot= -0.2526714197  Ekin= 0.234803   Epot= -0.487474 : de= -1.75172e-05 ( 0.000292336 ) d(de)= 3.09243e-05 ( 0.000392373 ) t_sim=  1.02369 sec\n",
      "iter=10 : time= 0.625  Etot= -0.252662882  Ekin= 0.234755   Epot= -0.487418 : de= -5.13064e-05 ( 0.000292336 ) d(de)= -3.37898e-05 ( 0.000392373 ) t_sim=  1.02691 sec\n",
      "iter=11 : time= 0.6875  Etot= -0.2526394782  Ekin= 0.234697   Epot= -0.487337 : de= -0.00014393 ( 0.000292336 ) d(de)= -9.26287e-05 ( 0.000392373 ) t_sim=  1.03188 sec\n",
      "iter=12 : time= 0.75  Etot= -0.2526198169  Ekin= 0.23494   Epot= -0.48756 : de= -0.000221743 ( 0.000292336 ) d(de)= -7.78235e-05 ( 0.000392373 ) t_sim=  1.03527 sec\n",
      "iter=13 : time= 0.8125  Etot= -0.2526336874  Ekin= 0.235419   Epot= -0.488053 : de= -0.000166848 ( 0.000292336 ) d(de)= 5.49068e-05 ( 0.000392373 ) t_sim=  1.03825 sec\n",
      "iter=14 : time= 0.875  Etot= -0.2526326427  Ekin= 0.235818   Epot= -0.488451 : de= -0.000170983 ( 0.000292336 ) d(de)= -4.13555e-06 ( 0.000392373 ) t_sim=  1.04092 sec\n",
      "iter=15 : time= 0.9375  Etot= -0.2526072179  Ekin= 0.236014   Epot= -0.488621 : de= -0.000271605 ( 0.000292336 ) d(de)= -0.000100639 ( 0.000392373 ) t_sim=  1.04377 sec\n",
      "iter=16 : time= 1  Etot= -0.2526035994  Ekin= 0.236137   Epot= -0.488741 : de= -0.000285926 ( 0.000292336 ) d(de)= -1.43247e-05 ( 0.000392373 ) t_sim=  1.04784 sec\n",
      "iter=17 : time= 1.0625  Etot= -0.2525435317  Ekin= 0.236303   Epot= -0.488846 : de= -0.000523652 ( 0.000523652 ) d(de)= -0.000237795 ( 0.000392373 ) t_sim=  1.05104 sec\n",
      "iter=18 : time= 1.125  Etot= -0.2525825899  Ekin= 0.236595   Epot= -0.489178 : de= -0.000369074 ( 0.000523652 ) d(de)= 0.00015466 ( 0.000392373 ) t_sim=  1.05519 sec\n",
      "iter=19 : time= 1.1875  Etot= -0.2525528826  Ekin= 0.236942   Epot= -0.489495 : de= -0.000486645 ( 0.000523652 ) d(de)= -0.000117614 ( 0.000392373 ) t_sim=  1.05817 sec\n",
      "iter=20 : time= 1.25  Etot= -0.2525277552  Ekin= 0.237313   Epot= -0.489841 : de= -0.00058609 ( 0.00058609 ) d(de)= -9.94935e-05 ( 0.000392373 ) t_sim=  1.06078 sec\n",
      "iter=21 : time= 1.3125  Etot= -0.2525730575  Ekin= 0.237818   Epot= -0.490391 : de= -0.0004068 ( 0.00058609 ) d(de)= 0.000179395 ( 0.000392373 ) t_sim=  1.06631 sec\n",
      "iter=22 : time= 1.375  Etot= -0.2525991351  Ekin= 0.238404   Epot= -0.491003 : de= -0.000303594 ( 0.00058609 ) d(de)= 0.000103248 ( 0.000392373 ) t_sim=  1.0699 sec\n",
      "iter=23 : time= 1.4375  Etot= -0.2526140707  Ekin= 0.239069   Epot= -0.491683 : de= -0.000244484 ( 0.00058609 ) d(de)= 5.91276e-05 ( 0.000392373 ) t_sim=  1.07341 sec\n",
      "iter=24 : time= 1.5  Etot= -0.2525725006  Ekin= 0.239835   Epot= -0.492408 : de= -0.000409004 ( 0.00058609 ) d(de)= -0.00016456 ( 0.000392373 ) t_sim=  1.07699 sec\n",
      "iter=25 : time= 1.5625  Etot= -0.2526080408  Ekin= 0.240534   Epot= -0.493142 : de= -0.000268348 ( 0.00058609 ) d(de)= 0.000140713 ( 0.000392373 ) t_sim=  1.08221 sec\n",
      "iter=26 : time= 1.625  Etot= -0.2525385636  Ekin= 0.241186   Epot= -0.493725 : de= -0.000543314 ( 0.00058609 ) d(de)= -0.00027504 ( 0.000392373 ) t_sim=  1.08561 sec\n",
      "iter=27 : time= 1.6875  Etot= -0.2525769631  Ekin= 0.241934   Epot= -0.494511 : de= -0.000391343 ( 0.00058609 ) d(de)= 0.000152054 ( 0.000392373 ) t_sim=  1.08887 sec\n",
      "iter=28 : time= 1.75  Etot= -0.2527013427  Ekin= 0.24249   Epot= -0.495191 : de= 0.000100907 ( 0.00058609 ) d(de)= 0.000492442 ( 0.000492442 ) t_sim=  1.09182 sec\n",
      "iter=29 : time= 1.8125  Etot= -0.2525898976  Ekin= 0.242592   Epot= -0.495182 : de= -0.000340152 ( 0.00058609 ) d(de)= -0.000441015 ( 0.000492442 ) t_sim=  1.0945 sec\n",
      "iter=30 : time= 1.875  Etot= -0.2525656472  Ekin= 0.242515   Epot= -0.495081 : de= -0.000436127 ( 0.00058609 ) d(de)= -9.60071e-05 ( 0.000492442 ) t_sim=  1.09954 sec\n",
      "iter=31 : time= 1.9375  Etot= -0.2526133679  Ekin= 0.242657   Epot= -0.495271 : de= -0.000247266 ( 0.00058609 ) d(de)= 0.000188944 ( 0.000492442 ) t_sim=  1.10276 sec\n",
      "iter=32 : time= 2  Etot= -0.2525983723  Ekin= 0.24298   Epot= -0.495579 : de= -0.000306613 ( 0.00058609 ) d(de)= -5.93619e-05 ( 0.000492442 ) t_sim=  1.10518 sec\n",
      "iter=33 : time= 2.0625  Etot= -0.252579212  Ekin= 0.243151   Epot= -0.49573 : de= -0.000382442 ( 0.00058609 ) d(de)= -7.58525e-05 ( 0.000492442 ) t_sim=  1.10731 sec\n",
      "iter=34 : time= 2.125  Etot= -0.2525770823  Ekin= 0.243141   Epot= -0.495718 : de= -0.000390871 ( 0.00058609 ) d(de)= -8.43194e-06 ( 0.000492442 ) t_sim=  1.10931 sec\n",
      "iter=35 : time= 2.1875  Etot= -0.2525867483  Ekin= 0.243066   Epot= -0.495652 : de= -0.000352616 ( 0.00058609 ) d(de)= 3.82695e-05 ( 0.000492442 ) t_sim=  1.11274 sec\n",
      "iter=36 : time= 2.25  Etot= -0.2525521396  Ekin= 0.242912   Epot= -0.495464 : de= -0.000489585 ( 0.00058609 ) d(de)= -0.000137017 ( 0.000492442 ) t_sim=  1.11554 sec\n",
      "iter=37 : time= 2.3125  Etot= -0.2525533994  Ekin= 0.242708   Epot= -0.495262 : de= -0.000484599 ( 0.00058609 ) d(de)= 4.98857e-06 ( 0.000492442 ) t_sim=  1.11808 sec\n",
      "iter=38 : time= 2.375  Etot= -0.2525107772  Ekin= 0.242316   Epot= -0.494827 : de= -0.000653283 ( 0.000653283 ) d(de)= -0.000168765 ( 0.000492442 ) t_sim=  1.12134 sec\n",
      "iter=39 : time= 2.4375  Etot= -0.2525590712  Ekin= 0.24179   Epot= -0.494349 : de= -0.000462152 ( 0.000653283 ) d(de)= 0.000191255 ( 0.000492442 ) t_sim=  1.12414 sec\n",
      "iter=40 : time= 2.5  Etot= -0.2525072102  Ekin= 0.241514   Epot= -0.494021 : de= -0.000667399 ( 0.000667399 ) d(de)= -0.000205342 ( 0.000492442 ) t_sim=  1.12692 sec\n",
      "iter=41 : time= 2.5625  Etot= -0.2525621237  Ekin= 0.241468   Epot= -0.494031 : de= -0.000450072 ( 0.000667399 ) d(de)= 0.000217473 ( 0.000492442 ) t_sim=  1.13267 sec\n",
      "iter=42 : time= 2.625  Etot= -0.2524961856  Ekin= 0.241454   Epot= -0.493951 : de= -0.000711031 ( 0.000711031 ) d(de)= -0.000261077 ( 0.000492442 ) t_sim=  1.13619 sec\n",
      "iter=43 : time= 2.6875  Etot= -0.2525177042  Ekin= 0.241541   Epot= -0.494059 : de= -0.000625868 ( 0.000711031 ) d(de)= 8.52236e-05 ( 0.000492442 ) t_sim=  1.13934 sec\n",
      "iter=44 : time= 2.75  Etot= -0.2525060652  Ekin= 0.241745   Epot= -0.494251 : de= -0.000671931 ( 0.000711031 ) d(de)= -4.60921e-05 ( 0.000492442 ) t_sim=  1.14248 sec\n",
      "iter=45 : time= 2.8125  Etot= -0.2525232265  Ekin= 0.241982   Epot= -0.494505 : de= -0.000604013 ( 0.000711031 ) d(de)= 6.79642e-05 ( 0.000492442 ) t_sim=  1.14462 sec\n",
      "iter=46 : time= 2.875  Etot= -0.2524735323  Ekin= 0.242317   Epot= -0.494791 : de= -0.000800684 ( 0.000800684 ) d(de)= -0.000196791 ( 0.000492442 ) t_sim=  1.14829 sec\n",
      "iter=47 : time= 2.9375  Etot= -0.2525060748  Ekin= 0.242758   Epot= -0.495264 : de= -0.000671893 ( 0.000800684 ) d(de)= 0.000128895 ( 0.000492442 ) t_sim=  1.15068 sec\n",
      "iter=48 : time= 3  Etot= -0.2525222598  Ekin= 0.243283   Epot= -0.495805 : de= -0.000607839 ( 0.000800684 ) d(de)= 6.40974e-05 ( 0.000492442 ) t_sim=  1.15458 sec\n",
      "iter=49 : time= 3.0625  Etot= -0.2525103952  Ekin= 0.243805   Epot= -0.496316 : de= -0.000654794 ( 0.000800684 ) d(de)= -4.69843e-05 ( 0.000492442 ) t_sim=  1.15755 sec\n",
      "iter=50 : time= 3.125  Etot= -0.2525512594  Ekin= 0.244131   Epot= -0.496682 : de= -0.000493069 ( 0.000800684 ) d(de)= 0.000161832 ( 0.000492442 ) t_sim=  1.16019 sec\n",
      "iter=51 : time= 3.1875  Etot= -0.2524781938  Ekin= 0.244182   Epot= -0.496661 : de= -0.000782236 ( 0.000800684 ) d(de)= -0.00028931 ( 0.000492442 ) t_sim=  1.16453 sec\n",
      "iter=52 : time= 3.25  Etot= -0.2525476515  Ekin= 0.244245   Epot= -0.496793 : de= -0.000507347 ( 0.000800684 ) d(de)= 0.000275104 ( 0.000492442 ) t_sim=  1.16835 sec\n",
      "iter=53 : time= 3.3125  Etot= -0.2525389315  Ekin= 0.244304   Epot= -0.496843 : de= -0.000541858 ( 0.000800684 ) d(de)= -3.45284e-05 ( 0.000492442 ) t_sim=  1.17175 sec\n",
      "iter=54 : time= 3.375  Etot= -0.2524945937  Ekin= 0.244368   Epot= -0.496863 : de= -0.000717331 ( 0.000800684 ) d(de)= -0.000175568 ( 0.000492442 ) t_sim=  1.17435 sec\n",
      "iter=55 : time= 3.4375  Etot= -0.2525571183  Ekin= 0.244499   Epot= -0.497056 : de= -0.000469881 ( 0.000800684 ) d(de)= 0.000247627 ( 0.000492442 ) t_sim=  1.17661 sec\n",
      "iter=56 : time= 3.5  Etot= -0.2525286753  Ekin= 0.244409   Epot= -0.496938 : de= -0.000582448 ( 0.000800684 ) d(de)= -0.00011262 ( 0.000492442 ) t_sim=  1.18198 sec\n",
      "iter=57 : time= 3.5625  Etot= -0.2524612271  Ekin= 0.244263   Epot= -0.496724 : de= -0.000849384 ( 0.000849384 ) d(de)= -0.000267091 ( 0.000492442 ) t_sim=  1.18438 sec\n",
      "iter=58 : time= 3.625  Etot= -0.2525353718  Ekin= 0.2441   Epot= -0.496635 : de= -0.000555946 ( 0.000849384 ) d(de)= 0.000293688 ( 0.000492442 ) t_sim=  1.18865 sec\n",
      "iter=59 : time= 3.6875  Etot= -0.2525381457  Ekin= 0.24384   Epot= -0.496378 : de= -0.000544968 ( 0.000849384 ) d(de)= 1.09841e-05 ( 0.000492442 ) t_sim=  1.19211 sec\n",
      "iter=60 : time= 3.75  Etot= -0.2525131914  Ekin= 0.243573   Epot= -0.496086 : de= -0.000643728 ( 0.000849384 ) d(de)= -9.88136e-05 ( 0.000492442 ) t_sim=  1.19754 sec\n",
      "iter=61 : time= 3.8125  Etot= -0.2524807247  Ekin= 0.243315   Epot= -0.495796 : de= -0.000772219 ( 0.000849384 ) d(de)= -0.000128574 ( 0.000492442 ) t_sim=  1.20037 sec\n"
     ]
    },
    {
     "name": "stderr",
     "output_type": "stream",
     "text": [
      "iter=62 : time= 3.875  Etot= -0.252453617  Ekin= 0.243092   Epot= -0.495545 : de= -0.000879502 ( 0.000879502 ) d(de)= -0.000107365 ( 0.000492442 ) t_sim=  1.20384 sec\n",
      "iter=63 : time= 3.9375  Etot= -0.2524481328  Ekin= 0.242953   Epot= -0.495402 : de= -0.000901206 ( 0.000901206 ) d(de)= -2.17237e-05 ( 0.000492442 ) t_sim=  1.20719 sec\n",
      "iter=64 : time= 4  Etot= -0.2524812616  Ekin= 0.242914   Epot= -0.495395 : de= -0.000770095 ( 0.000901206 ) d(de)= 0.00013123 ( 0.000492442 ) t_sim=  1.21018 sec\n",
      "iter=65 : time= 4.0625  Etot= -0.2524687224  Ekin= 0.242983   Epot= -0.495452 : de= -0.00081972 ( 0.000901206 ) d(de)= -4.96638e-05 ( 0.000492442 ) t_sim=  1.21789 sec\n",
      "iter=66 : time= 4.125  Etot= -0.2524533811  Ekin= 0.242958   Epot= -0.495411 : de= -0.000880436 ( 0.000901206 ) d(de)= -6.07653e-05 ( 0.000492442 ) t_sim=  1.222 sec\n",
      "iter=67 : time= 4.1875  Etot= -0.2523727569  Ekin= 0.242754   Epot= -0.495127 : de= -0.00119952 ( 0.00119952 ) d(de)= -0.000319363 ( 0.000492442 ) t_sim=  1.22567 sec\n",
      "iter=68 : time= 4.25  Etot= -0.2524111652  Ekin= 0.242577   Epot= -0.494988 : de= -0.00104751 ( 0.00119952 ) d(de)= 0.000152189 ( 0.000492442 ) t_sim=  1.23006 sec\n",
      "iter=69 : time= 4.3125  Etot= -0.2523982668  Ekin= 0.242462   Epot= -0.49486 : de= -0.00109856 ( 0.00119952 ) d(de)= -5.11008e-05 ( 0.000492442 ) t_sim=  1.23372 sec\n",
      "iter=70 : time= 4.375  Etot= -0.2524046658  Ekin= 0.242438   Epot= -0.494843 : de= -0.00107323 ( 0.00119952 ) d(de)= 2.53529e-05 ( 0.000492442 ) t_sim=  1.23807 sec\n",
      "iter=71 : time= 4.4375  Etot= -0.2524369034  Ekin= 0.242455   Epot= -0.494891 : de= -0.000945648 ( 0.00119952 ) d(de)= 0.000127722 ( 0.000492442 ) t_sim=  1.24191 sec\n",
      "iter=72 : time= 4.5  Etot= -0.2524559018  Ekin= 0.242316   Epot= -0.494772 : de= -0.00087046 ( 0.00119952 ) d(de)= 7.526e-05 ( 0.000492442 ) t_sim=  1.249 sec\n",
      "iter=73 : time= 4.5625  Etot= -0.2524119694  Ekin= 0.242132   Epot= -0.494544 : de= -0.00104433 ( 0.00119952 ) d(de)= -0.00017402 ( 0.000492442 ) t_sim=  1.2553 sec\n",
      "iter=74 : time= 4.625  Etot= -0.2524497958  Ekin= 0.241832   Epot= -0.494281 : de= -0.000894625 ( 0.00119952 ) d(de)= 0.00014986 ( 0.000492442 ) t_sim=  1.26128 sec\n",
      "iter=75 : time= 4.6875  Etot= -0.2524592987  Ekin= 0.241447   Epot= -0.493906 : de= -0.000857016 ( 0.00119952 ) d(de)= 3.76428e-05 ( 0.000492442 ) t_sim=  1.26639 sec\n",
      "iter=76 : time= 4.75  Etot= -0.2525011733  Ekin= 0.241167   Epot= -0.493668 : de= -0.000691291 ( 0.00119952 ) d(de)= 0.000165867 ( 0.000492442 ) t_sim=  1.27036 sec\n",
      "iter=77 : time= 4.8125  Etot= -0.252516117  Ekin= 0.240838   Epot= -0.493354 : de= -0.000632149 ( 0.00119952 ) d(de)= 5.91828e-05 ( 0.000492442 ) t_sim=  1.2755 sec\n",
      "iter=78 : time= 4.875  Etot= -0.2524670613  Ekin= 0.240495   Epot= -0.492963 : de= -0.000826294 ( 0.00119952 ) d(de)= -0.000194268 ( 0.000492442 ) t_sim=  1.28135 sec\n",
      "iter=79 : time= 4.9375  Etot= -0.2525550006  Ekin= 0.240271   Epot= -0.492826 : de= -0.000478262 ( 0.00119952 ) d(de)= 0.00034832 ( 0.000492442 ) t_sim=  1.28644 sec\n",
      "iter=80 : time= 5  Etot= -0.2525233018  Ekin= 0.240083   Epot= -0.492606 : de= -0.000603715 ( 0.00119952 ) d(de)= -0.000125513 ( 0.000492442 ) t_sim=  1.29111 sec\n",
      "iter=80 : time= 5  Etot= -0.2525233018  Ekin= 0.240083   Epot= -0.492606 : de= -0.000603715 ( 0.00119952 ) d(de)= -0 ( 0.000492442 ) t_sim=  1.29307 sec\n"
     ]
    },
    {
     "name": "stdout",
     "output_type": "stream",
     "text": [
      "iter=62 : time= 3.875  Etot= -0.252453617  Ekin= 0.243092   Epot= -0.495545 : de= -0.000879502 ( 0.000879502 ) d(de)= -0.000107365 ( 0.000492442 ) t_sim=  1.20384 sec\n",
      "iter=63 : time= 3.9375  Etot= -0.2524481328  Ekin= 0.242953   Epot= -0.495402 : de= -0.000901206 ( 0.000901206 ) d(de)= -2.17237e-05 ( 0.000492442 ) t_sim=  1.20718 sec\n",
      "iter=64 : time= 4  Etot= -0.2524812616  Ekin= 0.242914   Epot= -0.495395 : de= -0.000770095 ( 0.000901206 ) d(de)= 0.00013123 ( 0.000492442 ) t_sim=  1.21018 sec\n",
      "iter=65 : time= 4.0625  Etot= -0.2524687224  Ekin= 0.242983   Epot= -0.495452 : de= -0.00081972 ( 0.000901206 ) d(de)= -4.96638e-05 ( 0.000492442 ) t_sim=  1.21788 sec\n",
      "iter=66 : time= 4.125  Etot= -0.2524533811  Ekin= 0.242958   Epot= -0.495411 : de= -0.000880436 ( 0.000901206 ) d(de)= -6.07653e-05 ( 0.000492442 ) t_sim=  1.222 sec\n",
      "iter=67 : time= 4.1875  Etot= -0.2523727569  Ekin= 0.242754   Epot= -0.495127 : de= -0.00119952 ( 0.00119952 ) d(de)= -0.000319363 ( 0.000492442 ) t_sim=  1.22566 sec\n",
      "iter=68 : time= 4.25  Etot= -0.2524111652  Ekin= 0.242577   Epot= -0.494988 : de= -0.00104751 ( 0.00119952 ) d(de)= 0.000152189 ( 0.000492442 ) t_sim=  1.23005 sec\n",
      "iter=69 : time= 4.3125  Etot= -0.2523982668  Ekin= 0.242462   Epot= -0.49486 : de= -0.00109856 ( 0.00119952 ) d(de)= -5.11008e-05 ( 0.000492442 ) t_sim=  1.23371 sec\n",
      "iter=70 : time= 4.375  Etot= -0.2524046658  Ekin= 0.242438   Epot= -0.494843 : de= -0.00107323 ( 0.00119952 ) d(de)= 2.53529e-05 ( 0.000492442 ) t_sim=  1.23806 sec\n",
      "iter=71 : time= 4.4375  Etot= -0.2524369034  Ekin= 0.242455   Epot= -0.494891 : de= -0.000945648 ( 0.00119952 ) d(de)= 0.000127722 ( 0.000492442 ) t_sim=  1.24191 sec\n",
      "iter=72 : time= 4.5  Etot= -0.2524559018  Ekin= 0.242316   Epot= -0.494772 : de= -0.00087046 ( 0.00119952 ) d(de)= 7.526e-05 ( 0.000492442 ) t_sim=  1.249 sec\n",
      "iter=73 : time= 4.5625  Etot= -0.2524119694  Ekin= 0.242132   Epot= -0.494544 : de= -0.00104433 ( 0.00119952 ) d(de)= -0.00017402 ( 0.000492442 ) t_sim=  1.25529 sec\n",
      "iter=74 : time= 4.625  Etot= -0.2524497958  Ekin= 0.241832   Epot= -0.494281 : de= -0.000894625 ( 0.00119952 ) d(de)= 0.00014986 ( 0.000492442 ) t_sim=  1.26128 sec\n",
      "iter=75 : time= 4.6875  Etot= -0.2524592987  Ekin= 0.241447   Epot= -0.493906 : de= -0.000857016 ( 0.00119952 ) d(de)= 3.76428e-05 ( 0.000492442 ) t_sim=  1.26638 sec\n",
      "iter=76 : time= 4.75  Etot= -0.2525011733  Ekin= 0.241167   Epot= -0.493668 : de= -0.000691291 ( 0.00119952 ) d(de)= 0.000165867 ( 0.000492442 ) t_sim=  1.27036 sec\n",
      "iter=77 : time= 4.8125  Etot= -0.252516117  Ekin= 0.240838   Epot= -0.493354 : de= -0.000632149 ( 0.00119952 ) d(de)= 5.91828e-05 ( 0.000492442 ) t_sim=  1.27549 sec\n",
      "iter=78 : time= 4.875  Etot= -0.2524670613  Ekin= 0.240495   Epot= -0.492963 : de= -0.000826294 ( 0.00119952 ) d(de)= -0.000194268 ( 0.000492442 ) t_sim=  1.28134 sec\n",
      "iter=79 : time= 4.9375  Etot= -0.2525550006  Ekin= 0.240271   Epot= -0.492826 : de= -0.000478262 ( 0.00119952 ) d(de)= 0.00034832 ( 0.000492442 ) t_sim=  1.28643 sec\n",
      "iter=80 : time= 5  Etot= -0.2525233018  Ekin= 0.240083   Epot= -0.492606 : de= -0.000603715 ( 0.00119952 ) d(de)= -0.000125513 ( 0.000492442 ) t_sim=  1.29111 sec\n",
      "iter=80 : time= 5  Etot= -0.2525233018  Ekin= 0.240083   Epot= -0.492606 : de= -0.000603715 ( 0.00119952 ) d(de)= -0 ( 0.000492442 ) t_sim=  1.29306 sec\n",
      "../Bonsai/build/bonsai2_slowdust   --plummer 10000 --snapname data/plummer_snap_mpi --snapiter 0.0625 -T 5 -dt 0.0625 --eps 0.05\n",
      "Using Plummer model with n= 10000 per process \n",
      "................................................................."
     ]
    },
    {
     "name": "stderr",
     "output_type": "stream",
     "text": [
      " Unknown ENV_VARIABLE:   -- Falling to basic forking method after MPI_Init, unsafe!\n",
      "Proc id: 0 @ Default , total processes: 1 (mpiInit) \n",
      "[INIT]\tUsed settings: \n",
      "[INIT]\tInput  filename \n",
      "[INIT]\tBonsai filename \n",
      "[INIT]\tLog filename gpuLog.log\n",
      "[INIT]\tTheta: \t\t0.75\t\teps: \t\t0.05\n",
      "[INIT]\tTimestep: \t0.0625\t\ttEnd: \t\t5\n",
      "[INIT]\titerEnd: \t1073741824\n",
      "[INIT]\tUse MPI-IO: \tNO\n",
      "[INIT]\tsnapshotFile: \tdata/plummer_snap_mpi\tsnapshotIter: \t0.0625\n",
      "[INIT]\tInput file: \t\t\tdevID: \t\t0\n",
      "[INIT]\tRemove dist: \t-1\n",
      "[INIT]\tRebuild tree every 1 timestep\n",
      "[INIT]\tRuntime logging is DISABLED \n",
      "[INIT]\tDirect gravitation is DISABLED\n",
      "[INIT]\tCode is built WITHOUT MPI Support \n",
      "Proc: 0 Bootup times: Tree/MPI: 0.12776 Threads/log: 0.000293016 IC-model: 0 \n",
      " Start iterating\n",
      "STARTING UP!!!\n",
      "iter=0 : time= 0  Etot= -0.2466710408  Ekin= 0.247408   Epot= -0.494079 : de= -0 ( 0 ) d(de)= -0 ( 0 ) t_sim=  6.91414e-06 sec\n"
     ]
    },
    {
     "name": "stdout",
     "output_type": "stream",
     "text": [
      "\n",
      "iter=0 : time= 0  Etot= -0.2466710408  Ekin= 0.247408   Epot= -0.494079 : de= -0 ( 0 ) d(de)= -0 ( 0 ) t_sim=  0 sec\n"
     ]
    },
    {
     "name": "stderr",
     "output_type": "stream",
     "text": [
      "iter=1 : time= 0.0625  Etot= -0.246671593  Ekin= 0.247378   Epot= -0.49405 : de= 2.2386e-06 ( 2.2386e-06 ) d(de)= 2.2386e-06 ( 2.2386e-06 ) t_sim=  1.00355 sec\n",
      "iter=2 : time= 0.125  Etot= -0.2466677645  Ekin= 0.247254   Epot= -0.493922 : de= -1.3282e-05 ( 1.3282e-05 ) d(de)= -1.55206e-05 ( 1.55206e-05 ) t_sim=  1.01019 sec\n",
      "iter=3 : time= 0.1875  Etot= -0.2466657762  Ekin= 0.247039   Epot= -0.493704 : de= -2.13425e-05 ( 2.13425e-05 ) d(de)= -8.06062e-06 ( 1.55206e-05 ) t_sim=  1.01554 sec\n",
      "iter=4 : time= 0.25  Etot= -0.2466664662  Ekin= 0.246736   Epot= -0.493403 : de= -1.85456e-05 ( 2.13425e-05 ) d(de)= 2.79702e-06 ( 1.55206e-05 ) t_sim=  1.02244 sec\n",
      "iter=5 : time= 0.3125  Etot= -0.2466641199  Ekin= 0.246367   Epot= -0.493031 : de= -2.80572e-05 ( 2.80572e-05 ) d(de)= -9.51177e-06 ( 1.55206e-05 ) t_sim=  1.02868 sec\n",
      "iter=6 : time= 0.375  Etot= -0.2466641837  Ekin= 0.245967   Epot= -0.492631 : de= -2.77989e-05 ( 2.80572e-05 ) d(de)= 2.58269e-07 ( 1.55206e-05 ) t_sim=  1.03414 sec\n",
      "iter=7 : time= 0.4375  Etot= -0.246657613  Ekin= 0.245543   Epot= -0.492201 : de= -5.44362e-05 ( 5.44362e-05 ) d(de)= -2.66381e-05 ( 2.66381e-05 ) t_sim=  1.04367 sec\n",
      "iter=8 : time= 0.5  Etot= -0.2466536313  Ekin= 0.245106   Epot= -0.49176 : de= -7.05778e-05 ( 7.05778e-05 ) d(de)= -1.61424e-05 ( 2.66381e-05 ) t_sim=  1.04951 sec\n",
      "iter=9 : time= 0.5625  Etot= -0.2466585515  Ekin= 0.244663   Epot= -0.491322 : de= -5.06313e-05 ( 7.05778e-05 ) d(de)= 1.99479e-05 ( 2.66381e-05 ) t_sim=  1.05768 sec\n",
      "iter=10 : time= 0.625  Etot= -0.2466577878  Ekin= 0.244224   Epot= -0.490882 : de= -5.37274e-05 ( 7.05778e-05 ) d(de)= -3.09621e-06 ( 2.66381e-05 ) t_sim=  1.0654 sec\n",
      "iter=11 : time= 0.6875  Etot= -0.2466587851  Ekin= 0.243804   Epot= -0.490462 : de= -4.96846e-05 ( 7.05778e-05 ) d(de)= 4.04302e-06 ( 2.66381e-05 ) t_sim=  1.07419 sec\n",
      "iter=12 : time= 0.75  Etot= -0.2466573376  Ekin= 0.243374   Epot= -0.490031 : de= -5.55528e-05 ( 7.05778e-05 ) d(de)= -5.86852e-06 ( 2.66381e-05 ) t_sim=  1.08192 sec\n",
      "iter=13 : time= 0.8125  Etot= -0.2466570719  Ekin= 0.242925   Epot= -0.489582 : de= -5.663e-05 ( 7.05778e-05 ) d(de)= -1.07721e-06 ( 2.66381e-05 ) t_sim=  1.08853 sec\n",
      "iter=14 : time= 0.875  Etot= -0.2466522345  Ekin= 0.242463   Epot= -0.489115 : de= -7.62403e-05 ( 7.62403e-05 ) d(de)= -1.96115e-05 ( 2.66381e-05 ) t_sim=  1.09477 sec\n",
      "iter=15 : time= 0.9375  Etot= -0.2466592647  Ekin= 0.242002   Epot= -0.488661 : de= -4.77401e-05 ( 7.62403e-05 ) d(de)= 2.85025e-05 ( 2.85025e-05 ) t_sim=  1.10333 sec\n",
      "iter=16 : time= 1  Etot= -0.2466598544  Ekin= 0.241555   Epot= -0.488214 : de= -4.53496e-05 ( 7.62403e-05 ) d(de)= 2.39062e-06 ( 2.85025e-05 ) t_sim=  1.11126 sec\n",
      "iter=17 : time= 1.0625  Etot= -0.246658653  Ekin= 0.241113   Epot= -0.487771 : de= -5.022e-05 ( 7.62403e-05 ) d(de)= -4.87066e-06 ( 2.85025e-05 ) t_sim=  1.11701 sec\n",
      "iter=18 : time= 1.125  Etot= -0.2466580774  Ekin= 0.240669   Epot= -0.487327 : de= -5.25534e-05 ( 7.62403e-05 ) d(de)= -2.33351e-06 ( 2.85025e-05 ) t_sim=  1.12304 sec\n",
      "iter=19 : time= 1.1875  Etot= -0.2466537064  Ekin= 0.240247   Epot= -0.4869 : de= -7.02737e-05 ( 7.62403e-05 ) d(de)= -1.77212e-05 ( 2.85025e-05 ) t_sim=  1.1291 sec\n",
      "iter=20 : time= 1.25  Etot= -0.2466502169  Ekin= 0.239854   Epot= -0.486504 : de= -8.44198e-05 ( 8.44198e-05 ) d(de)= -1.41472e-05 ( 2.85025e-05 ) t_sim=  1.13758 sec\n",
      "iter=21 : time= 1.3125  Etot= -0.2466521196  Ekin= 0.239483   Epot= -0.486135 : de= -7.67064e-05 ( 8.44198e-05 ) d(de)= 7.71408e-06 ( 2.85025e-05 ) t_sim=  1.14572 sec\n",
      "iter=22 : time= 1.375  Etot= -0.2466515903  Ekin= 0.239137   Epot= -0.485789 : de= -7.88522e-05 ( 8.44198e-05 ) d(de)= -2.14599e-06 ( 2.85025e-05 ) t_sim=  1.15349 sec\n",
      "iter=23 : time= 1.4375  Etot= -0.2466458138  Ekin= 0.238815   Epot= -0.485461 : de= -0.00010227 ( 0.00010227 ) d(de)= -2.34196e-05 ( 2.85025e-05 ) t_sim=  1.15997 sec\n",
      "iter=24 : time= 1.5  Etot= -0.246647983  Ekin= 0.238519   Epot= -0.485167 : de= -9.3476e-05 ( 0.00010227 ) d(de)= 8.79492e-06 ( 2.85025e-05 ) t_sim=  1.167 sec\n",
      "iter=25 : time= 1.5625  Etot= -0.2466500264  Ekin= 0.238229   Epot= -0.484879 : de= -8.5192e-05 ( 0.00010227 ) d(de)= 8.28477e-06 ( 2.85025e-05 ) t_sim=  1.17379 sec\n",
      "iter=26 : time= 1.625  Etot= -0.2466479911  Ekin= 0.237947   Epot= -0.484595 : de= -9.34431e-05 ( 0.00010227 ) d(de)= -8.25183e-06 ( 2.85025e-05 ) t_sim=  1.18124 sec\n",
      "iter=27 : time= 1.6875  Etot= -0.2466488113  Ekin= 0.237685   Epot= -0.484334 : de= -9.01183e-05 ( 0.00010227 ) d(de)= 3.32516e-06 ( 2.85025e-05 ) t_sim=  1.1888 sec\n",
      "iter=28 : time= 1.75  Etot= -0.2466523685  Ekin= 0.237439   Epot= -0.484091 : de= -7.56972e-05 ( 0.00010227 ) d(de)= 1.44224e-05 ( 2.85025e-05 ) t_sim=  1.19502 sec\n",
      "iter=29 : time= 1.8125  Etot= -0.2466529427  Ekin= 0.23721   Epot= -0.483863 : de= -7.33695e-05 ( 0.00010227 ) d(de)= 2.32784e-06 ( 2.85025e-05 ) t_sim=  1.20358 sec\n"
     ]
    },
    {
     "name": "stdout",
     "output_type": "stream",
     "text": [
      "iter=1 : time= 0.0625  Etot= -0.246671593  Ekin= 0.247378   Epot= -0.49405 : de= 2.2386e-06 ( 2.2386e-06 ) d(de)= 2.2386e-06 ( 2.2386e-06 ) t_sim=  1.00355 sec\n",
      "iter=2 : time= 0.125  Etot= -0.2466677645  Ekin= 0.247254   Epot= -0.493922 : de= -1.3282e-05 ( 1.3282e-05 ) d(de)= -1.55206e-05 ( 1.55206e-05 ) t_sim=  1.01018 sec\n",
      "iter=3 : time= 0.1875  Etot= -0.2466657762  Ekin= 0.247039   Epot= -0.493704 : de= -2.13425e-05 ( 2.13425e-05 ) d(de)= -8.06062e-06 ( 1.55206e-05 ) t_sim=  1.01553 sec\n",
      "iter=4 : time= 0.25  Etot= -0.2466664662  Ekin= 0.246736   Epot= -0.493403 : de= -1.85456e-05 ( 2.13425e-05 ) d(de)= 2.79702e-06 ( 1.55206e-05 ) t_sim=  1.02244 sec\n",
      "iter=5 : time= 0.3125  Etot= -0.2466641199  Ekin= 0.246367   Epot= -0.493031 : de= -2.80572e-05 ( 2.80572e-05 ) d(de)= -9.51177e-06 ( 1.55206e-05 ) t_sim=  1.02868 sec\n",
      "iter=6 : time= 0.375  Etot= -0.2466641837  Ekin= 0.245967   Epot= -0.492631 : de= -2.77989e-05 ( 2.80572e-05 ) d(de)= 2.58269e-07 ( 1.55206e-05 ) t_sim=  1.03413 sec\n",
      "iter=7 : time= 0.4375  Etot= -0.246657613  Ekin= 0.245543   Epot= -0.492201 : de= -5.44362e-05 ( 5.44362e-05 ) d(de)= -2.66381e-05 ( 2.66381e-05 ) t_sim=  1.04366 sec\n",
      "iter=8 : time= 0.5  Etot= -0.2466536313  Ekin= 0.245106   Epot= -0.49176 : de= -7.05778e-05 ( 7.05778e-05 ) d(de)= -1.61424e-05 ( 2.66381e-05 ) t_sim=  1.0495 sec\n",
      "iter=9 : time= 0.5625  Etot= -0.2466585515  Ekin= 0.244663   Epot= -0.491322 : de= -5.06313e-05 ( 7.05778e-05 ) d(de)= 1.99479e-05 ( 2.66381e-05 ) t_sim=  1.05767 sec\n",
      "iter=10 : time= 0.625  Etot= -0.2466577878  Ekin= 0.244224   Epot= -0.490882 : de= -5.37274e-05 ( 7.05778e-05 ) d(de)= -3.09621e-06 ( 2.66381e-05 ) t_sim=  1.06539 sec\n",
      "iter=11 : time= 0.6875  Etot= -0.2466587851  Ekin= 0.243804   Epot= -0.490462 : de= -4.96846e-05 ( 7.05778e-05 ) d(de)= 4.04302e-06 ( 2.66381e-05 ) t_sim=  1.07418 sec\n",
      "iter=12 : time= 0.75  Etot= -0.2466573376  Ekin= 0.243374   Epot= -0.490031 : de= -5.55528e-05 ( 7.05778e-05 ) d(de)= -5.86852e-06 ( 2.66381e-05 ) t_sim=  1.08191 sec\n",
      "iter=13 : time= 0.8125  Etot= -0.2466570719  Ekin= 0.242925   Epot= -0.489582 : de= -5.663e-05 ( 7.05778e-05 ) d(de)= -1.07721e-06 ( 2.66381e-05 ) t_sim=  1.08853 sec\n",
      "iter=14 : time= 0.875  Etot= -0.2466522345  Ekin= 0.242463   Epot= -0.489115 : de= -7.62403e-05 ( 7.62403e-05 ) d(de)= -1.96115e-05 ( 2.66381e-05 ) t_sim=  1.09476 sec\n",
      "iter=15 : time= 0.9375  Etot= -0.2466592647  Ekin= 0.242002   Epot= -0.488661 : de= -4.77401e-05 ( 7.62403e-05 ) d(de)= 2.85025e-05 ( 2.85025e-05 ) t_sim=  1.10332 sec\n",
      "iter=16 : time= 1  Etot= -0.2466598544  Ekin= 0.241555   Epot= -0.488214 : de= -4.53496e-05 ( 7.62403e-05 ) d(de)= 2.39062e-06 ( 2.85025e-05 ) t_sim=  1.11126 sec\n",
      "iter=17 : time= 1.0625  Etot= -0.246658653  Ekin= 0.241113   Epot= -0.487771 : de= -5.022e-05 ( 7.62403e-05 ) d(de)= -4.87066e-06 ( 2.85025e-05 ) t_sim=  1.11701 sec\n",
      "iter=18 : time= 1.125  Etot= -0.2466580774  Ekin= 0.240669   Epot= -0.487327 : de= -5.25534e-05 ( 7.62403e-05 ) d(de)= -2.33351e-06 ( 2.85025e-05 ) t_sim=  1.12304 sec\n",
      "iter=19 : time= 1.1875  Etot= -0.2466537064  Ekin= 0.240247   Epot= -0.4869 : de= -7.02737e-05 ( 7.62403e-05 ) d(de)= -1.77212e-05 ( 2.85025e-05 ) t_sim=  1.12909 sec\n",
      "iter=20 : time= 1.25  Etot= -0.2466502169  Ekin= 0.239854   Epot= -0.486504 : de= -8.44198e-05 ( 8.44198e-05 ) d(de)= -1.41472e-05 ( 2.85025e-05 ) t_sim=  1.13757 sec\n",
      "iter=21 : time= 1.3125  Etot= -0.2466521196  Ekin= 0.239483   Epot= -0.486135 : de= -7.67064e-05 ( 8.44198e-05 ) d(de)= 7.71408e-06 ( 2.85025e-05 ) t_sim=  1.14571 sec\n",
      "iter=22 : time= 1.375  Etot= -0.2466515903  Ekin= 0.239137   Epot= -0.485789 : de= -7.88522e-05 ( 8.44198e-05 ) d(de)= -2.14599e-06 ( 2.85025e-05 ) t_sim=  1.15349 sec\n",
      "iter=23 : time= 1.4375  Etot= -0.2466458138  Ekin= 0.238815   Epot= -0.485461 : de= -0.00010227 ( 0.00010227 ) d(de)= -2.34196e-05 ( 2.85025e-05 ) t_sim=  1.15996 sec\n",
      "iter=24 : time= 1.5  Etot= -0.246647983  Ekin= 0.238519   Epot= -0.485167 : de= -9.3476e-05 ( 0.00010227 ) d(de)= 8.79492e-06 ( 2.85025e-05 ) t_sim=  1.167 sec\n",
      "iter=25 : time= 1.5625  Etot= -0.2466500264  Ekin= 0.238229   Epot= -0.484879 : de= -8.5192e-05 ( 0.00010227 ) d(de)= 8.28477e-06 ( 2.85025e-05 ) t_sim=  1.17378 sec\n",
      "iter=26 : time= 1.625  Etot= -0.2466479911  Ekin= 0.237947   Epot= -0.484595 : de= -9.34431e-05 ( 0.00010227 ) d(de)= -8.25183e-06 ( 2.85025e-05 ) t_sim=  1.18124 sec\n",
      "iter=27 : time= 1.6875  Etot= -0.2466488113  Ekin= 0.237685   Epot= -0.484334 : de= -9.01183e-05 ( 0.00010227 ) d(de)= 3.32516e-06 ( 2.85025e-05 ) t_sim=  1.1888 sec\n",
      "iter=28 : time= 1.75  Etot= -0.2466523685  Ekin= 0.237439   Epot= -0.484091 : de= -7.56972e-05 ( 0.00010227 ) d(de)= 1.44224e-05 ( 2.85025e-05 ) t_sim=  1.19502 sec\n",
      "iter=29 : time= 1.8125  Etot= -0.2466529427  Ekin= 0.23721   Epot= -0.483863 : de= -7.33695e-05 ( 0.00010227 ) d(de)= 2.32784e-06 ( 2.85025e-05 ) t_sim=  1.20357 sec\n"
     ]
    },
    {
     "name": "stderr",
     "output_type": "stream",
     "text": [
      "iter=30 : time= 1.875  Etot= -0.2466582192  Ekin= 0.237006   Epot= -0.483664 : de= -5.19788e-05 ( 0.00010227 ) d(de)= 2.13923e-05 ( 2.85025e-05 ) t_sim=  1.2116 sec\n",
      "iter=31 : time= 1.9375  Etot= -0.2466557748  Ekin= 0.23684   Epot= -0.483496 : de= -6.18882e-05 ( 0.00010227 ) d(de)= -9.90987e-06 ( 2.85025e-05 ) t_sim=  1.21718 sec\n",
      "iter=32 : time= 2  Etot= -0.2466521983  Ekin= 0.23671   Epot= -0.483362 : de= -7.63873e-05 ( 0.00010227 ) d(de)= -1.45e-05 ( 2.85025e-05 ) t_sim=  1.22418 sec\n",
      "iter=33 : time= 2.0625  Etot= -0.2466486516  Ekin= 0.236616   Epot= -0.483265 : de= -9.07656e-05 ( 0.00010227 ) d(de)= -1.43794e-05 ( 2.85025e-05 ) t_sim=  1.23227 sec\n",
      "iter=34 : time= 2.125  Etot= -0.2466449728  Ekin= 0.236554   Epot= -0.483199 : de= -0.00010568 ( 0.00010568 ) d(de)= -1.49152e-05 ( 2.85025e-05 ) t_sim=  1.2409 sec\n",
      "iter=35 : time= 2.1875  Etot= -0.2466473069  Ekin= 0.236521   Epot= -0.483169 : de= -9.62171e-05 ( 0.00010568 ) d(de)= 9.46342e-06 ( 2.85025e-05 ) t_sim=  1.24975 sec\n",
      "iter=36 : time= 2.25  Etot= -0.2466499996  Ekin= 0.236525   Epot= -0.483175 : de= -8.53009e-05 ( 0.00010568 ) d(de)= 1.09172e-05 ( 2.85025e-05 ) t_sim=  1.25717 sec\n",
      "iter=37 : time= 2.3125  Etot= -0.2466510948  Ekin= 0.236564   Epot= -0.483215 : de= -8.0861e-05 ( 0.00010568 ) d(de)= 4.44029e-06 ( 2.85025e-05 ) t_sim=  1.265 sec\n",
      "iter=38 : time= 2.375  Etot= -0.2466503611  Ekin= 0.236634   Epot= -0.483285 : de= -8.38355e-05 ( 0.00010568 ) d(de)= -2.97467e-06 ( 2.85025e-05 ) t_sim=  1.2736 sec\n",
      "iter=39 : time= 2.4375  Etot= -0.2466541352  Ekin= 0.236749   Epot= -0.483403 : de= -6.85353e-05 ( 0.00010568 ) d(de)= 1.53015e-05 ( 2.85025e-05 ) t_sim=  1.28232 sec\n",
      "iter=40 : time= 2.5  Etot= -0.2466602124  Ekin= 0.236914   Epot= -0.483575 : de= -4.38985e-05 ( 0.00010568 ) d(de)= 2.46385e-05 ( 2.85025e-05 ) t_sim=  1.28967 sec\n",
      "iter=41 : time= 2.5625  Etot= -0.2466583593  Ekin= 0.237112   Epot= -0.48377 : de= -5.14105e-05 ( 0.00010568 ) d(de)= -7.51237e-06 ( 2.85025e-05 ) t_sim=  1.29583 sec\n",
      "iter=42 : time= 2.625  Etot= -0.2466574628  Ekin= 0.237321   Epot= -0.483979 : de= -5.50452e-05 ( 0.00010568 ) d(de)= -3.63492e-06 ( 2.85025e-05 ) t_sim=  1.30343 sec\n",
      "iter=43 : time= 2.6875  Etot= -0.2466633945  Ekin= 0.237536   Epot= -0.4842 : de= -3.09983e-05 ( 0.00010568 ) d(de)= 2.40483e-05 ( 2.85025e-05 ) t_sim=  1.31134 sec\n",
      "iter=44 : time= 2.75  Etot= -0.2466664823  Ekin= 0.23775   Epot= -0.484417 : de= -1.84801e-05 ( 0.00010568 ) d(de)= 1.25186e-05 ( 2.85025e-05 ) t_sim=  1.31948 sec\n",
      "iter=45 : time= 2.8125  Etot= -0.2466713772  Ekin= 0.237966   Epot= -0.484637 : de= 1.36345e-06 ( 0.00010568 ) d(de)= 1.98439e-05 ( 2.85025e-05 ) t_sim=  1.32553 sec\n",
      "iter=46 : time= 2.875  Etot= -0.2466603347  Ekin= 0.238167   Epot= -0.484827 : de= -4.34024e-05 ( 0.00010568 ) d(de)= -4.47658e-05 ( 4.47658e-05 ) t_sim=  1.33268 sec\n",
      "iter=47 : time= 2.9375  Etot= -0.2466689293  Ekin= 0.238342   Epot= -0.485011 : de= -8.56001e-06 ( 0.00010568 ) d(de)= 3.48439e-05 ( 4.47658e-05 ) t_sim=  1.34022 sec\n",
      "iter=48 : time= 3  Etot= -0.2466628658  Ekin= 0.238505   Epot= -0.485167 : de= -3.31415e-05 ( 0.00010568 ) d(de)= -2.45817e-05 ( 4.47658e-05 ) t_sim=  1.34676 sec\n",
      "iter=49 : time= 3.0625  Etot= -0.2466572906  Ekin= 0.238661   Epot= -0.485318 : de= -5.57432e-05 ( 0.00010568 ) d(de)= -2.26025e-05 ( 4.47658e-05 ) t_sim=  1.35408 sec\n",
      "iter=50 : time= 3.125  Etot= -0.2466642182  Ekin= 0.238813   Epot= -0.485478 : de= -2.76588e-05 ( 0.00010568 ) d(de)= 2.8086e-05 ( 4.47658e-05 ) t_sim=  1.3606 sec\n",
      "iter=51 : time= 3.1875  Etot= -0.2466609549  Ekin= 0.238959   Epot= -0.48562 : de= -4.08882e-05 ( 0.00010568 ) d(de)= -1.32298e-05 ( 4.47658e-05 ) t_sim=  1.36799 sec\n",
      "iter=52 : time= 3.25  Etot= -0.2466666154  Ekin= 0.239108   Epot= -0.485775 : de= -1.79408e-05 ( 0.00010568 ) d(de)= 2.29483e-05 ( 4.47658e-05 ) t_sim=  1.37576 sec\n",
      "iter=53 : time= 3.3125  Etot= -0.2466593334  Ekin= 0.239278   Epot= -0.485937 : de= -4.74617e-05 ( 0.00010568 ) d(de)= -2.95215e-05 ( 4.47658e-05 ) t_sim=  1.38297 sec\n",
      "iter=54 : time= 3.375  Etot= -0.2466550158  Ekin= 0.239449   Epot= -0.486104 : de= -6.49653e-05 ( 0.00010568 ) d(de)= -1.75044e-05 ( 4.47658e-05 ) t_sim=  1.39028 sec\n",
      "iter=55 : time= 3.4375  Etot= -0.2466629615  Ekin= 0.239615   Epot= -0.486278 : de= -3.27533e-05 ( 0.00010568 ) d(de)= 3.22141e-05 ( 4.47658e-05 ) t_sim=  1.39831 sec\n",
      "iter=56 : time= 3.5  Etot= -0.2466562011  Ekin= 0.239783   Epot= -0.486439 : de= -6.01601e-05 ( 0.00010568 ) d(de)= -2.74077e-05 ( 4.47658e-05 ) t_sim=  1.40609 sec\n"
     ]
    },
    {
     "name": "stdout",
     "output_type": "stream",
     "text": [
      "iter=30 : time= 1.875  Etot= -0.2466582192  Ekin= 0.237006   Epot= -0.483664 : de= -5.19788e-05 ( 0.00010227 ) d(de)= 2.13923e-05 ( 2.85025e-05 ) t_sim=  1.2116 sec\n",
      "iter=31 : time= 1.9375  Etot= -0.2466557748  Ekin= 0.23684   Epot= -0.483496 : de= -6.18882e-05 ( 0.00010227 ) d(de)= -9.90987e-06 ( 2.85025e-05 ) t_sim=  1.21718 sec\n",
      "iter=32 : time= 2  Etot= -0.2466521983  Ekin= 0.23671   Epot= -0.483362 : de= -7.63873e-05 ( 0.00010227 ) d(de)= -1.45e-05 ( 2.85025e-05 ) t_sim=  1.22417 sec\n",
      "iter=33 : time= 2.0625  Etot= -0.2466486516  Ekin= 0.236616   Epot= -0.483265 : de= -9.07656e-05 ( 0.00010227 ) d(de)= -1.43794e-05 ( 2.85025e-05 ) t_sim=  1.23226 sec\n",
      "iter=34 : time= 2.125  Etot= -0.2466449728  Ekin= 0.236554   Epot= -0.483199 : de= -0.00010568 ( 0.00010568 ) d(de)= -1.49152e-05 ( 2.85025e-05 ) t_sim=  1.24089 sec\n",
      "iter=35 : time= 2.1875  Etot= -0.2466473069  Ekin= 0.236521   Epot= -0.483169 : de= -9.62171e-05 ( 0.00010568 ) d(de)= 9.46342e-06 ( 2.85025e-05 ) t_sim=  1.24974 sec\n",
      "iter=36 : time= 2.25  Etot= -0.2466499996  Ekin= 0.236525   Epot= -0.483175 : de= -8.53009e-05 ( 0.00010568 ) d(de)= 1.09172e-05 ( 2.85025e-05 ) t_sim=  1.25716 sec\n",
      "iter=37 : time= 2.3125  Etot= -0.2466510948  Ekin= 0.236564   Epot= -0.483215 : de= -8.0861e-05 ( 0.00010568 ) d(de)= 4.44029e-06 ( 2.85025e-05 ) t_sim=  1.26499 sec\n",
      "iter=38 : time= 2.375  Etot= -0.2466503611  Ekin= 0.236634   Epot= -0.483285 : de= -8.38355e-05 ( 0.00010568 ) d(de)= -2.97467e-06 ( 2.85025e-05 ) t_sim=  1.27359 sec\n",
      "iter=39 : time= 2.4375  Etot= -0.2466541352  Ekin= 0.236749   Epot= -0.483403 : de= -6.85353e-05 ( 0.00010568 ) d(de)= 1.53015e-05 ( 2.85025e-05 ) t_sim=  1.28231 sec\n",
      "iter=40 : time= 2.5  Etot= -0.2466602124  Ekin= 0.236914   Epot= -0.483575 : de= -4.38985e-05 ( 0.00010568 ) d(de)= 2.46385e-05 ( 2.85025e-05 ) t_sim=  1.28966 sec\n",
      "iter=41 : time= 2.5625  Etot= -0.2466583593  Ekin= 0.237112   Epot= -0.48377 : de= -5.14105e-05 ( 0.00010568 ) d(de)= -7.51237e-06 ( 2.85025e-05 ) t_sim=  1.29583 sec\n",
      "iter=42 : time= 2.625  Etot= -0.2466574628  Ekin= 0.237321   Epot= -0.483979 : de= -5.50452e-05 ( 0.00010568 ) d(de)= -3.63492e-06 ( 2.85025e-05 ) t_sim=  1.30342 sec\n",
      "iter=43 : time= 2.6875  Etot= -0.2466633945  Ekin= 0.237536   Epot= -0.4842 : de= -3.09983e-05 ( 0.00010568 ) d(de)= 2.40483e-05 ( 2.85025e-05 ) t_sim=  1.31133 sec\n",
      "iter=44 : time= 2.75  Etot= -0.2466664823  Ekin= 0.23775   Epot= -0.484417 : de= -1.84801e-05 ( 0.00010568 ) d(de)= 1.25186e-05 ( 2.85025e-05 ) t_sim=  1.31947 sec\n",
      "iter=45 : time= 2.8125  Etot= -0.2466713772  Ekin= 0.237966   Epot= -0.484637 : de= 1.36345e-06 ( 0.00010568 ) d(de)= 1.98439e-05 ( 2.85025e-05 ) t_sim=  1.32553 sec\n",
      "iter=46 : time= 2.875  Etot= -0.2466603347  Ekin= 0.238167   Epot= -0.484827 : de= -4.34024e-05 ( 0.00010568 ) d(de)= -4.47658e-05 ( 4.47658e-05 ) t_sim=  1.33267 sec\n",
      "iter=47 : time= 2.9375  Etot= -0.2466689293  Ekin= 0.238342   Epot= -0.485011 : de= -8.56001e-06 ( 0.00010568 ) d(de)= 3.48439e-05 ( 4.47658e-05 ) t_sim=  1.34021 sec\n",
      "iter=48 : time= 3  Etot= -0.2466628658  Ekin= 0.238505   Epot= -0.485167 : de= -3.31415e-05 ( 0.00010568 ) d(de)= -2.45817e-05 ( 4.47658e-05 ) t_sim=  1.34676 sec\n",
      "iter=49 : time= 3.0625  Etot= -0.2466572906  Ekin= 0.238661   Epot= -0.485318 : de= -5.57432e-05 ( 0.00010568 ) d(de)= -2.26025e-05 ( 4.47658e-05 ) t_sim=  1.35408 sec\n",
      "iter=50 : time= 3.125  Etot= -0.2466642182  Ekin= 0.238813   Epot= -0.485478 : de= -2.76588e-05 ( 0.00010568 ) d(de)= 2.8086e-05 ( 4.47658e-05 ) t_sim=  1.36059 sec\n",
      "iter=51 : time= 3.1875  Etot= -0.2466609549  Ekin= 0.238959   Epot= -0.48562 : de= -4.08882e-05 ( 0.00010568 ) d(de)= -1.32298e-05 ( 4.47658e-05 ) t_sim=  1.36799 sec\n",
      "iter=52 : time= 3.25  Etot= -0.2466666154  Ekin= 0.239108   Epot= -0.485775 : de= -1.79408e-05 ( 0.00010568 ) d(de)= 2.29483e-05 ( 4.47658e-05 ) t_sim=  1.37576 sec\n",
      "iter=53 : time= 3.3125  Etot= -0.2466593334  Ekin= 0.239278   Epot= -0.485937 : de= -4.74617e-05 ( 0.00010568 ) d(de)= -2.95215e-05 ( 4.47658e-05 ) t_sim=  1.38296 sec\n",
      "iter=54 : time= 3.375  Etot= -0.2466550158  Ekin= 0.239449   Epot= -0.486104 : de= -6.49653e-05 ( 0.00010568 ) d(de)= -1.75044e-05 ( 4.47658e-05 ) t_sim=  1.39027 sec\n",
      "iter=55 : time= 3.4375  Etot= -0.2466629615  Ekin= 0.239615   Epot= -0.486278 : de= -3.27533e-05 ( 0.00010568 ) d(de)= 3.22141e-05 ( 4.47658e-05 ) t_sim=  1.3983 sec\n",
      "iter=56 : time= 3.5  Etot= -0.2466562011  Ekin= 0.239783   Epot= -0.486439 : de= -6.01601e-05 ( 0.00010568 ) d(de)= -2.74077e-05 ( 4.47658e-05 ) t_sim=  1.40608 sec\n",
      "iter=57 : time= 3.5625  Etot= -0.2466609725  Ekin= 0.239948   Epot= -0.486609 : de= -4.08168e-05 ( 0.00010568 ) d(de)= 1.93445e-05 ( 4.47658e-05 ) t_sim=  1.41296 sec\n",
      "iter=58 : time= 3.625  Etot= -0.2466625404  Ekin= 0.240093   Epot= -0.486756 : de= -3.44606e-05 ( 0.00010568 ) d(de)= 6.35646e-06 ( 4.47658e-05 ) t_sim=  1.41802 sec\n",
      "iter=59 : time= 3.6875  Etot= -0.2466638028  Ekin= 0.240204   Epot= -0.486867 : de= -2.93429e-05 ( 0.00010568 ) d(de)= 5.1179e-06 ( 4.47658e-05 ) t_sim=  1.42382 sec\n",
      "iter=60 : time= 3.75  Etot= -0.2466776681  Ekin= 0.240286   Epot= -0.486963 : de= 2.68669e-05 ( 0.00010568 ) d(de)= 5.62115e-05 ( 5.62115e-05 ) t_sim=  1.43041 sec\n",
      "iter=61 : time= 3.8125  Etot= -0.2466751661  Ekin= 0.240321   Epot= -0.486996 : de= 1.67236e-05 ( 0.00010568 ) d(de)= -1.0143e-05 ( 5.62115e-05 ) t_sim=  1.43842 sec\n",
      "iter=62 : time= 3.875  Etot= -0.2466679855  Ekin= 0.240308   Epot= -0.486976 : de= -1.23861e-05 ( 0.00010568 ) d(de)= -2.91092e-05 ( 5.62115e-05 ) t_sim=  1.44611 sec\n",
      "iter=63 : time= 3.9375  Etot= -0.2466660538  Ekin= 0.240257   Epot= -0.486923 : de= -2.02172e-05 ( 0.00010568 ) d(de)= -7.83123e-06 ( 5.62115e-05 ) t_sim=  1.45432 sec\n",
      "iter=64 : time= 4  Etot= -0.2466719888  Ekin= 0.24017   Epot= -0.486842 : de= 3.84319e-06 ( 0.00010568 ) d(de)= 2.40609e-05 ( 5.62115e-05 ) t_sim=  1.46127 sec\n",
      "iter=65 : time= 4.0625  Etot= -0.2466626676  Ekin= 0.240058   Epot= -0.486721 : de= -3.39449e-05 ( 0.00010568 ) d(de)= -3.7788e-05 ( 5.62115e-05 ) t_sim=  1.47032 sec\n",
      "iter=66 : time= 4.125  Etot= -0.2466603343  Ekin= 0.239932   Epot= -0.486592 : de= -4.34041e-05 ( 0.00010568 ) d(de)= -9.45948e-06 ( 5.62115e-05 ) t_sim=  1.48061 sec\n",
      "iter=67 : time= 4.1875  Etot= -0.2466664313  Ekin= 0.239801   Epot= -0.486467 : de= -1.86868e-05 ( 0.00010568 ) d(de)= 2.47183e-05 ( 5.62115e-05 ) t_sim=  1.48922 sec\n",
      "iter=68 : time= 4.25  Etot= -0.2466571645  Ekin= 0.239644   Epot= -0.486301 : de= -5.62542e-05 ( 0.00010568 ) d(de)= -3.75681e-05 ( 5.62115e-05 ) t_sim=  1.49727 sec\n",
      "iter=69 : time= 4.3125  Etot= -0.2466620317  Ekin= 0.239477   Epot= -0.486139 : de= -3.65229e-05 ( 0.00010568 ) d(de)= 1.97324e-05 ( 5.62115e-05 ) t_sim=  1.50534 sec\n",
      "iter=70 : time= 4.375  Etot= -0.2466618735  Ekin= 0.239319   Epot= -0.485981 : de= -3.71643e-05 ( 0.00010568 ) d(de)= -6.41417e-07 ( 5.62115e-05 ) t_sim=  1.51379 sec\n",
      "iter=71 : time= 4.4375  Etot= -0.2466653129  Ekin= 0.239161   Epot= -0.485826 : de= -2.32208e-05 ( 0.00010568 ) d(de)= 1.3944e-05 ( 5.62115e-05 ) t_sim=  1.52069 sec\n",
      "iter=72 : time= 4.5  Etot= -0.2466633141  Ekin= 0.239003   Epot= -0.485666 : de= -3.13241e-05 ( 0.00010568 ) d(de)= -8.10353e-06 ( 5.62115e-05 ) t_sim=  1.52608 sec\n",
      "iter=73 : time= 4.5625  Etot= -0.2466637416  Ekin= 0.23885   Epot= -0.485513 : de= -2.95909e-05 ( 0.00010568 ) d(de)= 1.7333e-06 ( 5.62115e-05 ) t_sim=  1.53297 sec\n",
      "iter=74 : time= 4.625  Etot= -0.2466602159  Ekin= 0.238705   Epot= -0.485365 : de= -4.38842e-05 ( 0.00010568 ) d(de)= -1.42937e-05 ( 5.62115e-05 ) t_sim=  1.54152 sec\n",
      "iter=75 : time= 4.6875  Etot= -0.2466604697  Ekin= 0.238569   Epot= -0.485229 : de= -4.28551e-05 ( 0.00010568 ) d(de)= 1.02911e-06 ( 5.62115e-05 ) t_sim=  1.54735 sec\n",
      "iter=76 : time= 4.75  Etot= -0.2466629372  Ekin= 0.238439   Epot= -0.485101 : de= -3.28521e-05 ( 0.00010568 ) d(de)= 1.00034e-05 ( 5.62115e-05 ) t_sim=  1.55413 sec\n",
      "iter=77 : time= 4.8125  Etot= -0.2466579707  Ekin= 0.238316   Epot= -0.484974 : de= -5.29861e-05 ( 0.00010568 ) d(de)= -2.01347e-05 ( 5.62115e-05 ) t_sim=  1.55985 sec\n",
      "iter=78 : time= 4.875  Etot= -0.2466577084  Ekin= 0.238224   Epot= -0.484881 : de= -5.40493e-05 ( 0.00010568 ) d(de)= -1.06323e-06 ( 5.62115e-05 ) t_sim=  1.56712 sec\n",
      "iter=79 : time= 4.9375  Etot= -0.2466580536  Ekin= 0.238166   Epot= -0.484824 : de= -5.265e-05 ( 0.00010568 ) d(de)= 1.39933e-06 ( 5.62115e-05 ) t_sim=  1.5737 sec\n",
      "iter=80 : time= 5  Etot= -0.2466592504  Ekin= 0.238124   Epot= -0.484783 : de= -4.77981e-05 ( 0.00010568 ) d(de)= 4.85221e-06 ( 5.62115e-05 ) t_sim=  1.58236 sec\n",
      "iter=80 : time= 5  Etot= -0.2466592504  Ekin= 0.238124   Epot= -0.484783 : de= -4.77981e-05 ( 0.00010568 ) d(de)= -0 ( 5.62115e-05 ) t_sim=  1.58466 sec\n"
     ]
    },
    {
     "name": "stderr",
     "output_type": "stream",
     "text": [
      "iter=57 : time= 3.5625  Etot= -0.2466609725  Ekin= 0.239948   Epot= -0.486609 : de= -4.08168e-05 ( 0.00010568 ) d(de)= 1.93445e-05 ( 4.47658e-05 ) t_sim=  1.41296 sec\n",
      "iter=58 : time= 3.625  Etot= -0.2466625404  Ekin= 0.240093   Epot= -0.486756 : de= -3.44606e-05 ( 0.00010568 ) d(de)= 6.35646e-06 ( 4.47658e-05 ) t_sim=  1.41803 sec\n",
      "iter=59 : time= 3.6875  Etot= -0.2466638028  Ekin= 0.240204   Epot= -0.486867 : de= -2.93429e-05 ( 0.00010568 ) d(de)= 5.1179e-06 ( 4.47658e-05 ) t_sim=  1.42382 sec\n",
      "iter=60 : time= 3.75  Etot= -0.2466776681  Ekin= 0.240286   Epot= -0.486963 : de= 2.68669e-05 ( 0.00010568 ) d(de)= 5.62115e-05 ( 5.62115e-05 ) t_sim=  1.43042 sec\n",
      "iter=61 : time= 3.8125  Etot= -0.2466751661  Ekin= 0.240321   Epot= -0.486996 : de= 1.67236e-05 ( 0.00010568 ) d(de)= -1.0143e-05 ( 5.62115e-05 ) t_sim=  1.43842 sec\n",
      "iter=62 : time= 3.875  Etot= -0.2466679855  Ekin= 0.240308   Epot= -0.486976 : de= -1.23861e-05 ( 0.00010568 ) d(de)= -2.91092e-05 ( 5.62115e-05 ) t_sim=  1.44612 sec\n",
      "iter=63 : time= 3.9375  Etot= -0.2466660538  Ekin= 0.240257   Epot= -0.486923 : de= -2.02172e-05 ( 0.00010568 ) d(de)= -7.83123e-06 ( 5.62115e-05 ) t_sim=  1.45432 sec\n",
      "iter=64 : time= 4  Etot= -0.2466719888  Ekin= 0.24017   Epot= -0.486842 : de= 3.84319e-06 ( 0.00010568 ) d(de)= 2.40609e-05 ( 5.62115e-05 ) t_sim=  1.46127 sec\n",
      "iter=65 : time= 4.0625  Etot= -0.2466626676  Ekin= 0.240058   Epot= -0.486721 : de= -3.39449e-05 ( 0.00010568 ) d(de)= -3.7788e-05 ( 5.62115e-05 ) t_sim=  1.47033 sec\n",
      "iter=66 : time= 4.125  Etot= -0.2466603343  Ekin= 0.239932   Epot= -0.486592 : de= -4.34041e-05 ( 0.00010568 ) d(de)= -9.45948e-06 ( 5.62115e-05 ) t_sim=  1.48062 sec\n",
      "iter=67 : time= 4.1875  Etot= -0.2466664313  Ekin= 0.239801   Epot= -0.486467 : de= -1.86868e-05 ( 0.00010568 ) d(de)= 2.47183e-05 ( 5.62115e-05 ) t_sim=  1.48923 sec\n",
      "iter=68 : time= 4.25  Etot= -0.2466571645  Ekin= 0.239644   Epot= -0.486301 : de= -5.62542e-05 ( 0.00010568 ) d(de)= -3.75681e-05 ( 5.62115e-05 ) t_sim=  1.49727 sec\n",
      "iter=69 : time= 4.3125  Etot= -0.2466620317  Ekin= 0.239477   Epot= -0.486139 : de= -3.65229e-05 ( 0.00010568 ) d(de)= 1.97324e-05 ( 5.62115e-05 ) t_sim=  1.50535 sec\n",
      "iter=70 : time= 4.375  Etot= -0.2466618735  Ekin= 0.239319   Epot= -0.485981 : de= -3.71643e-05 ( 0.00010568 ) d(de)= -6.41417e-07 ( 5.62115e-05 ) t_sim=  1.51379 sec\n",
      "iter=71 : time= 4.4375  Etot= -0.2466653129  Ekin= 0.239161   Epot= -0.485826 : de= -2.32208e-05 ( 0.00010568 ) d(de)= 1.3944e-05 ( 5.62115e-05 ) t_sim=  1.52069 sec\n",
      "iter=72 : time= 4.5  Etot= -0.2466633141  Ekin= 0.239003   Epot= -0.485666 : de= -3.13241e-05 ( 0.00010568 ) d(de)= -8.10353e-06 ( 5.62115e-05 ) t_sim=  1.52608 sec\n",
      "iter=73 : time= 4.5625  Etot= -0.2466637416  Ekin= 0.23885   Epot= -0.485513 : de= -2.95909e-05 ( 0.00010568 ) d(de)= 1.7333e-06 ( 5.62115e-05 ) t_sim=  1.53297 sec\n",
      "iter=74 : time= 4.625  Etot= -0.2466602159  Ekin= 0.238705   Epot= -0.485365 : de= -4.38842e-05 ( 0.00010568 ) d(de)= -1.42937e-05 ( 5.62115e-05 ) t_sim=  1.54152 sec\n",
      "iter=75 : time= 4.6875  Etot= -0.2466604697  Ekin= 0.238569   Epot= -0.485229 : de= -4.28551e-05 ( 0.00010568 ) d(de)= 1.02911e-06 ( 5.62115e-05 ) t_sim=  1.54736 sec\n",
      "iter=76 : time= 4.75  Etot= -0.2466629372  Ekin= 0.238439   Epot= -0.485101 : de= -3.28521e-05 ( 0.00010568 ) d(de)= 1.00034e-05 ( 5.62115e-05 ) t_sim=  1.55413 sec\n",
      "iter=77 : time= 4.8125  Etot= -0.2466579707  Ekin= 0.238316   Epot= -0.484974 : de= -5.29861e-05 ( 0.00010568 ) d(de)= -2.01347e-05 ( 5.62115e-05 ) t_sim=  1.55986 sec\n",
      "iter=78 : time= 4.875  Etot= -0.2466577084  Ekin= 0.238224   Epot= -0.484881 : de= -5.40493e-05 ( 0.00010568 ) d(de)= -1.06323e-06 ( 5.62115e-05 ) t_sim=  1.56712 sec\n",
      "iter=79 : time= 4.9375  Etot= -0.2466580536  Ekin= 0.238166   Epot= -0.484824 : de= -5.265e-05 ( 0.00010568 ) d(de)= 1.39933e-06 ( 5.62115e-05 ) t_sim=  1.5737 sec\n",
      "iter=80 : time= 5  Etot= -0.2466592504  Ekin= 0.238124   Epot= -0.484783 : de= -4.77981e-05 ( 0.00010568 ) d(de)= 4.85221e-06 ( 5.62115e-05 ) t_sim=  1.58237 sec\n",
      "iter=80 : time= 5  Etot= -0.2466592504  Ekin= 0.238124   Epot= -0.484783 : de= -4.77981e-05 ( 0.00010568 ) d(de)= -0 ( 5.62115e-05 ) t_sim=  1.58466 sec\n"
     ]
    },
    {
     "name": "stdout",
     "output_type": "stream",
     "text": [
      "../Bonsai/build/bonsai2_slowdust   --plummer 100000 --snapname data/plummer_snap_mpi --snapiter 0.0625 -T 5 -dt 0.0625 --eps 0.05\n",
      "Using Plummer model with n= 100000 per process \n",
      "........................................................."
     ]
    },
    {
     "name": "stderr",
     "output_type": "stream",
     "text": [
      " Unknown ENV_VARIABLE:   -- Falling to basic forking method after MPI_Init, unsafe!\n",
      "Proc id: 0 @ Default , total processes: 1 (mpiInit) \n",
      "[INIT]\tUsed settings: \n",
      "[INIT]\tInput  filename \n",
      "[INIT]\tBonsai filename \n",
      "[INIT]\tLog filename gpuLog.log\n",
      "[INIT]\tTheta: \t\t0.75\t\teps: \t\t0.05\n",
      "[INIT]\tTimestep: \t0.0625\t\ttEnd: \t\t5\n",
      "[INIT]\titerEnd: \t1073741824\n",
      "[INIT]\tUse MPI-IO: \tNO\n",
      "[INIT]\tsnapshotFile: \tdata/plummer_snap_mpi\tsnapshotIter: \t0.0625\n",
      "[INIT]\tInput file: \t\t\tdevID: \t\t0\n",
      "[INIT]\tRemove dist: \t-1\n",
      "[INIT]\tRebuild tree every 1 timestep\n",
      "[INIT]\tRuntime logging is DISABLED \n",
      "[INIT]\tDirect gravitation is DISABLED\n",
      "[INIT]\tCode is built WITHOUT MPI Support \n"
     ]
    },
    {
     "name": "stdout",
     "output_type": "stream",
     "text": [
      "........"
     ]
    },
    {
     "name": "stderr",
     "output_type": "stream",
     "text": [
      "Proc: 0 Bootup times: Tree/MPI: 0.131457 Threads/log: 0.000184059 IC-model: 0 \n",
      " Start iterating\n",
      "STARTING UP!!!\n",
      "iter=0 : time= 0  Etot= -0.2455616619  Ekin= 0.249924   Epot= -0.495486 : de= -0 ( 0 ) d(de)= -0 ( 0 ) t_sim=  6.91414e-06 sec\n"
     ]
    },
    {
     "name": "stdout",
     "output_type": "stream",
     "text": [
      "\n",
      "iter=0 : time= 0  Etot= -0.2455616619  Ekin= 0.249924   Epot= -0.495486 : de= -0 ( 0 ) d(de)= -0 ( 0 ) t_sim=  0 sec\n"
     ]
    },
    {
     "name": "stderr",
     "output_type": "stream",
     "text": [
      "iter=1 : time= 0.0625  Etot= -0.2455604852  Ekin= 0.249914   Epot= -0.495475 : de= -4.79176e-06 ( 4.79176e-06 ) d(de)= -4.79176e-06 ( 4.79176e-06 ) t_sim=  1.01465 sec\n",
      "iter=2 : time= 0.125  Etot= -0.2455604863  Ekin= 0.249799   Epot= -0.495359 : de= -4.78719e-06 ( 4.79176e-06 ) d(de)= 4.57273e-09 ( 4.79176e-06 ) t_sim=  1.04634 sec\n",
      "iter=3 : time= 0.1875  Etot= -0.2455591786  Ekin= 0.249584   Epot= -0.495143 : de= -1.01127e-05 ( 1.01127e-05 ) d(de)= -5.32558e-06 ( 5.32558e-06 ) t_sim=  1.0782 sec\n",
      "iter=4 : time= 0.25  Etot= -0.2455573351  Ekin= 0.249279   Epot= -0.494836 : de= -1.76198e-05 ( 1.76198e-05 ) d(de)= -7.50714e-06 ( 7.50714e-06 ) t_sim=  1.11135 sec\n",
      "iter=5 : time= 0.3125  Etot= -0.2455564628  Ekin= 0.248897   Epot= -0.494453 : de= -2.11723e-05 ( 2.11723e-05 ) d(de)= -3.55254e-06 ( 7.50714e-06 ) t_sim=  1.14488 sec\n",
      "iter=6 : time= 0.375  Etot= -0.2455544741  Ekin= 0.248451   Epot= -0.494005 : de= -2.92707e-05 ( 2.92707e-05 ) d(de)= -8.09862e-06 ( 8.09862e-06 ) t_sim=  1.18535 sec\n"
     ]
    },
    {
     "name": "stdout",
     "output_type": "stream",
     "text": [
      "iter=1 : time= 0.0625  Etot= -0.2455604852  Ekin= 0.249914   Epot= -0.495475 : de= -4.79176e-06 ( 4.79176e-06 ) d(de)= -4.79176e-06 ( 4.79176e-06 ) t_sim=  1.01464 sec\n",
      "iter=2 : time= 0.125  Etot= -0.2455604863  Ekin= 0.249799   Epot= -0.495359 : de= -4.78719e-06 ( 4.79176e-06 ) d(de)= 4.57273e-09 ( 4.79176e-06 ) t_sim=  1.04634 sec\n",
      "iter=3 : time= 0.1875  Etot= -0.2455591786  Ekin= 0.249584   Epot= -0.495143 : de= -1.01127e-05 ( 1.01127e-05 ) d(de)= -5.32558e-06 ( 5.32558e-06 ) t_sim=  1.07819 sec\n",
      "iter=4 : time= 0.25  Etot= -0.2455573351  Ekin= 0.249279   Epot= -0.494836 : de= -1.76198e-05 ( 1.76198e-05 ) d(de)= -7.50714e-06 ( 7.50714e-06 ) t_sim=  1.11134 sec\n",
      "iter=5 : time= 0.3125  Etot= -0.2455564628  Ekin= 0.248897   Epot= -0.494453 : de= -2.11723e-05 ( 2.11723e-05 ) d(de)= -3.55254e-06 ( 7.50714e-06 ) t_sim=  1.14487 sec\n",
      "iter=6 : time= 0.375  Etot= -0.2455544741  Ekin= 0.248451   Epot= -0.494005 : de= -2.92707e-05 ( 2.92707e-05 ) d(de)= -8.09862e-06 ( 8.09862e-06 ) t_sim=  1.18535 sec\n"
     ]
    },
    {
     "name": "stderr",
     "output_type": "stream",
     "text": [
      "iter=7 : time= 0.4375  Etot= -0.2455542004  Ekin= 0.247956   Epot= -0.493511 : de= -3.03852e-05 ( 3.03852e-05 ) d(de)= -1.11454e-06 ( 8.09862e-06 ) t_sim=  1.21871 sec\n",
      "iter=8 : time= 0.5  Etot= -0.2455532163  Ekin= 0.247426   Epot= -0.492979 : de= -3.43929e-05 ( 3.43929e-05 ) d(de)= -4.00783e-06 ( 8.09862e-06 ) t_sim=  1.2527 sec\n",
      "iter=9 : time= 0.5625  Etot= -0.2455527042  Ekin= 0.246868   Epot= -0.492421 : de= -3.64785e-05 ( 3.64785e-05 ) d(de)= -2.08559e-06 ( 8.09862e-06 ) t_sim=  1.28332 sec\n",
      "iter=10 : time= 0.625  Etot= -0.2455503138  Ekin= 0.246291   Epot= -0.491842 : de= -4.62126e-05 ( 4.62126e-05 ) d(de)= -9.73451e-06 ( 9.73451e-06 ) t_sim=  1.31678 sec\n",
      "iter=11 : time= 0.6875  Etot= -0.2455496971  Ekin= 0.245703   Epot= -0.491252 : de= -4.8724e-05 ( 4.8724e-05 ) d(de)= -2.51149e-06 ( 9.73451e-06 ) t_sim=  1.35338 sec\n",
      "iter=12 : time= 0.75  Etot= -0.2455504994  Ekin= 0.245106   Epot= -0.490656 : de= -4.54571e-05 ( 4.8724e-05 ) d(de)= 3.26709e-06 ( 9.73451e-06 ) t_sim=  1.38229 sec\n",
      "iter=13 : time= 0.8125  Etot= -0.2455498331  Ekin= 0.244501   Epot= -0.490051 : de= -4.81701e-05 ( 4.8724e-05 ) d(de)= -2.71315e-06 ( 9.73451e-06 ) t_sim=  1.41443 sec\n"
     ]
    },
    {
     "name": "stdout",
     "output_type": "stream",
     "text": [
      "iter=7 : time= 0.4375  Etot= -0.2455542004  Ekin= 0.247956   Epot= -0.493511 : de= -3.03852e-05 ( 3.03852e-05 ) d(de)= -1.11454e-06 ( 8.09862e-06 ) t_sim=  1.2187 sec\n",
      "iter=8 : time= 0.5  Etot= -0.2455532163  Ekin= 0.247426   Epot= -0.492979 : de= -3.43929e-05 ( 3.43929e-05 ) d(de)= -4.00783e-06 ( 8.09862e-06 ) t_sim=  1.25269 sec\n",
      "iter=9 : time= 0.5625  Etot= -0.2455527042  Ekin= 0.246868   Epot= -0.492421 : de= -3.64785e-05 ( 3.64785e-05 ) d(de)= -2.08559e-06 ( 8.09862e-06 ) t_sim=  1.28332 sec\n",
      "iter=10 : time= 0.625  Etot= -0.2455503138  Ekin= 0.246291   Epot= -0.491842 : de= -4.62126e-05 ( 4.62126e-05 ) d(de)= -9.73451e-06 ( 9.73451e-06 ) t_sim=  1.31678 sec\n",
      "iter=11 : time= 0.6875  Etot= -0.2455496971  Ekin= 0.245703   Epot= -0.491252 : de= -4.8724e-05 ( 4.8724e-05 ) d(de)= -2.51149e-06 ( 9.73451e-06 ) t_sim=  1.35338 sec\n",
      "iter=12 : time= 0.75  Etot= -0.2455504994  Ekin= 0.245106   Epot= -0.490656 : de= -4.54571e-05 ( 4.8724e-05 ) d(de)= 3.26709e-06 ( 9.73451e-06 ) t_sim=  1.38229 sec\n",
      "iter=13 : time= 0.8125  Etot= -0.2455498331  Ekin= 0.244501   Epot= -0.490051 : de= -4.81701e-05 ( 4.8724e-05 ) d(de)= -2.71315e-06 ( 9.73451e-06 ) t_sim=  1.41443 sec\n"
     ]
    },
    {
     "name": "stderr",
     "output_type": "stream",
     "text": [
      "iter=14 : time= 0.875  Etot= -0.2455471901  Ekin= 0.243891   Epot= -0.489438 : de= -5.89335e-05 ( 5.89335e-05 ) d(de)= -1.07639e-05 ( 1.07639e-05 ) t_sim=  1.44831 sec\n",
      "iter=15 : time= 0.9375  Etot= -0.2455475153  Ekin= 0.243279   Epot= -0.488826 : de= -5.7609e-05 ( 5.89335e-05 ) d(de)= 1.32456e-06 ( 1.07639e-05 ) t_sim=  1.48355 sec\n",
      "iter=16 : time= 1  Etot= -0.245547629  Ekin= 0.242664   Epot= -0.488212 : de= -5.7146e-05 ( 5.89335e-05 ) d(de)= 4.63031e-07 ( 1.07639e-05 ) t_sim=  1.51504 sec\n",
      "iter=17 : time= 1.0625  Etot= -0.24554364  Ekin= 0.242048   Epot= -0.487592 : de= -7.33904e-05 ( 7.33904e-05 ) d(de)= -1.62454e-05 ( 1.62454e-05 ) t_sim=  1.5467 sec\n",
      "iter=18 : time= 1.125  Etot= -0.2455443681  Ekin= 0.241435   Epot= -0.486979 : de= -7.04254e-05 ( 7.33904e-05 ) d(de)= 2.96527e-06 ( 1.62454e-05 ) t_sim=  1.57735 sec\n",
      "iter=19 : time= 1.1875  Etot= -0.245543205  Ekin= 0.240828   Epot= -0.486371 : de= -7.51617e-05 ( 7.51617e-05 ) d(de)= -4.73669e-06 ( 1.62454e-05 ) t_sim=  1.61247 sec\n",
      "iter=20 : time= 1.25  Etot= -0.2455429308  Ekin= 0.240236   Epot= -0.485779 : de= -7.62783e-05 ( 7.62783e-05 ) d(de)= -1.11669e-06 ( 1.62454e-05 ) t_sim=  1.64545 sec\n"
     ]
    },
    {
     "name": "stdout",
     "output_type": "stream",
     "text": [
      "iter=14 : time= 0.875  Etot= -0.2455471901  Ekin= 0.243891   Epot= -0.489438 : de= -5.89335e-05 ( 5.89335e-05 ) d(de)= -1.07639e-05 ( 1.07639e-05 ) t_sim=  1.4483 sec\n",
      "iter=15 : time= 0.9375  Etot= -0.2455475153  Ekin= 0.243279   Epot= -0.488826 : de= -5.7609e-05 ( 5.89335e-05 ) d(de)= 1.32456e-06 ( 1.07639e-05 ) t_sim=  1.48354 sec\n",
      "iter=16 : time= 1  Etot= -0.245547629  Ekin= 0.242664   Epot= -0.488212 : de= -5.7146e-05 ( 5.89335e-05 ) d(de)= 4.63031e-07 ( 1.07639e-05 ) t_sim=  1.51503 sec\n",
      "iter=17 : time= 1.0625  Etot= -0.24554364  Ekin= 0.242048   Epot= -0.487592 : de= -7.33904e-05 ( 7.33904e-05 ) d(de)= -1.62454e-05 ( 1.62454e-05 ) t_sim=  1.5467 sec\n",
      "iter=18 : time= 1.125  Etot= -0.2455443681  Ekin= 0.241435   Epot= -0.486979 : de= -7.04254e-05 ( 7.33904e-05 ) d(de)= 2.96527e-06 ( 1.62454e-05 ) t_sim=  1.57734 sec\n",
      "iter=19 : time= 1.1875  Etot= -0.245543205  Ekin= 0.240828   Epot= -0.486371 : de= -7.51617e-05 ( 7.51617e-05 ) d(de)= -4.73669e-06 ( 1.62454e-05 ) t_sim=  1.61246 sec\n",
      "iter=20 : time= 1.25  Etot= -0.2455429308  Ekin= 0.240236   Epot= -0.485779 : de= -7.62783e-05 ( 7.62783e-05 ) d(de)= -1.11669e-06 ( 1.62454e-05 ) t_sim=  1.64545 sec\n"
     ]
    },
    {
     "name": "stderr",
     "output_type": "stream",
     "text": [
      "iter=21 : time= 1.3125  Etot= -0.2455415924  Ekin= 0.239665   Epot= -0.485206 : de= -8.17289e-05 ( 8.17289e-05 ) d(de)= -5.45099e-06 ( 1.62454e-05 ) t_sim=  1.68017 sec\n",
      "iter=22 : time= 1.375  Etot= -0.2455420282  Ekin= 0.239117   Epot= -0.484659 : de= -7.99541e-05 ( 8.17289e-05 ) d(de)= 1.77501e-06 ( 1.62454e-05 ) t_sim=  1.71477 sec\n",
      "iter=23 : time= 1.4375  Etot= -0.2455423787  Ekin= 0.238595   Epot= -0.484138 : de= -7.85266e-05 ( 8.17289e-05 ) d(de)= 1.42754e-06 ( 1.62454e-05 ) t_sim=  1.74863 sec\n",
      "iter=24 : time= 1.5  Etot= -0.2455413045  Ekin= 0.238099   Epot= -0.48364 : de= -8.29011e-05 ( 8.29011e-05 ) d(de)= -4.37476e-06 ( 1.62454e-05 ) t_sim=  1.78183 sec\n",
      "iter=25 : time= 1.5625  Etot= -0.2455398549  Ekin= 0.237629   Epot= -0.483169 : de= -8.88045e-05 ( 8.88045e-05 ) d(de)= -5.90391e-06 ( 1.62454e-05 ) t_sim=  1.81385 sec\n",
      "iter=26 : time= 1.625  Etot= -0.2455395016  Ekin= 0.237185   Epot= -0.482725 : de= -9.02432e-05 ( 9.02432e-05 ) d(de)= -1.43886e-06 ( 1.62454e-05 ) t_sim=  1.84743 sec\n"
     ]
    },
    {
     "name": "stdout",
     "output_type": "stream",
     "text": [
      "iter=21 : time= 1.3125  Etot= -0.2455415924  Ekin= 0.239665   Epot= -0.485206 : de= -8.17289e-05 ( 8.17289e-05 ) d(de)= -5.45099e-06 ( 1.62454e-05 ) t_sim=  1.68017 sec\n",
      "iter=22 : time= 1.375  Etot= -0.2455420282  Ekin= 0.239117   Epot= -0.484659 : de= -7.99541e-05 ( 8.17289e-05 ) d(de)= 1.77501e-06 ( 1.62454e-05 ) t_sim=  1.71476 sec\n",
      "iter=23 : time= 1.4375  Etot= -0.2455423787  Ekin= 0.238595   Epot= -0.484138 : de= -7.85266e-05 ( 8.17289e-05 ) d(de)= 1.42754e-06 ( 1.62454e-05 ) t_sim=  1.74862 sec\n",
      "iter=24 : time= 1.5  Etot= -0.2455413045  Ekin= 0.238099   Epot= -0.48364 : de= -8.29011e-05 ( 8.29011e-05 ) d(de)= -4.37476e-06 ( 1.62454e-05 ) t_sim=  1.78182 sec\n",
      "iter=25 : time= 1.5625  Etot= -0.2455398549  Ekin= 0.237629   Epot= -0.483169 : de= -8.88045e-05 ( 8.88045e-05 ) d(de)= -5.90391e-06 ( 1.62454e-05 ) t_sim=  1.81384 sec\n",
      "iter=26 : time= 1.625  Etot= -0.2455395016  Ekin= 0.237185   Epot= -0.482725 : de= -9.02432e-05 ( 9.02432e-05 ) d(de)= -1.43886e-06 ( 1.62454e-05 ) t_sim=  1.84742 sec\n"
     ]
    },
    {
     "name": "stderr",
     "output_type": "stream",
     "text": [
      "iter=27 : time= 1.6875  Etot= -0.2455387882  Ekin= 0.236769   Epot= -0.482308 : de= -9.31483e-05 ( 9.31483e-05 ) d(de)= -2.90532e-06 ( 1.62454e-05 ) t_sim=  1.88187 sec\n",
      "iter=28 : time= 1.75  Etot= -0.2455362101  Ekin= 0.236381   Epot= -0.481917 : de= -0.000103647 ( 0.000103647 ) d(de)= -1.04999e-05 ( 1.62454e-05 ) t_sim=  1.91696 sec\n",
      "iter=29 : time= 1.8125  Etot= -0.2455391143  Ekin= 0.236023   Epot= -0.481562 : de= -9.18202e-05 ( 0.000103647 ) d(de)= 1.18282e-05 ( 1.62454e-05 ) t_sim=  1.95493 sec\n",
      "iter=30 : time= 1.875  Etot= -0.2455397706  Ekin= 0.235699   Epot= -0.481238 : de= -8.91479e-05 ( 0.000103647 ) d(de)= 2.67256e-06 ( 1.62454e-05 ) t_sim=  1.98609 sec\n",
      "iter=31 : time= 1.9375  Etot= -0.2455395187  Ekin= 0.235407   Epot= -0.480947 : de= -9.01735e-05 ( 0.000103647 ) d(de)= -1.02568e-06 ( 1.62454e-05 ) t_sim=  2.01845 sec\n",
      "iter=32 : time= 2  Etot= -0.2455386757  Ekin= 0.23515   Epot= -0.480688 : de= -9.36066e-05 ( 0.000103647 ) d(de)= -3.43342e-06 ( 1.62454e-05 ) t_sim=  2.04799 sec\n"
     ]
    },
    {
     "name": "stdout",
     "output_type": "stream",
     "text": [
      "iter=27 : time= 1.6875  Etot= -0.2455387882  Ekin= 0.236769   Epot= -0.482308 : de= -9.31483e-05 ( 9.31483e-05 ) d(de)= -2.90532e-06 ( 1.62454e-05 ) t_sim=  1.88186 sec\n",
      "iter=28 : time= 1.75  Etot= -0.2455362101  Ekin= 0.236381   Epot= -0.481917 : de= -0.000103647 ( 0.000103647 ) d(de)= -1.04999e-05 ( 1.62454e-05 ) t_sim=  1.91695 sec\n",
      "iter=29 : time= 1.8125  Etot= -0.2455391143  Ekin= 0.236023   Epot= -0.481562 : de= -9.18202e-05 ( 0.000103647 ) d(de)= 1.18282e-05 ( 1.62454e-05 ) t_sim=  1.95493 sec\n",
      "iter=30 : time= 1.875  Etot= -0.2455397706  Ekin= 0.235699   Epot= -0.481238 : de= -8.91479e-05 ( 0.000103647 ) d(de)= 2.67256e-06 ( 1.62454e-05 ) t_sim=  1.98608 sec\n",
      "iter=31 : time= 1.9375  Etot= -0.2455395187  Ekin= 0.235407   Epot= -0.480947 : de= -9.01735e-05 ( 0.000103647 ) d(de)= -1.02568e-06 ( 1.62454e-05 ) t_sim=  2.01844 sec\n",
      "iter=32 : time= 2  Etot= -0.2455386757  Ekin= 0.23515   Epot= -0.480688 : de= -9.36066e-05 ( 0.000103647 ) d(de)= -3.43342e-06 ( 1.62454e-05 ) t_sim=  2.04798 sec\n"
     ]
    },
    {
     "name": "stderr",
     "output_type": "stream",
     "text": [
      "iter=33 : time= 2.0625  Etot= -0.2455391264  Ekin= 0.234926   Epot= -0.480465 : de= -9.17711e-05 ( 0.000103647 ) d(de)= 1.83574e-06 ( 1.62454e-05 ) t_sim=  2.08785 sec\n",
      "iter=34 : time= 2.125  Etot= -0.2455400202  Ekin= 0.234736   Epot= -0.480276 : de= -8.81315e-05 ( 0.000103647 ) d(de)= 3.6399e-06 ( 1.62454e-05 ) t_sim=  2.12243 sec\n",
      "iter=35 : time= 2.1875  Etot= -0.2455391954  Ekin= 0.234576   Epot= -0.480116 : de= -9.149e-05 ( 0.000103647 ) d(de)= -3.3588e-06 ( 1.62454e-05 ) t_sim=  2.15894 sec\n",
      "iter=36 : time= 2.25  Etot= -0.2455409983  Ekin= 0.234447   Epot= -0.479988 : de= -8.41482e-05 ( 0.000103647 ) d(de)= 7.34244e-06 ( 1.62454e-05 ) t_sim=  2.19275 sec\n",
      "iter=37 : time= 2.3125  Etot= -0.2455413814  Ekin= 0.234346   Epot= -0.479887 : de= -8.25882e-05 ( 0.000103647 ) d(de)= 1.56017e-06 ( 1.62454e-05 ) t_sim=  2.23422 sec\n",
      "iter=38 : time= 2.375  Etot= -0.245543225  Ekin= 0.234269   Epot= -0.479813 : de= -7.50805e-05 ( 0.000103647 ) d(de)= 7.50834e-06 ( 1.62454e-05 ) t_sim=  2.26314 sec\n"
     ]
    },
    {
     "name": "stdout",
     "output_type": "stream",
     "text": [
      "iter=33 : time= 2.0625  Etot= -0.2455391264  Ekin= 0.234926   Epot= -0.480465 : de= -9.17711e-05 ( 0.000103647 ) d(de)= 1.83574e-06 ( 1.62454e-05 ) t_sim=  2.08784 sec\n",
      "iter=34 : time= 2.125  Etot= -0.2455400202  Ekin= 0.234736   Epot= -0.480276 : de= -8.81315e-05 ( 0.000103647 ) d(de)= 3.6399e-06 ( 1.62454e-05 ) t_sim=  2.12242 sec\n",
      "iter=35 : time= 2.1875  Etot= -0.2455391954  Ekin= 0.234576   Epot= -0.480116 : de= -9.149e-05 ( 0.000103647 ) d(de)= -3.3588e-06 ( 1.62454e-05 ) t_sim=  2.15893 sec\n",
      "iter=36 : time= 2.25  Etot= -0.2455409983  Ekin= 0.234447   Epot= -0.479988 : de= -8.41482e-05 ( 0.000103647 ) d(de)= 7.34244e-06 ( 1.62454e-05 ) t_sim=  2.19275 sec\n",
      "iter=37 : time= 2.3125  Etot= -0.2455413814  Ekin= 0.234346   Epot= -0.479887 : de= -8.25882e-05 ( 0.000103647 ) d(de)= 1.56017e-06 ( 1.62454e-05 ) t_sim=  2.23422 sec\n",
      "iter=38 : time= 2.375  Etot= -0.245543225  Ekin= 0.234269   Epot= -0.479813 : de= -7.50805e-05 ( 0.000103647 ) d(de)= 7.50834e-06 ( 1.62454e-05 ) t_sim=  2.26314 sec\n"
     ]
    },
    {
     "name": "stderr",
     "output_type": "stream",
     "text": [
      "iter=39 : time= 2.4375  Etot= -0.2455426241  Ekin= 0.234213   Epot= -0.479755 : de= -7.75276e-05 ( 0.000103647 ) d(de)= -2.44729e-06 ( 1.62454e-05 ) t_sim=  2.29342 sec\n",
      "iter=40 : time= 2.5  Etot= -0.2455431309  Ekin= 0.234173   Epot= -0.479716 : de= -7.54638e-05 ( 0.000103647 ) d(de)= 2.06398e-06 ( 1.62454e-05 ) t_sim=  2.32688 sec\n",
      "iter=41 : time= 2.5625  Etot= -0.2455417641  Ekin= 0.234151   Epot= -0.479693 : de= -8.10296e-05 ( 0.000103647 ) d(de)= -5.56631e-06 ( 1.62454e-05 ) t_sim=  2.36044 sec\n",
      "iter=42 : time= 2.625  Etot= -0.2455420079  Ekin= 0.234148   Epot= -0.47969 : de= -8.00366e-05 ( 0.000103647 ) d(de)= 9.93088e-07 ( 1.62454e-05 ) t_sim=  2.39596 sec\n",
      "iter=43 : time= 2.6875  Etot= -0.2455422908  Ekin= 0.234159   Epot= -0.479701 : de= -7.88846e-05 ( 0.000103647 ) d(de)= 1.1521e-06 ( 1.62454e-05 ) t_sim=  2.42945 sec\n",
      "iter=44 : time= 2.75  Etot= -0.2455419562  Ekin= 0.234185   Epot= -0.479727 : de= -8.02474e-05 ( 0.000103647 ) d(de)= -1.36289e-06 ( 1.62454e-05 ) t_sim=  2.46167 sec\n"
     ]
    },
    {
     "name": "stdout",
     "output_type": "stream",
     "text": [
      "iter=39 : time= 2.4375  Etot= -0.2455426241  Ekin= 0.234213   Epot= -0.479755 : de= -7.75276e-05 ( 0.000103647 ) d(de)= -2.44729e-06 ( 1.62454e-05 ) t_sim=  2.29341 sec\n",
      "iter=40 : time= 2.5  Etot= -0.2455431309  Ekin= 0.234173   Epot= -0.479716 : de= -7.54638e-05 ( 0.000103647 ) d(de)= 2.06398e-06 ( 1.62454e-05 ) t_sim=  2.32688 sec\n",
      "iter=41 : time= 2.5625  Etot= -0.2455417641  Ekin= 0.234151   Epot= -0.479693 : de= -8.10296e-05 ( 0.000103647 ) d(de)= -5.56631e-06 ( 1.62454e-05 ) t_sim=  2.36043 sec\n",
      "iter=42 : time= 2.625  Etot= -0.2455420079  Ekin= 0.234148   Epot= -0.47969 : de= -8.00366e-05 ( 0.000103647 ) d(de)= 9.93088e-07 ( 1.62454e-05 ) t_sim=  2.39596 sec\n",
      "iter=43 : time= 2.6875  Etot= -0.2455422908  Ekin= 0.234159   Epot= -0.479701 : de= -7.88846e-05 ( 0.000103647 ) d(de)= 1.1521e-06 ( 1.62454e-05 ) t_sim=  2.42944 sec\n",
      "iter=44 : time= 2.75  Etot= -0.2455419562  Ekin= 0.234185   Epot= -0.479727 : de= -8.02474e-05 ( 0.000103647 ) d(de)= -1.36289e-06 ( 1.62454e-05 ) t_sim=  2.46166 sec\n"
     ]
    },
    {
     "name": "stderr",
     "output_type": "stream",
     "text": [
      "iter=45 : time= 2.8125  Etot= -0.2455413939  Ekin= 0.234226   Epot= -0.479767 : de= -8.25372e-05 ( 0.000103647 ) d(de)= -2.28998e-06 ( 1.62454e-05 ) t_sim=  2.49932 sec\n",
      "iter=46 : time= 2.875  Etot= -0.2455416013  Ekin= 0.234282   Epot= -0.479824 : de= -8.16926e-05 ( 0.000103647 ) d(de)= 8.44696e-07 ( 1.62454e-05 ) t_sim=  2.53979 sec\n",
      "iter=47 : time= 2.9375  Etot= -0.2455414695  Ekin= 0.234353   Epot= -0.479895 : de= -8.22291e-05 ( 0.000103647 ) d(de)= -5.36602e-07 ( 1.62454e-05 ) t_sim=  2.57398 sec\n",
      "iter=48 : time= 3  Etot= -0.2455435269  Ekin= 0.234438   Epot= -0.479982 : de= -7.3851e-05 ( 0.000103647 ) d(de)= 8.37886e-06 ( 1.62454e-05 ) t_sim=  2.64456 sec\n"
     ]
    },
    {
     "name": "stdout",
     "output_type": "stream",
     "text": [
      "iter=45 : time= 2.8125  Etot= -0.2455413939  Ekin= 0.234226   Epot= -0.479767 : de= -8.25372e-05 ( 0.000103647 ) d(de)= -2.28998e-06 ( 1.62454e-05 ) t_sim=  2.49932 sec\n",
      "iter=46 : time= 2.875  Etot= -0.2455416013  Ekin= 0.234282   Epot= -0.479824 : de= -8.16926e-05 ( 0.000103647 ) d(de)= 8.44696e-07 ( 1.62454e-05 ) t_sim=  2.53978 sec\n",
      "iter=47 : time= 2.9375  Etot= -0.2455414695  Ekin= 0.234353   Epot= -0.479895 : de= -8.22291e-05 ( 0.000103647 ) d(de)= -5.36602e-07 ( 1.62454e-05 ) t_sim=  2.57398 sec\n",
      "iter=48 : time= 3  Etot= -0.2455435269  Ekin= 0.234438   Epot= -0.479982 : de= -7.3851e-05 ( 0.000103647 ) d(de)= 8.37886e-06 ( 1.62454e-05 ) t_sim=  2.64455 sec\n"
     ]
    },
    {
     "name": "stderr",
     "output_type": "stream",
     "text": [
      "iter=49 : time= 3.0625  Etot= -0.245544836  Ekin= 0.234537   Epot= -0.480082 : de= -6.85199e-05 ( 0.000103647 ) d(de)= 5.33147e-06 ( 1.62454e-05 ) t_sim=  2.71 sec\n",
      "iter=50 : time= 3.125  Etot= -0.2455433096  Ekin= 0.234648   Epot= -0.480191 : de= -7.4736e-05 ( 0.000103647 ) d(de)= -6.21651e-06 ( 1.62454e-05 ) t_sim=  2.76418 sec\n"
     ]
    },
    {
     "name": "stdout",
     "output_type": "stream",
     "text": [
      "iter=49 : time= 3.0625  Etot= -0.245544836  Ekin= 0.234537   Epot= -0.480082 : de= -6.85199e-05 ( 0.000103647 ) d(de)= 5.33147e-06 ( 1.62454e-05 ) t_sim=  2.71 sec\n",
      "iter=50 : time= 3.125  Etot= -0.2455433096  Ekin= 0.234648   Epot= -0.480191 : de= -7.4736e-05 ( 0.000103647 ) d(de)= -6.21651e-06 ( 1.62454e-05 ) t_sim=  2.76418 sec\n"
     ]
    },
    {
     "name": "stderr",
     "output_type": "stream",
     "text": [
      "iter=51 : time= 3.1875  Etot= -0.2455427902  Ekin= 0.234771   Epot= -0.480313 : de= -7.68512e-05 ( 0.000103647 ) d(de)= -2.11536e-06 ( 1.62454e-05 ) t_sim=  3.1077 sec\n",
      "iter=52 : time= 3.25  Etot= -0.2455420409  Ekin= 0.234907   Epot= -0.480449 : de= -7.99024e-05 ( 0.000103647 ) d(de)= -3.05141e-06 ( 1.62454e-05 ) t_sim=  3.1381 sec\n",
      "iter=53 : time= 3.3125  Etot= -0.2455400009  Ekin= 0.235057   Epot= -0.480597 : de= -8.82099e-05 ( 0.000103647 ) d(de)= -8.3082e-06 ( 1.62454e-05 ) t_sim=  3.16596 sec\n",
      "iter=54 : time= 3.375  Etot= -0.2455417662  Ekin= 0.235217   Epot= -0.480759 : de= -8.10211e-05 ( 0.000103647 ) d(de)= 7.18944e-06 ( 1.62454e-05 ) t_sim=  3.2004 sec\n",
      "iter=55 : time= 3.4375  Etot= -0.2455433603  Ekin= 0.235387   Epot= -0.480931 : de= -7.45295e-05 ( 0.000103647 ) d(de)= 6.49214e-06 ( 1.62454e-05 ) t_sim=  3.23303 sec\n",
      "iter=56 : time= 3.5  Etot= -0.2455423826  Ekin= 0.235563   Epot= -0.481105 : de= -7.85108e-05 ( 0.000103647 ) d(de)= -3.98167e-06 ( 1.62454e-05 ) t_sim=  3.26263 sec\n",
      "iter=57 : time= 3.5625  Etot= -0.2455424989  Ekin= 0.235738   Epot= -0.481281 : de= -7.80373e-05 ( 0.000103647 ) d(de)= 4.73604e-07 ( 1.62454e-05 ) t_sim=  3.29442 sec\n"
     ]
    },
    {
     "name": "stdout",
     "output_type": "stream",
     "text": [
      "iter=51 : time= 3.1875  Etot= -0.2455427902  Ekin= 0.234771   Epot= -0.480313 : de= -7.68512e-05 ( 0.000103647 ) d(de)= -2.11536e-06 ( 1.62454e-05 ) t_sim=  3.10769 sec\n",
      "iter=52 : time= 3.25  Etot= -0.2455420409  Ekin= 0.234907   Epot= -0.480449 : de= -7.99024e-05 ( 0.000103647 ) d(de)= -3.05141e-06 ( 1.62454e-05 ) t_sim=  3.13809 sec\n",
      "iter=53 : time= 3.3125  Etot= -0.2455400009  Ekin= 0.235057   Epot= -0.480597 : de= -8.82099e-05 ( 0.000103647 ) d(de)= -8.3082e-06 ( 1.62454e-05 ) t_sim=  3.16596 sec\n",
      "iter=54 : time= 3.375  Etot= -0.2455417662  Ekin= 0.235217   Epot= -0.480759 : de= -8.10211e-05 ( 0.000103647 ) d(de)= 7.18944e-06 ( 1.62454e-05 ) t_sim=  3.20039 sec\n",
      "iter=55 : time= 3.4375  Etot= -0.2455433603  Ekin= 0.235387   Epot= -0.480931 : de= -7.45295e-05 ( 0.000103647 ) d(de)= 6.49214e-06 ( 1.62454e-05 ) t_sim=  3.23302 sec\n",
      "iter=56 : time= 3.5  Etot= -0.2455423826  Ekin= 0.235563   Epot= -0.481105 : de= -7.85108e-05 ( 0.000103647 ) d(de)= -3.98167e-06 ( 1.62454e-05 ) t_sim=  3.26263 sec\n",
      "iter=57 : time= 3.5625  Etot= -0.2455424989  Ekin= 0.235738   Epot= -0.481281 : de= -7.80373e-05 ( 0.000103647 ) d(de)= 4.73604e-07 ( 1.62454e-05 ) t_sim=  3.29442 sec\n"
     ]
    },
    {
     "name": "stderr",
     "output_type": "stream",
     "text": [
      "iter=58 : time= 3.625  Etot= -0.2455432409  Ekin= 0.235909   Epot= -0.481452 : de= -7.50159e-05 ( 0.000103647 ) d(de)= 3.02167e-06 ( 1.62454e-05 ) t_sim=  3.32627 sec\n",
      "iter=59 : time= 3.6875  Etot= -0.2455429996  Ekin= 0.236071   Epot= -0.481614 : de= -7.59985e-05 ( 0.000103647 ) d(de)= -9.82701e-07 ( 1.62454e-05 ) t_sim=  3.37129 sec\n",
      "iter=60 : time= 3.75  Etot= -0.2455418365  Ekin= 0.236225   Epot= -0.481766 : de= -8.07346e-05 ( 0.000103647 ) d(de)= -4.73649e-06 ( 1.62454e-05 ) t_sim=  3.40649 sec\n",
      "iter=61 : time= 3.8125  Etot= -0.2455432867  Ekin= 0.236368   Epot= -0.481911 : de= -7.48291e-05 ( 0.000103647 ) d(de)= 5.906e-06 ( 1.62454e-05 ) t_sim=  3.44299 sec\n",
      "iter=62 : time= 3.875  Etot= -0.2455420431  Ekin= 0.2365   Epot= -0.482043 : de= -7.98933e-05 ( 0.000103647 ) d(de)= -5.06462e-06 ( 1.62454e-05 ) t_sim=  3.47702 sec\n",
      "iter=63 : time= 3.9375  Etot= -0.2455427805  Ekin= 0.236625   Epot= -0.482167 : de= -7.68906e-05 ( 0.000103647 ) d(de)= 3.00298e-06 ( 1.62454e-05 ) t_sim=  3.50621 sec\n"
     ]
    },
    {
     "name": "stdout",
     "output_type": "stream",
     "text": [
      "iter=58 : time= 3.625  Etot= -0.2455432409  Ekin= 0.235909   Epot= -0.481452 : de= -7.50159e-05 ( 0.000103647 ) d(de)= 3.02167e-06 ( 1.62454e-05 ) t_sim=  3.32626 sec\n",
      "iter=59 : time= 3.6875  Etot= -0.2455429996  Ekin= 0.236071   Epot= -0.481614 : de= -7.59985e-05 ( 0.000103647 ) d(de)= -9.82701e-07 ( 1.62454e-05 ) t_sim=  3.37128 sec\n",
      "iter=60 : time= 3.75  Etot= -0.2455418365  Ekin= 0.236225   Epot= -0.481766 : de= -8.07346e-05 ( 0.000103647 ) d(de)= -4.73649e-06 ( 1.62454e-05 ) t_sim=  3.40648 sec\n",
      "iter=61 : time= 3.8125  Etot= -0.2455432867  Ekin= 0.236368   Epot= -0.481911 : de= -7.48291e-05 ( 0.000103647 ) d(de)= 5.906e-06 ( 1.62454e-05 ) t_sim=  3.44298 sec\n",
      "iter=62 : time= 3.875  Etot= -0.2455420431  Ekin= 0.2365   Epot= -0.482043 : de= -7.98933e-05 ( 0.000103647 ) d(de)= -5.06462e-06 ( 1.62454e-05 ) t_sim=  3.47702 sec\n",
      "iter=63 : time= 3.9375  Etot= -0.2455427805  Ekin= 0.236625   Epot= -0.482167 : de= -7.68906e-05 ( 0.000103647 ) d(de)= 3.00298e-06 ( 1.62454e-05 ) t_sim=  3.5062 sec\n"
     ]
    },
    {
     "name": "stderr",
     "output_type": "stream",
     "text": [
      "iter=64 : time= 4  Etot= -0.2455428781  Ekin= 0.236741   Epot= -0.482284 : de= -7.64933e-05 ( 0.000103647 ) d(de)= 3.97367e-07 ( 1.62454e-05 ) t_sim=  3.53826 sec\n",
      "iter=65 : time= 4.0625  Etot= -0.2455413961  Ekin= 0.23685   Epot= -0.482392 : de= -8.25284e-05 ( 0.000103647 ) d(de)= -6.0356e-06 ( 1.62454e-05 ) t_sim=  3.56767 sec\n",
      "iter=66 : time= 4.125  Etot= -0.2455412537  Ekin= 0.236956   Epot= -0.482498 : de= -8.3108e-05 ( 0.000103647 ) d(de)= -5.79682e-07 ( 1.62454e-05 ) t_sim=  3.60306 sec\n",
      "iter=67 : time= 4.1875  Etot= -0.2455414972  Ekin= 0.237061   Epot= -0.482602 : de= -8.21165e-05 ( 0.000103647 ) d(de)= 9.91595e-07 ( 1.62454e-05 ) t_sim=  3.6344 sec\n",
      "iter=68 : time= 4.25  Etot= -0.2455424002  Ekin= 0.237165   Epot= -0.482708 : de= -7.8439e-05 ( 0.000103647 ) d(de)= 3.67777e-06 ( 1.62454e-05 ) t_sim=  3.66532 sec\n",
      "iter=69 : time= 4.3125  Etot= -0.2455429754  Ekin= 0.237272   Epot= -0.482815 : de= -7.6097e-05 ( 0.000103647 ) d(de)= 2.3422e-06 ( 1.62454e-05 ) t_sim=  3.69368 sec\n",
      "iter=70 : time= 4.375  Etot= -0.2455429395  Ekin= 0.237377   Epot= -0.48292 : de= -7.62431e-05 ( 0.000103647 ) d(de)= -1.46096e-07 ( 1.62454e-05 ) t_sim=  3.72772 sec\n"
     ]
    },
    {
     "name": "stdout",
     "output_type": "stream",
     "text": [
      "iter=64 : time= 4  Etot= -0.2455428781  Ekin= 0.236741   Epot= -0.482284 : de= -7.64933e-05 ( 0.000103647 ) d(de)= 3.97367e-07 ( 1.62454e-05 ) t_sim=  3.53826 sec\n",
      "iter=65 : time= 4.0625  Etot= -0.2455413961  Ekin= 0.23685   Epot= -0.482392 : de= -8.25284e-05 ( 0.000103647 ) d(de)= -6.0356e-06 ( 1.62454e-05 ) t_sim=  3.56766 sec\n",
      "iter=66 : time= 4.125  Etot= -0.2455412537  Ekin= 0.236956   Epot= -0.482498 : de= -8.3108e-05 ( 0.000103647 ) d(de)= -5.79682e-07 ( 1.62454e-05 ) t_sim=  3.60305 sec\n",
      "iter=67 : time= 4.1875  Etot= -0.2455414972  Ekin= 0.237061   Epot= -0.482602 : de= -8.21165e-05 ( 0.000103647 ) d(de)= 9.91595e-07 ( 1.62454e-05 ) t_sim=  3.63439 sec\n",
      "iter=68 : time= 4.25  Etot= -0.2455424002  Ekin= 0.237165   Epot= -0.482708 : de= -7.8439e-05 ( 0.000103647 ) d(de)= 3.67777e-06 ( 1.62454e-05 ) t_sim=  3.66532 sec\n",
      "iter=69 : time= 4.3125  Etot= -0.2455429754  Ekin= 0.237272   Epot= -0.482815 : de= -7.6097e-05 ( 0.000103647 ) d(de)= 2.3422e-06 ( 1.62454e-05 ) t_sim=  3.69368 sec\n",
      "iter=70 : time= 4.375  Etot= -0.2455429395  Ekin= 0.237377   Epot= -0.48292 : de= -7.62431e-05 ( 0.000103647 ) d(de)= -1.46096e-07 ( 1.62454e-05 ) t_sim=  3.72771 sec\n"
     ]
    },
    {
     "name": "stderr",
     "output_type": "stream",
     "text": [
      "iter=71 : time= 4.4375  Etot= -0.2455418243  Ekin= 0.237478   Epot= -0.48302 : de= -8.07843e-05 ( 0.000103647 ) d(de)= -4.54154e-06 ( 1.62454e-05 ) t_sim=  3.76237 sec\n",
      "iter=72 : time= 4.5  Etot= -0.2455432607  Ekin= 0.237574   Epot= -0.483118 : de= -7.49352e-05 ( 0.000103647 ) d(de)= 5.8496e-06 ( 1.62454e-05 ) t_sim=  3.79884 sec\n",
      "iter=73 : time= 4.5625  Etot= -0.2455426004  Ekin= 0.237663   Epot= -0.483206 : de= -7.76238e-05 ( 0.000103647 ) d(de)= -2.68883e-06 ( 1.62454e-05 ) t_sim=  3.831 sec\n",
      "iter=74 : time= 4.625  Etot= -0.2455441426  Ekin= 0.237744   Epot= -0.483289 : de= -7.13435e-05 ( 0.000103647 ) d(de)= 6.28076e-06 ( 1.62454e-05 ) t_sim=  3.87157 sec\n",
      "iter=75 : time= 4.6875  Etot= -0.2455421686  Ekin= 0.237815   Epot= -0.483357 : de= -7.93823e-05 ( 0.000103647 ) d(de)= -8.03932e-06 ( 1.62454e-05 ) t_sim=  3.90962 sec\n",
      "iter=76 : time= 4.75  Etot= -0.2455421629  Ekin= 0.237875   Epot= -0.483417 : de= -7.94055e-05 ( 0.000103647 ) d(de)= -2.3219e-08 ( 1.62454e-05 ) t_sim=  3.94596 sec\n"
     ]
    },
    {
     "name": "stdout",
     "output_type": "stream",
     "text": [
      "iter=71 : time= 4.4375  Etot= -0.2455418243  Ekin= 0.237478   Epot= -0.48302 : de= -8.07843e-05 ( 0.000103647 ) d(de)= -4.54154e-06 ( 1.62454e-05 ) t_sim=  3.76236 sec\n",
      "iter=72 : time= 4.5  Etot= -0.2455432607  Ekin= 0.237574   Epot= -0.483118 : de= -7.49352e-05 ( 0.000103647 ) d(de)= 5.8496e-06 ( 1.62454e-05 ) t_sim=  3.79884 sec\n",
      "iter=73 : time= 4.5625  Etot= -0.2455426004  Ekin= 0.237663   Epot= -0.483206 : de= -7.76238e-05 ( 0.000103647 ) d(de)= -2.68883e-06 ( 1.62454e-05 ) t_sim=  3.83099 sec\n",
      "iter=74 : time= 4.625  Etot= -0.2455441426  Ekin= 0.237744   Epot= -0.483289 : de= -7.13435e-05 ( 0.000103647 ) d(de)= 6.28076e-06 ( 1.62454e-05 ) t_sim=  3.87156 sec\n",
      "iter=75 : time= 4.6875  Etot= -0.2455421686  Ekin= 0.237815   Epot= -0.483357 : de= -7.93823e-05 ( 0.000103647 ) d(de)= -8.03932e-06 ( 1.62454e-05 ) t_sim=  3.90962 sec\n",
      "iter=76 : time= 4.75  Etot= -0.2455421629  Ekin= 0.237875   Epot= -0.483417 : de= -7.94055e-05 ( 0.000103647 ) d(de)= -2.3219e-08 ( 1.62454e-05 ) t_sim=  3.94595 sec\n"
     ]
    },
    {
     "name": "stderr",
     "output_type": "stream",
     "text": [
      "iter=77 : time= 4.8125  Etot= -0.2455415404  Ekin= 0.237927   Epot= -0.483468 : de= -8.19407e-05 ( 0.000103647 ) d(de)= -2.53542e-06 ( 1.62454e-05 ) t_sim=  3.97988 sec\n",
      "iter=78 : time= 4.875  Etot= -0.2455423652  Ekin= 0.237971   Epot= -0.483514 : de= -7.85819e-05 ( 0.000103647 ) d(de)= 3.3591e-06 ( 1.62454e-05 ) t_sim=  4.01204 sec\n",
      "iter=79 : time= 4.9375  Etot= -0.2455431521  Ekin= 0.238009   Epot= -0.483552 : de= -7.53774e-05 ( 0.000103647 ) d(de)= 3.2048e-06 ( 1.62454e-05 ) t_sim=  4.04617 sec\n",
      "iter=80 : time= 5  Etot= -0.2455429687  Ekin= 0.238041   Epot= -0.483584 : de= -7.6124e-05 ( 0.000103647 ) d(de)= -7.46687e-07 ( 1.62454e-05 ) t_sim=  4.07913 sec\n",
      "iter=80 : time= 5  Etot= -0.2455429687  Ekin= 0.238041   Epot= -0.483584 : de= -7.6124e-05 ( 0.000103647 ) d(de)= -0 ( 1.62454e-05 ) t_sim=  4.10123 sec\n"
     ]
    },
    {
     "name": "stdout",
     "output_type": "stream",
     "text": [
      "iter=77 : time= 4.8125  Etot= -0.2455415404  Ekin= 0.237927   Epot= -0.483468 : de= -8.19407e-05 ( 0.000103647 ) d(de)= -2.53542e-06 ( 1.62454e-05 ) t_sim=  3.97987 sec\n",
      "iter=78 : time= 4.875  Etot= -0.2455423652  Ekin= 0.237971   Epot= -0.483514 : de= -7.85819e-05 ( 0.000103647 ) d(de)= 3.3591e-06 ( 1.62454e-05 ) t_sim=  4.01203 sec\n",
      "iter=79 : time= 4.9375  Etot= -0.2455431521  Ekin= 0.238009   Epot= -0.483552 : de= -7.53774e-05 ( 0.000103647 ) d(de)= 3.2048e-06 ( 1.62454e-05 ) t_sim=  4.04616 sec\n",
      "iter=80 : time= 5  Etot= -0.2455429687  Ekin= 0.238041   Epot= -0.483584 : de= -7.6124e-05 ( 0.000103647 ) d(de)= -7.46687e-07 ( 1.62454e-05 ) t_sim=  4.07912 sec\n",
      "iter=80 : time= 5  Etot= -0.2455429687  Ekin= 0.238041   Epot= -0.483584 : de= -7.6124e-05 ( 0.000103647 ) d(de)= -0 ( 1.62454e-05 ) t_sim=  4.10121 sec\n",
      "../Bonsai/build/bonsai2_slowdust   --plummer 1000000 --snapname data/plummer_snap_mpi --snapiter 0.0625 -T 5 -dt 0.0625 --eps 0.05\n"
     ]
    },
    {
     "name": "stderr",
     "output_type": "stream",
     "text": [
      " Unknown ENV_VARIABLE:   -- Falling to basic forking method after MPI_Init, unsafe!\n",
      "Proc id: 0 @ Default , total processes: 1 (mpiInit) \n",
      "[INIT]\tUsed settings: \n",
      "[INIT]\tInput  filename \n",
      "[INIT]\tBonsai filename \n",
      "[INIT]\tLog filename gpuLog.log\n",
      "[INIT]\tTheta: \t\t0.75\t\teps: \t\t0.05\n",
      "[INIT]\tTimestep: \t0.0625\t\ttEnd: \t\t5\n",
      "[INIT]\titerEnd: \t1073741824\n",
      "[INIT]\tUse MPI-IO: \tNO\n",
      "[INIT]\tsnapshotFile: \tdata/plummer_snap_mpi\tsnapshotIter: \t0.0625\n",
      "[INIT]\tInput file: \t\t\tdevID: \t\t0\n",
      "[INIT]\tRemove dist: \t-1\n",
      "[INIT]\tRebuild tree every 1 timestep\n",
      "[INIT]\tRuntime logging is DISABLED \n",
      "[INIT]\tDirect gravitation is DISABLED\n",
      "[INIT]\tCode is built WITHOUT MPI Support \n"
     ]
    },
    {
     "name": "stdout",
     "output_type": "stream",
     "text": [
      "Using Plummer model with n= 1000000 per process \n",
      "................................................................"
     ]
    },
    {
     "name": "stderr",
     "output_type": "stream",
     "text": [
      "Proc: 0 Bootup times: Tree/MPI: 0.147358 Threads/log: 0.000370979 IC-model: 0 \n",
      " Start iterating\n",
      "STARTING UP!!!\n",
      "iter=0 : time= 0  Etot= -0.245312591  Ekin= 0.249851   Epot= -0.495164 : de= -0 ( 0 ) d(de)= -0 ( 0 ) t_sim=  9.05991e-06 sec\n"
     ]
    },
    {
     "name": "stdout",
     "output_type": "stream",
     "text": [
      "\n",
      "iter=0 : time= 0  Etot= -0.245312591  Ekin= 0.249851   Epot= -0.495164 : de= -0 ( 0 ) d(de)= -0 ( 0 ) t_sim=  9.53674e-07 sec\n"
     ]
    },
    {
     "name": "stderr",
     "output_type": "stream",
     "text": [
      "iter=1 : time= 0.0625  Etot= -0.2453124097  Ekin= 0.249825   Epot= -0.495138 : de= -7.38727e-07 ( 7.38727e-07 ) d(de)= -7.38727e-07 ( 7.38727e-07 ) t_sim=  1.11376 sec\n"
     ]
    },
    {
     "name": "stdout",
     "output_type": "stream",
     "text": [
      "iter=1 : time= 0.0625  Etot= -0.2453124097  Ekin= 0.249825   Epot= -0.495138 : de= -7.38727e-07 ( 7.38727e-07 ) d(de)= -7.38727e-07 ( 7.38727e-07 ) t_sim=  1.11375 sec\n"
     ]
    },
    {
     "name": "stderr",
     "output_type": "stream",
     "text": [
      "iter=2 : time= 0.125  Etot= -0.2453116816  Ekin= 0.249707   Epot= -0.495019 : de= -3.70698e-06 ( 3.70698e-06 ) d(de)= -2.96826e-06 ( 2.96826e-06 ) t_sim=  1.38659 sec\n"
     ]
    },
    {
     "name": "stdout",
     "output_type": "stream",
     "text": [
      "iter=2 : time= 0.125  Etot= -0.2453116816  Ekin= 0.249707   Epot= -0.495019 : de= -3.70698e-06 ( 3.70698e-06 ) d(de)= -2.96826e-06 ( 2.96826e-06 ) t_sim=  1.38658 sec\n"
     ]
    },
    {
     "name": "stderr",
     "output_type": "stream",
     "text": [
      "iter=3 : time= 0.1875  Etot= -0.245310806  Ekin= 0.249503   Epot= -0.494814 : de= -7.27647e-06 ( 7.27647e-06 ) d(de)= -3.56951e-06 ( 3.56951e-06 ) t_sim=  1.6596 sec\n"
     ]
    },
    {
     "name": "stdout",
     "output_type": "stream",
     "text": [
      "iter=3 : time= 0.1875  Etot= -0.245310806  Ekin= 0.249503   Epot= -0.494814 : de= -7.27647e-06 ( 7.27647e-06 ) d(de)= -3.56951e-06 ( 3.56951e-06 ) t_sim=  1.65959 sec\n"
     ]
    },
    {
     "name": "stderr",
     "output_type": "stream",
     "text": [
      "iter=4 : time= 0.25  Etot= -0.2453091072  Ekin= 0.24922   Epot= -0.494529 : de= -1.42013e-05 ( 1.42013e-05 ) d(de)= -6.92493e-06 ( 6.92493e-06 ) t_sim=  2.23088 sec\n"
     ]
    },
    {
     "name": "stdout",
     "output_type": "stream",
     "text": [
      "iter=4 : time= 0.25  Etot= -0.2453091072  Ekin= 0.24922   Epot= -0.494529 : de= -1.42013e-05 ( 1.42013e-05 ) d(de)= -6.92493e-06 ( 6.92493e-06 ) t_sim=  2.23086 sec\n"
     ]
    },
    {
     "name": "stderr",
     "output_type": "stream",
     "text": [
      "iter=5 : time= 0.3125  Etot= -0.2453075121  Ekin= 0.24887   Epot= -0.494178 : de= -2.07035e-05 ( 2.07035e-05 ) d(de)= -6.5022e-06 ( 6.92493e-06 ) t_sim=  2.49043 sec\n"
     ]
    },
    {
     "name": "stdout",
     "output_type": "stream",
     "text": [
      "iter=5 : time= 0.3125  Etot= -0.2453075121  Ekin= 0.24887   Epot= -0.494178 : de= -2.07035e-05 ( 2.07035e-05 ) d(de)= -6.5022e-06 ( 6.92493e-06 ) t_sim=  2.49042 sec\n"
     ]
    },
    {
     "name": "stderr",
     "output_type": "stream",
     "text": [
      "iter=6 : time= 0.375  Etot= -0.2453063852  Ekin= 0.248463   Epot= -0.493769 : de= -2.52976e-05 ( 2.52976e-05 ) d(de)= -4.59422e-06 ( 6.92493e-06 ) t_sim=  2.84865 sec\n"
     ]
    },
    {
     "name": "stdout",
     "output_type": "stream",
     "text": [
      "iter=6 : time= 0.375  Etot= -0.2453063852  Ekin= 0.248463   Epot= -0.493769 : de= -2.52976e-05 ( 2.52976e-05 ) d(de)= -4.59422e-06 ( 6.92493e-06 ) t_sim=  2.84864 sec\n"
     ]
    },
    {
     "name": "stderr",
     "output_type": "stream",
     "text": [
      "iter=7 : time= 0.4375  Etot= -0.2453050638  Ekin= 0.248008   Epot= -0.493313 : de= -3.06839e-05 ( 3.06839e-05 ) d(de)= -5.3865e-06 ( 6.92493e-06 ) t_sim=  3.15514 sec\n"
     ]
    },
    {
     "name": "stdout",
     "output_type": "stream",
     "text": [
      "iter=7 : time= 0.4375  Etot= -0.2453050638  Ekin= 0.248008   Epot= -0.493313 : de= -3.06839e-05 ( 3.06839e-05 ) d(de)= -5.3865e-06 ( 6.92493e-06 ) t_sim=  3.15513 sec\n"
     ]
    },
    {
     "name": "stderr",
     "output_type": "stream",
     "text": [
      "iter=8 : time= 0.5  Etot= -0.2453039198  Ekin= 0.247513   Epot= -0.492817 : de= -3.53473e-05 ( 3.53473e-05 ) d(de)= -4.66355e-06 ( 6.92493e-06 ) t_sim=  3.69697 sec\n"
     ]
    },
    {
     "name": "stdout",
     "output_type": "stream",
     "text": [
      "iter=8 : time= 0.5  Etot= -0.2453039198  Ekin= 0.247513   Epot= -0.492817 : de= -3.53473e-05 ( 3.53473e-05 ) d(de)= -4.66355e-06 ( 6.92493e-06 ) t_sim=  3.69696 sec\n"
     ]
    },
    {
     "name": "stderr",
     "output_type": "stream",
     "text": [
      "iter=9 : time= 0.5625  Etot= -0.2453035068  Ekin= 0.246988   Epot= -0.492291 : de= -3.7031e-05 ( 3.7031e-05 ) d(de)= -1.68371e-06 ( 6.92493e-06 ) t_sim=  4.06612 sec\n"
     ]
    },
    {
     "name": "stdout",
     "output_type": "stream",
     "text": [
      "iter=9 : time= 0.5625  Etot= -0.2453035068  Ekin= 0.246988   Epot= -0.492291 : de= -3.7031e-05 ( 3.7031e-05 ) d(de)= -1.68371e-06 ( 6.92493e-06 ) t_sim=  4.06611 sec\n"
     ]
    },
    {
     "name": "stderr",
     "output_type": "stream",
     "text": [
      "iter=10 : time= 0.625  Etot= -0.2453024067  Ekin= 0.246438   Epot= -0.49174 : de= -4.15155e-05 ( 4.15155e-05 ) d(de)= -4.48469e-06 ( 6.92493e-06 ) t_sim=  4.33415 sec\n"
     ]
    },
    {
     "name": "stdout",
     "output_type": "stream",
     "text": [
      "iter=10 : time= 0.625  Etot= -0.2453024067  Ekin= 0.246438   Epot= -0.49174 : de= -4.15155e-05 ( 4.15155e-05 ) d(de)= -4.48469e-06 ( 6.92493e-06 ) t_sim=  4.33414 sec\n"
     ]
    },
    {
     "name": "stderr",
     "output_type": "stream",
     "text": [
      "iter=11 : time= 0.6875  Etot= -0.2453006806  Ekin= 0.245869   Epot= -0.49117 : de= -4.85517e-05 ( 4.85517e-05 ) d(de)= -7.0365e-06 ( 7.0365e-06 ) t_sim=  4.68674 sec\n"
     ]
    },
    {
     "name": "stdout",
     "output_type": "stream",
     "text": [
      "iter=11 : time= 0.6875  Etot= -0.2453006806  Ekin= 0.245869   Epot= -0.49117 : de= -4.85517e-05 ( 4.85517e-05 ) d(de)= -7.0365e-06 ( 7.0365e-06 ) t_sim=  4.68673 sec\n"
     ]
    },
    {
     "name": "stderr",
     "output_type": "stream",
     "text": [
      "iter=12 : time= 0.75  Etot= -0.2452993977  Ekin= 0.245288   Epot= -0.490587 : de= -5.37816e-05 ( 5.37816e-05 ) d(de)= -5.23016e-06 ( 7.0365e-06 ) t_sim=  5.14661 sec\n"
     ]
    },
    {
     "name": "stdout",
     "output_type": "stream",
     "text": [
      "iter=12 : time= 0.75  Etot= -0.2452993977  Ekin= 0.245288   Epot= -0.490587 : de= -5.37816e-05 ( 5.37816e-05 ) d(de)= -5.23016e-06 ( 7.0365e-06 ) t_sim=  5.1466 sec\n"
     ]
    },
    {
     "name": "stderr",
     "output_type": "stream",
     "text": [
      "iter=13 : time= 0.8125  Etot= -0.2452985272  Ekin= 0.244697   Epot= -0.489996 : de= -5.733e-05 ( 5.733e-05 ) d(de)= -3.54854e-06 ( 7.0365e-06 ) t_sim=  5.54184 sec\n"
     ]
    },
    {
     "name": "stdout",
     "output_type": "stream",
     "text": [
      "iter=13 : time= 0.8125  Etot= -0.2452985272  Ekin= 0.244697   Epot= -0.489996 : de= -5.733e-05 ( 5.733e-05 ) d(de)= -3.54854e-06 ( 7.0365e-06 ) t_sim=  5.54183 sec\n"
     ]
    },
    {
     "name": "stderr",
     "output_type": "stream",
     "text": [
      "iter=14 : time= 0.875  Etot= -0.2452979026  Ekin= 0.244101   Epot= -0.489399 : de= -5.98759e-05 ( 5.98759e-05 ) d(de)= -2.54611e-06 ( 7.0365e-06 ) t_sim=  5.81701 sec\n"
     ]
    },
    {
     "name": "stdout",
     "output_type": "stream",
     "text": [
      "iter=14 : time= 0.875  Etot= -0.2452979026  Ekin= 0.244101   Epot= -0.489399 : de= -5.98759e-05 ( 5.98759e-05 ) d(de)= -2.54611e-06 ( 7.0365e-06 ) t_sim=  5.817 sec\n"
     ]
    },
    {
     "name": "stderr",
     "output_type": "stream",
     "text": [
      "iter=15 : time= 0.9375  Etot= -0.2452970332  Ekin= 0.243504   Epot= -0.488801 : de= -6.34201e-05 ( 6.34201e-05 ) d(de)= -3.54436e-06 ( 7.0365e-06 ) t_sim=  6.28741 sec\n"
     ]
    },
    {
     "name": "stdout",
     "output_type": "stream",
     "text": [
      "iter=15 : time= 0.9375  Etot= -0.2452970332  Ekin= 0.243504   Epot= -0.488801 : de= -6.34201e-05 ( 6.34201e-05 ) d(de)= -3.54436e-06 ( 7.0365e-06 ) t_sim=  6.2874 sec\n"
     ]
    },
    {
     "name": "stderr",
     "output_type": "stream",
     "text": [
      "iter=16 : time= 1  Etot= -0.2452962752  Ekin= 0.242909   Epot= -0.488205 : de= -6.651e-05 ( 6.651e-05 ) d(de)= -3.0901e-06 ( 7.0365e-06 ) t_sim=  6.57829 sec\n"
     ]
    },
    {
     "name": "stdout",
     "output_type": "stream",
     "text": [
      "iter=16 : time= 1  Etot= -0.2452962752  Ekin= 0.242909   Epot= -0.488205 : de= -6.651e-05 ( 6.651e-05 ) d(de)= -3.0901e-06 ( 7.0365e-06 ) t_sim=  6.57828 sec\n"
     ]
    },
    {
     "name": "stderr",
     "output_type": "stream",
     "text": [
      "iter=17 : time= 1.0625  Etot= -0.2452955843  Ekin= 0.242319   Epot= -0.487614 : de= -6.93264e-05 ( 6.93264e-05 ) d(de)= -2.81661e-06 ( 7.0365e-06 ) t_sim=  6.84603 sec\n"
     ]
    },
    {
     "name": "stdout",
     "output_type": "stream",
     "text": [
      "iter=17 : time= 1.0625  Etot= -0.2452955843  Ekin= 0.242319   Epot= -0.487614 : de= -6.93264e-05 ( 6.93264e-05 ) d(de)= -2.81661e-06 ( 7.0365e-06 ) t_sim=  6.84602 sec\n"
     ]
    },
    {
     "name": "stderr",
     "output_type": "stream",
     "text": [
      "iter=18 : time= 1.125  Etot= -0.2452946859  Ekin= 0.241736   Epot= -0.487031 : de= -7.29886e-05 ( 7.29886e-05 ) d(de)= -3.66241e-06 ( 7.0365e-06 ) t_sim=  7.19114 sec\n"
     ]
    },
    {
     "name": "stdout",
     "output_type": "stream",
     "text": [
      "iter=18 : time= 1.125  Etot= -0.2452946859  Ekin= 0.241736   Epot= -0.487031 : de= -7.29886e-05 ( 7.29886e-05 ) d(de)= -3.66241e-06 ( 7.0365e-06 ) t_sim=  7.19113 sec\n"
     ]
    },
    {
     "name": "stderr",
     "output_type": "stream",
     "text": [
      "iter=19 : time= 1.1875  Etot= -0.2452946529  Ekin= 0.241163   Epot= -0.486458 : de= -7.31233e-05 ( 7.31233e-05 ) d(de)= -1.34717e-07 ( 7.0365e-06 ) t_sim=  7.60695 sec\n"
     ]
    },
    {
     "name": "stdout",
     "output_type": "stream",
     "text": [
      "iter=19 : time= 1.1875  Etot= -0.2452946529  Ekin= 0.241163   Epot= -0.486458 : de= -7.31233e-05 ( 7.31233e-05 ) d(de)= -1.34717e-07 ( 7.0365e-06 ) t_sim=  7.60694 sec\n"
     ]
    },
    {
     "name": "stderr",
     "output_type": "stream",
     "text": [
      "iter=20 : time= 1.25  Etot= -0.2452940868  Ekin= 0.240604   Epot= -0.485898 : de= -7.54309e-05 ( 7.54309e-05 ) d(de)= -2.30777e-06 ( 7.0365e-06 ) t_sim=  7.88627 sec\n"
     ]
    },
    {
     "name": "stdout",
     "output_type": "stream",
     "text": [
      "iter=20 : time= 1.25  Etot= -0.2452940868  Ekin= 0.240604   Epot= -0.485898 : de= -7.54309e-05 ( 7.54309e-05 ) d(de)= -2.30777e-06 ( 7.0365e-06 ) t_sim=  7.88627 sec\n"
     ]
    },
    {
     "name": "stderr",
     "output_type": "stream",
     "text": [
      "iter=21 : time= 1.3125  Etot= -0.2452932498  Ekin= 0.240058   Epot= -0.485352 : de= -7.88429e-05 ( 7.88429e-05 ) d(de)= -3.41229e-06 ( 7.0365e-06 ) t_sim=  8.29047 sec\n"
     ]
    },
    {
     "name": "stdout",
     "output_type": "stream",
     "text": [
      "iter=21 : time= 1.3125  Etot= -0.2452932498  Ekin= 0.240058   Epot= -0.485352 : de= -7.88429e-05 ( 7.88429e-05 ) d(de)= -3.41229e-06 ( 7.0365e-06 ) t_sim=  8.29046 sec\n"
     ]
    },
    {
     "name": "stderr",
     "output_type": "stream",
     "text": [
      "iter=22 : time= 1.375  Etot= -0.2452930947  Ekin= 0.239529   Epot= -0.484822 : de= -7.94752e-05 ( 7.94752e-05 ) d(de)= -6.32361e-07 ( 7.0365e-06 ) t_sim=  8.66339 sec\n"
     ]
    },
    {
     "name": "stdout",
     "output_type": "stream",
     "text": [
      "iter=22 : time= 1.375  Etot= -0.2452930947  Ekin= 0.239529   Epot= -0.484822 : de= -7.94752e-05 ( 7.94752e-05 ) d(de)= -6.32361e-07 ( 7.0365e-06 ) t_sim=  8.66338 sec\n"
     ]
    },
    {
     "name": "stderr",
     "output_type": "stream",
     "text": [
      "iter=23 : time= 1.4375  Etot= -0.2452930025  Ekin= 0.239017   Epot= -0.48431 : de= -7.98512e-05 ( 7.98512e-05 ) d(de)= -3.76007e-07 ( 7.0365e-06 ) t_sim=  9.00733 sec\n"
     ]
    },
    {
     "name": "stdout",
     "output_type": "stream",
     "text": [
      "iter=23 : time= 1.4375  Etot= -0.2452930025  Ekin= 0.239017   Epot= -0.48431 : de= -7.98512e-05 ( 7.98512e-05 ) d(de)= -3.76007e-07 ( 7.0365e-06 ) t_sim=  9.00732 sec\n"
     ]
    },
    {
     "name": "stderr",
     "output_type": "stream",
     "text": [
      "iter=24 : time= 1.5  Etot= -0.2452929187  Ekin= 0.238522   Epot= -0.483815 : de= -8.01927e-05 ( 8.01927e-05 ) d(de)= -3.41536e-07 ( 7.0365e-06 ) t_sim=  9.27387 sec\n"
     ]
    },
    {
     "name": "stdout",
     "output_type": "stream",
     "text": [
      "iter=24 : time= 1.5  Etot= -0.2452929187  Ekin= 0.238522   Epot= -0.483815 : de= -8.01927e-05 ( 8.01927e-05 ) d(de)= -3.41536e-07 ( 7.0365e-06 ) t_sim=  9.27386 sec\n"
     ]
    },
    {
     "name": "stderr",
     "output_type": "stream",
     "text": [
      "iter=25 : time= 1.5625  Etot= -0.2452923147  Ekin= 0.238046   Epot= -0.483338 : de= -8.26548e-05 ( 8.26548e-05 ) d(de)= -2.46231e-06 ( 7.0365e-06 ) t_sim=  9.54497 sec\n"
     ]
    },
    {
     "name": "stdout",
     "output_type": "stream",
     "text": [
      "iter=25 : time= 1.5625  Etot= -0.2452923147  Ekin= 0.238046   Epot= -0.483338 : de= -8.26548e-05 ( 8.26548e-05 ) d(de)= -2.46231e-06 ( 7.0365e-06 ) t_sim=  9.54496 sec\n"
     ]
    },
    {
     "name": "stderr",
     "output_type": "stream",
     "text": [
      "iter=26 : time= 1.625  Etot= -0.2452917836  Ekin= 0.237589   Epot= -0.482881 : de= -8.482e-05 ( 8.482e-05 ) d(de)= -2.16531e-06 ( 7.0365e-06 ) t_sim=  9.92142 sec\n"
     ]
    },
    {
     "name": "stdout",
     "output_type": "stream",
     "text": [
      "iter=26 : time= 1.625  Etot= -0.2452917836  Ekin= 0.237589   Epot= -0.482881 : de= -8.482e-05 ( 8.482e-05 ) d(de)= -2.16531e-06 ( 7.0365e-06 ) t_sim=  9.92141 sec\n"
     ]
    },
    {
     "name": "stderr",
     "output_type": "stream",
     "text": [
      "iter=27 : time= 1.6875  Etot= -0.2452912747  Ekin= 0.237153   Epot= -0.482444 : de= -8.68941e-05 ( 8.68941e-05 ) d(de)= -2.07435e-06 ( 7.0365e-06 ) t_sim=  10.1905 sec\n"
     ]
    },
    {
     "name": "stdout",
     "output_type": "stream",
     "text": [
      "iter=27 : time= 1.6875  Etot= -0.2452912747  Ekin= 0.237153   Epot= -0.482444 : de= -8.68941e-05 ( 8.68941e-05 ) d(de)= -2.07435e-06 ( 7.0365e-06 ) t_sim=  10.1905 sec\n"
     ]
    },
    {
     "name": "stderr",
     "output_type": "stream",
     "text": [
      "iter=28 : time= 1.75  Etot= -0.2452907218  Ekin= 0.23674   Epot= -0.48203 : de= -8.91483e-05 ( 8.91483e-05 ) d(de)= -2.25433e-06 ( 7.0365e-06 ) t_sim=  10.4708 sec\n"
     ]
    },
    {
     "name": "stdout",
     "output_type": "stream",
     "text": [
      "iter=28 : time= 1.75  Etot= -0.2452907218  Ekin= 0.23674   Epot= -0.48203 : de= -8.91483e-05 ( 8.91483e-05 ) d(de)= -2.25433e-06 ( 7.0365e-06 ) t_sim=  10.4708 sec\n"
     ]
    },
    {
     "name": "stderr",
     "output_type": "stream",
     "text": [
      "iter=29 : time= 1.8125  Etot= -0.2452910291  Ekin= 0.23635   Epot= -0.481641 : de= -8.78953e-05 ( 8.91483e-05 ) d(de)= 1.25303e-06 ( 7.0365e-06 ) t_sim=  10.8566 sec\n"
     ]
    },
    {
     "name": "stdout",
     "output_type": "stream",
     "text": [
      "iter=29 : time= 1.8125  Etot= -0.2452910291  Ekin= 0.23635   Epot= -0.481641 : de= -8.78953e-05 ( 8.91483e-05 ) d(de)= 1.25303e-06 ( 7.0365e-06 ) t_sim=  10.8566 sec\n"
     ]
    },
    {
     "name": "stderr",
     "output_type": "stream",
     "text": [
      "iter=30 : time= 1.875  Etot= -0.2452902965  Ekin= 0.235986   Epot= -0.481276 : de= -9.08818e-05 ( 9.08818e-05 ) d(de)= -2.98667e-06 ( 7.0365e-06 ) t_sim=  11.1386 sec\n"
     ]
    },
    {
     "name": "stdout",
     "output_type": "stream",
     "text": [
      "iter=30 : time= 1.875  Etot= -0.2452902965  Ekin= 0.235986   Epot= -0.481276 : de= -9.08818e-05 ( 9.08818e-05 ) d(de)= -2.98667e-06 ( 7.0365e-06 ) t_sim=  11.1386 sec\n"
     ]
    },
    {
     "name": "stderr",
     "output_type": "stream",
     "text": [
      "iter=31 : time= 1.9375  Etot= -0.2452896037  Ekin= 0.235649   Epot= -0.480938 : de= -9.3706e-05 ( 9.3706e-05 ) d(de)= -2.82455e-06 ( 7.0365e-06 ) t_sim=  11.5412 sec\n"
     ]
    },
    {
     "name": "stdout",
     "output_type": "stream",
     "text": [
      "iter=31 : time= 1.9375  Etot= -0.2452896037  Ekin= 0.235649   Epot= -0.480938 : de= -9.3706e-05 ( 9.3706e-05 ) d(de)= -2.82455e-06 ( 7.0365e-06 ) t_sim=  11.5411 sec\n"
     ]
    },
    {
     "name": "stderr",
     "output_type": "stream",
     "text": [
      "iter=32 : time= 2  Etot= -0.2452892771  Ekin= 0.235339   Epot= -0.480628 : de= -9.50376e-05 ( 9.50376e-05 ) d(de)= -1.33165e-06 ( 7.0365e-06 ) t_sim=  11.8232 sec\n"
     ]
    },
    {
     "name": "stdout",
     "output_type": "stream",
     "text": [
      "iter=32 : time= 2  Etot= -0.2452892771  Ekin= 0.235339   Epot= -0.480628 : de= -9.50376e-05 ( 9.50376e-05 ) d(de)= -1.33165e-06 ( 7.0365e-06 ) t_sim=  11.8232 sec\n"
     ]
    },
    {
     "name": "stderr",
     "output_type": "stream",
     "text": [
      "iter=33 : time= 2.0625  Etot= -0.2452891619  Ekin= 0.235058   Epot= -0.480347 : de= -9.55068e-05 ( 9.55068e-05 ) d(de)= -4.69306e-07 ( 7.0365e-06 ) t_sim=  12.3225 sec\n"
     ]
    },
    {
     "name": "stdout",
     "output_type": "stream",
     "text": [
      "iter=33 : time= 2.0625  Etot= -0.2452891619  Ekin= 0.235058   Epot= -0.480347 : de= -9.55068e-05 ( 9.55068e-05 ) d(de)= -4.69306e-07 ( 7.0365e-06 ) t_sim=  12.3225 sec\n"
     ]
    },
    {
     "name": "stderr",
     "output_type": "stream",
     "text": [
      "iter=34 : time= 2.125  Etot= -0.2452886861  Ekin= 0.234805   Epot= -0.480094 : de= -9.74466e-05 ( 9.74466e-05 ) d(de)= -1.93994e-06 ( 7.0365e-06 ) t_sim=  12.59 sec\n"
     ]
    },
    {
     "name": "stdout",
     "output_type": "stream",
     "text": [
      "iter=34 : time= 2.125  Etot= -0.2452886861  Ekin= 0.234805   Epot= -0.480094 : de= -9.74466e-05 ( 9.74466e-05 ) d(de)= -1.93994e-06 ( 7.0365e-06 ) t_sim=  12.59 sec\n"
     ]
    },
    {
     "name": "stderr",
     "output_type": "stream",
     "text": [
      "iter=35 : time= 2.1875  Etot= -0.245288262  Ekin= 0.234581   Epot= -0.479869 : de= -9.91753e-05 ( 9.91753e-05 ) d(de)= -1.72888e-06 ( 7.0365e-06 ) t_sim=  13.5249 sec\n"
     ]
    },
    {
     "name": "stdout",
     "output_type": "stream",
     "text": [
      "iter=35 : time= 2.1875  Etot= -0.245288262  Ekin= 0.234581   Epot= -0.479869 : de= -9.91753e-05 ( 9.91753e-05 ) d(de)= -1.72888e-06 ( 7.0365e-06 ) t_sim=  13.5249 sec\n"
     ]
    },
    {
     "name": "stderr",
     "output_type": "stream",
     "text": [
      "iter=36 : time= 2.25  Etot= -0.2452888132  Ekin= 0.234384   Epot= -0.479672 : de= -9.69286e-05 ( 9.91753e-05 ) d(de)= 2.24693e-06 ( 7.0365e-06 ) t_sim=  13.8348 sec\n"
     ]
    },
    {
     "name": "stdout",
     "output_type": "stream",
     "text": [
      "iter=36 : time= 2.25  Etot= -0.2452888132  Ekin= 0.234384   Epot= -0.479672 : de= -9.69286e-05 ( 9.91753e-05 ) d(de)= 2.24693e-06 ( 7.0365e-06 ) t_sim=  13.8348 sec\n"
     ]
    },
    {
     "name": "stderr",
     "output_type": "stream",
     "text": [
      "iter=37 : time= 2.3125  Etot= -0.2452896866  Ekin= 0.234212   Epot= -0.479501 : de= -9.33682e-05 ( 9.91753e-05 ) d(de)= 3.56077e-06 ( 7.0365e-06 ) t_sim=  14.1226 sec\n"
     ]
    },
    {
     "name": "stdout",
     "output_type": "stream",
     "text": [
      "iter=37 : time= 2.3125  Etot= -0.2452896866  Ekin= 0.234212   Epot= -0.479501 : de= -9.33682e-05 ( 9.91753e-05 ) d(de)= 3.56077e-06 ( 7.0365e-06 ) t_sim=  14.1226 sec\n"
     ]
    },
    {
     "name": "stderr",
     "output_type": "stream",
     "text": [
      "iter=38 : time= 2.375  Etot= -0.2452895636  Ekin= 0.234063   Epot= -0.479353 : de= -9.38693e-05 ( 9.91753e-05 ) d(de)= -5.0118e-07 ( 7.0365e-06 ) t_sim=  14.4165 sec\n"
     ]
    },
    {
     "name": "stdout",
     "output_type": "stream",
     "text": [
      "iter=38 : time= 2.375  Etot= -0.2452895636  Ekin= 0.234063   Epot= -0.479353 : de= -9.38693e-05 ( 9.91753e-05 ) d(de)= -5.0118e-07 ( 7.0365e-06 ) t_sim=  14.4165 sec\n"
     ]
    },
    {
     "name": "stderr",
     "output_type": "stream",
     "text": [
      "iter=39 : time= 2.4375  Etot= -0.2452899185  Ekin= 0.233935   Epot= -0.479225 : de= -9.24226e-05 ( 9.91753e-05 ) d(de)= 1.4468e-06 ( 7.0365e-06 ) t_sim=  14.6835 sec\n"
     ]
    },
    {
     "name": "stdout",
     "output_type": "stream",
     "text": [
      "iter=39 : time= 2.4375  Etot= -0.2452899185  Ekin= 0.233935   Epot= -0.479225 : de= -9.24226e-05 ( 9.91753e-05 ) d(de)= 1.4468e-06 ( 7.0365e-06 ) t_sim=  14.6835 sec\n"
     ]
    },
    {
     "name": "stderr",
     "output_type": "stream",
     "text": [
      "iter=40 : time= 2.5  Etot= -0.2452900054  Ekin= 0.233827   Epot= -0.479117 : de= -9.20684e-05 ( 9.91753e-05 ) d(de)= 3.54292e-07 ( 7.0365e-06 ) t_sim=  15.0359 sec\n"
     ]
    },
    {
     "name": "stdout",
     "output_type": "stream",
     "text": [
      "iter=40 : time= 2.5  Etot= -0.2452900054  Ekin= 0.233827   Epot= -0.479117 : de= -9.20684e-05 ( 9.91753e-05 ) d(de)= 3.54292e-07 ( 7.0365e-06 ) t_sim=  15.0359 sec\n"
     ]
    },
    {
     "name": "stderr",
     "output_type": "stream",
     "text": [
      "iter=41 : time= 2.5625  Etot= -0.2452895859  Ekin= 0.233736   Epot= -0.479026 : de= -9.37784e-05 ( 9.91753e-05 ) d(de)= -1.71021e-06 ( 7.0365e-06 ) t_sim=  15.3414 sec\n"
     ]
    },
    {
     "name": "stdout",
     "output_type": "stream",
     "text": [
      "iter=41 : time= 2.5625  Etot= -0.2452895859  Ekin= 0.233736   Epot= -0.479026 : de= -9.37784e-05 ( 9.91753e-05 ) d(de)= -1.71021e-06 ( 7.0365e-06 ) t_sim=  15.3414 sec\n"
     ]
    },
    {
     "name": "stderr",
     "output_type": "stream",
     "text": [
      "iter=42 : time= 2.625  Etot= -0.2452899385  Ekin= 0.233664   Epot= -0.478954 : de= -9.23414e-05 ( 9.91753e-05 ) d(de)= 1.43715e-06 ( 7.0365e-06 ) t_sim=  15.6039 sec\n"
     ]
    },
    {
     "name": "stdout",
     "output_type": "stream",
     "text": [
      "iter=42 : time= 2.625  Etot= -0.2452899385  Ekin= 0.233664   Epot= -0.478954 : de= -9.23414e-05 ( 9.91753e-05 ) d(de)= 1.43715e-06 ( 7.0365e-06 ) t_sim=  15.6039 sec\n"
     ]
    },
    {
     "name": "stderr",
     "output_type": "stream",
     "text": [
      "iter=43 : time= 2.6875  Etot= -0.2452898098  Ekin= 0.233611   Epot= -0.4789 : de= -9.2866e-05 ( 9.91753e-05 ) d(de)= -5.24627e-07 ( 7.0365e-06 ) t_sim=  15.9024 sec\n"
     ]
    },
    {
     "name": "stdout",
     "output_type": "stream",
     "text": [
      "iter=43 : time= 2.6875  Etot= -0.2452898098  Ekin= 0.233611   Epot= -0.4789 : de= -9.2866e-05 ( 9.91753e-05 ) d(de)= -5.24627e-07 ( 7.0365e-06 ) t_sim=  15.9023 sec\n"
     ]
    },
    {
     "name": "stderr",
     "output_type": "stream",
     "text": [
      "iter=44 : time= 2.75  Etot= -0.2452901864  Ekin= 0.233576   Epot= -0.478866 : de= -9.13308e-05 ( 9.91753e-05 ) d(de)= 1.53529e-06 ( 7.0365e-06 ) t_sim=  16.8882 sec\n"
     ]
    },
    {
     "name": "stdout",
     "output_type": "stream",
     "text": [
      "iter=44 : time= 2.75  Etot= -0.2452901864  Ekin= 0.233576   Epot= -0.478866 : de= -9.13308e-05 ( 9.91753e-05 ) d(de)= 1.53529e-06 ( 7.0365e-06 ) t_sim=  16.8881 sec\n"
     ]
    },
    {
     "name": "stderr",
     "output_type": "stream",
     "text": [
      "iter=45 : time= 2.8125  Etot= -0.245289745  Ekin= 0.233559   Epot= -0.478849 : de= -9.31302e-05 ( 9.91753e-05 ) d(de)= -1.79952e-06 ( 7.0365e-06 ) t_sim=  17.1545 sec\n"
     ]
    },
    {
     "name": "stdout",
     "output_type": "stream",
     "text": [
      "iter=45 : time= 2.8125  Etot= -0.245289745  Ekin= 0.233559   Epot= -0.478849 : de= -9.31302e-05 ( 9.91753e-05 ) d(de)= -1.79952e-06 ( 7.0365e-06 ) t_sim=  17.1545 sec\n"
     ]
    },
    {
     "name": "stderr",
     "output_type": "stream",
     "text": [
      "iter=46 : time= 2.875  Etot= -0.2452897632  Ekin= 0.233561   Epot= -0.47885 : de= -9.3056e-05 ( 9.91753e-05 ) d(de)= 7.41679e-08 ( 7.0365e-06 ) t_sim=  17.4531 sec\n"
     ]
    },
    {
     "name": "stdout",
     "output_type": "stream",
     "text": [
      "iter=46 : time= 2.875  Etot= -0.2452897632  Ekin= 0.233561   Epot= -0.47885 : de= -9.3056e-05 ( 9.91753e-05 ) d(de)= 7.41679e-08 ( 7.0365e-06 ) t_sim=  17.4531 sec\n"
     ]
    },
    {
     "name": "stderr",
     "output_type": "stream",
     "text": [
      "iter=47 : time= 2.9375  Etot= -0.2452900724  Ekin= 0.23358   Epot= -0.47887 : de= -9.17954e-05 ( 9.91753e-05 ) d(de)= 1.26075e-06 ( 7.0365e-06 ) t_sim=  17.7479 sec\n"
     ]
    },
    {
     "name": "stdout",
     "output_type": "stream",
     "text": [
      "iter=47 : time= 2.9375  Etot= -0.2452900724  Ekin= 0.23358   Epot= -0.47887 : de= -9.17954e-05 ( 9.91753e-05 ) d(de)= 1.26075e-06 ( 7.0365e-06 ) t_sim=  17.7479 sec\n"
     ]
    },
    {
     "name": "stderr",
     "output_type": "stream",
     "text": [
      "iter=48 : time= 3  Etot= -0.2452904526  Ekin= 0.233616   Epot= -0.478906 : de= -9.02454e-05 ( 9.91753e-05 ) d(de)= 1.55011e-06 ( 7.0365e-06 ) t_sim=  18.37 sec\n"
     ]
    },
    {
     "name": "stdout",
     "output_type": "stream",
     "text": [
      "iter=48 : time= 3  Etot= -0.2452904526  Ekin= 0.233616   Epot= -0.478906 : de= -9.02454e-05 ( 9.91753e-05 ) d(de)= 1.55011e-06 ( 7.0365e-06 ) t_sim=  18.37 sec\n"
     ]
    },
    {
     "name": "stderr",
     "output_type": "stream",
     "text": [
      "iter=49 : time= 3.0625  Etot= -0.2452901641  Ekin= 0.233668   Epot= -0.478958 : de= -9.14217e-05 ( 9.91753e-05 ) d(de)= -1.17639e-06 ( 7.0365e-06 ) t_sim=  18.662 sec\n"
     ]
    },
    {
     "name": "stdout",
     "output_type": "stream",
     "text": [
      "iter=49 : time= 3.0625  Etot= -0.2452901641  Ekin= 0.233668   Epot= -0.478958 : de= -9.14217e-05 ( 9.91753e-05 ) d(de)= -1.17639e-06 ( 7.0365e-06 ) t_sim=  18.662 sec\n"
     ]
    },
    {
     "name": "stderr",
     "output_type": "stream",
     "text": [
      "iter=50 : time= 3.125  Etot= -0.2452902243  Ekin= 0.233736   Epot= -0.479027 : de= -9.11764e-05 ( 9.91753e-05 ) d(de)= 2.45367e-07 ( 7.0365e-06 ) t_sim=  19.0621 sec\n"
     ]
    },
    {
     "name": "stdout",
     "output_type": "stream",
     "text": [
      "iter=50 : time= 3.125  Etot= -0.2452902243  Ekin= 0.233736   Epot= -0.479027 : de= -9.11764e-05 ( 9.91753e-05 ) d(de)= 2.45367e-07 ( 7.0365e-06 ) t_sim=  19.0621 sec\n"
     ]
    },
    {
     "name": "stderr",
     "output_type": "stream",
     "text": [
      "iter=51 : time= 3.1875  Etot= -0.2452908787  Ekin= 0.23382   Epot= -0.479111 : de= -8.85086e-05 ( 9.91753e-05 ) d(de)= 2.66805e-06 ( 7.0365e-06 ) t_sim=  19.6681 sec\n"
     ]
    },
    {
     "name": "stdout",
     "output_type": "stream",
     "text": [
      "iter=51 : time= 3.1875  Etot= -0.2452908787  Ekin= 0.23382   Epot= -0.479111 : de= -8.85086e-05 ( 9.91753e-05 ) d(de)= 2.66805e-06 ( 7.0365e-06 ) t_sim=  19.6681 sec\n"
     ]
    },
    {
     "name": "stderr",
     "output_type": "stream",
     "text": [
      "iter=52 : time= 3.25  Etot= -0.2452905957  Ekin= 0.233918   Epot= -0.479209 : de= -8.96624e-05 ( 9.91753e-05 ) d(de)= -1.15394e-06 ( 7.0365e-06 ) t_sim=  19.9388 sec\n"
     ]
    },
    {
     "name": "stdout",
     "output_type": "stream",
     "text": [
      "iter=52 : time= 3.25  Etot= -0.2452905957  Ekin= 0.233918   Epot= -0.479209 : de= -8.96624e-05 ( 9.91753e-05 ) d(de)= -1.15394e-06 ( 7.0365e-06 ) t_sim=  19.9387 sec\n"
     ]
    },
    {
     "name": "stderr",
     "output_type": "stream",
     "text": [
      "iter=53 : time= 3.3125  Etot= -0.2452910242  Ekin= 0.234029   Epot= -0.47932 : de= -8.79155e-05 ( 9.91753e-05 ) d(de)= 1.74706e-06 ( 7.0365e-06 ) t_sim=  20.7218 sec\n"
     ]
    },
    {
     "name": "stdout",
     "output_type": "stream",
     "text": [
      "iter=53 : time= 3.3125  Etot= -0.2452910242  Ekin= 0.234029   Epot= -0.47932 : de= -8.79155e-05 ( 9.91753e-05 ) d(de)= 1.74706e-06 ( 7.0365e-06 ) t_sim=  20.7218 sec\n"
     ]
    },
    {
     "name": "stderr",
     "output_type": "stream",
     "text": [
      "iter=54 : time= 3.375  Etot= -0.2452914599  Ekin= 0.234151   Epot= -0.479442 : de= -8.61394e-05 ( 9.91753e-05 ) d(de)= 1.7762e-06 ( 7.0365e-06 ) t_sim=  21.033 sec\n"
     ]
    },
    {
     "name": "stdout",
     "output_type": "stream",
     "text": [
      "iter=54 : time= 3.375  Etot= -0.2452914599  Ekin= 0.234151   Epot= -0.479442 : de= -8.61394e-05 ( 9.91753e-05 ) d(de)= 1.7762e-06 ( 7.0365e-06 ) t_sim=  21.033 sec\n"
     ]
    },
    {
     "name": "stderr",
     "output_type": "stream",
     "text": [
      "iter=55 : time= 3.4375  Etot= -0.2452919152  Ekin= 0.234282   Epot= -0.479573 : de= -8.42834e-05 ( 9.91753e-05 ) d(de)= 1.85625e-06 ( 7.0365e-06 ) t_sim=  21.3178 sec\n"
     ]
    },
    {
     "name": "stdout",
     "output_type": "stream",
     "text": [
      "iter=55 : time= 3.4375  Etot= -0.2452919152  Ekin= 0.234282   Epot= -0.479573 : de= -8.42834e-05 ( 9.91753e-05 ) d(de)= 1.85625e-06 ( 7.0365e-06 ) t_sim=  21.3178 sec\n"
     ]
    },
    {
     "name": "stderr",
     "output_type": "stream",
     "text": [
      "iter=56 : time= 3.5  Etot= -0.2452927229  Ekin= 0.234419   Epot= -0.479712 : de= -8.09907e-05 ( 9.91753e-05 ) d(de)= 3.29296e-06 ( 7.0365e-06 ) t_sim=  21.6073 sec\n"
     ]
    },
    {
     "name": "stdout",
     "output_type": "stream",
     "text": [
      "iter=56 : time= 3.5  Etot= -0.2452927229  Ekin= 0.234419   Epot= -0.479712 : de= -8.09907e-05 ( 9.91753e-05 ) d(de)= 3.29296e-06 ( 7.0365e-06 ) t_sim=  21.6073 sec\n"
     ]
    },
    {
     "name": "stderr",
     "output_type": "stream",
     "text": [
      "iter=57 : time= 3.5625  Etot= -0.2452931801  Ekin= 0.234561   Epot= -0.479855 : de= -7.9127e-05 ( 9.91753e-05 ) d(de)= 1.86385e-06 ( 7.0365e-06 ) t_sim=  21.8862 sec\n"
     ]
    },
    {
     "name": "stdout",
     "output_type": "stream",
     "text": [
      "iter=57 : time= 3.5625  Etot= -0.2452931801  Ekin= 0.234561   Epot= -0.479855 : de= -7.9127e-05 ( 9.91753e-05 ) d(de)= 1.86385e-06 ( 7.0365e-06 ) t_sim=  21.8862 sec\n"
     ]
    },
    {
     "name": "stderr",
     "output_type": "stream",
     "text": [
      "iter=58 : time= 3.625  Etot= -0.2452930475  Ekin= 0.234707   Epot= -0.48 : de= -7.96676e-05 ( 9.91753e-05 ) d(de)= -5.4064e-07 ( 7.0365e-06 ) t_sim=  22.9502 sec\n"
     ]
    },
    {
     "name": "stdout",
     "output_type": "stream",
     "text": [
      "iter=58 : time= 3.625  Etot= -0.2452930475  Ekin= 0.234707   Epot= -0.48 : de= -7.96676e-05 ( 9.91753e-05 ) d(de)= -5.4064e-07 ( 7.0365e-06 ) t_sim=  22.9501 sec\n"
     ]
    },
    {
     "name": "stderr",
     "output_type": "stream",
     "text": [
      "iter=59 : time= 3.6875  Etot= -0.245293527  Ekin= 0.234856   Epot= -0.480149 : de= -7.77129e-05 ( 9.91753e-05 ) d(de)= 1.95486e-06 ( 7.0365e-06 ) t_sim=  27.484 sec\n"
     ]
    },
    {
     "name": "stdout",
     "output_type": "stream",
     "text": [
      "iter=59 : time= 3.6875  Etot= -0.245293527  Ekin= 0.234856   Epot= -0.480149 : de= -7.77129e-05 ( 9.91753e-05 ) d(de)= 1.95486e-06 ( 7.0365e-06 ) t_sim=  27.484 sec\n"
     ]
    },
    {
     "name": "stderr",
     "output_type": "stream",
     "text": [
      "iter=60 : time= 3.75  Etot= -0.2452939046  Ekin= 0.235006   Epot= -0.480299 : de= -7.61737e-05 ( 9.91753e-05 ) d(de)= 1.5393e-06 ( 7.0365e-06 ) t_sim=  27.7638 sec\n"
     ]
    },
    {
     "name": "stdout",
     "output_type": "stream",
     "text": [
      "iter=60 : time= 3.75  Etot= -0.2452939046  Ekin= 0.235006   Epot= -0.480299 : de= -7.61737e-05 ( 9.91753e-05 ) d(de)= 1.5393e-06 ( 7.0365e-06 ) t_sim=  27.7638 sec\n"
     ]
    },
    {
     "name": "stderr",
     "output_type": "stream",
     "text": [
      "iter=61 : time= 3.8125  Etot= -0.2452943114  Ekin= 0.235156   Epot= -0.48045 : de= -7.45153e-05 ( 9.91753e-05 ) d(de)= 1.65855e-06 ( 7.0365e-06 ) t_sim=  29.3448 sec\n"
     ]
    },
    {
     "name": "stdout",
     "output_type": "stream",
     "text": [
      "iter=61 : time= 3.8125  Etot= -0.2452943114  Ekin= 0.235156   Epot= -0.48045 : de= -7.45153e-05 ( 9.91753e-05 ) d(de)= 1.65855e-06 ( 7.0365e-06 ) t_sim=  29.3448 sec\n"
     ]
    },
    {
     "name": "stderr",
     "output_type": "stream",
     "text": [
      "iter=62 : time= 3.875  Etot= -0.2452940423  Ekin= 0.235305   Epot= -0.480599 : de= -7.56124e-05 ( 9.91753e-05 ) d(de)= -1.09723e-06 ( 7.0365e-06 ) t_sim=  29.6362 sec\n"
     ]
    },
    {
     "name": "stdout",
     "output_type": "stream",
     "text": [
      "iter=62 : time= 3.875  Etot= -0.2452940423  Ekin= 0.235305   Epot= -0.480599 : de= -7.56124e-05 ( 9.91753e-05 ) d(de)= -1.09723e-06 ( 7.0365e-06 ) t_sim=  29.6362 sec\n"
     ]
    },
    {
     "name": "stderr",
     "output_type": "stream",
     "text": [
      "iter=63 : time= 3.9375  Etot= -0.2452938074  Ekin= 0.235452   Epot= -0.480746 : de= -7.65698e-05 ( 9.91753e-05 ) d(de)= -9.57429e-07 ( 7.0365e-06 ) t_sim=  30.1973 sec\n"
     ]
    },
    {
     "name": "stdout",
     "output_type": "stream",
     "text": [
      "iter=63 : time= 3.9375  Etot= -0.2452938074  Ekin= 0.235452   Epot= -0.480746 : de= -7.65698e-05 ( 9.91753e-05 ) d(de)= -9.57429e-07 ( 7.0365e-06 ) t_sim=  30.1973 sec\n"
     ]
    },
    {
     "name": "stderr",
     "output_type": "stream",
     "text": [
      "iter=64 : time= 4  Etot= -0.2452940304  Ekin= 0.235597   Epot= -0.480891 : de= -7.56607e-05 ( 9.91753e-05 ) d(de)= 9.0913e-07 ( 7.0365e-06 ) t_sim=  32.6037 sec\n"
     ]
    },
    {
     "name": "stdout",
     "output_type": "stream",
     "text": [
      "iter=64 : time= 4  Etot= -0.2452940304  Ekin= 0.235597   Epot= -0.480891 : de= -7.56607e-05 ( 9.91753e-05 ) d(de)= 9.0913e-07 ( 7.0365e-06 ) t_sim=  32.6037 sec\n"
     ]
    },
    {
     "name": "stderr",
     "output_type": "stream",
     "text": [
      "iter=65 : time= 4.0625  Etot= -0.2452935846  Ekin= 0.23574   Epot= -0.481034 : de= -7.74782e-05 ( 9.91753e-05 ) d(de)= -1.81768e-06 ( 7.0365e-06 ) t_sim=  32.8784 sec\n"
     ]
    },
    {
     "name": "stdout",
     "output_type": "stream",
     "text": [
      "iter=65 : time= 4.0625  Etot= -0.2452935846  Ekin= 0.23574   Epot= -0.481034 : de= -7.74782e-05 ( 9.91753e-05 ) d(de)= -1.81768e-06 ( 7.0365e-06 ) t_sim=  32.8784 sec\n"
     ]
    },
    {
     "name": "stderr",
     "output_type": "stream",
     "text": [
      "iter=66 : time= 4.125  Etot= -0.2452939726  Ekin= 0.235881   Epot= -0.481175 : de= -7.58964e-05 ( 9.91753e-05 ) d(de)= 1.58199e-06 ( 7.0365e-06 ) t_sim=  33.3469 sec\n"
     ]
    },
    {
     "name": "stdout",
     "output_type": "stream",
     "text": [
      "iter=66 : time= 4.125  Etot= -0.2452939726  Ekin= 0.235881   Epot= -0.481175 : de= -7.58964e-05 ( 9.91753e-05 ) d(de)= 1.58199e-06 ( 7.0365e-06 ) t_sim=  33.3469 sec\n"
     ]
    },
    {
     "name": "stderr",
     "output_type": "stream",
     "text": [
      "iter=67 : time= 4.1875  Etot= -0.2452948222  Ekin= 0.236022   Epot= -0.481317 : de= -7.24331e-05 ( 9.91753e-05 ) d(de)= 3.46355e-06 ( 7.0365e-06 ) t_sim=  34.1412 sec\n"
     ]
    },
    {
     "name": "stdout",
     "output_type": "stream",
     "text": [
      "iter=67 : time= 4.1875  Etot= -0.2452948222  Ekin= 0.236022   Epot= -0.481317 : de= -7.24331e-05 ( 9.91753e-05 ) d(de)= 3.46355e-06 ( 7.0365e-06 ) t_sim=  34.1412 sec\n"
     ]
    },
    {
     "name": "stderr",
     "output_type": "stream",
     "text": [
      "iter=68 : time= 4.25  Etot= -0.2452949331  Ekin= 0.236162   Epot= -0.481457 : de= -7.19812e-05 ( 9.91753e-05 ) d(de)= 4.51926e-07 ( 7.0365e-06 ) t_sim=  35.1303 sec\n"
     ]
    },
    {
     "name": "stdout",
     "output_type": "stream",
     "text": [
      "iter=68 : time= 4.25  Etot= -0.2452949331  Ekin= 0.236162   Epot= -0.481457 : de= -7.19812e-05 ( 9.91753e-05 ) d(de)= 4.51926e-07 ( 7.0365e-06 ) t_sim=  35.1302 sec\n"
     ]
    },
    {
     "name": "stderr",
     "output_type": "stream",
     "text": [
      "iter=69 : time= 4.3125  Etot= -0.2452952489  Ekin= 0.236302   Epot= -0.481598 : de= -7.06938e-05 ( 9.91753e-05 ) d(de)= 1.28746e-06 ( 7.0365e-06 ) t_sim=  40.1062 sec\n"
     ]
    },
    {
     "name": "stdout",
     "output_type": "stream",
     "text": [
      "iter=69 : time= 4.3125  Etot= -0.2452952489  Ekin= 0.236302   Epot= -0.481598 : de= -7.06938e-05 ( 9.91753e-05 ) d(de)= 1.28746e-06 ( 7.0365e-06 ) t_sim=  40.1062 sec\n"
     ]
    },
    {
     "name": "stderr",
     "output_type": "stream",
     "text": [
      "iter=70 : time= 4.375  Etot= -0.2452956349  Ekin= 0.236442   Epot= -0.481738 : de= -6.91202e-05 ( 9.91753e-05 ) d(de)= 1.57376e-06 ( 7.0365e-06 ) t_sim=  40.4105 sec\n"
     ]
    },
    {
     "name": "stdout",
     "output_type": "stream",
     "text": [
      "iter=70 : time= 4.375  Etot= -0.2452956349  Ekin= 0.236442   Epot= -0.481738 : de= -6.91202e-05 ( 9.91753e-05 ) d(de)= 1.57376e-06 ( 7.0365e-06 ) t_sim=  40.4104 sec\n"
     ]
    },
    {
     "name": "stderr",
     "output_type": "stream",
     "text": [
      "iter=71 : time= 4.4375  Etot= -0.2452958107  Ekin= 0.23658   Epot= -0.481876 : de= -6.84036e-05 ( 9.91753e-05 ) d(de)= 7.16667e-07 ( 7.0365e-06 ) t_sim=  40.8813 sec\n"
     ]
    },
    {
     "name": "stdout",
     "output_type": "stream",
     "text": [
      "iter=71 : time= 4.4375  Etot= -0.2452958107  Ekin= 0.23658   Epot= -0.481876 : de= -6.84036e-05 ( 9.91753e-05 ) d(de)= 7.16667e-07 ( 7.0365e-06 ) t_sim=  40.8813 sec\n"
     ]
    },
    {
     "name": "stderr",
     "output_type": "stream",
     "text": [
      "iter=72 : time= 4.5  Etot= -0.2452960025  Ekin= 0.236716   Epot= -0.482012 : de= -6.76216e-05 ( 9.91753e-05 ) d(de)= 7.82022e-07 ( 7.0365e-06 ) t_sim=  44.6211 sec\n"
     ]
    },
    {
     "name": "stdout",
     "output_type": "stream",
     "text": [
      "iter=72 : time= 4.5  Etot= -0.2452960025  Ekin= 0.236716   Epot= -0.482012 : de= -6.76216e-05 ( 9.91753e-05 ) d(de)= 7.82022e-07 ( 7.0365e-06 ) t_sim=  44.6211 sec\n"
     ]
    },
    {
     "name": "stderr",
     "output_type": "stream",
     "text": [
      "iter=73 : time= 4.5625  Etot= -0.2452961079  Ekin= 0.236847   Epot= -0.482144 : de= -6.71921e-05 ( 9.91753e-05 ) d(de)= 4.29497e-07 ( 7.0365e-06 ) t_sim=  44.8921 sec\n"
     ]
    },
    {
     "name": "stdout",
     "output_type": "stream",
     "text": [
      "iter=73 : time= 4.5625  Etot= -0.2452961079  Ekin= 0.236847   Epot= -0.482144 : de= -6.71921e-05 ( 9.91753e-05 ) d(de)= 4.29497e-07 ( 7.0365e-06 ) t_sim=  44.8921 sec\n"
     ]
    },
    {
     "name": "stderr",
     "output_type": "stream",
     "text": [
      "iter=74 : time= 4.625  Etot= -0.2452965875  Ekin= 0.236974   Epot= -0.48227 : de= -6.52368e-05 ( 9.91753e-05 ) d(de)= 1.95541e-06 ( 7.0365e-06 ) t_sim=  45.174 sec\n"
     ]
    },
    {
     "name": "stdout",
     "output_type": "stream",
     "text": [
      "iter=74 : time= 4.625  Etot= -0.2452965875  Ekin= 0.236974   Epot= -0.48227 : de= -6.52368e-05 ( 9.91753e-05 ) d(de)= 1.95541e-06 ( 7.0365e-06 ) t_sim=  45.174 sec\n"
     ]
    },
    {
     "name": "stderr",
     "output_type": "stream",
     "text": [
      "iter=75 : time= 4.6875  Etot= -0.2452961005  Ekin= 0.237094   Epot= -0.48239 : de= -6.72221e-05 ( 9.91753e-05 ) d(de)= -1.98536e-06 ( 7.0365e-06 ) t_sim=  47.894 sec\n"
     ]
    },
    {
     "name": "stdout",
     "output_type": "stream",
     "text": [
      "iter=75 : time= 4.6875  Etot= -0.2452961005  Ekin= 0.237094   Epot= -0.48239 : de= -6.72221e-05 ( 9.91753e-05 ) d(de)= -1.98536e-06 ( 7.0365e-06 ) t_sim=  47.894 sec\n"
     ]
    },
    {
     "name": "stderr",
     "output_type": "stream",
     "text": [
      "iter=76 : time= 4.75  Etot= -0.245296156  Ekin= 0.237207   Epot= -0.482503 : de= -6.69961e-05 ( 9.91753e-05 ) d(de)= 2.25975e-07 ( 7.0365e-06 ) t_sim=  48.1922 sec\n"
     ]
    },
    {
     "name": "stdout",
     "output_type": "stream",
     "text": [
      "iter=76 : time= 4.75  Etot= -0.245296156  Ekin= 0.237207   Epot= -0.482503 : de= -6.69961e-05 ( 9.91753e-05 ) d(de)= 2.25975e-07 ( 7.0365e-06 ) t_sim=  48.1922 sec\n"
     ]
    },
    {
     "name": "stderr",
     "output_type": "stream",
     "text": [
      "iter=77 : time= 4.8125  Etot= -0.2452962699  Ekin= 0.237313   Epot= -0.482609 : de= -6.65319e-05 ( 9.91753e-05 ) d(de)= 4.64289e-07 ( 7.0365e-06 ) t_sim=  48.4509 sec\n"
     ]
    },
    {
     "name": "stdout",
     "output_type": "stream",
     "text": [
      "iter=77 : time= 4.8125  Etot= -0.2452962699  Ekin= 0.237313   Epot= -0.482609 : de= -6.65319e-05 ( 9.91753e-05 ) d(de)= 4.64289e-07 ( 7.0365e-06 ) t_sim=  48.4508 sec\n"
     ]
    },
    {
     "name": "stderr",
     "output_type": "stream",
     "text": [
      "iter=78 : time= 4.875  Etot= -0.2452958985  Ekin= 0.237411   Epot= -0.482707 : de= -6.80458e-05 ( 9.91753e-05 ) d(de)= -1.51407e-06 ( 7.0365e-06 ) t_sim=  52.2444 sec\n"
     ]
    },
    {
     "name": "stdout",
     "output_type": "stream",
     "text": [
      "iter=78 : time= 4.875  Etot= -0.2452958985  Ekin= 0.237411   Epot= -0.482707 : de= -6.80458e-05 ( 9.91753e-05 ) d(de)= -1.51407e-06 ( 7.0365e-06 ) t_sim=  52.2443 sec\n"
     ]
    },
    {
     "name": "stderr",
     "output_type": "stream",
     "text": [
      "iter=79 : time= 4.9375  Etot= -0.2452957619  Ekin= 0.237501   Epot= -0.482796 : de= -6.86027e-05 ( 9.91753e-05 ) d(de)= -5.56946e-07 ( 7.0365e-06 ) t_sim=  52.5104 sec\n"
     ]
    },
    {
     "name": "stdout",
     "output_type": "stream",
     "text": [
      "iter=79 : time= 4.9375  Etot= -0.2452957619  Ekin= 0.237501   Epot= -0.482796 : de= -6.86027e-05 ( 9.91753e-05 ) d(de)= -5.56946e-07 ( 7.0365e-06 ) t_sim=  52.5104 sec\n"
     ]
    },
    {
     "name": "stderr",
     "output_type": "stream",
     "text": [
      "iter=80 : time= 5  Etot= -0.2452963334  Ekin= 0.237581   Epot= -0.482877 : de= -6.62728e-05 ( 9.91753e-05 ) d(de)= 2.33005e-06 ( 7.0365e-06 ) t_sim=  53.0736 sec\n"
     ]
    },
    {
     "name": "stdout",
     "output_type": "stream",
     "text": [
      "iter=80 : time= 5  Etot= -0.2452963334  Ekin= 0.237581   Epot= -0.482877 : de= -6.62728e-05 ( 9.91753e-05 ) d(de)= 2.33005e-06 ( 7.0365e-06 ) t_sim=  53.0736 sec\n"
     ]
    },
    {
     "name": "stderr",
     "output_type": "stream",
     "text": [
      "iter=80 : time= 5  Etot= -0.2452963334  Ekin= 0.237581   Epot= -0.482877 : de= -6.62728e-05 ( 9.91753e-05 ) d(de)= -0 ( 7.0365e-06 ) t_sim=  55.5957 sec\n"
     ]
    },
    {
     "name": "stdout",
     "output_type": "stream",
     "text": [
      "iter=80 : time= 5  Etot= -0.2452963334  Ekin= 0.237581   Epot= -0.482877 : de= -6.62728e-05 ( 9.91753e-05 ) d(de)= -0 ( 7.0365e-06 ) t_sim=  55.5957 sec\n",
      "../Bonsai/build/bonsai2_slowdust   --plummer 10000000 --snapname data/plummer_snap_mpi --snapiter 0.0625 -T 5 -dt 0.0625 --eps 0.05\n"
     ]
    },
    {
     "name": "stderr",
     "output_type": "stream",
     "text": [
      " Unknown ENV_VARIABLE:   -- Falling to basic forking method after MPI_Init, unsafe!\n",
      "Proc id: 0 @ Default , total processes: 1 (mpiInit) \n",
      "[INIT]\tUsed settings: \n",
      "[INIT]\tInput  filename \n",
      "[INIT]\tBonsai filename \n",
      "[INIT]\tLog filename gpuLog.log\n",
      "[INIT]\tTheta: \t\t0.75\t\teps: \t\t0.05\n",
      "[INIT]\tTimestep: \t0.0625\t\ttEnd: \t\t5\n",
      "[INIT]\titerEnd: \t1073741824\n",
      "[INIT]\tUse MPI-IO: \tNO\n",
      "[INIT]\tsnapshotFile: \tdata/plummer_snap_mpi\tsnapshotIter: \t0.0625\n",
      "[INIT]\tInput file: \t\t\tdevID: \t\t0\n",
      "[INIT]\tRemove dist: \t-1\n",
      "[INIT]\tRebuild tree every 1 timestep\n",
      "[INIT]\tRuntime logging is DISABLED \n",
      "[INIT]\tDirect gravitation is DISABLED\n",
      "[INIT]\tCode is built WITHOUT MPI Support \n"
     ]
    },
    {
     "name": "stdout",
     "output_type": "stream",
     "text": [
      "Using Plummer model with n= 10000000 per process \n",
      "................................................................"
     ]
    },
    {
     "name": "stderr",
     "output_type": "stream",
     "text": [
      "Proc: 0 Bootup times: Tree/MPI: 0.185619 Threads/log: 9.08375e-05 IC-model: 0 \n",
      " Start iterating\n",
      "STARTING UP!!!\n"
     ]
    },
    {
     "name": "stdout",
     "output_type": "stream",
     "text": [
      "\n"
     ]
    },
    {
     "name": "stderr",
     "output_type": "stream",
     "text": [
      "iter=0 : time= 0  Etot= -0.2457532316  Ekin= 0.250025   Epot= -0.495778 : de= -0 ( 0 ) d(de)= -0 ( 0 ) t_sim=  2.21729e-05 sec\n"
     ]
    },
    {
     "name": "stdout",
     "output_type": "stream",
     "text": [
      "iter=0 : time= 0  Etot= -0.2457532316  Ekin= 0.250025   Epot= -0.495778 : de= -0 ( 0 ) d(de)= -0 ( 0 ) t_sim=  1.19209e-06 sec\n"
     ]
    },
    {
     "name": "stderr",
     "output_type": "stream",
     "text": [
      "iter=1 : time= 0.0625  Etot= -0.245753235  Ekin= 0.249978   Epot= -0.495731 : de= 1.397e-08 ( 1.397e-08 ) d(de)= 1.397e-08 ( 1.397e-08 ) t_sim=  8.08991 sec\n"
     ]
    },
    {
     "name": "stdout",
     "output_type": "stream",
     "text": [
      "iter=1 : time= 0.0625  Etot= -0.245753235  Ekin= 0.249978   Epot= -0.495731 : de= 1.397e-08 ( 1.397e-08 ) d(de)= 1.397e-08 ( 1.397e-08 ) t_sim=  8.08988 sec\n"
     ]
    },
    {
     "name": "stderr",
     "output_type": "stream",
     "text": [
      "iter=2 : time= 0.125  Etot= -0.2457525588  Ekin= 0.24984   Epot= -0.495593 : de= -2.7376e-06 ( 2.7376e-06 ) d(de)= -2.75157e-06 ( 2.75157e-06 ) t_sim=  18.1959 sec\n"
     ]
    },
    {
     "name": "stdout",
     "output_type": "stream",
     "text": [
      "iter=2 : time= 0.125  Etot= -0.2457525588  Ekin= 0.24984   Epot= -0.495593 : de= -2.7376e-06 ( 2.7376e-06 ) d(de)= -2.75157e-06 ( 2.75157e-06 ) t_sim=  18.1959 sec\n"
     ]
    },
    {
     "name": "stderr",
     "output_type": "stream",
     "text": [
      "iter=3 : time= 0.1875  Etot= -0.2457517273  Ekin= 0.249616   Epot= -0.495368 : de= -6.1209e-06 ( 6.1209e-06 ) d(de)= -3.3833e-06 ( 3.3833e-06 ) t_sim=  31.809 sec\n"
     ]
    },
    {
     "name": "stdout",
     "output_type": "stream",
     "text": [
      "iter=3 : time= 0.1875  Etot= -0.2457517273  Ekin= 0.249616   Epot= -0.495368 : de= -6.1209e-06 ( 6.1209e-06 ) d(de)= -3.3833e-06 ( 3.3833e-06 ) t_sim=  31.809 sec\n"
     ]
    },
    {
     "name": "stderr",
     "output_type": "stream",
     "text": [
      "iter=4 : time= 0.25  Etot= -0.2457506138  Ekin= 0.249314   Epot= -0.495065 : de= -1.06521e-05 ( 1.06521e-05 ) d(de)= -4.53122e-06 ( 4.53122e-06 ) t_sim=  42.4946 sec\n"
     ]
    },
    {
     "name": "stdout",
     "output_type": "stream",
     "text": [
      "iter=4 : time= 0.25  Etot= -0.2457506138  Ekin= 0.249314   Epot= -0.495065 : de= -1.06521e-05 ( 1.06521e-05 ) d(de)= -4.53122e-06 ( 4.53122e-06 ) t_sim=  42.4946 sec\n"
     ]
    },
    {
     "name": "stderr",
     "output_type": "stream",
     "text": [
      "iter=5 : time= 0.3125  Etot= -0.2457492256  Ekin= 0.248943   Epot= -0.494693 : de= -1.63007e-05 ( 1.63007e-05 ) d(de)= -5.64871e-06 ( 5.64871e-06 ) t_sim=  56.3134 sec\n"
     ]
    },
    {
     "name": "stdout",
     "output_type": "stream",
     "text": [
      "iter=5 : time= 0.3125  Etot= -0.2457492256  Ekin= 0.248943   Epot= -0.494693 : de= -1.63007e-05 ( 1.63007e-05 ) d(de)= -5.64871e-06 ( 5.64871e-06 ) t_sim=  56.3134 sec\n"
     ]
    },
    {
     "name": "stderr",
     "output_type": "stream",
     "text": [
      "iter=6 : time= 0.375  Etot= -0.245747818  Ekin= 0.248514   Epot= -0.494262 : de= -2.20286e-05 ( 2.20286e-05 ) d(de)= -5.72798e-06 ( 5.72798e-06 ) t_sim=  69.4233 sec\n"
     ]
    },
    {
     "name": "stdout",
     "output_type": "stream",
     "text": [
      "iter=6 : time= 0.375  Etot= -0.245747818  Ekin= 0.248514   Epot= -0.494262 : de= -2.20286e-05 ( 2.20286e-05 ) d(de)= -5.72798e-06 ( 5.72798e-06 ) t_sim=  69.4232 sec\n"
     ]
    },
    {
     "name": "stderr",
     "output_type": "stream",
     "text": [
      "iter=7 : time= 0.4375  Etot= -0.2457464668  Ekin= 0.248036   Epot= -0.493783 : de= -2.75266e-05 ( 2.75266e-05 ) d(de)= -5.49812e-06 ( 5.72798e-06 ) t_sim=  80.9045 sec\n"
     ]
    },
    {
     "name": "stdout",
     "output_type": "stream",
     "text": [
      "iter=7 : time= 0.4375  Etot= -0.2457464668  Ekin= 0.248036   Epot= -0.493783 : de= -2.75266e-05 ( 2.75266e-05 ) d(de)= -5.49812e-06 ( 5.72798e-06 ) t_sim=  80.9044 sec\n"
     ]
    },
    {
     "name": "stderr",
     "output_type": "stream",
     "text": [
      "iter=8 : time= 0.5  Etot= -0.2457449331  Ekin= 0.247519   Epot= -0.493264 : de= -3.37676e-05 ( 3.37676e-05 ) d(de)= -6.24114e-06 ( 6.24114e-06 ) t_sim=  93.1319 sec\n"
     ]
    },
    {
     "name": "stdout",
     "output_type": "stream",
     "text": [
      "iter=8 : time= 0.5  Etot= -0.2457449331  Ekin= 0.247519   Epot= -0.493264 : de= -3.37676e-05 ( 3.37676e-05 ) d(de)= -6.24114e-06 ( 6.24114e-06 ) t_sim=  93.1319 sec\n"
     ]
    },
    {
     "name": "stderr",
     "output_type": "stream",
     "text": [
      "iter=9 : time= 0.5625  Etot= -0.2457437722  Ekin= 0.246971   Epot= -0.492715 : de= -3.84916e-05 ( 3.84916e-05 ) d(de)= -4.72414e-06 ( 6.24114e-06 ) t_sim=  105.771 sec\n"
     ]
    },
    {
     "name": "stdout",
     "output_type": "stream",
     "text": [
      "iter=9 : time= 0.5625  Etot= -0.2457437722  Ekin= 0.246971   Epot= -0.492715 : de= -3.84916e-05 ( 3.84916e-05 ) d(de)= -4.72414e-06 ( 6.24114e-06 ) t_sim=  105.771 sec\n"
     ]
    },
    {
     "name": "stderr",
     "output_type": "stream",
     "text": [
      "iter=10 : time= 0.625  Etot= -0.2457425278  Ekin= 0.246401   Epot= -0.492143 : de= -4.3555e-05 ( 4.3555e-05 ) d(de)= -5.06365e-06 ( 6.24114e-06 ) t_sim=  117.154 sec\n"
     ]
    },
    {
     "name": "stdout",
     "output_type": "stream",
     "text": [
      "iter=10 : time= 0.625  Etot= -0.2457425278  Ekin= 0.246401   Epot= -0.492143 : de= -4.3555e-05 ( 4.3555e-05 ) d(de)= -5.06365e-06 ( 6.24114e-06 ) t_sim=  117.154 sec\n"
     ]
    },
    {
     "name": "stderr",
     "output_type": "stream",
     "text": [
      "iter=11 : time= 0.6875  Etot= -0.2457415903  Ekin= 0.245814   Epot= -0.491555 : de= -4.73698e-05 ( 4.73698e-05 ) d(de)= -3.81494e-06 ( 6.24114e-06 ) t_sim=  131.189 sec\n"
     ]
    },
    {
     "name": "stdout",
     "output_type": "stream",
     "text": [
      "iter=11 : time= 0.6875  Etot= -0.2457415903  Ekin= 0.245814   Epot= -0.491555 : de= -4.73698e-05 ( 4.73698e-05 ) d(de)= -3.81494e-06 ( 6.24114e-06 ) t_sim=  131.189 sec\n"
     ]
    },
    {
     "name": "stderr",
     "output_type": "stream",
     "text": [
      "iter=12 : time= 0.75  Etot= -0.2457405959  Ekin= 0.245216   Epot= -0.490957 : de= -5.1416e-05 ( 5.1416e-05 ) d(de)= -4.04637e-06 ( 6.24114e-06 ) t_sim=  143.666 sec\n"
     ]
    },
    {
     "name": "stdout",
     "output_type": "stream",
     "text": [
      "iter=12 : time= 0.75  Etot= -0.2457405959  Ekin= 0.245216   Epot= -0.490957 : de= -5.1416e-05 ( 5.1416e-05 ) d(de)= -4.04637e-06 ( 6.24114e-06 ) t_sim=  143.666 sec\n"
     ]
    },
    {
     "name": "stderr",
     "output_type": "stream",
     "text": [
      "iter=13 : time= 0.8125  Etot= -0.2457397041  Ekin= 0.244612   Epot= -0.490352 : de= -5.50449e-05 ( 5.50449e-05 ) d(de)= -3.62906e-06 ( 6.24114e-06 ) t_sim=  155.687 sec\n"
     ]
    },
    {
     "name": "stdout",
     "output_type": "stream",
     "text": [
      "iter=13 : time= 0.8125  Etot= -0.2457397041  Ekin= 0.244612   Epot= -0.490352 : de= -5.50449e-05 ( 5.50449e-05 ) d(de)= -3.62906e-06 ( 6.24114e-06 ) t_sim=  155.687 sec\n"
     ]
    },
    {
     "name": "stderr",
     "output_type": "stream",
     "text": [
      "iter=14 : time= 0.875  Etot= -0.2457386755  Ekin= 0.244006   Epot= -0.489745 : de= -5.92306e-05 ( 5.92306e-05 ) d(de)= -4.18602e-06 ( 6.24114e-06 ) t_sim=  167.419 sec\n"
     ]
    },
    {
     "name": "stdout",
     "output_type": "stream",
     "text": [
      "iter=14 : time= 0.875  Etot= -0.2457386755  Ekin= 0.244006   Epot= -0.489745 : de= -5.92306e-05 ( 5.92306e-05 ) d(de)= -4.18602e-06 ( 6.24114e-06 ) t_sim=  167.419 sec\n"
     ]
    },
    {
     "name": "stderr",
     "output_type": "stream",
     "text": [
      "iter=15 : time= 0.9375  Etot= -0.2457380754  Ekin= 0.243402   Epot= -0.48914 : de= -6.16723e-05 ( 6.16723e-05 ) d(de)= -2.44176e-06 ( 6.24114e-06 ) t_sim=  179.407 sec\n"
     ]
    },
    {
     "name": "stdout",
     "output_type": "stream",
     "text": [
      "iter=15 : time= 0.9375  Etot= -0.2457380754  Ekin= 0.243402   Epot= -0.48914 : de= -6.16723e-05 ( 6.16723e-05 ) d(de)= -2.44176e-06 ( 6.24114e-06 ) t_sim=  179.407 sec\n"
     ]
    },
    {
     "name": "stderr",
     "output_type": "stream",
     "text": [
      "iter=16 : time= 1  Etot= -0.2457372525  Ekin= 0.242803   Epot= -0.48854 : de= -6.50208e-05 ( 6.50208e-05 ) d(de)= -3.34874e-06 ( 6.24114e-06 ) t_sim=  191.227 sec\n"
     ]
    },
    {
     "name": "stdout",
     "output_type": "stream",
     "text": [
      "iter=16 : time= 1  Etot= -0.2457372525  Ekin= 0.242803   Epot= -0.48854 : de= -6.50208e-05 ( 6.50208e-05 ) d(de)= -3.34874e-06 ( 6.24114e-06 ) t_sim=  191.227 sec\n"
     ]
    },
    {
     "name": "stderr",
     "output_type": "stream",
     "text": [
      "iter=17 : time= 1.0625  Etot= -0.2457366043  Ekin= 0.24221   Epot= -0.487947 : de= -6.76583e-05 ( 6.76583e-05 ) d(de)= -2.63773e-06 ( 6.24114e-06 ) t_sim=  202.601 sec\n"
     ]
    },
    {
     "name": "stdout",
     "output_type": "stream",
     "text": [
      "iter=17 : time= 1.0625  Etot= -0.2457366043  Ekin= 0.24221   Epot= -0.487947 : de= -6.76583e-05 ( 6.76583e-05 ) d(de)= -2.63773e-06 ( 6.24114e-06 ) t_sim=  202.601 sec\n"
     ]
    },
    {
     "name": "stderr",
     "output_type": "stream",
     "text": [
      "iter=18 : time= 1.125  Etot= -0.2457359057  Ekin= 0.241627   Epot= -0.487363 : de= -7.05011e-05 ( 7.05011e-05 ) d(de)= -2.84292e-06 ( 6.24114e-06 ) t_sim=  215.575 sec\n"
     ]
    },
    {
     "name": "stdout",
     "output_type": "stream",
     "text": [
      "iter=18 : time= 1.125  Etot= -0.2457359057  Ekin= 0.241627   Epot= -0.487363 : de= -7.05011e-05 ( 7.05011e-05 ) d(de)= -2.84292e-06 ( 6.24114e-06 ) t_sim=  215.575 sec\n"
     ]
    },
    {
     "name": "stderr",
     "output_type": "stream",
     "text": [
      "iter=19 : time= 1.1875  Etot= -0.2457353679  Ekin= 0.241056   Epot= -0.486791 : de= -7.26893e-05 ( 7.26893e-05 ) d(de)= -2.18841e-06 ( 6.24114e-06 ) t_sim=  227.71 sec\n"
     ]
    },
    {
     "name": "stdout",
     "output_type": "stream",
     "text": [
      "iter=19 : time= 1.1875  Etot= -0.2457353679  Ekin= 0.241056   Epot= -0.486791 : de= -7.26893e-05 ( 7.26893e-05 ) d(de)= -2.18841e-06 ( 6.24114e-06 ) t_sim=  227.71 sec\n"
     ]
    },
    {
     "name": "stderr",
     "output_type": "stream",
     "text": [
      "iter=20 : time= 1.25  Etot= -0.2457346775  Ekin= 0.240498   Epot= -0.486233 : de= -7.54987e-05 ( 7.54987e-05 ) d(de)= -2.80954e-06 ( 6.24114e-06 ) t_sim=  240.099 sec\n"
     ]
    },
    {
     "name": "stdout",
     "output_type": "stream",
     "text": [
      "iter=20 : time= 1.25  Etot= -0.2457346775  Ekin= 0.240498   Epot= -0.486233 : de= -7.54987e-05 ( 7.54987e-05 ) d(de)= -2.80954e-06 ( 6.24114e-06 ) t_sim=  240.099 sec\n"
     ]
    },
    {
     "name": "stderr",
     "output_type": "stream",
     "text": [
      "iter=21 : time= 1.3125  Etot= -0.2457341626  Ekin= 0.239956   Epot= -0.485691 : de= -7.75939e-05 ( 7.75939e-05 ) d(de)= -2.09542e-06 ( 6.24114e-06 ) t_sim=  252.131 sec\n"
     ]
    },
    {
     "name": "stdout",
     "output_type": "stream",
     "text": [
      "iter=21 : time= 1.3125  Etot= -0.2457341626  Ekin= 0.239956   Epot= -0.485691 : de= -7.75939e-05 ( 7.75939e-05 ) d(de)= -2.09542e-06 ( 6.24114e-06 ) t_sim=  252.131 sec\n"
     ]
    },
    {
     "name": "stderr",
     "output_type": "stream",
     "text": [
      "iter=22 : time= 1.375  Etot= -0.2457336637  Ekin= 0.239432   Epot= -0.485165 : de= -7.96243e-05 ( 7.96243e-05 ) d(de)= -2.03053e-06 ( 6.24114e-06 ) t_sim=  263.927 sec\n"
     ]
    },
    {
     "name": "stdout",
     "output_type": "stream",
     "text": [
      "iter=22 : time= 1.375  Etot= -0.2457336637  Ekin= 0.239432   Epot= -0.485165 : de= -7.96243e-05 ( 7.96243e-05 ) d(de)= -2.03053e-06 ( 6.24114e-06 ) t_sim=  263.927 sec\n"
     ]
    },
    {
     "name": "stderr",
     "output_type": "stream",
     "text": [
      "iter=23 : time= 1.4375  Etot= -0.2457331213  Ekin= 0.238926   Epot= -0.484659 : de= -8.18311e-05 ( 8.18311e-05 ) d(de)= -2.20695e-06 ( 6.24114e-06 ) t_sim=  275.82 sec\n"
     ]
    },
    {
     "name": "stdout",
     "output_type": "stream",
     "text": [
      "iter=23 : time= 1.4375  Etot= -0.2457331213  Ekin= 0.238926   Epot= -0.484659 : de= -8.18311e-05 ( 8.18311e-05 ) d(de)= -2.20695e-06 ( 6.24114e-06 ) t_sim=  275.82 sec\n"
     ]
    },
    {
     "name": "stderr",
     "output_type": "stream",
     "text": [
      "iter=24 : time= 1.5  Etot= -0.2457326805  Ekin= 0.238441   Epot= -0.484173 : de= -8.3625e-05 ( 8.3625e-05 ) d(de)= -1.79409e-06 ( 6.24114e-06 ) t_sim=  288.016 sec\n"
     ]
    },
    {
     "name": "stdout",
     "output_type": "stream",
     "text": [
      "iter=24 : time= 1.5  Etot= -0.2457326805  Ekin= 0.238441   Epot= -0.484173 : de= -8.3625e-05 ( 8.3625e-05 ) d(de)= -1.79409e-06 ( 6.24114e-06 ) t_sim=  288.015 sec\n"
     ]
    },
    {
     "name": "stderr",
     "output_type": "stream",
     "text": [
      "iter=25 : time= 1.5625  Etot= -0.2457321696  Ekin= 0.237978   Epot= -0.48371 : de= -8.57038e-05 ( 8.57038e-05 ) d(de)= -2.07896e-06 ( 6.24114e-06 ) t_sim=  299.293 sec\n"
     ]
    },
    {
     "name": "stdout",
     "output_type": "stream",
     "text": [
      "iter=25 : time= 1.5625  Etot= -0.2457321696  Ekin= 0.237978   Epot= -0.48371 : de= -8.57038e-05 ( 8.57038e-05 ) d(de)= -2.07896e-06 ( 6.24114e-06 ) t_sim=  299.293 sec\n"
     ]
    },
    {
     "name": "stderr",
     "output_type": "stream",
     "text": [
      "iter=26 : time= 1.625  Etot= -0.2457318852  Ekin= 0.237538   Epot= -0.48327 : de= -8.68611e-05 ( 8.68611e-05 ) d(de)= -1.15735e-06 ( 6.24114e-06 ) t_sim=  311.598 sec\n"
     ]
    },
    {
     "name": "stdout",
     "output_type": "stream",
     "text": [
      "iter=26 : time= 1.625  Etot= -0.2457318852  Ekin= 0.237538   Epot= -0.48327 : de= -8.68611e-05 ( 8.68611e-05 ) d(de)= -1.15735e-06 ( 6.24114e-06 ) t_sim=  311.598 sec\n"
     ]
    },
    {
     "name": "stderr",
     "output_type": "stream",
     "text": [
      "iter=27 : time= 1.6875  Etot= -0.2457315064  Ekin= 0.237123   Epot= -0.482855 : de= -8.84026e-05 ( 8.84026e-05 ) d(de)= -1.54168e-06 ( 6.24114e-06 ) t_sim=  324.137 sec\n"
     ]
    },
    {
     "name": "stdout",
     "output_type": "stream",
     "text": [
      "iter=27 : time= 1.6875  Etot= -0.2457315064  Ekin= 0.237123   Epot= -0.482855 : de= -8.84026e-05 ( 8.84026e-05 ) d(de)= -1.54168e-06 ( 6.24114e-06 ) t_sim=  324.137 sec\n"
     ]
    },
    {
     "name": "stderr",
     "output_type": "stream",
     "text": [
      "iter=28 : time= 1.75  Etot= -0.245731254  Ekin= 0.236734   Epot= -0.482465 : de= -8.94295e-05 ( 8.94295e-05 ) d(de)= -1.02695e-06 ( 6.24114e-06 ) t_sim=  336.593 sec\n"
     ]
    },
    {
     "name": "stdout",
     "output_type": "stream",
     "text": [
      "iter=28 : time= 1.75  Etot= -0.245731254  Ekin= 0.236734   Epot= -0.482465 : de= -8.94295e-05 ( 8.94295e-05 ) d(de)= -1.02695e-06 ( 6.24114e-06 ) t_sim=  336.593 sec\n"
     ]
    },
    {
     "name": "stderr",
     "output_type": "stream",
     "text": [
      "iter=29 : time= 1.8125  Etot= -0.2457311739  Ekin= 0.236372   Epot= -0.482103 : de= -8.97554e-05 ( 8.97554e-05 ) d(de)= -3.25935e-07 ( 6.24114e-06 ) t_sim=  349.855 sec\n"
     ]
    },
    {
     "name": "stdout",
     "output_type": "stream",
     "text": [
      "iter=29 : time= 1.8125  Etot= -0.2457311739  Ekin= 0.236372   Epot= -0.482103 : de= -8.97554e-05 ( 8.97554e-05 ) d(de)= -3.25935e-07 ( 6.24114e-06 ) t_sim=  349.855 sec\n"
     ]
    },
    {
     "name": "stderr",
     "output_type": "stream",
     "text": [
      "iter=30 : time= 1.875  Etot= -0.2457309629  Ekin= 0.236037   Epot= -0.481768 : de= -9.06139e-05 ( 9.06139e-05 ) d(de)= -8.58623e-07 ( 6.24114e-06 ) t_sim=  360.199 sec\n"
     ]
    },
    {
     "name": "stdout",
     "output_type": "stream",
     "text": [
      "iter=30 : time= 1.875  Etot= -0.2457309629  Ekin= 0.236037   Epot= -0.481768 : de= -9.06139e-05 ( 9.06139e-05 ) d(de)= -8.58623e-07 ( 6.24114e-06 ) t_sim=  360.199 sec\n"
     ]
    },
    {
     "name": "stderr",
     "output_type": "stream",
     "text": [
      "iter=31 : time= 1.9375  Etot= -0.2457307921  Ekin= 0.23573   Epot= -0.481461 : de= -9.1309e-05 ( 9.1309e-05 ) d(de)= -6.95195e-07 ( 6.24114e-06 ) t_sim=  372.934 sec\n"
     ]
    },
    {
     "name": "stdout",
     "output_type": "stream",
     "text": [
      "iter=31 : time= 1.9375  Etot= -0.2457307921  Ekin= 0.23573   Epot= -0.481461 : de= -9.1309e-05 ( 9.1309e-05 ) d(de)= -6.95195e-07 ( 6.24114e-06 ) t_sim=  372.934 sec\n"
     ]
    },
    {
     "name": "stderr",
     "output_type": "stream",
     "text": [
      "iter=32 : time= 2  Etot= -0.2457307248  Ekin= 0.235452   Epot= -0.481183 : de= -9.15827e-05 ( 9.15827e-05 ) d(de)= -2.73635e-07 ( 6.24114e-06 ) t_sim=  384.546 sec\n"
     ]
    },
    {
     "name": "stdout",
     "output_type": "stream",
     "text": [
      "iter=32 : time= 2  Etot= -0.2457307248  Ekin= 0.235452   Epot= -0.481183 : de= -9.15827e-05 ( 9.15827e-05 ) d(de)= -2.73635e-07 ( 6.24114e-06 ) t_sim=  384.546 sec\n"
     ]
    },
    {
     "name": "stderr",
     "output_type": "stream",
     "text": [
      "iter=33 : time= 2.0625  Etot= -0.2457306715  Ekin= 0.235202   Epot= -0.480932 : de= -9.17996e-05 ( 9.17996e-05 ) d(de)= -2.16991e-07 ( 6.24114e-06 ) t_sim=  398.67 sec\n"
     ]
    },
    {
     "name": "stdout",
     "output_type": "stream",
     "text": [
      "iter=33 : time= 2.0625  Etot= -0.2457306715  Ekin= 0.235202   Epot= -0.480932 : de= -9.17996e-05 ( 9.17996e-05 ) d(de)= -2.16991e-07 ( 6.24114e-06 ) t_sim=  398.67 sec\n"
     ]
    },
    {
     "name": "stderr",
     "output_type": "stream",
     "text": [
      "iter=34 : time= 2.125  Etot= -0.2457308012  Ekin= 0.23498   Epot= -0.480711 : de= -9.1272e-05 ( 9.17996e-05 ) d(de)= 5.27692e-07 ( 6.24114e-06 ) t_sim=  413.73 sec\n"
     ]
    },
    {
     "name": "stdout",
     "output_type": "stream",
     "text": [
      "iter=34 : time= 2.125  Etot= -0.2457308012  Ekin= 0.23498   Epot= -0.480711 : de= -9.1272e-05 ( 9.17996e-05 ) d(de)= 5.27692e-07 ( 6.24114e-06 ) t_sim=  413.73 sec\n"
     ]
    },
    {
     "name": "stderr",
     "output_type": "stream",
     "text": [
      "iter=35 : time= 2.1875  Etot= -0.2457306942  Ekin= 0.234786   Epot= -0.480516 : de= -9.17075e-05 ( 9.17996e-05 ) d(de)= -4.35517e-07 ( 6.24114e-06 ) t_sim=  426.994 sec\n"
     ]
    },
    {
     "name": "stdout",
     "output_type": "stream",
     "text": [
      "iter=35 : time= 2.1875  Etot= -0.2457306942  Ekin= 0.234786   Epot= -0.480516 : de= -9.17075e-05 ( 9.17996e-05 ) d(de)= -4.35517e-07 ( 6.24114e-06 ) t_sim=  426.994 sec\n"
     ]
    },
    {
     "name": "stderr",
     "output_type": "stream",
     "text": [
      "iter=36 : time= 2.25  Etot= -0.2457306436  Ekin= 0.234618   Epot= -0.480349 : de= -9.19131e-05 ( 9.19131e-05 ) d(de)= -2.05696e-07 ( 6.24114e-06 ) t_sim=  438.611 sec\n"
     ]
    },
    {
     "name": "stdout",
     "output_type": "stream",
     "text": [
      "iter=36 : time= 2.25  Etot= -0.2457306436  Ekin= 0.234618   Epot= -0.480349 : de= -9.19131e-05 ( 9.19131e-05 ) d(de)= -2.05696e-07 ( 6.24114e-06 ) t_sim=  438.611 sec\n"
     ]
    },
    {
     "name": "stderr",
     "output_type": "stream",
     "text": [
      "iter=37 : time= 2.3125  Etot= -0.2457307569  Ekin= 0.234477   Epot= -0.480208 : de= -9.14523e-05 ( 9.19131e-05 ) d(de)= 4.60854e-07 ( 6.24114e-06 ) t_sim=  450.065 sec\n"
     ]
    },
    {
     "name": "stdout",
     "output_type": "stream",
     "text": [
      "iter=37 : time= 2.3125  Etot= -0.2457307569  Ekin= 0.234477   Epot= -0.480208 : de= -9.14523e-05 ( 9.19131e-05 ) d(de)= 4.60854e-07 ( 6.24114e-06 ) t_sim=  450.065 sec\n"
     ]
    },
    {
     "name": "stderr",
     "output_type": "stream",
     "text": [
      "iter=38 : time= 2.375  Etot= -0.2457308273  Ekin= 0.23436   Epot= -0.480091 : de= -9.11657e-05 ( 9.19131e-05 ) d(de)= 2.86693e-07 ( 6.24114e-06 ) t_sim=  462.318 sec\n"
     ]
    },
    {
     "name": "stdout",
     "output_type": "stream",
     "text": [
      "iter=38 : time= 2.375  Etot= -0.2457308273  Ekin= 0.23436   Epot= -0.480091 : de= -9.11657e-05 ( 9.19131e-05 ) d(de)= 2.86693e-07 ( 6.24114e-06 ) t_sim=  462.318 sec\n"
     ]
    },
    {
     "name": "stderr",
     "output_type": "stream",
     "text": [
      "iter=39 : time= 2.4375  Etot= -0.2457308863  Ekin= 0.234267   Epot= -0.479998 : de= -9.09257e-05 ( 9.19131e-05 ) d(de)= 2.40003e-07 ( 6.24114e-06 ) t_sim=  474.928 sec\n"
     ]
    },
    {
     "name": "stdout",
     "output_type": "stream",
     "text": [
      "iter=39 : time= 2.4375  Etot= -0.2457308863  Ekin= 0.234267   Epot= -0.479998 : de= -9.09257e-05 ( 9.19131e-05 ) d(de)= 2.40003e-07 ( 6.24114e-06 ) t_sim=  474.928 sec\n"
     ]
    },
    {
     "name": "stderr",
     "output_type": "stream",
     "text": [
      "iter=40 : time= 2.5  Etot= -0.2457309792  Ekin= 0.234197   Epot= -0.479928 : de= -9.05478e-05 ( 9.19131e-05 ) d(de)= 3.77918e-07 ( 6.24114e-06 ) t_sim=  486.609 sec\n"
     ]
    },
    {
     "name": "stdout",
     "output_type": "stream",
     "text": [
      "iter=40 : time= 2.5  Etot= -0.2457309792  Ekin= 0.234197   Epot= -0.479928 : de= -9.05478e-05 ( 9.19131e-05 ) d(de)= 3.77918e-07 ( 6.24114e-06 ) t_sim=  486.609 sec\n"
     ]
    },
    {
     "name": "stderr",
     "output_type": "stream",
     "text": [
      "iter=41 : time= 2.5625  Etot= -0.2457310498  Ekin= 0.234148   Epot= -0.479879 : de= -9.02603e-05 ( 9.19131e-05 ) d(de)= 2.87548e-07 ( 6.24114e-06 ) t_sim=  498.583 sec\n"
     ]
    },
    {
     "name": "stdout",
     "output_type": "stream",
     "text": [
      "iter=41 : time= 2.5625  Etot= -0.2457310498  Ekin= 0.234148   Epot= -0.479879 : de= -9.02603e-05 ( 9.19131e-05 ) d(de)= 2.87548e-07 ( 6.24114e-06 ) t_sim=  498.583 sec\n"
     ]
    },
    {
     "name": "stderr",
     "output_type": "stream",
     "text": [
      "iter=42 : time= 2.625  Etot= -0.2457311886  Ekin= 0.234119   Epot= -0.47985 : de= -8.96956e-05 ( 9.19131e-05 ) d(de)= 5.64697e-07 ( 6.24114e-06 ) t_sim=  510.647 sec\n"
     ]
    },
    {
     "name": "stdout",
     "output_type": "stream",
     "text": [
      "iter=42 : time= 2.625  Etot= -0.2457311886  Ekin= 0.234119   Epot= -0.47985 : de= -8.96956e-05 ( 9.19131e-05 ) d(de)= 5.64697e-07 ( 6.24114e-06 ) t_sim=  510.647 sec\n"
     ]
    },
    {
     "name": "stderr",
     "output_type": "stream",
     "text": [
      "iter=43 : time= 2.6875  Etot= -0.245731493  Ekin= 0.234108   Epot= -0.47984 : de= -8.84571e-05 ( 9.19131e-05 ) d(de)= 1.23862e-06 ( 6.24114e-06 ) t_sim=  522.924 sec\n"
     ]
    },
    {
     "name": "stdout",
     "output_type": "stream",
     "text": [
      "iter=43 : time= 2.6875  Etot= -0.245731493  Ekin= 0.234108   Epot= -0.47984 : de= -8.84571e-05 ( 9.19131e-05 ) d(de)= 1.23862e-06 ( 6.24114e-06 ) t_sim=  522.924 sec\n"
     ]
    },
    {
     "name": "stderr",
     "output_type": "stream",
     "text": [
      "iter=44 : time= 2.75  Etot= -0.2457317175  Ekin= 0.234115   Epot= -0.479846 : de= -8.75433e-05 ( 9.19131e-05 ) d(de)= 9.13887e-07 ( 6.24114e-06 ) t_sim=  534.681 sec\n"
     ]
    },
    {
     "name": "stdout",
     "output_type": "stream",
     "text": [
      "iter=44 : time= 2.75  Etot= -0.2457317175  Ekin= 0.234115   Epot= -0.479846 : de= -8.75433e-05 ( 9.19131e-05 ) d(de)= 9.13887e-07 ( 6.24114e-06 ) t_sim=  534.681 sec\n"
     ]
    },
    {
     "name": "stderr",
     "output_type": "stream",
     "text": [
      "iter=45 : time= 2.8125  Etot= -0.2457320877  Ekin= 0.234137   Epot= -0.479869 : de= -8.60371e-05 ( 9.19131e-05 ) d(de)= 1.50633e-06 ( 6.24114e-06 ) t_sim=  548.337 sec\n"
     ]
    },
    {
     "name": "stdout",
     "output_type": "stream",
     "text": [
      "iter=45 : time= 2.8125  Etot= -0.2457320877  Ekin= 0.234137   Epot= -0.479869 : de= -8.60371e-05 ( 9.19131e-05 ) d(de)= 1.50633e-06 ( 6.24114e-06 ) t_sim=  548.337 sec\n"
     ]
    },
    {
     "name": "stderr",
     "output_type": "stream",
     "text": [
      "iter=46 : time= 2.875  Etot= -0.2457321722  Ekin= 0.234174   Epot= -0.479906 : de= -8.56931e-05 ( 9.19131e-05 ) d(de)= 3.44033e-07 ( 6.24114e-06 ) t_sim=  559.621 sec\n"
     ]
    },
    {
     "name": "stdout",
     "output_type": "stream",
     "text": [
      "iter=46 : time= 2.875  Etot= -0.2457321722  Ekin= 0.234174   Epot= -0.479906 : de= -8.56931e-05 ( 9.19131e-05 ) d(de)= 3.44033e-07 ( 6.24114e-06 ) t_sim=  559.621 sec\n"
     ]
    },
    {
     "name": "stderr",
     "output_type": "stream",
     "text": [
      "iter=47 : time= 2.9375  Etot= -0.2457324664  Ekin= 0.234223   Epot= -0.479956 : de= -8.4496e-05 ( 9.19131e-05 ) d(de)= 1.19726e-06 ( 6.24114e-06 ) t_sim=  571.142 sec\n"
     ]
    },
    {
     "name": "stdout",
     "output_type": "stream",
     "text": [
      "iter=47 : time= 2.9375  Etot= -0.2457324664  Ekin= 0.234223   Epot= -0.479956 : de= -8.4496e-05 ( 9.19131e-05 ) d(de)= 1.19726e-06 ( 6.24114e-06 ) t_sim=  571.142 sec\n"
     ]
    },
    {
     "name": "stderr",
     "output_type": "stream",
     "text": [
      "iter=48 : time= 3  Etot= -0.2457325966  Ekin= 0.234284   Epot= -0.480017 : de= -8.39664e-05 ( 9.19131e-05 ) d(de)= 5.29628e-07 ( 6.24114e-06 ) t_sim=  583.85 sec\n"
     ]
    },
    {
     "name": "stdout",
     "output_type": "stream",
     "text": [
      "iter=48 : time= 3  Etot= -0.2457325966  Ekin= 0.234284   Epot= -0.480017 : de= -8.39664e-05 ( 9.19131e-05 ) d(de)= 5.29628e-07 ( 6.24114e-06 ) t_sim=  583.85 sec\n"
     ]
    },
    {
     "name": "stderr",
     "output_type": "stream",
     "text": [
      "iter=49 : time= 3.0625  Etot= -0.2457327764  Ekin= 0.234356   Epot= -0.480088 : de= -8.32345e-05 ( 9.19131e-05 ) d(de)= 7.31925e-07 ( 6.24114e-06 ) t_sim=  596.093 sec\n"
     ]
    },
    {
     "name": "stdout",
     "output_type": "stream",
     "text": [
      "iter=49 : time= 3.0625  Etot= -0.2457327764  Ekin= 0.234356   Epot= -0.480088 : de= -8.32345e-05 ( 9.19131e-05 ) d(de)= 7.31925e-07 ( 6.24114e-06 ) t_sim=  596.093 sec\n"
     ]
    },
    {
     "name": "stderr",
     "output_type": "stream",
     "text": [
      "iter=50 : time= 3.125  Etot= -0.2457331807  Ekin= 0.234436   Epot= -0.48017 : de= -8.15895e-05 ( 9.19131e-05 ) d(de)= 1.64516e-06 ( 6.24114e-06 ) t_sim=  608.616 sec\n"
     ]
    },
    {
     "name": "stdout",
     "output_type": "stream",
     "text": [
      "iter=50 : time= 3.125  Etot= -0.2457331807  Ekin= 0.234436   Epot= -0.48017 : de= -8.15895e-05 ( 9.19131e-05 ) d(de)= 1.64516e-06 ( 6.24114e-06 ) t_sim=  608.616 sec\n"
     ]
    },
    {
     "name": "stderr",
     "output_type": "stream",
     "text": [
      "iter=51 : time= 3.1875  Etot= -0.245733293  Ekin= 0.234526   Epot= -0.480259 : de= -8.11326e-05 ( 9.19131e-05 ) d(de)= 4.56892e-07 ( 6.24114e-06 ) t_sim=  620.45 sec\n"
     ]
    },
    {
     "name": "stdout",
     "output_type": "stream",
     "text": [
      "iter=51 : time= 3.1875  Etot= -0.245733293  Ekin= 0.234526   Epot= -0.480259 : de= -8.11326e-05 ( 9.19131e-05 ) d(de)= 4.56892e-07 ( 6.24114e-06 ) t_sim=  620.45 sec\n"
     ]
    },
    {
     "name": "stderr",
     "output_type": "stream",
     "text": [
      "iter=52 : time= 3.25  Etot= -0.2457336067  Ekin= 0.234622   Epot= -0.480356 : de= -7.98561e-05 ( 9.19131e-05 ) d(de)= 1.27668e-06 ( 6.24114e-06 ) t_sim=  633.652 sec\n"
     ]
    },
    {
     "name": "stdout",
     "output_type": "stream",
     "text": [
      "iter=52 : time= 3.25  Etot= -0.2457336067  Ekin= 0.234622   Epot= -0.480356 : de= -7.98561e-05 ( 9.19131e-05 ) d(de)= 1.27668e-06 ( 6.24114e-06 ) t_sim=  633.652 sec\n"
     ]
    },
    {
     "name": "stderr",
     "output_type": "stream",
     "text": [
      "iter=53 : time= 3.3125  Etot= -0.2457338078  Ekin= 0.234725   Epot= -0.480459 : de= -7.90378e-05 ( 9.19131e-05 ) d(de)= 8.18278e-07 ( 6.24114e-06 ) t_sim=  647.326 sec\n"
     ]
    },
    {
     "name": "stdout",
     "output_type": "stream",
     "text": [
      "iter=53 : time= 3.3125  Etot= -0.2457338078  Ekin= 0.234725   Epot= -0.480459 : de= -7.90378e-05 ( 9.19131e-05 ) d(de)= 8.18278e-07 ( 6.24114e-06 ) t_sim=  647.326 sec\n"
     ]
    },
    {
     "name": "stderr",
     "output_type": "stream",
     "text": [
      "iter=54 : time= 3.375  Etot= -0.2457340508  Ekin= 0.234835   Epot= -0.480569 : de= -7.80488e-05 ( 9.19131e-05 ) d(de)= 9.89147e-07 ( 6.24114e-06 ) t_sim=  657.697 sec\n"
     ]
    },
    {
     "name": "stdout",
     "output_type": "stream",
     "text": [
      "iter=54 : time= 3.375  Etot= -0.2457340508  Ekin= 0.234835   Epot= -0.480569 : de= -7.80488e-05 ( 9.19131e-05 ) d(de)= 9.89147e-07 ( 6.24114e-06 ) t_sim=  657.697 sec\n"
     ]
    },
    {
     "name": "stderr",
     "output_type": "stream",
     "text": [
      "iter=55 : time= 3.4375  Etot= -0.2457343193  Ekin= 0.23495   Epot= -0.480684 : de= -7.69565e-05 ( 9.19131e-05 ) d(de)= 1.09241e-06 ( 6.24114e-06 ) t_sim=  669.894 sec\n"
     ]
    },
    {
     "name": "stdout",
     "output_type": "stream",
     "text": [
      "iter=55 : time= 3.4375  Etot= -0.2457343193  Ekin= 0.23495   Epot= -0.480684 : de= -7.69565e-05 ( 9.19131e-05 ) d(de)= 1.09241e-06 ( 6.24114e-06 ) t_sim=  669.894 sec\n"
     ]
    },
    {
     "name": "stderr",
     "output_type": "stream",
     "text": [
      "iter=56 : time= 3.5  Etot= -0.2457345421  Ekin= 0.235069   Epot= -0.480804 : de= -7.60498e-05 ( 9.19131e-05 ) d(de)= 9.06704e-07 ( 6.24114e-06 ) t_sim=  681.934 sec\n"
     ]
    },
    {
     "name": "stdout",
     "output_type": "stream",
     "text": [
      "iter=56 : time= 3.5  Etot= -0.2457345421  Ekin= 0.235069   Epot= -0.480804 : de= -7.60498e-05 ( 9.19131e-05 ) d(de)= 9.06704e-07 ( 6.24114e-06 ) t_sim=  681.934 sec\n"
     ]
    },
    {
     "name": "stderr",
     "output_type": "stream",
     "text": [
      "iter=57 : time= 3.5625  Etot= -0.2457345361  Ekin= 0.235194   Epot= -0.480928 : de= -7.60743e-05 ( 9.19131e-05 ) d(de)= -2.45147e-08 ( 6.24114e-06 ) t_sim=  694.209 sec\n"
     ]
    },
    {
     "name": "stdout",
     "output_type": "stream",
     "text": [
      "iter=57 : time= 3.5625  Etot= -0.2457345361  Ekin= 0.235194   Epot= -0.480928 : de= -7.60743e-05 ( 9.19131e-05 ) d(de)= -2.45147e-08 ( 6.24114e-06 ) t_sim=  694.209 sec\n"
     ]
    },
    {
     "name": "stderr",
     "output_type": "stream",
     "text": [
      "iter=58 : time= 3.625  Etot= -0.2457347825  Ekin= 0.235323   Epot= -0.481057 : de= -7.50717e-05 ( 9.19131e-05 ) d(de)= 1.00271e-06 ( 6.24114e-06 ) t_sim=  708.161 sec\n"
     ]
    },
    {
     "name": "stdout",
     "output_type": "stream",
     "text": [
      "iter=58 : time= 3.625  Etot= -0.2457347825  Ekin= 0.235323   Epot= -0.481057 : de= -7.50717e-05 ( 9.19131e-05 ) d(de)= 1.00271e-06 ( 6.24114e-06 ) t_sim=  708.161 sec\n"
     ]
    },
    {
     "name": "stderr",
     "output_type": "stream",
     "text": [
      "iter=59 : time= 3.6875  Etot= -0.2457350025  Ekin= 0.235455   Epot= -0.48119 : de= -7.41765e-05 ( 9.19131e-05 ) d(de)= 8.95219e-07 ( 6.24114e-06 ) t_sim=  718.398 sec\n"
     ]
    },
    {
     "name": "stdout",
     "output_type": "stream",
     "text": [
      "iter=59 : time= 3.6875  Etot= -0.2457350025  Ekin= 0.235455   Epot= -0.48119 : de= -7.41765e-05 ( 9.19131e-05 ) d(de)= 8.95219e-07 ( 6.24114e-06 ) t_sim=  718.398 sec\n"
     ]
    },
    {
     "name": "stderr",
     "output_type": "stream",
     "text": [
      "iter=60 : time= 3.75  Etot= -0.2457352362  Ekin= 0.235591   Epot= -0.481326 : de= -7.32256e-05 ( 9.19131e-05 ) d(de)= 9.51023e-07 ( 6.24114e-06 ) t_sim=  731.483 sec\n"
     ]
    },
    {
     "name": "stdout",
     "output_type": "stream",
     "text": [
      "iter=60 : time= 3.75  Etot= -0.2457352362  Ekin= 0.235591   Epot= -0.481326 : de= -7.32256e-05 ( 9.19131e-05 ) d(de)= 9.51023e-07 ( 6.24114e-06 ) t_sim=  731.483 sec\n"
     ]
    },
    {
     "name": "stderr",
     "output_type": "stream",
     "text": [
      "iter=61 : time= 3.8125  Etot= -0.2457356423  Ekin= 0.235729   Epot= -0.481465 : de= -7.15727e-05 ( 9.19131e-05 ) d(de)= 1.65297e-06 ( 6.24114e-06 ) t_sim=  742.948 sec\n"
     ]
    },
    {
     "name": "stdout",
     "output_type": "stream",
     "text": [
      "iter=61 : time= 3.8125  Etot= -0.2457356423  Ekin= 0.235729   Epot= -0.481465 : de= -7.15727e-05 ( 9.19131e-05 ) d(de)= 1.65297e-06 ( 6.24114e-06 ) t_sim=  742.948 sec\n"
     ]
    },
    {
     "name": "stderr",
     "output_type": "stream",
     "text": [
      "iter=62 : time= 3.875  Etot= -0.2457361248  Ekin= 0.235868   Epot= -0.481605 : de= -6.96098e-05 ( 9.19131e-05 ) d(de)= 1.96312e-06 ( 6.24114e-06 ) t_sim=  755.497 sec\n"
     ]
    },
    {
     "name": "stdout",
     "output_type": "stream",
     "text": [
      "iter=62 : time= 3.875  Etot= -0.2457361248  Ekin= 0.235868   Epot= -0.481605 : de= -6.96098e-05 ( 9.19131e-05 ) d(de)= 1.96312e-06 ( 6.24114e-06 ) t_sim=  755.497 sec\n"
     ]
    },
    {
     "name": "stderr",
     "output_type": "stream",
     "text": [
      "iter=63 : time= 3.9375  Etot= -0.2457361865  Ekin= 0.236008   Epot= -0.481744 : de= -6.93586e-05 ( 9.19131e-05 ) d(de)= 2.51173e-07 ( 6.24114e-06 ) t_sim=  767.537 sec\n"
     ]
    },
    {
     "name": "stdout",
     "output_type": "stream",
     "text": [
      "iter=63 : time= 3.9375  Etot= -0.2457361865  Ekin= 0.236008   Epot= -0.481744 : de= -6.93586e-05 ( 9.19131e-05 ) d(de)= 2.51173e-07 ( 6.24114e-06 ) t_sim=  767.537 sec\n"
     ]
    },
    {
     "name": "stderr",
     "output_type": "stream",
     "text": [
      "iter=64 : time= 4  Etot= -0.2457363438  Ekin= 0.236146   Epot= -0.481882 : de= -6.87183e-05 ( 9.19131e-05 ) d(de)= 6.40386e-07 ( 6.24114e-06 ) t_sim=  780.258 sec\n"
     ]
    },
    {
     "name": "stdout",
     "output_type": "stream",
     "text": [
      "iter=64 : time= 4  Etot= -0.2457363438  Ekin= 0.236146   Epot= -0.481882 : de= -6.87183e-05 ( 9.19131e-05 ) d(de)= 6.40386e-07 ( 6.24114e-06 ) t_sim=  780.258 sec\n"
     ]
    },
    {
     "name": "stderr",
     "output_type": "stream",
     "text": [
      "iter=65 : time= 4.0625  Etot= -0.2457363258  Ekin= 0.236282   Epot= -0.482018 : de= -6.87919e-05 ( 9.19131e-05 ) d(de)= -7.36056e-08 ( 6.24114e-06 ) t_sim=  791.093 sec\n"
     ]
    },
    {
     "name": "stdout",
     "output_type": "stream",
     "text": [
      "iter=65 : time= 4.0625  Etot= -0.2457363258  Ekin= 0.236282   Epot= -0.482018 : de= -6.87919e-05 ( 9.19131e-05 ) d(de)= -7.36056e-08 ( 6.24114e-06 ) t_sim=  791.093 sec\n"
     ]
    },
    {
     "name": "stderr",
     "output_type": "stream",
     "text": [
      "iter=66 : time= 4.125  Etot= -0.2457364706  Ekin= 0.236416   Epot= -0.482152 : de= -6.82023e-05 ( 9.19131e-05 ) d(de)= 5.89588e-07 ( 6.24114e-06 ) t_sim=  804.035 sec\n"
     ]
    },
    {
     "name": "stdout",
     "output_type": "stream",
     "text": [
      "iter=66 : time= 4.125  Etot= -0.2457364706  Ekin= 0.236416   Epot= -0.482152 : de= -6.82023e-05 ( 9.19131e-05 ) d(de)= 5.89588e-07 ( 6.24114e-06 ) t_sim=  804.035 sec\n"
     ]
    },
    {
     "name": "stderr",
     "output_type": "stream",
     "text": [
      "iter=67 : time= 4.1875  Etot= -0.2457366641  Ekin= 0.236547   Epot= -0.482283 : de= -6.74149e-05 ( 9.19131e-05 ) d(de)= 7.8747e-07 ( 6.24114e-06 ) t_sim=  818.935 sec\n"
     ]
    },
    {
     "name": "stdout",
     "output_type": "stream",
     "text": [
      "iter=67 : time= 4.1875  Etot= -0.2457366641  Ekin= 0.236547   Epot= -0.482283 : de= -6.74149e-05 ( 9.19131e-05 ) d(de)= 7.8747e-07 ( 6.24114e-06 ) t_sim=  818.935 sec\n"
     ]
    },
    {
     "name": "stderr",
     "output_type": "stream",
     "text": [
      "iter=68 : time= 4.25  Etot= -0.2457368435  Ekin= 0.236675   Epot= -0.482412 : de= -6.66852e-05 ( 9.19131e-05 ) d(de)= 7.29744e-07 ( 6.24114e-06 ) t_sim=  828.062 sec\n"
     ]
    },
    {
     "name": "stdout",
     "output_type": "stream",
     "text": [
      "iter=68 : time= 4.25  Etot= -0.2457368435  Ekin= 0.236675   Epot= -0.482412 : de= -6.66852e-05 ( 9.19131e-05 ) d(de)= 7.29744e-07 ( 6.24114e-06 ) t_sim=  828.062 sec\n"
     ]
    },
    {
     "name": "stderr",
     "output_type": "stream",
     "text": [
      "iter=69 : time= 4.3125  Etot= -0.2457369138  Ekin= 0.236801   Epot= -0.482538 : de= -6.63989e-05 ( 9.19131e-05 ) d(de)= 2.86347e-07 ( 6.24114e-06 ) t_sim=  840.117 sec\n"
     ]
    },
    {
     "name": "stdout",
     "output_type": "stream",
     "text": [
      "iter=69 : time= 4.3125  Etot= -0.2457369138  Ekin= 0.236801   Epot= -0.482538 : de= -6.63989e-05 ( 9.19131e-05 ) d(de)= 2.86347e-07 ( 6.24114e-06 ) t_sim=  840.117 sec\n"
     ]
    },
    {
     "name": "stderr",
     "output_type": "stream",
     "text": [
      "iter=70 : time= 4.375  Etot= -0.245736937  Ekin= 0.236925   Epot= -0.482661 : de= -6.63048e-05 ( 9.19131e-05 ) d(de)= 9.4072e-08 ( 6.24114e-06 ) t_sim=  852.386 sec\n"
     ]
    },
    {
     "name": "stdout",
     "output_type": "stream",
     "text": [
      "iter=70 : time= 4.375  Etot= -0.245736937  Ekin= 0.236925   Epot= -0.482661 : de= -6.63048e-05 ( 9.19131e-05 ) d(de)= 9.4072e-08 ( 6.24114e-06 ) t_sim=  852.386 sec\n"
     ]
    },
    {
     "name": "stderr",
     "output_type": "stream",
     "text": [
      "iter=71 : time= 4.4375  Etot= -0.2457369806  Ekin= 0.237045   Epot= -0.482782 : de= -6.61271e-05 ( 9.19131e-05 ) d(de)= 1.77767e-07 ( 6.24114e-06 ) t_sim=  864.995 sec\n"
     ]
    },
    {
     "name": "stdout",
     "output_type": "stream",
     "text": [
      "iter=71 : time= 4.4375  Etot= -0.2457369806  Ekin= 0.237045   Epot= -0.482782 : de= -6.61271e-05 ( 9.19131e-05 ) d(de)= 1.77767e-07 ( 6.24114e-06 ) t_sim=  864.995 sec\n"
     ]
    },
    {
     "name": "stderr",
     "output_type": "stream",
     "text": [
      "iter=72 : time= 4.5  Etot= -0.2457370569  Ekin= 0.237162   Epot= -0.482899 : de= -6.58168e-05 ( 9.19131e-05 ) d(de)= 3.10254e-07 ( 6.24114e-06 ) t_sim=  876.911 sec\n"
     ]
    },
    {
     "name": "stdout",
     "output_type": "stream",
     "text": [
      "iter=72 : time= 4.5  Etot= -0.2457370569  Ekin= 0.237162   Epot= -0.482899 : de= -6.58168e-05 ( 9.19131e-05 ) d(de)= 3.10254e-07 ( 6.24114e-06 ) t_sim=  876.911 sec\n"
     ]
    },
    {
     "name": "stderr",
     "output_type": "stream",
     "text": [
      "iter=73 : time= 4.5625  Etot= -0.245737235  Ekin= 0.237275   Epot= -0.483012 : de= -6.50922e-05 ( 9.19131e-05 ) d(de)= 7.24707e-07 ( 6.24114e-06 ) t_sim=  888.324 sec\n"
     ]
    },
    {
     "name": "stdout",
     "output_type": "stream",
     "text": [
      "iter=73 : time= 4.5625  Etot= -0.245737235  Ekin= 0.237275   Epot= -0.483012 : de= -6.50922e-05 ( 9.19131e-05 ) d(de)= 7.24707e-07 ( 6.24114e-06 ) t_sim=  888.324 sec\n"
     ]
    },
    {
     "name": "stderr",
     "output_type": "stream",
     "text": [
      "iter=74 : time= 4.625  Etot= -0.2457374412  Ekin= 0.237384   Epot= -0.483122 : de= -6.4253e-05 ( 9.19131e-05 ) d(de)= 8.39175e-07 ( 6.24114e-06 ) t_sim=  900.389 sec\n"
     ]
    },
    {
     "name": "stdout",
     "output_type": "stream",
     "text": [
      "iter=74 : time= 4.625  Etot= -0.2457374412  Ekin= 0.237384   Epot= -0.483122 : de= -6.4253e-05 ( 9.19131e-05 ) d(de)= 8.39175e-07 ( 6.24114e-06 ) t_sim=  900.389 sec\n"
     ]
    },
    {
     "name": "stderr",
     "output_type": "stream",
     "text": [
      "iter=75 : time= 4.6875  Etot= -0.2457376105  Ekin= 0.237489   Epot= -0.483226 : de= -6.35642e-05 ( 9.19131e-05 ) d(de)= 6.88871e-07 ( 6.24114e-06 ) t_sim=  914.863 sec\n"
     ]
    },
    {
     "name": "stdout",
     "output_type": "stream",
     "text": [
      "iter=75 : time= 4.6875  Etot= -0.2457376105  Ekin= 0.237489   Epot= -0.483226 : de= -6.35642e-05 ( 9.19131e-05 ) d(de)= 6.88871e-07 ( 6.24114e-06 ) t_sim=  914.863 sec\n"
     ]
    },
    {
     "name": "stderr",
     "output_type": "stream",
     "text": [
      "iter=76 : time= 4.75  Etot= -0.2457376255  Ekin= 0.237588   Epot= -0.483326 : de= -6.35029e-05 ( 9.19131e-05 ) d(de)= 6.12728e-08 ( 6.24114e-06 ) t_sim=  925.046 sec\n"
     ]
    },
    {
     "name": "stdout",
     "output_type": "stream",
     "text": [
      "iter=76 : time= 4.75  Etot= -0.2457376255  Ekin= 0.237588   Epot= -0.483326 : de= -6.35029e-05 ( 9.19131e-05 ) d(de)= 6.12728e-08 ( 6.24114e-06 ) t_sim=  925.046 sec\n"
     ]
    },
    {
     "name": "stderr",
     "output_type": "stream",
     "text": [
      "iter=77 : time= 4.8125  Etot= -0.2457378782  Ekin= 0.237682   Epot= -0.48342 : de= -6.24747e-05 ( 9.19131e-05 ) d(de)= 1.02829e-06 ( 6.24114e-06 ) t_sim=  936.878 sec\n"
     ]
    },
    {
     "name": "stdout",
     "output_type": "stream",
     "text": [
      "iter=77 : time= 4.8125  Etot= -0.2457378782  Ekin= 0.237682   Epot= -0.48342 : de= -6.24747e-05 ( 9.19131e-05 ) d(de)= 1.02829e-06 ( 6.24114e-06 ) t_sim=  936.878 sec\n"
     ]
    },
    {
     "name": "stderr",
     "output_type": "stream",
     "text": [
      "iter=78 : time= 4.875  Etot= -0.2457379075  Ekin= 0.23777   Epot= -0.483508 : de= -6.23557e-05 ( 9.19131e-05 ) d(de)= 1.1899e-07 ( 6.24114e-06 ) t_sim=  949.191 sec\n"
     ]
    },
    {
     "name": "stdout",
     "output_type": "stream",
     "text": [
      "iter=78 : time= 4.875  Etot= -0.2457379075  Ekin= 0.23777   Epot= -0.483508 : de= -6.23557e-05 ( 9.19131e-05 ) d(de)= 1.1899e-07 ( 6.24114e-06 ) t_sim=  949.191 sec\n"
     ]
    },
    {
     "name": "stderr",
     "output_type": "stream",
     "text": [
      "iter=79 : time= 4.9375  Etot= -0.2457377809  Ekin= 0.237853   Epot= -0.483591 : de= -6.28708e-05 ( 9.19131e-05 ) d(de)= -5.15118e-07 ( 6.24114e-06 ) t_sim=  961.416 sec\n"
     ]
    },
    {
     "name": "stdout",
     "output_type": "stream",
     "text": [
      "iter=79 : time= 4.9375  Etot= -0.2457377809  Ekin= 0.237853   Epot= -0.483591 : de= -6.28708e-05 ( 9.19131e-05 ) d(de)= -5.15118e-07 ( 6.24114e-06 ) t_sim=  961.416 sec\n"
     ]
    },
    {
     "name": "stderr",
     "output_type": "stream",
     "text": [
      "iter=80 : time= 5  Etot= -0.2457377578  Ekin= 0.23793   Epot= -0.483668 : de= -6.29648e-05 ( 9.19131e-05 ) d(de)= -9.40285e-08 ( 6.24114e-06 ) t_sim=  972.555 sec\n"
     ]
    },
    {
     "name": "stdout",
     "output_type": "stream",
     "text": [
      "iter=80 : time= 5  Etot= -0.2457377578  Ekin= 0.23793   Epot= -0.483668 : de= -6.29648e-05 ( 9.19131e-05 ) d(de)= -9.40285e-08 ( 6.24114e-06 ) t_sim=  972.555 sec\n"
     ]
    },
    {
     "name": "stderr",
     "output_type": "stream",
     "text": [
      "iter=80 : time= 5  Etot= -0.2457377578  Ekin= 0.23793   Epot= -0.483668 : de= -6.29648e-05 ( 9.19131e-05 ) d(de)= -0 ( 6.24114e-06 ) t_sim=  983.796 sec\n"
     ]
    },
    {
     "name": "stdout",
     "output_type": "stream",
     "text": [
      "iter=80 : time= 5  Etot= -0.2457377578  Ekin= 0.23793   Epot= -0.483668 : de= -6.29648e-05 ( 9.19131e-05 ) d(de)= -0 ( 6.24114e-06 ) t_sim=  983.796 sec\n",
      "../Bonsai/build/bonsai2_slowdust   --plummer 100000000 --snapname data/plummer_snap_mpi --snapiter 0.0625 -T 5 -dt 0.0625 --eps 0.05\n"
     ]
    },
    {
     "name": "stderr",
     "output_type": "stream",
     "text": [
      " Unknown ENV_VARIABLE:   -- Falling to basic forking method after MPI_Init, unsafe!\n",
      "Proc id: 0 @ Default , total processes: 1 (mpiInit) \n",
      "[INIT]\tUsed settings: \n",
      "[INIT]\tInput  filename \n",
      "[INIT]\tBonsai filename \n",
      "[INIT]\tLog filename gpuLog.log\n",
      "[INIT]\tTheta: \t\t0.75\t\teps: \t\t0.05\n",
      "[INIT]\tTimestep: \t0.0625\t\ttEnd: \t\t5\n",
      "[INIT]\titerEnd: \t1073741824\n",
      "[INIT]\tUse MPI-IO: \tNO\n",
      "[INIT]\tsnapshotFile: \tdata/plummer_snap_mpi\tsnapshotIter: \t0.0625\n",
      "[INIT]\tInput file: \t\t\tdevID: \t\t0\n",
      "[INIT]\tRemove dist: \t-1\n",
      "[INIT]\tRebuild tree every 1 timestep\n",
      "[INIT]\tRuntime logging is DISABLED \n",
      "[INIT]\tDirect gravitation is DISABLED\n",
      "[INIT]\tCode is built WITHOUT MPI Support \n"
     ]
    },
    {
     "name": "stdout",
     "output_type": "stream",
     "text": [
      "Using Plummer model with n= 100000000 per process \n",
      "................................................................"
     ]
    },
    {
     "name": "stderr",
     "output_type": "stream",
     "text": [
      "Proc: 0 Bootup times: Tree/MPI: 0.209657 Threads/log: 0.00012517 IC-model: 0 \n",
      "/home/home-server/repos/Bonsai/runtime/include/my_cuda_rt.h(537) : CUDA Runtime API error 2: out of memory.\n"
     ]
    },
    {
     "name": "stdout",
     "output_type": "stream",
     "text": [
      "\n"
     ]
    }
   ],
   "source": [
    "## Scaling for different n sizes!\n",
    "\n",
    "plot_title = \"RESULTS/plummer_barnes_hut_n_vs_time\"\n",
    "data_prefix='data/plummer_snap_mpi'\n",
    "figure_prefix='fig/plummer'\n",
    "bonsai_binary = \"../Bonsai/build/bonsai2_slowdust\" # after cmake tools build\n",
    "\n",
    "# Bonsai config\n",
    "step = 0.0625/1\n",
    "T_ = 5\n",
    "\n",
    "# Plot\n",
    "dir_comp = False\n",
    "p_size = 1\n",
    "lim=5\n",
    "\n",
    "n_pows = [2,3,4,5,6,7]\n",
    "parse_list = []\n",
    "for i in n_pows:\n",
    "    nStars  = 10**i\n",
    "    nRed=int(nStars/2)\n",
    "    clear_data()\n",
    "    bonsai.run_plummer(nStars,data_prefix,bonsai_bin=bonsai_binary,T=T_,dt=step,dSnap=step,direct=dir_comp)\n",
    "    parse_list.append(bonsai.parse_save_log(outfile=None))"
   ]
  },
  {
   "cell_type": "code",
   "execution_count": 114,
   "metadata": {},
   "outputs": [],
   "source": [
    "token_arrays = {}\n",
    "for token in parse_list[0]:\n",
    "    token_arrays[token] = []\n",
    "    for parseds in parse_list:\n",
    "        # if parseds[token] == 0:\n",
    "        #     continue\n",
    "        token_arrays[token].append(parseds[token])\n",
    "\n",
    "# for tokens in token_arrays:\n",
    "#     print(tokens, token_arrays[tokens])\n",
    "counter = 0\n",
    "filename = plot_title + \"_{}.json\"\n",
    "while os.path.isfile(filename.format(counter)):\n",
    "    counter += 1\n",
    "filename = plot_title + \"_{}\"\n",
    "data_title_final = filename.format(counter)\n",
    "\n",
    "import json\n",
    "\n",
    "outfile = open(data_title_final + \".json\",\"w+\")\n",
    "outfile.write(json.dumps({\"n_pows\":n_pows,\"token_arrays\":token_arrays}, indent=4))\n",
    "outfile.close()\n"
   ]
  },
  {
   "cell_type": "code",
   "execution_count": 115,
   "metadata": {},
   "outputs": [],
   "source": [
    "use_keys = [\"Sorting\", \"Data-reordering\", \"Tree-construction\", \"Grav:\"]\n",
    "            #Sorting, Moving, Construction, Traverse\n",
    "use_arrays =  {key: token_arrays[key] for key in use_keys}"
   ]
  },
  {
   "cell_type": "code",
   "execution_count": 116,
   "metadata": {},
   "outputs": [
    {
     "data": {
      "text/plain": [
       "{'Sorting': [0.035924764,\n",
       "  0.036038234,\n",
       "  0.13430744600000005,\n",
       "  0.20381871000000007,\n",
       "  0.70221621,\n",
       "  5.7561525000000024],\n",
       " 'Data-reordering': [0.010843106000000002,\n",
       "  0.010543004,\n",
       "  0.008206719999999997,\n",
       "  0.019326714,\n",
       "  0.13239712000000006,\n",
       "  1.3072104],\n",
       " 'Tree-construction': [0.10304484599999998,\n",
       "  0.12144681200000003,\n",
       "  0.10403135199999997,\n",
       "  0.12370492999999998,\n",
       "  0.5134489199999999,\n",
       "  4.575327099999997],\n",
       " 'Grav:': [0.08692459889999998,\n",
       "  0.22421551000000003,\n",
       "  0.8023646260000001,\n",
       "  5.150879129999999,\n",
       "  58.494262600000006,\n",
       "  727.8940880000001]}"
      ]
     },
     "execution_count": 116,
     "metadata": {},
     "output_type": "execute_result"
    }
   ],
   "source": [
    "use_arrays"
   ]
  },
  {
   "cell_type": "code",
   "execution_count": 117,
   "metadata": {},
   "outputs": [
    {
     "name": "stdout",
     "output_type": "stream",
     "text": [
      "[100, 1000, 10000, 100000, 1000000, 10000000]\n"
     ]
    },
    {
     "data": {
      "image/png": "[encoded data removed]",
      "text/plain": [
       "<Figure size 640x480 with 1 Axes>"
      ]
     },
     "metadata": {},
     "output_type": "display_data"
    }
   ],
   "source": [
    "%matplotlib inline\n",
    "import matplotlib.pyplot as plt\n",
    "from matplotlib.ticker import ScalarFormatter\n",
    "import numpy as np\n",
    "\n",
    "x = []\n",
    "for n in n_pows:\n",
    "    x.append(10**n)\n",
    "print(x)\n",
    "\n",
    "fig, ax = plt.subplots()\n",
    "fig.suptitle('Plummer Barnes Hut | N particles vs time (s)', fontsize=12)\n",
    "ax.set_xlabel(\"N particles\")\n",
    "ax.set_ylabel(\"time (s)\")\n",
    "\n",
    "ax.grid(linestyle='-', linewidth=1)\n",
    "ax.set_yscale('log')\n",
    "for axis in [ax.xaxis, ax.yaxis]:\n",
    "    axis.set_major_formatter(ScalarFormatter())\n",
    "ax.set_xscale('symlog')\n",
    "\n",
    "for tokens in use_arrays:\n",
    "    ax.plot(x, token_arrays[tokens],label=tokens, marker ='*',linestyle='dashed')\n",
    "\n",
    "y = (x * np.log(x)) / 10**3\n",
    "ax.plot(x, y,label=\"nlogn\")\n",
    "\n",
    "ax.legend(loc=\"upper left\")\n",
    "plt.show()\n",
    "\n",
    "\n",
    "counter = 0\n",
    "filename = plot_title + \"_{}.png\"\n",
    "while os.path.isfile(filename.format(counter)):\n",
    "    counter += 1\n",
    "filename = plot_title + \"_{}\"\n",
    "plot_title_final = filename.format(counter)\n",
    "\n",
    "fig.savefig(plot_title_final+\".png\")\n",
    "\n",
    "plt.close()"
   ]
  },
  {
   "cell_type": "markdown",
   "metadata": {},
   "source": [
    "## barnes_hut_vs_all_pairs"
   ]
  },
  {
   "cell_type": "code",
   "execution_count": 12,
   "metadata": {},
   "outputs": [
    {
     "name": "stdout",
     "output_type": "stream",
     "text": [
      "../Bonsai/build/bonsai2_slowdust   --plummer 1000000 --snapname data/plummer_snap_mpi --snapiter 0.0625 -T 5 -dt 0.0625 --eps 0.05\n"
     ]
    },
    {
     "name": "stderr",
     "output_type": "stream",
     "text": [
      " Unknown ENV_VARIABLE:   -- Falling to basic forking method after MPI_Init, unsafe!\n",
      "Proc id: 0 @ Default , total processes: 1 (mpiInit) \n",
      "[INIT]\tUsed settings: \n",
      "[INIT]\tInput  filename \n",
      "[INIT]\tBonsai filename \n",
      "[INIT]\tLog filename gpuLog.log\n",
      "[INIT]\tTheta: \t\t0.75\t\teps: \t\t0.05\n",
      "[INIT]\tTimestep: \t0.0625\t\ttEnd: \t\t5\n",
      "[INIT]\titerEnd: \t1073741824\n",
      "[INIT]\tUse MPI-IO: \tNO\n",
      "[INIT]\tsnapshotFile: \tdata/plummer_snap_mpi\tsnapshotIter: \t0.0625\n",
      "[INIT]\tInput file: \t\t\tdevID: \t\t0\n",
      "[INIT]\tRemove dist: \t-1\n",
      "[INIT]\tRebuild tree every 1 timestep\n",
      "[INIT]\tRuntime logging is DISABLED \n",
      "[INIT]\tDirect gravitation is DISABLED\n",
      "[INIT]\tCode is built WITHOUT MPI Support \n"
     ]
    },
    {
     "name": "stdout",
     "output_type": "stream",
     "text": [
      "Using Plummer model with n= 1000000 per process \n",
      "................................................................"
     ]
    },
    {
     "name": "stderr",
     "output_type": "stream",
     "text": [
      "Proc: 0 Bootup times: Tree/MPI: 0.162429 Threads/log: 0.000114202 IC-model: 0 \n",
      " Start iterating\n",
      "iter=0 : time= 0  Etot= -0.245312591  Ekin= 0.249851   Epot= -0.495164 : de= -0 ( 0 ) d(de)= -0 ( 0 ) t_sim=  7.86781e-06 sec\n"
     ]
    },
    {
     "name": "stdout",
     "output_type": "stream",
     "text": [
      "\n",
      "iter=0 : time= 0  Etot= -0.245312591  Ekin= 0.249851   Epot= -0.495164 : de= -0 ( 0 ) d(de)= -0 ( 0 ) t_sim=  0 sec\n"
     ]
    },
    {
     "name": "stderr",
     "output_type": "stream",
     "text": [
      "iter=1 : time= 0.0625  Etot= -0.2453124097  Ekin= 0.249825   Epot= -0.495138 : de= -7.38727e-07 ( 7.38727e-07 ) d(de)= -7.38727e-07 ( 7.38727e-07 ) t_sim=  1.12597 sec\n"
     ]
    },
    {
     "name": "stdout",
     "output_type": "stream",
     "text": [
      "iter=1 : time= 0.0625  Etot= -0.2453124097  Ekin= 0.249825   Epot= -0.495138 : de= -7.38727e-07 ( 7.38727e-07 ) d(de)= -7.38727e-07 ( 7.38727e-07 ) t_sim=  1.12596 sec\n"
     ]
    },
    {
     "name": "stderr",
     "output_type": "stream",
     "text": [
      "iter=2 : time= 0.125  Etot= -0.2453116816  Ekin= 0.249707   Epot= -0.495019 : de= -3.70698e-06 ( 3.70698e-06 ) d(de)= -2.96826e-06 ( 2.96826e-06 ) t_sim=  1.39346 sec\n"
     ]
    },
    {
     "name": "stdout",
     "output_type": "stream",
     "text": [
      "iter=2 : time= 0.125  Etot= -0.2453116816  Ekin= 0.249707   Epot= -0.495019 : de= -3.70698e-06 ( 3.70698e-06 ) d(de)= -2.96826e-06 ( 2.96826e-06 ) t_sim=  1.39345 sec\n"
     ]
    },
    {
     "name": "stderr",
     "output_type": "stream",
     "text": [
      "iter=3 : time= 0.1875  Etot= -0.245310806  Ekin= 0.249503   Epot= -0.494814 : de= -7.27647e-06 ( 7.27647e-06 ) d(de)= -3.56951e-06 ( 3.56951e-06 ) t_sim=  1.71133 sec\n"
     ]
    },
    {
     "name": "stdout",
     "output_type": "stream",
     "text": [
      "iter=3 : time= 0.1875  Etot= -0.245310806  Ekin= 0.249503   Epot= -0.494814 : de= -7.27647e-06 ( 7.27647e-06 ) d(de)= -3.56951e-06 ( 3.56951e-06 ) t_sim=  1.71132 sec\n"
     ]
    },
    {
     "name": "stderr",
     "output_type": "stream",
     "text": [
      "iter=4 : time= 0.25  Etot= -0.2453091072  Ekin= 0.24922   Epot= -0.494529 : de= -1.42013e-05 ( 1.42013e-05 ) d(de)= -6.92493e-06 ( 6.92493e-06 ) t_sim=  2.03569 sec\n"
     ]
    },
    {
     "name": "stdout",
     "output_type": "stream",
     "text": [
      "iter=4 : time= 0.25  Etot= -0.2453091072  Ekin= 0.24922   Epot= -0.494529 : de= -1.42013e-05 ( 1.42013e-05 ) d(de)= -6.92493e-06 ( 6.92493e-06 ) t_sim=  2.03568 sec\n"
     ]
    },
    {
     "name": "stderr",
     "output_type": "stream",
     "text": [
      "iter=5 : time= 0.3125  Etot= -0.2453075121  Ekin= 0.24887   Epot= -0.494178 : de= -2.07035e-05 ( 2.07035e-05 ) d(de)= -6.5022e-06 ( 6.92493e-06 ) t_sim=  3.65494 sec\n"
     ]
    },
    {
     "name": "stdout",
     "output_type": "stream",
     "text": [
      "iter=5 : time= 0.3125  Etot= -0.2453075121  Ekin= 0.24887   Epot= -0.494178 : de= -2.07035e-05 ( 2.07035e-05 ) d(de)= -6.5022e-06 ( 6.92493e-06 ) t_sim=  3.65493 sec\n"
     ]
    },
    {
     "name": "stderr",
     "output_type": "stream",
     "text": [
      "iter=6 : time= 0.375  Etot= -0.2453063852  Ekin= 0.248463   Epot= -0.493769 : de= -2.52976e-05 ( 2.52976e-05 ) d(de)= -4.59422e-06 ( 6.92493e-06 ) t_sim=  5.03142 sec\n"
     ]
    },
    {
     "name": "stdout",
     "output_type": "stream",
     "text": [
      "iter=6 : time= 0.375  Etot= -0.2453063852  Ekin= 0.248463   Epot= -0.493769 : de= -2.52976e-05 ( 2.52976e-05 ) d(de)= -4.59422e-06 ( 6.92493e-06 ) t_sim=  5.03141 sec\n"
     ]
    },
    {
     "name": "stderr",
     "output_type": "stream",
     "text": [
      "iter=7 : time= 0.4375  Etot= -0.2453050638  Ekin= 0.248008   Epot= -0.493313 : de= -3.06839e-05 ( 3.06839e-05 ) d(de)= -5.3865e-06 ( 6.92493e-06 ) t_sim=  7.43695 sec\n"
     ]
    },
    {
     "name": "stdout",
     "output_type": "stream",
     "text": [
      "iter=7 : time= 0.4375  Etot= -0.2453050638  Ekin= 0.248008   Epot= -0.493313 : de= -3.06839e-05 ( 3.06839e-05 ) d(de)= -5.3865e-06 ( 6.92493e-06 ) t_sim=  7.43694 sec\n"
     ]
    },
    {
     "name": "stderr",
     "output_type": "stream",
     "text": [
      "iter=8 : time= 0.5  Etot= -0.2453039198  Ekin= 0.247513   Epot= -0.492817 : de= -3.53473e-05 ( 3.53473e-05 ) d(de)= -4.66355e-06 ( 6.92493e-06 ) t_sim=  7.97702 sec\n"
     ]
    },
    {
     "name": "stdout",
     "output_type": "stream",
     "text": [
      "iter=8 : time= 0.5  Etot= -0.2453039198  Ekin= 0.247513   Epot= -0.492817 : de= -3.53473e-05 ( 3.53473e-05 ) d(de)= -4.66355e-06 ( 6.92493e-06 ) t_sim=  7.97701 sec\n"
     ]
    },
    {
     "name": "stderr",
     "output_type": "stream",
     "text": [
      "iter=9 : time= 0.5625  Etot= -0.2453035068  Ekin= 0.246988   Epot= -0.492291 : de= -3.7031e-05 ( 3.7031e-05 ) d(de)= -1.68371e-06 ( 6.92493e-06 ) t_sim=  9.20301 sec\n"
     ]
    },
    {
     "name": "stdout",
     "output_type": "stream",
     "text": [
      "iter=9 : time= 0.5625  Etot= -0.2453035068  Ekin= 0.246988   Epot= -0.492291 : de= -3.7031e-05 ( 3.7031e-05 ) d(de)= -1.68371e-06 ( 6.92493e-06 ) t_sim=  9.203 sec\n"
     ]
    },
    {
     "name": "stderr",
     "output_type": "stream",
     "text": [
      "iter=10 : time= 0.625  Etot= -0.2453024067  Ekin= 0.246438   Epot= -0.49174 : de= -4.15155e-05 ( 4.15155e-05 ) d(de)= -4.48469e-06 ( 6.92493e-06 ) t_sim=  10.3847 sec\n"
     ]
    },
    {
     "name": "stdout",
     "output_type": "stream",
     "text": [
      "iter=10 : time= 0.625  Etot= -0.2453024067  Ekin= 0.246438   Epot= -0.49174 : de= -4.15155e-05 ( 4.15155e-05 ) d(de)= -4.48469e-06 ( 6.92493e-06 ) t_sim=  10.3847 sec\n"
     ]
    },
    {
     "name": "stderr",
     "output_type": "stream",
     "text": [
      "iter=11 : time= 0.6875  Etot= -0.2453006806  Ekin= 0.245869   Epot= -0.49117 : de= -4.85517e-05 ( 4.85517e-05 ) d(de)= -7.0365e-06 ( 7.0365e-06 ) t_sim=  13.0702 sec\n"
     ]
    },
    {
     "name": "stdout",
     "output_type": "stream",
     "text": [
      "iter=11 : time= 0.6875  Etot= -0.2453006806  Ekin= 0.245869   Epot= -0.49117 : de= -4.85517e-05 ( 4.85517e-05 ) d(de)= -7.0365e-06 ( 7.0365e-06 ) t_sim=  13.0702 sec\n"
     ]
    },
    {
     "name": "stderr",
     "output_type": "stream",
     "text": [
      "iter=12 : time= 0.75  Etot= -0.2452993977  Ekin= 0.245288   Epot= -0.490587 : de= -5.37816e-05 ( 5.37816e-05 ) d(de)= -5.23016e-06 ( 7.0365e-06 ) t_sim=  13.3698 sec\n"
     ]
    },
    {
     "name": "stdout",
     "output_type": "stream",
     "text": [
      "iter=12 : time= 0.75  Etot= -0.2452993977  Ekin= 0.245288   Epot= -0.490587 : de= -5.37816e-05 ( 5.37816e-05 ) d(de)= -5.23016e-06 ( 7.0365e-06 ) t_sim=  13.3698 sec\n"
     ]
    },
    {
     "name": "stderr",
     "output_type": "stream",
     "text": [
      "iter=13 : time= 0.8125  Etot= -0.2452985272  Ekin= 0.244697   Epot= -0.489996 : de= -5.733e-05 ( 5.733e-05 ) d(de)= -3.54854e-06 ( 7.0365e-06 ) t_sim=  14.1286 sec\n"
     ]
    },
    {
     "name": "stdout",
     "output_type": "stream",
     "text": [
      "iter=13 : time= 0.8125  Etot= -0.2452985272  Ekin= 0.244697   Epot= -0.489996 : de= -5.733e-05 ( 5.733e-05 ) d(de)= -3.54854e-06 ( 7.0365e-06 ) t_sim=  14.1286 sec\n"
     ]
    },
    {
     "name": "stderr",
     "output_type": "stream",
     "text": [
      "iter=14 : time= 0.875  Etot= -0.2452979026  Ekin= 0.244101   Epot= -0.489399 : de= -5.98759e-05 ( 5.98759e-05 ) d(de)= -2.54611e-06 ( 7.0365e-06 ) t_sim=  14.7581 sec\n"
     ]
    },
    {
     "name": "stdout",
     "output_type": "stream",
     "text": [
      "iter=14 : time= 0.875  Etot= -0.2452979026  Ekin= 0.244101   Epot= -0.489399 : de= -5.98759e-05 ( 5.98759e-05 ) d(de)= -2.54611e-06 ( 7.0365e-06 ) t_sim=  14.7581 sec\n"
     ]
    },
    {
     "name": "stderr",
     "output_type": "stream",
     "text": [
      "iter=15 : time= 0.9375  Etot= -0.2452970332  Ekin= 0.243504   Epot= -0.488801 : de= -6.34201e-05 ( 6.34201e-05 ) d(de)= -3.54436e-06 ( 7.0365e-06 ) t_sim=  15.0434 sec\n"
     ]
    },
    {
     "name": "stdout",
     "output_type": "stream",
     "text": [
      "iter=15 : time= 0.9375  Etot= -0.2452970332  Ekin= 0.243504   Epot= -0.488801 : de= -6.34201e-05 ( 6.34201e-05 ) d(de)= -3.54436e-06 ( 7.0365e-06 ) t_sim=  15.0434 sec\n"
     ]
    },
    {
     "name": "stderr",
     "output_type": "stream",
     "text": [
      "iter=16 : time= 1  Etot= -0.2452962752  Ekin= 0.242909   Epot= -0.488205 : de= -6.651e-05 ( 6.651e-05 ) d(de)= -3.0901e-06 ( 7.0365e-06 ) t_sim=  15.5727 sec\n"
     ]
    },
    {
     "name": "stdout",
     "output_type": "stream",
     "text": [
      "iter=16 : time= 1  Etot= -0.2452962752  Ekin= 0.242909   Epot= -0.488205 : de= -6.651e-05 ( 6.651e-05 ) d(de)= -3.0901e-06 ( 7.0365e-06 ) t_sim=  15.5727 sec\n"
     ]
    },
    {
     "name": "stderr",
     "output_type": "stream",
     "text": [
      "iter=17 : time= 1.0625  Etot= -0.2452955843  Ekin= 0.242319   Epot= -0.487614 : de= -6.93264e-05 ( 6.93264e-05 ) d(de)= -2.81661e-06 ( 7.0365e-06 ) t_sim=  15.8681 sec\n"
     ]
    },
    {
     "name": "stdout",
     "output_type": "stream",
     "text": [
      "iter=17 : time= 1.0625  Etot= -0.2452955843  Ekin= 0.242319   Epot= -0.487614 : de= -6.93264e-05 ( 6.93264e-05 ) d(de)= -2.81661e-06 ( 7.0365e-06 ) t_sim=  15.8681 sec\n"
     ]
    },
    {
     "name": "stderr",
     "output_type": "stream",
     "text": [
      "iter=18 : time= 1.125  Etot= -0.2452946859  Ekin= 0.241736   Epot= -0.487031 : de= -7.29886e-05 ( 7.29886e-05 ) d(de)= -3.66241e-06 ( 7.0365e-06 ) t_sim=  16.5621 sec\n"
     ]
    },
    {
     "name": "stdout",
     "output_type": "stream",
     "text": [
      "iter=18 : time= 1.125  Etot= -0.2452946859  Ekin= 0.241736   Epot= -0.487031 : de= -7.29886e-05 ( 7.29886e-05 ) d(de)= -3.66241e-06 ( 7.0365e-06 ) t_sim=  16.5621 sec\n"
     ]
    },
    {
     "name": "stderr",
     "output_type": "stream",
     "text": [
      "iter=19 : time= 1.1875  Etot= -0.2452946529  Ekin= 0.241163   Epot= -0.486458 : de= -7.31233e-05 ( 7.31233e-05 ) d(de)= -1.34717e-07 ( 7.0365e-06 ) t_sim=  16.8732 sec\n"
     ]
    },
    {
     "name": "stdout",
     "output_type": "stream",
     "text": [
      "iter=19 : time= 1.1875  Etot= -0.2452946529  Ekin= 0.241163   Epot= -0.486458 : de= -7.31233e-05 ( 7.31233e-05 ) d(de)= -1.34717e-07 ( 7.0365e-06 ) t_sim=  16.8732 sec\n"
     ]
    },
    {
     "name": "stderr",
     "output_type": "stream",
     "text": [
      "iter=20 : time= 1.25  Etot= -0.2452940868  Ekin= 0.240604   Epot= -0.485898 : de= -7.54309e-05 ( 7.54309e-05 ) d(de)= -2.30777e-06 ( 7.0365e-06 ) t_sim=  18.0333 sec\n"
     ]
    },
    {
     "name": "stdout",
     "output_type": "stream",
     "text": [
      "iter=20 : time= 1.25  Etot= -0.2452940868  Ekin= 0.240604   Epot= -0.485898 : de= -7.54309e-05 ( 7.54309e-05 ) d(de)= -2.30777e-06 ( 7.0365e-06 ) t_sim=  18.0333 sec\n"
     ]
    },
    {
     "name": "stderr",
     "output_type": "stream",
     "text": [
      "iter=21 : time= 1.3125  Etot= -0.2452932498  Ekin= 0.240058   Epot= -0.485352 : de= -7.88429e-05 ( 7.88429e-05 ) d(de)= -3.41229e-06 ( 7.0365e-06 ) t_sim=  18.337 sec\n"
     ]
    },
    {
     "name": "stdout",
     "output_type": "stream",
     "text": [
      "iter=21 : time= 1.3125  Etot= -0.2452932498  Ekin= 0.240058   Epot= -0.485352 : de= -7.88429e-05 ( 7.88429e-05 ) d(de)= -3.41229e-06 ( 7.0365e-06 ) t_sim=  18.337 sec\n"
     ]
    },
    {
     "name": "stderr",
     "output_type": "stream",
     "text": [
      "iter=22 : time= 1.375  Etot= -0.2452930947  Ekin= 0.239529   Epot= -0.484822 : de= -7.94752e-05 ( 7.94752e-05 ) d(de)= -6.32361e-07 ( 7.0365e-06 ) t_sim=  18.6519 sec\n"
     ]
    },
    {
     "name": "stdout",
     "output_type": "stream",
     "text": [
      "iter=22 : time= 1.375  Etot= -0.2452930947  Ekin= 0.239529   Epot= -0.484822 : de= -7.94752e-05 ( 7.94752e-05 ) d(de)= -6.32361e-07 ( 7.0365e-06 ) t_sim=  18.6519 sec\n"
     ]
    },
    {
     "name": "stderr",
     "output_type": "stream",
     "text": [
      "iter=23 : time= 1.4375  Etot= -0.2452930025  Ekin= 0.239017   Epot= -0.48431 : de= -7.98512e-05 ( 7.98512e-05 ) d(de)= -3.76007e-07 ( 7.0365e-06 ) t_sim=  18.9343 sec\n"
     ]
    },
    {
     "name": "stdout",
     "output_type": "stream",
     "text": [
      "iter=23 : time= 1.4375  Etot= -0.2452930025  Ekin= 0.239017   Epot= -0.48431 : de= -7.98512e-05 ( 7.98512e-05 ) d(de)= -3.76007e-07 ( 7.0365e-06 ) t_sim=  18.9343 sec\n"
     ]
    },
    {
     "name": "stderr",
     "output_type": "stream",
     "text": [
      "iter=24 : time= 1.5  Etot= -0.2452929187  Ekin= 0.238522   Epot= -0.483815 : de= -8.01927e-05 ( 8.01927e-05 ) d(de)= -3.41536e-07 ( 7.0365e-06 ) t_sim=  19.6044 sec\n"
     ]
    },
    {
     "name": "stdout",
     "output_type": "stream",
     "text": [
      "iter=24 : time= 1.5  Etot= -0.2452929187  Ekin= 0.238522   Epot= -0.483815 : de= -8.01927e-05 ( 8.01927e-05 ) d(de)= -3.41536e-07 ( 7.0365e-06 ) t_sim=  19.6044 sec\n"
     ]
    },
    {
     "name": "stderr",
     "output_type": "stream",
     "text": [
      "iter=25 : time= 1.5625  Etot= -0.2452923147  Ekin= 0.238046   Epot= -0.483338 : de= -8.26548e-05 ( 8.26548e-05 ) d(de)= -2.46231e-06 ( 7.0365e-06 ) t_sim=  19.8967 sec\n"
     ]
    },
    {
     "name": "stdout",
     "output_type": "stream",
     "text": [
      "iter=25 : time= 1.5625  Etot= -0.2452923147  Ekin= 0.238046   Epot= -0.483338 : de= -8.26548e-05 ( 8.26548e-05 ) d(de)= -2.46231e-06 ( 7.0365e-06 ) t_sim=  19.8967 sec\n"
     ]
    },
    {
     "name": "stderr",
     "output_type": "stream",
     "text": [
      "iter=26 : time= 1.625  Etot= -0.2452917836  Ekin= 0.237589   Epot= -0.482881 : de= -8.482e-05 ( 8.482e-05 ) d(de)= -2.16531e-06 ( 7.0365e-06 ) t_sim=  20.6241 sec\n"
     ]
    },
    {
     "name": "stdout",
     "output_type": "stream",
     "text": [
      "iter=26 : time= 1.625  Etot= -0.2452917836  Ekin= 0.237589   Epot= -0.482881 : de= -8.482e-05 ( 8.482e-05 ) d(de)= -2.16531e-06 ( 7.0365e-06 ) t_sim=  20.6241 sec\n"
     ]
    },
    {
     "name": "stderr",
     "output_type": "stream",
     "text": [
      "iter=27 : time= 1.6875  Etot= -0.2452912747  Ekin= 0.237153   Epot= -0.482444 : de= -8.68941e-05 ( 8.68941e-05 ) d(de)= -2.07435e-06 ( 7.0365e-06 ) t_sim=  20.9367 sec\n"
     ]
    },
    {
     "name": "stdout",
     "output_type": "stream",
     "text": [
      "iter=27 : time= 1.6875  Etot= -0.2452912747  Ekin= 0.237153   Epot= -0.482444 : de= -8.68941e-05 ( 8.68941e-05 ) d(de)= -2.07435e-06 ( 7.0365e-06 ) t_sim=  20.9367 sec\n"
     ]
    },
    {
     "name": "stderr",
     "output_type": "stream",
     "text": [
      "iter=28 : time= 1.75  Etot= -0.2452907218  Ekin= 0.23674   Epot= -0.48203 : de= -8.91483e-05 ( 8.91483e-05 ) d(de)= -2.25433e-06 ( 7.0365e-06 ) t_sim=  21.2881 sec\n"
     ]
    },
    {
     "name": "stdout",
     "output_type": "stream",
     "text": [
      "iter=28 : time= 1.75  Etot= -0.2452907218  Ekin= 0.23674   Epot= -0.48203 : de= -8.91483e-05 ( 8.91483e-05 ) d(de)= -2.25433e-06 ( 7.0365e-06 ) t_sim=  21.2881 sec\n"
     ]
    },
    {
     "name": "stderr",
     "output_type": "stream",
     "text": [
      "iter=29 : time= 1.8125  Etot= -0.2452910291  Ekin= 0.23635   Epot= -0.481641 : de= -8.78953e-05 ( 8.91483e-05 ) d(de)= 1.25303e-06 ( 7.0365e-06 ) t_sim=  21.6124 sec\n"
     ]
    },
    {
     "name": "stdout",
     "output_type": "stream",
     "text": [
      "iter=29 : time= 1.8125  Etot= -0.2452910291  Ekin= 0.23635   Epot= -0.481641 : de= -8.78953e-05 ( 8.91483e-05 ) d(de)= 1.25303e-06 ( 7.0365e-06 ) t_sim=  21.6124 sec\n"
     ]
    },
    {
     "name": "stderr",
     "output_type": "stream",
     "text": [
      "iter=30 : time= 1.875  Etot= -0.2452902965  Ekin= 0.235986   Epot= -0.481276 : de= -9.08818e-05 ( 9.08818e-05 ) d(de)= -2.98667e-06 ( 7.0365e-06 ) t_sim=  22.1457 sec\n"
     ]
    },
    {
     "name": "stdout",
     "output_type": "stream",
     "text": [
      "iter=30 : time= 1.875  Etot= -0.2452902965  Ekin= 0.235986   Epot= -0.481276 : de= -9.08818e-05 ( 9.08818e-05 ) d(de)= -2.98667e-06 ( 7.0365e-06 ) t_sim=  22.1457 sec\n"
     ]
    },
    {
     "name": "stderr",
     "output_type": "stream",
     "text": [
      "iter=31 : time= 1.9375  Etot= -0.2452896037  Ekin= 0.235649   Epot= -0.480938 : de= -9.3706e-05 ( 9.3706e-05 ) d(de)= -2.82455e-06 ( 7.0365e-06 ) t_sim=  22.415 sec\n"
     ]
    },
    {
     "name": "stdout",
     "output_type": "stream",
     "text": [
      "iter=31 : time= 1.9375  Etot= -0.2452896037  Ekin= 0.235649   Epot= -0.480938 : de= -9.3706e-05 ( 9.3706e-05 ) d(de)= -2.82455e-06 ( 7.0365e-06 ) t_sim=  22.415 sec\n"
     ]
    },
    {
     "name": "stderr",
     "output_type": "stream",
     "text": [
      "iter=32 : time= 2  Etot= -0.2452892771  Ekin= 0.235339   Epot= -0.480628 : de= -9.50376e-05 ( 9.50376e-05 ) d(de)= -1.33165e-06 ( 7.0365e-06 ) t_sim=  22.8238 sec\n"
     ]
    },
    {
     "name": "stdout",
     "output_type": "stream",
     "text": [
      "iter=32 : time= 2  Etot= -0.2452892771  Ekin= 0.235339   Epot= -0.480628 : de= -9.50376e-05 ( 9.50376e-05 ) d(de)= -1.33165e-06 ( 7.0365e-06 ) t_sim=  22.8238 sec\n"
     ]
    },
    {
     "name": "stderr",
     "output_type": "stream",
     "text": [
      "iter=33 : time= 2.0625  Etot= -0.2452891619  Ekin= 0.235058   Epot= -0.480347 : de= -9.55068e-05 ( 9.55068e-05 ) d(de)= -4.69306e-07 ( 7.0365e-06 ) t_sim=  23.1178 sec\n"
     ]
    },
    {
     "name": "stdout",
     "output_type": "stream",
     "text": [
      "iter=33 : time= 2.0625  Etot= -0.2452891619  Ekin= 0.235058   Epot= -0.480347 : de= -9.55068e-05 ( 9.55068e-05 ) d(de)= -4.69306e-07 ( 7.0365e-06 ) t_sim=  23.1178 sec\n"
     ]
    },
    {
     "name": "stderr",
     "output_type": "stream",
     "text": [
      "iter=34 : time= 2.125  Etot= -0.2452886861  Ekin= 0.234805   Epot= -0.480094 : de= -9.74466e-05 ( 9.74466e-05 ) d(de)= -1.93994e-06 ( 7.0365e-06 ) t_sim=  23.4436 sec\n"
     ]
    },
    {
     "name": "stdout",
     "output_type": "stream",
     "text": [
      "iter=34 : time= 2.125  Etot= -0.2452886861  Ekin= 0.234805   Epot= -0.480094 : de= -9.74466e-05 ( 9.74466e-05 ) d(de)= -1.93994e-06 ( 7.0365e-06 ) t_sim=  23.4435 sec\n"
     ]
    },
    {
     "name": "stderr",
     "output_type": "stream",
     "text": [
      "iter=35 : time= 2.1875  Etot= -0.245288262  Ekin= 0.234581   Epot= -0.479869 : de= -9.91753e-05 ( 9.91753e-05 ) d(de)= -1.72888e-06 ( 7.0365e-06 ) t_sim=  23.7992 sec\n"
     ]
    },
    {
     "name": "stdout",
     "output_type": "stream",
     "text": [
      "iter=35 : time= 2.1875  Etot= -0.245288262  Ekin= 0.234581   Epot= -0.479869 : de= -9.91753e-05 ( 9.91753e-05 ) d(de)= -1.72888e-06 ( 7.0365e-06 ) t_sim=  23.7992 sec\n"
     ]
    },
    {
     "name": "stderr",
     "output_type": "stream",
     "text": [
      "iter=36 : time= 2.25  Etot= -0.2452888132  Ekin= 0.234384   Epot= -0.479672 : de= -9.69286e-05 ( 9.91753e-05 ) d(de)= 2.24693e-06 ( 7.0365e-06 ) t_sim=  24.2224 sec\n"
     ]
    },
    {
     "name": "stdout",
     "output_type": "stream",
     "text": [
      "iter=36 : time= 2.25  Etot= -0.2452888132  Ekin= 0.234384   Epot= -0.479672 : de= -9.69286e-05 ( 9.91753e-05 ) d(de)= 2.24693e-06 ( 7.0365e-06 ) t_sim=  24.2224 sec\n"
     ]
    },
    {
     "name": "stderr",
     "output_type": "stream",
     "text": [
      "iter=37 : time= 2.3125  Etot= -0.2452896866  Ekin= 0.234212   Epot= -0.479501 : de= -9.33682e-05 ( 9.91753e-05 ) d(de)= 3.56077e-06 ( 7.0365e-06 ) t_sim=  24.5336 sec\n"
     ]
    },
    {
     "name": "stdout",
     "output_type": "stream",
     "text": [
      "iter=37 : time= 2.3125  Etot= -0.2452896866  Ekin= 0.234212   Epot= -0.479501 : de= -9.33682e-05 ( 9.91753e-05 ) d(de)= 3.56077e-06 ( 7.0365e-06 ) t_sim=  24.5335 sec\n"
     ]
    },
    {
     "name": "stderr",
     "output_type": "stream",
     "text": [
      "iter=38 : time= 2.375  Etot= -0.2452895636  Ekin= 0.234063   Epot= -0.479353 : de= -9.38693e-05 ( 9.91753e-05 ) d(de)= -5.0118e-07 ( 7.0365e-06 ) t_sim=  24.9918 sec\n"
     ]
    },
    {
     "name": "stdout",
     "output_type": "stream",
     "text": [
      "iter=38 : time= 2.375  Etot= -0.2452895636  Ekin= 0.234063   Epot= -0.479353 : de= -9.38693e-05 ( 9.91753e-05 ) d(de)= -5.0118e-07 ( 7.0365e-06 ) t_sim=  24.9918 sec\n"
     ]
    },
    {
     "name": "stderr",
     "output_type": "stream",
     "text": [
      "iter=39 : time= 2.4375  Etot= -0.2452899185  Ekin= 0.233935   Epot= -0.479225 : de= -9.24226e-05 ( 9.91753e-05 ) d(de)= 1.4468e-06 ( 7.0365e-06 ) t_sim=  25.2838 sec\n"
     ]
    },
    {
     "name": "stdout",
     "output_type": "stream",
     "text": [
      "iter=39 : time= 2.4375  Etot= -0.2452899185  Ekin= 0.233935   Epot= -0.479225 : de= -9.24226e-05 ( 9.91753e-05 ) d(de)= 1.4468e-06 ( 7.0365e-06 ) t_sim=  25.2837 sec\n"
     ]
    },
    {
     "name": "stderr",
     "output_type": "stream",
     "text": [
      "iter=40 : time= 2.5  Etot= -0.2452900054  Ekin= 0.233827   Epot= -0.479117 : de= -9.20684e-05 ( 9.91753e-05 ) d(de)= 3.54292e-07 ( 7.0365e-06 ) t_sim=  25.7052 sec\n"
     ]
    },
    {
     "name": "stdout",
     "output_type": "stream",
     "text": [
      "iter=40 : time= 2.5  Etot= -0.2452900054  Ekin= 0.233827   Epot= -0.479117 : de= -9.20684e-05 ( 9.91753e-05 ) d(de)= 3.54292e-07 ( 7.0365e-06 ) t_sim=  25.7051 sec\n"
     ]
    },
    {
     "name": "stderr",
     "output_type": "stream",
     "text": [
      "iter=41 : time= 2.5625  Etot= -0.2452895859  Ekin= 0.233736   Epot= -0.479026 : de= -9.37784e-05 ( 9.91753e-05 ) d(de)= -1.71021e-06 ( 7.0365e-06 ) t_sim=  26.0842 sec\n"
     ]
    },
    {
     "name": "stdout",
     "output_type": "stream",
     "text": [
      "iter=41 : time= 2.5625  Etot= -0.2452895859  Ekin= 0.233736   Epot= -0.479026 : de= -9.37784e-05 ( 9.91753e-05 ) d(de)= -1.71021e-06 ( 7.0365e-06 ) t_sim=  26.0842 sec\n"
     ]
    },
    {
     "name": "stderr",
     "output_type": "stream",
     "text": [
      "iter=42 : time= 2.625  Etot= -0.2452899385  Ekin= 0.233664   Epot= -0.478954 : de= -9.23414e-05 ( 9.91753e-05 ) d(de)= 1.43715e-06 ( 7.0365e-06 ) t_sim=  26.3852 sec\n"
     ]
    },
    {
     "name": "stdout",
     "output_type": "stream",
     "text": [
      "iter=42 : time= 2.625  Etot= -0.2452899385  Ekin= 0.233664   Epot= -0.478954 : de= -9.23414e-05 ( 9.91753e-05 ) d(de)= 1.43715e-06 ( 7.0365e-06 ) t_sim=  26.3851 sec\n"
     ]
    },
    {
     "name": "stderr",
     "output_type": "stream",
     "text": [
      "iter=43 : time= 2.6875  Etot= -0.2452898098  Ekin= 0.233611   Epot= -0.4789 : de= -9.2866e-05 ( 9.91753e-05 ) d(de)= -5.24627e-07 ( 7.0365e-06 ) t_sim=  26.7119 sec\n"
     ]
    },
    {
     "name": "stdout",
     "output_type": "stream",
     "text": [
      "iter=43 : time= 2.6875  Etot= -0.2452898098  Ekin= 0.233611   Epot= -0.4789 : de= -9.2866e-05 ( 9.91753e-05 ) d(de)= -5.24627e-07 ( 7.0365e-06 ) t_sim=  26.7118 sec\n"
     ]
    },
    {
     "name": "stderr",
     "output_type": "stream",
     "text": [
      "iter=44 : time= 2.75  Etot= -0.2452901864  Ekin= 0.233576   Epot= -0.478866 : de= -9.13308e-05 ( 9.91753e-05 ) d(de)= 1.53529e-06 ( 7.0365e-06 ) t_sim=  27.1357 sec\n"
     ]
    },
    {
     "name": "stdout",
     "output_type": "stream",
     "text": [
      "iter=44 : time= 2.75  Etot= -0.2452901864  Ekin= 0.233576   Epot= -0.478866 : de= -9.13308e-05 ( 9.91753e-05 ) d(de)= 1.53529e-06 ( 7.0365e-06 ) t_sim=  27.1356 sec\n"
     ]
    },
    {
     "name": "stderr",
     "output_type": "stream",
     "text": [
      "iter=45 : time= 2.8125  Etot= -0.245289745  Ekin= 0.233559   Epot= -0.478849 : de= -9.31302e-05 ( 9.91753e-05 ) d(de)= -1.79952e-06 ( 7.0365e-06 ) t_sim=  27.4325 sec\n"
     ]
    },
    {
     "name": "stdout",
     "output_type": "stream",
     "text": [
      "iter=45 : time= 2.8125  Etot= -0.245289745  Ekin= 0.233559   Epot= -0.478849 : de= -9.31302e-05 ( 9.91753e-05 ) d(de)= -1.79952e-06 ( 7.0365e-06 ) t_sim=  27.4325 sec\n"
     ]
    },
    {
     "name": "stderr",
     "output_type": "stream",
     "text": [
      "iter=46 : time= 2.875  Etot= -0.2452897632  Ekin= 0.233561   Epot= -0.47885 : de= -9.3056e-05 ( 9.91753e-05 ) d(de)= 7.41679e-08 ( 7.0365e-06 ) t_sim=  27.7363 sec\n"
     ]
    },
    {
     "name": "stdout",
     "output_type": "stream",
     "text": [
      "iter=46 : time= 2.875  Etot= -0.2452897632  Ekin= 0.233561   Epot= -0.47885 : de= -9.3056e-05 ( 9.91753e-05 ) d(de)= 7.41679e-08 ( 7.0365e-06 ) t_sim=  27.7363 sec\n"
     ]
    },
    {
     "name": "stderr",
     "output_type": "stream",
     "text": [
      "iter=47 : time= 2.9375  Etot= -0.2452900724  Ekin= 0.23358   Epot= -0.47887 : de= -9.17954e-05 ( 9.91753e-05 ) d(de)= 1.26075e-06 ( 7.0365e-06 ) t_sim=  28.055 sec\n"
     ]
    },
    {
     "name": "stdout",
     "output_type": "stream",
     "text": [
      "iter=47 : time= 2.9375  Etot= -0.2452900724  Ekin= 0.23358   Epot= -0.47887 : de= -9.17954e-05 ( 9.91753e-05 ) d(de)= 1.26075e-06 ( 7.0365e-06 ) t_sim=  28.055 sec\n"
     ]
    },
    {
     "name": "stderr",
     "output_type": "stream",
     "text": [
      "iter=48 : time= 3  Etot= -0.2452904526  Ekin= 0.233616   Epot= -0.478906 : de= -9.02454e-05 ( 9.91753e-05 ) d(de)= 1.55011e-06 ( 7.0365e-06 ) t_sim=  28.9497 sec\n"
     ]
    },
    {
     "name": "stdout",
     "output_type": "stream",
     "text": [
      "iter=48 : time= 3  Etot= -0.2452904526  Ekin= 0.233616   Epot= -0.478906 : de= -9.02454e-05 ( 9.91753e-05 ) d(de)= 1.55011e-06 ( 7.0365e-06 ) t_sim=  28.9497 sec\n"
     ]
    },
    {
     "name": "stderr",
     "output_type": "stream",
     "text": [
      "iter=49 : time= 3.0625  Etot= -0.2452901641  Ekin= 0.233668   Epot= -0.478958 : de= -9.14217e-05 ( 9.91753e-05 ) d(de)= -1.17639e-06 ( 7.0365e-06 ) t_sim=  29.2603 sec\n"
     ]
    },
    {
     "name": "stdout",
     "output_type": "stream",
     "text": [
      "iter=49 : time= 3.0625  Etot= -0.2452901641  Ekin= 0.233668   Epot= -0.478958 : de= -9.14217e-05 ( 9.91753e-05 ) d(de)= -1.17639e-06 ( 7.0365e-06 ) t_sim=  29.2603 sec\n"
     ]
    },
    {
     "name": "stderr",
     "output_type": "stream",
     "text": [
      "iter=50 : time= 3.125  Etot= -0.2452902243  Ekin= 0.233736   Epot= -0.479027 : de= -9.11764e-05 ( 9.91753e-05 ) d(de)= 2.45367e-07 ( 7.0365e-06 ) t_sim=  29.5951 sec\n"
     ]
    },
    {
     "name": "stdout",
     "output_type": "stream",
     "text": [
      "iter=50 : time= 3.125  Etot= -0.2452902243  Ekin= 0.233736   Epot= -0.479027 : de= -9.11764e-05 ( 9.91753e-05 ) d(de)= 2.45367e-07 ( 7.0365e-06 ) t_sim=  29.5951 sec\n"
     ]
    },
    {
     "name": "stderr",
     "output_type": "stream",
     "text": [
      "iter=51 : time= 3.1875  Etot= -0.2452908787  Ekin= 0.23382   Epot= -0.479111 : de= -8.85086e-05 ( 9.91753e-05 ) d(de)= 2.66805e-06 ( 7.0365e-06 ) t_sim=  30.0124 sec\n"
     ]
    },
    {
     "name": "stdout",
     "output_type": "stream",
     "text": [
      "iter=51 : time= 3.1875  Etot= -0.2452908787  Ekin= 0.23382   Epot= -0.479111 : de= -8.85086e-05 ( 9.91753e-05 ) d(de)= 2.66805e-06 ( 7.0365e-06 ) t_sim=  30.0124 sec\n"
     ]
    },
    {
     "name": "stderr",
     "output_type": "stream",
     "text": [
      "iter=52 : time= 3.25  Etot= -0.2452905957  Ekin= 0.233918   Epot= -0.479209 : de= -8.96624e-05 ( 9.91753e-05 ) d(de)= -1.15394e-06 ( 7.0365e-06 ) t_sim=  30.4799 sec\n"
     ]
    },
    {
     "name": "stdout",
     "output_type": "stream",
     "text": [
      "iter=52 : time= 3.25  Etot= -0.2452905957  Ekin= 0.233918   Epot= -0.479209 : de= -8.96624e-05 ( 9.91753e-05 ) d(de)= -1.15394e-06 ( 7.0365e-06 ) t_sim=  30.4799 sec\n"
     ]
    },
    {
     "name": "stderr",
     "output_type": "stream",
     "text": [
      "iter=53 : time= 3.3125  Etot= -0.2452910242  Ekin= 0.234029   Epot= -0.47932 : de= -8.79155e-05 ( 9.91753e-05 ) d(de)= 1.74706e-06 ( 7.0365e-06 ) t_sim=  30.9008 sec\n"
     ]
    },
    {
     "name": "stdout",
     "output_type": "stream",
     "text": [
      "iter=53 : time= 3.3125  Etot= -0.2452910242  Ekin= 0.234029   Epot= -0.47932 : de= -8.79155e-05 ( 9.91753e-05 ) d(de)= 1.74706e-06 ( 7.0365e-06 ) t_sim=  30.9008 sec\n"
     ]
    },
    {
     "name": "stderr",
     "output_type": "stream",
     "text": [
      "iter=54 : time= 3.375  Etot= -0.2452914599  Ekin= 0.234151   Epot= -0.479442 : de= -8.61394e-05 ( 9.91753e-05 ) d(de)= 1.7762e-06 ( 7.0365e-06 ) t_sim=  31.2352 sec\n"
     ]
    },
    {
     "name": "stdout",
     "output_type": "stream",
     "text": [
      "iter=54 : time= 3.375  Etot= -0.2452914599  Ekin= 0.234151   Epot= -0.479442 : de= -8.61394e-05 ( 9.91753e-05 ) d(de)= 1.7762e-06 ( 7.0365e-06 ) t_sim=  31.2352 sec\n"
     ]
    },
    {
     "name": "stderr",
     "output_type": "stream",
     "text": [
      "iter=55 : time= 3.4375  Etot= -0.2452919152  Ekin= 0.234282   Epot= -0.479573 : de= -8.42834e-05 ( 9.91753e-05 ) d(de)= 1.85625e-06 ( 7.0365e-06 ) t_sim=  31.6962 sec\n"
     ]
    },
    {
     "name": "stdout",
     "output_type": "stream",
     "text": [
      "iter=55 : time= 3.4375  Etot= -0.2452919152  Ekin= 0.234282   Epot= -0.479573 : de= -8.42834e-05 ( 9.91753e-05 ) d(de)= 1.85625e-06 ( 7.0365e-06 ) t_sim=  31.6962 sec\n"
     ]
    },
    {
     "name": "stderr",
     "output_type": "stream",
     "text": [
      "iter=56 : time= 3.5  Etot= -0.2452927229  Ekin= 0.234419   Epot= -0.479712 : de= -8.09907e-05 ( 9.91753e-05 ) d(de)= 3.29296e-06 ( 7.0365e-06 ) t_sim=  32.11 sec\n"
     ]
    },
    {
     "name": "stdout",
     "output_type": "stream",
     "text": [
      "iter=56 : time= 3.5  Etot= -0.2452927229  Ekin= 0.234419   Epot= -0.479712 : de= -8.09907e-05 ( 9.91753e-05 ) d(de)= 3.29296e-06 ( 7.0365e-06 ) t_sim=  32.11 sec\n"
     ]
    },
    {
     "name": "stderr",
     "output_type": "stream",
     "text": [
      "iter=57 : time= 3.5625  Etot= -0.2452931801  Ekin= 0.234561   Epot= -0.479855 : de= -7.9127e-05 ( 9.91753e-05 ) d(de)= 1.86385e-06 ( 7.0365e-06 ) t_sim=  32.6822 sec\n"
     ]
    },
    {
     "name": "stdout",
     "output_type": "stream",
     "text": [
      "iter=57 : time= 3.5625  Etot= -0.2452931801  Ekin= 0.234561   Epot= -0.479855 : de= -7.9127e-05 ( 9.91753e-05 ) d(de)= 1.86385e-06 ( 7.0365e-06 ) t_sim=  32.6822 sec\n"
     ]
    },
    {
     "name": "stderr",
     "output_type": "stream",
     "text": [
      "iter=58 : time= 3.625  Etot= -0.2452930475  Ekin= 0.234707   Epot= -0.48 : de= -7.96676e-05 ( 9.91753e-05 ) d(de)= -5.4064e-07 ( 7.0365e-06 ) t_sim=  32.985 sec\n"
     ]
    },
    {
     "name": "stdout",
     "output_type": "stream",
     "text": [
      "iter=58 : time= 3.625  Etot= -0.2452930475  Ekin= 0.234707   Epot= -0.48 : de= -7.96676e-05 ( 9.91753e-05 ) d(de)= -5.4064e-07 ( 7.0365e-06 ) t_sim=  32.9849 sec\n",
      "iter=59 : time= 3.6875  Etot= -0.245293527  Ekin= 0.234856   Epot= -0.480149 : de= -7.77129e-05 ( 9.91753e-05 ) d(de)= 1.95486e-06 ( 7.0365e-06 ) t_sim=  33.407 sec\n"
     ]
    },
    {
     "name": "stderr",
     "output_type": "stream",
     "text": [
      "iter=59 : time= 3.6875  Etot= -0.245293527  Ekin= 0.234856   Epot= -0.480149 : de= -7.77129e-05 ( 9.91753e-05 ) d(de)= 1.95486e-06 ( 7.0365e-06 ) t_sim=  33.407 sec\n",
      "iter=60 : time= 3.75  Etot= -0.2452939046  Ekin= 0.235006   Epot= -0.480299 : de= -7.61737e-05 ( 9.91753e-05 ) d(de)= 1.5393e-06 ( 7.0365e-06 ) t_sim=  33.8046 sec\n"
     ]
    },
    {
     "name": "stdout",
     "output_type": "stream",
     "text": [
      "iter=60 : time= 3.75  Etot= -0.2452939046  Ekin= 0.235006   Epot= -0.480299 : de= -7.61737e-05 ( 9.91753e-05 ) d(de)= 1.5393e-06 ( 7.0365e-06 ) t_sim=  33.8046 sec\n"
     ]
    },
    {
     "name": "stderr",
     "output_type": "stream",
     "text": [
      "iter=61 : time= 3.8125  Etot= -0.2452943114  Ekin= 0.235156   Epot= -0.48045 : de= -7.45153e-05 ( 9.91753e-05 ) d(de)= 1.65855e-06 ( 7.0365e-06 ) t_sim=  34.1521 sec\n"
     ]
    },
    {
     "name": "stdout",
     "output_type": "stream",
     "text": [
      "iter=61 : time= 3.8125  Etot= -0.2452943114  Ekin= 0.235156   Epot= -0.48045 : de= -7.45153e-05 ( 9.91753e-05 ) d(de)= 1.65855e-06 ( 7.0365e-06 ) t_sim=  34.1521 sec\n"
     ]
    },
    {
     "name": "stderr",
     "output_type": "stream",
     "text": [
      "iter=62 : time= 3.875  Etot= -0.2452940423  Ekin= 0.235305   Epot= -0.480599 : de= -7.56124e-05 ( 9.91753e-05 ) d(de)= -1.09723e-06 ( 7.0365e-06 ) t_sim=  35.0389 sec\n"
     ]
    },
    {
     "name": "stdout",
     "output_type": "stream",
     "text": [
      "iter=62 : time= 3.875  Etot= -0.2452940423  Ekin= 0.235305   Epot= -0.480599 : de= -7.56124e-05 ( 9.91753e-05 ) d(de)= -1.09723e-06 ( 7.0365e-06 ) t_sim=  35.0389 sec\n"
     ]
    },
    {
     "name": "stderr",
     "output_type": "stream",
     "text": [
      "iter=63 : time= 3.9375  Etot= -0.2452938074  Ekin= 0.235452   Epot= -0.480746 : de= -7.65698e-05 ( 9.91753e-05 ) d(de)= -9.57429e-07 ( 7.0365e-06 ) t_sim=  36.4965 sec\n"
     ]
    },
    {
     "name": "stdout",
     "output_type": "stream",
     "text": [
      "iter=63 : time= 3.9375  Etot= -0.2452938074  Ekin= 0.235452   Epot= -0.480746 : de= -7.65698e-05 ( 9.91753e-05 ) d(de)= -9.57429e-07 ( 7.0365e-06 ) t_sim=  36.4965 sec\n"
     ]
    },
    {
     "name": "stderr",
     "output_type": "stream",
     "text": [
      "iter=64 : time= 4  Etot= -0.2452940304  Ekin= 0.235597   Epot= -0.480891 : de= -7.56607e-05 ( 9.91753e-05 ) d(de)= 9.0913e-07 ( 7.0365e-06 ) t_sim=  40.1286 sec\n"
     ]
    },
    {
     "name": "stdout",
     "output_type": "stream",
     "text": [
      "iter=64 : time= 4  Etot= -0.2452940304  Ekin= 0.235597   Epot= -0.480891 : de= -7.56607e-05 ( 9.91753e-05 ) d(de)= 9.0913e-07 ( 7.0365e-06 ) t_sim=  40.1286 sec\n"
     ]
    },
    {
     "name": "stderr",
     "output_type": "stream",
     "text": [
      "iter=65 : time= 4.0625  Etot= -0.2452935846  Ekin= 0.23574   Epot= -0.481034 : de= -7.74782e-05 ( 9.91753e-05 ) d(de)= -1.81768e-06 ( 7.0365e-06 ) t_sim=  40.4631 sec\n"
     ]
    },
    {
     "name": "stdout",
     "output_type": "stream",
     "text": [
      "iter=65 : time= 4.0625  Etot= -0.2452935846  Ekin= 0.23574   Epot= -0.481034 : de= -7.74782e-05 ( 9.91753e-05 ) d(de)= -1.81768e-06 ( 7.0365e-06 ) t_sim=  40.4631 sec\n"
     ]
    },
    {
     "name": "stderr",
     "output_type": "stream",
     "text": [
      "iter=66 : time= 4.125  Etot= -0.2452939726  Ekin= 0.235881   Epot= -0.481175 : de= -7.58964e-05 ( 9.91753e-05 ) d(de)= 1.58199e-06 ( 7.0365e-06 ) t_sim=  41.1445 sec\n"
     ]
    },
    {
     "name": "stdout",
     "output_type": "stream",
     "text": [
      "iter=66 : time= 4.125  Etot= -0.2452939726  Ekin= 0.235881   Epot= -0.481175 : de= -7.58964e-05 ( 9.91753e-05 ) d(de)= 1.58199e-06 ( 7.0365e-06 ) t_sim=  41.1445 sec\n"
     ]
    },
    {
     "name": "stderr",
     "output_type": "stream",
     "text": [
      "iter=67 : time= 4.1875  Etot= -0.2452948222  Ekin= 0.236022   Epot= -0.481317 : de= -7.24331e-05 ( 9.91753e-05 ) d(de)= 3.46355e-06 ( 7.0365e-06 ) t_sim=  41.7967 sec\n"
     ]
    },
    {
     "name": "stdout",
     "output_type": "stream",
     "text": [
      "iter=67 : time= 4.1875  Etot= -0.2452948222  Ekin= 0.236022   Epot= -0.481317 : de= -7.24331e-05 ( 9.91753e-05 ) d(de)= 3.46355e-06 ( 7.0365e-06 ) t_sim=  41.7967 sec\n"
     ]
    },
    {
     "name": "stderr",
     "output_type": "stream",
     "text": [
      "iter=68 : time= 4.25  Etot= -0.2452949331  Ekin= 0.236162   Epot= -0.481457 : de= -7.19812e-05 ( 9.91753e-05 ) d(de)= 4.51926e-07 ( 7.0365e-06 ) t_sim=  42.7239 sec\n"
     ]
    },
    {
     "name": "stdout",
     "output_type": "stream",
     "text": [
      "iter=68 : time= 4.25  Etot= -0.2452949331  Ekin= 0.236162   Epot= -0.481457 : de= -7.19812e-05 ( 9.91753e-05 ) d(de)= 4.51926e-07 ( 7.0365e-06 ) t_sim=  42.7239 sec\n"
     ]
    },
    {
     "name": "stderr",
     "output_type": "stream",
     "text": [
      "iter=69 : time= 4.3125  Etot= -0.2452952489  Ekin= 0.236302   Epot= -0.481598 : de= -7.06938e-05 ( 9.91753e-05 ) d(de)= 1.28746e-06 ( 7.0365e-06 ) t_sim=  43.7365 sec\n"
     ]
    },
    {
     "name": "stdout",
     "output_type": "stream",
     "text": [
      "iter=69 : time= 4.3125  Etot= -0.2452952489  Ekin= 0.236302   Epot= -0.481598 : de= -7.06938e-05 ( 9.91753e-05 ) d(de)= 1.28746e-06 ( 7.0365e-06 ) t_sim=  43.7365 sec\n"
     ]
    },
    {
     "name": "stderr",
     "output_type": "stream",
     "text": [
      "iter=70 : time= 4.375  Etot= -0.2452956349  Ekin= 0.236442   Epot= -0.481738 : de= -6.91202e-05 ( 9.91753e-05 ) d(de)= 1.57376e-06 ( 7.0365e-06 ) t_sim=  44.7221 sec\n"
     ]
    },
    {
     "name": "stdout",
     "output_type": "stream",
     "text": [
      "iter=70 : time= 4.375  Etot= -0.2452956349  Ekin= 0.236442   Epot= -0.481738 : de= -6.91202e-05 ( 9.91753e-05 ) d(de)= 1.57376e-06 ( 7.0365e-06 ) t_sim=  44.7221 sec\n"
     ]
    },
    {
     "name": "stderr",
     "output_type": "stream",
     "text": [
      "iter=71 : time= 4.4375  Etot= -0.2452958107  Ekin= 0.23658   Epot= -0.481876 : de= -6.84036e-05 ( 9.91753e-05 ) d(de)= 7.16667e-07 ( 7.0365e-06 ) t_sim=  48.7008 sec\n"
     ]
    },
    {
     "name": "stdout",
     "output_type": "stream",
     "text": [
      "iter=71 : time= 4.4375  Etot= -0.2452958107  Ekin= 0.23658   Epot= -0.481876 : de= -6.84036e-05 ( 9.91753e-05 ) d(de)= 7.16667e-07 ( 7.0365e-06 ) t_sim=  48.7008 sec\n"
     ]
    },
    {
     "name": "stderr",
     "output_type": "stream",
     "text": [
      "iter=72 : time= 4.5  Etot= -0.2452960025  Ekin= 0.236716   Epot= -0.482012 : de= -6.76216e-05 ( 9.91753e-05 ) d(de)= 7.82022e-07 ( 7.0365e-06 ) t_sim=  50.2412 sec\n"
     ]
    },
    {
     "name": "stdout",
     "output_type": "stream",
     "text": [
      "iter=72 : time= 4.5  Etot= -0.2452960025  Ekin= 0.236716   Epot= -0.482012 : de= -6.76216e-05 ( 9.91753e-05 ) d(de)= 7.82022e-07 ( 7.0365e-06 ) t_sim=  50.2412 sec\n"
     ]
    },
    {
     "name": "stderr",
     "output_type": "stream",
     "text": [
      "iter=73 : time= 4.5625  Etot= -0.2452961079  Ekin= 0.236847   Epot= -0.482144 : de= -6.71921e-05 ( 9.91753e-05 ) d(de)= 4.29497e-07 ( 7.0365e-06 ) t_sim=  50.7734 sec\n"
     ]
    },
    {
     "name": "stdout",
     "output_type": "stream",
     "text": [
      "iter=73 : time= 4.5625  Etot= -0.2452961079  Ekin= 0.236847   Epot= -0.482144 : de= -6.71921e-05 ( 9.91753e-05 ) d(de)= 4.29497e-07 ( 7.0365e-06 ) t_sim=  50.7734 sec\n"
     ]
    },
    {
     "name": "stderr",
     "output_type": "stream",
     "text": [
      "iter=74 : time= 4.625  Etot= -0.2452965875  Ekin= 0.236974   Epot= -0.48227 : de= -6.52368e-05 ( 9.91753e-05 ) d(de)= 1.95541e-06 ( 7.0365e-06 ) t_sim=  51.52 sec\n"
     ]
    },
    {
     "name": "stdout",
     "output_type": "stream",
     "text": [
      "iter=74 : time= 4.625  Etot= -0.2452965875  Ekin= 0.236974   Epot= -0.48227 : de= -6.52368e-05 ( 9.91753e-05 ) d(de)= 1.95541e-06 ( 7.0365e-06 ) t_sim=  51.52 sec\n"
     ]
    },
    {
     "name": "stderr",
     "output_type": "stream",
     "text": [
      "iter=75 : time= 4.6875  Etot= -0.2452961005  Ekin= 0.237094   Epot= -0.48239 : de= -6.72221e-05 ( 9.91753e-05 ) d(de)= -1.98536e-06 ( 7.0365e-06 ) t_sim=  52.6117 sec\n"
     ]
    },
    {
     "name": "stdout",
     "output_type": "stream",
     "text": [
      "iter=75 : time= 4.6875  Etot= -0.2452961005  Ekin= 0.237094   Epot= -0.48239 : de= -6.72221e-05 ( 9.91753e-05 ) d(de)= -1.98536e-06 ( 7.0365e-06 ) t_sim=  52.6117 sec\n"
     ]
    },
    {
     "name": "stderr",
     "output_type": "stream",
     "text": [
      "iter=76 : time= 4.75  Etot= -0.245296156  Ekin= 0.237207   Epot= -0.482503 : de= -6.69961e-05 ( 9.91753e-05 ) d(de)= 2.25975e-07 ( 7.0365e-06 ) t_sim=  53.8179 sec\n"
     ]
    },
    {
     "name": "stdout",
     "output_type": "stream",
     "text": [
      "iter=76 : time= 4.75  Etot= -0.245296156  Ekin= 0.237207   Epot= -0.482503 : de= -6.69961e-05 ( 9.91753e-05 ) d(de)= 2.25975e-07 ( 7.0365e-06 ) t_sim=  53.8179 sec\n"
     ]
    },
    {
     "name": "stderr",
     "output_type": "stream",
     "text": [
      "iter=77 : time= 4.8125  Etot= -0.2452962699  Ekin= 0.237313   Epot= -0.482609 : de= -6.65319e-05 ( 9.91753e-05 ) d(de)= 4.64289e-07 ( 7.0365e-06 ) t_sim=  54.8875 sec\n"
     ]
    },
    {
     "name": "stdout",
     "output_type": "stream",
     "text": [
      "iter=77 : time= 4.8125  Etot= -0.2452962699  Ekin= 0.237313   Epot= -0.482609 : de= -6.65319e-05 ( 9.91753e-05 ) d(de)= 4.64289e-07 ( 7.0365e-06 ) t_sim=  54.8874 sec\n"
     ]
    },
    {
     "name": "stderr",
     "output_type": "stream",
     "text": [
      "iter=78 : time= 4.875  Etot= -0.2452958985  Ekin= 0.237411   Epot= -0.482707 : de= -6.80458e-05 ( 9.91753e-05 ) d(de)= -1.51407e-06 ( 7.0365e-06 ) t_sim=  56.1953 sec\n"
     ]
    },
    {
     "name": "stdout",
     "output_type": "stream",
     "text": [
      "iter=78 : time= 4.875  Etot= -0.2452958985  Ekin= 0.237411   Epot= -0.482707 : de= -6.80458e-05 ( 9.91753e-05 ) d(de)= -1.51407e-06 ( 7.0365e-06 ) t_sim=  56.1953 sec\n"
     ]
    },
    {
     "name": "stderr",
     "output_type": "stream",
     "text": [
      "iter=79 : time= 4.9375  Etot= -0.2452957619  Ekin= 0.237501   Epot= -0.482796 : de= -6.86027e-05 ( 9.91753e-05 ) d(de)= -5.56946e-07 ( 7.0365e-06 ) t_sim=  61.3872 sec\n"
     ]
    },
    {
     "name": "stdout",
     "output_type": "stream",
     "text": [
      "iter=79 : time= 4.9375  Etot= -0.2452957619  Ekin= 0.237501   Epot= -0.482796 : de= -6.86027e-05 ( 9.91753e-05 ) d(de)= -5.56946e-07 ( 7.0365e-06 ) t_sim=  61.3872 sec\n"
     ]
    },
    {
     "name": "stderr",
     "output_type": "stream",
     "text": [
      "iter=80 : time= 5  Etot= -0.2452963334  Ekin= 0.237581   Epot= -0.482877 : de= -6.62728e-05 ( 9.91753e-05 ) d(de)= 2.33005e-06 ( 7.0365e-06 ) t_sim=  61.9255 sec\n"
     ]
    },
    {
     "name": "stdout",
     "output_type": "stream",
     "text": [
      "iter=80 : time= 5  Etot= -0.2452963334  Ekin= 0.237581   Epot= -0.482877 : de= -6.62728e-05 ( 9.91753e-05 ) d(de)= 2.33005e-06 ( 7.0365e-06 ) t_sim=  61.9254 sec\n"
     ]
    },
    {
     "name": "stderr",
     "output_type": "stream",
     "text": [
      "iter=80 : time= 5  Etot= -0.2452963334  Ekin= 0.237581   Epot= -0.482877 : de= -6.62728e-05 ( 9.91753e-05 ) d(de)= -0 ( 7.0365e-06 ) t_sim=  62.2658 sec\n"
     ]
    },
    {
     "name": "stdout",
     "output_type": "stream",
     "text": [
      "iter=80 : time= 5  Etot= -0.2452963334  Ekin= 0.237581   Epot= -0.482877 : de= -6.62728e-05 ( 9.91753e-05 ) d(de)= -0 ( 7.0365e-06 ) t_sim=  62.2658 sec\n",
      "../Bonsai/build/bonsai2_slowdust   --plummer 1000000 --snapname data/plummer_snap_mpi --snapiter 0.0625 -T 5 -dt 0.0625 --eps 0.05\n"
     ]
    },
    {
     "name": "stderr",
     "output_type": "stream",
     "text": [
      " Unknown ENV_VARIABLE:   -- Falling to basic forking method after MPI_Init, unsafe!\n",
      "Proc id: 0 @ Default , total processes: 1 (mpiInit) \n",
      "[INIT]\tUsed settings: \n",
      "[INIT]\tInput  filename \n",
      "[INIT]\tBonsai filename \n",
      "[INIT]\tLog filename gpuLog.log\n",
      "[INIT]\tTheta: \t\t0.75\t\teps: \t\t0.05\n",
      "[INIT]\tTimestep: \t0.0625\t\ttEnd: \t\t5\n",
      "[INIT]\titerEnd: \t1073741824\n",
      "[INIT]\tUse MPI-IO: \tNO\n",
      "[INIT]\tsnapshotFile: \tdata/plummer_snap_mpi\tsnapshotIter: \t0.0625\n",
      "[INIT]\tInput file: \t\t\tdevID: \t\t0\n",
      "[INIT]\tRemove dist: \t-1\n",
      "[INIT]\tRebuild tree every 1 timestep\n",
      "[INIT]\tRuntime logging is DISABLED \n",
      "[INIT]\tDirect gravitation is DISABLED\n",
      "[INIT]\tCode is built WITHOUT MPI Support \n"
     ]
    },
    {
     "name": "stdout",
     "output_type": "stream",
     "text": [
      "Using Plummer model with n= 1000000 per process \n",
      "................................................................"
     ]
    },
    {
     "name": "stderr",
     "output_type": "stream",
     "text": [
      "Proc: 0 Bootup times: Tree/MPI: 0.194441 Threads/log: 0.000232935 IC-model: 0 \n",
      " Start iterating\n",
      "iter=0 : time= 0  Etot= -0.245312591  Ekin= 0.249851   Epot= -0.495164 : de= -0 ( 0 ) d(de)= -0 ( 0 ) t_sim=  9.05991e-06 sec\n"
     ]
    },
    {
     "name": "stdout",
     "output_type": "stream",
     "text": [
      "\n",
      "iter=0 : time= 0  Etot= -0.245312591  Ekin= 0.249851   Epot= -0.495164 : de= -0 ( 0 ) d(de)= -0 ( 0 ) t_sim=  9.53674e-07 sec\n"
     ]
    },
    {
     "name": "stderr",
     "output_type": "stream",
     "text": [
      "iter=1 : time= 0.0625  Etot= -0.2453124097  Ekin= 0.249825   Epot= -0.495138 : de= -7.38727e-07 ( 7.38727e-07 ) d(de)= -7.38727e-07 ( 7.38727e-07 ) t_sim=  1.13504 sec\n"
     ]
    },
    {
     "name": "stdout",
     "output_type": "stream",
     "text": [
      "iter=1 : time= 0.0625  Etot= -0.2453124097  Ekin= 0.249825   Epot= -0.495138 : de= -7.38727e-07 ( 7.38727e-07 ) d(de)= -7.38727e-07 ( 7.38727e-07 ) t_sim=  1.13503 sec\n"
     ]
    },
    {
     "name": "stderr",
     "output_type": "stream",
     "text": [
      "iter=2 : time= 0.125  Etot= -0.2453116816  Ekin= 0.249707   Epot= -0.495019 : de= -3.70698e-06 ( 3.70698e-06 ) d(de)= -2.96826e-06 ( 2.96826e-06 ) t_sim=  1.45172 sec\n"
     ]
    },
    {
     "name": "stdout",
     "output_type": "stream",
     "text": [
      "iter=2 : time= 0.125  Etot= -0.2453116816  Ekin= 0.249707   Epot= -0.495019 : de= -3.70698e-06 ( 3.70698e-06 ) d(de)= -2.96826e-06 ( 2.96826e-06 ) t_sim=  1.45172 sec\n"
     ]
    },
    {
     "name": "stderr",
     "output_type": "stream",
     "text": [
      "iter=3 : time= 0.1875  Etot= -0.245310806  Ekin= 0.249503   Epot= -0.494814 : de= -7.27647e-06 ( 7.27647e-06 ) d(de)= -3.56951e-06 ( 3.56951e-06 ) t_sim=  1.81716 sec\n"
     ]
    },
    {
     "name": "stdout",
     "output_type": "stream",
     "text": [
      "iter=3 : time= 0.1875  Etot= -0.245310806  Ekin= 0.249503   Epot= -0.494814 : de= -7.27647e-06 ( 7.27647e-06 ) d(de)= -3.56951e-06 ( 3.56951e-06 ) t_sim=  1.81714 sec\n"
     ]
    },
    {
     "name": "stderr",
     "output_type": "stream",
     "text": [
      "iter=4 : time= 0.25  Etot= -0.2453091072  Ekin= 0.24922   Epot= -0.494529 : de= -1.42013e-05 ( 1.42013e-05 ) d(de)= -6.92493e-06 ( 6.92493e-06 ) t_sim=  2.26188 sec\n"
     ]
    },
    {
     "name": "stdout",
     "output_type": "stream",
     "text": [
      "iter=4 : time= 0.25  Etot= -0.2453091072  Ekin= 0.24922   Epot= -0.494529 : de= -1.42013e-05 ( 1.42013e-05 ) d(de)= -6.92493e-06 ( 6.92493e-06 ) t_sim=  2.26187 sec\n"
     ]
    },
    {
     "name": "stderr",
     "output_type": "stream",
     "text": [
      "iter=5 : time= 0.3125  Etot= -0.2453075121  Ekin= 0.24887   Epot= -0.494178 : de= -2.07035e-05 ( 2.07035e-05 ) d(de)= -6.5022e-06 ( 6.92493e-06 ) t_sim=  4.25158 sec\n"
     ]
    },
    {
     "name": "stdout",
     "output_type": "stream",
     "text": [
      "iter=5 : time= 0.3125  Etot= -0.2453075121  Ekin= 0.24887   Epot= -0.494178 : de= -2.07035e-05 ( 2.07035e-05 ) d(de)= -6.5022e-06 ( 6.92493e-06 ) t_sim=  4.25157 sec\n"
     ]
    },
    {
     "name": "stderr",
     "output_type": "stream",
     "text": [
      "iter=6 : time= 0.375  Etot= -0.2453063852  Ekin= 0.248463   Epot= -0.493769 : de= -2.52976e-05 ( 2.52976e-05 ) d(de)= -4.59422e-06 ( 6.92493e-06 ) t_sim=  4.696 sec\n"
     ]
    },
    {
     "name": "stdout",
     "output_type": "stream",
     "text": [
      "iter=6 : time= 0.375  Etot= -0.2453063852  Ekin= 0.248463   Epot= -0.493769 : de= -2.52976e-05 ( 2.52976e-05 ) d(de)= -4.59422e-06 ( 6.92493e-06 ) t_sim=  4.69599 sec\n"
     ]
    },
    {
     "name": "stderr",
     "output_type": "stream",
     "text": [
      "iter=7 : time= 0.4375  Etot= -0.2453050638  Ekin= 0.248008   Epot= -0.493313 : de= -3.06839e-05 ( 3.06839e-05 ) d(de)= -5.3865e-06 ( 6.92493e-06 ) t_sim=  5.18394 sec\n"
     ]
    },
    {
     "name": "stdout",
     "output_type": "stream",
     "text": [
      "iter=7 : time= 0.4375  Etot= -0.2453050638  Ekin= 0.248008   Epot= -0.493313 : de= -3.06839e-05 ( 3.06839e-05 ) d(de)= -5.3865e-06 ( 6.92493e-06 ) t_sim=  5.18393 sec\n",
      "iter=8 : time= 0.5  Etot= -0.2453039198  Ekin= 0.247513   Epot= -0.492817 : de= -3.53473e-05 ( 3.53473e-05 ) d(de)= -4.66355e-06 ( 6.92493e-06 ) t_sim=  5.53843 sec\n"
     ]
    },
    {
     "name": "stderr",
     "output_type": "stream",
     "text": [
      "iter=8 : time= 0.5  Etot= -0.2453039198  Ekin= 0.247513   Epot= -0.492817 : de= -3.53473e-05 ( 3.53473e-05 ) d(de)= -4.66355e-06 ( 6.92493e-06 ) t_sim=  5.53844 sec\n",
      "iter=9 : time= 0.5625  Etot= -0.2453035068  Ekin= 0.246988   Epot= -0.492291 : de= -3.7031e-05 ( 3.7031e-05 ) d(de)= -1.68371e-06 ( 6.92493e-06 ) t_sim=  8.14511 sec\n"
     ]
    },
    {
     "name": "stdout",
     "output_type": "stream",
     "text": [
      "iter=9 : time= 0.5625  Etot= -0.2453035068  Ekin= 0.246988   Epot= -0.492291 : de= -3.7031e-05 ( 3.7031e-05 ) d(de)= -1.68371e-06 ( 6.92493e-06 ) t_sim=  8.1451 sec\n"
     ]
    },
    {
     "name": "stderr",
     "output_type": "stream",
     "text": [
      "iter=10 : time= 0.625  Etot= -0.2453024067  Ekin= 0.246438   Epot= -0.49174 : de= -4.15155e-05 ( 4.15155e-05 ) d(de)= -4.48469e-06 ( 6.92493e-06 ) t_sim=  8.49641 sec\n"
     ]
    },
    {
     "name": "stdout",
     "output_type": "stream",
     "text": [
      "iter=10 : time= 0.625  Etot= -0.2453024067  Ekin= 0.246438   Epot= -0.49174 : de= -4.15155e-05 ( 4.15155e-05 ) d(de)= -4.48469e-06 ( 6.92493e-06 ) t_sim=  8.4964 sec\n"
     ]
    },
    {
     "name": "stderr",
     "output_type": "stream",
     "text": [
      "iter=11 : time= 0.6875  Etot= -0.2453006806  Ekin= 0.245869   Epot= -0.49117 : de= -4.85517e-05 ( 4.85517e-05 ) d(de)= -7.0365e-06 ( 7.0365e-06 ) t_sim=  11.5481 sec\n"
     ]
    },
    {
     "name": "stdout",
     "output_type": "stream",
     "text": [
      "iter=11 : time= 0.6875  Etot= -0.2453006806  Ekin= 0.245869   Epot= -0.49117 : de= -4.85517e-05 ( 4.85517e-05 ) d(de)= -7.0365e-06 ( 7.0365e-06 ) t_sim=  11.548 sec\n"
     ]
    },
    {
     "name": "stderr",
     "output_type": "stream",
     "text": [
      "iter=12 : time= 0.75  Etot= -0.2452993977  Ekin= 0.245288   Epot= -0.490587 : de= -5.37816e-05 ( 5.37816e-05 ) d(de)= -5.23016e-06 ( 7.0365e-06 ) t_sim=  11.8248 sec\n"
     ]
    },
    {
     "name": "stdout",
     "output_type": "stream",
     "text": [
      "iter=12 : time= 0.75  Etot= -0.2452993977  Ekin= 0.245288   Epot= -0.490587 : de= -5.37816e-05 ( 5.37816e-05 ) d(de)= -5.23016e-06 ( 7.0365e-06 ) t_sim=  11.8248 sec\n"
     ]
    },
    {
     "name": "stderr",
     "output_type": "stream",
     "text": [
      "iter=13 : time= 0.8125  Etot= -0.2452985272  Ekin= 0.244697   Epot= -0.489996 : de= -5.733e-05 ( 5.733e-05 ) d(de)= -3.54854e-06 ( 7.0365e-06 ) t_sim=  12.4661 sec\n"
     ]
    },
    {
     "name": "stdout",
     "output_type": "stream",
     "text": [
      "iter=13 : time= 0.8125  Etot= -0.2452985272  Ekin= 0.244697   Epot= -0.489996 : de= -5.733e-05 ( 5.733e-05 ) d(de)= -3.54854e-06 ( 7.0365e-06 ) t_sim=  12.4661 sec\n"
     ]
    },
    {
     "name": "stderr",
     "output_type": "stream",
     "text": [
      "iter=14 : time= 0.875  Etot= -0.2452979026  Ekin= 0.244101   Epot= -0.489399 : de= -5.98759e-05 ( 5.98759e-05 ) d(de)= -2.54611e-06 ( 7.0365e-06 ) t_sim=  13.3032 sec\n"
     ]
    },
    {
     "name": "stdout",
     "output_type": "stream",
     "text": [
      "iter=14 : time= 0.875  Etot= -0.2452979026  Ekin= 0.244101   Epot= -0.489399 : de= -5.98759e-05 ( 5.98759e-05 ) d(de)= -2.54611e-06 ( 7.0365e-06 ) t_sim=  13.3031 sec\n"
     ]
    },
    {
     "name": "stderr",
     "output_type": "stream",
     "text": [
      "iter=15 : time= 0.9375  Etot= -0.2452970332  Ekin= 0.243504   Epot= -0.488801 : de= -6.34201e-05 ( 6.34201e-05 ) d(de)= -3.54436e-06 ( 7.0365e-06 ) t_sim=  14.3401 sec\n"
     ]
    },
    {
     "name": "stdout",
     "output_type": "stream",
     "text": [
      "iter=15 : time= 0.9375  Etot= -0.2452970332  Ekin= 0.243504   Epot= -0.488801 : de= -6.34201e-05 ( 6.34201e-05 ) d(de)= -3.54436e-06 ( 7.0365e-06 ) t_sim=  14.3401 sec\n"
     ]
    },
    {
     "name": "stderr",
     "output_type": "stream",
     "text": [
      "iter=16 : time= 1  Etot= -0.2452962752  Ekin= 0.242909   Epot= -0.488205 : de= -6.651e-05 ( 6.651e-05 ) d(de)= -3.0901e-06 ( 7.0365e-06 ) t_sim=  15.3149 sec\n"
     ]
    },
    {
     "name": "stdout",
     "output_type": "stream",
     "text": [
      "iter=16 : time= 1  Etot= -0.2452962752  Ekin= 0.242909   Epot= -0.488205 : de= -6.651e-05 ( 6.651e-05 ) d(de)= -3.0901e-06 ( 7.0365e-06 ) t_sim=  15.3149 sec\n"
     ]
    },
    {
     "name": "stderr",
     "output_type": "stream",
     "text": [
      "iter=17 : time= 1.0625  Etot= -0.2452955843  Ekin= 0.242319   Epot= -0.487614 : de= -6.93264e-05 ( 6.93264e-05 ) d(de)= -2.81661e-06 ( 7.0365e-06 ) t_sim=  20.0074 sec\n"
     ]
    },
    {
     "name": "stdout",
     "output_type": "stream",
     "text": [
      "iter=17 : time= 1.0625  Etot= -0.2452955843  Ekin= 0.242319   Epot= -0.487614 : de= -6.93264e-05 ( 6.93264e-05 ) d(de)= -2.81661e-06 ( 7.0365e-06 ) t_sim=  20.0074 sec\n"
     ]
    },
    {
     "name": "stderr",
     "output_type": "stream",
     "text": [
      "iter=18 : time= 1.125  Etot= -0.2452946859  Ekin= 0.241736   Epot= -0.487031 : de= -7.29886e-05 ( 7.29886e-05 ) d(de)= -3.66241e-06 ( 7.0365e-06 ) t_sim=  20.2849 sec\n"
     ]
    },
    {
     "name": "stdout",
     "output_type": "stream",
     "text": [
      "iter=18 : time= 1.125  Etot= -0.2452946859  Ekin= 0.241736   Epot= -0.487031 : de= -7.29886e-05 ( 7.29886e-05 ) d(de)= -3.66241e-06 ( 7.0365e-06 ) t_sim=  20.2849 sec\n"
     ]
    },
    {
     "name": "stderr",
     "output_type": "stream",
     "text": [
      "iter=19 : time= 1.1875  Etot= -0.2452946529  Ekin= 0.241163   Epot= -0.486458 : de= -7.31233e-05 ( 7.31233e-05 ) d(de)= -1.34717e-07 ( 7.0365e-06 ) t_sim=  21.8464 sec\n"
     ]
    },
    {
     "name": "stdout",
     "output_type": "stream",
     "text": [
      "iter=19 : time= 1.1875  Etot= -0.2452946529  Ekin= 0.241163   Epot= -0.486458 : de= -7.31233e-05 ( 7.31233e-05 ) d(de)= -1.34717e-07 ( 7.0365e-06 ) t_sim=  21.8464 sec\n"
     ]
    },
    {
     "name": "stderr",
     "output_type": "stream",
     "text": [
      "iter=20 : time= 1.25  Etot= -0.2452940868  Ekin= 0.240604   Epot= -0.485898 : de= -7.54309e-05 ( 7.54309e-05 ) d(de)= -2.30777e-06 ( 7.0365e-06 ) t_sim=  22.1269 sec\n"
     ]
    },
    {
     "name": "stdout",
     "output_type": "stream",
     "text": [
      "iter=20 : time= 1.25  Etot= -0.2452940868  Ekin= 0.240604   Epot= -0.485898 : de= -7.54309e-05 ( 7.54309e-05 ) d(de)= -2.30777e-06 ( 7.0365e-06 ) t_sim=  22.1269 sec\n"
     ]
    },
    {
     "name": "stderr",
     "output_type": "stream",
     "text": [
      "iter=21 : time= 1.3125  Etot= -0.2452932498  Ekin= 0.240058   Epot= -0.485352 : de= -7.88429e-05 ( 7.88429e-05 ) d(de)= -3.41229e-06 ( 7.0365e-06 ) t_sim=  22.6114 sec\n"
     ]
    },
    {
     "name": "stdout",
     "output_type": "stream",
     "text": [
      "iter=21 : time= 1.3125  Etot= -0.2452932498  Ekin= 0.240058   Epot= -0.485352 : de= -7.88429e-05 ( 7.88429e-05 ) d(de)= -3.41229e-06 ( 7.0365e-06 ) t_sim=  22.6114 sec\n"
     ]
    },
    {
     "name": "stderr",
     "output_type": "stream",
     "text": [
      "iter=22 : time= 1.375  Etot= -0.2452930947  Ekin= 0.239529   Epot= -0.484822 : de= -7.94752e-05 ( 7.94752e-05 ) d(de)= -6.32361e-07 ( 7.0365e-06 ) t_sim=  23.5854 sec\n"
     ]
    },
    {
     "name": "stdout",
     "output_type": "stream",
     "text": [
      "iter=22 : time= 1.375  Etot= -0.2452930947  Ekin= 0.239529   Epot= -0.484822 : de= -7.94752e-05 ( 7.94752e-05 ) d(de)= -6.32361e-07 ( 7.0365e-06 ) t_sim=  23.5854 sec\n"
     ]
    },
    {
     "name": "stderr",
     "output_type": "stream",
     "text": [
      "iter=23 : time= 1.4375  Etot= -0.2452930025  Ekin= 0.239017   Epot= -0.48431 : de= -7.98512e-05 ( 7.98512e-05 ) d(de)= -3.76007e-07 ( 7.0365e-06 ) t_sim=  24.8591 sec\n"
     ]
    },
    {
     "name": "stdout",
     "output_type": "stream",
     "text": [
      "iter=23 : time= 1.4375  Etot= -0.2452930025  Ekin= 0.239017   Epot= -0.48431 : de= -7.98512e-05 ( 7.98512e-05 ) d(de)= -3.76007e-07 ( 7.0365e-06 ) t_sim=  24.859 sec\n"
     ]
    },
    {
     "name": "stderr",
     "output_type": "stream",
     "text": [
      "iter=24 : time= 1.5  Etot= -0.2452929187  Ekin= 0.238522   Epot= -0.483815 : de= -8.01927e-05 ( 8.01927e-05 ) d(de)= -3.41536e-07 ( 7.0365e-06 ) t_sim=  29.0645 sec\n"
     ]
    },
    {
     "name": "stdout",
     "output_type": "stream",
     "text": [
      "iter=24 : time= 1.5  Etot= -0.2452929187  Ekin= 0.238522   Epot= -0.483815 : de= -8.01927e-05 ( 8.01927e-05 ) d(de)= -3.41536e-07 ( 7.0365e-06 ) t_sim=  29.0644 sec\n"
     ]
    },
    {
     "name": "stderr",
     "output_type": "stream",
     "text": [
      "iter=25 : time= 1.5625  Etot= -0.2452923147  Ekin= 0.238046   Epot= -0.483338 : de= -8.26548e-05 ( 8.26548e-05 ) d(de)= -2.46231e-06 ( 7.0365e-06 ) t_sim=  29.3581 sec\n"
     ]
    },
    {
     "name": "stdout",
     "output_type": "stream",
     "text": [
      "iter=25 : time= 1.5625  Etot= -0.2452923147  Ekin= 0.238046   Epot= -0.483338 : de= -8.26548e-05 ( 8.26548e-05 ) d(de)= -2.46231e-06 ( 7.0365e-06 ) t_sim=  29.358 sec\n"
     ]
    },
    {
     "name": "stderr",
     "output_type": "stream",
     "text": [
      "iter=26 : time= 1.625  Etot= -0.2452917836  Ekin= 0.237589   Epot= -0.482881 : de= -8.482e-05 ( 8.482e-05 ) d(de)= -2.16531e-06 ( 7.0365e-06 ) t_sim=  29.7152 sec\n"
     ]
    },
    {
     "name": "stdout",
     "output_type": "stream",
     "text": [
      "iter=26 : time= 1.625  Etot= -0.2452917836  Ekin= 0.237589   Epot= -0.482881 : de= -8.482e-05 ( 8.482e-05 ) d(de)= -2.16531e-06 ( 7.0365e-06 ) t_sim=  29.7152 sec\n"
     ]
    },
    {
     "name": "stderr",
     "output_type": "stream",
     "text": [
      "iter=27 : time= 1.6875  Etot= -0.2452912747  Ekin= 0.237153   Epot= -0.482444 : de= -8.68941e-05 ( 8.68941e-05 ) d(de)= -2.07435e-06 ( 7.0365e-06 ) t_sim=  32.2093 sec\n"
     ]
    },
    {
     "name": "stdout",
     "output_type": "stream",
     "text": [
      "iter=27 : time= 1.6875  Etot= -0.2452912747  Ekin= 0.237153   Epot= -0.482444 : de= -8.68941e-05 ( 8.68941e-05 ) d(de)= -2.07435e-06 ( 7.0365e-06 ) t_sim=  32.2092 sec\n"
     ]
    },
    {
     "name": "stderr",
     "output_type": "stream",
     "text": [
      "iter=28 : time= 1.75  Etot= -0.2452907218  Ekin= 0.23674   Epot= -0.48203 : de= -8.91483e-05 ( 8.91483e-05 ) d(de)= -2.25433e-06 ( 7.0365e-06 ) t_sim=  34.7492 sec\n"
     ]
    },
    {
     "name": "stdout",
     "output_type": "stream",
     "text": [
      "iter=28 : time= 1.75  Etot= -0.2452907218  Ekin= 0.23674   Epot= -0.48203 : de= -8.91483e-05 ( 8.91483e-05 ) d(de)= -2.25433e-06 ( 7.0365e-06 ) t_sim=  34.7492 sec\n"
     ]
    },
    {
     "name": "stderr",
     "output_type": "stream",
     "text": [
      "iter=29 : time= 1.8125  Etot= -0.2452910291  Ekin= 0.23635   Epot= -0.481641 : de= -8.78953e-05 ( 8.91483e-05 ) d(de)= 1.25303e-06 ( 7.0365e-06 ) t_sim=  35.0396 sec\n"
     ]
    },
    {
     "name": "stdout",
     "output_type": "stream",
     "text": [
      "iter=29 : time= 1.8125  Etot= -0.2452910291  Ekin= 0.23635   Epot= -0.481641 : de= -8.78953e-05 ( 8.91483e-05 ) d(de)= 1.25303e-06 ( 7.0365e-06 ) t_sim=  35.0396 sec\n"
     ]
    },
    {
     "name": "stderr",
     "output_type": "stream",
     "text": [
      "iter=30 : time= 1.875  Etot= -0.2452902965  Ekin= 0.235986   Epot= -0.481276 : de= -9.08818e-05 ( 9.08818e-05 ) d(de)= -2.98667e-06 ( 7.0365e-06 ) t_sim=  35.3773 sec\n"
     ]
    },
    {
     "name": "stdout",
     "output_type": "stream",
     "text": [
      "iter=30 : time= 1.875  Etot= -0.2452902965  Ekin= 0.235986   Epot= -0.481276 : de= -9.08818e-05 ( 9.08818e-05 ) d(de)= -2.98667e-06 ( 7.0365e-06 ) t_sim=  35.3773 sec\n"
     ]
    },
    {
     "name": "stderr",
     "output_type": "stream",
     "text": [
      "iter=31 : time= 1.9375  Etot= -0.2452896037  Ekin= 0.235649   Epot= -0.480938 : de= -9.3706e-05 ( 9.3706e-05 ) d(de)= -2.82455e-06 ( 7.0365e-06 ) t_sim=  36.1124 sec\n"
     ]
    },
    {
     "name": "stdout",
     "output_type": "stream",
     "text": [
      "iter=31 : time= 1.9375  Etot= -0.2452896037  Ekin= 0.235649   Epot= -0.480938 : de= -9.3706e-05 ( 9.3706e-05 ) d(de)= -2.82455e-06 ( 7.0365e-06 ) t_sim=  36.1124 sec\n"
     ]
    },
    {
     "name": "stderr",
     "output_type": "stream",
     "text": [
      "iter=32 : time= 2  Etot= -0.2452892771  Ekin= 0.235339   Epot= -0.480628 : de= -9.50376e-05 ( 9.50376e-05 ) d(de)= -1.33165e-06 ( 7.0365e-06 ) t_sim=  36.8603 sec\n"
     ]
    },
    {
     "name": "stdout",
     "output_type": "stream",
     "text": [
      "iter=32 : time= 2  Etot= -0.2452892771  Ekin= 0.235339   Epot= -0.480628 : de= -9.50376e-05 ( 9.50376e-05 ) d(de)= -1.33165e-06 ( 7.0365e-06 ) t_sim=  36.8603 sec\n"
     ]
    },
    {
     "name": "stderr",
     "output_type": "stream",
     "text": [
      "iter=33 : time= 2.0625  Etot= -0.2452891619  Ekin= 0.235058   Epot= -0.480347 : de= -9.55068e-05 ( 9.55068e-05 ) d(de)= -4.69306e-07 ( 7.0365e-06 ) t_sim=  38.0626 sec\n"
     ]
    },
    {
     "name": "stdout",
     "output_type": "stream",
     "text": [
      "iter=33 : time= 2.0625  Etot= -0.2452891619  Ekin= 0.235058   Epot= -0.480347 : de= -9.55068e-05 ( 9.55068e-05 ) d(de)= -4.69306e-07 ( 7.0365e-06 ) t_sim=  38.0626 sec\n"
     ]
    },
    {
     "name": "stderr",
     "output_type": "stream",
     "text": [
      "iter=34 : time= 2.125  Etot= -0.2452886861  Ekin= 0.234805   Epot= -0.480094 : de= -9.74466e-05 ( 9.74466e-05 ) d(de)= -1.93994e-06 ( 7.0365e-06 ) t_sim=  39.9423 sec\n"
     ]
    },
    {
     "name": "stdout",
     "output_type": "stream",
     "text": [
      "iter=34 : time= 2.125  Etot= -0.2452886861  Ekin= 0.234805   Epot= -0.480094 : de= -9.74466e-05 ( 9.74466e-05 ) d(de)= -1.93994e-06 ( 7.0365e-06 ) t_sim=  39.9423 sec\n"
     ]
    },
    {
     "name": "stderr",
     "output_type": "stream",
     "text": [
      "iter=35 : time= 2.1875  Etot= -0.245288262  Ekin= 0.234581   Epot= -0.479869 : de= -9.91753e-05 ( 9.91753e-05 ) d(de)= -1.72888e-06 ( 7.0365e-06 ) t_sim=  40.5996 sec\n"
     ]
    },
    {
     "name": "stdout",
     "output_type": "stream",
     "text": [
      "iter=35 : time= 2.1875  Etot= -0.245288262  Ekin= 0.234581   Epot= -0.479869 : de= -9.91753e-05 ( 9.91753e-05 ) d(de)= -1.72888e-06 ( 7.0365e-06 ) t_sim=  40.5996 sec\n"
     ]
    },
    {
     "name": "stderr",
     "output_type": "stream",
     "text": [
      "iter=36 : time= 2.25  Etot= -0.2452888132  Ekin= 0.234384   Epot= -0.479672 : de= -9.69286e-05 ( 9.91753e-05 ) d(de)= 2.24693e-06 ( 7.0365e-06 ) t_sim=  45.8332 sec\n"
     ]
    },
    {
     "name": "stdout",
     "output_type": "stream",
     "text": [
      "iter=36 : time= 2.25  Etot= -0.2452888132  Ekin= 0.234384   Epot= -0.479672 : de= -9.69286e-05 ( 9.91753e-05 ) d(de)= 2.24693e-06 ( 7.0365e-06 ) t_sim=  45.8332 sec\n"
     ]
    },
    {
     "name": "stderr",
     "output_type": "stream",
     "text": [
      "iter=37 : time= 2.3125  Etot= -0.2452896866  Ekin= 0.234212   Epot= -0.479501 : de= -9.33682e-05 ( 9.91753e-05 ) d(de)= 3.56077e-06 ( 7.0365e-06 ) t_sim=  46.1305 sec\n"
     ]
    },
    {
     "name": "stdout",
     "output_type": "stream",
     "text": [
      "iter=37 : time= 2.3125  Etot= -0.2452896866  Ekin= 0.234212   Epot= -0.479501 : de= -9.33682e-05 ( 9.91753e-05 ) d(de)= 3.56077e-06 ( 7.0365e-06 ) t_sim=  46.1305 sec\n"
     ]
    },
    {
     "name": "stderr",
     "output_type": "stream",
     "text": [
      "iter=38 : time= 2.375  Etot= -0.2452895636  Ekin= 0.234063   Epot= -0.479353 : de= -9.38693e-05 ( 9.91753e-05 ) d(de)= -5.0118e-07 ( 7.0365e-06 ) t_sim=  46.4234 sec\n"
     ]
    },
    {
     "name": "stdout",
     "output_type": "stream",
     "text": [
      "iter=38 : time= 2.375  Etot= -0.2452895636  Ekin= 0.234063   Epot= -0.479353 : de= -9.38693e-05 ( 9.91753e-05 ) d(de)= -5.0118e-07 ( 7.0365e-06 ) t_sim=  46.4234 sec\n"
     ]
    },
    {
     "name": "stderr",
     "output_type": "stream",
     "text": [
      "iter=39 : time= 2.4375  Etot= -0.2452899185  Ekin= 0.233935   Epot= -0.479225 : de= -9.24226e-05 ( 9.91753e-05 ) d(de)= 1.4468e-06 ( 7.0365e-06 ) t_sim=  47.2503 sec\n"
     ]
    },
    {
     "name": "stdout",
     "output_type": "stream",
     "text": [
      "iter=39 : time= 2.4375  Etot= -0.2452899185  Ekin= 0.233935   Epot= -0.479225 : de= -9.24226e-05 ( 9.91753e-05 ) d(de)= 1.4468e-06 ( 7.0365e-06 ) t_sim=  47.2503 sec\n"
     ]
    },
    {
     "name": "stderr",
     "output_type": "stream",
     "text": [
      "iter=40 : time= 2.5  Etot= -0.2452900054  Ekin= 0.233827   Epot= -0.479117 : de= -9.20684e-05 ( 9.91753e-05 ) d(de)= 3.54292e-07 ( 7.0365e-06 ) t_sim=  48.8921 sec\n"
     ]
    },
    {
     "name": "stdout",
     "output_type": "stream",
     "text": [
      "iter=40 : time= 2.5  Etot= -0.2452900054  Ekin= 0.233827   Epot= -0.479117 : de= -9.20684e-05 ( 9.91753e-05 ) d(de)= 3.54292e-07 ( 7.0365e-06 ) t_sim=  48.8921 sec\n"
     ]
    },
    {
     "name": "stderr",
     "output_type": "stream",
     "text": [
      "iter=41 : time= 2.5625  Etot= -0.2452895859  Ekin= 0.233736   Epot= -0.479026 : de= -9.37784e-05 ( 9.91753e-05 ) d(de)= -1.71021e-06 ( 7.0365e-06 ) t_sim=  49.5823 sec\n"
     ]
    },
    {
     "name": "stdout",
     "output_type": "stream",
     "text": [
      "iter=41 : time= 2.5625  Etot= -0.2452895859  Ekin= 0.233736   Epot= -0.479026 : de= -9.37784e-05 ( 9.91753e-05 ) d(de)= -1.71021e-06 ( 7.0365e-06 ) t_sim=  49.5823 sec\n"
     ]
    },
    {
     "name": "stderr",
     "output_type": "stream",
     "text": [
      "iter=42 : time= 2.625  Etot= -0.2452899385  Ekin= 0.233664   Epot= -0.478954 : de= -9.23414e-05 ( 9.91753e-05 ) d(de)= 1.43715e-06 ( 7.0365e-06 ) t_sim=  50.7686 sec\n"
     ]
    },
    {
     "name": "stdout",
     "output_type": "stream",
     "text": [
      "iter=42 : time= 2.625  Etot= -0.2452899385  Ekin= 0.233664   Epot= -0.478954 : de= -9.23414e-05 ( 9.91753e-05 ) d(de)= 1.43715e-06 ( 7.0365e-06 ) t_sim=  50.7686 sec\n"
     ]
    },
    {
     "name": "stderr",
     "output_type": "stream",
     "text": [
      "iter=43 : time= 2.6875  Etot= -0.2452898098  Ekin= 0.233611   Epot= -0.4789 : de= -9.2866e-05 ( 9.91753e-05 ) d(de)= -5.24627e-07 ( 7.0365e-06 ) t_sim=  51.2634 sec\n"
     ]
    },
    {
     "name": "stdout",
     "output_type": "stream",
     "text": [
      "iter=43 : time= 2.6875  Etot= -0.2452898098  Ekin= 0.233611   Epot= -0.4789 : de= -9.2866e-05 ( 9.91753e-05 ) d(de)= -5.24627e-07 ( 7.0365e-06 ) t_sim=  51.2634 sec\n"
     ]
    },
    {
     "name": "stderr",
     "output_type": "stream",
     "text": [
      "iter=44 : time= 2.75  Etot= -0.2452901864  Ekin= 0.233576   Epot= -0.478866 : de= -9.13308e-05 ( 9.91753e-05 ) d(de)= 1.53529e-06 ( 7.0365e-06 ) t_sim=  52.6061 sec\n"
     ]
    },
    {
     "name": "stdout",
     "output_type": "stream",
     "text": [
      "iter=44 : time= 2.75  Etot= -0.2452901864  Ekin= 0.233576   Epot= -0.478866 : de= -9.13308e-05 ( 9.91753e-05 ) d(de)= 1.53529e-06 ( 7.0365e-06 ) t_sim=  52.6061 sec\n"
     ]
    },
    {
     "name": "stderr",
     "output_type": "stream",
     "text": [
      "iter=45 : time= 2.8125  Etot= -0.245289745  Ekin= 0.233559   Epot= -0.478849 : de= -9.31302e-05 ( 9.91753e-05 ) d(de)= -1.79952e-06 ( 7.0365e-06 ) t_sim=  56.551 sec\n"
     ]
    },
    {
     "name": "stdout",
     "output_type": "stream",
     "text": [
      "iter=45 : time= 2.8125  Etot= -0.245289745  Ekin= 0.233559   Epot= -0.478849 : de= -9.31302e-05 ( 9.91753e-05 ) d(de)= -1.79952e-06 ( 7.0365e-06 ) t_sim=  56.551 sec\n"
     ]
    },
    {
     "name": "stderr",
     "output_type": "stream",
     "text": [
      "iter=46 : time= 2.875  Etot= -0.2452897632  Ekin= 0.233561   Epot= -0.47885 : de= -9.3056e-05 ( 9.91753e-05 ) d(de)= 7.41679e-08 ( 7.0365e-06 ) t_sim=  56.9825 sec\n"
     ]
    },
    {
     "name": "stdout",
     "output_type": "stream",
     "text": [
      "iter=46 : time= 2.875  Etot= -0.2452897632  Ekin= 0.233561   Epot= -0.47885 : de= -9.3056e-05 ( 9.91753e-05 ) d(de)= 7.41679e-08 ( 7.0365e-06 ) t_sim=  56.9825 sec\n"
     ]
    },
    {
     "name": "stderr",
     "output_type": "stream",
     "text": [
      "iter=47 : time= 2.9375  Etot= -0.2452900724  Ekin= 0.23358   Epot= -0.47887 : de= -9.17954e-05 ( 9.91753e-05 ) d(de)= 1.26075e-06 ( 7.0365e-06 ) t_sim=  58.9468 sec\n"
     ]
    },
    {
     "name": "stdout",
     "output_type": "stream",
     "text": [
      "iter=47 : time= 2.9375  Etot= -0.2452900724  Ekin= 0.23358   Epot= -0.47887 : de= -9.17954e-05 ( 9.91753e-05 ) d(de)= 1.26075e-06 ( 7.0365e-06 ) t_sim=  58.9468 sec\n"
     ]
    },
    {
     "name": "stderr",
     "output_type": "stream",
     "text": [
      "iter=48 : time= 3  Etot= -0.2452904526  Ekin= 0.233616   Epot= -0.478906 : de= -9.02454e-05 ( 9.91753e-05 ) d(de)= 1.55011e-06 ( 7.0365e-06 ) t_sim=  60.3243 sec\n"
     ]
    },
    {
     "name": "stdout",
     "output_type": "stream",
     "text": [
      "iter=48 : time= 3  Etot= -0.2452904526  Ekin= 0.233616   Epot= -0.478906 : de= -9.02454e-05 ( 9.91753e-05 ) d(de)= 1.55011e-06 ( 7.0365e-06 ) t_sim=  60.3242 sec\n"
     ]
    },
    {
     "name": "stderr",
     "output_type": "stream",
     "text": [
      "iter=49 : time= 3.0625  Etot= -0.2452901641  Ekin= 0.233668   Epot= -0.478958 : de= -9.14217e-05 ( 9.91753e-05 ) d(de)= -1.17639e-06 ( 7.0365e-06 ) t_sim=  60.9223 sec\n"
     ]
    },
    {
     "name": "stdout",
     "output_type": "stream",
     "text": [
      "iter=49 : time= 3.0625  Etot= -0.2452901641  Ekin= 0.233668   Epot= -0.478958 : de= -9.14217e-05 ( 9.91753e-05 ) d(de)= -1.17639e-06 ( 7.0365e-06 ) t_sim=  60.9223 sec\n"
     ]
    },
    {
     "name": "stderr",
     "output_type": "stream",
     "text": [
      "iter=50 : time= 3.125  Etot= -0.2452902243  Ekin= 0.233736   Epot= -0.479027 : de= -9.11764e-05 ( 9.91753e-05 ) d(de)= 2.45367e-07 ( 7.0365e-06 ) t_sim=  61.6191 sec\n"
     ]
    },
    {
     "name": "stdout",
     "output_type": "stream",
     "text": [
      "iter=50 : time= 3.125  Etot= -0.2452902243  Ekin= 0.233736   Epot= -0.479027 : de= -9.11764e-05 ( 9.91753e-05 ) d(de)= 2.45367e-07 ( 7.0365e-06 ) t_sim=  61.6191 sec\n"
     ]
    },
    {
     "name": "stderr",
     "output_type": "stream",
     "text": [
      "iter=51 : time= 3.1875  Etot= -0.2452908787  Ekin= 0.23382   Epot= -0.479111 : de= -8.85086e-05 ( 9.91753e-05 ) d(de)= 2.66805e-06 ( 7.0365e-06 ) t_sim=  62.753 sec\n"
     ]
    },
    {
     "name": "stdout",
     "output_type": "stream",
     "text": [
      "iter=51 : time= 3.1875  Etot= -0.2452908787  Ekin= 0.23382   Epot= -0.479111 : de= -8.85086e-05 ( 9.91753e-05 ) d(de)= 2.66805e-06 ( 7.0365e-06 ) t_sim=  62.753 sec\n"
     ]
    },
    {
     "name": "stderr",
     "output_type": "stream",
     "text": [
      "iter=52 : time= 3.25  Etot= -0.2452905957  Ekin= 0.233918   Epot= -0.479209 : de= -8.96624e-05 ( 9.91753e-05 ) d(de)= -1.15394e-06 ( 7.0365e-06 ) t_sim=  63.9513 sec\n"
     ]
    },
    {
     "name": "stdout",
     "output_type": "stream",
     "text": [
      "iter=52 : time= 3.25  Etot= -0.2452905957  Ekin= 0.233918   Epot= -0.479209 : de= -8.96624e-05 ( 9.91753e-05 ) d(de)= -1.15394e-06 ( 7.0365e-06 ) t_sim=  63.9513 sec\n"
     ]
    },
    {
     "name": "stderr",
     "output_type": "stream",
     "text": [
      "iter=53 : time= 3.3125  Etot= -0.2452910242  Ekin= 0.234029   Epot= -0.47932 : de= -8.79155e-05 ( 9.91753e-05 ) d(de)= 1.74706e-06 ( 7.0365e-06 ) t_sim=  65.0127 sec\n"
     ]
    },
    {
     "name": "stdout",
     "output_type": "stream",
     "text": [
      "iter=53 : time= 3.3125  Etot= -0.2452910242  Ekin= 0.234029   Epot= -0.47932 : de= -8.79155e-05 ( 9.91753e-05 ) d(de)= 1.74706e-06 ( 7.0365e-06 ) t_sim=  65.0126 sec\n"
     ]
    },
    {
     "name": "stderr",
     "output_type": "stream",
     "text": [
      "iter=54 : time= 3.375  Etot= -0.2452914599  Ekin= 0.234151   Epot= -0.479442 : de= -8.61394e-05 ( 9.91753e-05 ) d(de)= 1.7762e-06 ( 7.0365e-06 ) t_sim=  66.1308 sec\n"
     ]
    },
    {
     "name": "stdout",
     "output_type": "stream",
     "text": [
      "iter=54 : time= 3.375  Etot= -0.2452914599  Ekin= 0.234151   Epot= -0.479442 : de= -8.61394e-05 ( 9.91753e-05 ) d(de)= 1.7762e-06 ( 7.0365e-06 ) t_sim=  66.1308 sec\n"
     ]
    },
    {
     "name": "stderr",
     "output_type": "stream",
     "text": [
      "iter=55 : time= 3.4375  Etot= -0.2452919152  Ekin= 0.234282   Epot= -0.479573 : de= -8.42834e-05 ( 9.91753e-05 ) d(de)= 1.85625e-06 ( 7.0365e-06 ) t_sim=  67.3205 sec\n"
     ]
    },
    {
     "name": "stdout",
     "output_type": "stream",
     "text": [
      "iter=55 : time= 3.4375  Etot= -0.2452919152  Ekin= 0.234282   Epot= -0.479573 : de= -8.42834e-05 ( 9.91753e-05 ) d(de)= 1.85625e-06 ( 7.0365e-06 ) t_sim=  67.3205 sec\n"
     ]
    },
    {
     "name": "stderr",
     "output_type": "stream",
     "text": [
      "iter=56 : time= 3.5  Etot= -0.2452927229  Ekin= 0.234419   Epot= -0.479712 : de= -8.09907e-05 ( 9.91753e-05 ) d(de)= 3.29296e-06 ( 7.0365e-06 ) t_sim=  72.0001 sec\n"
     ]
    },
    {
     "name": "stdout",
     "output_type": "stream",
     "text": [
      "iter=56 : time= 3.5  Etot= -0.2452927229  Ekin= 0.234419   Epot= -0.479712 : de= -8.09907e-05 ( 9.91753e-05 ) d(de)= 3.29296e-06 ( 7.0365e-06 ) t_sim=  72.0001 sec\n"
     ]
    },
    {
     "name": "stderr",
     "output_type": "stream",
     "text": [
      "iter=57 : time= 3.5625  Etot= -0.2452931801  Ekin= 0.234561   Epot= -0.479855 : de= -7.9127e-05 ( 9.91753e-05 ) d(de)= 1.86385e-06 ( 7.0365e-06 ) t_sim=  72.2876 sec\n"
     ]
    },
    {
     "name": "stdout",
     "output_type": "stream",
     "text": [
      "iter=57 : time= 3.5625  Etot= -0.2452931801  Ekin= 0.234561   Epot= -0.479855 : de= -7.9127e-05 ( 9.91753e-05 ) d(de)= 1.86385e-06 ( 7.0365e-06 ) t_sim=  72.2876 sec\n"
     ]
    },
    {
     "name": "stderr",
     "output_type": "stream",
     "text": [
      "iter=58 : time= 3.625  Etot= -0.2452930475  Ekin= 0.234707   Epot= -0.48 : de= -7.96676e-05 ( 9.91753e-05 ) d(de)= -5.4064e-07 ( 7.0365e-06 ) t_sim=  72.9099 sec\n"
     ]
    },
    {
     "name": "stdout",
     "output_type": "stream",
     "text": [
      "iter=58 : time= 3.625  Etot= -0.2452930475  Ekin= 0.234707   Epot= -0.48 : de= -7.96676e-05 ( 9.91753e-05 ) d(de)= -5.4064e-07 ( 7.0365e-06 ) t_sim=  72.9099 sec\n"
     ]
    },
    {
     "name": "stderr",
     "output_type": "stream",
     "text": [
      "iter=59 : time= 3.6875  Etot= -0.245293527  Ekin= 0.234856   Epot= -0.480149 : de= -7.77129e-05 ( 9.91753e-05 ) d(de)= 1.95486e-06 ( 7.0365e-06 ) t_sim=  73.6865 sec\n"
     ]
    },
    {
     "name": "stdout",
     "output_type": "stream",
     "text": [
      "iter=59 : time= 3.6875  Etot= -0.245293527  Ekin= 0.234856   Epot= -0.480149 : de= -7.77129e-05 ( 9.91753e-05 ) d(de)= 1.95486e-06 ( 7.0365e-06 ) t_sim=  73.6865 sec\n"
     ]
    },
    {
     "name": "stderr",
     "output_type": "stream",
     "text": [
      "iter=60 : time= 3.75  Etot= -0.2452939046  Ekin= 0.235006   Epot= -0.480299 : de= -7.61737e-05 ( 9.91753e-05 ) d(de)= 1.5393e-06 ( 7.0365e-06 ) t_sim=  78.1602 sec\n"
     ]
    },
    {
     "name": "stdout",
     "output_type": "stream",
     "text": [
      "iter=60 : time= 3.75  Etot= -0.2452939046  Ekin= 0.235006   Epot= -0.480299 : de= -7.61737e-05 ( 9.91753e-05 ) d(de)= 1.5393e-06 ( 7.0365e-06 ) t_sim=  78.1601 sec\n"
     ]
    },
    {
     "name": "stderr",
     "output_type": "stream",
     "text": [
      "iter=61 : time= 3.8125  Etot= -0.2452943114  Ekin= 0.235156   Epot= -0.48045 : de= -7.45153e-05 ( 9.91753e-05 ) d(de)= 1.65855e-06 ( 7.0365e-06 ) t_sim=  78.4472 sec\n"
     ]
    },
    {
     "name": "stdout",
     "output_type": "stream",
     "text": [
      "iter=61 : time= 3.8125  Etot= -0.2452943114  Ekin= 0.235156   Epot= -0.48045 : de= -7.45153e-05 ( 9.91753e-05 ) d(de)= 1.65855e-06 ( 7.0365e-06 ) t_sim=  78.4472 sec\n"
     ]
    },
    {
     "name": "stderr",
     "output_type": "stream",
     "text": [
      "iter=62 : time= 3.875  Etot= -0.2452940423  Ekin= 0.235305   Epot= -0.480599 : de= -7.56124e-05 ( 9.91753e-05 ) d(de)= -1.09723e-06 ( 7.0365e-06 ) t_sim=  78.755 sec\n"
     ]
    },
    {
     "name": "stdout",
     "output_type": "stream",
     "text": [
      "iter=62 : time= 3.875  Etot= -0.2452940423  Ekin= 0.235305   Epot= -0.480599 : de= -7.56124e-05 ( 9.91753e-05 ) d(de)= -1.09723e-06 ( 7.0365e-06 ) t_sim=  78.755 sec\n"
     ]
    },
    {
     "name": "stderr",
     "output_type": "stream",
     "text": [
      "iter=63 : time= 3.9375  Etot= -0.2452938074  Ekin= 0.235452   Epot= -0.480746 : de= -7.65698e-05 ( 9.91753e-05 ) d(de)= -9.57429e-07 ( 7.0365e-06 ) t_sim=  82.4748 sec\n"
     ]
    },
    {
     "name": "stdout",
     "output_type": "stream",
     "text": [
      "iter=63 : time= 3.9375  Etot= -0.2452938074  Ekin= 0.235452   Epot= -0.480746 : de= -7.65698e-05 ( 9.91753e-05 ) d(de)= -9.57429e-07 ( 7.0365e-06 ) t_sim=  82.4748 sec\n"
     ]
    },
    {
     "name": "stderr",
     "output_type": "stream",
     "text": [
      "iter=64 : time= 4  Etot= -0.2452940304  Ekin= 0.235597   Epot= -0.480891 : de= -7.56607e-05 ( 9.91753e-05 ) d(de)= 9.0913e-07 ( 7.0365e-06 ) t_sim=  82.7836 sec\n"
     ]
    },
    {
     "name": "stdout",
     "output_type": "stream",
     "text": [
      "iter=64 : time= 4  Etot= -0.2452940304  Ekin= 0.235597   Epot= -0.480891 : de= -7.56607e-05 ( 9.91753e-05 ) d(de)= 9.0913e-07 ( 7.0365e-06 ) t_sim=  82.7836 sec\n"
     ]
    },
    {
     "name": "stderr",
     "output_type": "stream",
     "text": [
      "iter=65 : time= 4.0625  Etot= -0.2452935846  Ekin= 0.23574   Epot= -0.481034 : de= -7.74782e-05 ( 9.91753e-05 ) d(de)= -1.81768e-06 ( 7.0365e-06 ) t_sim=  83.1446 sec\n"
     ]
    },
    {
     "name": "stdout",
     "output_type": "stream",
     "text": [
      "iter=65 : time= 4.0625  Etot= -0.2452935846  Ekin= 0.23574   Epot= -0.481034 : de= -7.74782e-05 ( 9.91753e-05 ) d(de)= -1.81768e-06 ( 7.0365e-06 ) t_sim=  83.1446 sec\n"
     ]
    },
    {
     "name": "stderr",
     "output_type": "stream",
     "text": [
      "iter=66 : time= 4.125  Etot= -0.2452939726  Ekin= 0.235881   Epot= -0.481175 : de= -7.58964e-05 ( 9.91753e-05 ) d(de)= 1.58199e-06 ( 7.0365e-06 ) t_sim=  84.1656 sec\n"
     ]
    },
    {
     "name": "stdout",
     "output_type": "stream",
     "text": [
      "iter=66 : time= 4.125  Etot= -0.2452939726  Ekin= 0.235881   Epot= -0.481175 : de= -7.58964e-05 ( 9.91753e-05 ) d(de)= 1.58199e-06 ( 7.0365e-06 ) t_sim=  84.1656 sec\n"
     ]
    },
    {
     "name": "stderr",
     "output_type": "stream",
     "text": [
      "iter=67 : time= 4.1875  Etot= -0.2452948222  Ekin= 0.236022   Epot= -0.481317 : de= -7.24331e-05 ( 9.91753e-05 ) d(de)= 3.46355e-06 ( 7.0365e-06 ) t_sim=  85.2582 sec\n"
     ]
    },
    {
     "name": "stdout",
     "output_type": "stream",
     "text": [
      "iter=67 : time= 4.1875  Etot= -0.2452948222  Ekin= 0.236022   Epot= -0.481317 : de= -7.24331e-05 ( 9.91753e-05 ) d(de)= 3.46355e-06 ( 7.0365e-06 ) t_sim=  85.2582 sec\n"
     ]
    },
    {
     "name": "stderr",
     "output_type": "stream",
     "text": [
      "iter=68 : time= 4.25  Etot= -0.2452949331  Ekin= 0.236162   Epot= -0.481457 : de= -7.19812e-05 ( 9.91753e-05 ) d(de)= 4.51926e-07 ( 7.0365e-06 ) t_sim=  86.39 sec\n"
     ]
    },
    {
     "name": "stdout",
     "output_type": "stream",
     "text": [
      "iter=68 : time= 4.25  Etot= -0.2452949331  Ekin= 0.236162   Epot= -0.481457 : de= -7.19812e-05 ( 9.91753e-05 ) d(de)= 4.51926e-07 ( 7.0365e-06 ) t_sim=  86.39 sec\n"
     ]
    },
    {
     "name": "stderr",
     "output_type": "stream",
     "text": [
      "iter=69 : time= 4.3125  Etot= -0.2452952489  Ekin= 0.236302   Epot= -0.481598 : de= -7.06938e-05 ( 9.91753e-05 ) d(de)= 1.28746e-06 ( 7.0365e-06 ) t_sim=  88.0392 sec\n"
     ]
    },
    {
     "name": "stdout",
     "output_type": "stream",
     "text": [
      "iter=69 : time= 4.3125  Etot= -0.2452952489  Ekin= 0.236302   Epot= -0.481598 : de= -7.06938e-05 ( 9.91753e-05 ) d(de)= 1.28746e-06 ( 7.0365e-06 ) t_sim=  88.0392 sec\n"
     ]
    },
    {
     "name": "stderr",
     "output_type": "stream",
     "text": [
      "iter=70 : time= 4.375  Etot= -0.2452956349  Ekin= 0.236442   Epot= -0.481738 : de= -6.91202e-05 ( 9.91753e-05 ) d(de)= 1.57376e-06 ( 7.0365e-06 ) t_sim=  88.9841 sec\n"
     ]
    },
    {
     "name": "stdout",
     "output_type": "stream",
     "text": [
      "iter=70 : time= 4.375  Etot= -0.2452956349  Ekin= 0.236442   Epot= -0.481738 : de= -6.91202e-05 ( 9.91753e-05 ) d(de)= 1.57376e-06 ( 7.0365e-06 ) t_sim=  88.9841 sec\n"
     ]
    },
    {
     "name": "stderr",
     "output_type": "stream",
     "text": [
      "iter=71 : time= 4.4375  Etot= -0.2452958107  Ekin= 0.23658   Epot= -0.481876 : de= -6.84036e-05 ( 9.91753e-05 ) d(de)= 7.16667e-07 ( 7.0365e-06 ) t_sim=  93.3524 sec\n"
     ]
    },
    {
     "name": "stdout",
     "output_type": "stream",
     "text": [
      "iter=71 : time= 4.4375  Etot= -0.2452958107  Ekin= 0.23658   Epot= -0.481876 : de= -6.84036e-05 ( 9.91753e-05 ) d(de)= 7.16667e-07 ( 7.0365e-06 ) t_sim=  93.3524 sec\n"
     ]
    },
    {
     "name": "stderr",
     "output_type": "stream",
     "text": [
      "iter=72 : time= 4.5  Etot= -0.2452960025  Ekin= 0.236716   Epot= -0.482012 : de= -6.76216e-05 ( 9.91753e-05 ) d(de)= 7.82022e-07 ( 7.0365e-06 ) t_sim=  93.7471 sec\n"
     ]
    },
    {
     "name": "stdout",
     "output_type": "stream",
     "text": [
      "iter=72 : time= 4.5  Etot= -0.2452960025  Ekin= 0.236716   Epot= -0.482012 : de= -6.76216e-05 ( 9.91753e-05 ) d(de)= 7.82022e-07 ( 7.0365e-06 ) t_sim=  93.7471 sec\n"
     ]
    },
    {
     "name": "stderr",
     "output_type": "stream",
     "text": [
      "iter=73 : time= 4.5625  Etot= -0.2452961079  Ekin= 0.236847   Epot= -0.482144 : de= -6.71921e-05 ( 9.91753e-05 ) d(de)= 4.29497e-07 ( 7.0365e-06 ) t_sim=  94.2595 sec\n"
     ]
    },
    {
     "name": "stdout",
     "output_type": "stream",
     "text": [
      "iter=73 : time= 4.5625  Etot= -0.2452961079  Ekin= 0.236847   Epot= -0.482144 : de= -6.71921e-05 ( 9.91753e-05 ) d(de)= 4.29497e-07 ( 7.0365e-06 ) t_sim=  94.2595 sec\n"
     ]
    },
    {
     "name": "stderr",
     "output_type": "stream",
     "text": [
      "iter=74 : time= 4.625  Etot= -0.2452965875  Ekin= 0.236974   Epot= -0.48227 : de= -6.52368e-05 ( 9.91753e-05 ) d(de)= 1.95541e-06 ( 7.0365e-06 ) t_sim=  96.521 sec\n"
     ]
    },
    {
     "name": "stdout",
     "output_type": "stream",
     "text": [
      "iter=74 : time= 4.625  Etot= -0.2452965875  Ekin= 0.236974   Epot= -0.48227 : de= -6.52368e-05 ( 9.91753e-05 ) d(de)= 1.95541e-06 ( 7.0365e-06 ) t_sim=  96.521 sec\n",
      "iter=75 : time= 4.6875  Etot= -0.2452961005  Ekin= 0.237094   Epot= -0.48239 : de= -6.72221e-05 ( 9.91753e-05 ) d(de)= -1.98536e-06 ( 7.0365e-06 ) t_sim=  97.1203 sec\n"
     ]
    },
    {
     "name": "stderr",
     "output_type": "stream",
     "text": [
      "iter=75 : time= 4.6875  Etot= -0.2452961005  Ekin= 0.237094   Epot= -0.48239 : de= -6.72221e-05 ( 9.91753e-05 ) d(de)= -1.98536e-06 ( 7.0365e-06 ) t_sim=  97.1204 sec\n",
      "iter=76 : time= 4.75  Etot= -0.245296156  Ekin= 0.237207   Epot= -0.482503 : de= -6.69961e-05 ( 9.91753e-05 ) d(de)= 2.25975e-07 ( 7.0365e-06 ) t_sim=  100.917 sec\n"
     ]
    },
    {
     "name": "stdout",
     "output_type": "stream",
     "text": [
      "iter=76 : time= 4.75  Etot= -0.245296156  Ekin= 0.237207   Epot= -0.482503 : de= -6.69961e-05 ( 9.91753e-05 ) d(de)= 2.25975e-07 ( 7.0365e-06 ) t_sim=  100.917 sec\n"
     ]
    },
    {
     "name": "stderr",
     "output_type": "stream",
     "text": [
      "iter=77 : time= 4.8125  Etot= -0.2452962699  Ekin= 0.237313   Epot= -0.482609 : de= -6.65319e-05 ( 9.91753e-05 ) d(de)= 4.64289e-07 ( 7.0365e-06 ) t_sim=  101.262 sec\n"
     ]
    },
    {
     "name": "stdout",
     "output_type": "stream",
     "text": [
      "iter=77 : time= 4.8125  Etot= -0.2452962699  Ekin= 0.237313   Epot= -0.482609 : de= -6.65319e-05 ( 9.91753e-05 ) d(de)= 4.64289e-07 ( 7.0365e-06 ) t_sim=  101.262 sec\n"
     ]
    },
    {
     "name": "stderr",
     "output_type": "stream",
     "text": [
      "iter=78 : time= 4.875  Etot= -0.2452958985  Ekin= 0.237411   Epot= -0.482707 : de= -6.80458e-05 ( 9.91753e-05 ) d(de)= -1.51407e-06 ( 7.0365e-06 ) t_sim=  101.587 sec\n"
     ]
    },
    {
     "name": "stdout",
     "output_type": "stream",
     "text": [
      "iter=78 : time= 4.875  Etot= -0.2452958985  Ekin= 0.237411   Epot= -0.482707 : de= -6.80458e-05 ( 9.91753e-05 ) d(de)= -1.51407e-06 ( 7.0365e-06 ) t_sim=  101.587 sec\n"
     ]
    },
    {
     "name": "stderr",
     "output_type": "stream",
     "text": [
      "iter=79 : time= 4.9375  Etot= -0.2452957619  Ekin= 0.237501   Epot= -0.482796 : de= -6.86027e-05 ( 9.91753e-05 ) d(de)= -5.56946e-07 ( 7.0365e-06 ) t_sim=  104.051 sec\n"
     ]
    },
    {
     "name": "stdout",
     "output_type": "stream",
     "text": [
      "iter=79 : time= 4.9375  Etot= -0.2452957619  Ekin= 0.237501   Epot= -0.482796 : de= -6.86027e-05 ( 9.91753e-05 ) d(de)= -5.56946e-07 ( 7.0365e-06 ) t_sim=  104.051 sec\n"
     ]
    },
    {
     "name": "stderr",
     "output_type": "stream",
     "text": [
      "iter=80 : time= 5  Etot= -0.2452963334  Ekin= 0.237581   Epot= -0.482877 : de= -6.62728e-05 ( 9.91753e-05 ) d(de)= 2.33005e-06 ( 7.0365e-06 ) t_sim=  104.326 sec\n"
     ]
    },
    {
     "name": "stdout",
     "output_type": "stream",
     "text": [
      "iter=80 : time= 5  Etot= -0.2452963334  Ekin= 0.237581   Epot= -0.482877 : de= -6.62728e-05 ( 9.91753e-05 ) d(de)= 2.33005e-06 ( 7.0365e-06 ) t_sim=  104.326 sec\n"
     ]
    },
    {
     "name": "stderr",
     "output_type": "stream",
     "text": [
      "iter=80 : time= 5  Etot= -0.2452963334  Ekin= 0.237581   Epot= -0.482877 : de= -6.62728e-05 ( 9.91753e-05 ) d(de)= -0 ( 7.0365e-06 ) t_sim=  104.836 sec\n"
     ]
    },
    {
     "name": "stdout",
     "output_type": "stream",
     "text": [
      "iter=80 : time= 5  Etot= -0.2452963334  Ekin= 0.237581   Epot= -0.482877 : de= -6.62728e-05 ( 9.91753e-05 ) d(de)= -0 ( 7.0365e-06 ) t_sim=  104.836 sec\n",
      "../Bonsai/build/bonsai2_slowdust  --direct --plummer 1000000 --snapname data/plummer_snap_mpi --snapiter 0.0625 -T 5 -dt 0.0625 --eps 0.05\n"
     ]
    },
    {
     "name": "stderr",
     "output_type": "stream",
     "text": [
      " Unknown ENV_VARIABLE:   -- Falling to basic forking method after MPI_Init, unsafe!\n",
      "Proc id: 0 @ Default , total processes: 1 (mpiInit) \n",
      "[INIT]\tUsed settings: \n",
      "[INIT]\tInput  filename \n",
      "[INIT]\tBonsai filename \n",
      "[INIT]\tLog filename gpuLog.log\n",
      "[INIT]\tTheta: \t\t0.75\t\teps: \t\t0.05\n",
      "[INIT]\tTimestep: \t0.0625\t\ttEnd: \t\t5\n",
      "[INIT]\titerEnd: \t1073741824\n",
      "[INIT]\tUse MPI-IO: \tNO\n",
      "[INIT]\tsnapshotFile: \tdata/plummer_snap_mpi\tsnapshotIter: \t0.0625\n",
      "[INIT]\tInput file: \t\t\tdevID: \t\t0\n",
      "[INIT]\tRemove dist: \t-1\n",
      "[INIT]\tRebuild tree every 1 timestep\n",
      "[INIT]\tRuntime logging is DISABLED \n",
      "[INIT]\tDirect gravitation is ENABLED\n",
      "[INIT]\tCode is built WITHOUT MPI Support \n"
     ]
    },
    {
     "name": "stdout",
     "output_type": "stream",
     "text": [
      "Using Plummer model with n= 1000000 per process \n",
      "................................................................"
     ]
    },
    {
     "name": "stderr",
     "output_type": "stream",
     "text": [
      "Proc: 0 Bootup times: Tree/MPI: 0.196419 Threads/log: 8.4877e-05 IC-model: 0 \n",
      " Start iterating\n",
      "iter=0 : time= 0  Etot= 0.2498514114  Ekin= 0.249851   Epot= 4.09241e-07 : de= 0 ( 0 ) d(de)= 0 ( 0 ) t_sim=  5.00679e-06 sec\n",
      "iter=1 : time= 0.0625  Etot= 0.2498514114  Ekin= 0.249851   Epot= 4.09241e-07 : de= 0 ( 0 ) d(de)= 0 ( 0 ) t_sim=  9.46624 sec\n",
      "iter=2 : time= 0.125  Etot= 0.2498514114  Ekin= 0.249851   Epot= 4.09241e-07 : de= 0 ( 0 ) d(de)= 0 ( 0 ) t_sim=  18.8465 sec\n",
      "iter=3 : time= 0.1875  Etot= 0.2498514114  Ekin= 0.249851   Epot= 4.09241e-07 : de= 0 ( 0 ) d(de)= 0 ( 0 ) t_sim=  28.2444 sec\n",
      "iter=4 : time= 0.25  Etot= 0.2498514114  Ekin= 0.249851   Epot= 4.09241e-07 : de= 0 ( 0 ) d(de)= 0 ( 0 ) t_sim=  37.6132 sec\n",
      "iter=5 : time= 0.3125  Etot= 0.2498514114  Ekin= 0.249851   Epot= 4.09241e-07 : de= 0 ( 0 ) d(de)= 0 ( 0 ) t_sim=  47.041 sec\n",
      "iter=6 : time= 0.375  Etot= 0.2498514114  Ekin= 0.249851   Epot= 4.09241e-07 : de= 0 ( 0 ) d(de)= 0 ( 0 ) t_sim=  56.5456 sec\n",
      "iter=7 : time= 0.4375  Etot= 0.2498514114  Ekin= 0.249851   Epot= 4.09241e-07 : de= 0 ( 0 ) d(de)= 0 ( 0 ) t_sim=  66.107 sec\n",
      "iter=8 : time= 0.5  Etot= 0.2498514114  Ekin= 0.249851   Epot= 4.09241e-07 : de= 0 ( 0 ) d(de)= 0 ( 0 ) t_sim=  75.5729 sec\n",
      "iter=9 : time= 0.5625  Etot= 0.2498514114  Ekin= 0.249851   Epot= 4.09241e-07 : de= 0 ( 0 ) d(de)= 0 ( 0 ) t_sim=  85.1435 sec\n",
      "iter=10 : time= 0.625  Etot= 0.2498514114  Ekin= 0.249851   Epot= 4.09241e-07 : de= 0 ( 0 ) d(de)= 0 ( 0 ) t_sim=  94.7556 sec\n",
      "iter=11 : time= 0.6875  Etot= 0.2498514114  Ekin= 0.249851   Epot= 4.09241e-07 : de= 0 ( 0 ) d(de)= 0 ( 0 ) t_sim=  104.287 sec\n",
      "iter=12 : time= 0.75  Etot= 0.2498514114  Ekin= 0.249851   Epot= 4.09241e-07 : de= 0 ( 0 ) d(de)= 0 ( 0 ) t_sim=  113.808 sec\n",
      "iter=13 : time= 0.8125  Etot= 0.2498514114  Ekin= 0.249851   Epot= 4.09241e-07 : de= 0 ( 0 ) d(de)= 0 ( 0 ) t_sim=  123.489 sec\n",
      "iter=14 : time= 0.875  Etot= 0.2498514114  Ekin= 0.249851   Epot= 4.09241e-07 : de= 0 ( 0 ) d(de)= 0 ( 0 ) t_sim=  133.134 sec\n",
      "iter=15 : time= 0.9375  Etot= 0.2498514114  Ekin= 0.249851   Epot= 4.09241e-07 : de= 0 ( 0 ) d(de)= 0 ( 0 ) t_sim=  142.821 sec\n",
      "iter=16 : time= 1  Etot= 0.2498514114  Ekin= 0.249851   Epot= 4.09241e-07 : de= 0 ( 0 ) d(de)= 0 ( 0 ) t_sim=  152.356 sec\n",
      "iter=17 : time= 1.0625  Etot= 0.2498514114  Ekin= 0.249851   Epot= 4.09241e-07 : de= 0 ( 0 ) d(de)= 0 ( 0 ) t_sim=  161.906 sec\n",
      "iter=18 : time= 1.125  Etot= 0.2498514114  Ekin= 0.249851   Epot= 4.09241e-07 : de= 0 ( 0 ) d(de)= 0 ( 0 ) t_sim=  171.567 sec\n",
      "iter=19 : time= 1.1875  Etot= 0.2498514114  Ekin= 0.249851   Epot= 4.09241e-07 : de= 0 ( 0 ) d(de)= 0 ( 0 ) t_sim=  181.138 sec\n",
      "iter=20 : time= 1.25  Etot= 0.2498514114  Ekin= 0.249851   Epot= 4.09241e-07 : de= 0 ( 0 ) d(de)= 0 ( 0 ) t_sim=  190.748 sec\n",
      "iter=21 : time= 1.3125  Etot= 0.2498514114  Ekin= 0.249851   Epot= 4.09241e-07 : de= 0 ( 0 ) d(de)= 0 ( 0 ) t_sim=  200.302 sec\n",
      "iter=22 : time= 1.375  Etot= 0.2498514114  Ekin= 0.249851   Epot= 4.09241e-07 : de= 0 ( 0 ) d(de)= 0 ( 0 ) t_sim=  209.876 sec\n",
      "iter=23 : time= 1.4375  Etot= 0.2498514114  Ekin= 0.249851   Epot= 4.09241e-07 : de= 0 ( 0 ) d(de)= 0 ( 0 ) t_sim=  219.456 sec\n",
      "iter=24 : time= 1.5  Etot= 0.2498514114  Ekin= 0.249851   Epot= 4.09241e-07 : de= 0 ( 0 ) d(de)= 0 ( 0 ) t_sim=  229.073 sec\n",
      "iter=25 : time= 1.5625  Etot= 0.2498514114  Ekin= 0.249851   Epot= 4.09241e-07 : de= 0 ( 0 ) d(de)= 0 ( 0 ) t_sim=  238.708 sec\n",
      "iter=26 : time= 1.625  Etot= 0.2498514114  Ekin= 0.249851   Epot= 4.09241e-07 : de= 0 ( 0 ) d(de)= 0 ( 0 ) t_sim=  248.312 sec\n",
      "iter=27 : time= 1.6875  Etot= 0.2498514114  Ekin= 0.249851   Epot= 4.09241e-07 : de= 0 ( 0 ) d(de)= 0 ( 0 ) t_sim=  257.872 sec\n",
      "iter=28 : time= 1.75  Etot= 0.2498514114  Ekin= 0.249851   Epot= 4.09241e-07 : de= 0 ( 0 ) d(de)= 0 ( 0 ) t_sim=  267.497 sec\n",
      "iter=29 : time= 1.8125  Etot= 0.2498514114  Ekin= 0.249851   Epot= 4.09241e-07 : de= 0 ( 0 ) d(de)= 0 ( 0 ) t_sim=  277.086 sec\n",
      "iter=30 : time= 1.875  Etot= 0.2498514114  Ekin= 0.249851   Epot= 4.09241e-07 : de= 0 ( 0 ) d(de)= 0 ( 0 ) t_sim=  286.747 sec\n",
      "iter=31 : time= 1.9375  Etot= 0.2498514114  Ekin= 0.249851   Epot= 4.09241e-07 : de= 0 ( 0 ) d(de)= 0 ( 0 ) t_sim=  296.338 sec\n"
     ]
    },
    {
     "name": "stdout",
     "output_type": "stream",
     "text": [
      "\n",
      "iter=0 : time= 0  Etot= 0.2498514114  Ekin= 0.249851   Epot= 4.09241e-07 : de= 0 ( 0 ) d(de)= 0 ( 0 ) t_sim=  0 sec\n",
      "iter=1 : time= 0.0625  Etot= 0.2498514114  Ekin= 0.249851   Epot= 4.09241e-07 : de= 0 ( 0 ) d(de)= 0 ( 0 ) t_sim=  9.46623 sec\n",
      "iter=2 : time= 0.125  Etot= 0.2498514114  Ekin= 0.249851   Epot= 4.09241e-07 : de= 0 ( 0 ) d(de)= 0 ( 0 ) t_sim=  18.8465 sec\n",
      "iter=3 : time= 0.1875  Etot= 0.2498514114  Ekin= 0.249851   Epot= 4.09241e-07 : de= 0 ( 0 ) d(de)= 0 ( 0 ) t_sim=  28.2444 sec\n",
      "iter=4 : time= 0.25  Etot= 0.2498514114  Ekin= 0.249851   Epot= 4.09241e-07 : de= 0 ( 0 ) d(de)= 0 ( 0 ) t_sim=  37.6132 sec\n",
      "iter=5 : time= 0.3125  Etot= 0.2498514114  Ekin= 0.249851   Epot= 4.09241e-07 : de= 0 ( 0 ) d(de)= 0 ( 0 ) t_sim=  47.041 sec\n",
      "iter=6 : time= 0.375  Etot= 0.2498514114  Ekin= 0.249851   Epot= 4.09241e-07 : de= 0 ( 0 ) d(de)= 0 ( 0 ) t_sim=  56.5456 sec\n",
      "iter=7 : time= 0.4375  Etot= 0.2498514114  Ekin= 0.249851   Epot= 4.09241e-07 : de= 0 ( 0 ) d(de)= 0 ( 0 ) t_sim=  66.107 sec\n",
      "iter=8 : time= 0.5  Etot= 0.2498514114  Ekin= 0.249851   Epot= 4.09241e-07 : de= 0 ( 0 ) d(de)= 0 ( 0 ) t_sim=  75.5729 sec\n",
      "iter=9 : time= 0.5625  Etot= 0.2498514114  Ekin= 0.249851   Epot= 4.09241e-07 : de= 0 ( 0 ) d(de)= 0 ( 0 ) t_sim=  85.1435 sec\n",
      "iter=10 : time= 0.625  Etot= 0.2498514114  Ekin= 0.249851   Epot= 4.09241e-07 : de= 0 ( 0 ) d(de)= 0 ( 0 ) t_sim=  94.7556 sec\n",
      "iter=11 : time= 0.6875  Etot= 0.2498514114  Ekin= 0.249851   Epot= 4.09241e-07 : de= 0 ( 0 ) d(de)= 0 ( 0 ) t_sim=  104.287 sec\n",
      "iter=12 : time= 0.75  Etot= 0.2498514114  Ekin= 0.249851   Epot= 4.09241e-07 : de= 0 ( 0 ) d(de)= 0 ( 0 ) t_sim=  113.808 sec\n",
      "iter=13 : time= 0.8125  Etot= 0.2498514114  Ekin= 0.249851   Epot= 4.09241e-07 : de= 0 ( 0 ) d(de)= 0 ( 0 ) t_sim=  123.489 sec\n",
      "iter=14 : time= 0.875  Etot= 0.2498514114  Ekin= 0.249851   Epot= 4.09241e-07 : de= 0 ( 0 ) d(de)= 0 ( 0 ) t_sim=  133.134 sec\n",
      "iter=15 : time= 0.9375  Etot= 0.2498514114  Ekin= 0.249851   Epot= 4.09241e-07 : de= 0 ( 0 ) d(de)= 0 ( 0 ) t_sim=  142.821 sec\n",
      "iter=16 : time= 1  Etot= 0.2498514114  Ekin= 0.249851   Epot= 4.09241e-07 : de= 0 ( 0 ) d(de)= 0 ( 0 ) t_sim=  152.356 sec\n",
      "iter=17 : time= 1.0625  Etot= 0.2498514114  Ekin= 0.249851   Epot= 4.09241e-07 : de= 0 ( 0 ) d(de)= 0 ( 0 ) t_sim=  161.906 sec\n",
      "iter=18 : time= 1.125  Etot= 0.2498514114  Ekin= 0.249851   Epot= 4.09241e-07 : de= 0 ( 0 ) d(de)= 0 ( 0 ) t_sim=  171.567 sec\n",
      "iter=19 : time= 1.1875  Etot= 0.2498514114  Ekin= 0.249851   Epot= 4.09241e-07 : de= 0 ( 0 ) d(de)= 0 ( 0 ) t_sim=  181.138 sec\n",
      "iter=20 : time= 1.25  Etot= 0.2498514114  Ekin= 0.249851   Epot= 4.09241e-07 : de= 0 ( 0 ) d(de)= 0 ( 0 ) t_sim=  190.748 sec\n",
      "iter=21 : time= 1.3125  Etot= 0.2498514114  Ekin= 0.249851   Epot= 4.09241e-07 : de= 0 ( 0 ) d(de)= 0 ( 0 ) t_sim=  200.302 sec\n",
      "iter=22 : time= 1.375  Etot= 0.2498514114  Ekin= 0.249851   Epot= 4.09241e-07 : de= 0 ( 0 ) d(de)= 0 ( 0 ) t_sim=  209.876 sec\n",
      "iter=23 : time= 1.4375  Etot= 0.2498514114  Ekin= 0.249851   Epot= 4.09241e-07 : de= 0 ( 0 ) d(de)= 0 ( 0 ) t_sim=  219.456 sec\n",
      "iter=24 : time= 1.5  Etot= 0.2498514114  Ekin= 0.249851   Epot= 4.09241e-07 : de= 0 ( 0 ) d(de)= 0 ( 0 ) t_sim=  229.073 sec\n",
      "iter=25 : time= 1.5625  Etot= 0.2498514114  Ekin= 0.249851   Epot= 4.09241e-07 : de= 0 ( 0 ) d(de)= 0 ( 0 ) t_sim=  238.708 sec\n",
      "iter=26 : time= 1.625  Etot= 0.2498514114  Ekin= 0.249851   Epot= 4.09241e-07 : de= 0 ( 0 ) d(de)= 0 ( 0 ) t_sim=  248.312 sec\n",
      "iter=27 : time= 1.6875  Etot= 0.2498514114  Ekin= 0.249851   Epot= 4.09241e-07 : de= 0 ( 0 ) d(de)= 0 ( 0 ) t_sim=  257.872 sec\n",
      "iter=28 : time= 1.75  Etot= 0.2498514114  Ekin= 0.249851   Epot= 4.09241e-07 : de= 0 ( 0 ) d(de)= 0 ( 0 ) t_sim=  267.497 sec\n",
      "iter=29 : time= 1.8125  Etot= 0.2498514114  Ekin= 0.249851   Epot= 4.09241e-07 : de= 0 ( 0 ) d(de)= 0 ( 0 ) t_sim=  277.086 sec\n",
      "iter=30 : time= 1.875  Etot= 0.2498514114  Ekin= 0.249851   Epot= 4.09241e-07 : de= 0 ( 0 ) d(de)= 0 ( 0 ) t_sim=  286.747 sec\n",
      "iter=31 : time= 1.9375  Etot= 0.2498514114  Ekin= 0.249851   Epot= 4.09241e-07 : de= 0 ( 0 ) d(de)= 0 ( 0 ) t_sim=  296.338 sec\n",
      "iter=32 : time= 2  Etot= 0.2498514114  Ekin= 0.24"
     ]
    },
    {
     "name": "stderr",
     "output_type": "stream",
     "text": [
      "iter=32 : time= 2  Etot= 0.2498514114  Ekin= 0.249851   Epot= 4.09241e-07 : de= 0 ( 0 ) d(de)= 0 ( 0 ) t_sim=  305.968 sec\n",
      "iter=33 : time= 2.0625  Etot= 0.2498514114  Ekin= 0.249851   Epot= 4.09241e-07 : de= 0 ( 0 ) d(de)= 0 ( 0 ) t_sim=  315.582 sec\n",
      "iter=34 : time= 2.125  Etot= 0.2498514114  Ekin= 0.249851   Epot= 4.09241e-07 : de= 0 ( 0 ) d(de)= 0 ( 0 ) t_sim=  325.186 sec\n",
      "iter=35 : time= 2.1875  Etot= 0.2498514114  Ekin= 0.249851   Epot= 4.09241e-07 : de= 0 ( 0 ) d(de)= 0 ( 0 ) t_sim=  334.724 sec\n",
      "iter=36 : time= 2.25  Etot= 0.2498514114  Ekin= 0.249851   Epot= 4.09241e-07 : de= 0 ( 0 ) d(de)= 0 ( 0 ) t_sim=  344.327 sec\n",
      "iter=37 : time= 2.3125  Etot= 0.2498514114  Ekin= 0.249851   Epot= 4.09241e-07 : de= 0 ( 0 ) d(de)= 0 ( 0 ) t_sim=  353.876 sec\n",
      "iter=38 : time= 2.375  Etot= 0.2498514114  Ekin= 0.249851   Epot= 4.09241e-07 : de= 0 ( 0 ) d(de)= 0 ( 0 ) t_sim=  363.488 sec\n",
      "iter=39 : time= 2.4375  Etot= 0.2498514114  Ekin= 0.249851   Epot= 4.09241e-07 : de= 0 ( 0 ) d(de)= 0 ( 0 ) t_sim=  373.07 sec\n",
      "iter=40 : time= 2.5  Etot= 0.2498514114  Ekin= 0.249851   Epot= 4.09241e-07 : de= 0 ( 0 ) d(de)= 0 ( 0 ) t_sim=  382.67 sec\n",
      "iter=41 : time= 2.5625  Etot= 0.2498514114  Ekin= 0.249851   Epot= 4.09241e-07 : de= 0 ( 0 ) d(de)= 0 ( 0 ) t_sim=  392.296 sec\n",
      "iter=42 : time= 2.625  Etot= 0.2498514114  Ekin= 0.249851   Epot= 4.09241e-07 : de= 0 ( 0 ) d(de)= 0 ( 0 ) t_sim=  401.988 sec\n",
      "iter=43 : time= 2.6875  Etot= 0.2498514114  Ekin= 0.249851   Epot= 4.09241e-07 : de= 0 ( 0 ) d(de)= 0 ( 0 ) t_sim=  411.564 sec\n",
      "iter=44 : time= 2.75  Etot= 0.2498514114  Ekin= 0.249851   Epot= 4.09241e-07 : de= 0 ( 0 ) d(de)= 0 ( 0 ) t_sim=  421.151 sec\n",
      "iter=45 : time= 2.8125  Etot= 0.2498514114  Ekin= 0.249851   Epot= 4.09241e-07 : de= 0 ( 0 ) d(de)= 0 ( 0 ) t_sim=  430.788 sec\n",
      "iter=46 : time= 2.875  Etot= 0.2498514114  Ekin= 0.249851   Epot= 4.09241e-07 : de= 0 ( 0 ) d(de)= 0 ( 0 ) t_sim=  440.519 sec\n",
      "iter=47 : time= 2.9375  Etot= 0.2498514114  Ekin= 0.249851   Epot= 4.09241e-07 : de= 0 ( 0 ) d(de)= 0 ( 0 ) t_sim=  450.161 sec\n",
      "iter=48 : time= 3  Etot= 0.2498514114  Ekin= 0.249851   Epot= 4.09241e-07 : de= 0 ( 0 ) d(de)= 0 ( 0 ) t_sim=  459.784 sec\n",
      "iter=49 : time= 3.0625  Etot= 0.2498514114  Ekin= 0.249851   Epot= 4.09241e-07 : de= 0 ( 0 ) d(de)= 0 ( 0 ) t_sim=  469.119 sec\n",
      "iter=50 : time= 3.125  Etot= 0.2498514114  Ekin= 0.249851   Epot= 4.09241e-07 : de= 0 ( 0 ) d(de)= 0 ( 0 ) t_sim=  478.43 sec\n",
      "iter=51 : time= 3.1875  Etot= 0.2498514114  Ekin= 0.249851   Epot= 4.09241e-07 : de= 0 ( 0 ) d(de)= 0 ( 0 ) t_sim=  487.112 sec\n",
      "iter=52 : time= 3.25  Etot= 0.2498514114  Ekin= 0.249851   Epot= 4.09241e-07 : de= 0 ( 0 ) d(de)= 0 ( 0 ) t_sim=  495.941 sec\n",
      "iter=53 : time= 3.3125  Etot= 0.2498514114  Ekin= 0.249851   Epot= 4.09241e-07 : de= 0 ( 0 ) d(de)= 0 ( 0 ) t_sim=  504.507 sec\n",
      "iter=54 : time= 3.375  Etot= 0.2498514114  Ekin= 0.249851   Epot= 4.09241e-07 : de= 0 ( 0 ) d(de)= 0 ( 0 ) t_sim=  513.067 sec\n",
      "iter=55 : time= 3.4375  Etot= 0.2498514114  Ekin= 0.249851   Epot= 4.09241e-07 : de= 0 ( 0 ) d(de)= 0 ( 0 ) t_sim=  521.507 sec\n",
      "iter=56 : time= 3.5  Etot= 0.2498514114  Ekin= 0.249851   Epot= 4.09241e-07 : de= 0 ( 0 ) d(de)= 0 ( 0 ) t_sim=  530.042 sec\n",
      "iter=57 : time= 3.5625  Etot= 0.2498514114  Ekin= 0.249851   Epot= 4.09241e-07 : de= 0 ( 0 ) d(de)= 0 ( 0 ) t_sim=  538.453 sec\n",
      "iter=58 : time= 3.625  Etot= 0.2498514114  Ekin= 0.249851   Epot= 4.09241e-07 : de= 0 ( 0 ) d(de)= 0 ( 0 ) t_sim=  546.862 sec\n",
      "iter=59 : time= 3.6875  Etot= 0.2498514114  Ekin= 0.249851   Epot= 4.09241e-07 : de= 0 ( 0 ) d(de)= 0 ( 0 ) t_sim=  555.287 sec\n",
      "iter=60 : time= 3.75  Etot= 0.2498514114  Ekin= 0.249851   Epot= 4.09241e-07 : de= 0 ( 0 ) d(de)= 0 ( 0 ) t_sim=  563.716 sec\n",
      "iter=61 : time= 3.8125  Etot= 0.2498514114  Ekin= 0.249851   Epot= 4.09241e-07 : de= 0 ( 0 ) d(de)= 0 ( 0 ) t_sim=  572.25 sec\n",
      "iter=62 : time= 3.875  Etot= 0.2498514114  Ekin= 0.249851   Epot= 4.09241e-07 : de= 0 ( 0 ) d(de)= 0 ( 0 ) t_sim=  581.642 sec\n",
      "iter=63 : time= 3.9375  Etot= 0.2498514114  Ekin= 0.249851   Epot= 4.09241e-07 : de= 0 ( 0 ) d(de)= 0 ( 0 ) t_sim=  591.35 sec\n"
     ]
    },
    {
     "name": "stdout",
     "output_type": "stream",
     "text": [
      "9851   Epot= 4.09241e-07 : de= 0 ( 0 ) d(de)= 0 ( 0 ) t_sim=  305.968 sec\n",
      "iter=33 : time= 2.0625  Etot= 0.2498514114  Ekin= 0.249851   Epot= 4.09241e-07 : de= 0 ( 0 ) d(de)= 0 ( 0 ) t_sim=  315.582 sec\n",
      "iter=34 : time= 2.125  Etot= 0.2498514114  Ekin= 0.249851   Epot= 4.09241e-07 : de= 0 ( 0 ) d(de)= 0 ( 0 ) t_sim=  325.186 sec\n",
      "iter=35 : time= 2.1875  Etot= 0.2498514114  Ekin= 0.249851   Epot= 4.09241e-07 : de= 0 ( 0 ) d(de)= 0 ( 0 ) t_sim=  334.724 sec\n",
      "iter=36 : time= 2.25  Etot= 0.2498514114  Ekin= 0.249851   Epot= 4.09241e-07 : de= 0 ( 0 ) d(de)= 0 ( 0 ) t_sim=  344.327 sec\n",
      "iter=37 : time= 2.3125  Etot= 0.2498514114  Ekin= 0.249851   Epot= 4.09241e-07 : de= 0 ( 0 ) d(de)= 0 ( 0 ) t_sim=  353.876 sec\n",
      "iter=38 : time= 2.375  Etot= 0.2498514114  Ekin= 0.249851   Epot= 4.09241e-07 : de= 0 ( 0 ) d(de)= 0 ( 0 ) t_sim=  363.488 sec\n",
      "iter=39 : time= 2.4375  Etot= 0.2498514114  Ekin= 0.249851   Epot= 4.09241e-07 : de= 0 ( 0 ) d(de)= 0 ( 0 ) t_sim=  373.07 sec\n",
      "iter=40 : time= 2.5  Etot= 0.2498514114  Ekin= 0.249851   Epot= 4.09241e-07 : de= 0 ( 0 ) d(de)= 0 ( 0 ) t_sim=  382.67 sec\n",
      "iter=41 : time= 2.5625  Etot= 0.2498514114  Ekin= 0.249851   Epot= 4.09241e-07 : de= 0 ( 0 ) d(de)= 0 ( 0 ) t_sim=  392.296 sec\n",
      "iter=42 : time= 2.625  Etot= 0.2498514114  Ekin= 0.249851   Epot= 4.09241e-07 : de= 0 ( 0 ) d(de)= 0 ( 0 ) t_sim=  401.988 sec\n",
      "iter=43 : time= 2.6875  Etot= 0.2498514114  Ekin= 0.249851   Epot= 4.09241e-07 : de= 0 ( 0 ) d(de)= 0 ( 0 ) t_sim=  411.564 sec\n",
      "iter=44 : time= 2.75  Etot= 0.2498514114  Ekin= 0.249851   Epot= 4.09241e-07 : de= 0 ( 0 ) d(de)= 0 ( 0 ) t_sim=  421.151 sec\n",
      "iter=45 : time= 2.8125  Etot= 0.2498514114  Ekin= 0.249851   Epot= 4.09241e-07 : de= 0 ( 0 ) d(de)= 0 ( 0 ) t_sim=  430.788 sec\n",
      "iter=46 : time= 2.875  Etot= 0.2498514114  Ekin= 0.249851   Epot= 4.09241e-07 : de= 0 ( 0 ) d(de)= 0 ( 0 ) t_sim=  440.519 sec\n",
      "iter=47 : time= 2.9375  Etot= 0.2498514114  Ekin= 0.249851   Epot= 4.09241e-07 : de= 0 ( 0 ) d(de)= 0 ( 0 ) t_sim=  450.161 sec\n",
      "iter=48 : time= 3  Etot= 0.2498514114  Ekin= 0.249851   Epot= 4.09241e-07 : de= 0 ( 0 ) d(de)= 0 ( 0 ) t_sim=  459.784 sec\n",
      "iter=49 : time= 3.0625  Etot= 0.2498514114  Ekin= 0.249851   Epot= 4.09241e-07 : de= 0 ( 0 ) d(de)= 0 ( 0 ) t_sim=  469.119 sec\n",
      "iter=50 : time= 3.125  Etot= 0.2498514114  Ekin= 0.249851   Epot= 4.09241e-07 : de= 0 ( 0 ) d(de)= 0 ( 0 ) t_sim=  478.43 sec\n",
      "iter=51 : time= 3.1875  Etot= 0.2498514114  Ekin= 0.249851   Epot= 4.09241e-07 : de= 0 ( 0 ) d(de)= 0 ( 0 ) t_sim=  487.112 sec\n",
      "iter=52 : time= 3.25  Etot= 0.2498514114  Ekin= 0.249851   Epot= 4.09241e-07 : de= 0 ( 0 ) d(de)= 0 ( 0 ) t_sim=  495.941 sec\n",
      "iter=53 : time= 3.3125  Etot= 0.2498514114  Ekin= 0.249851   Epot= 4.09241e-07 : de= 0 ( 0 ) d(de)= 0 ( 0 ) t_sim=  504.507 sec\n",
      "iter=54 : time= 3.375  Etot= 0.2498514114  Ekin= 0.249851   Epot= 4.09241e-07 : de= 0 ( 0 ) d(de)= 0 ( 0 ) t_sim=  513.067 sec\n",
      "iter=55 : time= 3.4375  Etot= 0.2498514114  Ekin= 0.249851   Epot= 4.09241e-07 : de= 0 ( 0 ) d(de)= 0 ( 0 ) t_sim=  521.507 sec\n",
      "iter=56 : time= 3.5  Etot= 0.2498514114  Ekin= 0.249851   Epot= 4.09241e-07 : de= 0 ( 0 ) d(de)= 0 ( 0 ) t_sim=  530.042 sec\n",
      "iter=57 : time= 3.5625  Etot= 0.2498514114  Ekin= 0.249851   Epot= 4.09241e-07 : de= 0 ( 0 ) d(de)= 0 ( 0 ) t_sim=  538.453 sec\n",
      "iter=58 : time= 3.625  Etot= 0.2498514114  Ekin= 0.249851   Epot= 4.09241e-07 : de= 0 ( 0 ) d(de)= 0 ( 0 ) t_sim=  546.862 sec\n",
      "iter=59 : time= 3.6875  Etot= 0.2498514114  Ekin= 0.249851   Epot= 4.09241e-07 : de= 0 ( 0 ) d(de)= 0 ( 0 ) t_sim=  555.287 sec\n",
      "iter=60 : time= 3.75  Etot= 0.2498514114  Ekin= 0.249851   Epot= 4.09241e-07 : de= 0 ( 0 ) d(de)= 0 ( 0 ) t_sim=  563.716 sec\n",
      "iter=61 : time= 3.8125  Etot= 0.2498514114  Ekin= 0.249851   Epot= 4.09241e-07 : de= 0 ( 0 ) d(de)= 0 ( 0 ) t_sim=  572.25 sec\n",
      "iter=62 : time= 3.875  Etot= 0.2498514114  Ekin= 0.249851   Epot= 4.09241e-07 : de= 0 ( 0 ) d(de)= 0 ( 0 ) t_sim=  581.642 sec\n",
      "iter=63 : time= 3.9375  Etot= 0.2498514114  Ekin= 0.249851   Epot= 4.09241e-07 : de= 0 ( 0 ) d(de)= 0 ( 0 ) t_sim=  591.35 sec\n",
      "iter=64 : time= 4  Etot= 0.2498514114  Ekin= 0.249851   Epot= 4.09241e-07 : de= 0 ( 0 "
     ]
    },
    {
     "name": "stderr",
     "output_type": "stream",
     "text": [
      "iter=64 : time= 4  Etot= 0.2498514114  Ekin= 0.249851   Epot= 4.09241e-07 : de= 0 ( 0 ) d(de)= 0 ( 0 ) t_sim=  601.072 sec\n",
      "iter=65 : time= 4.0625  Etot= 0.2498514114  Ekin= 0.249851   Epot= 4.09241e-07 : de= 0 ( 0 ) d(de)= 0 ( 0 ) t_sim=  610.387 sec\n",
      "iter=66 : time= 4.125  Etot= 0.2498514114  Ekin= 0.249851   Epot= 4.09241e-07 : de= 0 ( 0 ) d(de)= 0 ( 0 ) t_sim=  619.653 sec\n",
      "iter=67 : time= 4.1875  Etot= 0.2498514114  Ekin= 0.249851   Epot= 4.09241e-07 : de= 0 ( 0 ) d(de)= 0 ( 0 ) t_sim=  629.203 sec\n",
      "iter=68 : time= 4.25  Etot= 0.2498514114  Ekin= 0.249851   Epot= 4.09241e-07 : de= 0 ( 0 ) d(de)= 0 ( 0 ) t_sim=  638.777 sec\n",
      "iter=69 : time= 4.3125  Etot= 0.2498514114  Ekin= 0.249851   Epot= 4.09241e-07 : de= 0 ( 0 ) d(de)= 0 ( 0 ) t_sim=  648.288 sec\n",
      "iter=70 : time= 4.375  Etot= 0.2498514114  Ekin= 0.249851   Epot= 4.09241e-07 : de= 0 ( 0 ) d(de)= 0 ( 0 ) t_sim=  657.82 sec\n",
      "iter=71 : time= 4.4375  Etot= 0.2498514114  Ekin= 0.249851   Epot= 4.09241e-07 : de= 0 ( 0 ) d(de)= 0 ( 0 ) t_sim=  667.369 sec\n",
      "iter=72 : time= 4.5  Etot= 0.2498514114  Ekin= 0.249851   Epot= 4.09241e-07 : de= 0 ( 0 ) d(de)= 0 ( 0 ) t_sim=  676.886 sec\n",
      "iter=73 : time= 4.5625  Etot= 0.2498514114  Ekin= 0.249851   Epot= 4.09241e-07 : de= 0 ( 0 ) d(de)= 0 ( 0 ) t_sim=  686.458 sec\n",
      "iter=74 : time= 4.625  Etot= 0.2498514114  Ekin= 0.249851   Epot= 4.09241e-07 : de= 0 ( 0 ) d(de)= 0 ( 0 ) t_sim=  696.036 sec\n",
      "iter=75 : time= 4.6875  Etot= 0.2498514114  Ekin= 0.249851   Epot= 4.09241e-07 : de= 0 ( 0 ) d(de)= 0 ( 0 ) t_sim=  705.599 sec\n",
      "iter=76 : time= 4.75  Etot= 0.2498514114  Ekin= 0.249851   Epot= 4.09241e-07 : de= 0 ( 0 ) d(de)= 0 ( 0 ) t_sim=  715.19 sec\n",
      "iter=77 : time= 4.8125  Etot= 0.2498514114  Ekin= 0.249851   Epot= 4.09241e-07 : de= 0 ( 0 ) d(de)= 0 ( 0 ) t_sim=  724.734 sec\n",
      "iter=78 : time= 4.875  Etot= 0.2498514114  Ekin= 0.249851   Epot= 4.09241e-07 : de= 0 ( 0 ) d(de)= 0 ( 0 ) t_sim=  734.238 sec\n",
      "iter=79 : time= 4.9375  Etot= 0.2498514114  Ekin= 0.249851   Epot= 4.09241e-07 : de= 0 ( 0 ) d(de)= 0 ( 0 ) t_sim=  743.648 sec\n",
      "iter=80 : time= 5  Etot= 0.2498514114  Ekin= 0.249851   Epot= 4.09241e-07 : de= 0 ( 0 ) d(de)= 0 ( 0 ) t_sim=  753.21 sec\n",
      "iter=80 : time= 5  Etot= 0.2498514114  Ekin= 0.249851   Epot= 4.09241e-07 : de= 0 ( 0 ) d(de)= 0 ( 0 ) t_sim=  753.376 sec\n"
     ]
    },
    {
     "name": "stdout",
     "output_type": "stream",
     "text": [
      ") d(de)= 0 ( 0 ) t_sim=  601.072 sec\n",
      "iter=65 : time= 4.0625  Etot= 0.2498514114  Ekin= 0.249851   Epot= 4.09241e-07 : de= 0 ( 0 ) d(de)= 0 ( 0 ) t_sim=  610.387 sec\n",
      "iter=66 : time= 4.125  Etot= 0.2498514114  Ekin= 0.249851   Epot= 4.09241e-07 : de= 0 ( 0 ) d(de)= 0 ( 0 ) t_sim=  619.653 sec\n",
      "iter=67 : time= 4.1875  Etot= 0.2498514114  Ekin= 0.249851   Epot= 4.09241e-07 : de= 0 ( 0 ) d(de)= 0 ( 0 ) t_sim=  629.203 sec\n",
      "iter=68 : time= 4.25  Etot= 0.2498514114  Ekin= 0.249851   Epot= 4.09241e-07 : de= 0 ( 0 ) d(de)= 0 ( 0 ) t_sim=  638.777 sec\n",
      "iter=69 : time= 4.3125  Etot= 0.2498514114  Ekin= 0.249851   Epot= 4.09241e-07 : de= 0 ( 0 ) d(de)= 0 ( 0 ) t_sim=  648.288 sec\n",
      "iter=70 : time= 4.375  Etot= 0.2498514114  Ekin= 0.249851   Epot= 4.09241e-07 : de= 0 ( 0 ) d(de)= 0 ( 0 ) t_sim=  657.82 sec\n",
      "iter=71 : time= 4.4375  Etot= 0.2498514114  Ekin= 0.249851   Epot= 4.09241e-07 : de= 0 ( 0 ) d(de)= 0 ( 0 ) t_sim=  667.369 sec\n",
      "iter=72 : time= 4.5  Etot= 0.2498514114  Ekin= 0.249851   Epot= 4.09241e-07 : de= 0 ( 0 ) d(de)= 0 ( 0 ) t_sim=  676.886 sec\n",
      "iter=73 : time= 4.5625  Etot= 0.2498514114  Ekin= 0.249851   Epot= 4.09241e-07 : de= 0 ( 0 ) d(de)= 0 ( 0 ) t_sim=  686.458 sec\n",
      "iter=74 : time= 4.625  Etot= 0.2498514114  Ekin= 0.249851   Epot= 4.09241e-07 : de= 0 ( 0 ) d(de)= 0 ( 0 ) t_sim=  696.036 sec\n",
      "iter=75 : time= 4.6875  Etot= 0.2498514114  Ekin= 0.249851   Epot= 4.09241e-07 : de= 0 ( 0 ) d(de)= 0 ( 0 ) t_sim=  705.599 sec\n",
      "iter=76 : time= 4.75  Etot= 0.2498514114  Ekin= 0.249851   Epot= 4.09241e-07 : de= 0 ( 0 ) d(de)= 0 ( 0 ) t_sim=  715.19 sec\n",
      "iter=77 : time= 4.8125  Etot= 0.2498514114  Ekin= 0.249851   Epot= 4.09241e-07 : de= 0 ( 0 ) d(de)= 0 ( 0 ) t_sim=  724.734 sec\n",
      "iter=78 : time= 4.875  Etot= 0.2498514114  Ekin= 0.249851   Epot= 4.09241e-07 : de= 0 ( 0 ) d(de)= 0 ( 0 ) t_sim=  734.238 sec\n",
      "iter=79 : time= 4.9375  Etot= 0.2498514114  Ekin= 0.249851   Epot= 4.09241e-07 : de= 0 ( 0 ) d(de)= 0 ( 0 ) t_sim=  743.648 sec\n",
      "iter=80 : time= 5  Etot= 0.2498514114  Ekin= 0.249851   Epot= 4.09241e-07 : de= 0 ( 0 ) d(de)= 0 ( 0 ) t_sim=  753.21 sec\n",
      "iter=80 : time= 5  Etot= 0.2498514114  Ekin= 0.249851   Epot= 4.09241e-07 : de= 0 ( 0 ) d(de)= 0 ( 0 ) t_sim=  753.376 sec\n",
      "../Bonsai/build/bonsai2_slowdust  --direct --plummer 1000000 --snapname data/plummer_snap_mpi --snapiter 0.0625 -T 5 -dt 0.0625 --eps 0.05\n"
     ]
    },
    {
     "name": "stderr",
     "output_type": "stream",
     "text": [
      " Unknown ENV_VARIABLE:   -- Falling to basic forking method after MPI_Init, unsafe!\n",
      "Proc id: 0 @ Default , total processes: 1 (mpiInit) \n",
      "[INIT]\tUsed settings: \n",
      "[INIT]\tInput  filename \n",
      "[INIT]\tBonsai filename \n",
      "[INIT]\tLog filename gpuLog.log\n",
      "[INIT]\tTheta: \t\t0.75\t\teps: \t\t0.05\n",
      "[INIT]\tTimestep: \t0.0625\t\ttEnd: \t\t5\n",
      "[INIT]\titerEnd: \t1073741824\n",
      "[INIT]\tUse MPI-IO: \tNO\n",
      "[INIT]\tsnapshotFile: \tdata/plummer_snap_mpi\tsnapshotIter: \t0.0625\n",
      "[INIT]\tInput file: \t\t\tdevID: \t\t0\n",
      "[INIT]\tRemove dist: \t-1\n",
      "[INIT]\tRebuild tree every 1 timestep\n",
      "[INIT]\tRuntime logging is DISABLED \n",
      "[INIT]\tDirect gravitation is ENABLED\n",
      "[INIT]\tCode is built WITHOUT MPI Support \n"
     ]
    },
    {
     "name": "stdout",
     "output_type": "stream",
     "text": [
      "Using Plummer model with n= 1000000 per process \n",
      "................................................................"
     ]
    },
    {
     "name": "stderr",
     "output_type": "stream",
     "text": [
      "Proc: 0 Bootup times: Tree/MPI: 0.214358 Threads/log: 9.10759e-05 IC-model: 0 \n",
      " Start iterating\n",
      "iter=0 : time= 0  Etot= 0.2498514114  Ekin= 0.249851   Epot= 4.09241e-07 : de= 0 ( 0 ) d(de)= 0 ( 0 ) t_sim=  1.09673e-05 sec\n",
      "iter=1 : time= 0.0625  Etot= 0.2498514114  Ekin= 0.249851   Epot= 4.09241e-07 : de= 0 ( 0 ) d(de)= 0 ( 0 ) t_sim=  9.52136 sec\n",
      "iter=2 : time= 0.125  Etot= 0.2498514114  Ekin= 0.249851   Epot= 4.09241e-07 : de= 0 ( 0 ) d(de)= 0 ( 0 ) t_sim=  18.9576 sec\n",
      "iter=3 : time= 0.1875  Etot= 0.2498514114  Ekin= 0.249851   Epot= 4.09241e-07 : de= 0 ( 0 ) d(de)= 0 ( 0 ) t_sim=  27.9722 sec\n",
      "iter=4 : time= 0.25  Etot= 0.2498514114  Ekin= 0.249851   Epot= 4.09241e-07 : de= 0 ( 0 ) d(de)= 0 ( 0 ) t_sim=  37.4832 sec\n",
      "iter=5 : time= 0.3125  Etot= 0.2498514114  Ekin= 0.249851   Epot= 4.09241e-07 : de= 0 ( 0 ) d(de)= 0 ( 0 ) t_sim=  46.9909 sec\n",
      "iter=6 : time= 0.375  Etot= 0.2498514114  Ekin= 0.249851   Epot= 4.09241e-07 : de= 0 ( 0 ) d(de)= 0 ( 0 ) t_sim=  56.4506 sec\n",
      "iter=7 : time= 0.4375  Etot= 0.2498514114  Ekin= 0.249851   Epot= 4.09241e-07 : de= 0 ( 0 ) d(de)= 0 ( 0 ) t_sim=  65.8924 sec\n",
      "iter=8 : time= 0.5  Etot= 0.2498514114  Ekin= 0.249851   Epot= 4.09241e-07 : de= 0 ( 0 ) d(de)= 0 ( 0 ) t_sim=  75.2024 sec\n",
      "iter=9 : time= 0.5625  Etot= 0.2498514114  Ekin= 0.249851   Epot= 4.09241e-07 : de= 0 ( 0 ) d(de)= 0 ( 0 ) t_sim=  84.6715 sec\n",
      "iter=10 : time= 0.625  Etot= 0.2498514114  Ekin= 0.249851   Epot= 4.09241e-07 : de= 0 ( 0 ) d(de)= 0 ( 0 ) t_sim=  94.1963 sec\n",
      "iter=11 : time= 0.6875  Etot= 0.2498514114  Ekin= 0.249851   Epot= 4.09241e-07 : de= 0 ( 0 ) d(de)= 0 ( 0 ) t_sim=  103.784 sec\n",
      "iter=12 : time= 0.75  Etot= 0.2498514114  Ekin= 0.249851   Epot= 4.09241e-07 : de= 0 ( 0 ) d(de)= 0 ( 0 ) t_sim=  113.304 sec\n",
      "iter=13 : time= 0.8125  Etot= 0.2498514114  Ekin= 0.249851   Epot= 4.09241e-07 : de= 0 ( 0 ) d(de)= 0 ( 0 ) t_sim=  122.805 sec\n",
      "iter=14 : time= 0.875  Etot= 0.2498514114  Ekin= 0.249851   Epot= 4.09241e-07 : de= 0 ( 0 ) d(de)= 0 ( 0 ) t_sim=  132.362 sec\n",
      "iter=15 : time= 0.9375  Etot= 0.2498514114  Ekin= 0.249851   Epot= 4.09241e-07 : de= 0 ( 0 ) d(de)= 0 ( 0 ) t_sim=  141.921 sec\n",
      "iter=16 : time= 1  Etot= 0.2498514114  Ekin= 0.249851   Epot= 4.09241e-07 : de= 0 ( 0 ) d(de)= 0 ( 0 ) t_sim=  151.484 sec\n",
      "iter=17 : time= 1.0625  Etot= 0.2498514114  Ekin= 0.249851   Epot= 4.09241e-07 : de= 0 ( 0 ) d(de)= 0 ( 0 ) t_sim=  161.095 sec\n",
      "iter=18 : time= 1.125  Etot= 0.2498514114  Ekin= 0.249851   Epot= 4.09241e-07 : de= 0 ( 0 ) d(de)= 0 ( 0 ) t_sim=  170.662 sec\n",
      "iter=19 : time= 1.1875  Etot= 0.2498514114  Ekin= 0.249851   Epot= 4.09241e-07 : de= 0 ( 0 ) d(de)= 0 ( 0 ) t_sim=  180.232 sec\n",
      "iter=20 : time= 1.25  Etot= 0.2498514114  Ekin= 0.249851   Epot= 4.09241e-07 : de= 0 ( 0 ) d(de)= 0 ( 0 ) t_sim=  189.814 sec\n",
      "iter=21 : time= 1.3125  Etot= 0.2498514114  Ekin= 0.249851   Epot= 4.09241e-07 : de= 0 ( 0 ) d(de)= 0 ( 0 ) t_sim=  199.041 sec\n",
      "iter=22 : time= 1.375  Etot= 0.2498514114  Ekin= 0.249851   Epot= 4.09241e-07 : de= 0 ( 0 ) d(de)= 0 ( 0 ) t_sim=  208.616 sec\n",
      "iter=23 : time= 1.4375  Etot= 0.2498514114  Ekin= 0.249851   Epot= 4.09241e-07 : de= 0 ( 0 ) d(de)= 0 ( 0 ) t_sim=  218.229 sec\n",
      "iter=24 : time= 1.5  Etot= 0.2498514114  Ekin= 0.249851   Epot= 4.09241e-07 : de= 0 ( 0 ) d(de)= 0 ( 0 ) t_sim=  227.85 sec\n",
      "iter=25 : time= 1.5625  Etot= 0.2498514114  Ekin= 0.249851   Epot= 4.09241e-07 : de= 0 ( 0 ) d(de)= 0 ( 0 ) t_sim=  237.453 sec\n",
      "iter=26 : time= 1.625  Etot= 0.2498514114  Ekin= 0.249851   Epot= 4.09241e-07 : de= 0 ( 0 ) d(de)= 0 ( 0 ) t_sim=  247.035 sec\n",
      "iter=27 : time= 1.6875  Etot= 0.2498514114  Ekin= 0.249851   Epot= 4.09241e-07 : de= 0 ( 0 ) d(de)= 0 ( 0 ) t_sim=  256.554 sec\n",
      "iter=28 : time= 1.75  Etot= 0.2498514114  Ekin= 0.249851   Epot= 4.09241e-07 : de= 0 ( 0 ) d(de)= 0 ( 0 ) t_sim=  266.095 sec\n",
      "iter=29 : time= 1.8125  Etot= 0.2498514114  Ekin= 0.249851   Epot= 4.09241e-07 : de= 0 ( 0 ) d(de)= 0 ( 0 ) t_sim=  275.735 sec\n",
      "iter=30 : time= 1.875  Etot= 0.2498514114  Ekin= 0.249851   Epot= 4.09241e-07 : de= 0 ( 0 ) d(de)= 0 ( 0 ) t_sim=  285.267 sec\n",
      "iter=31 : time= 1.9375  Etot= 0.2498514114  Ekin= 0.249851   Epot= 4.09241e-07 : de= 0 ( 0 ) d(de)= 0 ( 0 ) t_sim=  294.785 sec\n"
     ]
    },
    {
     "name": "stdout",
     "output_type": "stream",
     "text": [
      "\n",
      "iter=0 : time= 0  Etot= 0.2498514114  Ekin= 0.249851   Epot= 4.09241e-07 : de= 0 ( 0 ) d(de)= 0 ( 0 ) t_sim=  9.53674e-07 sec\n",
      "iter=1 : time= 0.0625  Etot= 0.2498514114  Ekin= 0.249851   Epot= 4.09241e-07 : de= 0 ( 0 ) d(de)= 0 ( 0 ) t_sim=  9.52135 sec\n",
      "iter=2 : time= 0.125  Etot= 0.2498514114  Ekin= 0.249851   Epot= 4.09241e-07 : de= 0 ( 0 ) d(de)= 0 ( 0 ) t_sim=  18.9576 sec\n",
      "iter=3 : time= 0.1875  Etot= 0.2498514114  Ekin= 0.249851   Epot= 4.09241e-07 : de= 0 ( 0 ) d(de)= 0 ( 0 ) t_sim=  27.9721 sec\n",
      "iter=4 : time= 0.25  Etot= 0.2498514114  Ekin= 0.249851   Epot= 4.09241e-07 : de= 0 ( 0 ) d(de)= 0 ( 0 ) t_sim=  37.4832 sec\n",
      "iter=5 : time= 0.3125  Etot= 0.2498514114  Ekin= 0.249851   Epot= 4.09241e-07 : de= 0 ( 0 ) d(de)= 0 ( 0 ) t_sim=  46.9909 sec\n",
      "iter=6 : time= 0.375  Etot= 0.2498514114  Ekin= 0.249851   Epot= 4.09241e-07 : de= 0 ( 0 ) d(de)= 0 ( 0 ) t_sim=  56.4505 sec\n",
      "iter=7 : time= 0.4375  Etot= 0.2498514114  Ekin= 0.249851   Epot= 4.09241e-07 : de= 0 ( 0 ) d(de)= 0 ( 0 ) t_sim=  65.8924 sec\n",
      "iter=8 : time= 0.5  Etot= 0.2498514114  Ekin= 0.249851   Epot= 4.09241e-07 : de= 0 ( 0 ) d(de)= 0 ( 0 ) t_sim=  75.2024 sec\n",
      "iter=9 : time= 0.5625  Etot= 0.2498514114  Ekin= 0.249851   Epot= 4.09241e-07 : de= 0 ( 0 ) d(de)= 0 ( 0 ) t_sim=  84.6715 sec\n",
      "iter=10 : time= 0.625  Etot= 0.2498514114  Ekin= 0.249851   Epot= 4.09241e-07 : de= 0 ( 0 ) d(de)= 0 ( 0 ) t_sim=  94.1963 sec\n",
      "iter=11 : time= 0.6875  Etot= 0.2498514114  Ekin= 0.249851   Epot= 4.09241e-07 : de= 0 ( 0 ) d(de)= 0 ( 0 ) t_sim=  103.784 sec\n",
      "iter=12 : time= 0.75  Etot= 0.2498514114  Ekin= 0.249851   Epot= 4.09241e-07 : de= 0 ( 0 ) d(de)= 0 ( 0 ) t_sim=  113.304 sec\n",
      "iter=13 : time= 0.8125  Etot= 0.2498514114  Ekin= 0.249851   Epot= 4.09241e-07 : de= 0 ( 0 ) d(de)= 0 ( 0 ) t_sim=  122.805 sec\n",
      "iter=14 : time= 0.875  Etot= 0.2498514114  Ekin= 0.249851   Epot= 4.09241e-07 : de= 0 ( 0 ) d(de)= 0 ( 0 ) t_sim=  132.362 sec\n",
      "iter=15 : time= 0.9375  Etot= 0.2498514114  Ekin= 0.249851   Epot= 4.09241e-07 : de= 0 ( 0 ) d(de)= 0 ( 0 ) t_sim=  141.921 sec\n",
      "iter=16 : time= 1  Etot= 0.2498514114  Ekin= 0.249851   Epot= 4.09241e-07 : de= 0 ( 0 ) d(de)= 0 ( 0 ) t_sim=  151.484 sec\n",
      "iter=17 : time= 1.0625  Etot= 0.2498514114  Ekin= 0.249851   Epot= 4.09241e-07 : de= 0 ( 0 ) d(de)= 0 ( 0 ) t_sim=  161.095 sec\n",
      "iter=18 : time= 1.125  Etot= 0.2498514114  Ekin= 0.249851   Epot= 4.09241e-07 : de= 0 ( 0 ) d(de)= 0 ( 0 ) t_sim=  170.662 sec\n",
      "iter=19 : time= 1.1875  Etot= 0.2498514114  Ekin= 0.249851   Epot= 4.09241e-07 : de= 0 ( 0 ) d(de)= 0 ( 0 ) t_sim=  180.232 sec\n",
      "iter=20 : time= 1.25  Etot= 0.2498514114  Ekin= 0.249851   Epot= 4.09241e-07 : de= 0 ( 0 ) d(de)= 0 ( 0 ) t_sim=  189.814 sec\n",
      "iter=21 : time= 1.3125  Etot= 0.2498514114  Ekin= 0.249851   Epot= 4.09241e-07 : de= 0 ( 0 ) d(de)= 0 ( 0 ) t_sim=  199.041 sec\n",
      "iter=22 : time= 1.375  Etot= 0.2498514114  Ekin= 0.249851   Epot= 4.09241e-07 : de= 0 ( 0 ) d(de)= 0 ( 0 ) t_sim=  208.616 sec\n",
      "iter=23 : time= 1.4375  Etot= 0.2498514114  Ekin= 0.249851   Epot= 4.09241e-07 : de= 0 ( 0 ) d(de)= 0 ( 0 ) t_sim=  218.229 sec\n",
      "iter=24 : time= 1.5  Etot= 0.2498514114  Ekin= 0.249851   Epot= 4.09241e-07 : de= 0 ( 0 ) d(de)= 0 ( 0 ) t_sim=  227.85 sec\n",
      "iter=25 : time= 1.5625  Etot= 0.2498514114  Ekin= 0.249851   Epot= 4.09241e-07 : de= 0 ( 0 ) d(de)= 0 ( 0 ) t_sim=  237.453 sec\n",
      "iter=26 : time= 1.625  Etot= 0.2498514114  Ekin= 0.249851   Epot= 4.09241e-07 : de= 0 ( 0 ) d(de)= 0 ( 0 ) t_sim=  247.035 sec\n",
      "iter=27 : time= 1.6875  Etot= 0.2498514114  Ekin= 0.249851   Epot= 4.09241e-07 : de= 0 ( 0 ) d(de)= 0 ( 0 ) t_sim=  256.554 sec\n",
      "iter=28 : time= 1.75  Etot= 0.2498514114  Ekin= 0.249851   Epot= 4.09241e-07 : de= 0 ( 0 ) d(de)= 0 ( 0 ) t_sim=  266.095 sec\n",
      "iter=29 : time= 1.8125  Etot= 0.2498514114  Ekin= 0.249851   Epot= 4.09241e-07 : de= 0 ( 0 ) d(de)= 0 ( 0 ) t_sim=  275.735 sec\n",
      "iter=30 : time= 1.875  Etot= 0.2498514114  Ekin= 0.249851   Epot= 4.09241e-07 : de= 0 ( 0 ) d(de)= 0 ( 0 ) t_sim=  285.267 sec\n",
      "iter=31 : time= 1.9375  Etot= 0.2498514114  Ekin= 0.249851   Epot= 4.09241e-07 : de= 0 ( 0 ) d(de)= 0 ( 0 ) t_sim=  294.785 sec\n",
      "iter=32 : time= 2  Etot= 0.2498514114 "
     ]
    },
    {
     "name": "stderr",
     "output_type": "stream",
     "text": [
      "iter=32 : time= 2  Etot= 0.2498514114  Ekin= 0.249851   Epot= 4.09241e-07 : de= 0 ( 0 ) d(de)= 0 ( 0 ) t_sim=  304.406 sec\n",
      "iter=33 : time= 2.0625  Etot= 0.2498514114  Ekin= 0.249851   Epot= 4.09241e-07 : de= 0 ( 0 ) d(de)= 0 ( 0 ) t_sim=  313.989 sec\n",
      "iter=34 : time= 2.125  Etot= 0.2498514114  Ekin= 0.249851   Epot= 4.09241e-07 : de= 0 ( 0 ) d(de)= 0 ( 0 ) t_sim=  323.526 sec\n",
      "iter=35 : time= 2.1875  Etot= 0.2498514114  Ekin= 0.249851   Epot= 4.09241e-07 : de= 0 ( 0 ) d(de)= 0 ( 0 ) t_sim=  333.045 sec\n",
      "iter=36 : time= 2.25  Etot= 0.2498514114  Ekin= 0.249851   Epot= 4.09241e-07 : de= 0 ( 0 ) d(de)= 0 ( 0 ) t_sim=  342.593 sec\n",
      "iter=37 : time= 2.3125  Etot= 0.2498514114  Ekin= 0.249851   Epot= 4.09241e-07 : de= 0 ( 0 ) d(de)= 0 ( 0 ) t_sim=  352.182 sec\n",
      "iter=38 : time= 2.375  Etot= 0.2498514114  Ekin= 0.249851   Epot= 4.09241e-07 : de= 0 ( 0 ) d(de)= 0 ( 0 ) t_sim=  361.651 sec\n",
      "iter=39 : time= 2.4375  Etot= 0.2498514114  Ekin= 0.249851   Epot= 4.09241e-07 : de= 0 ( 0 ) d(de)= 0 ( 0 ) t_sim=  371.19 sec\n",
      "iter=40 : time= 2.5  Etot= 0.2498514114  Ekin= 0.249851   Epot= 4.09241e-07 : de= 0 ( 0 ) d(de)= 0 ( 0 ) t_sim=  380.724 sec\n",
      "iter=41 : time= 2.5625  Etot= 0.2498514114  Ekin= 0.249851   Epot= 4.09241e-07 : de= 0 ( 0 ) d(de)= 0 ( 0 ) t_sim=  390.259 sec\n",
      "iter=42 : time= 2.625  Etot= 0.2498514114  Ekin= 0.249851   Epot= 4.09241e-07 : de= 0 ( 0 ) d(de)= 0 ( 0 ) t_sim=  399.797 sec\n",
      "iter=43 : time= 2.6875  Etot= 0.2498514114  Ekin= 0.249851   Epot= 4.09241e-07 : de= 0 ( 0 ) d(de)= 0 ( 0 ) t_sim=  409.278 sec\n",
      "iter=44 : time= 2.75  Etot= 0.2498514114  Ekin= 0.249851   Epot= 4.09241e-07 : de= 0 ( 0 ) d(de)= 0 ( 0 ) t_sim=  418.784 sec\n",
      "iter=45 : time= 2.8125  Etot= 0.2498514114  Ekin= 0.249851   Epot= 4.09241e-07 : de= 0 ( 0 ) d(de)= 0 ( 0 ) t_sim=  428.358 sec\n",
      "iter=46 : time= 2.875  Etot= 0.2498514114  Ekin= 0.249851   Epot= 4.09241e-07 : de= 0 ( 0 ) d(de)= 0 ( 0 ) t_sim=  437.93 sec\n",
      "iter=47 : time= 2.9375  Etot= 0.2498514114  Ekin= 0.249851   Epot= 4.09241e-07 : de= 0 ( 0 ) d(de)= 0 ( 0 ) t_sim=  447.524 sec\n",
      "iter=48 : time= 3  Etot= 0.2498514114  Ekin= 0.249851   Epot= 4.09241e-07 : de= 0 ( 0 ) d(de)= 0 ( 0 ) t_sim=  457.092 sec\n",
      "iter=49 : time= 3.0625  Etot= 0.2498514114  Ekin= 0.249851   Epot= 4.09241e-07 : de= 0 ( 0 ) d(de)= 0 ( 0 ) t_sim=  466.341 sec\n",
      "iter=50 : time= 3.125  Etot= 0.2498514114  Ekin= 0.249851   Epot= 4.09241e-07 : de= 0 ( 0 ) d(de)= 0 ( 0 ) t_sim=  475.994 sec\n",
      "iter=51 : time= 3.1875  Etot= 0.2498514114  Ekin= 0.249851   Epot= 4.09241e-07 : de= 0 ( 0 ) d(de)= 0 ( 0 ) t_sim=  485.555 sec\n",
      "iter=52 : time= 3.25  Etot= 0.2498514114  Ekin= 0.249851   Epot= 4.09241e-07 : de= 0 ( 0 ) d(de)= 0 ( 0 ) t_sim=  495.126 sec\n",
      "iter=53 : time= 3.3125  Etot= 0.2498514114  Ekin= 0.249851   Epot= 4.09241e-07 : de= 0 ( 0 ) d(de)= 0 ( 0 ) t_sim=  504.754 sec\n",
      "iter=54 : time= 3.375  Etot= 0.2498514114  Ekin= 0.249851   Epot= 4.09241e-07 : de= 0 ( 0 ) d(de)= 0 ( 0 ) t_sim=  514.286 sec\n",
      "iter=55 : time= 3.4375  Etot= 0.2498514114  Ekin= 0.249851   Epot= 4.09241e-07 : de= 0 ( 0 ) d(de)= 0 ( 0 ) t_sim=  523.87 sec\n",
      "iter=56 : time= 3.5  Etot= 0.2498514114  Ekin= 0.249851   Epot= 4.09241e-07 : de= 0 ( 0 ) d(de)= 0 ( 0 ) t_sim=  533.401 sec\n",
      "iter=57 : time= 3.5625  Etot= 0.2498514114  Ekin= 0.249851   Epot= 4.09241e-07 : de= 0 ( 0 ) d(de)= 0 ( 0 ) t_sim=  542.969 sec\n",
      "iter=58 : time= 3.625  Etot= 0.2498514114  Ekin= 0.249851   Epot= 4.09241e-07 : de= 0 ( 0 ) d(de)= 0 ( 0 ) t_sim=  552.515 sec\n",
      "iter=59 : time= 3.6875  Etot= 0.2498514114  Ekin= 0.249851   Epot= 4.09241e-07 : de= 0 ( 0 ) d(de)= 0 ( 0 ) t_sim=  562.072 sec\n",
      "iter=60 : time= 3.75  Etot= 0.2498514114  Ekin= 0.249851   Epot= 4.09241e-07 : de= 0 ( 0 ) d(de)= 0 ( 0 ) t_sim=  571.663 sec\n",
      "iter=61 : time= 3.8125  Etot= 0.2498514114  Ekin= 0.249851   Epot= 4.09241e-07 : de= 0 ( 0 ) d(de)= 0 ( 0 ) t_sim=  581.279 sec\n",
      "iter=62 : time= 3.875  Etot= 0.2498514114  Ekin= 0.249851   Epot= 4.09241e-07 : de= 0 ( 0 ) d(de)= 0 ( 0 ) t_sim=  590.896 sec\n",
      "iter=63 : time= 3.9375  Etot= 0.2498514114  Ekin= 0.249851   Epot= 4.09241e-07 : de= 0 ( 0 ) d(de)= 0 ( 0 ) t_sim=  600.473 sec\n"
     ]
    },
    {
     "name": "stdout",
     "output_type": "stream",
     "text": [
      " Ekin= 0.249851   Epot= 4.09241e-07 : de= 0 ( 0 ) d(de)= 0 ( 0 ) t_sim=  304.406 sec\n",
      "iter=33 : time= 2.0625  Etot= 0.2498514114  Ekin= 0.249851   Epot= 4.09241e-07 : de= 0 ( 0 ) d(de)= 0 ( 0 ) t_sim=  313.989 sec\n",
      "iter=34 : time= 2.125  Etot= 0.2498514114  Ekin= 0.249851   Epot= 4.09241e-07 : de= 0 ( 0 ) d(de)= 0 ( 0 ) t_sim=  323.526 sec\n",
      "iter=35 : time= 2.1875  Etot= 0.2498514114  Ekin= 0.249851   Epot= 4.09241e-07 : de= 0 ( 0 ) d(de)= 0 ( 0 ) t_sim=  333.045 sec\n",
      "iter=36 : time= 2.25  Etot= 0.2498514114  Ekin= 0.249851   Epot= 4.09241e-07 : de= 0 ( 0 ) d(de)= 0 ( 0 ) t_sim=  342.593 sec\n",
      "iter=37 : time= 2.3125  Etot= 0.2498514114  Ekin= 0.249851   Epot= 4.09241e-07 : de= 0 ( 0 ) d(de)= 0 ( 0 ) t_sim=  352.182 sec\n",
      "iter=38 : time= 2.375  Etot= 0.2498514114  Ekin= 0.249851   Epot= 4.09241e-07 : de= 0 ( 0 ) d(de)= 0 ( 0 ) t_sim=  361.651 sec\n",
      "iter=39 : time= 2.4375  Etot= 0.2498514114  Ekin= 0.249851   Epot= 4.09241e-07 : de= 0 ( 0 ) d(de)= 0 ( 0 ) t_sim=  371.19 sec\n",
      "iter=40 : time= 2.5  Etot= 0.2498514114  Ekin= 0.249851   Epot= 4.09241e-07 : de= 0 ( 0 ) d(de)= 0 ( 0 ) t_sim=  380.724 sec\n",
      "iter=41 : time= 2.5625  Etot= 0.2498514114  Ekin= 0.249851   Epot= 4.09241e-07 : de= 0 ( 0 ) d(de)= 0 ( 0 ) t_sim=  390.259 sec\n",
      "iter=42 : time= 2.625  Etot= 0.2498514114  Ekin= 0.249851   Epot= 4.09241e-07 : de= 0 ( 0 ) d(de)= 0 ( 0 ) t_sim=  399.797 sec\n",
      "iter=43 : time= 2.6875  Etot= 0.2498514114  Ekin= 0.249851   Epot= 4.09241e-07 : de= 0 ( 0 ) d(de)= 0 ( 0 ) t_sim=  409.278 sec\n",
      "iter=44 : time= 2.75  Etot= 0.2498514114  Ekin= 0.249851   Epot= 4.09241e-07 : de= 0 ( 0 ) d(de)= 0 ( 0 ) t_sim=  418.784 sec\n",
      "iter=45 : time= 2.8125  Etot= 0.2498514114  Ekin= 0.249851   Epot= 4.09241e-07 : de= 0 ( 0 ) d(de)= 0 ( 0 ) t_sim=  428.358 sec\n",
      "iter=46 : time= 2.875  Etot= 0.2498514114  Ekin= 0.249851   Epot= 4.09241e-07 : de= 0 ( 0 ) d(de)= 0 ( 0 ) t_sim=  437.93 sec\n",
      "iter=47 : time= 2.9375  Etot= 0.2498514114  Ekin= 0.249851   Epot= 4.09241e-07 : de= 0 ( 0 ) d(de)= 0 ( 0 ) t_sim=  447.524 sec\n",
      "iter=48 : time= 3  Etot= 0.2498514114  Ekin= 0.249851   Epot= 4.09241e-07 : de= 0 ( 0 ) d(de)= 0 ( 0 ) t_sim=  457.092 sec\n",
      "iter=49 : time= 3.0625  Etot= 0.2498514114  Ekin= 0.249851   Epot= 4.09241e-07 : de= 0 ( 0 ) d(de)= 0 ( 0 ) t_sim=  466.341 sec\n",
      "iter=50 : time= 3.125  Etot= 0.2498514114  Ekin= 0.249851   Epot= 4.09241e-07 : de= 0 ( 0 ) d(de)= 0 ( 0 ) t_sim=  475.994 sec\n",
      "iter=51 : time= 3.1875  Etot= 0.2498514114  Ekin= 0.249851   Epot= 4.09241e-07 : de= 0 ( 0 ) d(de)= 0 ( 0 ) t_sim=  485.555 sec\n",
      "iter=52 : time= 3.25  Etot= 0.2498514114  Ekin= 0.249851   Epot= 4.09241e-07 : de= 0 ( 0 ) d(de)= 0 ( 0 ) t_sim=  495.126 sec\n",
      "iter=53 : time= 3.3125  Etot= 0.2498514114  Ekin= 0.249851   Epot= 4.09241e-07 : de= 0 ( 0 ) d(de)= 0 ( 0 ) t_sim=  504.754 sec\n",
      "iter=54 : time= 3.375  Etot= 0.2498514114  Ekin= 0.249851   Epot= 4.09241e-07 : de= 0 ( 0 ) d(de)= 0 ( 0 ) t_sim=  514.286 sec\n",
      "iter=55 : time= 3.4375  Etot= 0.2498514114  Ekin= 0.249851   Epot= 4.09241e-07 : de= 0 ( 0 ) d(de)= 0 ( 0 ) t_sim=  523.87 sec\n",
      "iter=56 : time= 3.5  Etot= 0.2498514114  Ekin= 0.249851   Epot= 4.09241e-07 : de= 0 ( 0 ) d(de)= 0 ( 0 ) t_sim=  533.401 sec\n",
      "iter=57 : time= 3.5625  Etot= 0.2498514114  Ekin= 0.249851   Epot= 4.09241e-07 : de= 0 ( 0 ) d(de)= 0 ( 0 ) t_sim=  542.969 sec\n",
      "iter=58 : time= 3.625  Etot= 0.2498514114  Ekin= 0.249851   Epot= 4.09241e-07 : de= 0 ( 0 ) d(de)= 0 ( 0 ) t_sim=  552.515 sec\n",
      "iter=59 : time= 3.6875  Etot= 0.2498514114  Ekin= 0.249851   Epot= 4.09241e-07 : de= 0 ( 0 ) d(de)= 0 ( 0 ) t_sim=  562.072 sec\n",
      "iter=60 : time= 3.75  Etot= 0.2498514114  Ekin= 0.249851   Epot= 4.09241e-07 : de= 0 ( 0 ) d(de)= 0 ( 0 ) t_sim=  571.663 sec\n",
      "iter=61 : time= 3.8125  Etot= 0.2498514114  Ekin= 0.249851   Epot= 4.09241e-07 : de= 0 ( 0 ) d(de)= 0 ( 0 ) t_sim=  581.279 sec\n",
      "iter=62 : time= 3.875  Etot= 0.2498514114  Ekin= 0.249851   Epot= 4.09241e-07 : de= 0 ( 0 ) d(de)= 0 ( 0 ) t_sim=  590.896 sec\n",
      "iter=63 : time= 3.9375  Etot= 0.2498514114  Ekin= 0.249851   Epot= 4.09241e-07 : de= 0 ( 0 ) d(de)= 0 ( 0 ) t_sim=  600.473 sec\n",
      "iter=64 : time= 4  Etot= 0.2498514114  Ekin= 0.249851   Epot= 4.09241e-07"
     ]
    },
    {
     "name": "stderr",
     "output_type": "stream",
     "text": [
      "iter=64 : time= 4  Etot= 0.2498514114  Ekin= 0.249851   Epot= 4.09241e-07 : de= 0 ( 0 ) d(de)= 0 ( 0 ) t_sim=  610.031 sec\n",
      "iter=65 : time= 4.0625  Etot= 0.2498514114  Ekin= 0.249851   Epot= 4.09241e-07 : de= 0 ( 0 ) d(de)= 0 ( 0 ) t_sim=  619.611 sec\n",
      "iter=66 : time= 4.125  Etot= 0.2498514114  Ekin= 0.249851   Epot= 4.09241e-07 : de= 0 ( 0 ) d(de)= 0 ( 0 ) t_sim=  629.2 sec\n",
      "iter=67 : time= 4.1875  Etot= 0.2498514114  Ekin= 0.249851   Epot= 4.09241e-07 : de= 0 ( 0 ) d(de)= 0 ( 0 ) t_sim=  638.74 sec\n",
      "iter=68 : time= 4.25  Etot= 0.2498514114  Ekin= 0.249851   Epot= 4.09241e-07 : de= 0 ( 0 ) d(de)= 0 ( 0 ) t_sim=  648.313 sec\n",
      "iter=69 : time= 4.3125  Etot= 0.2498514114  Ekin= 0.249851   Epot= 4.09241e-07 : de= 0 ( 0 ) d(de)= 0 ( 0 ) t_sim=  657.85 sec\n",
      "iter=70 : time= 4.375  Etot= 0.2498514114  Ekin= 0.249851   Epot= 4.09241e-07 : de= 0 ( 0 ) d(de)= 0 ( 0 ) t_sim=  667.481 sec\n",
      "iter=71 : time= 4.4375  Etot= 0.2498514114  Ekin= 0.249851   Epot= 4.09241e-07 : de= 0 ( 0 ) d(de)= 0 ( 0 ) t_sim=  677.081 sec\n",
      "iter=72 : time= 4.5  Etot= 0.2498514114  Ekin= 0.249851   Epot= 4.09241e-07 : de= 0 ( 0 ) d(de)= 0 ( 0 ) t_sim=  686.724 sec\n",
      "iter=73 : time= 4.5625  Etot= 0.2498514114  Ekin= 0.249851   Epot= 4.09241e-07 : de= 0 ( 0 ) d(de)= 0 ( 0 ) t_sim=  696.313 sec\n",
      "iter=74 : time= 4.625  Etot= 0.2498514114  Ekin= 0.249851   Epot= 4.09241e-07 : de= 0 ( 0 ) d(de)= 0 ( 0 ) t_sim=  705.869 sec\n",
      "iter=75 : time= 4.6875  Etot= 0.2498514114  Ekin= 0.249851   Epot= 4.09241e-07 : de= 0 ( 0 ) d(de)= 0 ( 0 ) t_sim=  715.432 sec\n",
      "iter=76 : time= 4.75  Etot= 0.2498514114  Ekin= 0.249851   Epot= 4.09241e-07 : de= 0 ( 0 ) d(de)= 0 ( 0 ) t_sim=  724.993 sec\n",
      "iter=77 : time= 4.8125  Etot= 0.2498514114  Ekin= 0.249851   Epot= 4.09241e-07 : de= 0 ( 0 ) d(de)= 0 ( 0 ) t_sim=  734.534 sec\n",
      "iter=78 : time= 4.875  Etot= 0.2498514114  Ekin= 0.249851   Epot= 4.09241e-07 : de= 0 ( 0 ) d(de)= 0 ( 0 ) t_sim=  744.094 sec\n",
      "iter=79 : time= 4.9375  Etot= 0.2498514114  Ekin= 0.249851   Epot= 4.09241e-07 : de= 0 ( 0 ) d(de)= 0 ( 0 ) t_sim=  753.597 sec\n",
      "iter=80 : time= 5  Etot= 0.2498514114  Ekin= 0.249851   Epot= 4.09241e-07 : de= 0 ( 0 ) d(de)= 0 ( 0 ) t_sim=  763.253 sec\n",
      "iter=80 : time= 5  Etot= 0.2498514114  Ekin= 0.249851   Epot= 4.09241e-07 : de= 0 ( 0 ) d(de)= 0 ( 0 ) t_sim=  763.421 sec\n"
     ]
    },
    {
     "name": "stdout",
     "output_type": "stream",
     "text": [
      " : de= 0 ( 0 ) d(de)= 0 ( 0 ) t_sim=  610.031 sec\n",
      "iter=65 : time= 4.0625  Etot= 0.2498514114  Ekin= 0.249851   Epot= 4.09241e-07 : de= 0 ( 0 ) d(de)= 0 ( 0 ) t_sim=  619.611 sec\n",
      "iter=66 : time= 4.125  Etot= 0.2498514114  Ekin= 0.249851   Epot= 4.09241e-07 : de= 0 ( 0 ) d(de)= 0 ( 0 ) t_sim=  629.2 sec\n",
      "iter=67 : time= 4.1875  Etot= 0.2498514114  Ekin= 0.249851   Epot= 4.09241e-07 : de= 0 ( 0 ) d(de)= 0 ( 0 ) t_sim=  638.74 sec\n",
      "iter=68 : time= 4.25  Etot= 0.2498514114  Ekin= 0.249851   Epot= 4.09241e-07 : de= 0 ( 0 ) d(de)= 0 ( 0 ) t_sim=  648.313 sec\n",
      "iter=69 : time= 4.3125  Etot= 0.2498514114  Ekin= 0.249851   Epot= 4.09241e-07 : de= 0 ( 0 ) d(de)= 0 ( 0 ) t_sim=  657.85 sec\n",
      "iter=70 : time= 4.375  Etot= 0.2498514114  Ekin= 0.249851   Epot= 4.09241e-07 : de= 0 ( 0 ) d(de)= 0 ( 0 ) t_sim=  667.481 sec\n",
      "iter=71 : time= 4.4375  Etot= 0.2498514114  Ekin= 0.249851   Epot= 4.09241e-07 : de= 0 ( 0 ) d(de)= 0 ( 0 ) t_sim=  677.081 sec\n",
      "iter=72 : time= 4.5  Etot= 0.2498514114  Ekin= 0.249851   Epot= 4.09241e-07 : de= 0 ( 0 ) d(de)= 0 ( 0 ) t_sim=  686.724 sec\n",
      "iter=73 : time= 4.5625  Etot= 0.2498514114  Ekin= 0.249851   Epot= 4.09241e-07 : de= 0 ( 0 ) d(de)= 0 ( 0 ) t_sim=  696.313 sec\n",
      "iter=74 : time= 4.625  Etot= 0.2498514114  Ekin= 0.249851   Epot= 4.09241e-07 : de= 0 ( 0 ) d(de)= 0 ( 0 ) t_sim=  705.869 sec\n",
      "iter=75 : time= 4.6875  Etot= 0.2498514114  Ekin= 0.249851   Epot= 4.09241e-07 : de= 0 ( 0 ) d(de)= 0 ( 0 ) t_sim=  715.432 sec\n",
      "iter=76 : time= 4.75  Etot= 0.2498514114  Ekin= 0.249851   Epot= 4.09241e-07 : de= 0 ( 0 ) d(de)= 0 ( 0 ) t_sim=  724.993 sec\n",
      "iter=77 : time= 4.8125  Etot= 0.2498514114  Ekin= 0.249851   Epot= 4.09241e-07 : de= 0 ( 0 ) d(de)= 0 ( 0 ) t_sim=  734.534 sec\n",
      "iter=78 : time= 4.875  Etot= 0.2498514114  Ekin= 0.249851   Epot= 4.09241e-07 : de= 0 ( 0 ) d(de)= 0 ( 0 ) t_sim=  744.094 sec\n",
      "iter=79 : time= 4.9375  Etot= 0.2498514114  Ekin= 0.249851   Epot= 4.09241e-07 : de= 0 ( 0 ) d(de)= 0 ( 0 ) t_sim=  753.597 sec\n",
      "iter=80 : time= 5  Etot= 0.2498514114  Ekin= 0.249851   Epot= 4.09241e-07 : de= 0 ( 0 ) d(de)= 0 ( 0 ) t_sim=  763.253 sec\n",
      "iter=80 : time= 5  Etot= 0.2498514114  Ekin= 0.249851   Epot= 4.09241e-07 : de= 0 ( 0 ) d(de)= 0 ( 0 ) t_sim=  763.421 sec\n"
     ]
    }
   ],
   "source": [
    "## Traverse plot all pairs vs barnes hut\n",
    "\n",
    "plot_title = \"RESULTS/plummer_barnes_hut_vs_all_pairs\"\n",
    "data_prefix='data/plummer_snap_mpi'\n",
    "figure_prefix='fig/plummer'\n",
    "bonsai_binary = \"../Bonsai/build/bonsai2_slowdust\" # after cmake tools build\n",
    "\n",
    "# Bonsai config\n",
    "step = 0.0625/1\n",
    "T_ = 5\n",
    "\n",
    "# Plot\n",
    "dir_comp = False\n",
    "p_size = 1\n",
    "lim=5\n",
    "\n",
    "n_pows = [6]\n",
    "parse_list_bh = []\n",
    "for i in range(20):\n",
    "    nStars  = 10**n_pows[0]\n",
    "    clear_data()\n",
    "    bonsai.run_plummer(nStars,data_prefix,bonsai_bin=bonsai_binary,T=T_,dt=step,dSnap=step,direct=dir_comp)\n",
    "    parse_list_bh.append(bonsai.parse_save_log(outfile=None))\n",
    "dir_comp = True\n",
    "\n",
    "parse_list_ap = []\n",
    "for i in range(20):\n",
    "    nStars  = 10**n_pows[0]\n",
    "    clear_data()\n",
    "    bonsai.run_plummer(nStars,data_prefix,bonsai_bin=bonsai_binary,T=T_,dt=step,dSnap=step,direct=dir_comp)\n",
    "    parse_list_ap.append(bonsai.parse_save_log(outfile=None))"
   ]
  },
  {
   "cell_type": "code",
   "execution_count": 13,
   "metadata": {},
   "outputs": [],
   "source": [
    "token_arrays_bh = {}\n",
    "for token in parse_list_bh[0]:\n",
    "    token_arrays_bh[token] = []\n",
    "    for parseds in parse_list_bh:\n",
    "        token_arrays_bh[token].append(parseds[token])\n",
    "\n",
    "token_arrays_ap = {}\n",
    "for token in parse_list_ap[0]:\n",
    "    token_arrays_ap[token] = []\n",
    "    for parseds in parse_list_ap:\n",
    "        token_arrays_ap[token].append(parseds[token])\n",
    "\n",
    "counter = 0\n",
    "filename = plot_title + \"_{}.json\"\n",
    "while os.path.isfile(filename.format(counter)):\n",
    "    counter += 1\n",
    "filename = plot_title + \"_{}\"\n",
    "data_title_final = filename.format(counter)\n",
    "\n",
    "import json\n",
    "\n",
    "outfile = open(data_title_final + \".json\",\"w+\")\n",
    "outfile.write(json.dumps({\"token_arrays_bh\":token_arrays_bh,\"token_arrays_ap\":token_arrays_ap}, indent=4))\n",
    "outfile.close()"
   ]
  },
  {
   "cell_type": "code",
   "execution_count": 14,
   "metadata": {},
   "outputs": [],
   "source": [
    "transverse_bh = token_arrays_bh['Grav:']\n",
    "transverse_ap = token_arrays_ap['Direct_gravity']"
   ]
  },
  {
   "cell_type": "code",
   "execution_count": 15,
   "metadata": {},
   "outputs": [
    {
     "data": {
      "image/png": "[encoded data removed]",
      "text/plain": [
       "<Figure size 640x480 with 1 Axes>"
      ]
     },
     "metadata": {},
     "output_type": "display_data"
    }
   ],
   "source": [
    "%matplotlib inline\n",
    "# importing package\n",
    "import matplotlib.pyplot as plt\n",
    "import numpy as np\n",
    "# create data\n",
    "fig, ax = plt.subplots()\n",
    "ax.grid(axis='y')\n",
    "x = np.arange(2)\n",
    "y1 = [np.mean(transverse_bh), np.mean(transverse_ap)]\n",
    "y2 = [np.min(transverse_bh), np.min(transverse_ap)]\n",
    "y3 = [np.max(transverse_bh), np.max(transverse_ap)]\n",
    "width = 0.2\n",
    "fig.suptitle(f'Plummer Barnes Hut vs All Pairs Transversal \\n N = {10**n_pows[0]}, 20 samples', fontsize=12)\n",
    "# plot data in grouped manner of bar type\n",
    "ax.bar(x-0.2, y1, width, color='cyan')\n",
    "ax.bar(x, y2, width, color='orange')\n",
    "ax.bar(x+0.2, y3, width, color='green')\n",
    "ax.set_xticks(x, ['Barnes Hut', 'All Pairs'])\n",
    "ax.set_xlabel(\"Working mode\")\n",
    "ax.set_ylabel(\"time (s)\")\n",
    "ax.legend([\"mean\", \"min\", \"max\"])\n",
    "plt.show()\n",
    "\n",
    "counter = 0\n",
    "filename = plot_title + \"_{}.png\"\n",
    "while os.path.isfile(filename.format(counter)):\n",
    "    counter += 1\n",
    "filename = plot_title + \"_{}\"\n",
    "plot_title_final = filename.format(counter)\n",
    "\n",
    "fig.savefig(plot_title_final+\".png\")\n",
    "plt.close()"
   ]
  },
  {
   "cell_type": "code",
   "execution_count": 120,
   "metadata": {},
   "outputs": [
    {
     "data": {
      "text/plain": [
       "[{'Sorting': 0.169527226,\n",
       "  'Data-reordering': 0.009475552000000003,\n",
       "  'Predict': 0.010775552000000004,\n",
       "  'Direct_gravity': 0,\n",
       "  'Tree-construction': 0.12329236600000001,\n",
       "  'setActiveGrpsFunc': 0.00011203199999999996,\n",
       "  'Memory': 0.0002717439999999998,\n",
       "  'Grav:': 0.8847696220000001,\n",
       "  'Build:': 5.521565280000002,\n",
       "  'tPredCor:': 0.728100114,\n",
       "  'Correct': 0.010865824000000003,\n",
       "  'Energy': 0.009005055999999999,\n",
       "  'TOTAL:': 11.928572670000001}]"
      ]
     },
     "execution_count": 120,
     "metadata": {},
     "output_type": "execute_result"
    }
   ],
   "source": [
    "parse_list_bh"
   ]
  },
  {
   "cell_type": "markdown",
   "metadata": {},
   "source": [
    "# Plummer, All Pairs Bonsai"
   ]
  },
  {
   "cell_type": "markdown",
   "metadata": {},
   "source": [
    "## 65000 Stars"
   ]
  },
  {
   "cell_type": "code",
   "execution_count": 4,
   "metadata": {},
   "outputs": [
    {
     "name": "stdout",
     "output_type": "stream",
     "text": [
      "../Bonsai/build/bonsai2_slowdust  --direct --plummer 650000 --snapname data/plummer_snap_mpi --snapiter 0.0625 -T 0.125 -dt 0.0625 --eps 0.05\n"
     ]
    },
    {
     "name": "stderr",
     "output_type": "stream",
     "text": [
      " Unknown ENV_VARIABLE:   -- Falling to basic forking method after MPI_Init, unsafe!\n",
      "Proc id: 0 @ Default , total processes: 1 (mpiInit) \n",
      "[INIT]\tUsed settings: \n",
      "[INIT]\tInput  filename \n",
      "[INIT]\tBonsai filename \n",
      "[INIT]\tLog filename gpuLog.log\n",
      "[INIT]\tTheta: \t\t0.75\t\teps: \t\t0.05\n",
      "[INIT]\tTimestep: \t0.0625\t\ttEnd: \t\t0.125\n",
      "[INIT]\titerEnd: \t1073741824\n",
      "[INIT]\tUse MPI-IO: \tNO\n",
      "[INIT]\tsnapshotFile: \tdata/plummer_snap_mpi\tsnapshotIter: \t0.0625\n",
      "[INIT]\tInput file: \t\t\tdevID: \t\t0\n",
      "[INIT]\tRemove dist: \t-1\n",
      "[INIT]\tRebuild tree every 1 timestep\n",
      "[INIT]\tRuntime logging is DISABLED \n",
      "[INIT]\tDirect gravitation is ENABLED\n",
      "[INIT]\tCode is built WITHOUT MPI Support \n"
     ]
    },
    {
     "name": "stdout",
     "output_type": "stream",
     "text": [
      "Using Plummer model with n= 650000 per process \n",
      "................................................................."
     ]
    },
    {
     "name": "stderr",
     "output_type": "stream",
     "text": [
      "Proc: 0 Bootup times: Tree/MPI: 4.80128 Threads/log: 8.39233e-05 IC-model: 0 \n",
      " Start iterating\n",
      "STARTING UP!!!\n",
      "iter=0 : time= 0  Etot= 0.2500878182  Ekin= 0.250088   Epot= 1.45472e-07 : de= 0 ( 0 ) d(de)= 0 ( 0 ) t_sim=  9.05991e-06 sec\n",
      "iter=1 : time= 0.0625  Etot= 0.2500878182  Ekin= 0.250088   Epot= 1.45472e-07 : de= 0 ( 0 ) d(de)= 0 ( 0 ) t_sim=  4.06384 sec\n",
      "iter=2 : time= 0.125  Etot= 0.2500878182  Ekin= 0.250088   Epot= 1.45472e-07 : de= 0 ( 0 ) d(de)= 0 ( 0 ) t_sim=  8.15002 sec\n",
      "iter=2 : time= 0.125  Etot= 0.2500878182  Ekin= 0.250088   Epot= 1.45472e-07 : de= 0 ( 0 ) d(de)= 0 ( 0 ) t_sim=  8.28029 sec\n"
     ]
    },
    {
     "name": "stdout",
     "output_type": "stream",
     "text": [
      "\n",
      "iter=0 : time= 0  Etot= 0.2500878182  Ekin= 0.250088   Epot= 1.45472e-07 : de= 0 ( 0 ) d(de)= 0 ( 0 ) t_sim=  9.53674e-07 sec\n",
      "iter=1 : time= 0.0625  Etot= 0.2500878182  Ekin= 0.250088   Epot= 1.45472e-07 : de= 0 ( 0 ) d(de)= 0 ( 0 ) t_sim=  4.06383 sec\n",
      "iter=2 : time= 0.125  Etot= 0.2500878182  Ekin= 0.250088   Epot= 1.45472e-07 : de= 0 ( 0 ) d(de)= 0 ( 0 ) t_sim=  8.15001 sec\n",
      "iter=2 : time= 0.125  Etot= 0.2500878182  Ekin= 0.250088   Epot= 1.45472e-07 : de= 0 ( 0 ) d(de)= 0 ( 0 ) t_sim=  8.28028 sec\n",
      "data/plummer_snap_mpi_00000.0625-0  and  data/plummer_snap_mpi_00000.1250-0\n",
      "data/plummer_snap_mpi_00000.0000-0  and  data/plummer_snap_mpi_00000.0625-0\n"
     ]
    },
    {
     "name": "stderr",
     "output_type": "stream",
     "text": [
      "2023-06-22 03:12:44,481\tINFO worker.py:1636 -- Started a local Ray instance.\n"
     ]
    },
    {
     "name": "stdout",
     "output_type": "stream",
     "text": [
      "All tasks created!\n",
      "\u001b[2m\u001b[36m(read_and_plot pid=2590284)\u001b[0m Loading Header (data/plummer_snap_mpi_00000.0625-0)... time:0.062500, nTot:650000, nStar:650000\n",
      "\u001b[2m\u001b[36m(read_and_plot pid=2590284)\u001b[0m PRINTING REDS 325000\n",
      "Tasks finished!\n"
     ]
    },
    {
     "name": "stderr",
     "output_type": "stream",
     "text": [
      "ffmpeg version 4.4.2-0ubuntu0.22.04.1 Copyright (c) 2000-2021 the FFmpeg developers\n",
      "  built with gcc 11 (Ubuntu 11.2.0-19ubuntu1)\n",
      "  configuration: --prefix=/usr --extra-version=0ubuntu0.22.04.1 --toolchain=hardened --libdir=/usr/lib/x86_64-linux-gnu --incdir=/usr/include/x86_64-linux-gnu --arch=amd64 --enable-gpl --disable-stripping --enable-gnutls --enable-ladspa --enable-libaom --enable-libass --enable-libbluray --enable-libbs2b --enable-libcaca --enable-libcdio --enable-libcodec2 --enable-libdav1d --enable-libflite --enable-libfontconfig --enable-libfreetype --enable-libfribidi --enable-libgme --enable-libgsm --enable-libjack --enable-libmp3lame --enable-libmysofa --enable-libopenjpeg --enable-libopenmpt --enable-libopus --enable-libpulse --enable-librabbitmq --enable-librubberband --enable-libshine --enable-libsnappy --enable-libsoxr --enable-libspeex --enable-libsrt --enable-libssh --enable-libtheora --enable-libtwolame --enable-libvidstab --enable-libvorbis --enable-libvpx --enable-libwebp --enable-libx265 --enable-libxml2 --enable-libxvid --enable-libzimg --enable-libzmq --enable-libzvbi --enable-lv2 --enable-omx --enable-openal --enable-opencl --enable-opengl --enable-sdl2 --enable-pocketsphinx --enable-librsvg --enable-libmfx --enable-libdc1394 --enable-libdrm --enable-libiec61883 --enable-chromaprint --enable-frei0r --enable-libx264 --enable-shared\n",
      "  libavutil      56. 70.100 / 56. 70.100\n",
      "  libavcodec     58.134.100 / 58.134.100\n",
      "  libavformat    58. 76.100 / 58. 76.100\n",
      "  libavdevice    58. 13.100 / 58. 13.100\n",
      "  libavfilter     7.110.100 /  7.110.100\n",
      "  libswscale      5.  9.100 /  5.  9.100\n",
      "  libswresample   3.  9.100 /  3.  9.100\n",
      "  libpostproc    55.  9.100 / 55.  9.100\n",
      "Input #0, image2, from 'fig/plummer%d.png':\n",
      "  Duration: 00:00:00.12, start: 0.000000, bitrate: N/A\n",
      "  Stream #0:0: Video: png, rgba(pc), 1000x1000 [SAR 3937:3937 DAR 1:1], 25 fps, 25 tbr, 25 tbn, 25 tbc\n",
      "Please use -b:a or -b:v, -b is ambiguous\n",
      "Stream mapping:\n",
      "  Stream #0:0 -> #0:0 (png (native) -> h264 (libx264))\n",
      "Press [q] to stop, [?] for help\n",
      "[libx264 @ 0x55d3a11cf7c0] using SAR=1/1\n",
      "[libx264 @ 0x55d3a11cf7c0] using cpu capabilities: MMX2 SSE2Fast SSSE3 SSE4.2 AVX\n",
      "[libx264 @ 0x55d3a11cf7c0] profile High 4:4:4 Predictive, level 3.2, 4:4:4, 8-bit\n",
      "[libx264 @ 0x55d3a11cf7c0] 264 - core 163 r3060 5db6aa6 - H.264/MPEG-4 AVC codec - Copyleft 2003-2021 - http://www.videolan.org/x264.html - options: cabac=1 ref=3 deblock=1:0:0 analyse=0x3:0x113 me=hex subme=7 psy=1 psy_rd=1.00:0.00 mixed_ref=1 me_range=16 chroma_me=1 trellis=1 8x8dct=1 cqm=0 deadzone=21,11 fast_pskip=1 chroma_qp_offset=4 threads=12 lookahead_threads=2 sliced_threads=0 nr=0 decimate=1 interlaced=0 bluray_compat=0 constrained_intra=0 bframes=3 b_pyramid=2 b_adapt=1 b_bias=0 direct=1 weightb=1 open_gop=0 weightp=2 keyint=250 keyint_min=20 scenecut=40 intra_refresh=0 rc_lookahead=40 rc=abr mbtree=1 bitrate=8000 ratetol=1.0 qcomp=0.60 qpmin=0 qpmax=69 qpstep=4 ip_ratio=1.40 aq=1:1.00\n",
      "Output #0, mp4, to 'RESULTS/65000_plummer_all_pairs_0.mp4':\n",
      "  Metadata:\n",
      "    encoder         : Lavf58.76.100\n",
      "  Stream #0:0: Video: h264 (avc1 / 0x31637661), yuv444p(tv, progressive), 1000x1000 [SAR 1:1 DAR 1:1], q=2-31, 8000 kb/s, 20 fps, 10240 tbn\n",
      "    Metadata:\n",
      "      encoder         : Lavc58.134.100 libx264\n",
      "    Side data:\n",
      "      cpb: bitrate max/min/avg: 0/0/8000000 buffer size: 0 vbv_delay: N/A\n",
      "frame=    1 fps=0.0 q=0.0 size=       0kB time=00:00:00.00 bitrate=N/A speed=   0x    \r"
     ]
    },
    {
     "name": "stdout",
     "output_type": "stream",
     "text": [
      "Saved: RESULTS/65000_plummer_all_pairs_0.mp4\n"
     ]
    },
    {
     "name": "stderr",
     "output_type": "stream",
     "text": [
      "frame=    3 fps=0.0 q=-1.0 Lsize=     573kB time=00:00:00.00 bitrate=47908000.0kbits/s speed=0.000333x    \n",
      "video:572kB audio:0kB subtitle:0kB other streams:0kB global headers:0kB muxing overhead: 0.156155%\n",
      "[libx264 @ 0x55d3a11cf7c0] frame I:1     Avg QP:11.55  size:584411\n",
      "[libx264 @ 0x55d3a11cf7c0] frame P:1     Avg QP:22.50  size:   482\n",
      "[libx264 @ 0x55d3a11cf7c0] frame B:1     Avg QP:22.50  size:   360\n",
      "[libx264 @ 0x55d3a11cf7c0] consecutive B-frames: 33.3% 66.7%  0.0%  0.0%\n",
      "[libx264 @ 0x55d3a11cf7c0] mb I  I16..4: 14.3% 14.9% 70.8%\n",
      "[libx264 @ 0x55d3a11cf7c0] mb P  I16..4:  0.0%  0.0%  0.1%  P16..4:  0.2%  0.0%  0.0%  0.0%  0.0%    skip:99.7%\n",
      "[libx264 @ 0x55d3a11cf7c0] mb B  I16..4:  0.0%  0.0%  0.0%  B16..8:  0.3%  0.0%  0.1%  direct: 0.0%  skip:99.7%  L0:41.7% L1:52.1% BI: 6.2%\n",
      "[libx264 @ 0x55d3a11cf7c0] final ratefactor: 18.86\n",
      "[libx264 @ 0x55d3a11cf7c0] 8x8 transform intra:14.9% inter:18.2%\n",
      "[libx264 @ 0x55d3a11cf7c0] coded y,u,v intra: 59.0% 55.4% 54.6% inter: 0.1% 0.0% 0.0%\n",
      "[libx264 @ 0x55d3a11cf7c0] i16 v,h,dc,p: 73% 13% 14%  0%\n",
      "[libx264 @ 0x55d3a11cf7c0] i8 v,h,dc,ddl,ddr,vr,hd,vl,hu: 51%  7% 23%  3%  3%  3%  3%  4%  4%\n",
      "[libx264 @ 0x55d3a11cf7c0] i4 v,h,dc,ddl,ddr,vr,hd,vl,hu: 41% 17% 11%  6%  6%  5%  5%  5%  5%\n",
      "[libx264 @ 0x55d3a11cf7c0] Weighted P-Frames: Y:0.0% UV:0.0%\n",
      "[libx264 @ 0x55d3a11cf7c0] kb/s:31213.49\n"
     ]
    }
   ],
   "source": [
    "''' \n",
    "settings\n",
    "'''\n",
    "\n",
    "# Directories\n",
    "sim_title =  \"RESULTS/65000_plummer_all_pairs\"\n",
    "data_prefix='data/plummer_snap_mpi'\n",
    "figure_prefix='fig/plummer'\n",
    "bonsai_binary = \"../Bonsai/build/bonsai2_slowdust\" # after cmake tools build\n",
    "\n",
    "# Bonsai config\n",
    "step = 0.0625/1\n",
    "nStars = 650000 # when we run MPI this is number of stars per process\n",
    "T_ = 1\n",
    "\n",
    "# Plot\n",
    "dir_comp = True\n",
    "p_size = 1\n",
    "lim=5\n",
    "nRed=int(nStars/2)\n",
    "\n",
    "''' \n",
    "run and save\n",
    "'''\n",
    "\n",
    "clear_data()\n",
    "bonsai.run_plummer(nStars,data_prefix,bonsai_bin=bonsai_binary,T=T_,dt=step,dSnap=step,direct=dir_comp)\n",
    "bonsai.parse_save_log(outfile=sim_title)\n",
    "tipsy.read_tipsy(data_prefix,figure_prefix, pointsize = p_size,lim=lim,nRed=nRed)\n",
    "tipsy.make_mp4(figure_prefix, sim_title)"
   ]
  },
  {
   "cell_type": "markdown",
   "metadata": {},
   "source": [
    "## N stars vs Time"
   ]
  },
  {
   "cell_type": "code",
   "execution_count": 16,
   "metadata": {},
   "outputs": [
    {
     "name": "stdout",
     "output_type": "stream",
     "text": [
      "../Bonsai/build/bonsai2_slowdust  --direct --plummer 100 --snapname data/plummer_snap_mpi --snapiter 0.0625 -T 1 -dt 0.0625 --eps 0.05\n",
      "Using Plummer model with n= 100 per process \n",
      "...................................................................................................."
     ]
    },
    {
     "name": "stderr",
     "output_type": "stream",
     "text": [
      " Unknown ENV_VARIABLE:   -- Falling to basic forking method after MPI_Init, unsafe!\n",
      "Proc id: 0 @ Default , total processes: 1 (mpiInit) \n",
      "[INIT]\tUsed settings: \n",
      "[INIT]\tInput  filename \n",
      "[INIT]\tBonsai filename \n",
      "[INIT]\tLog filename gpuLog.log\n",
      "[INIT]\tTheta: \t\t0.75\t\teps: \t\t0.05\n",
      "[INIT]\tTimestep: \t0.0625\t\ttEnd: \t\t1\n",
      "[INIT]\titerEnd: \t1073741824\n",
      "[INIT]\tUse MPI-IO: \tNO\n",
      "[INIT]\tsnapshotFile: \tdata/plummer_snap_mpi\tsnapshotIter: \t0.0625\n",
      "[INIT]\tInput file: \t\t\tdevID: \t\t0\n",
      "[INIT]\tRemove dist: \t-1\n",
      "[INIT]\tRebuild tree every 1 timestep\n",
      "[INIT]\tRuntime logging is DISABLED \n",
      "[INIT]\tDirect gravitation is ENABLED\n",
      "[INIT]\tCode is built WITHOUT MPI Support \n",
      "Proc: 0 Bootup times: Tree/MPI: 0.184856 Threads/log: 9.60827e-05 IC-model: 0 \n",
      " Start iterating\n",
      "iter=0 : time= 0  Etot= 0.2421953201  Ekin= 0.241796   Epot= 0.000399777 : de= 0 ( 0 ) d(de)= 0 ( 0 ) t_sim=  5.96046e-06 sec\n",
      "iter=1 : time= 0.0625  Etot= 0.2417955434  Ekin= 0.241796   Epot= 0 : de= -0.00165064 ( 0 ) d(de)= -0.00165064 ( 0 ) t_sim=  0.999716 sec\n",
      "iter=2 : time= 0.125  Etot= 0.2417955434  Ekin= 0.241796   Epot= 0 : de= -0.00165064 ( 0 ) d(de)= 0 ( 0 ) t_sim=  1.00252 sec\n",
      "iter=3 : time= 0.1875  Etot= 0.2417955434  Ekin= 0.241796   Epot= 0 : de= -0.00165064 ( 0 ) d(de)= 0 ( 0 ) t_sim=  1.00483 sec\n",
      "iter=4 : time= 0.25  Etot= 0.2417955434  Ekin= 0.241796   Epot= 0 : de= -0.00165064 ( 0 ) d(de)= 0 ( 0 ) t_sim=  1.00554 sec\n",
      "iter=5 : time= 0.3125  Etot= 0.2417955434  Ekin= 0.241796   Epot= 0 : de= -0.00165064 ( 0 ) d(de)= 0 ( 0 ) t_sim=  1.00634 sec\n",
      "iter=6 : time= 0.375  Etot= 0.2417955434  Ekin= 0.241796   Epot= 0 : de= -0.00165064 ( 0 ) d(de)= 0 ( 0 ) t_sim=  1.00718 sec\n",
      "iter=7 : time= 0.4375  Etot= 0.2417955434  Ekin= 0.241796   Epot= 0 : de= -0.00165064 ( 0 ) d(de)= 0 ( 0 ) t_sim=  1.02155 sec\n",
      "iter=8 : time= 0.5  Etot= 0.2417955434  Ekin= 0.241796   Epot= 0 : de= -0.00165064 ( 0 ) d(de)= 0 ( 0 ) t_sim=  1.02229 sec\n",
      "iter=9 : time= 0.5625  Etot= 0.2417955434  Ekin= 0.241796   Epot= 0 : de= -0.00165064 ( 0 ) d(de)= 0 ( 0 ) t_sim=  1.02285 sec\n",
      "iter=10 : time= 0.625  Etot= 0.2417955434  Ekin= 0.241796   Epot= 0 : de= -0.00165064 ( 0 ) d(de)= 0 ( 0 ) t_sim=  1.02339 sec\n",
      "iter=11 : time= 0.6875  Etot= 0.2417955434  Ekin= 0.241796   Epot= 0 : de= -0.00165064 ( 0 ) d(de)= 0 ( 0 ) t_sim=  1.02406 sec\n",
      "iter=12 : time= 0.75  Etot= 0.2417955434  Ekin= 0.241796   Epot= 0 : de= -0.00165064 ( 0 ) d(de)= 0 ( 0 ) t_sim=  1.0247 sec\n",
      "iter=13 : time= 0.8125  Etot= 0.2417955434  Ekin= 0.241796   Epot= 0 : de= -0.00165064 ( 0 ) d(de)= 0 ( 0 ) t_sim=  1.02537 sec\n",
      "iter=14 : time= 0.875  Etot= 0.2417955434  Ekin= 0.241796   Epot= 0 : de= -0.00165064 ( 0 ) d(de)= 0 ( 0 ) t_sim=  1.0262 sec\n",
      "iter=15 : time= 0.9375  Etot= 0.2417955434  Ekin= 0.241796   Epot= 0 : de= -0.00165064 ( 0 ) d(de)= 0 ( 0 ) t_sim=  1.0274 sec\n",
      "iter=16 : time= 1  Etot= 0.2417955434  Ekin= 0.241796   Epot= 0 : de= -0.00165064 ( 0 ) d(de)= 0 ( 0 ) t_sim=  1.02938 sec\n",
      "iter=16 : time= 1  Etot= 0.2417955434  Ekin= 0.241796   Epot= 0 : de= -0.00165064 ( 0 ) d(de)= 0 ( 0 ) t_sim=  1.02981 sec\n"
     ]
    },
    {
     "name": "stdout",
     "output_type": "stream",
     "text": [
      "\n",
      "iter=0 : time= 0  Etot= 0.2421953201  Ekin= 0.241796   Epot= 0.000399777 : de= 0 ( 0 ) d(de)= 0 ( 0 ) t_sim=  0 sec\n",
      "iter=1 : time= 0.0625  Etot= 0.2417955434  Ekin= 0.241796   Epot= 0 : de= -0.00165064 ( 0 ) d(de)= -0.00165064 ( 0 ) t_sim=  0.999709 sec\n",
      "iter=2 : time= 0.125  Etot= 0.2417955434  Ekin= 0.241796   Epot= 0 : de= -0.00165064 ( 0 ) d(de)= 0 ( 0 ) t_sim=  1.00251 sec\n",
      "iter=3 : time= 0.1875  Etot= 0.2417955434  Ekin= 0.241796   Epot= 0 : de= -0.00165064 ( 0 ) d(de)= 0 ( 0 ) t_sim=  1.00482 sec\n",
      "iter=4 : time= 0.25  Etot= 0.2417955434  Ekin= 0.241796   Epot= 0 : de= -0.00165064 ( 0 ) d(de)= 0 ( 0 ) t_sim=  1.00553 sec\n",
      "iter=5 : time= 0.3125  Etot= 0.2417955434  Ekin= 0.241796   Epot= 0 : de= -0.00165064 ( 0 ) d(de)= 0 ( 0 ) t_sim=  1.00633 sec\n",
      "iter=6 : time= 0.375  Etot= 0.2417955434  Ekin= 0.241796   Epot= 0 : de= -0.00165064 ( 0 ) d(de)= 0 ( 0 ) t_sim=  1.00718 sec\n",
      "iter=7 : time= 0.4375  Etot= 0.2417955434  Ekin= 0.241796   Epot= 0 : de= -0.00165064 ( 0 ) d(de)= 0 ( 0 ) t_sim=  1.02154 sec\n",
      "iter=8 : time= 0.5  Etot= 0.2417955434  Ekin= 0.241796   Epot= 0 : de= -0.00165064 ( 0 ) d(de)= 0 ( 0 ) t_sim=  1.02228 sec\n",
      "iter=9 : time= 0.5625  Etot= 0.2417955434  Ekin= 0.241796   Epot= 0 : de= -0.00165064 ( 0 ) d(de)= 0 ( 0 ) t_sim=  1.02284 sec\n",
      "iter=10 : time= 0.625  Etot= 0.2417955434  Ekin= 0.241796   Epot= 0 : de= -0.00165064 ( 0 ) d(de)= 0 ( 0 ) t_sim=  1.02339 sec\n",
      "iter=11 : time= 0.6875  Etot= 0.2417955434  Ekin= 0.241796   Epot= 0 : de= -0.00165064 ( 0 ) d(de)= 0 ( 0 ) t_sim=  1.02405 sec\n",
      "iter=12 : time= 0.75  Etot= 0.2417955434  Ekin= 0.241796   Epot= 0 : de= -0.00165064 ( 0 ) d(de)= 0 ( 0 ) t_sim=  1.02469 sec\n",
      "iter=13 : time= 0.8125  Etot= 0.2417955434  Ekin= 0.241796   Epot= 0 : de= -0.00165064 ( 0 ) d(de)= 0 ( 0 ) t_sim=  1.02536 sec\n",
      "iter=14 : time= 0.875  Etot= 0.2417955434  Ekin= 0.241796   Epot= 0 : de= -0.00165064 ( 0 ) d(de)= 0 ( 0 ) t_sim=  1.02619 sec\n",
      "iter=15 : time= 0.9375  Etot= 0.2417955434  Ekin= 0.241796   Epot= 0 : de= -0.00165064 ( 0 ) d(de)= 0 ( 0 ) t_sim=  1.02739 sec\n",
      "iter=16 : time= 1  Etot= 0.2417955434  Ekin= 0.241796   Epot= 0 : de= -0.00165064 ( 0 ) d(de)= 0 ( 0 ) t_sim=  1.02937 sec\n",
      "iter=16 : time= 1  Etot= 0.2417955434  Ekin= 0.241796   Epot= 0 : de= -0.00165064 ( 0 ) d(de)= 0 ( 0 ) t_sim=  1.02981 sec\n",
      "../Bonsai/build/bonsai2_slowdust  --direct --plummer 1000 --snapname data/plummer_snap_mpi --snapiter 0.0625 -T 1 -dt 0.0625 --eps 0.05\n",
      "Using Plummer model with n= 1000 per process \n",
      "..................................................................."
     ]
    },
    {
     "name": "stderr",
     "output_type": "stream",
     "text": [
      " Unknown ENV_VARIABLE:   -- Falling to basic forking method after MPI_Init, unsafe!\n",
      "Proc id: 0 @ Default , total processes: 1 (mpiInit) \n",
      "[INIT]\tUsed settings: \n",
      "[INIT]\tInput  filename \n",
      "[INIT]\tBonsai filename \n",
      "[INIT]\tLog filename gpuLog.log\n",
      "[INIT]\tTheta: \t\t0.75\t\teps: \t\t0.05\n",
      "[INIT]\tTimestep: \t0.0625\t\ttEnd: \t\t1\n",
      "[INIT]\titerEnd: \t1073741824\n",
      "[INIT]\tUse MPI-IO: \tNO\n",
      "[INIT]\tsnapshotFile: \tdata/plummer_snap_mpi\tsnapshotIter: \t0.0625\n",
      "[INIT]\tInput file: \t\t\tdevID: \t\t0\n",
      "[INIT]\tRemove dist: \t-1\n",
      "[INIT]\tRebuild tree every 1 timestep\n",
      "[INIT]\tRuntime logging is DISABLED \n",
      "[INIT]\tDirect gravitation is ENABLED\n",
      "[INIT]\tCode is built WITHOUT MPI Support \n",
      "Proc: 0 Bootup times: Tree/MPI: 0.175935 Threads/log: 9.20296e-05 IC-model: 0 \n",
      " Start iterating\n",
      "iter=0 : time= 0  Etot= 0.2351122245  Ekin= 0.23497   Epot= 0.000142499 : de= 0 ( 0 ) d(de)= 0 ( 0 ) t_sim=  5.96046e-06 sec\n",
      "iter=1 : time= 0.0625  Etot= 0.2351122245  Ekin= 0.23497   Epot= 0.000142499 : de= 0 ( 0 ) d(de)= 0 ( 0 ) t_sim=  1.01423 sec\n",
      "iter=2 : time= 0.125  Etot= 0.2351122245  Ekin= 0.23497   Epot= 0.000142499 : de= 0 ( 0 ) d(de)= 0 ( 0 ) t_sim=  1.01497 sec\n",
      "iter=3 : time= 0.1875  Etot= 0.2351122245  Ekin= 0.23497   Epot= 0.000142499 : de= 0 ( 0 ) d(de)= 0 ( 0 ) t_sim=  1.0158 sec\n",
      "iter=4 : time= 0.25  Etot= 0.2351122245  Ekin= 0.23497   Epot= 0.000142499 : de= 0 ( 0 ) d(de)= 0 ( 0 ) t_sim=  1.01635 sec\n",
      "iter=5 : time= 0.3125  Etot= 0.2351122245  Ekin= 0.23497   Epot= 0.000142499 : de= 0 ( 0 ) d(de)= 0 ( 0 ) t_sim=  1.01688 sec\n",
      "iter=6 : time= 0.375  Etot= 0.2351122245  Ekin= 0.23497   Epot= 0.000142499 : de= 0 ( 0 ) d(de)= 0 ( 0 ) t_sim=  1.01751 sec\n",
      "iter=7 : time= 0.4375  Etot= 0.2351122245  Ekin= 0.23497   Epot= 0.000142499 : de= 0 ( 0 ) d(de)= 0 ( 0 ) t_sim=  1.01796 sec\n",
      "iter=8 : time= 0.5  Etot= 0.2351122245  Ekin= 0.23497   Epot= 0.000142499 : de= 0 ( 0 ) d(de)= 0 ( 0 ) t_sim=  1.01842 sec\n",
      "iter=9 : time= 0.5625  Etot= 0.2351122245  Ekin= 0.23497   Epot= 0.000142499 : de= 0 ( 0 ) d(de)= 0 ( 0 ) t_sim=  1.01927 sec\n",
      "iter=10 : time= 0.625  Etot= 0.2351122245  Ekin= 0.23497   Epot= 0.000142499 : de= 0 ( 0 ) d(de)= 0 ( 0 ) t_sim=  1.02033 sec\n",
      "iter=11 : time= 0.6875  Etot= 0.2351122245  Ekin= 0.23497   Epot= 0.000142499 : de= 0 ( 0 ) d(de)= 0 ( 0 ) t_sim=  1.02089 sec\n",
      "iter=12 : time= 0.75  Etot= 0.2351122245  Ekin= 0.23497   Epot= 0.000142499 : de= 0 ( 0 ) d(de)= 0 ( 0 ) t_sim=  1.02154 sec\n",
      "iter=13 : time= 0.8125  Etot= 0.2351122245  Ekin= 0.23497   Epot= 0.000142499 : de= 0 ( 0 ) d(de)= 0 ( 0 ) t_sim=  1.02232 sec\n",
      "iter=14 : time= 0.875  Etot= 0.2351122245  Ekin= 0.23497   Epot= 0.000142499 : de= 0 ( 0 ) d(de)= 0 ( 0 ) t_sim=  1.02368 sec\n",
      "iter=15 : time= 0.9375  Etot= 0.2351122245  Ekin= 0.23497   Epot= 0.000142499 : de= 0 ( 0 ) d(de)= 0 ( 0 ) t_sim=  1.02483 sec\n",
      "iter=16 : time= 1  Etot= 0.2351122245  Ekin= 0.23497   Epot= 0.000142499 : de= 0 ( 0 ) d(de)= 0 ( 0 ) t_sim=  1.02571 sec\n",
      "iter=16 : time= 1  Etot= 0.2351122245  Ekin= 0.23497   Epot= 0.000142499 : de= 0 ( 0 ) d(de)= 0 ( 0 ) t_sim=  1.0263 sec\n"
     ]
    },
    {
     "name": "stdout",
     "output_type": "stream",
     "text": [
      "\n",
      "iter=0 : time= 0  Etot= 0.2351122245  Ekin= 0.23497   Epot= 0.000142499 : de= 0 ( 0 ) d(de)= 0 ( 0 ) t_sim=  0 sec\n",
      "iter=1 : time= 0.0625  Etot= 0.2351122245  Ekin= 0.23497   Epot= 0.000142499 : de= 0 ( 0 ) d(de)= 0 ( 0 ) t_sim=  1.01423 sec\n",
      "iter=2 : time= 0.125  Etot= 0.2351122245  Ekin= 0.23497   Epot= 0.000142499 : de= 0 ( 0 ) d(de)= 0 ( 0 ) t_sim=  1.01497 sec\n",
      "iter=3 : time= 0.1875  Etot= 0.2351122245  Ekin= 0.23497   Epot= 0.000142499 : de= 0 ( 0 ) d(de)= 0 ( 0 ) t_sim=  1.01579 sec\n",
      "iter=4 : time= 0.25  Etot= 0.2351122245  Ekin= 0.23497   Epot= 0.000142499 : de= 0 ( 0 ) d(de)= 0 ( 0 ) t_sim=  1.01635 sec\n",
      "iter=5 : time= 0.3125  Etot= 0.2351122245  Ekin= 0.23497   Epot= 0.000142499 : de= 0 ( 0 ) d(de)= 0 ( 0 ) t_sim=  1.01688 sec\n",
      "iter=6 : time= 0.375  Etot= 0.2351122245  Ekin= 0.23497   Epot= 0.000142499 : de= 0 ( 0 ) d(de)= 0 ( 0 ) t_sim=  1.0175 sec\n",
      "iter=7 : time= 0.4375  Etot= 0.2351122245  Ekin= 0.23497   Epot= 0.000142499 : de= 0 ( 0 ) d(de)= 0 ( 0 ) t_sim=  1.01796 sec\n",
      "iter=8 : time= 0.5  Etot= 0.2351122245  Ekin= 0.23497   Epot= 0.000142499 : de= 0 ( 0 ) d(de)= 0 ( 0 ) t_sim=  1.01842 sec\n",
      "iter=9 : time= 0.5625  Etot= 0.2351122245  Ekin= 0.23497   Epot= 0.000142499 : de= 0 ( 0 ) d(de)= 0 ( 0 ) t_sim=  1.01927 sec\n",
      "iter=10 : time= 0.625  Etot= 0.2351122245  Ekin= 0.23497   Epot= 0.000142499 : de= 0 ( 0 ) d(de)= 0 ( 0 ) t_sim=  1.02033 sec\n",
      "iter=11 : time= 0.6875  Etot= 0.2351122245  Ekin= 0.23497   Epot= 0.000142499 : de= 0 ( 0 ) d(de)= 0 ( 0 ) t_sim=  1.02089 sec\n",
      "iter=12 : time= 0.75  Etot= 0.2351122245  Ekin= 0.23497   Epot= 0.000142499 : de= 0 ( 0 ) d(de)= 0 ( 0 ) t_sim=  1.02154 sec\n",
      "iter=13 : time= 0.8125  Etot= 0.2351122245  Ekin= 0.23497   Epot= 0.000142499 : de= 0 ( 0 ) d(de)= 0 ( 0 ) t_sim=  1.02231 sec\n",
      "iter=14 : time= 0.875  Etot= 0.2351122245  Ekin= 0.23497   Epot= 0.000142499 : de= 0 ( 0 ) d(de)= 0 ( 0 ) t_sim=  1.02368 sec\n",
      "iter=15 : time= 0.9375  Etot= 0.2351122245  Ekin= 0.23497   Epot= 0.000142499 : de= 0 ( 0 ) d(de)= 0 ( 0 ) t_sim=  1.02483 sec\n",
      "iter=16 : time= 1  Etot= 0.2351122245  Ekin= 0.23497   Epot= 0.000142499 : de= 0 ( 0 ) d(de)= 0 ( 0 ) t_sim=  1.0257 sec\n",
      "iter=16 : time= 1  Etot= 0.2351122245  Ekin= 0.23497   Epot= 0.000142499 : de= 0 ( 0 ) d(de)= 0 ( 0 ) t_sim=  1.0263 sec\n",
      "../Bonsai/build/bonsai2_slowdust  --direct --plummer 10000 --snapname data/plummer_snap_mpi --snapiter 0.0625 -T 1 -dt 0.0625 --eps 0.05\n",
      "Using Plummer model with n= 10000 per process \n",
      "................................................................."
     ]
    },
    {
     "name": "stderr",
     "output_type": "stream",
     "text": [
      " Unknown ENV_VARIABLE:   -- Falling to basic forking method after MPI_Init, unsafe!\n",
      "Proc id: 0 @ Default , total processes: 1 (mpiInit) \n",
      "[INIT]\tUsed settings: \n",
      "[INIT]\tInput  filename \n",
      "[INIT]\tBonsai filename \n",
      "[INIT]\tLog filename gpuLog.log\n",
      "[INIT]\tTheta: \t\t0.75\t\teps: \t\t0.05\n",
      "[INIT]\tTimestep: \t0.0625\t\ttEnd: \t\t1\n",
      "[INIT]\titerEnd: \t1073741824\n",
      "[INIT]\tUse MPI-IO: \tNO\n",
      "[INIT]\tsnapshotFile: \tdata/plummer_snap_mpi\tsnapshotIter: \t0.0625\n",
      "[INIT]\tInput file: \t\t\tdevID: \t\t0\n",
      "[INIT]\tRemove dist: \t-1\n",
      "[INIT]\tRebuild tree every 1 timestep\n",
      "[INIT]\tRuntime logging is DISABLED \n",
      "[INIT]\tDirect gravitation is ENABLED\n",
      "[INIT]\tCode is built WITHOUT MPI Support \n",
      "Proc: 0 Bootup times: Tree/MPI: 0.171931 Threads/log: 8.79765e-05 IC-model: 0 \n",
      " Start iterating\n",
      "iter=0 : time= 0  Etot= 0.2474121779  Ekin= 0.247408   Epot= 4.56794e-06 : de= 0 ( 0 ) d(de)= 0 ( 0 ) t_sim=  5.96046e-06 sec\n",
      "iter=1 : time= 0.0625  Etot= 0.2474121779  Ekin= 0.247408   Epot= 4.56794e-06 : de= 0 ( 0 ) d(de)= 0 ( 0 ) t_sim=  1.00152 sec\n",
      "iter=2 : time= 0.125  Etot= 0.2474121779  Ekin= 0.247408   Epot= 4.56794e-06 : de= 0 ( 0 ) d(de)= 0 ( 0 ) t_sim=  1.00492 sec\n",
      "iter=3 : time= 0.1875  Etot= 0.2474121779  Ekin= 0.247408   Epot= 4.56794e-06 : de= 0 ( 0 ) d(de)= 0 ( 0 ) t_sim=  1.00842 sec\n",
      "iter=4 : time= 0.25  Etot= 0.2474121779  Ekin= 0.247408   Epot= 4.56794e-06 : de= 0 ( 0 ) d(de)= 0 ( 0 ) t_sim=  1.01336 sec\n",
      "iter=5 : time= 0.3125  Etot= 0.2474121779  Ekin= 0.247408   Epot= 4.56794e-06 : de= 0 ( 0 ) d(de)= 0 ( 0 ) t_sim=  1.0167 sec\n",
      "iter=6 : time= 0.375  Etot= 0.2474121779  Ekin= 0.247408   Epot= 4.56794e-06 : de= 0 ( 0 ) d(de)= 0 ( 0 ) t_sim=  1.0195 sec\n",
      "iter=7 : time= 0.4375  Etot= 0.2474121779  Ekin= 0.247408   Epot= 4.56794e-06 : de= 0 ( 0 ) d(de)= 0 ( 0 ) t_sim=  1.02376 sec\n",
      "iter=8 : time= 0.5  Etot= 0.2474121779  Ekin= 0.247408   Epot= 4.56794e-06 : de= 0 ( 0 ) d(de)= 0 ( 0 ) t_sim=  1.02711 sec\n",
      "iter=9 : time= 0.5625  Etot= 0.2474121779  Ekin= 0.247408   Epot= 4.56794e-06 : de= 0 ( 0 ) d(de)= 0 ( 0 ) t_sim=  1.03127 sec\n",
      "iter=10 : time= 0.625  Etot= 0.2474121779  Ekin= 0.247408   Epot= 4.56794e-06 : de= 0 ( 0 ) d(de)= 0 ( 0 ) t_sim=  1.03553 sec\n",
      "iter=11 : time= 0.6875  Etot= 0.2474121779  Ekin= 0.247408   Epot= 4.56794e-06 : de= 0 ( 0 ) d(de)= 0 ( 0 ) t_sim=  1.03938 sec\n",
      "iter=12 : time= 0.75  Etot= 0.2474121779  Ekin= 0.247408   Epot= 4.56794e-06 : de= 0 ( 0 ) d(de)= 0 ( 0 ) t_sim=  1.04278 sec\n",
      "iter=13 : time= 0.8125  Etot= 0.2474121779  Ekin= 0.247408   Epot= 4.56794e-06 : de= 0 ( 0 ) d(de)= 0 ( 0 ) t_sim=  1.04728 sec\n",
      "iter=14 : time= 0.875  Etot= 0.2474121779  Ekin= 0.247408   Epot= 4.56794e-06 : de= 0 ( 0 ) d(de)= 0 ( 0 ) t_sim=  1.05077 sec\n",
      "iter=15 : time= 0.9375  Etot= 0.2474121779  Ekin= 0.247408   Epot= 4.56794e-06 : de= 0 ( 0 ) d(de)= 0 ( 0 ) t_sim=  1.05461 sec\n",
      "iter=16 : time= 1  Etot= 0.2474121779  Ekin= 0.247408   Epot= 4.56794e-06 : de= 0 ( 0 ) d(de)= 0 ( 0 ) t_sim=  1.05909 sec\n",
      "iter=16 : time= 1  Etot= 0.2474121779  Ekin= 0.247408   Epot= 4.56794e-06 : de= 0 ( 0 ) d(de)= 0 ( 0 ) t_sim=  1.06198 sec\n"
     ]
    },
    {
     "name": "stdout",
     "output_type": "stream",
     "text": [
      "\n",
      "iter=0 : time= 0  Etot= 0.2474121779  Ekin= 0.247408   Epot= 4.56794e-06 : de= 0 ( 0 ) d(de)= 0 ( 0 ) t_sim=  0 sec\n",
      "iter=1 : time= 0.0625  Etot= 0.2474121779  Ekin= 0.247408   Epot= 4.56794e-06 : de= 0 ( 0 ) d(de)= 0 ( 0 ) t_sim=  1.00152 sec\n",
      "iter=2 : time= 0.125  Etot= 0.2474121779  Ekin= 0.247408   Epot= 4.56794e-06 : de= 0 ( 0 ) d(de)= 0 ( 0 ) t_sim=  1.00492 sec\n",
      "iter=3 : time= 0.1875  Etot= 0.2474121779  Ekin= 0.247408   Epot= 4.56794e-06 : de= 0 ( 0 ) d(de)= 0 ( 0 ) t_sim=  1.00841 sec\n",
      "iter=4 : time= 0.25  Etot= 0.2474121779  Ekin= 0.247408   Epot= 4.56794e-06 : de= 0 ( 0 ) d(de)= 0 ( 0 ) t_sim=  1.01335 sec\n",
      "iter=5 : time= 0.3125  Etot= 0.2474121779  Ekin= 0.247408   Epot= 4.56794e-06 : de= 0 ( 0 ) d(de)= 0 ( 0 ) t_sim=  1.0167 sec\n",
      "iter=6 : time= 0.375  Etot= 0.2474121779  Ekin= 0.247408   Epot= 4.56794e-06 : de= 0 ( 0 ) d(de)= 0 ( 0 ) t_sim=  1.0195 sec\n",
      "iter=7 : time= 0.4375  Etot= 0.2474121779  Ekin= 0.247408   Epot= 4.56794e-06 : de= 0 ( 0 ) d(de)= 0 ( 0 ) t_sim=  1.02375 sec\n",
      "iter=8 : time= 0.5  Etot= 0.2474121779  Ekin= 0.247408   Epot= 4.56794e-06 : de= 0 ( 0 ) d(de)= 0 ( 0 ) t_sim=  1.02711 sec\n",
      "iter=9 : time= 0.5625  Etot= 0.2474121779  Ekin= 0.247408   Epot= 4.56794e-06 : de= 0 ( 0 ) d(de)= 0 ( 0 ) t_sim=  1.03127 sec\n",
      "iter=10 : time= 0.625  Etot= 0.2474121779  Ekin= 0.247408   Epot= 4.56794e-06 : de= 0 ( 0 ) d(de)= 0 ( 0 ) t_sim=  1.03552 sec\n",
      "iter=11 : time= 0.6875  Etot= 0.2474121779  Ekin= 0.247408   Epot= 4.56794e-06 : de= 0 ( 0 ) d(de)= 0 ( 0 ) t_sim=  1.03938 sec\n",
      "iter=12 : time= 0.75  Etot= 0.2474121779  Ekin= 0.247408   Epot= 4.56794e-06 : de= 0 ( 0 ) d(de)= 0 ( 0 ) t_sim=  1.04277 sec\n",
      "iter=13 : time= 0.8125  Etot= 0.2474121779  Ekin= 0.247408   Epot= 4.56794e-06 : de= 0 ( 0 ) d(de)= 0 ( 0 ) t_sim=  1.04728 sec\n",
      "iter=14 : time= 0.875  Etot= 0.2474121779  Ekin= 0.247408   Epot= 4.56794e-06 : de= 0 ( 0 ) d(de)= 0 ( 0 ) t_sim=  1.05076 sec\n",
      "iter=15 : time= 0.9375  Etot= 0.2474121779  Ekin= 0.247408   Epot= 4.56794e-06 : de= 0 ( 0 ) d(de)= 0 ( 0 ) t_sim=  1.0546 sec\n",
      "iter=16 : time= 1  Etot= 0.2474121779  Ekin= 0.247408   Epot= 4.56794e-06 : de= 0 ( 0 ) d(de)= 0 ( 0 ) t_sim=  1.05909 sec\n",
      "iter=16 : time= 1  Etot= 0.2474121779  Ekin= 0.247408   Epot= 4.56794e-06 : de= 0 ( 0 ) d(de)= 0 ( 0 ) t_sim=  1.06196 sec\n",
      "../Bonsai/build/bonsai2_slowdust  --direct --plummer 100000 --snapname data/plummer_snap_mpi --snapiter 0.0625 -T 1 -dt 0.0625 --eps 0.05\n",
      "Using Plummer model with n= 100000 per process \n",
      "........................"
     ]
    },
    {
     "name": "stderr",
     "output_type": "stream",
     "text": [
      " Unknown ENV_VARIABLE:   -- Falling to basic forking method after MPI_Init, unsafe!\n",
      "Proc id: 0 @ Default , total processes: 1 (mpiInit) \n",
      "[INIT]\tUsed settings: \n",
      "[INIT]\tInput  filename \n",
      "[INIT]\tBonsai filename \n",
      "[INIT]\tLog filename gpuLog.log\n",
      "[INIT]\tTheta: \t\t0.75\t\teps: \t\t0.05\n",
      "[INIT]\tTimestep: \t0.0625\t\ttEnd: \t\t1\n",
      "[INIT]\titerEnd: \t1073741824\n",
      "[INIT]\tUse MPI-IO: \tNO\n",
      "[INIT]\tsnapshotFile: \tdata/plummer_snap_mpi\tsnapshotIter: \t0.0625\n",
      "[INIT]\tInput file: \t\t\tdevID: \t\t0\n",
      "[INIT]\tRemove dist: \t-1\n",
      "[INIT]\tRebuild tree every 1 timestep\n",
      "[INIT]\tRuntime logging is DISABLED \n",
      "[INIT]\tDirect gravitation is ENABLED\n",
      "[INIT]\tCode is built WITHOUT MPI Support \n"
     ]
    },
    {
     "name": "stdout",
     "output_type": "stream",
     "text": [
      "........................................."
     ]
    },
    {
     "name": "stderr",
     "output_type": "stream",
     "text": [
      "Proc: 0 Bootup times: Tree/MPI: 0.148381 Threads/log: 8.60691e-05 IC-model: 0 \n",
      " Start iterating\n",
      "iter=0 : time= 0  Etot= 0.249924226  Ekin= 0.249924   Epot= 7.48432e-09 : de= 0 ( 0 ) d(de)= 0 ( 0 ) t_sim=  1.00136e-05 sec\n",
      "iter=1 : time= 0.0625  Etot= 0.249924226  Ekin= 0.249924   Epot= 7.48432e-09 : de= 0 ( 0 ) d(de)= 0 ( 0 ) t_sim=  1.02156 sec\n",
      "iter=2 : time= 0.125  Etot= 0.249924226  Ekin= 0.249924   Epot= 7.48432e-09 : de= 0 ( 0 ) d(de)= 0 ( 0 ) t_sim=  1.15477 sec\n",
      "iter=3 : time= 0.1875  Etot= 0.249924226  Ekin= 0.249924   Epot= 7.48432e-09 : de= 0 ( 0 ) d(de)= 0 ( 0 ) t_sim=  1.30663 sec\n",
      "iter=4 : time= 0.25  Etot= 0.249924226  Ekin= 0.249924   Epot= 7.48432e-09 : de= 0 ( 0 ) d(de)= 0 ( 0 ) t_sim=  1.43596 sec\n",
      "iter=5 : time= 0.3125  Etot= 0.249924226  Ekin= 0.249924   Epot= 7.48432e-09 : de= 0 ( 0 ) d(de)= 0 ( 0 ) t_sim=  1.57855 sec\n",
      "iter=6 : time= 0.375  Etot= 0.249924226  Ekin= 0.249924   Epot= 7.48432e-09 : de= 0 ( 0 ) d(de)= 0 ( 0 ) t_sim=  1.71432 sec\n",
      "iter=7 : time= 0.4375  Etot= 0.249924226  Ekin= 0.249924   Epot= 7.48432e-09 : de= 0 ( 0 ) d(de)= 0 ( 0 ) t_sim=  1.84683 sec\n",
      "iter=8 : time= 0.5  Etot= 0.249924226  Ekin= 0.249924   Epot= 7.48432e-09 : de= 0 ( 0 ) d(de)= 0 ( 0 ) t_sim=  1.96383 sec\n",
      "iter=9 : time= 0.5625  Etot= 0.249924226  Ekin= 0.249924   Epot= 7.48432e-09 : de= 0 ( 0 ) d(de)= 0 ( 0 ) t_sim=  2.07928 sec\n",
      "iter=10 : time= 0.625  Etot= 0.249924226  Ekin= 0.249924   Epot= 7.48432e-09 : de= 0 ( 0 ) d(de)= 0 ( 0 ) t_sim=  2.19914 sec\n",
      "iter=11 : time= 0.6875  Etot= 0.249924226  Ekin= 0.249924   Epot= 7.48432e-09 : de= 0 ( 0 ) d(de)= 0 ( 0 ) t_sim=  2.3218 sec\n",
      "iter=12 : time= 0.75  Etot= 0.249924226  Ekin= 0.249924   Epot= 7.48432e-09 : de= 0 ( 0 ) d(de)= 0 ( 0 ) t_sim=  2.45638 sec\n",
      "iter=13 : time= 0.8125  Etot= 0.249924226  Ekin= 0.249924   Epot= 7.48432e-09 : de= 0 ( 0 ) d(de)= 0 ( 0 ) t_sim=  2.58821 sec\n",
      "iter=14 : time= 0.875  Etot= 0.249924226  Ekin= 0.249924   Epot= 7.48432e-09 : de= 0 ( 0 ) d(de)= 0 ( 0 ) t_sim=  2.72794 sec\n",
      "iter=15 : time= 0.9375  Etot= 0.249924226  Ekin= 0.249924   Epot= 7.48432e-09 : de= 0 ( 0 ) d(de)= 0 ( 0 ) t_sim=  2.85786 sec\n",
      "iter=16 : time= 1  Etot= 0.249924226  Ekin= 0.249924   Epot= 7.48432e-09 : de= 0 ( 0 ) d(de)= 0 ( 0 ) t_sim=  2.98576 sec\n",
      "iter=16 : time= 1  Etot= 0.249924226  Ekin= 0.249924   Epot= 7.48432e-09 : de= 0 ( 0 ) d(de)= 0 ( 0 ) t_sim=  3.02719 sec\n"
     ]
    },
    {
     "name": "stdout",
     "output_type": "stream",
     "text": [
      "\n",
      "iter=0 : time= 0  Etot= 0.249924226  Ekin= 0.249924   Epot= 7.48432e-09 : de= 0 ( 0 ) d(de)= 0 ( 0 ) t_sim=  0 sec\n",
      "iter=1 : time= 0.0625  Etot= 0.249924226  Ekin= 0.249924   Epot= 7.48432e-09 : de= 0 ( 0 ) d(de)= 0 ( 0 ) t_sim=  1.02155 sec\n",
      "iter=2 : time= 0.125  Etot= 0.249924226  Ekin= 0.249924   Epot= 7.48432e-09 : de= 0 ( 0 ) d(de)= 0 ( 0 ) t_sim=  1.15476 sec\n",
      "iter=3 : time= 0.1875  Etot= 0.249924226  Ekin= 0.249924   Epot= 7.48432e-09 : de= 0 ( 0 ) d(de)= 0 ( 0 ) t_sim=  1.30662 sec\n",
      "iter=4 : time= 0.25  Etot= 0.249924226  Ekin= 0.249924   Epot= 7.48432e-09 : de= 0 ( 0 ) d(de)= 0 ( 0 ) t_sim=  1.43595 sec\n",
      "iter=5 : time= 0.3125  Etot= 0.249924226  Ekin= 0.249924   Epot= 7.48432e-09 : de= 0 ( 0 ) d(de)= 0 ( 0 ) t_sim=  1.57854 sec\n",
      "iter=6 : time= 0.375  Etot= 0.249924226  Ekin= 0.249924   Epot= 7.48432e-09 : de= 0 ( 0 ) d(de)= 0 ( 0 ) t_sim=  1.71431 sec\n",
      "iter=7 : time= 0.4375  Etot= 0.249924226  Ekin= 0.249924   Epot= 7.48432e-09 : de= 0 ( 0 ) d(de)= 0 ( 0 ) t_sim=  1.84682 sec\n",
      "iter=8 : time= 0.5  Etot= 0.249924226  Ekin= 0.249924   Epot= 7.48432e-09 : de= 0 ( 0 ) d(de)= 0 ( 0 ) t_sim=  1.96383 sec\n",
      "iter=9 : time= 0.5625  Etot= 0.249924226  Ekin= 0.249924   Epot= 7.48432e-09 : de= 0 ( 0 ) d(de)= 0 ( 0 ) t_sim=  2.07927 sec\n",
      "iter=10 : time= 0.625  Etot= 0.249924226  Ekin= 0.249924   Epot= 7.48432e-09 : de= 0 ( 0 ) d(de)= 0 ( 0 ) t_sim=  2.19913 sec\n",
      "iter=11 : time= 0.6875  Etot= 0.249924226  Ekin= 0.249924   Epot= 7.48432e-09 : de= 0 ( 0 ) d(de)= 0 ( 0 ) t_sim=  2.32179 sec\n",
      "iter=12 : time= 0.75  Etot= 0.249924226  Ekin= 0.249924   Epot= 7.48432e-09 : de= 0 ( 0 ) d(de)= 0 ( 0 ) t_sim=  2.45637 sec\n",
      "iter=13 : time= 0.8125  Etot= 0.249924226  Ekin= 0.249924   Epot= 7.48432e-09 : de= 0 ( 0 ) d(de)= 0 ( 0 ) t_sim=  2.5882 sec\n",
      "iter=14 : time= 0.875  Etot= 0.249924226  Ekin= 0.249924   Epot= 7.48432e-09 : de= 0 ( 0 ) d(de)= 0 ( 0 ) t_sim=  2.72794 sec\n",
      "iter=15 : time= 0.9375  Etot= 0.249924226  Ekin= 0.249924   Epot= 7.48432e-09 : de= 0 ( 0 ) d(de)= 0 ( 0 ) t_sim=  2.85785 sec\n",
      "iter=16 : time= 1  Etot= 0.249924226  Ekin= 0.249924   Epot= 7.48432e-09 : de= 0 ( 0 ) d(de)= 0 ( 0 ) t_sim=  2.98575 sec\n",
      "iter=16 : time= 1  Etot= 0.249924226  Ekin= 0.249924   Epot= 7.48432e-09 : de= 0 ( 0 ) d(de)= 0 ( 0 ) t_sim=  3.02718 sec\n",
      "../Bonsai/build/bonsai2_slowdust  --direct --plummer 1000000 --snapname data/plummer_snap_mpi --snapiter 0.0625 -T 1 -dt 0.0625 --eps 0.05\n"
     ]
    },
    {
     "name": "stderr",
     "output_type": "stream",
     "text": [
      " Unknown ENV_VARIABLE:   -- Falling to basic forking method after MPI_Init, unsafe!\n",
      "Proc id: 0 @ Default , total processes: 1 (mpiInit) \n",
      "[INIT]\tUsed settings: \n",
      "[INIT]\tInput  filename \n",
      "[INIT]\tBonsai filename \n",
      "[INIT]\tLog filename gpuLog.log\n",
      "[INIT]\tTheta: \t\t0.75\t\teps: \t\t0.05\n",
      "[INIT]\tTimestep: \t0.0625\t\ttEnd: \t\t1\n",
      "[INIT]\titerEnd: \t1073741824\n",
      "[INIT]\tUse MPI-IO: \tNO\n",
      "[INIT]\tsnapshotFile: \tdata/plummer_snap_mpi\tsnapshotIter: \t0.0625\n",
      "[INIT]\tInput file: \t\t\tdevID: \t\t0\n",
      "[INIT]\tRemove dist: \t-1\n",
      "[INIT]\tRebuild tree every 1 timestep\n",
      "[INIT]\tRuntime logging is DISABLED \n",
      "[INIT]\tDirect gravitation is ENABLED\n",
      "[INIT]\tCode is built WITHOUT MPI Support \n"
     ]
    },
    {
     "name": "stdout",
     "output_type": "stream",
     "text": [
      "Using Plummer model with n= 1000000 per process \n",
      "................................................................"
     ]
    },
    {
     "name": "stderr",
     "output_type": "stream",
     "text": [
      "Proc: 0 Bootup times: Tree/MPI: 0.161814 Threads/log: 0.000100851 IC-model: 0 \n",
      " Start iterating\n",
      "iter=0 : time= 0  Etot= 0.2498514114  Ekin= 0.249851   Epot= 4.09241e-07 : de= 0 ( 0 ) d(de)= 0 ( 0 ) t_sim=  8.82149e-06 sec\n",
      "iter=1 : time= 0.0625  Etot= 0.2498514114  Ekin= 0.249851   Epot= 4.09241e-07 : de= 0 ( 0 ) d(de)= 0 ( 0 ) t_sim=  9.60112 sec\n",
      "iter=2 : time= 0.125  Etot= 0.2498514114  Ekin= 0.249851   Epot= 4.09241e-07 : de= 0 ( 0 ) d(de)= 0 ( 0 ) t_sim=  19.0553 sec\n",
      "iter=3 : time= 0.1875  Etot= 0.2498514114  Ekin= 0.249851   Epot= 4.09241e-07 : de= 0 ( 0 ) d(de)= 0 ( 0 ) t_sim=  28.5046 sec\n",
      "iter=4 : time= 0.25  Etot= 0.2498514114  Ekin= 0.249851   Epot= 4.09241e-07 : de= 0 ( 0 ) d(de)= 0 ( 0 ) t_sim=  38.0085 sec\n",
      "iter=5 : time= 0.3125  Etot= 0.2498514114  Ekin= 0.249851   Epot= 4.09241e-07 : de= 0 ( 0 ) d(de)= 0 ( 0 ) t_sim=  47.5813 sec\n",
      "iter=6 : time= 0.375  Etot= 0.2498514114  Ekin= 0.249851   Epot= 4.09241e-07 : de= 0 ( 0 ) d(de)= 0 ( 0 ) t_sim=  57.1823 sec\n",
      "iter=7 : time= 0.4375  Etot= 0.2498514114  Ekin= 0.249851   Epot= 4.09241e-07 : de= 0 ( 0 ) d(de)= 0 ( 0 ) t_sim=  66.6755 sec\n",
      "iter=8 : time= 0.5  Etot= 0.2498514114  Ekin= 0.249851   Epot= 4.09241e-07 : de= 0 ( 0 ) d(de)= 0 ( 0 ) t_sim=  76.1678 sec\n",
      "iter=9 : time= 0.5625  Etot= 0.2498514114  Ekin= 0.249851   Epot= 4.09241e-07 : de= 0 ( 0 ) d(de)= 0 ( 0 ) t_sim=  85.6672 sec\n",
      "iter=10 : time= 0.625  Etot= 0.2498514114  Ekin= 0.249851   Epot= 4.09241e-07 : de= 0 ( 0 ) d(de)= 0 ( 0 ) t_sim=  95.2452 sec\n",
      "iter=11 : time= 0.6875  Etot= 0.2498514114  Ekin= 0.249851   Epot= 4.09241e-07 : de= 0 ( 0 ) d(de)= 0 ( 0 ) t_sim=  104.787 sec\n",
      "iter=12 : time= 0.75  Etot= 0.2498514114  Ekin= 0.249851   Epot= 4.09241e-07 : de= 0 ( 0 ) d(de)= 0 ( 0 ) t_sim=  114.388 sec\n",
      "iter=13 : time= 0.8125  Etot= 0.2498514114  Ekin= 0.249851   Epot= 4.09241e-07 : de= 0 ( 0 ) d(de)= 0 ( 0 ) t_sim=  123.935 sec\n",
      "iter=14 : time= 0.875  Etot= 0.2498514114  Ekin= 0.249851   Epot= 4.09241e-07 : de= 0 ( 0 ) d(de)= 0 ( 0 ) t_sim=  133.57 sec\n",
      "iter=15 : time= 0.9375  Etot= 0.2498514114  Ekin= 0.249851   Epot= 4.09241e-07 : de= 0 ( 0 ) d(de)= 0 ( 0 ) t_sim=  143.122 sec\n",
      "iter=16 : time= 1  Etot= 0.2498514114  Ekin= 0.249851   Epot= 4.09241e-07 : de= 0 ( 0 ) d(de)= 0 ( 0 ) t_sim=  152.744 sec\n",
      "iter=16 : time= 1  Etot= 0.2498514114  Ekin= 0.249851   Epot= 4.09241e-07 : de= 0 ( 0 ) d(de)= 0 ( 0 ) t_sim=  152.958 sec\n"
     ]
    },
    {
     "name": "stdout",
     "output_type": "stream",
     "text": [
      "\n",
      "iter=0 : time= 0  Etot= 0.2498514114  Ekin= 0.249851   Epot= 4.09241e-07 : de= 0 ( 0 ) d(de)= 0 ( 0 ) t_sim=  9.53674e-07 sec\n",
      "iter=1 : time= 0.0625  Etot= 0.2498514114  Ekin= 0.249851   Epot= 4.09241e-07 : de= 0 ( 0 ) d(de)= 0 ( 0 ) t_sim=  9.60112 sec\n",
      "iter=2 : time= 0.125  Etot= 0.2498514114  Ekin= 0.249851   Epot= 4.09241e-07 : de= 0 ( 0 ) d(de)= 0 ( 0 ) t_sim=  19.0553 sec\n",
      "iter=3 : time= 0.1875  Etot= 0.2498514114  Ekin= 0.249851   Epot= 4.09241e-07 : de= 0 ( 0 ) d(de)= 0 ( 0 ) t_sim=  28.5046 sec\n",
      "iter=4 : time= 0.25  Etot= 0.2498514114  Ekin= 0.249851   Epot= 4.09241e-07 : de= 0 ( 0 ) d(de)= 0 ( 0 ) t_sim=  38.0085 sec\n",
      "iter=5 : time= 0.3125  Etot= 0.2498514114  Ekin= 0.249851   Epot= 4.09241e-07 : de= 0 ( 0 ) d(de)= 0 ( 0 ) t_sim=  47.5813 sec\n",
      "iter=6 : time= 0.375  Etot= 0.2498514114  Ekin= 0.249851   Epot= 4.09241e-07 : de= 0 ( 0 ) d(de)= 0 ( 0 ) t_sim=  57.1823 sec\n",
      "iter=7 : time= 0.4375  Etot= 0.2498514114  Ekin= 0.249851   Epot= 4.09241e-07 : de= 0 ( 0 ) d(de)= 0 ( 0 ) t_sim=  66.6755 sec\n",
      "iter=8 : time= 0.5  Etot= 0.2498514114  Ekin= 0.249851   Epot= 4.09241e-07 : de= 0 ( 0 ) d(de)= 0 ( 0 ) t_sim=  76.1678 sec\n",
      "iter=9 : time= 0.5625  Etot= 0.2498514114  Ekin= 0.249851   Epot= 4.09241e-07 : de= 0 ( 0 ) d(de)= 0 ( 0 ) t_sim=  85.6672 sec\n",
      "iter=10 : time= 0.625  Etot= 0.2498514114  Ekin= 0.249851   Epot= 4.09241e-07 : de= 0 ( 0 ) d(de)= 0 ( 0 ) t_sim=  95.2452 sec\n",
      "iter=11 : time= 0.6875  Etot= 0.2498514114  Ekin= 0.249851   Epot= 4.09241e-07 : de= 0 ( 0 ) d(de)= 0 ( 0 ) t_sim=  104.787 sec\n",
      "iter=12 : time= 0.75  Etot= 0.2498514114  Ekin= 0.249851   Epot= 4.09241e-07 : de= 0 ( 0 ) d(de)= 0 ( 0 ) t_sim=  114.388 sec\n",
      "iter=13 : time= 0.8125  Etot= 0.2498514114  Ekin= 0.249851   Epot= 4.09241e-07 : de= 0 ( 0 ) d(de)= 0 ( 0 ) t_sim=  123.935 sec\n",
      "iter=14 : time= 0.875  Etot= 0.2498514114  Ekin= 0.249851   Epot= 4.09241e-07 : de= 0 ( 0 ) d(de)= 0 ( 0 ) t_sim=  133.57 sec\n",
      "iter=15 : time= 0.9375  Etot= 0.2498514114  Ekin= 0.249851   Epot= 4.09241e-07 : de= 0 ( 0 ) d(de)= 0 ( 0 ) t_sim=  143.122 sec\n",
      "iter=16 : time= 1  Etot= 0.2498514114  Ekin= 0.249851   Epot= 4.09241e-07 : de= 0 ( 0 ) d(de)= 0 ( 0 ) t_sim=  152.744 sec\n",
      "iter=16 : time= 1  Etot= 0.2498514114  Ekin= 0.249851   Epot= 4.09241e-07 : de= 0 ( 0 ) d(de)= 0 ( 0 ) t_sim=  152.958 sec\n",
      "../Bonsai/build/bonsai2_slowdust  --direct --plummer 10000000 --snapname data/plummer_snap_mpi --snapiter 0.0625 -T 1 -dt 0.0625 --eps 0.05\n"
     ]
    },
    {
     "name": "stderr",
     "output_type": "stream",
     "text": [
      " Unknown ENV_VARIABLE:   -- Falling to basic forking method after MPI_Init, unsafe!\n",
      "Proc id: 0 @ Default , total processes: 1 (mpiInit) \n",
      "[INIT]\tUsed settings: \n",
      "[INIT]\tInput  filename \n",
      "[INIT]\tBonsai filename \n",
      "[INIT]\tLog filename gpuLog.log\n",
      "[INIT]\tTheta: \t\t0.75\t\teps: \t\t0.05\n",
      "[INIT]\tTimestep: \t0.0625\t\ttEnd: \t\t1\n",
      "[INIT]\titerEnd: \t1073741824\n",
      "[INIT]\tUse MPI-IO: \tNO\n",
      "[INIT]\tsnapshotFile: \tdata/plummer_snap_mpi\tsnapshotIter: \t0.0625\n",
      "[INIT]\tInput file: \t\t\tdevID: \t\t0\n",
      "[INIT]\tRemove dist: \t-1\n",
      "[INIT]\tRebuild tree every 1 timestep\n",
      "[INIT]\tRuntime logging is DISABLED \n",
      "[INIT]\tDirect gravitation is ENABLED\n",
      "[INIT]\tCode is built WITHOUT MPI Support \n"
     ]
    },
    {
     "name": "stdout",
     "output_type": "stream",
     "text": [
      "Using Plummer model with n= 10000000 per process \n",
      "................................................................"
     ]
    },
    {
     "name": "stderr",
     "output_type": "stream",
     "text": [
      "Proc: 0 Bootup times: Tree/MPI: 0.194332 Threads/log: 8.70228e-05 IC-model: 0 \n",
      " Start iterating\n"
     ]
    },
    {
     "ename": "KeyboardInterrupt",
     "evalue": "",
     "output_type": "error",
     "traceback": [
      "\u001b[0;31m---------------------------------------------------------------------------\u001b[0m",
      "\u001b[0;31mKeyboardInterrupt\u001b[0m                         Traceback (most recent call last)",
      "Cell \u001b[0;32mIn[16], line 23\u001b[0m\n\u001b[1;32m     21\u001b[0m nRed\u001b[38;5;241m=\u001b[39m\u001b[38;5;28mint\u001b[39m(nStars\u001b[38;5;241m/\u001b[39m\u001b[38;5;241m2\u001b[39m)\n\u001b[1;32m     22\u001b[0m clear_data()\n\u001b[0;32m---> 23\u001b[0m \u001b[43mbonsai\u001b[49m\u001b[38;5;241;43m.\u001b[39;49m\u001b[43mrun_plummer\u001b[49m\u001b[43m(\u001b[49m\u001b[43mnStars\u001b[49m\u001b[43m,\u001b[49m\u001b[43mdata_prefix\u001b[49m\u001b[43m,\u001b[49m\u001b[43mbonsai_bin\u001b[49m\u001b[38;5;241;43m=\u001b[39;49m\u001b[43mbonsai_binary\u001b[49m\u001b[43m,\u001b[49m\u001b[43mT\u001b[49m\u001b[38;5;241;43m=\u001b[39;49m\u001b[43mT_\u001b[49m\u001b[43m,\u001b[49m\u001b[43mdt\u001b[49m\u001b[38;5;241;43m=\u001b[39;49m\u001b[43mstep\u001b[49m\u001b[43m,\u001b[49m\u001b[43mdSnap\u001b[49m\u001b[38;5;241;43m=\u001b[39;49m\u001b[43mstep\u001b[49m\u001b[43m,\u001b[49m\u001b[43mdirect\u001b[49m\u001b[38;5;241;43m=\u001b[39;49m\u001b[43mdir_comp\u001b[49m\u001b[43m)\u001b[49m\n\u001b[1;32m     24\u001b[0m parse_list\u001b[38;5;241m.\u001b[39mappend(bonsai\u001b[38;5;241m.\u001b[39mparse_save_log(outfile\u001b[38;5;241m=\u001b[39m\u001b[38;5;28;01mNone\u001b[39;00m))\n",
      "File \u001b[0;32m~/repos/bonsai_phys241/bonsai.py:110\u001b[0m, in \u001b[0;36mrun_plummer\u001b[0;34m(nParticles, snap_prefix, T, dt, dSnap, eps, bonsai_bin, mpi_n, mpi_log_file, direct)\u001b[0m\n\u001b[1;32m     <a href='file:///home/home-server/repos/bonsai_phys241/bonsai.py?line=93'>94</a>\u001b[0m \u001b[39mdef\u001b[39;00m \u001b[39mrun_plummer\u001b[39m(nParticles,snap_prefix,T\u001b[39m=\u001b[39m\u001b[39m2\u001b[39m,dt\u001b[39m=\u001b[39m\u001b[39m0.0625\u001b[39m, dSnap \u001b[39m=\u001b[39m \u001b[39m0.0625\u001b[39m, eps\u001b[39m=\u001b[39m\u001b[39m0.05\u001b[39m, bonsai_bin \u001b[39m=\u001b[39m \u001b[39mNone\u001b[39;00m, mpi_n \u001b[39m=\u001b[39m \u001b[39m0\u001b[39m, mpi_log_file \u001b[39m=\u001b[39m \u001b[39m\"\u001b[39m\u001b[39mmpiout.log\u001b[39m\u001b[39m\"\u001b[39m,direct\u001b[39m=\u001b[39m\u001b[39mNone\u001b[39;00m):\n\u001b[1;32m     <a href='file:///home/home-server/repos/bonsai_phys241/bonsai.py?line=94'>95</a>\u001b[0m \u001b[39m\t\u001b[39m\u001b[39m\"\"\"\u001b[39;00m\n\u001b[1;32m     <a href='file:///home/home-server/repos/bonsai_phys241/bonsai.py?line=95'>96</a>\u001b[0m \u001b[39m\tRun a Bonsai's built in plummer model\u001b[39;00m\n\u001b[1;32m     <a href='file:///home/home-server/repos/bonsai_phys241/bonsai.py?line=96'>97</a>\u001b[0m \n\u001b[0;32m   (...)\u001b[0m\n\u001b[1;32m    <a href='file:///home/home-server/repos/bonsai_phys241/bonsai.py?line=107'>108</a>\u001b[0m \u001b[39m\t@returns\tNone\u001b[39;00m\n\u001b[1;32m    <a href='file:///home/home-server/repos/bonsai_phys241/bonsai.py?line=108'>109</a>\u001b[0m \u001b[39m\t\"\"\"\u001b[39;00m\n\u001b[0;32m--> <a href='file:///home/home-server/repos/bonsai_phys241/bonsai.py?line=109'>110</a>\u001b[0m \trun_mode(\u001b[39m\"\u001b[39;49m\u001b[39mplummer\u001b[39;49m\u001b[39m\"\u001b[39;49m,nParticles,snap_prefix,T,dt, dSnap, eps, bonsai_bin, mpi_n,mpi_log_file,direct)\n",
      "File \u001b[0;32m~/repos/bonsai_phys241/bonsai.py:88\u001b[0m, in \u001b[0;36mrun_mode\u001b[0;34m(mode, nPart_or_file, snap_prefix, T, dt, dSnap, eps, bonsai_bin, mpi_n, mpi_log_file, direct)\u001b[0m\n\u001b[1;32m     <a href='file:///home/home-server/repos/bonsai_phys241/bonsai.py?line=84'>85</a>\u001b[0m \u001b[39melse\u001b[39;00m:\n\u001b[1;32m     <a href='file:///home/home-server/repos/bonsai_phys241/bonsai.py?line=85'>86</a>\u001b[0m \t\u001b[39m#single GPU mode\u001b[39;00m\n\u001b[1;32m     <a href='file:///home/home-server/repos/bonsai_phys241/bonsai.py?line=86'>87</a>\u001b[0m \t\u001b[39mprint\u001b[39m(\u001b[39mf\u001b[39m\u001b[39m\"\u001b[39m\u001b[39m{\u001b[39;00mbonsai_bin\u001b[39m}\u001b[39;00m\u001b[39m \u001b[39m\u001b[39m{\u001b[39;00m\u001b[39m'\u001b[39m\u001b[39m--log\u001b[39m\u001b[39m'\u001b[39m\u001b[39m \u001b[39m\u001b[39mif\u001b[39;00m\u001b[39m \u001b[39mlog\u001b[39m \u001b[39m\u001b[39melse\u001b[39;00m\u001b[39m \u001b[39m\u001b[39m'\u001b[39m\u001b[39m'\u001b[39m\u001b[39m}\u001b[39;00m\u001b[39m \u001b[39m\u001b[39m{\u001b[39;00m\u001b[39m'\u001b[39m\u001b[39m--direct\u001b[39m\u001b[39m'\u001b[39m\u001b[39m \u001b[39m\u001b[39mif\u001b[39;00m\u001b[39m \u001b[39mdirect\u001b[39m \u001b[39m\u001b[39melse\u001b[39;00m\u001b[39m \u001b[39m\u001b[39m'\u001b[39m\u001b[39m'\u001b[39m\u001b[39m}\u001b[39;00m\u001b[39m --\u001b[39m\u001b[39m{\u001b[39;00mmode\u001b[39m}\u001b[39;00m\u001b[39m \u001b[39m\u001b[39m{\u001b[39;00m\u001b[39mstr\u001b[39m(nPart_or_file)\u001b[39m}\u001b[39;00m\u001b[39m --snapname \u001b[39m\u001b[39m{\u001b[39;00msnap_prefix\u001b[39m}\u001b[39;00m\u001b[39m --snapiter \u001b[39m\u001b[39m{\u001b[39;00m\u001b[39mstr\u001b[39m(dSnap)\u001b[39m}\u001b[39;00m\u001b[39m -T \u001b[39m\u001b[39m{\u001b[39;00m\u001b[39mstr\u001b[39m(T)\u001b[39m}\u001b[39;00m\u001b[39m -dt \u001b[39m\u001b[39m{\u001b[39;00m\u001b[39mstr\u001b[39m(dt)\u001b[39m}\u001b[39;00m\u001b[39m --eps \u001b[39m\u001b[39m{\u001b[39;00m\u001b[39mstr\u001b[39m(eps)\u001b[39m}\u001b[39;00m\u001b[39m\"\u001b[39m)\n\u001b[0;32m---> <a href='file:///home/home-server/repos/bonsai_phys241/bonsai.py?line=87'>88</a>\u001b[0m \t\u001b[39mif\u001b[39;00m call([bonsai_bin,\u001b[39m'\u001b[39;49m\u001b[39m--log\u001b[39;49m\u001b[39m'\u001b[39;49m \u001b[39mif\u001b[39;49;00m log \u001b[39melse\u001b[39;49;00m \u001b[39m'\u001b[39;49m\u001b[39m'\u001b[39;49m,\u001b[39m'\u001b[39;49m\u001b[39m--direct\u001b[39;49m\u001b[39m'\u001b[39;49m \u001b[39mif\u001b[39;49;00m direct \u001b[39melse\u001b[39;49;00m \u001b[39m'\u001b[39;49m\u001b[39m'\u001b[39;49m,\u001b[39m'\u001b[39;49m\u001b[39m--\u001b[39;49m\u001b[39m'\u001b[39;49m\u001b[39m+\u001b[39;49mmode,\u001b[39mstr\u001b[39;49m(nPart_or_file),\u001b[39m'\u001b[39;49m\u001b[39m--snapname\u001b[39;49m\u001b[39m'\u001b[39;49m,snap_prefix,\u001b[39m'\u001b[39;49m\u001b[39m--snapiter\u001b[39;49m\u001b[39m'\u001b[39;49m,\u001b[39mstr\u001b[39;49m(dSnap),\u001b[39m'\u001b[39;49m\u001b[39m-T\u001b[39;49m\u001b[39m'\u001b[39;49m,\u001b[39mstr\u001b[39;49m(T),\u001b[39m'\u001b[39;49m\u001b[39m-dt\u001b[39;49m\u001b[39m'\u001b[39;49m,\u001b[39mstr\u001b[39;49m(dt),\u001b[39m'\u001b[39;49m\u001b[39m--eps\u001b[39;49m\u001b[39m'\u001b[39;49m,\u001b[39mstr\u001b[39;49m(eps),]):\n\u001b[1;32m     <a href='file:///home/home-server/repos/bonsai_phys241/bonsai.py?line=88'>89</a>\u001b[0m \t\t\u001b[39mreturn\u001b[39;00m \u001b[39m\"\u001b[39m\u001b[39mError\u001b[39m\u001b[39m\"\u001b[39m\n\u001b[1;32m     <a href='file:///home/home-server/repos/bonsai_phys241/bonsai.py?line=89'>90</a>\u001b[0m \t\u001b[39melse\u001b[39;00m:\n",
      "File \u001b[0;32m/usr/lib/python3.10/subprocess.py:347\u001b[0m, in \u001b[0;36mcall\u001b[0;34m(timeout, *popenargs, **kwargs)\u001b[0m\n\u001b[1;32m    <a href='file:///usr/lib/python3.10/subprocess.py?line=344'>345</a>\u001b[0m \u001b[39mwith\u001b[39;00m Popen(\u001b[39m*\u001b[39mpopenargs, \u001b[39m*\u001b[39m\u001b[39m*\u001b[39mkwargs) \u001b[39mas\u001b[39;00m p:\n\u001b[1;32m    <a href='file:///usr/lib/python3.10/subprocess.py?line=345'>346</a>\u001b[0m     \u001b[39mtry\u001b[39;00m:\n\u001b[0;32m--> <a href='file:///usr/lib/python3.10/subprocess.py?line=346'>347</a>\u001b[0m         \u001b[39mreturn\u001b[39;00m p\u001b[39m.\u001b[39;49mwait(timeout\u001b[39m=\u001b[39;49mtimeout)\n\u001b[1;32m    <a href='file:///usr/lib/python3.10/subprocess.py?line=347'>348</a>\u001b[0m     \u001b[39mexcept\u001b[39;00m:  \u001b[39m# Including KeyboardInterrupt, wait handled that.\u001b[39;00m\n\u001b[1;32m    <a href='file:///usr/lib/python3.10/subprocess.py?line=348'>349</a>\u001b[0m         p\u001b[39m.\u001b[39mkill()\n",
      "File \u001b[0;32m/usr/lib/python3.10/subprocess.py:1207\u001b[0m, in \u001b[0;36mPopen.wait\u001b[0;34m(self, timeout)\u001b[0m\n\u001b[1;32m   <a href='file:///usr/lib/python3.10/subprocess.py?line=1204'>1205</a>\u001b[0m     endtime \u001b[39m=\u001b[39m _time() \u001b[39m+\u001b[39m timeout\n\u001b[1;32m   <a href='file:///usr/lib/python3.10/subprocess.py?line=1205'>1206</a>\u001b[0m \u001b[39mtry\u001b[39;00m:\n\u001b[0;32m-> <a href='file:///usr/lib/python3.10/subprocess.py?line=1206'>1207</a>\u001b[0m     \u001b[39mreturn\u001b[39;00m \u001b[39mself\u001b[39;49m\u001b[39m.\u001b[39;49m_wait(timeout\u001b[39m=\u001b[39;49mtimeout)\n\u001b[1;32m   <a href='file:///usr/lib/python3.10/subprocess.py?line=1207'>1208</a>\u001b[0m \u001b[39mexcept\u001b[39;00m \u001b[39mKeyboardInterrupt\u001b[39;00m:\n\u001b[1;32m   <a href='file:///usr/lib/python3.10/subprocess.py?line=1208'>1209</a>\u001b[0m     \u001b[39m# https://bugs.python.org/issue25942\u001b[39;00m\n\u001b[1;32m   <a href='file:///usr/lib/python3.10/subprocess.py?line=1209'>1210</a>\u001b[0m     \u001b[39m# The first keyboard interrupt waits briefly for the child to\u001b[39;00m\n\u001b[1;32m   <a href='file:///usr/lib/python3.10/subprocess.py?line=1210'>1211</a>\u001b[0m     \u001b[39m# exit under the common assumption that it also received the ^C\u001b[39;00m\n\u001b[1;32m   <a href='file:///usr/lib/python3.10/subprocess.py?line=1211'>1212</a>\u001b[0m     \u001b[39m# generated SIGINT and will exit rapidly.\u001b[39;00m\n\u001b[1;32m   <a href='file:///usr/lib/python3.10/subprocess.py?line=1212'>1213</a>\u001b[0m     \u001b[39mif\u001b[39;00m timeout \u001b[39mis\u001b[39;00m \u001b[39mnot\u001b[39;00m \u001b[39mNone\u001b[39;00m:\n",
      "File \u001b[0;32m/usr/lib/python3.10/subprocess.py:1941\u001b[0m, in \u001b[0;36mPopen._wait\u001b[0;34m(self, timeout)\u001b[0m\n\u001b[1;32m   <a href='file:///usr/lib/python3.10/subprocess.py?line=1938'>1939</a>\u001b[0m \u001b[39mif\u001b[39;00m \u001b[39mself\u001b[39m\u001b[39m.\u001b[39mreturncode \u001b[39mis\u001b[39;00m \u001b[39mnot\u001b[39;00m \u001b[39mNone\u001b[39;00m:\n\u001b[1;32m   <a href='file:///usr/lib/python3.10/subprocess.py?line=1939'>1940</a>\u001b[0m     \u001b[39mbreak\u001b[39;00m  \u001b[39m# Another thread waited.\u001b[39;00m\n\u001b[0;32m-> <a href='file:///usr/lib/python3.10/subprocess.py?line=1940'>1941</a>\u001b[0m (pid, sts) \u001b[39m=\u001b[39m \u001b[39mself\u001b[39;49m\u001b[39m.\u001b[39;49m_try_wait(\u001b[39m0\u001b[39;49m)\n\u001b[1;32m   <a href='file:///usr/lib/python3.10/subprocess.py?line=1941'>1942</a>\u001b[0m \u001b[39m# Check the pid and loop as waitpid has been known to\u001b[39;00m\n\u001b[1;32m   <a href='file:///usr/lib/python3.10/subprocess.py?line=1942'>1943</a>\u001b[0m \u001b[39m# return 0 even without WNOHANG in odd situations.\u001b[39;00m\n\u001b[1;32m   <a href='file:///usr/lib/python3.10/subprocess.py?line=1943'>1944</a>\u001b[0m \u001b[39m# http://bugs.python.org/issue14396.\u001b[39;00m\n\u001b[1;32m   <a href='file:///usr/lib/python3.10/subprocess.py?line=1944'>1945</a>\u001b[0m \u001b[39mif\u001b[39;00m pid \u001b[39m==\u001b[39m \u001b[39mself\u001b[39m\u001b[39m.\u001b[39mpid:\n",
      "File \u001b[0;32m/usr/lib/python3.10/subprocess.py:1899\u001b[0m, in \u001b[0;36mPopen._try_wait\u001b[0;34m(self, wait_flags)\u001b[0m\n\u001b[1;32m   <a href='file:///usr/lib/python3.10/subprocess.py?line=1896'>1897</a>\u001b[0m \u001b[39m\u001b[39m\u001b[39m\"\"\"All callers to this function MUST hold self._waitpid_lock.\"\"\"\u001b[39;00m\n\u001b[1;32m   <a href='file:///usr/lib/python3.10/subprocess.py?line=1897'>1898</a>\u001b[0m \u001b[39mtry\u001b[39;00m:\n\u001b[0;32m-> <a href='file:///usr/lib/python3.10/subprocess.py?line=1898'>1899</a>\u001b[0m     (pid, sts) \u001b[39m=\u001b[39m os\u001b[39m.\u001b[39;49mwaitpid(\u001b[39mself\u001b[39;49m\u001b[39m.\u001b[39;49mpid, wait_flags)\n\u001b[1;32m   <a href='file:///usr/lib/python3.10/subprocess.py?line=1899'>1900</a>\u001b[0m \u001b[39mexcept\u001b[39;00m \u001b[39mChildProcessError\u001b[39;00m:\n\u001b[1;32m   <a href='file:///usr/lib/python3.10/subprocess.py?line=1900'>1901</a>\u001b[0m     \u001b[39m# This happens if SIGCLD is set to be ignored or waiting\u001b[39;00m\n\u001b[1;32m   <a href='file:///usr/lib/python3.10/subprocess.py?line=1901'>1902</a>\u001b[0m     \u001b[39m# for child processes has otherwise been disabled for our\u001b[39;00m\n\u001b[1;32m   <a href='file:///usr/lib/python3.10/subprocess.py?line=1902'>1903</a>\u001b[0m     \u001b[39m# process.  This child is dead, we can't get the status.\u001b[39;00m\n\u001b[1;32m   <a href='file:///usr/lib/python3.10/subprocess.py?line=1903'>1904</a>\u001b[0m     pid \u001b[39m=\u001b[39m \u001b[39mself\u001b[39m\u001b[39m.\u001b[39mpid\n",
      "\u001b[0;31mKeyboardInterrupt\u001b[0m: "
     ]
    }
   ],
   "source": [
    "## Scaling for different n sizes!\n",
    "\n",
    "plot_title = \"RESULTS/plummer_all_pairs_n_vs_time\"\n",
    "data_prefix='data/plummer_snap_mpi'\n",
    "figure_prefix='fig/plummer'\n",
    "bonsai_binary = \"../Bonsai/build/bonsai2_slowdust\" # after cmake tools build\n",
    "\n",
    "# Bonsai config\n",
    "step = 0.0625/1\n",
    "T_ = 1\n",
    "\n",
    "# Plot\n",
    "dir_comp = True\n",
    "p_size = 1\n",
    "lim=5\n",
    "\n",
    "n_pows = [2,3,4,5,6]\n",
    "parse_list = []\n",
    "for i in n_pows:\n",
    "    nStars  = 10**i\n",
    "    nRed=int(nStars/2)\n",
    "    clear_data()\n",
    "    bonsai.run_plummer(nStars,data_prefix,bonsai_bin=bonsai_binary,T=T_,dt=step,dSnap=step,direct=dir_comp)\n",
    "    parse_list.append(bonsai.parse_save_log(outfile=None))"
   ]
  },
  {
   "cell_type": "code",
   "execution_count": 17,
   "metadata": {},
   "outputs": [],
   "source": [
    "token_arrays = {}\n",
    "for token in parse_list[0]:\n",
    "    token_arrays[token] = []\n",
    "    for parseds in parse_list:\n",
    "        # if parseds[token] == 0:\n",
    "        #     continue\n",
    "        token_arrays[token].append(parseds[token])\n",
    "\n",
    "# for tokens in token_arrays:\n",
    "#     print(tokens, token_arrays[tokens])\n",
    "counter = 0\n",
    "filename = plot_title + \"_{}.json\"\n",
    "while os.path.isfile(filename.format(counter)):\n",
    "    counter += 1\n",
    "filename = plot_title + \"_{}\"\n",
    "data_title_final = filename.format(counter)\n",
    "\n",
    "import json\n",
    "\n",
    "outfile = open(data_title_final + \".json\",\"w+\")\n",
    "outfile.write(json.dumps({\"n_pows\":n_pows,\"token_arrays\":token_arrays}, indent=4))\n",
    "outfile.close()\n"
   ]
  },
  {
   "cell_type": "code",
   "execution_count": 18,
   "metadata": {},
   "outputs": [],
   "source": [
    "use_keys = [\"Sorting\", \"Data-reordering\", \"Direct_gravity\"]\n",
    "            #Sorting, Moving, Traverse\n",
    "use_arrays =  {key: token_arrays[key] for key in use_keys}"
   ]
  },
  {
   "cell_type": "code",
   "execution_count": 19,
   "metadata": {},
   "outputs": [
    {
     "data": {
      "text/plain": [
       "{'Sorting': [0.000438144,\n",
       "  0.000418784,\n",
       "  0.000684032,\n",
       "  0.00151245,\n",
       "  0.008413180000000001],\n",
       " 'Data-reordering': [0.00023568,\n",
       "  0.000233216,\n",
       "  0.000359168,\n",
       "  0.00324502,\n",
       "  0.0514406],\n",
       " 'Direct_gravity': [0.0005668159999999999,\n",
       "  0.0013431680000000003,\n",
       "  0.01746301,\n",
       "  1.7011734,\n",
       "  157.81431999999998]}"
      ]
     },
     "execution_count": 19,
     "metadata": {},
     "output_type": "execute_result"
    }
   ],
   "source": [
    "use_arrays"
   ]
  },
  {
   "cell_type": "code",
   "execution_count": 22,
   "metadata": {},
   "outputs": [
    {
     "name": "stdout",
     "output_type": "stream",
     "text": [
      "[100, 1000, 10000, 100000, 1000000]\n"
     ]
    },
    {
     "data": {
      "image/png": "[encoded data removed]",
      "text/plain": [
       "<Figure size 640x480 with 1 Axes>"
      ]
     },
     "metadata": {},
     "output_type": "display_data"
    }
   ],
   "source": [
    "%matplotlib inline\n",
    "import matplotlib.pyplot as plt\n",
    "from matplotlib.ticker import ScalarFormatter\n",
    "import numpy as np\n",
    "\n",
    "x = []\n",
    "for n in n_pows:\n",
    "    x.append(10**n)\n",
    "print(x)\n",
    "\n",
    "fig, ax = plt.subplots()\n",
    "fig.suptitle('Plummer All Pairs | N particles vs time (s)', fontsize=12)\n",
    "ax.set_xlabel(\"N particles\")\n",
    "ax.set_ylabel(\"time (s)\")\n",
    "\n",
    "ax.grid(linestyle='-', linewidth=1)\n",
    "ax.set_yscale('log')\n",
    "for axis in [ax.xaxis, ax.yaxis]:\n",
    "    axis.set_major_formatter(ScalarFormatter())\n",
    "ax.set_xscale('symlog')\n",
    "\n",
    "for tokens in use_arrays:\n",
    "    ax.plot(x, token_arrays[tokens],label=tokens, marker ='*',linestyle='dashed')\n",
    "\n",
    "y = (x * np.log(x)) / 10**3\n",
    "ax.plot(x, y,label=\"nlogn\")\n",
    "\n",
    "ax.legend(loc=\"upper left\")\n",
    "plt.show()\n",
    "\n",
    "counter = 0\n",
    "filename = plot_title + \"_{}.png\"\n",
    "while os.path.isfile(filename.format(counter)):\n",
    "    counter += 1\n",
    "filename = plot_title + \"_{}\"\n",
    "plot_title_final = filename.format(counter)\n",
    "\n",
    "fig.savefig(plot_title_final+\".png\")\n",
    "\n",
    "plt.close()"
   ]
  },
  {
   "cell_type": "markdown",
   "metadata": {},
   "source": [
    "## "
   ]
  }
 ],
 "metadata": {
  "interpreter": {
   "hash": "31f2aee4e71d21fbe5cf8b01ff0e069b9275f58929596ceb00d14d90e3e16cd6"
  },
  "kernelspec": {
   "display_name": "Python 3.10.6 64-bit",
   "language": "python",
   "name": "python3"
  },
  "language_info": {
   "codemirror_mode": {
    "name": "ipython",
    "version": 3
   },
   "file_extension": ".py",
   "mimetype": "text/x-python",
   "name": "python",
   "nbconvert_exporter": "python",
   "pygments_lexer": "ipython3",
   "version": "3.10.6"
  },
  "orig_nbformat": 4
 },
 "nbformat": 4,
 "nbformat_minor": 2
}
