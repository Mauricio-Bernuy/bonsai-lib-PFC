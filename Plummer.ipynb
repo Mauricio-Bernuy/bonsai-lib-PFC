{
 "metadata": {
  "name": "Plummer"
 }, 
 "nbformat": 2, 
 "worksheets": [
  {
   "cells": [
    {
     "cell_type": "markdown", 
     "source": [
      "##Inner solar system web app (leapfrog):", 
      "###https://googledrive.com/host/0By3y5bc79qIyU2c0WE4tQVFTZHM/leapFrog/leapint.htm"
     ]
    }, 
    {
     "cell_type": "code", 
     "collapsed": true, 
     "input": [
      "#set up python modules (be sure to do this first)", 
      "import matplotlib", 
      "matplotlib.use('Agg')", 
      "from matplotlib import pyplot as plt", 
      "import numpy as np", 
      "from mpl_toolkits.mplot3d import axes3d", 
      "from IPython.core.display import Image", 
      "import io", 
      "import base64"
     ], 
     "language": "python", 
     "outputs": [], 
     "prompt_number": 40
    }, 
    {
     "cell_type": "code", 
     "collapsed": false, 
     "input": [
      "from IPython.core.display import HTML", 
      "import bonsai # my custom wrapper library", 
      "import tipsy # my custom .tipsy file utility"
     ], 
     "language": "python", 
     "outputs": [], 
     "prompt_number": 6
    }, 
    {
     "cell_type": "markdown", 
     "source": [
      "#SphereSimulation", 
      "## 500,000 Stars", 
      "## One GTX Titan", 
      "## 36.25 sec", 
      "(Includes Disk IO)"
     ]
    }, 
    {
     "cell_type": "code", 
     "collapsed": false, 
     "input": [
      "#sphere settings", 
      "step = 0.0625/5", 
      "nStars = 500000", 
      "data_prefix='data/sphere_snap_mpi' # make sure 'data' folder exists and is empty", 
      "figure_prefix='fig/sphere' # make sure 'fig' folder exists and is empty"
     ], 
     "language": "python", 
     "outputs": [], 
     "prompt_number": 2
    }, 
    {
     "cell_type": "code", 
     "collapsed": true, 
     "input": [
      "#run sumulation", 
      "bonsai.run_sphere(nStars,data_prefix,dt=step,dSnap=step) #36.25 sec with disk IO"
     ], 
     "language": "python", 
     "outputs": []
    }, 
    {
     "cell_type": "code", 
     "collapsed": true, 
     "input": [
      "#generate figures (can take longer than simulation)", 
      "tipsy.read_tipsy(data_prefix,figure_prefix) #no data is returned when we supply 'figure_prefix'"
     ], 
     "language": "python", 
     "outputs": [], 
     "prompt_number": 24
    }, 
    {
     "cell_type": "code", 
     "collapsed": false, 
     "input": [
      "#make move (requires ffmpeg and libx264)", 
      "tipsy.make_mp4(figure_prefix, 'sphere')"
     ], 
     "language": "python", 
     "outputs": [], 
     "prompt_number": 27
    }, 
    {
     "cell_type": "code", 
     "collapsed": false, 
     "input": [
      "#display video (from a file) in this notebook", 
      "import io, base64", 
      "video = io.open('sphere.mp4', 'r+b').read()", 
      "encoded = base64.b64encode(video)", 
      "HTML(data='''<video alt=\"test\" controls loop>", 
      "                <source src=\"data:video/mp4;base64,{0}\" type=\"video/mp4\" />", 
      "             </video>'''.format(encoded.decode('ascii')))"
     ], 
     "language": "python", 
     "outputs": [], 
     "prompt_number": 23
    }, 
    {
     "cell_type": "code", 
     "collapsed": false, 
     "input": [
      "#display video from internet", 
      "HTML(data='''<video alt=\"test\" controls loop>", 
      "                <source src=\"https://googledrive.com/host/0By3y5bc79qIyU2c0WE4tQVFTZHM/bonsai/sphere.mp4\" type=\"video/mp4\" />", 
      "             </video>''')"
     ], 
     "language": "python", 
     "outputs": [
      {
       "html": [
        "<video alt=\"test\" controls loop>", 
        "                <source src=\"https://googledrive.com/host/0By3y5bc79qIyU2c0WE4tQVFTZHM/bonsai/sphere.mp4\" type=\"video/mp4\" />", 
        "             </video>"
       ], 
       "output_type": "pyout", 
       "prompt_number": 33, 
       "text": [
        "<IPython.core.display.HTML at 0x33f754d0>"
       ]
      }
     ], 
     "prompt_number": 33
    }, 
    {
     "cell_type": "markdown", 
     "source": [
      "#Plummer Simulation", 
      "##500,000 Stars", 
      "##2 GTX Titans", 
      "###15.31 Sec", 
      "(Includes Disk IO)"
     ]
    }, 
    {
     "cell_type": "code", 
     "collapsed": true, 
     "input": [
      "#settings", 
      "step = 0.0625/5", 
      "data_prefix='data/plummer_snap_mpi'", 
      "figure_prefix='fig/plummer'", 
      "nStarsPerProcess = 250000 #when we run MPI this is number of stars per process", 
      "", 
      "bonsai.run_plummer(nStarsPerProcess,data_prefix,dt=step,dSnap=step,mpi_n=2) #15.31 sec runtime", 
      "tipsy.read_tipsy(data_prefix,figure_prefix)"
     ], 
     "language": "python", 
     "outputs": [], 
     "prompt_number": 28
    }, 
    {
     "cell_type": "code", 
     "collapsed": false, 
     "input": [
      "tipsy.make_mp4(figure_prefix,'plummer')"
     ], 
     "language": "python", 
     "outputs": [], 
     "prompt_number": 29
    }, 
    {
     "cell_type": "code", 
     "collapsed": false, 
     "input": [
      "#example of how to display video (from a file) in this ipython notebook", 
      "import io, base64", 
      "video = io.open('plummer.mp4', 'r+b').read()", 
      "encoded = base64.b64encode(video)", 
      "HTML(data='''<video alt=\"test\" controls loop>", 
      "                <source src=\"data:video/mp4;base64,{0}\" type=\"video/mp4\" />", 
      "             </video>'''.format(encoded.decode('ascii')))"
     ], 
     "language": "python", 
     "outputs": [], 
     "prompt_number": 32
    }, 
    {
     "cell_type": "code", 
     "collapsed": false, 
     "input": [
      "HTML(data='''<video alt=\"test\" controls loop>", 
      "                <source src=\"https://googledrive.com/host/0By3y5bc79qIyU2c0WE4tQVFTZHM/bonsai/plummer.mp4\" type=\"video/mp4\" />", 
      "             </video>''')"
     ], 
     "language": "python", 
     "outputs": [
      {
       "html": [
        "<video alt=\"test\" controls loop>", 
        "                <source src=\"https://googledrive.com/host/0By3y5bc79qIyU2c0WE4tQVFTZHM/bonsai/plummer.mp4\" type=\"video/mp4\" />", 
        "             </video>"
       ], 
       "output_type": "pyout", 
       "prompt_number": 34, 
       "text": [
        "<IPython.core.display.HTML at 0x33f75810>"
       ]
      }
     ], 
     "prompt_number": 34
    }, 
    {
     "cell_type": "code", 
     "collapsed": false, 
     "input": [
      "plummer = tipsy.Stars(data_prefix+\"_00000.0000\")"
     ], 
     "language": "python", 
     "outputs": [
      {
       "output_type": "stream", 
       "stream": "stdout", 
       "text": [
        "Loading Header (data/plummer_snap_mpi_00000.0000)... time:0.000000, nTot:500000, nStar:500000"
       ]
      }
     ], 
     "prompt_number": 39
    }, 
    {
     "cell_type": "code", 
     "collapsed": false, 
     "input": [
      "import matplotlib.pyplot as plt", 
      "#plt.plot(plummer.mass)"
     ], 
     "language": "python", 
     "outputs": [], 
     "prompt_number": 46
    }, 
    {
     "cell_type": "code", 
     "collapsed": false, 
     "input": [
      "", 
      "plummer.mass"
     ], 
     "language": "python", 
     "outputs": [
      {
       "output_type": "pyout", 
       "prompt_number": 47, 
       "text": [
        "array([  1.99999999e-06,   1.99999999e-06,   1.99999999e-06, ...,", 
        "         1.99999999e-06,   1.99999999e-06,   1.99999999e-06], dtype=float32)"
       ]
      }
     ], 
     "prompt_number": 47
    }, 
    {
     "cell_type": "code", 
     "collapsed": false, 
     "input": [
      "reload(tipsy)"
     ], 
     "language": "python", 
     "outputs": [
      {
       "output_type": "pyout", 
       "prompt_number": 72, 
       "text": [
        "<module 'tipsy' from 'tipsy.py'>"
       ]
      }
     ], 
     "prompt_number": 72
    }, 
    {
     "cell_type": "code", 
     "collapsed": false, 
     "input": [
      "tipsy.txt2tipsy('initial/initial_cartwheel_new.data','initial/initial_cartwheel.tipsy')", 
      "#f = open('initial/initial_cartwheel_new.data','r')"
     ], 
     "language": "python", 
     "outputs": [
      {
       "output_type": "pyout", 
       "prompt_number": 73, 
       "text": [
        "{'dt': 0.1, 'eps2': 3.333333e-05, 'eta': 0.02, 'nStars': 400002, 'tmax': 30.0}"
       ]
      }
     ], 
     "prompt_number": 73
    }, 
    {
     "cell_type": "code", 
     "collapsed": false, 
     "input": [
      ""
     ], 
     "language": "python", 
     "outputs": [], 
     "prompt_number": 58
    }, 
    {
     "cell_type": "code", 
     "collapsed": false, 
     "input": [], 
     "language": "python", 
     "outputs": [
      {
       "output_type": "pyout", 
       "prompt_number": 63, 
       "text": [
        "3.333333e-05"
       ]
      }
     ], 
     "prompt_number": 63
    }, 
    {
     "cell_type": "code", 
     "collapsed": true, 
     "input": [], 
     "language": "python", 
     "outputs": []
    }
   ]
  }
 ]
}